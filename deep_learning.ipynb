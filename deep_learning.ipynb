{
  "cells": [
    {
      "cell_type": "code",
      "execution_count": null,
      "metadata": {
        "colab": {
          "base_uri": "https://localhost:8080/",
          "height": 1000
        },
        "collapsed": true,
        "id": "2CjVv6Ss07p8",
        "outputId": "6d4752d8-73e2-4ece-a1ee-17ca6b810df8"
      },
      "outputs": [
        {
          "name": "stdout",
          "output_type": "stream",
          "text": [
            "Create sweep with ID: bwg3azdf\n",
            "Sweep URL: https://wandb.ai/bgorai005-iit-madras/feedforward-nn/sweeps/bwg3azdf\n"
          ]
        },
        {
          "name": "stderr",
          "output_type": "stream",
          "text": [
            "\u001b[34m\u001b[1mwandb\u001b[0m: Agent Starting Run: 0v1ka65w with config:\n",
            "\u001b[34m\u001b[1mwandb\u001b[0m: \tnum_hidden_layers: 1\n",
            "\u001b[34m\u001b[1mwandb\u001b[0m: \tnum_neurons: 32\n"
          ]
        },
        {
          "data": {
            "text/html": [
              "Tracking run with wandb version 0.19.7"
            ],
            "text/plain": [
              "<IPython.core.display.HTML object>"
            ]
          },
          "metadata": {},
          "output_type": "display_data"
        },
        {
          "data": {
            "text/html": [
              "Run data is saved locally in <code>/content/wandb/run-20250224_092314-0v1ka65w</code>"
            ],
            "text/plain": [
              "<IPython.core.display.HTML object>"
            ]
          },
          "metadata": {},
          "output_type": "display_data"
        },
        {
          "data": {
            "text/html": [
              "Syncing run <strong><a href='https://wandb.ai/bgorai005-iit-madras/feedforward-nn/runs/0v1ka65w' target=\"_blank\">chocolate-sweep-1</a></strong> to <a href='https://wandb.ai/bgorai005-iit-madras/feedforward-nn' target=\"_blank\">Weights & Biases</a> (<a href='https://wandb.me/developer-guide' target=\"_blank\">docs</a>)<br>Sweep page: <a href='https://wandb.ai/bgorai005-iit-madras/feedforward-nn/sweeps/bwg3azdf' target=\"_blank\">https://wandb.ai/bgorai005-iit-madras/feedforward-nn/sweeps/bwg3azdf</a>"
            ],
            "text/plain": [
              "<IPython.core.display.HTML object>"
            ]
          },
          "metadata": {},
          "output_type": "display_data"
        },
        {
          "data": {
            "text/html": [
              " View project at <a href='https://wandb.ai/bgorai005-iit-madras/feedforward-nn' target=\"_blank\">https://wandb.ai/bgorai005-iit-madras/feedforward-nn</a>"
            ],
            "text/plain": [
              "<IPython.core.display.HTML object>"
            ]
          },
          "metadata": {},
          "output_type": "display_data"
        },
        {
          "data": {
            "text/html": [
              " View sweep at <a href='https://wandb.ai/bgorai005-iit-madras/feedforward-nn/sweeps/bwg3azdf' target=\"_blank\">https://wandb.ai/bgorai005-iit-madras/feedforward-nn/sweeps/bwg3azdf</a>"
            ],
            "text/plain": [
              "<IPython.core.display.HTML object>"
            ]
          },
          "metadata": {},
          "output_type": "display_data"
        },
        {
          "data": {
            "text/html": [
              " View run at <a href='https://wandb.ai/bgorai005-iit-madras/feedforward-nn/runs/0v1ka65w' target=\"_blank\">https://wandb.ai/bgorai005-iit-madras/feedforward-nn/runs/0v1ka65w</a>"
            ],
            "text/plain": [
              "<IPython.core.display.HTML object>"
            ]
          },
          "metadata": {},
          "output_type": "display_data"
        },
        {
          "data": {
            "text/html": [],
            "text/plain": [
              "<IPython.core.display.HTML object>"
            ]
          },
          "metadata": {},
          "output_type": "display_data"
        },
        {
          "data": {
            "text/html": [
              "<br>    <style><br>        .wandb-row {<br>            display: flex;<br>            flex-direction: row;<br>            flex-wrap: wrap;<br>            justify-content: flex-start;<br>            width: 100%;<br>        }<br>        .wandb-col {<br>            display: flex;<br>            flex-direction: column;<br>            flex-basis: 100%;<br>            flex: 1;<br>            padding: 10px;<br>        }<br>    </style><br><div class=\"wandb-row\"><div class=\"wandb-col\"><h3>Run history:</h3><br/><table class=\"wandb\"><tr><td>sample_image_quality</td><td>▁</td></tr></table><br/></div><div class=\"wandb-col\"><h3>Run summary:</h3><br/><table class=\"wandb\"><tr><td>sample_image_quality</td><td>0.50199</td></tr></table><br/></div></div>"
            ],
            "text/plain": [
              "<IPython.core.display.HTML object>"
            ]
          },
          "metadata": {},
          "output_type": "display_data"
        },
        {
          "data": {
            "text/html": [
              " View run <strong style=\"color:#cdcd00\">chocolate-sweep-1</strong> at: <a href='https://wandb.ai/bgorai005-iit-madras/feedforward-nn/runs/0v1ka65w' target=\"_blank\">https://wandb.ai/bgorai005-iit-madras/feedforward-nn/runs/0v1ka65w</a><br> View project at: <a href='https://wandb.ai/bgorai005-iit-madras/feedforward-nn' target=\"_blank\">https://wandb.ai/bgorai005-iit-madras/feedforward-nn</a><br>Synced 5 W&B file(s), 10 media file(s), 0 artifact file(s) and 0 other file(s)"
            ],
            "text/plain": [
              "<IPython.core.display.HTML object>"
            ]
          },
          "metadata": {},
          "output_type": "display_data"
        },
        {
          "data": {
            "text/html": [
              "Find logs at: <code>./wandb/run-20250224_092314-0v1ka65w/logs</code>"
            ],
            "text/plain": [
              "<IPython.core.display.HTML object>"
            ]
          },
          "metadata": {},
          "output_type": "display_data"
        },
        {
          "name": "stderr",
          "output_type": "stream",
          "text": [
            "\u001b[34m\u001b[1mwandb\u001b[0m: Agent Starting Run: m7hbzmon with config:\n",
            "\u001b[34m\u001b[1mwandb\u001b[0m: \tnum_hidden_layers: 3\n",
            "\u001b[34m\u001b[1mwandb\u001b[0m: \tnum_neurons: 32\n"
          ]
        },
        {
          "data": {
            "text/html": [
              "Tracking run with wandb version 0.19.7"
            ],
            "text/plain": [
              "<IPython.core.display.HTML object>"
            ]
          },
          "metadata": {},
          "output_type": "display_data"
        },
        {
          "data": {
            "text/html": [
              "Run data is saved locally in <code>/content/wandb/run-20250224_092319-m7hbzmon</code>"
            ],
            "text/plain": [
              "<IPython.core.display.HTML object>"
            ]
          },
          "metadata": {},
          "output_type": "display_data"
        },
        {
          "data": {
            "text/html": [
              "Syncing run <strong><a href='https://wandb.ai/bgorai005-iit-madras/feedforward-nn/runs/m7hbzmon' target=\"_blank\">magic-sweep-2</a></strong> to <a href='https://wandb.ai/bgorai005-iit-madras/feedforward-nn' target=\"_blank\">Weights & Biases</a> (<a href='https://wandb.me/developer-guide' target=\"_blank\">docs</a>)<br>Sweep page: <a href='https://wandb.ai/bgorai005-iit-madras/feedforward-nn/sweeps/bwg3azdf' target=\"_blank\">https://wandb.ai/bgorai005-iit-madras/feedforward-nn/sweeps/bwg3azdf</a>"
            ],
            "text/plain": [
              "<IPython.core.display.HTML object>"
            ]
          },
          "metadata": {},
          "output_type": "display_data"
        },
        {
          "data": {
            "text/html": [
              " View project at <a href='https://wandb.ai/bgorai005-iit-madras/feedforward-nn' target=\"_blank\">https://wandb.ai/bgorai005-iit-madras/feedforward-nn</a>"
            ],
            "text/plain": [
              "<IPython.core.display.HTML object>"
            ]
          },
          "metadata": {},
          "output_type": "display_data"
        },
        {
          "data": {
            "text/html": [
              " View sweep at <a href='https://wandb.ai/bgorai005-iit-madras/feedforward-nn/sweeps/bwg3azdf' target=\"_blank\">https://wandb.ai/bgorai005-iit-madras/feedforward-nn/sweeps/bwg3azdf</a>"
            ],
            "text/plain": [
              "<IPython.core.display.HTML object>"
            ]
          },
          "metadata": {},
          "output_type": "display_data"
        },
        {
          "data": {
            "text/html": [
              " View run at <a href='https://wandb.ai/bgorai005-iit-madras/feedforward-nn/runs/m7hbzmon' target=\"_blank\">https://wandb.ai/bgorai005-iit-madras/feedforward-nn/runs/m7hbzmon</a>"
            ],
            "text/plain": [
              "<IPython.core.display.HTML object>"
            ]
          },
          "metadata": {},
          "output_type": "display_data"
        },
        {
          "data": {
            "text/html": [],
            "text/plain": [
              "<IPython.core.display.HTML object>"
            ]
          },
          "metadata": {},
          "output_type": "display_data"
        },
        {
          "data": {
            "text/html": [
              "<br>    <style><br>        .wandb-row {<br>            display: flex;<br>            flex-direction: row;<br>            flex-wrap: wrap;<br>            justify-content: flex-start;<br>            width: 100%;<br>        }<br>        .wandb-col {<br>            display: flex;<br>            flex-direction: column;<br>            flex-basis: 100%;<br>            flex: 1;<br>            padding: 10px;<br>        }<br>    </style><br><div class=\"wandb-row\"><div class=\"wandb-col\"><h3>Run history:</h3><br/><table class=\"wandb\"><tr><td>sample_image_quality</td><td>▁</td></tr></table><br/></div><div class=\"wandb-col\"><h3>Run summary:</h3><br/><table class=\"wandb\"><tr><td>sample_image_quality</td><td>0.97007</td></tr></table><br/></div></div>"
            ],
            "text/plain": [
              "<IPython.core.display.HTML object>"
            ]
          },
          "metadata": {},
          "output_type": "display_data"
        },
        {
          "data": {
            "text/html": [
              " View run <strong style=\"color:#cdcd00\">magic-sweep-2</strong> at: <a href='https://wandb.ai/bgorai005-iit-madras/feedforward-nn/runs/m7hbzmon' target=\"_blank\">https://wandb.ai/bgorai005-iit-madras/feedforward-nn/runs/m7hbzmon</a><br> View project at: <a href='https://wandb.ai/bgorai005-iit-madras/feedforward-nn' target=\"_blank\">https://wandb.ai/bgorai005-iit-madras/feedforward-nn</a><br>Synced 5 W&B file(s), 10 media file(s), 0 artifact file(s) and 0 other file(s)"
            ],
            "text/plain": [
              "<IPython.core.display.HTML object>"
            ]
          },
          "metadata": {},
          "output_type": "display_data"
        },
        {
          "data": {
            "text/html": [
              "Find logs at: <code>./wandb/run-20250224_092319-m7hbzmon/logs</code>"
            ],
            "text/plain": [
              "<IPython.core.display.HTML object>"
            ]
          },
          "metadata": {},
          "output_type": "display_data"
        },
        {
          "name": "stderr",
          "output_type": "stream",
          "text": [
            "\u001b[34m\u001b[1mwandb\u001b[0m: Agent Starting Run: lhdxnuya with config:\n",
            "\u001b[34m\u001b[1mwandb\u001b[0m: \tnum_hidden_layers: 3\n",
            "\u001b[34m\u001b[1mwandb\u001b[0m: \tnum_neurons: 32\n"
          ]
        },
        {
          "data": {
            "text/html": [
              "Tracking run with wandb version 0.19.7"
            ],
            "text/plain": [
              "<IPython.core.display.HTML object>"
            ]
          },
          "metadata": {},
          "output_type": "display_data"
        },
        {
          "data": {
            "text/html": [
              "Run data is saved locally in <code>/content/wandb/run-20250224_092325-lhdxnuya</code>"
            ],
            "text/plain": [
              "<IPython.core.display.HTML object>"
            ]
          },
          "metadata": {},
          "output_type": "display_data"
        },
        {
          "data": {
            "text/html": [
              "Syncing run <strong><a href='https://wandb.ai/bgorai005-iit-madras/feedforward-nn/runs/lhdxnuya' target=\"_blank\">worthy-sweep-3</a></strong> to <a href='https://wandb.ai/bgorai005-iit-madras/feedforward-nn' target=\"_blank\">Weights & Biases</a> (<a href='https://wandb.me/developer-guide' target=\"_blank\">docs</a>)<br>Sweep page: <a href='https://wandb.ai/bgorai005-iit-madras/feedforward-nn/sweeps/bwg3azdf' target=\"_blank\">https://wandb.ai/bgorai005-iit-madras/feedforward-nn/sweeps/bwg3azdf</a>"
            ],
            "text/plain": [
              "<IPython.core.display.HTML object>"
            ]
          },
          "metadata": {},
          "output_type": "display_data"
        },
        {
          "data": {
            "text/html": [
              " View project at <a href='https://wandb.ai/bgorai005-iit-madras/feedforward-nn' target=\"_blank\">https://wandb.ai/bgorai005-iit-madras/feedforward-nn</a>"
            ],
            "text/plain": [
              "<IPython.core.display.HTML object>"
            ]
          },
          "metadata": {},
          "output_type": "display_data"
        },
        {
          "data": {
            "text/html": [
              " View sweep at <a href='https://wandb.ai/bgorai005-iit-madras/feedforward-nn/sweeps/bwg3azdf' target=\"_blank\">https://wandb.ai/bgorai005-iit-madras/feedforward-nn/sweeps/bwg3azdf</a>"
            ],
            "text/plain": [
              "<IPython.core.display.HTML object>"
            ]
          },
          "metadata": {},
          "output_type": "display_data"
        },
        {
          "data": {
            "text/html": [
              " View run at <a href='https://wandb.ai/bgorai005-iit-madras/feedforward-nn/runs/lhdxnuya' target=\"_blank\">https://wandb.ai/bgorai005-iit-madras/feedforward-nn/runs/lhdxnuya</a>"
            ],
            "text/plain": [
              "<IPython.core.display.HTML object>"
            ]
          },
          "metadata": {},
          "output_type": "display_data"
        },
        {
          "data": {
            "text/html": [],
            "text/plain": [
              "<IPython.core.display.HTML object>"
            ]
          },
          "metadata": {},
          "output_type": "display_data"
        },
        {
          "data": {
            "text/html": [
              "<br>    <style><br>        .wandb-row {<br>            display: flex;<br>            flex-direction: row;<br>            flex-wrap: wrap;<br>            justify-content: flex-start;<br>            width: 100%;<br>        }<br>        .wandb-col {<br>            display: flex;<br>            flex-direction: column;<br>            flex-basis: 100%;<br>            flex: 1;<br>            padding: 10px;<br>        }<br>    </style><br><div class=\"wandb-row\"><div class=\"wandb-col\"><h3>Run history:</h3><br/><table class=\"wandb\"><tr><td>sample_image_quality</td><td>▁</td></tr></table><br/></div><div class=\"wandb-col\"><h3>Run summary:</h3><br/><table class=\"wandb\"><tr><td>sample_image_quality</td><td>0.58199</td></tr></table><br/></div></div>"
            ],
            "text/plain": [
              "<IPython.core.display.HTML object>"
            ]
          },
          "metadata": {},
          "output_type": "display_data"
        },
        {
          "data": {
            "text/html": [
              " View run <strong style=\"color:#cdcd00\">worthy-sweep-3</strong> at: <a href='https://wandb.ai/bgorai005-iit-madras/feedforward-nn/runs/lhdxnuya' target=\"_blank\">https://wandb.ai/bgorai005-iit-madras/feedforward-nn/runs/lhdxnuya</a><br> View project at: <a href='https://wandb.ai/bgorai005-iit-madras/feedforward-nn' target=\"_blank\">https://wandb.ai/bgorai005-iit-madras/feedforward-nn</a><br>Synced 5 W&B file(s), 10 media file(s), 0 artifact file(s) and 0 other file(s)"
            ],
            "text/plain": [
              "<IPython.core.display.HTML object>"
            ]
          },
          "metadata": {},
          "output_type": "display_data"
        },
        {
          "data": {
            "text/html": [
              "Find logs at: <code>./wandb/run-20250224_092325-lhdxnuya/logs</code>"
            ],
            "text/plain": [
              "<IPython.core.display.HTML object>"
            ]
          },
          "metadata": {},
          "output_type": "display_data"
        },
        {
          "name": "stderr",
          "output_type": "stream",
          "text": [
            "\u001b[34m\u001b[1mwandb\u001b[0m: Agent Starting Run: 6y3xpnqt with config:\n",
            "\u001b[34m\u001b[1mwandb\u001b[0m: \tnum_hidden_layers: 2\n",
            "\u001b[34m\u001b[1mwandb\u001b[0m: \tnum_neurons: 16\n"
          ]
        },
        {
          "data": {
            "text/html": [
              "Tracking run with wandb version 0.19.7"
            ],
            "text/plain": [
              "<IPython.core.display.HTML object>"
            ]
          },
          "metadata": {},
          "output_type": "display_data"
        },
        {
          "data": {
            "text/html": [
              "Run data is saved locally in <code>/content/wandb/run-20250224_092330-6y3xpnqt</code>"
            ],
            "text/plain": [
              "<IPython.core.display.HTML object>"
            ]
          },
          "metadata": {},
          "output_type": "display_data"
        },
        {
          "data": {
            "text/html": [
              "Syncing run <strong><a href='https://wandb.ai/bgorai005-iit-madras/feedforward-nn/runs/6y3xpnqt' target=\"_blank\">azure-sweep-4</a></strong> to <a href='https://wandb.ai/bgorai005-iit-madras/feedforward-nn' target=\"_blank\">Weights & Biases</a> (<a href='https://wandb.me/developer-guide' target=\"_blank\">docs</a>)<br>Sweep page: <a href='https://wandb.ai/bgorai005-iit-madras/feedforward-nn/sweeps/bwg3azdf' target=\"_blank\">https://wandb.ai/bgorai005-iit-madras/feedforward-nn/sweeps/bwg3azdf</a>"
            ],
            "text/plain": [
              "<IPython.core.display.HTML object>"
            ]
          },
          "metadata": {},
          "output_type": "display_data"
        },
        {
          "data": {
            "text/html": [
              " View project at <a href='https://wandb.ai/bgorai005-iit-madras/feedforward-nn' target=\"_blank\">https://wandb.ai/bgorai005-iit-madras/feedforward-nn</a>"
            ],
            "text/plain": [
              "<IPython.core.display.HTML object>"
            ]
          },
          "metadata": {},
          "output_type": "display_data"
        },
        {
          "data": {
            "text/html": [
              " View sweep at <a href='https://wandb.ai/bgorai005-iit-madras/feedforward-nn/sweeps/bwg3azdf' target=\"_blank\">https://wandb.ai/bgorai005-iit-madras/feedforward-nn/sweeps/bwg3azdf</a>"
            ],
            "text/plain": [
              "<IPython.core.display.HTML object>"
            ]
          },
          "metadata": {},
          "output_type": "display_data"
        },
        {
          "data": {
            "text/html": [
              " View run at <a href='https://wandb.ai/bgorai005-iit-madras/feedforward-nn/runs/6y3xpnqt' target=\"_blank\">https://wandb.ai/bgorai005-iit-madras/feedforward-nn/runs/6y3xpnqt</a>"
            ],
            "text/plain": [
              "<IPython.core.display.HTML object>"
            ]
          },
          "metadata": {},
          "output_type": "display_data"
        },
        {
          "data": {
            "text/html": [],
            "text/plain": [
              "<IPython.core.display.HTML object>"
            ]
          },
          "metadata": {},
          "output_type": "display_data"
        },
        {
          "data": {
            "text/html": [
              "<br>    <style><br>        .wandb-row {<br>            display: flex;<br>            flex-direction: row;<br>            flex-wrap: wrap;<br>            justify-content: flex-start;<br>            width: 100%;<br>        }<br>        .wandb-col {<br>            display: flex;<br>            flex-direction: column;<br>            flex-basis: 100%;<br>            flex: 1;<br>            padding: 10px;<br>        }<br>    </style><br><div class=\"wandb-row\"><div class=\"wandb-col\"><h3>Run history:</h3><br/><table class=\"wandb\"><tr><td>sample_image_quality</td><td>▁</td></tr></table><br/></div><div class=\"wandb-col\"><h3>Run summary:</h3><br/><table class=\"wandb\"><tr><td>sample_image_quality</td><td>0.73548</td></tr></table><br/></div></div>"
            ],
            "text/plain": [
              "<IPython.core.display.HTML object>"
            ]
          },
          "metadata": {},
          "output_type": "display_data"
        },
        {
          "data": {
            "text/html": [
              " View run <strong style=\"color:#cdcd00\">azure-sweep-4</strong> at: <a href='https://wandb.ai/bgorai005-iit-madras/feedforward-nn/runs/6y3xpnqt' target=\"_blank\">https://wandb.ai/bgorai005-iit-madras/feedforward-nn/runs/6y3xpnqt</a><br> View project at: <a href='https://wandb.ai/bgorai005-iit-madras/feedforward-nn' target=\"_blank\">https://wandb.ai/bgorai005-iit-madras/feedforward-nn</a><br>Synced 5 W&B file(s), 10 media file(s), 0 artifact file(s) and 0 other file(s)"
            ],
            "text/plain": [
              "<IPython.core.display.HTML object>"
            ]
          },
          "metadata": {},
          "output_type": "display_data"
        },
        {
          "data": {
            "text/html": [
              "Find logs at: <code>./wandb/run-20250224_092330-6y3xpnqt/logs</code>"
            ],
            "text/plain": [
              "<IPython.core.display.HTML object>"
            ]
          },
          "metadata": {},
          "output_type": "display_data"
        },
        {
          "name": "stderr",
          "output_type": "stream",
          "text": [
            "\u001b[34m\u001b[1mwandb\u001b[0m: Agent Starting Run: qui2b45k with config:\n",
            "\u001b[34m\u001b[1mwandb\u001b[0m: \tnum_hidden_layers: 1\n",
            "\u001b[34m\u001b[1mwandb\u001b[0m: \tnum_neurons: 64\n"
          ]
        },
        {
          "data": {
            "text/html": [
              "Tracking run with wandb version 0.19.7"
            ],
            "text/plain": [
              "<IPython.core.display.HTML object>"
            ]
          },
          "metadata": {},
          "output_type": "display_data"
        },
        {
          "data": {
            "text/html": [
              "Run data is saved locally in <code>/content/wandb/run-20250224_092335-qui2b45k</code>"
            ],
            "text/plain": [
              "<IPython.core.display.HTML object>"
            ]
          },
          "metadata": {},
          "output_type": "display_data"
        },
        {
          "data": {
            "text/html": [
              "Syncing run <strong><a href='https://wandb.ai/bgorai005-iit-madras/feedforward-nn/runs/qui2b45k' target=\"_blank\">jolly-sweep-5</a></strong> to <a href='https://wandb.ai/bgorai005-iit-madras/feedforward-nn' target=\"_blank\">Weights & Biases</a> (<a href='https://wandb.me/developer-guide' target=\"_blank\">docs</a>)<br>Sweep page: <a href='https://wandb.ai/bgorai005-iit-madras/feedforward-nn/sweeps/bwg3azdf' target=\"_blank\">https://wandb.ai/bgorai005-iit-madras/feedforward-nn/sweeps/bwg3azdf</a>"
            ],
            "text/plain": [
              "<IPython.core.display.HTML object>"
            ]
          },
          "metadata": {},
          "output_type": "display_data"
        },
        {
          "data": {
            "text/html": [
              " View project at <a href='https://wandb.ai/bgorai005-iit-madras/feedforward-nn' target=\"_blank\">https://wandb.ai/bgorai005-iit-madras/feedforward-nn</a>"
            ],
            "text/plain": [
              "<IPython.core.display.HTML object>"
            ]
          },
          "metadata": {},
          "output_type": "display_data"
        },
        {
          "data": {
            "text/html": [
              " View sweep at <a href='https://wandb.ai/bgorai005-iit-madras/feedforward-nn/sweeps/bwg3azdf' target=\"_blank\">https://wandb.ai/bgorai005-iit-madras/feedforward-nn/sweeps/bwg3azdf</a>"
            ],
            "text/plain": [
              "<IPython.core.display.HTML object>"
            ]
          },
          "metadata": {},
          "output_type": "display_data"
        },
        {
          "data": {
            "text/html": [
              " View run at <a href='https://wandb.ai/bgorai005-iit-madras/feedforward-nn/runs/qui2b45k' target=\"_blank\">https://wandb.ai/bgorai005-iit-madras/feedforward-nn/runs/qui2b45k</a>"
            ],
            "text/plain": [
              "<IPython.core.display.HTML object>"
            ]
          },
          "metadata": {},
          "output_type": "display_data"
        },
        {
          "data": {
            "text/html": [],
            "text/plain": [
              "<IPython.core.display.HTML object>"
            ]
          },
          "metadata": {},
          "output_type": "display_data"
        },
        {
          "data": {
            "text/html": [
              "<br>    <style><br>        .wandb-row {<br>            display: flex;<br>            flex-direction: row;<br>            flex-wrap: wrap;<br>            justify-content: flex-start;<br>            width: 100%;<br>        }<br>        .wandb-col {<br>            display: flex;<br>            flex-direction: column;<br>            flex-basis: 100%;<br>            flex: 1;<br>            padding: 10px;<br>        }<br>    </style><br><div class=\"wandb-row\"><div class=\"wandb-col\"><h3>Run history:</h3><br/><table class=\"wandb\"><tr><td>sample_image_quality</td><td>▁</td></tr></table><br/></div><div class=\"wandb-col\"><h3>Run summary:</h3><br/><table class=\"wandb\"><tr><td>sample_image_quality</td><td>0.53929</td></tr></table><br/></div></div>"
            ],
            "text/plain": [
              "<IPython.core.display.HTML object>"
            ]
          },
          "metadata": {},
          "output_type": "display_data"
        },
        {
          "data": {
            "text/html": [
              " View run <strong style=\"color:#cdcd00\">jolly-sweep-5</strong> at: <a href='https://wandb.ai/bgorai005-iit-madras/feedforward-nn/runs/qui2b45k' target=\"_blank\">https://wandb.ai/bgorai005-iit-madras/feedforward-nn/runs/qui2b45k</a><br> View project at: <a href='https://wandb.ai/bgorai005-iit-madras/feedforward-nn' target=\"_blank\">https://wandb.ai/bgorai005-iit-madras/feedforward-nn</a><br>Synced 5 W&B file(s), 10 media file(s), 0 artifact file(s) and 0 other file(s)"
            ],
            "text/plain": [
              "<IPython.core.display.HTML object>"
            ]
          },
          "metadata": {},
          "output_type": "display_data"
        },
        {
          "data": {
            "text/html": [
              "Find logs at: <code>./wandb/run-20250224_092335-qui2b45k/logs</code>"
            ],
            "text/plain": [
              "<IPython.core.display.HTML object>"
            ]
          },
          "metadata": {},
          "output_type": "display_data"
        }
      ],
      "source": [
        "import numpy as np\n",
        "import wandb\n",
        "from tensorflow.keras.datasets import fashion_mnist\n",
        "\n",
        "# Load the Fashion MNIST dataset\n",
        "(X_train, y_train), (X_test, y_test) = fashion_mnist.load_data()\n",
        "\n",
        "# Normalize pixel values\n",
        "X_train = X_train / 255.0  # Scale between 0 and 1\n",
        "\n",
        "# Class names in Fashion MNIST\n",
        "class_names = [\n",
        "    \"T-shirt/top\", \"Trouser\", \"Pullover\", \"Dress\", \"Coat\",\n",
        "    \"Sandal\", \"Shirt\", \"Sneaker\", \"Bag\", \"Ankle boot\"\n",
        "]\n",
        "\n",
        "# Sweep configuration\n",
        "sweep_config = {\n",
        "    \"method\": \"random\",\n",
        "    \"metric\": {\n",
        "        \"name\": \"sample_image_quality\",\n",
        "        \"goal\": \"maximize\"\n",
        "    },\n",
        "    \"parameters\": {\n",
        "        \"num_hidden_layers\": {\"values\": [1, 2, 3]},\n",
        "        \"num_neurons\": {\"values\": [16, 32, 64]}\n",
        "    }\n",
        "}\n",
        "\n",
        "# Initialize the sweep\n",
        "sweep_id = wandb.sweep(sweep_config, project=\"feedforward-nn\")\n",
        "\n",
        "# Function for each sweep run\n",
        "def train(config=None):\n",
        "    with wandb.init(config=config):\n",
        "        config = wandb.config\n",
        "\n",
        "        # Find one image per class\n",
        "        class_images = {}\n",
        "        for image, label in zip(X_train, y_train):\n",
        "            if label not in class_images:\n",
        "                class_images[label] = image\n",
        "            if len(class_images) == len(class_names):\n",
        "                break\n",
        "\n",
        "        # Log one image per class\n",
        "        for label, image in sorted(class_images.items()):\n",
        "            # Ensure the image has a channel dimension\n",
        "            image = np.expand_dims(image, axis=-1)\n",
        "\n",
        "            wandb.log({\n",
        "                f\"{class_names[label]}\": wandb.Image(image, caption=class_names[label])\n",
        "            })\n",
        "\n",
        "        # Dummy metric for sweeps\n",
        "        wandb.log({\"sample_image_quality\": np.random.rand()})\n",
        "\n",
        "# Start the sweep\n",
        "wandb.agent(sweep_id, train, count=5)\n"
      ]
    },
    {
      "cell_type": "code",
      "execution_count": null,
      "metadata": {
        "id": "AkSPdya2E-_-"
      },
      "outputs": [],
      "source": [
        "# Flatten the images (28x28 -> 784)\n",
        "X_train = X_train.reshape(X_train.shape[0], -1)\n",
        "X_test = X_test.reshape(X_test.shape[0], -1)\n"
      ]
    },
    {
      "cell_type": "code",
      "execution_count": null,
      "metadata": {
        "id": "xXu9a8nQN411"
      },
      "outputs": [],
      "source": [
        "# function for one hot encoding\n",
        "def one_hot_encode(labels, num_classes):\n",
        "    encoded =np.zeros((len(labels), num_classes))\n",
        "    for i, label in enumerate(labels):\n",
        "       encoded[i,label]=1\n",
        "    return encoded\n"
      ]
    },
    {
      "cell_type": "code",
      "execution_count": null,
      "metadata": {
        "id": "lZQ4d0P0N44U"
      },
      "outputs": [],
      "source": [
        "#apply one hot encoding in output column\n",
        "y_train = one_hot_encode(y_train, 10)\n",
        "y_test = one_hot_encode(y_test, 10)\n"
      ]
    },
    {
      "cell_type": "code",
      "execution_count": null,
      "metadata": {
        "id": "17d1LhFOSO2b"
      },
      "outputs": [],
      "source": [
        "#class feedforward nueral network\n",
        "class Feedforwardneuralnetwork:\n",
        "  def __init__(self,input_size,hidden_layers,neurons_per_layer,output_size,learning_rate=0.01):\n",
        "    self.layers=[]\n",
        "    self.learning_rate=learning_rate\n",
        "    previous_size=input_size\n",
        "    for i in range(hidden_layers):\n",
        "      self.layers.append(self.initialize_weights(previous_size,neurons_per_layer))\n",
        "      previous_size=neurons_per_layer\n",
        "    self.layers.append(self.initialize_weights(previous_size,output_size))\n",
        "\n",
        "  def initialize_weights(self,input_size,output_size):\n",
        "    weights=np.random.rand(input_size,output_size)*learning_rate\n",
        "    biases =np.zeros((1,output_size))\n",
        "    return (weights,biases)\n",
        "\n",
        "  #def of sigmoid function\n",
        "  def sigmoid(self,x):\n",
        "    return 1/(1+np.exp(-x))\n",
        "\n",
        "  #def of softmax function\n",
        "  def softmax(self,x):\n",
        "    exps = np.exp(x-np.max(x, axis=1, keepdims=True))\n",
        "    return exps/np.sum(exps, axis=1,keepdims=True)\n",
        "\n",
        "  #def of activation function\n",
        "  def activation_function(x,active_fun):\n",
        "    if active_fun==\"sigmoid\":\n",
        "      return sigmoid(x)\n",
        "\n",
        "\n",
        "  #def of derivative activation function\n",
        "  def dervative_activation_function(x,active_fun):\n",
        "    if active_fun==\"sigmoid\":\n",
        "      return derivative_sigmoid(x)\n",
        "\n",
        "\n",
        "  #for more flexible asa number of neurons and number of hidden layer\n",
        "  def forward_propagation_flex(self,x,theta,active_fun,num_hidden_layer):\n",
        "    a={}\n",
        "    h={'h0':x}\n",
        "    for i in range(1,num_hidden_layer+1):\n",
        "      a[\"a\"+str(i)]=np.dot(theta[\"W\"+str(i)]),h[\"h\"+str(i-1)]+theta['b'+str(i)]\n",
        "      h[\"h\"+str(i)]=activation_function(a[\"a\"+str(i)],active_fun)\n",
        "    #for output layer\n",
        "    a[\"a\"+str(num_hidden_layer+1)]=np.dot(theta['W'+str(num_hidden_layer+1)],h['h'+str(num_hidden_layer+1)])\n",
        "    y_pred=softmax(a['a'+str(num_hidden_layer+1)])\n",
        "\n",
        "    return a,h,y_pred\n",
        "\n",
        "\n",
        "\n",
        "  #def of backprop\n",
        "  def backprop(self,x,y_actual,active_fun,num_hidden_layers,theta,input_size):\n",
        "    a,h,y_pred=forward_propagation_flex(x,theta,active_fun,num_hidden_layers)\n",
        "    grad_theta ={}\n",
        "    grad_layers ={}\n",
        "    grad_layers['a'+str(num_hidden_layers+1)]=-1*(y_pred-y_actual)\n",
        "    for i in range(num_hidden_layers+1,0,-1):\n",
        "      grad_theta['W'+str(i)]=np.dot(grad_layers['a'+str(i)],h['h'+str(i-1).T])\n",
        "      grad_theta['b'+str(i)]=np.sum(grad_layers['a'+str(i)],axis=0)\n",
        "      grad_layers['h'+str(i-1)]=np.dot(theta['W'+str(i)].T,grad_layers['a'+str(i)])\n",
        "      grad_layers['a'+str(i-1)]=grad_layers['h'+str(i-1)]*(derivative_activation_function(a['h'+str(i-1)],active_fun))\n",
        "    return grad_theta\n",
        "\n",
        "  def gradient_descent(self,x,y_actual,active_fun,num_hidden_layers,theta,input_size,epoch,learning_rate):\n",
        "    for i in range(epoch):\n",
        "      grad_theta=backprop(x,y_actual,active_fun,num_hidden_layers,theta,input_size)\n",
        "      for j in range(1,num_hidden_layer+1):\n",
        "        theta['W'+str(j)]=theta['W'+str(j)]-learning_rate*grad_theta['W'+str(j)]\n",
        "        theta['b'+str(j)]=theta['b'+str(j)]-learning_rate*grad_theta['b'+str(j)]\n",
        "    return theta\n",
        "\n",
        "\n",
        "#derivative of function\n",
        "def derivative_sigmoid(x):\n",
        "  return x*(1-x)\n",
        "#derivative of softmax functiom\n",
        "def derivative_softmax(x):\n",
        "  exps = np.exp(x-np.max(x, axis=1, keepdims=True))\n",
        "  return exps/np\n",
        "\n",
        "\n",
        "\n",
        "\n",
        "\n",
        "\n"
      ]
    },
    {
      "cell_type": "code",
      "execution_count": null,
      "metadata": {
        "id": "1U1pWKcfN46f"
      },
      "outputs": [],
      "source": [
        "import numpy as np\n",
        "\n",
        "\n",
        "\n",
        "# de of forward propagation\n",
        "def forward_propagation(x,n_hiddenlayer,n_classes):\n",
        "  np.random.seed(42)\n",
        "\n",
        "  n_samples,n_feature=x.shape\n",
        "\n",
        "\n",
        "  #initialize the weight and biases\n",
        "  w1=np.random.rand(n_feature,n_hiddenlayer)\n",
        "  b1=np.random.rand(1,n_hiddenlayer)\n",
        "  w2=np.random.rand(n_hiddenlayer,n_classes)\n",
        "  b2=np.random.rand(1,n_classes)\n",
        "\n",
        "  #forward pass\n",
        "  z1=np.dot(x,w1)+b1\n",
        "  A1=sigmoid(z1)\n",
        "\n",
        "  #output layer\n",
        "  z2=np.dot(A1,w2)+b2\n",
        "  A2=softmax(z2)\n",
        "\n",
        "\n",
        "  return A2\n",
        "\n"
      ]
    },
    {
      "cell_type": "code",
      "execution_count": null,
      "metadata": {
        "id": "6tdycRAjN497"
      },
      "outputs": [],
      "source": [
        "\n",
        "\n",
        "#def of sigmoid function\n",
        "def sigmoid(x):\n",
        "  return 1/(1+np.exp(-x))\n",
        "\n",
        "#def of softmax function\n",
        "def softmax(x):\n",
        "  exps = np.exp(x-np.max(x, axis=1, keepdims=True))\n",
        "  return exps/np.sum(exps, axis=1,keepdims=True)\n",
        "\n",
        "\n",
        "\n"
      ]
    },
    {
      "cell_type": "code",
      "execution_count": null,
      "metadata": {
        "colab": {
          "base_uri": "https://localhost:8080/"
        },
        "id": "MglBogvhzuCt",
        "outputId": "c84131d1-5623-4e84-cff9-199b4b2f4a3f"
      },
      "outputs": [
        {
          "data": {
            "text/plain": [
              "array([9, 0, 0, ..., 3, 0, 5], dtype=uint8)"
            ]
          },
          "execution_count": 9,
          "metadata": {},
          "output_type": "execute_result"
        }
      ],
      "source": [
        "import numpy as np\n",
        "import pandas as pd\n",
        "import matplotlib.pyplot as plt\n",
        "from keras.datasets import fashion_mnist\n",
        "\n",
        "#load the fashion mnist-dataset\n",
        "(train_images,train_labels),(test_images,test_labels)=fashion_mnist.load_data()\n",
        "\n",
        "train_labels\n"
      ]
    },
    {
      "cell_type": "code",
      "execution_count": null,
      "metadata": {
        "colab": {
          "base_uri": "https://localhost:8080/",
          "height": 356
        },
        "id": "xDRL64iwFZz7",
        "outputId": "b134e374-da38-46a5-8fb8-a191b9c93a19"
      },
      "outputs": [
        {
          "ename": "ValueError",
          "evalue": "operands could not be broadcast together with shapes (128,128) (128,10) ",
          "output_type": "error",
          "traceback": [
            "\u001b[0;31m---------------------------------------------------------------------------\u001b[0m",
            "\u001b[0;31mValueError\u001b[0m                                Traceback (most recent call last)",
            "\u001b[0;32m<ipython-input-7-4adf51883fab>\u001b[0m in \u001b[0;36m<cell line: 0>\u001b[0;34m()\u001b[0m\n\u001b[1;32m    110\u001b[0m \u001b[0mnn\u001b[0m \u001b[0;34m=\u001b[0m \u001b[0mSimpleNeuralNetwork\u001b[0m\u001b[0;34m(\u001b[0m\u001b[0minput_size\u001b[0m\u001b[0;34m,\u001b[0m \u001b[0mhidden_layers\u001b[0m\u001b[0;34m,\u001b[0m \u001b[0mneurons_per_layer\u001b[0m\u001b[0;34m,\u001b[0m \u001b[0moutput_size\u001b[0m\u001b[0;34m,\u001b[0m \u001b[0mlearning_rate\u001b[0m\u001b[0;34m)\u001b[0m\u001b[0;34m\u001b[0m\u001b[0;34m\u001b[0m\u001b[0m\n\u001b[1;32m    111\u001b[0m \u001b[0;34m\u001b[0m\u001b[0m\n\u001b[0;32m--> 112\u001b[0;31m \u001b[0mnn\u001b[0m\u001b[0;34m.\u001b[0m\u001b[0mtrain\u001b[0m\u001b[0;34m(\u001b[0m\u001b[0mtrain_images\u001b[0m\u001b[0;34m,\u001b[0m \u001b[0mtrain_labels\u001b[0m\u001b[0;34m,\u001b[0m \u001b[0mepochs\u001b[0m\u001b[0;34m=\u001b[0m\u001b[0;36m10\u001b[0m\u001b[0;34m,\u001b[0m \u001b[0mbatch_size\u001b[0m\u001b[0;34m=\u001b[0m\u001b[0;36m64\u001b[0m\u001b[0;34m)\u001b[0m\u001b[0;34m\u001b[0m\u001b[0;34m\u001b[0m\u001b[0m\n\u001b[0m\u001b[1;32m    113\u001b[0m \u001b[0;34m\u001b[0m\u001b[0m\n\u001b[1;32m    114\u001b[0m \u001b[0;31m# Evaluate on test data\u001b[0m\u001b[0;34m\u001b[0m\u001b[0;34m\u001b[0m\u001b[0m\n",
            "\u001b[0;32m<ipython-input-7-4adf51883fab>\u001b[0m in \u001b[0;36mtrain\u001b[0;34m(self, x, y, epochs, batch_size)\u001b[0m\n\u001b[1;32m     94\u001b[0m                 \u001b[0mactivations\u001b[0m \u001b[0;34m=\u001b[0m \u001b[0mself\u001b[0m\u001b[0;34m.\u001b[0m\u001b[0mforward\u001b[0m\u001b[0;34m(\u001b[0m\u001b[0mx_batch\u001b[0m\u001b[0;34m)\u001b[0m\u001b[0;34m\u001b[0m\u001b[0;34m\u001b[0m\u001b[0m\n\u001b[1;32m     95\u001b[0m                 \u001b[0mgrads\u001b[0m \u001b[0;34m=\u001b[0m \u001b[0mself\u001b[0m\u001b[0;34m.\u001b[0m\u001b[0mbackward\u001b[0m\u001b[0;34m(\u001b[0m\u001b[0mactivations\u001b[0m\u001b[0;34m,\u001b[0m \u001b[0my_batch\u001b[0m\u001b[0;34m)\u001b[0m\u001b[0;34m\u001b[0m\u001b[0;34m\u001b[0m\u001b[0m\n\u001b[0;32m---> 96\u001b[0;31m                 \u001b[0mself\u001b[0m\u001b[0;34m.\u001b[0m\u001b[0mupdate_weights\u001b[0m\u001b[0;34m(\u001b[0m\u001b[0mgrads\u001b[0m\u001b[0;34m)\u001b[0m\u001b[0;34m\u001b[0m\u001b[0;34m\u001b[0m\u001b[0m\n\u001b[0m\u001b[1;32m     97\u001b[0m \u001b[0;34m\u001b[0m\u001b[0m\n\u001b[1;32m     98\u001b[0m             \u001b[0mpredictions\u001b[0m \u001b[0;34m=\u001b[0m \u001b[0mself\u001b[0m\u001b[0;34m.\u001b[0m\u001b[0mforward\u001b[0m\u001b[0;34m(\u001b[0m\u001b[0mx\u001b[0m\u001b[0;34m)\u001b[0m\u001b[0;34m[\u001b[0m\u001b[0;34m-\u001b[0m\u001b[0;36m1\u001b[0m\u001b[0;34m]\u001b[0m\u001b[0;34m\u001b[0m\u001b[0;34m\u001b[0m\u001b[0m\n",
            "\u001b[0;32m<ipython-input-7-4adf51883fab>\u001b[0m in \u001b[0;36mupdate_weights\u001b[0;34m(self, grads)\u001b[0m\n\u001b[1;32m     74\u001b[0m     \u001b[0;32mdef\u001b[0m \u001b[0mupdate_weights\u001b[0m\u001b[0;34m(\u001b[0m\u001b[0mself\u001b[0m\u001b[0;34m,\u001b[0m \u001b[0mgrads\u001b[0m\u001b[0;34m)\u001b[0m\u001b[0;34m:\u001b[0m\u001b[0;34m\u001b[0m\u001b[0;34m\u001b[0m\u001b[0m\n\u001b[1;32m     75\u001b[0m         \u001b[0;32mfor\u001b[0m \u001b[0mi\u001b[0m\u001b[0;34m,\u001b[0m \u001b[0;34m(\u001b[0m\u001b[0mdw\u001b[0m\u001b[0;34m,\u001b[0m \u001b[0mdb\u001b[0m\u001b[0;34m)\u001b[0m \u001b[0;32min\u001b[0m \u001b[0menumerate\u001b[0m\u001b[0;34m(\u001b[0m\u001b[0mgrads\u001b[0m\u001b[0;34m)\u001b[0m\u001b[0;34m:\u001b[0m\u001b[0;34m\u001b[0m\u001b[0;34m\u001b[0m\u001b[0m\n\u001b[0;32m---> 76\u001b[0;31m             \u001b[0mself\u001b[0m\u001b[0;34m.\u001b[0m\u001b[0mlayers\u001b[0m\u001b[0;34m[\u001b[0m\u001b[0mi\u001b[0m\u001b[0;34m]\u001b[0m \u001b[0;34m=\u001b[0m \u001b[0;34m(\u001b[0m\u001b[0mself\u001b[0m\u001b[0;34m.\u001b[0m\u001b[0mlayers\u001b[0m\u001b[0;34m[\u001b[0m\u001b[0mi\u001b[0m\u001b[0;34m]\u001b[0m\u001b[0;34m[\u001b[0m\u001b[0;36m0\u001b[0m\u001b[0;34m]\u001b[0m \u001b[0;34m-\u001b[0m \u001b[0mself\u001b[0m\u001b[0;34m.\u001b[0m\u001b[0mlearning_rate\u001b[0m \u001b[0;34m*\u001b[0m \u001b[0mdw\u001b[0m\u001b[0;34m,\u001b[0m \u001b[0mself\u001b[0m\u001b[0;34m.\u001b[0m\u001b[0mlayers\u001b[0m\u001b[0;34m[\u001b[0m\u001b[0mi\u001b[0m\u001b[0;34m]\u001b[0m\u001b[0;34m[\u001b[0m\u001b[0;36m1\u001b[0m\u001b[0;34m]\u001b[0m \u001b[0;34m-\u001b[0m \u001b[0mself\u001b[0m\u001b[0;34m.\u001b[0m\u001b[0mlearning_rate\u001b[0m \u001b[0;34m*\u001b[0m \u001b[0mdb\u001b[0m\u001b[0;34m)\u001b[0m\u001b[0;34m\u001b[0m\u001b[0;34m\u001b[0m\u001b[0m\n\u001b[0m\u001b[1;32m     77\u001b[0m \u001b[0;34m\u001b[0m\u001b[0m\n\u001b[1;32m     78\u001b[0m     \u001b[0;32mdef\u001b[0m \u001b[0mcompute_loss\u001b[0m\u001b[0;34m(\u001b[0m\u001b[0mself\u001b[0m\u001b[0;34m,\u001b[0m \u001b[0mpredictions\u001b[0m\u001b[0;34m,\u001b[0m \u001b[0mlabels\u001b[0m\u001b[0;34m)\u001b[0m\u001b[0;34m:\u001b[0m\u001b[0;34m\u001b[0m\u001b[0;34m\u001b[0m\u001b[0m\n",
            "\u001b[0;31mValueError\u001b[0m: operands could not be broadcast together with shapes (128,128) (128,10) "
          ]
        }
      ],
      "source": [
        "import numpy as np\n",
        "import pandas as pd\n",
        "\n",
        "# Load the Fashion-MNIST dataset\n",
        "(train_images, train_labels), (test_images, test_labels) = fashion_mnist.load_data()\n",
        "\n",
        "# Normalize the images\n",
        "train_images = train_images / 255.0\n",
        "test_images = test_images / 255.0\n",
        "\n",
        "# One-hot encode the labels\n",
        "num_classes = 10\n",
        "train_labels = np.eye(num_classes)[train_labels]\n",
        "test_labels = np.eye(num_classes)[test_labels]\n",
        "\n",
        "# Flatten the images\n",
        "train_images = train_images.reshape(train_images.shape[0], -1)\n",
        "test_images = test_images.reshape(test_images.shape[0], -1)\n",
        "\n",
        "# Define the neural network\n",
        "class SimpleNeuralNetwork:\n",
        "    def __init__(self, input_size, hidden_layers, neurons_per_layer, output_size, learning_rate=0.01):\n",
        "        self.layers = []\n",
        "        self.learning_rate = learning_rate\n",
        "        previous_size = input_size\n",
        "        for _ in range(hidden_layers):\n",
        "            self.layers.append(self.initialize_weights(previous_size, neurons_per_layer))\n",
        "            previous_size = neurons_per_layer\n",
        "        self.layers.append(self.initialize_weights(previous_size, output_size))\n",
        "\n",
        "    def initialize_weights(self, input_size, output_size):\n",
        "        weights = np.random.randn(input_size, output_size) * 0.01\n",
        "        biases = np.zeros((1, output_size))\n",
        "        return (weights, biases)\n",
        "\n",
        "    def relu(self, x):\n",
        "        return np.maximum(0, x)\n",
        "\n",
        "    def relu_derivative(self, x):\n",
        "        return (x > 0).astype(float)\n",
        "\n",
        "    def softmax(self, x):\n",
        "        exps = np.exp(x - np.max(x, axis=1, keepdims=True))\n",
        "        return exps / np.sum(exps, axis=1, keepdims=True)\n",
        "\n",
        "    def forward(self, x):\n",
        "        activations = [x]\n",
        "        for weights, biases in self.layers[:-1]:\n",
        "            z = np.dot(activations[-1], weights) + biases\n",
        "            activations.append(self.relu(z))\n",
        "        final_weights, final_biases = self.layers[-1]\n",
        "        z = np.dot(activations[-1], final_weights) + final_biases\n",
        "        output = self.softmax(z)\n",
        "        activations.append(output)\n",
        "        return activations\n",
        "\n",
        "    def backward(self, activations, labels):\n",
        "        grads = []\n",
        "        m = labels.shape[0]\n",
        "        output_error = activations[-1] - labels\n",
        "\n",
        "        for i in range(len(self.layers) - 1, 0, -1):\n",
        "            weights, biases = self.layers[i]\n",
        "            dw = np.dot(activations[i - 1].T, output_error) / m\n",
        "            db = np.sum(output_error, axis=0, keepdims=True) / m\n",
        "            grads.append((dw, db))\n",
        "\n",
        "            if i > 1:\n",
        "                output_error = np.dot(output_error, weights.T) * self.relu_derivative(activations[i - 1])\n",
        "\n",
        "        grads.reverse()\n",
        "        return grads\n",
        "\n",
        "    def update_weights(self, grads):\n",
        "        for i, (dw, db) in enumerate(grads):\n",
        "            self.layers[i] = (self.layers[i][0] - self.learning_rate * dw, self.layers[i][1] - self.learning_rate * db)\n",
        "\n",
        "    def compute_loss(self, predictions, labels):\n",
        "        m = labels.shape[0]\n",
        "        loss = -np.sum(labels * np.log(predictions + 1e-8)) / m\n",
        "        return loss\n",
        "\n",
        "    def accuracy(self, predictions, labels):\n",
        "        pred_labels = np.argmax(predictions, axis=1)\n",
        "        true_labels = np.argmax(labels, axis=1)\n",
        "        return np.mean(pred_labels == true_labels)\n",
        "\n",
        "    def train(self, x, y, epochs=10, batch_size=64):\n",
        "        for epoch in range(epochs):\n",
        "            for i in range(0, x.shape[0], batch_size):\n",
        "                x_batch = x[i:i + batch_size]\n",
        "                y_batch = y[i:i + batch_size]\n",
        "\n",
        "                activations = self.forward(x_batch)\n",
        "                grads = self.backward(activations, y_batch)\n",
        "                self.update_weights(grads)\n",
        "\n",
        "            predictions = self.forward(x)[-1]\n",
        "            loss = self.compute_loss(predictions, y)\n",
        "            acc = self.accuracy(predictions, y)\n",
        "            print(f\"Epoch {epoch + 1}/{epochs} - Loss: {loss:.4f} - Accuracy: {acc:.4f}\")\n",
        "\n",
        "# Build and train the model\n",
        "input_size = train_images.shape[1]\n",
        "output_size = num_classes\n",
        "hidden_layers = 2\n",
        "neurons_per_layer = 128\n",
        "learning_rate = 0.01\n",
        "\n",
        "nn = SimpleNeuralNetwork(input_size, hidden_layers, neurons_per_layer, output_size, learning_rate)\n",
        "\n",
        "nn.train(train_images, train_labels, epochs=10, batch_size=64)\n",
        "\n",
        "# Evaluate on test data\n",
        "predictions = nn.forward(test_images)[-1]\n",
        "test_loss = nn.compute_loss(predictions, test_labels)\n",
        "test_acc = nn.accuracy(predictions, test_labels)\n",
        "\n",
        "print(f\"Test loss: {test_loss:.4f}\")\n",
        "print(f\"Test accuracy: {test_acc:.4f}\")\n"
      ]
    },
    {
      "cell_type": "code",
      "execution_count": 1,
      "metadata": {
        "id": "r5V0MBq9d9cC",
        "outputId": "d65b4795-cb55-4760-f232-888c3627e808",
        "colab": {
          "base_uri": "https://localhost:8080/"
        }
      },
      "outputs": [
        {
          "output_type": "stream",
          "name": "stdout",
          "text": [
            "hello world\n"
          ]
        }
      ],
      "source": [
        "print(\"hello world\")"
      ]
    }
  ],
  "metadata": {
    "colab": {
      "provenance": []
    },
    "kernelspec": {
      "display_name": "Python 3",
      "name": "python3"
    },
    "language_info": {
      "name": "python"
    }
  },
  "nbformat": 4,
  "nbformat_minor": 0
}