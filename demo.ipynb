import numpy as np
import wandb
from tensorflow.keras.datasets import fashion_mnist

# Load the Fashion MNIST dataset
(X_train, y_train), (X_test, y_test) = fashion_mnist.load_data()

# Normalize pixel values
X_train = X_train / 255.0  # Scale between 0 and 1

# Class names in Fashion MNIST
class_names = [
    "T-shirt/top", "Trouser", "Pullover", "Dress", "Coat",
    "Sandal", "Shirt", "Sneaker", "Bag", "Ankle boot"
]

# Sweep configuration
sweep_config = {
    "method": "random",
    "metric": {
        "name": "sample_image_quality",
        "goal": "maximize"
    },
    "parameters": {
        "num_hidden_layers": {"values": [1, 2, 3]},
        "num_neurons": {"values": [16, 32, 64]}
    }
}

# Initialize the sweep
sweep_id = wandb.sweep(sweep_config, project="feedforward-nn")

# Function for each sweep run
def train(config=None):
    with wandb.init(config=config):
        config = wandb.config

        # Find one image per class
        class_images = {}
        for image, label in zip(X_train, y_train):
            if label not in class_images:
                class_images[label] = image
            if len(class_images) == len(class_names):
                break

        # Log one image per class
        for label, image in sorted(class_images.items()):
            # Ensure the image has a channel dimension
            image = np.expand_dims(image, axis=-1)

            wandb.log({
                f"{class_names[label]}": wandb.Image(image, caption=class_names[label])
            })

        # Dummy metric for sweeps
        wandb.log({"sample_image_quality": np.random.rand()})

# Start the sweep
wandb.agent(sweep_id, train, count=5)


# Flatten the images (28x28 -> 784)
X_train = X_train.reshape(X_train.shape[0], -1)
X_test = X_test.reshape(X_test.shape[0], -1)

