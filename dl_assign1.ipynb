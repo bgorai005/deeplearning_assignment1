{
  "nbformat": 4,
  "nbformat_minor": 0,
  "metadata": {
    "colab": {
      "provenance": [],
      "gpuType": "T4",
      "authorship_tag": "ABX9TyNPdkurls9Yr/DM0CGYHgJq",
      "include_colab_link": true
    },
    "kernelspec": {
      "name": "python3",
      "display_name": "Python 3"
    },
    "language_info": {
      "name": "python"
    },
    "accelerator": "GPU"
  },
  "cells": [
    {
      "cell_type": "markdown",
      "metadata": {
        "id": "view-in-github",
        "colab_type": "text"
      },
      "source": [
        "<a href=\"https://colab.research.google.com/github/bgorai005/deeplearning_assignment1/blob/main/dl_assign1.ipynb\" target=\"_parent\"><img src=\"https://colab.research.google.com/assets/colab-badge.svg\" alt=\"Open In Colab\"/></a>"
      ]
    },
    {
      "cell_type": "code",
      "execution_count": 3,
      "metadata": {
        "id": "uv1dd-oHSJQw"
      },
      "outputs": [],
      "source": [
        "# Name-Biswajit gorai ,Roll no- MA24M005"
      ]
    },
    {
      "cell_type": "code",
      "source": [
        "import numpy as np\n",
        "import matplotlib.pyplot as plt\n",
        "from keras.datasets import fashion_mnist\n",
        "import wandb\n",
        "\n",
        "# Login to Weights & Biases\n",
        "wandb.login()\n",
        "\n",
        "# Initialize W&B project\n",
        "wandb.init(project='deep_learning_assignment_1',name='dataset_sample1',mode='online')\n",
        "\n",
        "# Load the Fashion MNIST dataset\n",
        "(train_images, train_labels), (test_images, test_labels) = fashion_mnist.load_data()\n",
        "\n",
        "# Define the class labels\n",
        "class_labels = ['T-shirt/top', 'Trouser', 'Pullover', 'Dress', 'Coat', 'Sandal', 'Shirt', 'Sneaker', 'Bag', 'Ankle boot']\n",
        "wandb.log({\"examples\":[wandb.Image(train_images[i],caption=class_labels[train_labels[i]])for i in range(10)]})\n",
        "# Plot 1 sample image for each class\n",
        "plt.figure(figsize=(10, 10))\n",
        "for label in range(10):\n",
        "    sample_image = train_images[train_labels == label][0]\n",
        "    plt.subplot(5, 5, label + 1)\n",
        "    plt.xticks([])\n",
        "    plt.yticks([])\n",
        "    plt.grid(False)\n",
        "    plt.xlabel(class_labels[label])\n",
        "    plt.imshow(sample_image, cmap=plt.cm.binary)\n",
        "plt.show()\n",
        "\n",
        "# Finish the W&B run\n",
        "wandb.finish()\n",
        "#594642013968a68e466138e783dcece6765c43b9"
      ],
      "metadata": {
        "colab": {
          "base_uri": "https://localhost:8080/",
          "height": 831
        },
        "id": "odyBhgZjeOAS",
        "outputId": "d56dc4b3-e298-4c9a-b3c9-5ba2c4d6c014"
      },
      "execution_count": 4,
      "outputs": [
        {
          "output_type": "stream",
          "name": "stderr",
          "text": [
            "\u001b[34m\u001b[1mwandb\u001b[0m: Using wandb-core as the SDK backend.  Please refer to https://wandb.me/wandb-core for more information.\n"
          ]
        },
        {
          "output_type": "display_data",
          "data": {
            "text/plain": [
              "<IPython.core.display.Javascript object>"
            ],
            "application/javascript": [
              "\n",
              "        window._wandbApiKey = new Promise((resolve, reject) => {\n",
              "            function loadScript(url) {\n",
              "            return new Promise(function(resolve, reject) {\n",
              "                let newScript = document.createElement(\"script\");\n",
              "                newScript.onerror = reject;\n",
              "                newScript.onload = resolve;\n",
              "                document.body.appendChild(newScript);\n",
              "                newScript.src = url;\n",
              "            });\n",
              "            }\n",
              "            loadScript(\"https://cdn.jsdelivr.net/npm/postmate/build/postmate.min.js\").then(() => {\n",
              "            const iframe = document.createElement('iframe')\n",
              "            iframe.style.cssText = \"width:0;height:0;border:none\"\n",
              "            document.body.appendChild(iframe)\n",
              "            const handshake = new Postmate({\n",
              "                container: iframe,\n",
              "                url: 'https://wandb.ai/authorize'\n",
              "            });\n",
              "            const timeout = setTimeout(() => reject(\"Couldn't auto authenticate\"), 5000)\n",
              "            handshake.then(function(child) {\n",
              "                child.on('authorize', data => {\n",
              "                    clearTimeout(timeout)\n",
              "                    resolve(data)\n",
              "                });\n",
              "            });\n",
              "            })\n",
              "        });\n",
              "    "
            ]
          },
          "metadata": {}
        },
        {
          "output_type": "stream",
          "name": "stderr",
          "text": [
            "\u001b[34m\u001b[1mwandb\u001b[0m: Logging into wandb.ai. (Learn how to deploy a W&B server locally: https://wandb.me/wandb-server)\n",
            "\u001b[34m\u001b[1mwandb\u001b[0m: You can find your API key in your browser here: https://wandb.ai/authorize\n",
            "wandb: Paste an API key from your profile and hit enter:"
          ]
        },
        {
          "name": "stdout",
          "output_type": "stream",
          "text": [
            " ··········\n"
          ]
        },
        {
          "output_type": "stream",
          "name": "stderr",
          "text": [
            "\u001b[34m\u001b[1mwandb\u001b[0m: \u001b[33mWARNING\u001b[0m If you're specifying your api key in code, ensure this code is not shared publicly.\n",
            "\u001b[34m\u001b[1mwandb\u001b[0m: \u001b[33mWARNING\u001b[0m Consider setting the WANDB_API_KEY environment variable, or running `wandb login` from the command line.\n",
            "\u001b[34m\u001b[1mwandb\u001b[0m: No netrc file found, creating one.\n",
            "\u001b[34m\u001b[1mwandb\u001b[0m: Appending key for api.wandb.ai to your netrc file: /root/.netrc\n",
            "\u001b[34m\u001b[1mwandb\u001b[0m: Currently logged in as: \u001b[33mbgorai005\u001b[0m (\u001b[33mbgorai005-iit-madras\u001b[0m) to \u001b[32mhttps://api.wandb.ai\u001b[0m. Use \u001b[1m`wandb login --relogin`\u001b[0m to force relogin\n"
          ]
        },
        {
          "output_type": "display_data",
          "data": {
            "text/plain": [
              "<IPython.core.display.HTML object>"
            ],
            "text/html": [
              "Tracking run with wandb version 0.19.8"
            ]
          },
          "metadata": {}
        },
        {
          "output_type": "display_data",
          "data": {
            "text/plain": [
              "<IPython.core.display.HTML object>"
            ],
            "text/html": [
              "Run data is saved locally in <code>/content/wandb/run-20250317_014707-nzmzndp8</code>"
            ]
          },
          "metadata": {}
        },
        {
          "output_type": "display_data",
          "data": {
            "text/plain": [
              "<IPython.core.display.HTML object>"
            ],
            "text/html": [
              "Syncing run <strong><a href='https://wandb.ai/bgorai005-iit-madras/deep_learning_assignment_1/runs/nzmzndp8' target=\"_blank\">dataset_sample1</a></strong> to <a href='https://wandb.ai/bgorai005-iit-madras/deep_learning_assignment_1' target=\"_blank\">Weights & Biases</a> (<a href='https://wandb.me/developer-guide' target=\"_blank\">docs</a>)<br>"
            ]
          },
          "metadata": {}
        },
        {
          "output_type": "display_data",
          "data": {
            "text/plain": [
              "<IPython.core.display.HTML object>"
            ],
            "text/html": [
              " View project at <a href='https://wandb.ai/bgorai005-iit-madras/deep_learning_assignment_1' target=\"_blank\">https://wandb.ai/bgorai005-iit-madras/deep_learning_assignment_1</a>"
            ]
          },
          "metadata": {}
        },
        {
          "output_type": "display_data",
          "data": {
            "text/plain": [
              "<IPython.core.display.HTML object>"
            ],
            "text/html": [
              " View run at <a href='https://wandb.ai/bgorai005-iit-madras/deep_learning_assignment_1/runs/nzmzndp8' target=\"_blank\">https://wandb.ai/bgorai005-iit-madras/deep_learning_assignment_1/runs/nzmzndp8</a>"
            ]
          },
          "metadata": {}
        },
        {
          "output_type": "stream",
          "name": "stdout",
          "text": [
            "Downloading data from https://storage.googleapis.com/tensorflow/tf-keras-datasets/train-labels-idx1-ubyte.gz\n",
            "\u001b[1m29515/29515\u001b[0m \u001b[32m━━━━━━━━━━━━━━━━━━━━\u001b[0m\u001b[37m\u001b[0m \u001b[1m0s\u001b[0m 0us/step\n",
            "Downloading data from https://storage.googleapis.com/tensorflow/tf-keras-datasets/train-images-idx3-ubyte.gz\n",
            "\u001b[1m26421880/26421880\u001b[0m \u001b[32m━━━━━━━━━━━━━━━━━━━━\u001b[0m\u001b[37m\u001b[0m \u001b[1m0s\u001b[0m 0us/step\n",
            "Downloading data from https://storage.googleapis.com/tensorflow/tf-keras-datasets/t10k-labels-idx1-ubyte.gz\n",
            "\u001b[1m5148/5148\u001b[0m \u001b[32m━━━━━━━━━━━━━━━━━━━━\u001b[0m\u001b[37m\u001b[0m \u001b[1m0s\u001b[0m 0us/step\n",
            "Downloading data from https://storage.googleapis.com/tensorflow/tf-keras-datasets/t10k-images-idx3-ubyte.gz\n",
            "\u001b[1m4422102/4422102\u001b[0m \u001b[32m━━━━━━━━━━━━━━━━━━━━\u001b[0m\u001b[37m\u001b[0m \u001b[1m0s\u001b[0m 0us/step\n"
          ]
        },
        {
          "output_type": "display_data",
          "data": {
            "text/plain": [
              "<Figure size 1000x1000 with 10 Axes>"
            ],
            "image/png": "[encoded data removed]"
          },
          "metadata": {}
        },
        {
          "output_type": "display_data",
          "data": {
            "text/plain": [
              "<IPython.core.display.HTML object>"
            ],
            "text/html": []
          },
          "metadata": {}
        },
        {
          "output_type": "display_data",
          "data": {
            "text/plain": [
              "<IPython.core.display.HTML object>"
            ],
            "text/html": [
              " View run <strong style=\"color:#cdcd00\">dataset_sample1</strong> at: <a href='https://wandb.ai/bgorai005-iit-madras/deep_learning_assignment_1/runs/nzmzndp8' target=\"_blank\">https://wandb.ai/bgorai005-iit-madras/deep_learning_assignment_1/runs/nzmzndp8</a><br> View project at: <a href='https://wandb.ai/bgorai005-iit-madras/deep_learning_assignment_1' target=\"_blank\">https://wandb.ai/bgorai005-iit-madras/deep_learning_assignment_1</a><br>Synced 5 W&B file(s), 10 media file(s), 0 artifact file(s) and 0 other file(s)"
            ]
          },
          "metadata": {}
        },
        {
          "output_type": "display_data",
          "data": {
            "text/plain": [
              "<IPython.core.display.HTML object>"
            ],
            "text/html": [
              "Find logs at: <code>./wandb/run-20250317_014707-nzmzndp8/logs</code>"
            ]
          },
          "metadata": {}
        }
      ]
    },
    {
      "cell_type": "code",
      "source": [
        "from sklearn.model_selection import train_test_split\n",
        "\n",
        "def tranform_dataset(train_images,train_labels,test_images,test_labels):\n",
        "  #split the training dataset for traning and validation\n",
        "  x_train,x_valid,y_train,y_valid=train_test_split(train_images,train_labels,test_size=0.1,random_state=42)\n",
        "   #flattenten the image data\n",
        "  x_train = x_train.reshape(x_train.shape[0], -1)\n",
        "  x_valid = x_valid.reshape(x_valid.shape[0], -1)\n",
        "  x_test = test_images.reshape(test_images.shape[0], -1)\n",
        "  #Normalize the image data\n",
        "  x_train = x_train.astype('float32') / 255\n",
        "  x_valid = x_valid.astype('float32') / 255\n",
        "  x_test = x_test.astype('float32') / 255\n",
        "  # one hot encode for output column\n",
        "  y_train = one_hot_encode(y_train)\n",
        "  y_valid = one_hot_encode(y_valid)\n",
        "  y_test = one_hot_encode(test_labels)\n",
        "\n",
        "\n",
        "  return x_train,y_train,x_valid,y_valid,x_test,y_test\n",
        "\n",
        "\n",
        "\n",
        "#one hot encoding for output\n",
        "def one_hot_encode(labels):\n",
        "    encoded = np.zeros((len(labels), 10))\n",
        "    for i, label in enumerate(labels):\n",
        "        encoded[i, label] = 1\n",
        "    return encoded\n"
      ],
      "metadata": {
        "id": "QGtTOS2wNezJ"
      },
      "execution_count": 5,
      "outputs": []
    },
    {
      "cell_type": "code",
      "source": [
        "#transform the dataset for using the feedforward neural network models\n",
        "x_train,y_train,x_valid,y_valid,x_test,y_test=tranform_dataset(train_images,train_labels,test_images,test_labels)"
      ],
      "metadata": {
        "id": "tgYZpymnY750"
      },
      "execution_count": 6,
      "outputs": []
    },
    {
      "cell_type": "code",
      "source": [
        "#shapes of the datasets\n",
        "print(\"x_train shape:\", x_train.shape)\n",
        "print(\"y_train shape:\", y_train.shape)\n",
        "print(\"x_valid shape:\", x_valid.shape)\n",
        "print(\"y_valid shape:\", y_valid.shape)"
      ],
      "metadata": {
        "id": "LApDeYDeZGuv",
        "colab": {
          "base_uri": "https://localhost:8080/"
        },
        "outputId": "7653c553-1102-4af9-9bd3-d07926f16b21"
      },
      "execution_count": 7,
      "outputs": [
        {
          "output_type": "stream",
          "name": "stdout",
          "text": [
            "x_train shape: (54000, 784)\n",
            "y_train shape: (54000, 10)\n",
            "x_valid shape: (6000, 784)\n",
            "y_valid shape: (6000, 10)\n"
          ]
        }
      ]
    },
    {
      "cell_type": "markdown",
      "source": [
        "Intialize a network"
      ],
      "metadata": {
        "id": "-LNrA7j7Z1fS"
      }
    },
    {
      "cell_type": "code",
      "source": [
        "import numpy as np\n",
        "\n",
        "def initial_weight(num_layer, hidden_size, weight_ini_method):\n",
        "    # Create a list with num_layer hidden layers, each of size hidden_size\n",
        "    network_size = [hidden_size] * num_layer\n",
        "    # Prepend input size and append output size\n",
        "    network_size = [x_train.shape[1]] + network_size + [y_train.shape[1]]\n",
        "    print(network_size)  # Print the network architecture for debugging\n",
        "\n",
        "    # Initialize an empty dictionary to store weights and biases\n",
        "    theta = {}\n",
        "\n",
        "    # Random initialization\n",
        "    if weight_ini_method == \"random\":\n",
        "        for i in range(len(network_size) - 1):\n",
        "            # Weights: shape (current layer size, next layer size)\n",
        "            theta[f'W{i+1}'] = np.random.randn(network_size[i], network_size[i+1])\n",
        "            # Biases: shape (1, next layer size)\n",
        "            theta[f'b{i+1}'] = np.random.randn(1, network_size[i+1])\n",
        "\n",
        "    # Xavier (He-like) initialization\n",
        "    elif weight_ini_method == \"Xavier\":\n",
        "        for i in range(len(network_size) - 1):\n",
        "            # Scaling factor based on input size (fan-in)\n",
        "            scale = np.sqrt(2 / network_size[i])\n",
        "            # Weights: random normal scaled by sqrt(2 / fan-in)\n",
        "            theta[f'W{i+1}'] = np.random.randn(network_size[i], network_size[i+1]) * scale\n",
        "            # Biases: random normal scaled by sqrt(2 / fan-in)\n",
        "            theta[f'b{i+1}'] = np.random.randn(1, network_size[i+1]) * scale\n",
        "\n",
        "    # Return the initialized parameters\n",
        "    return theta"
      ],
      "metadata": {
        "id": "iCiSQYSkVaiv"
      },
      "execution_count": 8,
      "outputs": []
    },
    {
      "cell_type": "markdown",
      "source": [
        "*Activation functiont**"
      ],
      "metadata": {
        "id": "xl3fOo4maq91"
      }
    },
    {
      "cell_type": "code",
      "source": [
        "def sigmoid(x):\n",
        "  return 1 /(1 + np.exp(-x))\n",
        "\n",
        "def relu(x):\n",
        "  return np.maximum(0, x)\n",
        "\n",
        "def tanh(x):\n",
        "\treturn np.tanh(x)\n",
        "\n",
        "def deriv_sigmoid(x):\n",
        "  return sigmoid(x)*(1-sigmoid(x))\n",
        "\n",
        "def deriv_relu(x):\n",
        "  return np.where(x <= 0, 0, 1)\n",
        "\n",
        "def deriv_tanh(x):\n",
        "  return (1 - (tanh(x))**2)\n",
        "\n",
        "def softmax(x):\n",
        "  x = x - np.max(x,axis=1,keepdims=True)\n",
        "  return np.exp(x)/np.sum(np.exp(x),axis=1,keepdims=True)\n",
        "\n",
        "\n",
        "\n",
        "\n",
        "def activation(x, activ_fun):\n",
        "  if activ_fun == 'sigmoid':\n",
        "    return sigmoid(x)\n",
        "  elif activ_fun == 'relu':\n",
        "    return relu(x)\n",
        "  elif activ_fun=='softmax':\n",
        "    return softmax(x)\n",
        "  else:\n",
        "    return tanh(x)\n",
        "\n",
        "def deriv_activation(x, activ_fun):\n",
        "  if activ_fun == 'sigmoid':\n",
        "    return deriv_sigmoid(x)\n",
        "  elif activ_fun == 'relu':\n",
        "    return deriv_relu(x)\n",
        "  else:\n",
        "    return deriv_tanh(x)\n"
      ],
      "metadata": {
        "id": "r4rfuQJNamLG"
      },
      "execution_count": 9,
      "outputs": []
    },
    {
      "cell_type": "markdown",
      "source": [
        "Loss function"
      ],
      "metadata": {
        "id": "9ISyJWybbDbi"
      }
    },
    {
      "cell_type": "code",
      "source": [
        "def cross_entropy(y_actual, y_pred):\n",
        "   epsilon = 1e-15  # to prevent log(0) which is undefined\n",
        "   y_pred = np.clip(y_pred, epsilon, 1 - epsilon)\n",
        "   loss = -np.mean(np.sum(y_actual * np.log(y_pred), axis=1))\n",
        "   return loss\n",
        "def mse_loss(y_actual,y_pred):\n",
        "  return np.mean((y_actual-y_pred)**2)\n",
        "\n",
        "\n",
        "def deriv_cross_entropy(y_actual,y_pred):\n",
        "    return (y_pred-y_actual)\n",
        "def deriv_mse_loss(y_actual, y_pred):\n",
        "    return (y_pred - y_actual) * y_pred * (1 - y_pred)\n",
        "\n",
        "\n",
        "def loss_derivative(y_actual,y_pred,loss_function):\n",
        "  if loss_function=='cross_entropy':\n",
        "    return deriv_cross_entropy\n",
        "  else:\n",
        "    return deriv_mse_loss\n",
        "\n"
      ],
      "metadata": {
        "id": "PmmO0ZsGbCtI"
      },
      "execution_count": 10,
      "outputs": []
    },
    {
      "cell_type": "markdown",
      "source": [
        "Forward Propagation"
      ],
      "metadata": {
        "id": "Hf2F8ZqHyQ8c"
      }
    },
    {
      "cell_type": "code",
      "source": [
        "def forward_prop(X, theta, active_fun_hidden, active_fun_output, num_layers):\n",
        "\n",
        "  a = {}\n",
        "  h = {'h0': X}\n",
        "  for i in range(1, num_layers + 1):\n",
        "    a[f'a{i}'] = np.dot(h[f'h{i-1}'], theta[f'W{i}']) + theta[f'b{i}']\n",
        "    h[f'h{i}'] = activation(a[f'a{i}'], active_fun_hidden)\n",
        "  a[f'a{num_layers+1}'] = np.dot(h[f'h{num_layers}'], theta[f'W{num_layers+1}']) + theta[f'b{num_layers+1}']\n",
        "  y_pred = activation(a[f'a{num_layers+1}'], active_fun_output)\n",
        "  return a, h, y_pred\n"
      ],
      "metadata": {
        "id": "HEQ6ssVcbKyx"
      },
      "execution_count": 11,
      "outputs": []
    },
    {
      "cell_type": "markdown",
      "source": [
        "Calculate accuracy"
      ],
      "metadata": {
        "id": "MTgaZ5o2cBaT"
      }
    },
    {
      "cell_type": "code",
      "source": [
        "def cal_accuracy(x,y,theta,active_fun_hidden,active_fun_output,num_layers):\n",
        "    # Get the input size from X (number of features)\n",
        "    input_size = x.shape[0]\n",
        "\n",
        "    # Perform forward propagation to get predicted probabilities\n",
        "    # We only need y_pred, so ignore other returned values with _\n",
        "    _, _, y_pred = forward_prop(x, theta,\n",
        "                               active_fun_hidden,active_fun_output,num_layers)\n",
        "\n",
        "    # Get true class labels from one-hot encoded Y (index of 1 in each column)\n",
        "    true_classes = np.argmax(y, axis=1)\n",
        "\n",
        "    # Get predicted class labels from y_pred (index of max probability in each column)\n",
        "    predicted_classes = np.argmax(y_pred, axis=1)\n",
        "\n",
        "    # Calculate accuracy as the proportion of correct predictions\n",
        "    accuracy = np.mean(predicted_classes == true_classes)\n",
        "\n",
        "    return accuracy"
      ],
      "metadata": {
        "id": "d_YCl96OcCmm"
      },
      "execution_count": 12,
      "outputs": []
    },
    {
      "cell_type": "markdown",
      "source": [
        "Back_prop"
      ],
      "metadata": {
        "id": "HtmOP1MBcIkN"
      }
    },
    {
      "cell_type": "code",
      "source": [
        "def back_prop(x, y, theta, active_fun_hidden, active_fun_output, num_layers, loss_function):\n",
        "    m = x.shape[0]\n",
        "    a, h, y_pred = forward_prop(x, theta, active_fun_hidden, active_fun_output, num_layers)\n",
        "    grad_theta = {}\n",
        "    grad_h_a = {}\n",
        "\n",
        "    # Compute loss derivative based on the chosen loss function\n",
        "    loss_grad = loss_derivative(y, y_pred, loss_function)\n",
        "    grad_h_a[f'a{num_layers+1}'] = loss_grad(y, y_pred)\n",
        "\n",
        "    for i in range(num_layers+1, 0, -1):\n",
        "        grad_theta[f'W{i}'] = np.dot(h[f'h{i-1}'].T, grad_h_a[f'a{i}'])\n",
        "        grad_theta[f'b{i}'] = np.sum(grad_h_a[f'a{i}'], axis=0, keepdims=True)\n",
        "\n",
        "        if i > 1:\n",
        "            grad_h_a[f'h{i-1}'] = np.dot(grad_h_a[f'a{i}'], theta[f'W{i}'].T)\n",
        "            grad_h_a[f'a{i-1}'] = grad_h_a[f'h{i-1}'] * deriv_activation(a[f'a{i-1}'], active_fun_hidden)\n",
        "\n",
        "    return grad_theta\n"
      ],
      "metadata": {
        "id": "02PbU5yicGuj"
      },
      "execution_count": 13,
      "outputs": []
    },
    {
      "cell_type": "markdown",
      "source": [
        "Now we again write gradient decesent algorithm compatiable with batch size ,"
      ],
      "metadata": {
        "id": "zMsZdYfvcU78"
      }
    },
    {
      "cell_type": "code",
      "source": [
        "def sgd(lr, x_train, y_train, x_val, y_val, batch_size, num_layers, hidden_size, active_fun_hidden, active_fun_output, weight_ini_method, weight_decay, epochs, loss_function='cross_entropy'):\n",
        "    # Initialize weights\n",
        "    theta = initial_weight(num_layers, hidden_size, weight_ini_method)\n",
        "    train_loss_history = []\n",
        "    val_loss_history = []\n",
        "\n",
        "    for epoch in range(epochs):\n",
        "        # Shuffle training data\n",
        "        indices = np.arange(x_train.shape[0])\n",
        "        np.random.shuffle(indices)\n",
        "        x_train = x_train[indices]\n",
        "        y_train = y_train[indices]\n",
        "\n",
        "        # Mini-batch training\n",
        "        for i in range(0, x_train.shape[0], batch_size):\n",
        "            x_batch = x_train[i:i + batch_size]\n",
        "            y_batch = y_train[i:i + batch_size]\n",
        "\n",
        "            # Compute gradients and update weights\n",
        "            grad = back_prop(x_batch, y_batch, theta, active_fun_hidden, active_fun_output, num_layers,loss_function)\n",
        "            for j in range(1, num_layers + 2):\n",
        "                theta[f'W{j}'] -= lr * (grad[f'W{j}'] + weight_decay * theta[f'W{j}'])\n",
        "                theta[f'b{j}'] -= lr * grad[f'b{j}']\n",
        "        # Compute the train accuracy\n",
        "        train_accuracy = cal_accuracy(x_train, y_train, theta, active_fun_hidden, active_fun_output, num_layers)\n",
        "\n",
        "        # Compute and store training loss\n",
        "        _, _, y_train_pred = forward_prop(x_train, theta, active_fun_hidden, active_fun_output, num_layers)\n",
        "        train_loss = cross_entropy(y_train, y_train_pred) if loss_function == 'cross_entropy' else mse_loss(y_train, y_train_pred)\n",
        "        train_loss_history.append(train_loss)\n",
        "\n",
        "        # Compute the validation accuracy\n",
        "        validation_accuracy = cal_accuracy(x_val, y_val, theta, active_fun_hidden, active_fun_output, num_layers)\n",
        "\n",
        "        # Compute and store validation loss\n",
        "        _, _, y_val_pred = forward_prop(x_val, theta, active_fun_hidden, active_fun_output, num_layers)\n",
        "        val_loss = cross_entropy(y_val, y_val_pred) if loss_function == 'cross_entropy' else mse_loss(y_val, y_val_pred)\n",
        "        val_loss_history.append(val_loss)\n",
        "\n",
        "        print(f\"Epoch {epoch+1}, Train Loss: {train_loss}, Val Loss: {val_loss},Val Accuracy:{ validation_accuracy}\")\n",
        "        wandb.log({\"train_loss\": train_loss, \"val_loss\": val_loss, \"train_accuracy\": train_accuracy * 100, \"val_accuracy\": validation_accuracy * 100, 'epoch': epoch + 1})\n",
        "\n",
        "\n",
        "\n",
        "    return theta, train_loss_history, val_loss_history\n"
      ],
      "metadata": {
        "id": "3avsjea6cNu0"
      },
      "execution_count": 14,
      "outputs": []
    },
    {
      "cell_type": "markdown",
      "source": [
        "Moment Gradient descent (here momentum=beta)"
      ],
      "metadata": {
        "id": "k9o-RzjFry14"
      }
    },
    {
      "cell_type": "code",
      "source": [
        "def mgd(lr, momentum, x_train, y_train, x_val, y_val, batch_size, num_layers, hidden_size, active_fun_hidden, active_fun_output, weight_ini_method, weight_decay, epochs, loss_function='cross_entropy'):\n",
        "    theta = initial_weight(num_layers, hidden_size, weight_ini_method)\n",
        "    train_loss_history = []\n",
        "    val_loss_history = []\n",
        "\n",
        "    # Initialize velocity terms for weights and biases\n",
        "    velocity = {}\n",
        "    for i in range(1, num_layers + 2):\n",
        "        velocity[f'W{i}'] = np.zeros_like(theta[f'W{i}'])\n",
        "        velocity[f'b{i}'] = np.zeros_like(theta[f'b{i}'])\n",
        "\n",
        "    for epoch in range(epochs):\n",
        "        # Shuffle training data\n",
        "        indices = np.arange(x_train.shape[0])\n",
        "        np.random.shuffle(indices)\n",
        "        x_train = x_train[indices]\n",
        "        y_train = y_train[indices]\n",
        "\n",
        "        # Mini-batch training\n",
        "        for i in range(0, x_train.shape[0], batch_size):\n",
        "            x_batch = x_train[i:i + batch_size]\n",
        "            y_batch = y_train[i:i + batch_size]\n",
        "\n",
        "            # Compute gradients\n",
        "            grad = back_prop(x_batch, y_batch, theta, active_fun_hidden, active_fun_output, num_layers,loss_function)\n",
        "\n",
        "            # Update weights and biases using momentum\n",
        "            for j in range(1, num_layers + 2):\n",
        "                velocity[f'W{j}'] = momentum * velocity[f'W{j}'] + grad[f'W{j}']\n",
        "                velocity[f'b{j}'] = momentum * velocity[f'b{j}'] + grad[f'b{j}']\n",
        "\n",
        "                theta[f'W{j}'] -= lr * (velocity[f'W{j}'] + weight_decay * theta[f'W{j}'])\n",
        "                theta[f'b{j}'] -= lr * velocity[f'b{j}']\n",
        "\n",
        "        # Compute the train accuracy\n",
        "        train_accuracy = cal_accuracy(x_train, y_train, theta, active_fun_hidden, active_fun_output, num_layers)\n",
        "\n",
        "        # Compute and store training loss\n",
        "        _, _, y_train_pred = forward_prop(x_train, theta, active_fun_hidden, active_fun_output, num_layers)\n",
        "        train_loss = cross_entropy(y_train, y_train_pred) if loss_function == 'cross_entropy' else mse_loss(y_train, y_train_pred)\n",
        "        train_loss_history.append(train_loss)\n",
        "\n",
        "        # Compute the validation accuracy\n",
        "        validation_accuracy = cal_accuracy(x_val, y_val, theta, active_fun_hidden, active_fun_output, num_layers)\n",
        "\n",
        "        # Compute and store validation loss\n",
        "        _, _, y_val_pred = forward_prop(x_val, theta, active_fun_hidden, active_fun_output, num_layers)\n",
        "        val_loss = cross_entropy(y_val, y_val_pred) if loss_function == 'cross_entropy' else mse_loss(y_val, y_val_pred)\n",
        "        val_loss_history.append(val_loss)\n",
        "\n",
        "        print(f\"Epoch {epoch+1}, Train Loss: {train_loss}, Val Loss: {val_loss}\")\n",
        "        wandb.log({\"train_loss\": train_loss, \"val_loss\": val_loss, \"train_accuracy\": train_accuracy * 100, \"val_accuracy\": validation_accuracy * 100, 'epoch': epoch + 1})\n",
        "\n",
        "\n",
        "\n",
        "    return theta\n"
      ],
      "metadata": {
        "id": "6rZVfVJucfGn"
      },
      "execution_count": 15,
      "outputs": []
    },
    {
      "cell_type": "markdown",
      "source": [
        "**Nesterov accelerated gradient descent**"
      ],
      "metadata": {
        "id": "vcfR044tvXhz"
      }
    },
    {
      "cell_type": "code",
      "source": [
        "def nesterov_gd(lr, momentum, x_train, y_train, x_val, y_val, batch_size, num_layers, hidden_size, active_fun_hidden, active_fun_output, weight_ini_method, weight_decay, epochs,loss_function='cross_entorpy'):\n",
        "    # Initialize network parameters\n",
        "    theta = initial_weight(num_layers, hidden_size, weight_ini_method)\n",
        "\n",
        "    # Initialize velocity dictionary with zeros, matching the shape of each parameter\n",
        "    velocity = {key: np.zeros_like(theta[key]) for key in theta.keys()}\n",
        "\n",
        "    # List to store loss history\n",
        "    loss_history = []\n",
        "    val_loss_history = []\n",
        "\n",
        "    for epoch in range(epochs):\n",
        "        # Shuffle training data\n",
        "        indices = np.arange(x_train.shape[0])\n",
        "        np.random.shuffle(indices)\n",
        "        x_train = x_train[indices]\n",
        "        y_train = y_train[indices]\n",
        "\n",
        "        for i in range(0, x_train.shape[0], batch_size):\n",
        "            x_batch = x_train[i:i + batch_size]\n",
        "            y_batch = y_train[i:i + batch_size]\n",
        "\n",
        "            # Look ahead step for Nesterov momentum\n",
        "            lookahead_theta = {key: theta[key] - momentum * velocity[key] for key in theta.keys()}\n",
        "\n",
        "            # Compute gradients using backpropagation on the lookahead parameters\n",
        "            grad = back_prop(x_batch, y_batch, lookahead_theta, active_fun_hidden, active_fun_output, num_layers,loss_function)\n",
        "\n",
        "            # Update velocities and parameters with Nesterov momentum and apply weight decay\n",
        "            for k in range(1, num_layers + 2):\n",
        "                # Update velocity for weights\n",
        "                velocity[f'W{k}'] = momentum * velocity[f'W{k}'] + grad[f'W{k}'] + weight_decay * theta[f'W{k}']\n",
        "                # Update weights using velocity\n",
        "                theta[f'W{k}'] -= lr * velocity[f'W{k}']\n",
        "\n",
        "                # Update velocity for biases\n",
        "                velocity[f'b{k}'] = momentum * velocity[f'b{k}'] + grad[f'b{k}']\n",
        "                # Update biases using velocity (no weight decay for biases)\n",
        "                theta[f'b{k}'] -= lr * velocity[f'b{k}']\n",
        "\n",
        "        # Compute the train accuracy\n",
        "        train_accuracy = cal_accuracy(x_train, y_train, theta, active_fun_hidden, active_fun_output, num_layers)\n",
        "\n",
        "        # Compute training loss and predictions\n",
        "        a, h, y_train_pred = forward_prop(x_train, theta, active_fun_hidden, active_fun_output, num_layers)\n",
        "        train_loss = cross_entropy(y_train, y_train_pred) if loss_function == 'cross_entropy' else mse_loss(y_train, y_train_pred)\n",
        "        loss_history.append(train_loss)\n",
        "\n",
        "        # Compute the validation accuracy\n",
        "        validation_accuracy = cal_accuracy(x_val, y_val, theta, active_fun_hidden, active_fun_output, num_layers)\n",
        "\n",
        "        # Compute validation loss\n",
        "        _, _, y_val_pred = forward_prop(x_val, theta, active_fun_hidden, active_fun_output, num_layers)\n",
        "        val_loss = cross_entropy(y_val, y_val_pred) if loss_function == 'cross_entropy' else mse_loss(y_val, y_val_pred)\n",
        "        val_loss_history.append(val_loss)\n",
        "\n",
        "        # Print loss for monitoring\n",
        "        print(f\"Epoch {epoch+1}, Loss: {train_loss}, Validation Loss: {val_loss}\")\n",
        "        wandb.log({\"train_loss\": train_loss, \"val_loss\": val_loss, \"train_accuracy\": train_accuracy * 100, \"val_accuracy\": validation_accuracy * 100,'epoch':epoch+1})\n",
        "\n",
        "    return theta"
      ],
      "metadata": {
        "id": "NqrxSWryoy54"
      },
      "execution_count": 16,
      "outputs": []
    },
    {
      "cell_type": "markdown",
      "source": [
        "**RMS Prop**"
      ],
      "metadata": {
        "id": "BbTFuJZhwaI1"
      }
    },
    {
      "cell_type": "code",
      "source": [
        "def rmsprop(lr, gamma, epsilon, x_train, y_train, x_val, y_val, batch_size, num_layers, hidden_size, active_fun_hidden, active_fun_output, weight_ini_method, weight_decay, epochs, loss_function='cross_entropy'):\n",
        "    # Initialize network parameters\n",
        "    theta = initial_weight(num_layers, hidden_size, weight_ini_method)\n",
        "\n",
        "    # Initialize squared gradient dictionary with zeros\n",
        "    squared_grad = {key: np.zeros_like(theta[key]) for key in theta.keys()}\n",
        "\n",
        "    # Lists to store loss history\n",
        "    loss_history = []\n",
        "    val_loss_history = []\n",
        "\n",
        "    # Training loop over epochs\n",
        "    for epoch in range(epochs):\n",
        "        # Shuffle training data\n",
        "        indices = np.arange(x_train.shape[0])\n",
        "        np.random.shuffle(indices)\n",
        "        x_train = x_train[indices]\n",
        "        y_train = y_train[indices]\n",
        "\n",
        "        for i in range(0, x_train.shape[0], batch_size):\n",
        "            x_batch = x_train[i:i + batch_size]\n",
        "            y_batch = y_train[i:i + batch_size]\n",
        "\n",
        "            # Compute gradients using backpropagation\n",
        "            grad = back_prop(x_batch, y_batch, theta, active_fun_hidden, active_fun_output, num_layers,loss_function)\n",
        "\n",
        "            # Update squared gradients and parameters using RMSprop\n",
        "            for k in range(1, num_layers + 2):\n",
        "                # Update squared gradient for weights\n",
        "                squared_grad[f'W{k}'] = gamma * squared_grad[f'W{k}'] + (1 - gamma) * (grad[f'W{k}'] ** 2)\n",
        "                # Apply weight decay separately (L2 Regularization)\n",
        "                theta[f'W{k}'] -= lr * (grad[f'W{k}'] / (np.sqrt(squared_grad[f'W{k}']) + epsilon)) + weight_decay * theta[f'W{k}']\n",
        "\n",
        "                # Update squared gradient for biases\n",
        "                squared_grad[f'b{k}'] = gamma * squared_grad[f'b{k}'] + (1 - gamma) * (grad[f'b{k}'] ** 2)\n",
        "                # Update biases\n",
        "                theta[f'b{k}'] -= lr * (grad[f'b{k}'] / (np.sqrt(squared_grad[f'b{k}']) + epsilon))\n",
        "\n",
        "        # Compute training accuracy\n",
        "        train_accuracy = cal_accuracy(x_train, y_train, theta, active_fun_hidden, active_fun_output, num_layers)\n",
        "\n",
        "        # Compute training loss\n",
        "        _, _, y_train_pred = forward_prop(x_train, theta, active_fun_hidden, active_fun_output, num_layers)\n",
        "        train_loss = cross_entropy(y_train, y_train_pred) if loss_function == 'cross_entropy' else mse_loss(y_train, y_train_pred)\n",
        "        loss_history.append(train_loss)\n",
        "\n",
        "        # Compute validation accuracy\n",
        "        val_accuracy = cal_accuracy(x_val, y_val, theta, active_fun_hidden, active_fun_output, num_layers)\n",
        "\n",
        "        # Compute validation loss\n",
        "        _, _, y_val_pred = forward_prop(x_val, theta, active_fun_hidden, active_fun_output, num_layers)\n",
        "        val_loss = cross_entropy(y_val, y_val_pred) if loss_function == 'cross_entropy' else mse_loss(y_val, y_val_pred)\n",
        "        val_loss_history.append(val_loss)\n",
        "\n",
        "        # Print loss for monitoring\n",
        "        print(f\"Epoch {epoch+1}, Loss: {train_loss:.4f}, Val Loss: {val_loss:.4f}, Train Acc: {train_accuracy:.2%}, Val Acc: {val_accuracy:.2%}\")\n",
        "\n",
        "        # Log metrics to W&B\n",
        "        wandb.log({\n",
        "            \"epoch\": epoch + 1,\n",
        "            \"train_loss\": train_loss,\n",
        "            \"val_loss\": val_loss,\n",
        "            \"train_accuracy\": train_accuracy * 100,\n",
        "            \"val_accuracy\": val_accuracy * 100\n",
        "        })\n",
        "\n",
        "    return theta\n"
      ],
      "metadata": {
        "id": "SdNS_n2owQh1"
      },
      "execution_count": 17,
      "outputs": []
    },
    {
      "cell_type": "markdown",
      "source": [
        "**ADAM**"
      ],
      "metadata": {
        "id": "BHWZl5YvwyZB"
      }
    },
    {
      "cell_type": "code",
      "source": [
        "def adam(lr, beta1, beta2, epsilon, x_train, y_train, x_val, y_val, batch_size, num_layers, hidden_size, active_fun_hidden, active_fun_output, weight_ini_method, weight_decay, epochs, loss_function='cross_entropy'):\n",
        "    theta = initial_weight(num_layers, hidden_size, weight_ini_method)\n",
        "    train_loss_history = []\n",
        "    val_loss_history = []\n",
        "\n",
        "    # Initialize first moment (m) and second moment (v) dictionaries with zeros\n",
        "    m = {key: np.zeros_like(theta[key]) for key in theta.keys()}\n",
        "    v = {key: np.zeros_like(theta[key]) for key in theta.keys()}\n",
        "\n",
        "    for epoch in range(1, epochs + 1):\n",
        "        # Shuffle training data\n",
        "        indices = np.arange(x_train.shape[0])\n",
        "        np.random.shuffle(indices)\n",
        "        x_train = x_train[indices]\n",
        "        y_train = y_train[indices]\n",
        "\n",
        "        for i in range(0, x_train.shape[0], batch_size):\n",
        "            x_batch = x_train[i:i + batch_size]\n",
        "            y_batch = y_train[i:i + batch_size]\n",
        "\n",
        "            # Compute gradients using backpropagation\n",
        "            grad = back_prop(x_batch, y_batch, theta, active_fun_hidden, active_fun_output, num_layers,loss_function)\n",
        "\n",
        "            # Update first and second moment estimates and parameters with Adam\n",
        "            for k in range(1, num_layers + 2):\n",
        "                m[f'W{k}'] = beta1 * m[f'W{k}'] + (1 - beta1) * grad[f'W{k}']\n",
        "                m[f'b{k}'] = beta1 * m[f'b{k}'] + (1 - beta1) * grad[f'b{k}']\n",
        "\n",
        "                v[f'W{k}'] = beta2 * v[f'W{k}'] + (1 - beta2) * (grad[f'W{k}'] ** 2)\n",
        "                v[f'b{k}'] = beta2 * v[f'b{k}'] + (1 - beta2) * (grad[f'b{k}'] ** 2)\n",
        "\n",
        "                m_hat_W = m[f'W{k}'] / (1 - beta1 ** epoch)\n",
        "                m_hat_b = m[f'b{k}'] / (1 - beta1 ** epoch)\n",
        "                v_hat_W = v[f'W{k}'] / (1 - beta2 ** epoch)\n",
        "                v_hat_b = v[f'b{k}'] / (1 - beta2 ** epoch)\n",
        "\n",
        "                theta[f'W{k}'] -= lr * (m_hat_W / (np.sqrt(v_hat_W) + epsilon) + weight_decay * theta[f'W{k}'])\n",
        "                theta[f'b{k}'] -= lr * m_hat_b / (np.sqrt(v_hat_b) + epsilon)\n",
        "\n",
        "        train_accuracy = cal_accuracy(x_train, y_train, theta, active_fun_hidden, active_fun_output, num_layers)\n",
        "\n",
        "        _, _, y_train_pred = forward_prop(x_train, theta, active_fun_hidden, active_fun_output, num_layers)\n",
        "        train_loss = cross_entropy(y_train, y_train_pred) if loss_function == 'cross_entropy' else mse_loss(y_train, y_train_pred)\n",
        "        train_loss_history.append(train_loss)\n",
        "\n",
        "        validation_accuracy = cal_accuracy(x_val, y_val, theta, active_fun_hidden, active_fun_output, num_layers)\n",
        "\n",
        "        _, _, y_val_pred = forward_prop(x_val, theta, active_fun_hidden, active_fun_output, num_layers)\n",
        "        val_loss = cross_entropy(y_val, y_val_pred) if loss_function == 'cross_entropy' else mse_loss(y_val, y_val_pred)\n",
        "        val_loss_history.append(val_loss)\n",
        "\n",
        "        print(f\"Epoch {epoch}, Train Loss: {train_loss}, Val Loss: {val_loss}\")\n",
        "        wandb.log({\"train_loss\": train_loss, \"val_loss\": val_loss, \"train_accuracy\": train_accuracy * 100, \"val_accuracy\": validation_accuracy * 100, 'epoch': epoch})\n",
        "\n",
        "    return theta\n"
      ],
      "metadata": {
        "id": "-Spq_7iOw1Q1"
      },
      "execution_count": 18,
      "outputs": []
    },
    {
      "cell_type": "markdown",
      "source": [
        "**NDAM**"
      ],
      "metadata": {
        "id": "eUd42_MyxMur"
      }
    },
    {
      "cell_type": "code",
      "source": [
        "import numpy as np\n",
        "import matplotlib.pyplot as plt\n",
        "\n",
        "def nadam(lr, beta1, beta2, epsilon, x_train, y_train, x_val, y_val, batch_size, num_layers, hidden_size, active_fun_hidden, active_fun_output, weight_ini_method, weight_decay, epochs, loss_function='cross_entropy'):\n",
        "    # Initialize network parameters\n",
        "    theta = initial_weight(num_layers, hidden_size, weight_ini_method)\n",
        "\n",
        "    # Initialize first moment (m) and second moment (v) dictionaries with zeros\n",
        "    m = {key: np.zeros_like(theta[key]) for key in theta.keys()}\n",
        "    v = {key: np.zeros_like(theta[key]) for key in theta.keys()}\n",
        "\n",
        "    # Lists to store loss history\n",
        "    loss_history = []\n",
        "    val_loss_history = []\n",
        "\n",
        "    # Training loop over epochs\n",
        "    for epoch in range(1, epochs + 1):\n",
        "        # Shuffle training data\n",
        "        indices = np.arange(x_train.shape[0])\n",
        "        np.random.shuffle(indices)\n",
        "        x_train, y_train = x_train[indices], y_train[indices]\n",
        "\n",
        "        for i in range(0, x_train.shape[0], batch_size):\n",
        "            x_batch = x_train[i:i + batch_size]\n",
        "            y_batch = y_train[i:i + batch_size]\n",
        "\n",
        "            # Compute gradients using backpropagation\n",
        "            grad = back_prop(x_batch, y_batch, theta, active_fun_hidden, active_fun_output, num_layers,loss_function)\n",
        "\n",
        "            # Update first and second moment estimates and parameters with Nadam\n",
        "            for k in range(1, num_layers + 2):\n",
        "                # Update biased first moment estimate\n",
        "                m[f'W{k}'] = beta1 * m[f'W{k}'] + (1 - beta1) * grad[f'W{k}']\n",
        "                m[f'b{k}'] = beta1 * m[f'b{k}'] + (1 - beta1) * grad[f'b{k}']\n",
        "\n",
        "                # Update biased second moment estimate\n",
        "                v[f'W{k}'] = beta2 * v[f'W{k}'] + (1 - beta2) * (grad[f'W{k}'] ** 2)\n",
        "                v[f'b{k}'] = beta2 * v[f'b{k}'] + (1 - beta2) * (grad[f'b{k}'] ** 2)\n",
        "\n",
        "                # Compute bias-corrected first and second moment estimates with Nesterov acceleration\n",
        "                m_hat_W = (beta1 * m[f'W{k}'] + (1 - beta1) * grad[f'W{k}']) / (1 - beta1 ** epoch)\n",
        "                m_hat_b = (beta1 * m[f'b{k}'] + (1 - beta1) * grad[f'b{k}']) / (1 - beta1 ** epoch)\n",
        "                v_hat_W = v[f'W{k}'] / (1 - beta2 ** epoch)\n",
        "                v_hat_b = v[f'b{k}'] / (1 - beta2 ** epoch)\n",
        "\n",
        "                # Update weights and biases\n",
        "                theta[f'W{k}'] -= lr * (m_hat_W / (np.sqrt(v_hat_W) + epsilon) + weight_decay * theta[f'W{k}'])\n",
        "                theta[f'b{k}'] -= lr * m_hat_b / (np.sqrt(v_hat_b) + epsilon)\n",
        "\n",
        "        # Compute training accuracy\n",
        "        train_accuracy = cal_accuracy(x_train, y_train, theta, active_fun_hidden, active_fun_output, num_layers)\n",
        "\n",
        "        # Compute training loss\n",
        "        _, _, y_train_pred = forward_prop(x_train, theta, active_fun_hidden, active_fun_output, num_layers)\n",
        "        train_loss = cross_entropy(y_train, y_train_pred) if loss_function == 'cross_entropy' else mse_loss(y_train, y_train_pred)\n",
        "        loss_history.append(train_loss)\n",
        "\n",
        "        # Compute validation accuracy\n",
        "        validation_accuracy = cal_accuracy(x_val, y_val, theta, active_fun_hidden, active_fun_output, num_layers)\n",
        "\n",
        "        # Compute validation loss\n",
        "        _, _, y_val_pred = forward_prop(x_val, theta, active_fun_hidden, active_fun_output, num_layers)\n",
        "        val_loss = cross_entropy(y_val, y_val_pred) if loss_function == 'cross_entropy' else mse_loss(y_val, y_val_pred)\n",
        "        val_loss_history.append(val_loss)\n",
        "\n",
        "        # Print loss for monitoring\n",
        "        print(f\"Epoch {epoch}, Loss: {train_loss}, Validation Loss: {val_loss}, validation_accuracy:{ validation_accuracy}\")\n",
        "        wandb.log({\"train_loss\": train_loss, \"val_loss\": val_loss, \"train_accuracy\": train_accuracy * 100, \"val_accuracy\": validation_accuracy * 100, 'epoch': epoch})\n",
        "\n",
        "    return theta\n"
      ],
      "metadata": {
        "id": "yjMO4BhHxOxg"
      },
      "execution_count": 26,
      "outputs": []
    },
    {
      "cell_type": "markdown",
      "source": [
        "**MOdel **"
      ],
      "metadata": {
        "id": "Bjd6KTHF2Pr5"
      }
    },
    {
      "cell_type": "code",
      "source": [
        "def model_training(lr, beta, beta1, beta2, epsilon, x_train, y_train, x_valid, y_valid, optimizer, batch_size, num_layers, hidden_size, active_fun_hidden, active_fun_output, weight_ini_method, weight_decay, epochs,loss_function):\n",
        "\n",
        "    if optimizer == 'sgd':\n",
        "        theta = sgd(lr, x_train, y_train, x_valid, y_valid, batch_size, num_layers, hidden_size, active_fun_hidden, active_fun_output, weight_ini_method, weight_decay, epochs,loss_function='cross_entopy')\n",
        "    elif optimizer == 'momentum':\n",
        "        theta = mgd(lr, beta, x_train, y_train, x_valid, y_valid, batch_size, num_layers, hidden_size, active_fun_hidden, active_fun_output, weight_ini_method, weight_decay, epochs,loss_function='cross_entopy')\n",
        "    elif optimizer == 'nag':\n",
        "        theta = nesterov_gd(lr, beta, x_train, y_train, x_valid, y_valid, batch_size, num_layers, hidden_size, active_fun_hidden, active_fun_output, weight_ini_method, weight_decay, epochs,loss_function='cross_entopy')\n",
        "    elif optimizer == 'RMSprop':\n",
        "        theta = rmsprop(lr, beta, epsilon, x_train, y_train, x_valid, y_valid, batch_size, num_layers, hidden_size, active_fun_hidden, active_fun_output, weight_ini_method, weight_decay, epochs,loss_function='cross_entopy')\n",
        "    elif optimizer == 'adam':\n",
        "        theta = adam(lr, beta1, beta2, epsilon, x_train, y_train, x_valid, y_valid, batch_size, num_layers, hidden_size, active_fun_hidden, active_fun_output, weight_ini_method, weight_decay, epochs,loss_function='cross_entopy')\n",
        "    elif optimizer=='nadam':\n",
        "      theta=nadam(lr, beta1, beta2, epsilon, x_train, y_train, x_valid, y_valid, batch_size, num_layers, hidden_size, active_fun_hidden, active_fun_output, weight_ini_method, weight_decay, epochs,loss_function='cross_entopy')\n",
        "    return theta"
      ],
      "metadata": {
        "id": "Gnun3pTU2O6-"
      },
      "execution_count": 20,
      "outputs": []
    },
    {
      "cell_type": "code",
      "source": [
        "#Q2 and Q3 train a neural network with given hypermaters with cross entropy loss\n",
        "#in question 2 intialize a neural network and pass a forward prop that will predict probabilities. here i run adam model , in there first it create\n",
        "#a intial network and call backprop update weights , in back prop at first it will call forward prop then update weights and it will iterate as many epochs it has\n",
        "#and give the accuracy, loss for train and valid dataset.\n",
        "#---------uncomment the below code for run----------------\n",
        "#wandb.init(project='deep_learning_assignment_1',name='adam-relu-softmax-random-layer-4-hid_size-32-epoch-5'')\n",
        "#theta=adam(0.001,0.9,0.99,1e-8,x_train, y_train, x_valid, y_valid,32,4,'relu','softmax','random',0,5)\n",
        "#wandb.finish()\n"
      ],
      "metadata": {
        "id": "gGA-4XjLIdy-"
      },
      "execution_count": 54,
      "outputs": []
    },
    {
      "cell_type": "code",
      "source": [
        "#Q4 : create a sweep_id and run the sweep in wandb and generate all the required plots.\n",
        "sweep_config={\n",
        "    'method':'bayes',#possible search random,grid\n",
        "    'metric':{\n",
        "        'name':'Valdiation_accuracy',\n",
        "        'goal':'maximize'\n",
        "    },\n",
        "    'parameters':{\n",
        "        'epochs':{\n",
        "            'values':[5,10]\n",
        "\n",
        "        },\n",
        "      'hidden_size':{\n",
        "            'values':[32, 64, 128]\n",
        "        },\n",
        "        'activation_hidden':{\n",
        "            'values':['relu','sigmoid','tanh']\n",
        "        },\n",
        "        'activation_output':{\n",
        "            'values':['softmax']\n",
        "        },\n",
        "        'weight_ini_method':{\n",
        "            'values':['Xavier','random']\n",
        "        },\n",
        "        'batch_size':{\n",
        "            'values':[16,32,64]\n",
        "        }\n",
        "      ,'num_layers':{\n",
        "            'values':[3,4,5]\n",
        "        },\n",
        "        'weight_decay':{\n",
        "            'values':[0]#(we take l2 regulraization as zero)\n",
        "        } ,\n",
        "        'learning_rate':{\n",
        "            'values':[1e-3,1e-4]\n",
        "      }\n",
        "        ,'optimizer':{\n",
        "            'values':['sgd','momentum','nag','RMSprop','adam','nadam']\n",
        "}\n",
        "    }\n",
        "}\n",
        "sweep_id=wandb.sweep(sweep_config,project='deep_learning_assignment_1')"
      ],
      "metadata": {
        "id": "ZVGwr4h9N15y",
        "colab": {
          "base_uri": "https://localhost:8080/"
        },
        "outputId": "56edefaa-92f5-4104-f924-321d09ec7f39"
      },
      "execution_count": 55,
      "outputs": [
        {
          "output_type": "stream",
          "name": "stdout",
          "text": [
            "Create sweep with ID: i8bhmt8c\n",
            "Sweep URL: https://wandb.ai/bgorai005-iit-madras/deep_learning_assignment_1/sweeps/i8bhmt8c\n"
          ]
        }
      ]
    },
    {
      "source": [
        "#Q4: main function\n",
        "\n",
        "def main():\n",
        "  with wandb.init() as run:\n",
        "    run_name=f\"ac-{wandb.config.activation_hidden}_hs-{wandb.config.hidden_size}_epc-{wandb.config.epochs}_nl-{wandb.config.num_layers}_lr{wandb.config.learning_rate}_wd-{wandb.config.weight_decay}_opt-{wandb.config.optimizer}_bs-{wandb.config.batch_size}_wi-{wandb.config.weight_ini_method}\"\n",
        "    wandb.run.name=run_name\n",
        "\n",
        "    model_training(wandb.config.learning_rate,0.9,0.9,0.99,1e-8,x_train,y_train,x_valid,y_valid,wandb.config.optimizer,wandb.config.batch_size,wandb.config.num_layers,wandb.config.hidden_size,wandb.config.activation_hidden,wandb.config.activation_output,wandb.config.weight_ini_method,wandb.config.weight_decay,wandb.config.epochs,'cross_entropy')\n",
        "\n",
        "try:\n",
        "    wandb.agent(sweep_id,function=main,count=100)\n",
        "    wandb.finish()\n",
        "except BrokenPipeError:\n",
        "    print(\"Encountered a BrokenPipeError. Attempting to gracefully finish the run.\")\n",
        "    # You can add additional error handling logic here, such as saving intermediate results\n",
        "    wandb.finish(quiet=True)  # Try finishing quietly to avoid further errors"
      ],
      "cell_type": "code",
      "metadata": {
        "id": "sbOOJ3kitwYN",
        "collapsed": true
      },
      "execution_count": null,
      "outputs": []
    },
    {
      "source": [
        "#Q7:From the above results, we found that Nadam achieved the highest accuracy of 89.5% with the following hyperparameters: activation = ReLU, layers = 3, hidden size = 128, initialization = Xavier, epochs = 10, batch size = 64.\n",
        "\n",
        "#To generate the confusion matrix for the best model, we first retrieve the corresponding theta values, perform forward propagation to obtain y_pred,\n",
        "# and then use these predictions to create the confusion matrix.\n",
        "\n",
        "# Initialize W&B run\n",
        "wandb.init(project='deep_learning_assignment_1', name='confusion_matrix_run')\n",
        "theta1=nadam(0.001,0.9,0.99,1e-8,x_train,y_train,x_valid,y_valid,64,3,128,'tanh','softmax','Xavier',0,10)\n",
        "y_test_label=[]\n",
        "y_test_pred_label=[]\n",
        "m=x_test.shape[0]\n",
        "for i in range(m):\n",
        "  x_tes =x_test[i,:].reshape(-1,1)\n",
        "  a,h,y_test_pred=forward_prop(x_tes.T,theta1,'tanh','softmax',3)\n",
        "  y1=np.argmax(y_test[i,:].reshape(-1,1),axis=0)\n",
        "  y_test_label.append(y1)\n",
        "  # Get the index of the maximum probability for the current sample\n",
        "  y2=np.argmax(y_test_pred)\n",
        "  # Append only the predicted class label (integer) to the list\n",
        "  y_test_pred_label.append(y2)\n",
        "import wandb\n",
        "from sklearn.metrics import confusion_matrix, ConfusionMatrixDisplay, classification_report\n",
        "import matplotlib.pyplot as plt\n",
        "\n",
        "\n",
        "\n",
        "# Compute confusion matrix\n",
        "cm = confusion_matrix(y_test_label, y_test_pred_label)\n",
        "class_labels = [\"T-shirt/top\", \"Trouser\", \"Pullover\", \"Dress\", \"Coat\",\n",
        "                \"Sandal\", \"Shirt\", \"Sneaker\", \"Bag\", \"Ankle boot\"]\n",
        "\n",
        "# Plot confusion matrix\n",
        "fig, ax = plt.subplots(figsize=(8, 6))\n",
        "cm_display = ConfusionMatrixDisplay(confusion_matrix=cm, display_labels=class_labels)\n",
        "cm_display.plot(ax=ax, cmap=plt.cm.Blues)\n",
        "plt.title('Confusion Matrix')\n",
        "plt.xlabel('Predicted Label')\n",
        "plt.ylabel('True Label')\n",
        "\n",
        "# Log the confusion matrix plot to W&B\n",
        "wandb.log({\"Confusion Matrix\": wandb.Image(fig)})\n",
        "\n",
        "# Finish the W&B run\n",
        "wandb.finish()\n"
      ],
      "cell_type": "code",
      "metadata": {
        "colab": {
          "base_uri": "https://localhost:8080/",
          "height": 1000
        },
        "id": "2Uia1OIq5Eie",
        "outputId": "b7cacec6-ad78-4f73-b024-e9b7955cbcba"
      },
      "execution_count": 21,
      "outputs": [
        {
          "output_type": "display_data",
          "data": {
            "text/plain": [
              "<IPython.core.display.HTML object>"
            ],
            "text/html": [
              "Tracking run with wandb version 0.19.8"
            ]
          },
          "metadata": {}
        },
        {
          "output_type": "display_data",
          "data": {
            "text/plain": [
              "<IPython.core.display.HTML object>"
            ],
            "text/html": [
              "Run data is saved locally in <code>/content/wandb/run-20250317_014848-77mbydet</code>"
            ]
          },
          "metadata": {}
        },
        {
          "output_type": "display_data",
          "data": {
            "text/plain": [
              "<IPython.core.display.HTML object>"
            ],
            "text/html": [
              "Syncing run <strong><a href='https://wandb.ai/bgorai005-iit-madras/deep_learning_assignment_1/runs/77mbydet' target=\"_blank\">confusion_matrix_run</a></strong> to <a href='https://wandb.ai/bgorai005-iit-madras/deep_learning_assignment_1' target=\"_blank\">Weights & Biases</a> (<a href='https://wandb.me/developer-guide' target=\"_blank\">docs</a>)<br>"
            ]
          },
          "metadata": {}
        },
        {
          "output_type": "display_data",
          "data": {
            "text/plain": [
              "<IPython.core.display.HTML object>"
            ],
            "text/html": [
              " View project at <a href='https://wandb.ai/bgorai005-iit-madras/deep_learning_assignment_1' target=\"_blank\">https://wandb.ai/bgorai005-iit-madras/deep_learning_assignment_1</a>"
            ]
          },
          "metadata": {}
        },
        {
          "output_type": "display_data",
          "data": {
            "text/plain": [
              "<IPython.core.display.HTML object>"
            ],
            "text/html": [
              " View run at <a href='https://wandb.ai/bgorai005-iit-madras/deep_learning_assignment_1/runs/77mbydet' target=\"_blank\">https://wandb.ai/bgorai005-iit-madras/deep_learning_assignment_1/runs/77mbydet</a>"
            ]
          },
          "metadata": {}
        },
        {
          "output_type": "stream",
          "name": "stdout",
          "text": [
            "[784, 128, 128, 128, 10]\n",
            "Epoch 1, Loss: 0.3514489661786835, Validation Loss: 0.370225922334888\n",
            "Epoch 2, Loss: 0.2978939068113735, Validation Loss: 0.33196157329096476\n",
            "Epoch 3, Loss: 0.2823917371358681, Validation Loss: 0.32643137307740727\n",
            "Epoch 4, Loss: 0.255799436183171, Validation Loss: 0.3100039498893626\n",
            "Epoch 5, Loss: 0.24369466308336896, Validation Loss: 0.30798820765461754\n",
            "Epoch 6, Loss: 0.22602214828983472, Validation Loss: 0.30245448798928604\n",
            "Epoch 7, Loss: 0.26465270071193525, Validation Loss: 0.3509802844097199\n",
            "Epoch 8, Loss: 0.22134766425749908, Validation Loss: 0.3162254388555397\n",
            "Epoch 9, Loss: 0.20388124998460014, Validation Loss: 0.30735019086158955\n",
            "Epoch 10, Loss: 0.18860551174315185, Validation Loss: 0.2959032197598829\n"
          ]
        },
        {
          "output_type": "display_data",
          "data": {
            "text/plain": [
              "<IPython.core.display.HTML object>"
            ],
            "text/html": []
          },
          "metadata": {}
        },
        {
          "output_type": "display_data",
          "data": {
            "text/plain": [
              "<IPython.core.display.HTML object>"
            ],
            "text/html": [
              "<br>    <style><br>        .wandb-row {<br>            display: flex;<br>            flex-direction: row;<br>            flex-wrap: wrap;<br>            justify-content: flex-start;<br>            width: 100%;<br>        }<br>        .wandb-col {<br>            display: flex;<br>            flex-direction: column;<br>            flex-basis: 100%;<br>            flex: 1;<br>            padding: 10px;<br>        }<br>    </style><br><div class=\"wandb-row\"><div class=\"wandb-col\"><h3>Run history:</h3><br/><table class=\"wandb\"><tr><td>epoch</td><td>▁▂▃▃▄▅▆▆▇█</td></tr><tr><td>train_accuracy</td><td>▁▃▄▅▅▆▅▆▇█</td></tr><tr><td>train_loss</td><td>█▆▅▄▃▃▄▂▂▁</td></tr><tr><td>val_accuracy</td><td>▁▅▅▇▇█▅▆▇█</td></tr><tr><td>val_loss</td><td>█▄▄▂▂▂▆▃▂▁</td></tr></table><br/></div><div class=\"wandb-col\"><h3>Run summary:</h3><br/><table class=\"wandb\"><tr><td>epoch</td><td>10</td></tr><tr><td>train_accuracy</td><td>93.1</td></tr><tr><td>train_loss</td><td>0.18861</td></tr><tr><td>val_accuracy</td><td>89.45</td></tr><tr><td>val_loss</td><td>0.2959</td></tr></table><br/></div></div>"
            ]
          },
          "metadata": {}
        },
        {
          "output_type": "display_data",
          "data": {
            "text/plain": [
              "<IPython.core.display.HTML object>"
            ],
            "text/html": [
              " View run <strong style=\"color:#cdcd00\">confusion_matrix_run</strong> at: <a href='https://wandb.ai/bgorai005-iit-madras/deep_learning_assignment_1/runs/77mbydet' target=\"_blank\">https://wandb.ai/bgorai005-iit-madras/deep_learning_assignment_1/runs/77mbydet</a><br> View project at: <a href='https://wandb.ai/bgorai005-iit-madras/deep_learning_assignment_1' target=\"_blank\">https://wandb.ai/bgorai005-iit-madras/deep_learning_assignment_1</a><br>Synced 5 W&B file(s), 1 media file(s), 0 artifact file(s) and 0 other file(s)"
            ]
          },
          "metadata": {}
        },
        {
          "output_type": "display_data",
          "data": {
            "text/plain": [
              "<IPython.core.display.HTML object>"
            ],
            "text/html": [
              "Find logs at: <code>./wandb/run-20250317_014848-77mbydet/logs</code>"
            ]
          },
          "metadata": {}
        },
        {
          "output_type": "display_data",
          "data": {
            "text/plain": [
              "<Figure size 800x600 with 2 Axes>"
            ],
            "image/png": "[encoded data removed]"
          },
          "metadata": {}
        }
      ]
    },
    {
      "cell_type": "code",
      "source": [
        "# question 8 : running a all the models for squared error loss and comapre them with previous one, for that i create another sweep and run all the models .\n",
        "sweep_config={\n",
        "    'method':'bayes',#possible search random,grid\n",
        "    'metric':{\n",
        "        'name':'Valdiation_accuracy',\n",
        "        'goal':'maximize'\n",
        "    },\n",
        "    'parameters':{\n",
        "        'epochs':{\n",
        "            'values':[5,10]\n",
        "\n",
        "        },\n",
        "      'hidden_size':{\n",
        "            'values':[32, 64, 128]\n",
        "        },\n",
        "        'activation_hidden':{\n",
        "            'values':['relu','sigmoid','tanh']\n",
        "        },\n",
        "        'activation_output':{\n",
        "            'values':['softmax']\n",
        "        },\n",
        "        'weight_ini_method':{\n",
        "            'values':['Xavier','random']\n",
        "        },\n",
        "        'batch_size':{\n",
        "            'values':[16,32,64]\n",
        "        }\n",
        "      ,'num_layers':{\n",
        "            'values':[3,4,5]\n",
        "        },\n",
        "        'weight_decay':{\n",
        "            'values':[0]#(we take l2 regulraization as zero)\n",
        "        } ,\n",
        "        'learning_rate':{\n",
        "            'values':[1e-3,1e-4]\n",
        "      }\n",
        "        ,'optimizer':{\n",
        "            'values':['sgd','momentum','nag','RMSprop','adam','nadam']\n",
        "}\n",
        "    }\n",
        "}\n",
        "sweep_id=wandb.sweep(sweep_config,project='deep_learning_assignment_1')"
      ],
      "metadata": {
        "id": "VIu_I13b9ilh",
        "colab": {
          "base_uri": "https://localhost:8080/"
        },
        "outputId": "400295bb-1496-46f1-ecde-babdfa2178be"
      },
      "execution_count": 24,
      "outputs": [
        {
          "output_type": "stream",
          "name": "stdout",
          "text": [
            "Create sweep with ID: 4uv2tuxd\n",
            "Sweep URL: https://wandb.ai/bgorai005-iit-madras/deep_learning_assignment_1/sweeps/4uv2tuxd\n"
          ]
        }
      ]
    },
    {
      "cell_type": "code",
      "source": [
        "def main():\n",
        "  with wandb.init() as run:\n",
        "    run_name=f\"ac-{wandb.config.activation_hidden}_hs-{wandb.config.hidden_size}_epc-{wandb.config.epochs}_nl-{wandb.config.num_layers}_lr{wandb.config.learning_rate}_wd-{wandb.config.weight_decay}_opt-{wandb.config.optimizer}_bs-{wandb.config.batch_size}_wi-{wandb.config.weight_ini_method}_loss-{mse_loss}\"\n",
        "    wandb.run.name=run_name\n",
        "\n",
        "    model_training(wandb.config.learning_rate,0.9,0.9,0.99,1e-8,x_train,y_train,x_valid,y_valid,wandb.config.optimizer,wandb.config.batch_size,wandb.config.num_layers,wandb.config.hidden_size,wandb.config.activation_hidden,wandb.config.activation_output,wandb.config.weight_ini_method,wandb.config.weight_decay,wandb.config.epochs,'mse_loss')\n",
        "\n",
        "try:\n",
        "    wandb.agent(sweep_id,function=main,count=100)\n",
        "    wandb.finish()\n",
        "except BrokenPipeError:\n",
        "    print(\"Encountered a BrokenPipeError. Attempting to gracefully finish the run.\")\n",
        "    # You can add additional error handling logic here, such as saving intermediate results\n",
        "    wandb.finish(quiet=True)  # Try finishing quietly to avoid further errors"
      ],
      "metadata": {
        "colab": {
          "base_uri": "https://localhost:8080/",
          "height": 1000
        },
        "collapsed": true,
        "id": "YbFWBr97TlZp",
        "outputId": "fa2b4b54-e047-4509-d994-5271e98f8bb7"
      },
      "execution_count": null,
      "outputs": [
        {
          "output_type": "stream",
          "name": "stderr",
          "text": [
            "\u001b[34m\u001b[1mwandb\u001b[0m: Agent Starting Run: zgwefa02 with config:\n",
            "\u001b[34m\u001b[1mwandb\u001b[0m: \tactivation_hidden: sigmoid\n",
            "\u001b[34m\u001b[1mwandb\u001b[0m: \tactivation_output: softmax\n",
            "\u001b[34m\u001b[1mwandb\u001b[0m: \tbatch_size: 16\n",
            "\u001b[34m\u001b[1mwandb\u001b[0m: \tepochs: 10\n",
            "\u001b[34m\u001b[1mwandb\u001b[0m: \thidden_size: 64\n",
            "\u001b[34m\u001b[1mwandb\u001b[0m: \tlearning_rate: 0.0001\n",
            "\u001b[34m\u001b[1mwandb\u001b[0m: \tnum_layers: 4\n",
            "\u001b[34m\u001b[1mwandb\u001b[0m: \toptimizer: momentum\n",
            "\u001b[34m\u001b[1mwandb\u001b[0m: \tweight_decay: 0\n",
            "\u001b[34m\u001b[1mwandb\u001b[0m: \tweight_ini_method: random\n"
          ]
        },
        {
          "output_type": "display_data",
          "data": {
            "text/plain": [
              "<IPython.core.display.HTML object>"
            ],
            "text/html": [
              "Tracking run with wandb version 0.19.8"
            ]
          },
          "metadata": {}
        },
        {
          "output_type": "display_data",
          "data": {
            "text/plain": [
              "<IPython.core.display.HTML object>"
            ],
            "text/html": [
              "Run data is saved locally in <code>/content/wandb/run-20250316_190312-zgwefa02</code>"
            ]
          },
          "metadata": {}
        },
        {
          "output_type": "display_data",
          "data": {
            "text/plain": [
              "<IPython.core.display.HTML object>"
            ],
            "text/html": [
              "Syncing run <strong><a href='https://wandb.ai/bgorai005-iit-madras/deep_learning_assignment_1/runs/zgwefa02' target=\"_blank\">bumbling-sweep-1</a></strong> to <a href='https://wandb.ai/bgorai005-iit-madras/deep_learning_assignment_1' target=\"_blank\">Weights & Biases</a> (<a href='https://wandb.me/developer-guide' target=\"_blank\">docs</a>)<br>Sweep page: <a href='https://wandb.ai/bgorai005-iit-madras/deep_learning_assignment_1/sweeps/4uv2tuxd' target=\"_blank\">https://wandb.ai/bgorai005-iit-madras/deep_learning_assignment_1/sweeps/4uv2tuxd</a>"
            ]
          },
          "metadata": {}
        },
        {
          "output_type": "display_data",
          "data": {
            "text/plain": [
              "<IPython.core.display.HTML object>"
            ],
            "text/html": [
              " View project at <a href='https://wandb.ai/bgorai005-iit-madras/deep_learning_assignment_1' target=\"_blank\">https://wandb.ai/bgorai005-iit-madras/deep_learning_assignment_1</a>"
            ]
          },
          "metadata": {}
        },
        {
          "output_type": "display_data",
          "data": {
            "text/plain": [
              "<IPython.core.display.HTML object>"
            ],
            "text/html": [
              " View sweep at <a href='https://wandb.ai/bgorai005-iit-madras/deep_learning_assignment_1/sweeps/4uv2tuxd' target=\"_blank\">https://wandb.ai/bgorai005-iit-madras/deep_learning_assignment_1/sweeps/4uv2tuxd</a>"
            ]
          },
          "metadata": {}
        },
        {
          "output_type": "display_data",
          "data": {
            "text/plain": [
              "<IPython.core.display.HTML object>"
            ],
            "text/html": [
              " View run at <a href='https://wandb.ai/bgorai005-iit-madras/deep_learning_assignment_1/runs/zgwefa02' target=\"_blank\">https://wandb.ai/bgorai005-iit-madras/deep_learning_assignment_1/runs/zgwefa02</a>"
            ]
          },
          "metadata": {}
        },
        {
          "output_type": "stream",
          "name": "stdout",
          "text": [
            "[784, 64, 64, 64, 64, 10]\n",
            "Epoch 1, Train Loss: 0.07061223261514078, Val Loss: 0.07048740434630325\n",
            "Epoch 2, Train Loss: 0.059035730788355376, Val Loss: 0.0589661618354987\n",
            "Epoch 3, Train Loss: 0.052695736007371305, Val Loss: 0.05287301612997845\n",
            "Epoch 4, Train Loss: 0.04810932071820406, Val Loss: 0.04818856644624472\n",
            "Epoch 5, Train Loss: 0.04500168960751937, Val Loss: 0.04509266158707126\n",
            "Epoch 6, Train Loss: 0.04282074124069874, Val Loss: 0.04298538918177162\n",
            "Epoch 7, Train Loss: 0.041214002299272474, Val Loss: 0.041438315552373206\n",
            "Epoch 8, Train Loss: 0.04004967644233066, Val Loss: 0.04029892801292239\n",
            "Epoch 9, Train Loss: 0.03907686147010186, Val Loss: 0.03943613062608609\n",
            "Epoch 10, Train Loss: 0.03815769372815575, Val Loss: 0.03852510006201892\n"
          ]
        },
        {
          "output_type": "display_data",
          "data": {
            "text/plain": [
              "<IPython.core.display.HTML object>"
            ],
            "text/html": []
          },
          "metadata": {}
        },
        {
          "output_type": "display_data",
          "data": {
            "text/plain": [
              "<IPython.core.display.HTML object>"
            ],
            "text/html": [
              "<br>    <style><br>        .wandb-row {<br>            display: flex;<br>            flex-direction: row;<br>            flex-wrap: wrap;<br>            justify-content: flex-start;<br>            width: 100%;<br>        }<br>        .wandb-col {<br>            display: flex;<br>            flex-direction: column;<br>            flex-basis: 100%;<br>            flex: 1;<br>            padding: 10px;<br>        }<br>    </style><br><div class=\"wandb-row\"><div class=\"wandb-col\"><h3>Run history:</h3><br/><table class=\"wandb\"><tr><td>epoch</td><td>▁▂▃▃▄▅▆▆▇█</td></tr><tr><td>train_accuracy</td><td>▁▄▅▆▇▇▇███</td></tr><tr><td>train_loss</td><td>█▆▄▃▂▂▂▁▁▁</td></tr><tr><td>val_accuracy</td><td>▁▄▅▆▇▇████</td></tr><tr><td>val_loss</td><td>█▅▄▃▂▂▂▁▁▁</td></tr></table><br/></div><div class=\"wandb-col\"><h3>Run summary:</h3><br/><table class=\"wandb\"><tr><td>epoch</td><td>10</td></tr><tr><td>train_accuracy</td><td>72.57593</td></tr><tr><td>train_loss</td><td>0.03816</td></tr><tr><td>val_accuracy</td><td>72.25</td></tr><tr><td>val_loss</td><td>0.03853</td></tr></table><br/></div></div>"
            ]
          },
          "metadata": {}
        },
        {
          "output_type": "display_data",
          "data": {
            "text/plain": [
              "<IPython.core.display.HTML object>"
            ],
            "text/html": [
              " View run <strong style=\"color:#cdcd00\">ac-sigmoid_hs-64_epc-10_nl-4_lr0.0001_wd-0_opt-momentum_bs-16_wi-random_loss-<function mse_loss at 0x7c4fe51c8ae0></strong> at: <a href='https://wandb.ai/bgorai005-iit-madras/deep_learning_assignment_1/runs/zgwefa02' target=\"_blank\">https://wandb.ai/bgorai005-iit-madras/deep_learning_assignment_1/runs/zgwefa02</a><br> View project at: <a href='https://wandb.ai/bgorai005-iit-madras/deep_learning_assignment_1' target=\"_blank\">https://wandb.ai/bgorai005-iit-madras/deep_learning_assignment_1</a><br>Synced 5 W&B file(s), 0 media file(s), 0 artifact file(s) and 0 other file(s)"
            ]
          },
          "metadata": {}
        },
        {
          "output_type": "display_data",
          "data": {
            "text/plain": [
              "<IPython.core.display.HTML object>"
            ],
            "text/html": [
              "Find logs at: <code>./wandb/run-20250316_190312-zgwefa02/logs</code>"
            ]
          },
          "metadata": {}
        },
        {
          "output_type": "stream",
          "name": "stderr",
          "text": [
            "\u001b[34m\u001b[1mwandb\u001b[0m: Agent Starting Run: 5l5fc8yo with config:\n",
            "\u001b[34m\u001b[1mwandb\u001b[0m: \tactivation_hidden: relu\n",
            "\u001b[34m\u001b[1mwandb\u001b[0m: \tactivation_output: softmax\n",
            "\u001b[34m\u001b[1mwandb\u001b[0m: \tbatch_size: 64\n",
            "\u001b[34m\u001b[1mwandb\u001b[0m: \tepochs: 5\n",
            "\u001b[34m\u001b[1mwandb\u001b[0m: \thidden_size: 64\n",
            "\u001b[34m\u001b[1mwandb\u001b[0m: \tlearning_rate: 0.001\n",
            "\u001b[34m\u001b[1mwandb\u001b[0m: \tnum_layers: 4\n",
            "\u001b[34m\u001b[1mwandb\u001b[0m: \toptimizer: adam\n",
            "\u001b[34m\u001b[1mwandb\u001b[0m: \tweight_decay: 0\n",
            "\u001b[34m\u001b[1mwandb\u001b[0m: \tweight_ini_method: random\n"
          ]
        },
        {
          "output_type": "display_data",
          "data": {
            "text/plain": [
              "<IPython.core.display.HTML object>"
            ],
            "text/html": [
              "Tracking run with wandb version 0.19.8"
            ]
          },
          "metadata": {}
        },
        {
          "output_type": "display_data",
          "data": {
            "text/plain": [
              "<IPython.core.display.HTML object>"
            ],
            "text/html": [
              "Run data is saved locally in <code>/content/wandb/run-20250316_190458-5l5fc8yo</code>"
            ]
          },
          "metadata": {}
        },
        {
          "output_type": "display_data",
          "data": {
            "text/plain": [
              "<IPython.core.display.HTML object>"
            ],
            "text/html": [
              "Syncing run <strong><a href='https://wandb.ai/bgorai005-iit-madras/deep_learning_assignment_1/runs/5l5fc8yo' target=\"_blank\">fluent-sweep-2</a></strong> to <a href='https://wandb.ai/bgorai005-iit-madras/deep_learning_assignment_1' target=\"_blank\">Weights & Biases</a> (<a href='https://wandb.me/developer-guide' target=\"_blank\">docs</a>)<br>Sweep page: <a href='https://wandb.ai/bgorai005-iit-madras/deep_learning_assignment_1/sweeps/4uv2tuxd' target=\"_blank\">https://wandb.ai/bgorai005-iit-madras/deep_learning_assignment_1/sweeps/4uv2tuxd</a>"
            ]
          },
          "metadata": {}
        },
        {
          "output_type": "display_data",
          "data": {
            "text/plain": [
              "<IPython.core.display.HTML object>"
            ],
            "text/html": [
              " View project at <a href='https://wandb.ai/bgorai005-iit-madras/deep_learning_assignment_1' target=\"_blank\">https://wandb.ai/bgorai005-iit-madras/deep_learning_assignment_1</a>"
            ]
          },
          "metadata": {}
        },
        {
          "output_type": "display_data",
          "data": {
            "text/plain": [
              "<IPython.core.display.HTML object>"
            ],
            "text/html": [
              " View sweep at <a href='https://wandb.ai/bgorai005-iit-madras/deep_learning_assignment_1/sweeps/4uv2tuxd' target=\"_blank\">https://wandb.ai/bgorai005-iit-madras/deep_learning_assignment_1/sweeps/4uv2tuxd</a>"
            ]
          },
          "metadata": {}
        },
        {
          "output_type": "display_data",
          "data": {
            "text/plain": [
              "<IPython.core.display.HTML object>"
            ],
            "text/html": [
              " View run at <a href='https://wandb.ai/bgorai005-iit-madras/deep_learning_assignment_1/runs/5l5fc8yo' target=\"_blank\">https://wandb.ai/bgorai005-iit-madras/deep_learning_assignment_1/runs/5l5fc8yo</a>"
            ]
          },
          "metadata": {}
        },
        {
          "output_type": "stream",
          "name": "stdout",
          "text": [
            "[784, 64, 64, 64, 64, 10]\n",
            "Epoch 1, Train Loss: 0.17638107252577526, Val Loss: 0.1769917099043421\n",
            "Epoch 2, Train Loss: 0.1813828270003407, Val Loss: 0.18125670355702658\n",
            "Epoch 3, Train Loss: 0.18294993890803526, Val Loss: 0.184055643826358\n",
            "Epoch 4, Train Loss: 0.1777730041248334, Val Loss: 0.17883338261227927\n",
            "Epoch 5, Train Loss: 0.17905899031085568, Val Loss: 0.18056666666666665\n"
          ]
        },
        {
          "output_type": "display_data",
          "data": {
            "text/plain": [
              "<IPython.core.display.HTML object>"
            ],
            "text/html": []
          },
          "metadata": {}
        },
        {
          "output_type": "display_data",
          "data": {
            "text/plain": [
              "<IPython.core.display.HTML object>"
            ],
            "text/html": [
              "<br>    <style><br>        .wandb-row {<br>            display: flex;<br>            flex-direction: row;<br>            flex-wrap: wrap;<br>            justify-content: flex-start;<br>            width: 100%;<br>        }<br>        .wandb-col {<br>            display: flex;<br>            flex-direction: column;<br>            flex-basis: 100%;<br>            flex: 1;<br>            padding: 10px;<br>        }<br>    </style><br><div class=\"wandb-row\"><div class=\"wandb-col\"><h3>Run history:</h3><br/><table class=\"wandb\"><tr><td>epoch</td><td>▁▃▅▆█</td></tr><tr><td>train_accuracy</td><td>█▃▁▇▅</td></tr><tr><td>train_loss</td><td>▁▆█▂▄</td></tr><tr><td>val_accuracy</td><td>█▄▁▆▄</td></tr><tr><td>val_loss</td><td>▁▅█▃▅</td></tr></table><br/></div><div class=\"wandb-col\"><h3>Run summary:</h3><br/><table class=\"wandb\"><tr><td>epoch</td><td>5</td></tr><tr><td>train_accuracy</td><td>10.47037</td></tr><tr><td>train_loss</td><td>0.17906</td></tr><tr><td>val_accuracy</td><td>9.71667</td></tr><tr><td>val_loss</td><td>0.18057</td></tr></table><br/></div></div>"
            ]
          },
          "metadata": {}
        },
        {
          "output_type": "display_data",
          "data": {
            "text/plain": [
              "<IPython.core.display.HTML object>"
            ],
            "text/html": [
              " View run <strong style=\"color:#cdcd00\">ac-relu_hs-64_epc-5_nl-4_lr0.001_wd-0_opt-adam_bs-64_wi-random_loss-<function mse_loss at 0x7c4fe51c8ae0></strong> at: <a href='https://wandb.ai/bgorai005-iit-madras/deep_learning_assignment_1/runs/5l5fc8yo' target=\"_blank\">https://wandb.ai/bgorai005-iit-madras/deep_learning_assignment_1/runs/5l5fc8yo</a><br> View project at: <a href='https://wandb.ai/bgorai005-iit-madras/deep_learning_assignment_1' target=\"_blank\">https://wandb.ai/bgorai005-iit-madras/deep_learning_assignment_1</a><br>Synced 5 W&B file(s), 0 media file(s), 0 artifact file(s) and 0 other file(s)"
            ]
          },
          "metadata": {}
        },
        {
          "output_type": "display_data",
          "data": {
            "text/plain": [
              "<IPython.core.display.HTML object>"
            ],
            "text/html": [
              "Find logs at: <code>./wandb/run-20250316_190458-5l5fc8yo/logs</code>"
            ]
          },
          "metadata": {}
        },
        {
          "output_type": "stream",
          "name": "stderr",
          "text": [
            "\u001b[34m\u001b[1mwandb\u001b[0m: Agent Starting Run: 18jswal6 with config:\n",
            "\u001b[34m\u001b[1mwandb\u001b[0m: \tactivation_hidden: tanh\n",
            "\u001b[34m\u001b[1mwandb\u001b[0m: \tactivation_output: softmax\n",
            "\u001b[34m\u001b[1mwandb\u001b[0m: \tbatch_size: 32\n",
            "\u001b[34m\u001b[1mwandb\u001b[0m: \tepochs: 10\n",
            "\u001b[34m\u001b[1mwandb\u001b[0m: \thidden_size: 64\n",
            "\u001b[34m\u001b[1mwandb\u001b[0m: \tlearning_rate: 0.001\n",
            "\u001b[34m\u001b[1mwandb\u001b[0m: \tnum_layers: 5\n",
            "\u001b[34m\u001b[1mwandb\u001b[0m: \toptimizer: sgd\n",
            "\u001b[34m\u001b[1mwandb\u001b[0m: \tweight_decay: 0\n",
            "\u001b[34m\u001b[1mwandb\u001b[0m: \tweight_ini_method: random\n"
          ]
        },
        {
          "output_type": "display_data",
          "data": {
            "text/plain": [
              "<IPython.core.display.HTML object>"
            ],
            "text/html": [
              "Tracking run with wandb version 0.19.8"
            ]
          },
          "metadata": {}
        },
        {
          "output_type": "display_data",
          "data": {
            "text/plain": [
              "<IPython.core.display.HTML object>"
            ],
            "text/html": [
              "Run data is saved locally in <code>/content/wandb/run-20250316_190533-18jswal6</code>"
            ]
          },
          "metadata": {}
        },
        {
          "output_type": "display_data",
          "data": {
            "text/plain": [
              "<IPython.core.display.HTML object>"
            ],
            "text/html": [
              "Syncing run <strong><a href='https://wandb.ai/bgorai005-iit-madras/deep_learning_assignment_1/runs/18jswal6' target=\"_blank\">driven-sweep-3</a></strong> to <a href='https://wandb.ai/bgorai005-iit-madras/deep_learning_assignment_1' target=\"_blank\">Weights & Biases</a> (<a href='https://wandb.me/developer-guide' target=\"_blank\">docs</a>)<br>Sweep page: <a href='https://wandb.ai/bgorai005-iit-madras/deep_learning_assignment_1/sweeps/4uv2tuxd' target=\"_blank\">https://wandb.ai/bgorai005-iit-madras/deep_learning_assignment_1/sweeps/4uv2tuxd</a>"
            ]
          },
          "metadata": {}
        },
        {
          "output_type": "display_data",
          "data": {
            "text/plain": [
              "<IPython.core.display.HTML object>"
            ],
            "text/html": [
              " View project at <a href='https://wandb.ai/bgorai005-iit-madras/deep_learning_assignment_1' target=\"_blank\">https://wandb.ai/bgorai005-iit-madras/deep_learning_assignment_1</a>"
            ]
          },
          "metadata": {}
        },
        {
          "output_type": "display_data",
          "data": {
            "text/plain": [
              "<IPython.core.display.HTML object>"
            ],
            "text/html": [
              " View sweep at <a href='https://wandb.ai/bgorai005-iit-madras/deep_learning_assignment_1/sweeps/4uv2tuxd' target=\"_blank\">https://wandb.ai/bgorai005-iit-madras/deep_learning_assignment_1/sweeps/4uv2tuxd</a>"
            ]
          },
          "metadata": {}
        },
        {
          "output_type": "display_data",
          "data": {
            "text/plain": [
              "<IPython.core.display.HTML object>"
            ],
            "text/html": [
              " View run at <a href='https://wandb.ai/bgorai005-iit-madras/deep_learning_assignment_1/runs/18jswal6' target=\"_blank\">https://wandb.ai/bgorai005-iit-madras/deep_learning_assignment_1/runs/18jswal6</a>"
            ]
          },
          "metadata": {}
        },
        {
          "output_type": "stream",
          "name": "stdout",
          "text": [
            "[784, 64, 64, 64, 64, 64, 10]\n",
            "Epoch 1, Train Loss: 0.08964947964357059, Val Loss: 0.08965034182645189,Val Accuracy:0.232\n",
            "Epoch 2, Train Loss: 0.0773062656643512, Val Loss: 0.07756330408388151,Val Accuracy:0.3468333333333333\n",
            "Epoch 3, Train Loss: 0.07151820468574673, Val Loss: 0.07129631687603828,Val Accuracy:0.4086666666666667\n",
            "Epoch 4, Train Loss: 0.06706921491797503, Val Loss: 0.06737662616208401,Val Accuracy:0.4658333333333333\n",
            "Epoch 5, Train Loss: 0.06356419072613198, Val Loss: 0.06370786679969226,Val Accuracy:0.4811666666666667\n",
            "Epoch 6, Train Loss: 0.06069554836936261, Val Loss: 0.06167982941203894,Val Accuracy:0.49233333333333335\n",
            "Epoch 7, Train Loss: 0.05888478021238258, Val Loss: 0.059859053484891636,Val Accuracy:0.5245\n",
            "Epoch 8, Train Loss: 0.05697165878926602, Val Loss: 0.058216505848306545,Val Accuracy:0.529\n",
            "Epoch 9, Train Loss: 0.05487825179577454, Val Loss: 0.05604886633583522,Val Accuracy:0.5758333333333333\n",
            "Epoch 10, Train Loss: 0.0530652473827971, Val Loss: 0.05454334059252532,Val Accuracy:0.5803333333333334\n"
          ]
        },
        {
          "output_type": "display_data",
          "data": {
            "text/plain": [
              "<IPython.core.display.HTML object>"
            ],
            "text/html": []
          },
          "metadata": {}
        },
        {
          "output_type": "display_data",
          "data": {
            "text/plain": [
              "<IPython.core.display.HTML object>"
            ],
            "text/html": [
              "<br>    <style><br>        .wandb-row {<br>            display: flex;<br>            flex-direction: row;<br>            flex-wrap: wrap;<br>            justify-content: flex-start;<br>            width: 100%;<br>        }<br>        .wandb-col {<br>            display: flex;<br>            flex-direction: column;<br>            flex-basis: 100%;<br>            flex: 1;<br>            padding: 10px;<br>        }<br>    </style><br><div class=\"wandb-row\"><div class=\"wandb-col\"><h3>Run history:</h3><br/><table class=\"wandb\"><tr><td>epoch</td><td>▁▂▃▃▄▅▆▆▇█</td></tr><tr><td>train_accuracy</td><td>▁▃▄▅▆▆▇▇██</td></tr><tr><td>train_loss</td><td>█▆▅▄▃▂▂▂▁▁</td></tr><tr><td>val_accuracy</td><td>▁▃▅▆▆▆▇▇██</td></tr><tr><td>val_loss</td><td>█▆▄▄▃▂▂▂▁▁</td></tr></table><br/></div><div class=\"wandb-col\"><h3>Run summary:</h3><br/><table class=\"wandb\"><tr><td>epoch</td><td>10</td></tr><tr><td>train_accuracy</td><td>59.90185</td></tr><tr><td>train_loss</td><td>0.05307</td></tr><tr><td>val_accuracy</td><td>58.03333</td></tr><tr><td>val_loss</td><td>0.05454</td></tr></table><br/></div></div>"
            ]
          },
          "metadata": {}
        },
        {
          "output_type": "display_data",
          "data": {
            "text/plain": [
              "<IPython.core.display.HTML object>"
            ],
            "text/html": [
              " View run <strong style=\"color:#cdcd00\">ac-tanh_hs-64_epc-10_nl-5_lr0.001_wd-0_opt-sgd_bs-32_wi-random_loss-<function mse_loss at 0x7c4fe51c8ae0></strong> at: <a href='https://wandb.ai/bgorai005-iit-madras/deep_learning_assignment_1/runs/18jswal6' target=\"_blank\">https://wandb.ai/bgorai005-iit-madras/deep_learning_assignment_1/runs/18jswal6</a><br> View project at: <a href='https://wandb.ai/bgorai005-iit-madras/deep_learning_assignment_1' target=\"_blank\">https://wandb.ai/bgorai005-iit-madras/deep_learning_assignment_1</a><br>Synced 5 W&B file(s), 0 media file(s), 0 artifact file(s) and 0 other file(s)"
            ]
          },
          "metadata": {}
        },
        {
          "output_type": "display_data",
          "data": {
            "text/plain": [
              "<IPython.core.display.HTML object>"
            ],
            "text/html": [
              "Find logs at: <code>./wandb/run-20250316_190533-18jswal6/logs</code>"
            ]
          },
          "metadata": {}
        },
        {
          "output_type": "stream",
          "name": "stderr",
          "text": [
            "\u001b[34m\u001b[1mwandb\u001b[0m: Agent Starting Run: lvmevum9 with config:\n",
            "\u001b[34m\u001b[1mwandb\u001b[0m: \tactivation_hidden: relu\n",
            "\u001b[34m\u001b[1mwandb\u001b[0m: \tactivation_output: softmax\n",
            "\u001b[34m\u001b[1mwandb\u001b[0m: \tbatch_size: 32\n",
            "\u001b[34m\u001b[1mwandb\u001b[0m: \tepochs: 5\n",
            "\u001b[34m\u001b[1mwandb\u001b[0m: \thidden_size: 128\n",
            "\u001b[34m\u001b[1mwandb\u001b[0m: \tlearning_rate: 0.001\n",
            "\u001b[34m\u001b[1mwandb\u001b[0m: \tnum_layers: 4\n",
            "\u001b[34m\u001b[1mwandb\u001b[0m: \toptimizer: nadam\n",
            "\u001b[34m\u001b[1mwandb\u001b[0m: \tweight_decay: 0\n",
            "\u001b[34m\u001b[1mwandb\u001b[0m: \tweight_ini_method: random\n"
          ]
        },
        {
          "output_type": "display_data",
          "data": {
            "text/plain": [
              "<IPython.core.display.HTML object>"
            ],
            "text/html": [
              "Tracking run with wandb version 0.19.8"
            ]
          },
          "metadata": {}
        },
        {
          "output_type": "display_data",
          "data": {
            "text/plain": [
              "<IPython.core.display.HTML object>"
            ],
            "text/html": [
              "Run data is saved locally in <code>/content/wandb/run-20250316_190735-lvmevum9</code>"
            ]
          },
          "metadata": {}
        },
        {
          "output_type": "display_data",
          "data": {
            "text/plain": [
              "<IPython.core.display.HTML object>"
            ],
            "text/html": [
              "Syncing run <strong><a href='https://wandb.ai/bgorai005-iit-madras/deep_learning_assignment_1/runs/lvmevum9' target=\"_blank\">misty-sweep-4</a></strong> to <a href='https://wandb.ai/bgorai005-iit-madras/deep_learning_assignment_1' target=\"_blank\">Weights & Biases</a> (<a href='https://wandb.me/developer-guide' target=\"_blank\">docs</a>)<br>Sweep page: <a href='https://wandb.ai/bgorai005-iit-madras/deep_learning_assignment_1/sweeps/4uv2tuxd' target=\"_blank\">https://wandb.ai/bgorai005-iit-madras/deep_learning_assignment_1/sweeps/4uv2tuxd</a>"
            ]
          },
          "metadata": {}
        },
        {
          "output_type": "display_data",
          "data": {
            "text/plain": [
              "<IPython.core.display.HTML object>"
            ],
            "text/html": [
              " View project at <a href='https://wandb.ai/bgorai005-iit-madras/deep_learning_assignment_1' target=\"_blank\">https://wandb.ai/bgorai005-iit-madras/deep_learning_assignment_1</a>"
            ]
          },
          "metadata": {}
        },
        {
          "output_type": "display_data",
          "data": {
            "text/plain": [
              "<IPython.core.display.HTML object>"
            ],
            "text/html": [
              " View sweep at <a href='https://wandb.ai/bgorai005-iit-madras/deep_learning_assignment_1/sweeps/4uv2tuxd' target=\"_blank\">https://wandb.ai/bgorai005-iit-madras/deep_learning_assignment_1/sweeps/4uv2tuxd</a>"
            ]
          },
          "metadata": {}
        },
        {
          "output_type": "display_data",
          "data": {
            "text/plain": [
              "<IPython.core.display.HTML object>"
            ],
            "text/html": [
              " View run at <a href='https://wandb.ai/bgorai005-iit-madras/deep_learning_assignment_1/runs/lvmevum9' target=\"_blank\">https://wandb.ai/bgorai005-iit-madras/deep_learning_assignment_1/runs/lvmevum9</a>"
            ]
          },
          "metadata": {}
        },
        {
          "output_type": "stream",
          "name": "stdout",
          "text": [
            "[784, 128, 128, 128, 128, 10]\n",
            "Epoch 1, Loss: 0.16279317376823446, Validation Loss: 0.1646999966858455\n",
            "Epoch 2, Loss: 0.16013905132559805, Validation Loss: 0.16225807365394157\n",
            "Epoch 3, Loss: 0.16371240130951048, Validation Loss: 0.16476666437213144\n",
            "Epoch 4, Loss: 0.1515234522145812, Validation Loss: 0.15269236511082934\n",
            "Epoch 5, Loss: 0.15465742659303755, Validation Loss: 0.15611039385434497\n"
          ]
        },
        {
          "output_type": "display_data",
          "data": {
            "text/plain": [
              "<IPython.core.display.HTML object>"
            ],
            "text/html": []
          },
          "metadata": {}
        },
        {
          "output_type": "display_data",
          "data": {
            "text/plain": [
              "<IPython.core.display.HTML object>"
            ],
            "text/html": [
              "<br>    <style><br>        .wandb-row {<br>            display: flex;<br>            flex-direction: row;<br>            flex-wrap: wrap;<br>            justify-content: flex-start;<br>            width: 100%;<br>        }<br>        .wandb-col {<br>            display: flex;<br>            flex-direction: column;<br>            flex-basis: 100%;<br>            flex: 1;<br>            padding: 10px;<br>        }<br>    </style><br><div class=\"wandb-row\"><div class=\"wandb-col\"><h3>Run history:</h3><br/><table class=\"wandb\"><tr><td>epoch</td><td>▁▃▅▆█</td></tr><tr><td>train_accuracy</td><td>▂▃▁█▆</td></tr><tr><td>train_loss</td><td>▇▆█▁▃</td></tr><tr><td>val_accuracy</td><td>▁▂▁█▆</td></tr><tr><td>val_loss</td><td>█▇█▁▃</td></tr></table><br/></div><div class=\"wandb-col\"><h3>Run summary:</h3><br/><table class=\"wandb\"><tr><td>epoch</td><td>5</td></tr><tr><td>train_accuracy</td><td>22.66852</td></tr><tr><td>train_loss</td><td>0.15466</td></tr><tr><td>val_accuracy</td><td>21.93333</td></tr><tr><td>val_loss</td><td>0.15611</td></tr></table><br/></div></div>"
            ]
          },
          "metadata": {}
        },
        {
          "output_type": "display_data",
          "data": {
            "text/plain": [
              "<IPython.core.display.HTML object>"
            ],
            "text/html": [
              " View run <strong style=\"color:#cdcd00\">ac-relu_hs-128_epc-5_nl-4_lr0.001_wd-0_opt-nadam_bs-32_wi-random_loss-<function mse_loss at 0x7c4fe51c8ae0></strong> at: <a href='https://wandb.ai/bgorai005-iit-madras/deep_learning_assignment_1/runs/lvmevum9' target=\"_blank\">https://wandb.ai/bgorai005-iit-madras/deep_learning_assignment_1/runs/lvmevum9</a><br> View project at: <a href='https://wandb.ai/bgorai005-iit-madras/deep_learning_assignment_1' target=\"_blank\">https://wandb.ai/bgorai005-iit-madras/deep_learning_assignment_1</a><br>Synced 5 W&B file(s), 0 media file(s), 0 artifact file(s) and 0 other file(s)"
            ]
          },
          "metadata": {}
        },
        {
          "output_type": "display_data",
          "data": {
            "text/plain": [
              "<IPython.core.display.HTML object>"
            ],
            "text/html": [
              "Find logs at: <code>./wandb/run-20250316_190735-lvmevum9/logs</code>"
            ]
          },
          "metadata": {}
        },
        {
          "output_type": "stream",
          "name": "stderr",
          "text": [
            "\u001b[34m\u001b[1mwandb\u001b[0m: Agent Starting Run: zjwefn09 with config:\n",
            "\u001b[34m\u001b[1mwandb\u001b[0m: \tactivation_hidden: sigmoid\n",
            "\u001b[34m\u001b[1mwandb\u001b[0m: \tactivation_output: softmax\n",
            "\u001b[34m\u001b[1mwandb\u001b[0m: \tbatch_size: 16\n",
            "\u001b[34m\u001b[1mwandb\u001b[0m: \tepochs: 10\n",
            "\u001b[34m\u001b[1mwandb\u001b[0m: \thidden_size: 32\n",
            "\u001b[34m\u001b[1mwandb\u001b[0m: \tlearning_rate: 0.001\n",
            "\u001b[34m\u001b[1mwandb\u001b[0m: \tnum_layers: 4\n",
            "\u001b[34m\u001b[1mwandb\u001b[0m: \toptimizer: sgd\n",
            "\u001b[34m\u001b[1mwandb\u001b[0m: \tweight_decay: 0\n",
            "\u001b[34m\u001b[1mwandb\u001b[0m: \tweight_ini_method: random\n"
          ]
        },
        {
          "output_type": "display_data",
          "data": {
            "text/plain": [
              "<IPython.core.display.HTML object>"
            ],
            "text/html": [
              "Tracking run with wandb version 0.19.8"
            ]
          },
          "metadata": {}
        },
        {
          "output_type": "display_data",
          "data": {
            "text/plain": [
              "<IPython.core.display.HTML object>"
            ],
            "text/html": [
              "Run data is saved locally in <code>/content/wandb/run-20250316_190912-zjwefn09</code>"
            ]
          },
          "metadata": {}
        },
        {
          "output_type": "display_data",
          "data": {
            "text/plain": [
              "<IPython.core.display.HTML object>"
            ],
            "text/html": [
              "Syncing run <strong><a href='https://wandb.ai/bgorai005-iit-madras/deep_learning_assignment_1/runs/zjwefn09' target=\"_blank\">fresh-sweep-5</a></strong> to <a href='https://wandb.ai/bgorai005-iit-madras/deep_learning_assignment_1' target=\"_blank\">Weights & Biases</a> (<a href='https://wandb.me/developer-guide' target=\"_blank\">docs</a>)<br>Sweep page: <a href='https://wandb.ai/bgorai005-iit-madras/deep_learning_assignment_1/sweeps/4uv2tuxd' target=\"_blank\">https://wandb.ai/bgorai005-iit-madras/deep_learning_assignment_1/sweeps/4uv2tuxd</a>"
            ]
          },
          "metadata": {}
        },
        {
          "output_type": "display_data",
          "data": {
            "text/plain": [
              "<IPython.core.display.HTML object>"
            ],
            "text/html": [
              " View project at <a href='https://wandb.ai/bgorai005-iit-madras/deep_learning_assignment_1' target=\"_blank\">https://wandb.ai/bgorai005-iit-madras/deep_learning_assignment_1</a>"
            ]
          },
          "metadata": {}
        },
        {
          "output_type": "display_data",
          "data": {
            "text/plain": [
              "<IPython.core.display.HTML object>"
            ],
            "text/html": [
              " View sweep at <a href='https://wandb.ai/bgorai005-iit-madras/deep_learning_assignment_1/sweeps/4uv2tuxd' target=\"_blank\">https://wandb.ai/bgorai005-iit-madras/deep_learning_assignment_1/sweeps/4uv2tuxd</a>"
            ]
          },
          "metadata": {}
        },
        {
          "output_type": "display_data",
          "data": {
            "text/plain": [
              "<IPython.core.display.HTML object>"
            ],
            "text/html": [
              " View run at <a href='https://wandb.ai/bgorai005-iit-madras/deep_learning_assignment_1/runs/zjwefn09' target=\"_blank\">https://wandb.ai/bgorai005-iit-madras/deep_learning_assignment_1/runs/zjwefn09</a>"
            ]
          },
          "metadata": {}
        },
        {
          "output_type": "stream",
          "name": "stdout",
          "text": [
            "[784, 32, 32, 32, 32, 10]\n",
            "Epoch 1, Train Loss: 0.0848790054814821, Val Loss: 0.08438117587211451,Val Accuracy:0.2946666666666667\n",
            "Epoch 2, Train Loss: 0.07741042285277201, Val Loss: 0.07692321315989513,Val Accuracy:0.368\n",
            "Epoch 3, Train Loss: 0.0725263985004965, Val Loss: 0.07219136848663289,Val Accuracy:0.437\n",
            "Epoch 4, Train Loss: 0.06858637995808582, Val Loss: 0.06838965721469022,Val Accuracy:0.48283333333333334\n",
            "Epoch 5, Train Loss: 0.06536686608574013, Val Loss: 0.06534366722596255,Val Accuracy:0.5098333333333334\n",
            "Epoch 6, Train Loss: 0.06262197615616781, Val Loss: 0.06266351357788974,Val Accuracy:0.5386666666666666\n",
            "Epoch 7, Train Loss: 0.06029884581521385, Val Loss: 0.06034903940288485,Val Accuracy:0.5536666666666666\n",
            "Epoch 8, Train Loss: 0.05819087319728694, Val Loss: 0.0582676639008423,Val Accuracy:0.5665\n",
            "Epoch 9, Train Loss: 0.05647350061514918, Val Loss: 0.05661380131504349,Val Accuracy:0.5746666666666667\n",
            "Epoch 10, Train Loss: 0.05487379580306793, Val Loss: 0.055058977087167706,Val Accuracy:0.5836666666666667\n"
          ]
        },
        {
          "output_type": "display_data",
          "data": {
            "text/plain": [
              "<IPython.core.display.HTML object>"
            ],
            "text/html": []
          },
          "metadata": {}
        },
        {
          "output_type": "display_data",
          "data": {
            "text/plain": [
              "<IPython.core.display.HTML object>"
            ],
            "text/html": [
              "<br>    <style><br>        .wandb-row {<br>            display: flex;<br>            flex-direction: row;<br>            flex-wrap: wrap;<br>            justify-content: flex-start;<br>            width: 100%;<br>        }<br>        .wandb-col {<br>            display: flex;<br>            flex-direction: column;<br>            flex-basis: 100%;<br>            flex: 1;<br>            padding: 10px;<br>        }<br>    </style><br><div class=\"wandb-row\"><div class=\"wandb-col\"><h3>Run history:</h3><br/><table class=\"wandb\"><tr><td>epoch</td><td>▁▂▃▃▄▅▆▆▇█</td></tr><tr><td>train_accuracy</td><td>▁▃▄▅▆▇▇███</td></tr><tr><td>train_loss</td><td>█▆▅▄▃▃▂▂▁▁</td></tr><tr><td>val_accuracy</td><td>▁▃▄▆▆▇▇███</td></tr><tr><td>val_loss</td><td>█▆▅▄▃▃▂▂▁▁</td></tr></table><br/></div><div class=\"wandb-col\"><h3>Run summary:</h3><br/><table class=\"wandb\"><tr><td>epoch</td><td>10</td></tr><tr><td>train_accuracy</td><td>59.20185</td></tr><tr><td>train_loss</td><td>0.05487</td></tr><tr><td>val_accuracy</td><td>58.36667</td></tr><tr><td>val_loss</td><td>0.05506</td></tr></table><br/></div></div>"
            ]
          },
          "metadata": {}
        },
        {
          "output_type": "display_data",
          "data": {
            "text/plain": [
              "<IPython.core.display.HTML object>"
            ],
            "text/html": [
              " View run <strong style=\"color:#cdcd00\">ac-sigmoid_hs-32_epc-10_nl-4_lr0.001_wd-0_opt-sgd_bs-16_wi-random_loss-<function mse_loss at 0x7c4fe51c8ae0></strong> at: <a href='https://wandb.ai/bgorai005-iit-madras/deep_learning_assignment_1/runs/zjwefn09' target=\"_blank\">https://wandb.ai/bgorai005-iit-madras/deep_learning_assignment_1/runs/zjwefn09</a><br> View project at: <a href='https://wandb.ai/bgorai005-iit-madras/deep_learning_assignment_1' target=\"_blank\">https://wandb.ai/bgorai005-iit-madras/deep_learning_assignment_1</a><br>Synced 5 W&B file(s), 0 media file(s), 0 artifact file(s) and 0 other file(s)"
            ]
          },
          "metadata": {}
        },
        {
          "output_type": "display_data",
          "data": {
            "text/plain": [
              "<IPython.core.display.HTML object>"
            ],
            "text/html": [
              "Find logs at: <code>./wandb/run-20250316_190912-zjwefn09/logs</code>"
            ]
          },
          "metadata": {}
        },
        {
          "output_type": "stream",
          "name": "stderr",
          "text": [
            "\u001b[34m\u001b[1mwandb\u001b[0m: Agent Starting Run: f22h09x5 with config:\n",
            "\u001b[34m\u001b[1mwandb\u001b[0m: \tactivation_hidden: sigmoid\n",
            "\u001b[34m\u001b[1mwandb\u001b[0m: \tactivation_output: softmax\n",
            "\u001b[34m\u001b[1mwandb\u001b[0m: \tbatch_size: 16\n",
            "\u001b[34m\u001b[1mwandb\u001b[0m: \tepochs: 10\n",
            "\u001b[34m\u001b[1mwandb\u001b[0m: \thidden_size: 128\n",
            "\u001b[34m\u001b[1mwandb\u001b[0m: \tlearning_rate: 0.001\n",
            "\u001b[34m\u001b[1mwandb\u001b[0m: \tnum_layers: 5\n",
            "\u001b[34m\u001b[1mwandb\u001b[0m: \toptimizer: nadam\n",
            "\u001b[34m\u001b[1mwandb\u001b[0m: \tweight_decay: 0\n",
            "\u001b[34m\u001b[1mwandb\u001b[0m: \tweight_ini_method: random\n"
          ]
        },
        {
          "output_type": "display_data",
          "data": {
            "text/plain": [
              "<IPython.core.display.HTML object>"
            ],
            "text/html": [
              "Tracking run with wandb version 0.19.8"
            ]
          },
          "metadata": {}
        },
        {
          "output_type": "display_data",
          "data": {
            "text/plain": [
              "<IPython.core.display.HTML object>"
            ],
            "text/html": [
              "Run data is saved locally in <code>/content/wandb/run-20250316_191018-f22h09x5</code>"
            ]
          },
          "metadata": {}
        },
        {
          "output_type": "display_data",
          "data": {
            "text/plain": [
              "<IPython.core.display.HTML object>"
            ],
            "text/html": [
              "Syncing run <strong><a href='https://wandb.ai/bgorai005-iit-madras/deep_learning_assignment_1/runs/f22h09x5' target=\"_blank\">vibrant-sweep-6</a></strong> to <a href='https://wandb.ai/bgorai005-iit-madras/deep_learning_assignment_1' target=\"_blank\">Weights & Biases</a> (<a href='https://wandb.me/developer-guide' target=\"_blank\">docs</a>)<br>Sweep page: <a href='https://wandb.ai/bgorai005-iit-madras/deep_learning_assignment_1/sweeps/4uv2tuxd' target=\"_blank\">https://wandb.ai/bgorai005-iit-madras/deep_learning_assignment_1/sweeps/4uv2tuxd</a>"
            ]
          },
          "metadata": {}
        },
        {
          "output_type": "display_data",
          "data": {
            "text/plain": [
              "<IPython.core.display.HTML object>"
            ],
            "text/html": [
              " View project at <a href='https://wandb.ai/bgorai005-iit-madras/deep_learning_assignment_1' target=\"_blank\">https://wandb.ai/bgorai005-iit-madras/deep_learning_assignment_1</a>"
            ]
          },
          "metadata": {}
        },
        {
          "output_type": "display_data",
          "data": {
            "text/plain": [
              "<IPython.core.display.HTML object>"
            ],
            "text/html": [
              " View sweep at <a href='https://wandb.ai/bgorai005-iit-madras/deep_learning_assignment_1/sweeps/4uv2tuxd' target=\"_blank\">https://wandb.ai/bgorai005-iit-madras/deep_learning_assignment_1/sweeps/4uv2tuxd</a>"
            ]
          },
          "metadata": {}
        },
        {
          "output_type": "display_data",
          "data": {
            "text/plain": [
              "<IPython.core.display.HTML object>"
            ],
            "text/html": [
              " View run at <a href='https://wandb.ai/bgorai005-iit-madras/deep_learning_assignment_1/runs/f22h09x5' target=\"_blank\">https://wandb.ai/bgorai005-iit-madras/deep_learning_assignment_1/runs/f22h09x5</a>"
            ]
          },
          "metadata": {}
        },
        {
          "output_type": "stream",
          "name": "stdout",
          "text": [
            "[784, 128, 128, 128, 128, 128, 10]\n",
            "Epoch 1, Loss: 0.027183065308723574, Validation Loss: 0.028822558135808207\n",
            "Epoch 2, Loss: 0.024026998003480574, Validation Loss: 0.02578411310548269\n",
            "Epoch 3, Loss: 0.021567143300043785, Validation Loss: 0.023918105923366958\n",
            "Epoch 4, Loss: 0.020344891122806172, Validation Loss: 0.0229380915550724\n",
            "Epoch 5, Loss: 0.018868861429408187, Validation Loss: 0.0223640891106344\n",
            "Epoch 6, Loss: 0.01779851375725016, Validation Loss: 0.02195063151005574\n",
            "Epoch 7, Loss: 0.017456118976363538, Validation Loss: 0.021915850121591765\n",
            "Epoch 8, Loss: 0.01691549732556086, Validation Loss: 0.02163080557399049\n",
            "Epoch 9, Loss: 0.016324745242165237, Validation Loss: 0.021467733276215352\n",
            "Epoch 10, Loss: 0.015674976933153315, Validation Loss: 0.02098986231526017\n"
          ]
        },
        {
          "output_type": "display_data",
          "data": {
            "text/plain": [
              "<IPython.core.display.HTML object>"
            ],
            "text/html": []
          },
          "metadata": {}
        },
        {
          "output_type": "display_data",
          "data": {
            "text/plain": [
              "<IPython.core.display.HTML object>"
            ],
            "text/html": [
              "<br>    <style><br>        .wandb-row {<br>            display: flex;<br>            flex-direction: row;<br>            flex-wrap: wrap;<br>            justify-content: flex-start;<br>            width: 100%;<br>        }<br>        .wandb-col {<br>            display: flex;<br>            flex-direction: column;<br>            flex-basis: 100%;<br>            flex: 1;<br>            padding: 10px;<br>        }<br>    </style><br><div class=\"wandb-row\"><div class=\"wandb-col\"><h3>Run history:</h3><br/><table class=\"wandb\"><tr><td>epoch</td><td>▁▂▃▃▄▅▆▆▇█</td></tr><tr><td>train_accuracy</td><td>▁▃▄▅▆▇▇▇██</td></tr><tr><td>train_loss</td><td>█▆▅▄▃▂▂▂▁▁</td></tr><tr><td>val_accuracy</td><td>▁▄▅▆▇▇▇▇▇█</td></tr><tr><td>val_loss</td><td>█▅▄▃▂▂▂▂▁▁</td></tr></table><br/></div><div class=\"wandb-col\"><h3>Run summary:</h3><br/><table class=\"wandb\"><tr><td>epoch</td><td>10</td></tr><tr><td>train_accuracy</td><td>89.33519</td></tr><tr><td>train_loss</td><td>0.01567</td></tr><tr><td>val_accuracy</td><td>85.4</td></tr><tr><td>val_loss</td><td>0.02099</td></tr></table><br/></div></div>"
            ]
          },
          "metadata": {}
        },
        {
          "output_type": "display_data",
          "data": {
            "text/plain": [
              "<IPython.core.display.HTML object>"
            ],
            "text/html": [
              " View run <strong style=\"color:#cdcd00\">ac-sigmoid_hs-128_epc-10_nl-5_lr0.001_wd-0_opt-nadam_bs-16_wi-random_loss-<function mse_loss at 0x7c4fe51c8ae0></strong> at: <a href='https://wandb.ai/bgorai005-iit-madras/deep_learning_assignment_1/runs/f22h09x5' target=\"_blank\">https://wandb.ai/bgorai005-iit-madras/deep_learning_assignment_1/runs/f22h09x5</a><br> View project at: <a href='https://wandb.ai/bgorai005-iit-madras/deep_learning_assignment_1' target=\"_blank\">https://wandb.ai/bgorai005-iit-madras/deep_learning_assignment_1</a><br>Synced 5 W&B file(s), 0 media file(s), 0 artifact file(s) and 0 other file(s)"
            ]
          },
          "metadata": {}
        },
        {
          "output_type": "display_data",
          "data": {
            "text/plain": [
              "<IPython.core.display.HTML object>"
            ],
            "text/html": [
              "Find logs at: <code>./wandb/run-20250316_191018-f22h09x5/logs</code>"
            ]
          },
          "metadata": {}
        },
        {
          "output_type": "stream",
          "name": "stderr",
          "text": [
            "\u001b[34m\u001b[1mwandb\u001b[0m: Agent Starting Run: mvmth3s2 with config:\n",
            "\u001b[34m\u001b[1mwandb\u001b[0m: \tactivation_hidden: relu\n",
            "\u001b[34m\u001b[1mwandb\u001b[0m: \tactivation_output: softmax\n",
            "\u001b[34m\u001b[1mwandb\u001b[0m: \tbatch_size: 32\n",
            "\u001b[34m\u001b[1mwandb\u001b[0m: \tepochs: 10\n",
            "\u001b[34m\u001b[1mwandb\u001b[0m: \thidden_size: 128\n",
            "\u001b[34m\u001b[1mwandb\u001b[0m: \tlearning_rate: 0.0001\n",
            "\u001b[34m\u001b[1mwandb\u001b[0m: \tnum_layers: 5\n",
            "\u001b[34m\u001b[1mwandb\u001b[0m: \toptimizer: RMSprop\n",
            "\u001b[34m\u001b[1mwandb\u001b[0m: \tweight_decay: 0\n",
            "\u001b[34m\u001b[1mwandb\u001b[0m: \tweight_ini_method: random\n"
          ]
        },
        {
          "output_type": "display_data",
          "data": {
            "text/plain": [
              "<IPython.core.display.HTML object>"
            ],
            "text/html": [
              "Tracking run with wandb version 0.19.8"
            ]
          },
          "metadata": {}
        },
        {
          "output_type": "display_data",
          "data": {
            "text/plain": [
              "<IPython.core.display.HTML object>"
            ],
            "text/html": [
              "Run data is saved locally in <code>/content/wandb/run-20250316_191638-mvmth3s2</code>"
            ]
          },
          "metadata": {}
        },
        {
          "output_type": "display_data",
          "data": {
            "text/plain": [
              "<IPython.core.display.HTML object>"
            ],
            "text/html": [
              "Syncing run <strong><a href='https://wandb.ai/bgorai005-iit-madras/deep_learning_assignment_1/runs/mvmth3s2' target=\"_blank\">radiant-sweep-7</a></strong> to <a href='https://wandb.ai/bgorai005-iit-madras/deep_learning_assignment_1' target=\"_blank\">Weights & Biases</a> (<a href='https://wandb.me/developer-guide' target=\"_blank\">docs</a>)<br>Sweep page: <a href='https://wandb.ai/bgorai005-iit-madras/deep_learning_assignment_1/sweeps/4uv2tuxd' target=\"_blank\">https://wandb.ai/bgorai005-iit-madras/deep_learning_assignment_1/sweeps/4uv2tuxd</a>"
            ]
          },
          "metadata": {}
        },
        {
          "output_type": "display_data",
          "data": {
            "text/plain": [
              "<IPython.core.display.HTML object>"
            ],
            "text/html": [
              " View project at <a href='https://wandb.ai/bgorai005-iit-madras/deep_learning_assignment_1' target=\"_blank\">https://wandb.ai/bgorai005-iit-madras/deep_learning_assignment_1</a>"
            ]
          },
          "metadata": {}
        },
        {
          "output_type": "display_data",
          "data": {
            "text/plain": [
              "<IPython.core.display.HTML object>"
            ],
            "text/html": [
              " View sweep at <a href='https://wandb.ai/bgorai005-iit-madras/deep_learning_assignment_1/sweeps/4uv2tuxd' target=\"_blank\">https://wandb.ai/bgorai005-iit-madras/deep_learning_assignment_1/sweeps/4uv2tuxd</a>"
            ]
          },
          "metadata": {}
        },
        {
          "output_type": "display_data",
          "data": {
            "text/plain": [
              "<IPython.core.display.HTML object>"
            ],
            "text/html": [
              " View run at <a href='https://wandb.ai/bgorai005-iit-madras/deep_learning_assignment_1/runs/mvmth3s2' target=\"_blank\">https://wandb.ai/bgorai005-iit-madras/deep_learning_assignment_1/runs/mvmth3s2</a>"
            ]
          },
          "metadata": {}
        },
        {
          "output_type": "stream",
          "name": "stdout",
          "text": [
            "[784, 128, 128, 128, 128, 128, 10]\n",
            "Epoch 1, Loss: 0.1856, Val Loss: 0.1851, Train Acc: 7.19%, Val Acc: 7.45%\n",
            "Epoch 2, Loss: 0.1854, Val Loss: 0.1849, Train Acc: 7.32%, Val Acc: 7.55%\n",
            "Epoch 3, Loss: 0.1847, Val Loss: 0.1847, Train Acc: 7.65%, Val Acc: 7.65%\n",
            "Epoch 4, Loss: 0.1832, Val Loss: 0.1837, Train Acc: 8.38%, Val Acc: 8.17%\n",
            "Epoch 5, Loss: 0.1834, Val Loss: 0.1839, Train Acc: 8.31%, Val Acc: 8.05%\n",
            "Epoch 6, Loss: 0.1826, Val Loss: 0.1829, Train Acc: 8.70%, Val Acc: 8.55%\n",
            "Epoch 7, Loss: 0.1824, Val Loss: 0.1830, Train Acc: 8.80%, Val Acc: 8.50%\n",
            "Epoch 8, Loss: 0.1826, Val Loss: 0.1833, Train Acc: 8.71%, Val Acc: 8.35%\n",
            "Epoch 9, Loss: 0.1829, Val Loss: 0.1835, Train Acc: 8.54%, Val Acc: 8.25%\n",
            "Epoch 10, Loss: 0.1829, Val Loss: 0.1834, Train Acc: 8.54%, Val Acc: 8.30%\n"
          ]
        },
        {
          "output_type": "display_data",
          "data": {
            "text/plain": [
              "<IPython.core.display.HTML object>"
            ],
            "text/html": []
          },
          "metadata": {}
        },
        {
          "output_type": "display_data",
          "data": {
            "text/plain": [
              "<IPython.core.display.HTML object>"
            ],
            "text/html": [
              "<br>    <style><br>        .wandb-row {<br>            display: flex;<br>            flex-direction: row;<br>            flex-wrap: wrap;<br>            justify-content: flex-start;<br>            width: 100%;<br>        }<br>        .wandb-col {<br>            display: flex;<br>            flex-direction: column;<br>            flex-basis: 100%;<br>            flex: 1;<br>            padding: 10px;<br>        }<br>    </style><br><div class=\"wandb-row\"><div class=\"wandb-col\"><h3>Run history:</h3><br/><table class=\"wandb\"><tr><td>epoch</td><td>▁▂▃▃▄▅▆▆▇█</td></tr><tr><td>train_accuracy</td><td>▁▂▃▆▆███▇▇</td></tr><tr><td>train_loss</td><td>█▇▆▃▃▁▁▁▂▂</td></tr><tr><td>val_accuracy</td><td>▁▂▂▆▅██▇▆▆</td></tr><tr><td>val_loss</td><td>█▇▇▃▄▁▁▂▃▃</td></tr></table><br/></div><div class=\"wandb-col\"><h3>Run summary:</h3><br/><table class=\"wandb\"><tr><td>epoch</td><td>10</td></tr><tr><td>train_accuracy</td><td>8.54259</td></tr><tr><td>train_loss</td><td>0.18291</td></tr><tr><td>val_accuracy</td><td>8.3</td></tr><tr><td>val_loss</td><td>0.1834</td></tr></table><br/></div></div>"
            ]
          },
          "metadata": {}
        },
        {
          "output_type": "display_data",
          "data": {
            "text/plain": [
              "<IPython.core.display.HTML object>"
            ],
            "text/html": [
              " View run <strong style=\"color:#cdcd00\">ac-relu_hs-128_epc-10_nl-5_lr0.0001_wd-0_opt-RMSprop_bs-32_wi-random_loss-<function mse_loss at 0x7c4fe51c8ae0></strong> at: <a href='https://wandb.ai/bgorai005-iit-madras/deep_learning_assignment_1/runs/mvmth3s2' target=\"_blank\">https://wandb.ai/bgorai005-iit-madras/deep_learning_assignment_1/runs/mvmth3s2</a><br> View project at: <a href='https://wandb.ai/bgorai005-iit-madras/deep_learning_assignment_1' target=\"_blank\">https://wandb.ai/bgorai005-iit-madras/deep_learning_assignment_1</a><br>Synced 5 W&B file(s), 0 media file(s), 0 artifact file(s) and 0 other file(s)"
            ]
          },
          "metadata": {}
        },
        {
          "output_type": "display_data",
          "data": {
            "text/plain": [
              "<IPython.core.display.HTML object>"
            ],
            "text/html": [
              "Find logs at: <code>./wandb/run-20250316_191638-mvmth3s2/logs</code>"
            ]
          },
          "metadata": {}
        },
        {
          "output_type": "stream",
          "name": "stderr",
          "text": [
            "\u001b[34m\u001b[1mwandb\u001b[0m: Agent Starting Run: ch4rme07 with config:\n",
            "\u001b[34m\u001b[1mwandb\u001b[0m: \tactivation_hidden: tanh\n",
            "\u001b[34m\u001b[1mwandb\u001b[0m: \tactivation_output: softmax\n",
            "\u001b[34m\u001b[1mwandb\u001b[0m: \tbatch_size: 16\n",
            "\u001b[34m\u001b[1mwandb\u001b[0m: \tepochs: 10\n",
            "\u001b[34m\u001b[1mwandb\u001b[0m: \thidden_size: 64\n",
            "\u001b[34m\u001b[1mwandb\u001b[0m: \tlearning_rate: 0.001\n",
            "\u001b[34m\u001b[1mwandb\u001b[0m: \tnum_layers: 3\n",
            "\u001b[34m\u001b[1mwandb\u001b[0m: \toptimizer: RMSprop\n",
            "\u001b[34m\u001b[1mwandb\u001b[0m: \tweight_decay: 0\n",
            "\u001b[34m\u001b[1mwandb\u001b[0m: \tweight_ini_method: random\n"
          ]
        },
        {
          "output_type": "display_data",
          "data": {
            "text/plain": [
              "<IPython.core.display.HTML object>"
            ],
            "text/html": [
              "Tracking run with wandb version 0.19.8"
            ]
          },
          "metadata": {}
        },
        {
          "output_type": "display_data",
          "data": {
            "text/plain": [
              "<IPython.core.display.HTML object>"
            ],
            "text/html": [
              "Run data is saved locally in <code>/content/wandb/run-20250316_191940-ch4rme07</code>"
            ]
          },
          "metadata": {}
        },
        {
          "output_type": "display_data",
          "data": {
            "text/plain": [
              "<IPython.core.display.HTML object>"
            ],
            "text/html": [
              "Syncing run <strong><a href='https://wandb.ai/bgorai005-iit-madras/deep_learning_assignment_1/runs/ch4rme07' target=\"_blank\">spring-sweep-8</a></strong> to <a href='https://wandb.ai/bgorai005-iit-madras/deep_learning_assignment_1' target=\"_blank\">Weights & Biases</a> (<a href='https://wandb.me/developer-guide' target=\"_blank\">docs</a>)<br>Sweep page: <a href='https://wandb.ai/bgorai005-iit-madras/deep_learning_assignment_1/sweeps/4uv2tuxd' target=\"_blank\">https://wandb.ai/bgorai005-iit-madras/deep_learning_assignment_1/sweeps/4uv2tuxd</a>"
            ]
          },
          "metadata": {}
        },
        {
          "output_type": "display_data",
          "data": {
            "text/plain": [
              "<IPython.core.display.HTML object>"
            ],
            "text/html": [
              " View project at <a href='https://wandb.ai/bgorai005-iit-madras/deep_learning_assignment_1' target=\"_blank\">https://wandb.ai/bgorai005-iit-madras/deep_learning_assignment_1</a>"
            ]
          },
          "metadata": {}
        },
        {
          "output_type": "display_data",
          "data": {
            "text/plain": [
              "<IPython.core.display.HTML object>"
            ],
            "text/html": [
              " View sweep at <a href='https://wandb.ai/bgorai005-iit-madras/deep_learning_assignment_1/sweeps/4uv2tuxd' target=\"_blank\">https://wandb.ai/bgorai005-iit-madras/deep_learning_assignment_1/sweeps/4uv2tuxd</a>"
            ]
          },
          "metadata": {}
        },
        {
          "output_type": "display_data",
          "data": {
            "text/plain": [
              "<IPython.core.display.HTML object>"
            ],
            "text/html": [
              " View run at <a href='https://wandb.ai/bgorai005-iit-madras/deep_learning_assignment_1/runs/ch4rme07' target=\"_blank\">https://wandb.ai/bgorai005-iit-madras/deep_learning_assignment_1/runs/ch4rme07</a>"
            ]
          },
          "metadata": {}
        },
        {
          "output_type": "stream",
          "name": "stdout",
          "text": [
            "[784, 64, 64, 64, 10]\n",
            "Epoch 1, Loss: 0.0431, Val Loss: 0.0437, Train Acc: 67.41%, Val Acc: 66.85%\n",
            "Epoch 2, Loss: 0.0364, Val Loss: 0.0368, Train Acc: 73.50%, Val Acc: 73.20%\n",
            "Epoch 3, Loss: 0.0334, Val Loss: 0.0342, Train Acc: 76.36%, Val Acc: 75.87%\n",
            "Epoch 4, Loss: 0.0304, Val Loss: 0.0310, Train Acc: 78.53%, Val Acc: 78.27%\n",
            "Epoch 5, Loss: 0.0290, Val Loss: 0.0307, Train Acc: 79.65%, Val Acc: 78.45%\n",
            "Epoch 6, Loss: 0.0284, Val Loss: 0.0296, Train Acc: 79.92%, Val Acc: 78.62%\n",
            "Epoch 7, Loss: 0.0272, Val Loss: 0.0292, Train Acc: 80.94%, Val Acc: 79.37%\n",
            "Epoch 8, Loss: 0.0259, Val Loss: 0.0275, Train Acc: 81.87%, Val Acc: 80.65%\n",
            "Epoch 9, Loss: 0.0258, Val Loss: 0.0278, Train Acc: 81.87%, Val Acc: 80.17%\n",
            "Epoch 10, Loss: 0.0257, Val Loss: 0.0275, Train Acc: 82.09%, Val Acc: 80.87%\n"
          ]
        },
        {
          "output_type": "display_data",
          "data": {
            "text/plain": [
              "<IPython.core.display.HTML object>"
            ],
            "text/html": []
          },
          "metadata": {}
        },
        {
          "output_type": "display_data",
          "data": {
            "text/plain": [
              "<IPython.core.display.HTML object>"
            ],
            "text/html": [
              "<br>    <style><br>        .wandb-row {<br>            display: flex;<br>            flex-direction: row;<br>            flex-wrap: wrap;<br>            justify-content: flex-start;<br>            width: 100%;<br>        }<br>        .wandb-col {<br>            display: flex;<br>            flex-direction: column;<br>            flex-basis: 100%;<br>            flex: 1;<br>            padding: 10px;<br>        }<br>    </style><br><div class=\"wandb-row\"><div class=\"wandb-col\"><h3>Run history:</h3><br/><table class=\"wandb\"><tr><td>epoch</td><td>▁▂▃▃▄▅▆▆▇█</td></tr><tr><td>train_accuracy</td><td>▁▄▅▆▇▇▇███</td></tr><tr><td>train_loss</td><td>█▅▄▃▂▂▂▁▁▁</td></tr><tr><td>val_accuracy</td><td>▁▄▆▇▇▇▇███</td></tr><tr><td>val_loss</td><td>█▅▄▃▂▂▂▁▁▁</td></tr></table><br/></div><div class=\"wandb-col\"><h3>Run summary:</h3><br/><table class=\"wandb\"><tr><td>epoch</td><td>10</td></tr><tr><td>train_accuracy</td><td>82.09259</td></tr><tr><td>train_loss</td><td>0.02568</td></tr><tr><td>val_accuracy</td><td>80.86667</td></tr><tr><td>val_loss</td><td>0.02754</td></tr></table><br/></div></div>"
            ]
          },
          "metadata": {}
        },
        {
          "output_type": "display_data",
          "data": {
            "text/plain": [
              "<IPython.core.display.HTML object>"
            ],
            "text/html": [
              " View run <strong style=\"color:#cdcd00\">ac-tanh_hs-64_epc-10_nl-3_lr0.001_wd-0_opt-RMSprop_bs-16_wi-random_loss-<function mse_loss at 0x7c4fe51c8ae0></strong> at: <a href='https://wandb.ai/bgorai005-iit-madras/deep_learning_assignment_1/runs/ch4rme07' target=\"_blank\">https://wandb.ai/bgorai005-iit-madras/deep_learning_assignment_1/runs/ch4rme07</a><br> View project at: <a href='https://wandb.ai/bgorai005-iit-madras/deep_learning_assignment_1' target=\"_blank\">https://wandb.ai/bgorai005-iit-madras/deep_learning_assignment_1</a><br>Synced 5 W&B file(s), 0 media file(s), 0 artifact file(s) and 0 other file(s)"
            ]
          },
          "metadata": {}
        },
        {
          "output_type": "display_data",
          "data": {
            "text/plain": [
              "<IPython.core.display.HTML object>"
            ],
            "text/html": [
              "Find logs at: <code>./wandb/run-20250316_191940-ch4rme07/logs</code>"
            ]
          },
          "metadata": {}
        },
        {
          "output_type": "stream",
          "name": "stderr",
          "text": [
            "\u001b[34m\u001b[1mwandb\u001b[0m: Agent Starting Run: moy9mp27 with config:\n",
            "\u001b[34m\u001b[1mwandb\u001b[0m: \tactivation_hidden: sigmoid\n",
            "\u001b[34m\u001b[1mwandb\u001b[0m: \tactivation_output: softmax\n",
            "\u001b[34m\u001b[1mwandb\u001b[0m: \tbatch_size: 64\n",
            "\u001b[34m\u001b[1mwandb\u001b[0m: \tepochs: 5\n",
            "\u001b[34m\u001b[1mwandb\u001b[0m: \thidden_size: 64\n",
            "\u001b[34m\u001b[1mwandb\u001b[0m: \tlearning_rate: 0.0001\n",
            "\u001b[34m\u001b[1mwandb\u001b[0m: \tnum_layers: 3\n",
            "\u001b[34m\u001b[1mwandb\u001b[0m: \toptimizer: nadam\n",
            "\u001b[34m\u001b[1mwandb\u001b[0m: \tweight_decay: 0\n",
            "\u001b[34m\u001b[1mwandb\u001b[0m: \tweight_ini_method: random\n"
          ]
        },
        {
          "output_type": "display_data",
          "data": {
            "text/plain": [
              "<IPython.core.display.HTML object>"
            ],
            "text/html": [
              "Tracking run with wandb version 0.19.8"
            ]
          },
          "metadata": {}
        },
        {
          "output_type": "display_data",
          "data": {
            "text/plain": [
              "<IPython.core.display.HTML object>"
            ],
            "text/html": [
              "Run data is saved locally in <code>/content/wandb/run-20250316_192148-moy9mp27</code>"
            ]
          },
          "metadata": {}
        },
        {
          "output_type": "display_data",
          "data": {
            "text/plain": [
              "<IPython.core.display.HTML object>"
            ],
            "text/html": [
              "Syncing run <strong><a href='https://wandb.ai/bgorai005-iit-madras/deep_learning_assignment_1/runs/moy9mp27' target=\"_blank\">dulcet-sweep-9</a></strong> to <a href='https://wandb.ai/bgorai005-iit-madras/deep_learning_assignment_1' target=\"_blank\">Weights & Biases</a> (<a href='https://wandb.me/developer-guide' target=\"_blank\">docs</a>)<br>Sweep page: <a href='https://wandb.ai/bgorai005-iit-madras/deep_learning_assignment_1/sweeps/4uv2tuxd' target=\"_blank\">https://wandb.ai/bgorai005-iit-madras/deep_learning_assignment_1/sweeps/4uv2tuxd</a>"
            ]
          },
          "metadata": {}
        },
        {
          "output_type": "display_data",
          "data": {
            "text/plain": [
              "<IPython.core.display.HTML object>"
            ],
            "text/html": [
              " View project at <a href='https://wandb.ai/bgorai005-iit-madras/deep_learning_assignment_1' target=\"_blank\">https://wandb.ai/bgorai005-iit-madras/deep_learning_assignment_1</a>"
            ]
          },
          "metadata": {}
        },
        {
          "output_type": "display_data",
          "data": {
            "text/plain": [
              "<IPython.core.display.HTML object>"
            ],
            "text/html": [
              " View sweep at <a href='https://wandb.ai/bgorai005-iit-madras/deep_learning_assignment_1/sweeps/4uv2tuxd' target=\"_blank\">https://wandb.ai/bgorai005-iit-madras/deep_learning_assignment_1/sweeps/4uv2tuxd</a>"
            ]
          },
          "metadata": {}
        },
        {
          "output_type": "display_data",
          "data": {
            "text/plain": [
              "<IPython.core.display.HTML object>"
            ],
            "text/html": [
              " View run at <a href='https://wandb.ai/bgorai005-iit-madras/deep_learning_assignment_1/runs/moy9mp27' target=\"_blank\">https://wandb.ai/bgorai005-iit-madras/deep_learning_assignment_1/runs/moy9mp27</a>"
            ]
          },
          "metadata": {}
        },
        {
          "output_type": "stream",
          "name": "stdout",
          "text": [
            "[784, 64, 64, 64, 10]\n",
            "Epoch 1, Loss: 0.0682346534974318, Validation Loss: 0.06941787170979645\n",
            "Epoch 2, Loss: 0.054269760242190754, Validation Loss: 0.05559274221636412\n",
            "Epoch 3, Loss: 0.047422169069656996, Validation Loss: 0.04864538035871463\n",
            "Epoch 4, Loss: 0.04297686684734452, Validation Loss: 0.04416630371156046\n",
            "Epoch 5, Loss: 0.040285164931035206, Validation Loss: 0.04141620088128875\n"
          ]
        },
        {
          "output_type": "display_data",
          "data": {
            "text/plain": [
              "<IPython.core.display.HTML object>"
            ],
            "text/html": []
          },
          "metadata": {}
        },
        {
          "output_type": "display_data",
          "data": {
            "text/plain": [
              "<IPython.core.display.HTML object>"
            ],
            "text/html": [
              "<br>    <style><br>        .wandb-row {<br>            display: flex;<br>            flex-direction: row;<br>            flex-wrap: wrap;<br>            justify-content: flex-start;<br>            width: 100%;<br>        }<br>        .wandb-col {<br>            display: flex;<br>            flex-direction: column;<br>            flex-basis: 100%;<br>            flex: 1;<br>            padding: 10px;<br>        }<br>    </style><br><div class=\"wandb-row\"><div class=\"wandb-col\"><h3>Run history:</h3><br/><table class=\"wandb\"><tr><td>epoch</td><td>▁▃▅▆█</td></tr><tr><td>train_accuracy</td><td>▁▅▆▇█</td></tr><tr><td>train_loss</td><td>█▅▃▂▁</td></tr><tr><td>val_accuracy</td><td>▁▅▆▇█</td></tr><tr><td>val_loss</td><td>█▅▃▂▁</td></tr></table><br/></div><div class=\"wandb-col\"><h3>Run summary:</h3><br/><table class=\"wandb\"><tr><td>epoch</td><td>5</td></tr><tr><td>train_accuracy</td><td>71</td></tr><tr><td>train_loss</td><td>0.04029</td></tr><tr><td>val_accuracy</td><td>70.08333</td></tr><tr><td>val_loss</td><td>0.04142</td></tr></table><br/></div></div>"
            ]
          },
          "metadata": {}
        },
        {
          "output_type": "display_data",
          "data": {
            "text/plain": [
              "<IPython.core.display.HTML object>"
            ],
            "text/html": [
              " View run <strong style=\"color:#cdcd00\">ac-sigmoid_hs-64_epc-5_nl-3_lr0.0001_wd-0_opt-nadam_bs-64_wi-random_loss-<function mse_loss at 0x7c4fe51c8ae0></strong> at: <a href='https://wandb.ai/bgorai005-iit-madras/deep_learning_assignment_1/runs/moy9mp27' target=\"_blank\">https://wandb.ai/bgorai005-iit-madras/deep_learning_assignment_1/runs/moy9mp27</a><br> View project at: <a href='https://wandb.ai/bgorai005-iit-madras/deep_learning_assignment_1' target=\"_blank\">https://wandb.ai/bgorai005-iit-madras/deep_learning_assignment_1</a><br>Synced 5 W&B file(s), 0 media file(s), 0 artifact file(s) and 0 other file(s)"
            ]
          },
          "metadata": {}
        },
        {
          "output_type": "display_data",
          "data": {
            "text/plain": [
              "<IPython.core.display.HTML object>"
            ],
            "text/html": [
              "Find logs at: <code>./wandb/run-20250316_192148-moy9mp27/logs</code>"
            ]
          },
          "metadata": {}
        },
        {
          "output_type": "stream",
          "name": "stderr",
          "text": [
            "\u001b[34m\u001b[1mwandb\u001b[0m: Agent Starting Run: e1l06kup with config:\n",
            "\u001b[34m\u001b[1mwandb\u001b[0m: \tactivation_hidden: tanh\n",
            "\u001b[34m\u001b[1mwandb\u001b[0m: \tactivation_output: softmax\n",
            "\u001b[34m\u001b[1mwandb\u001b[0m: \tbatch_size: 64\n",
            "\u001b[34m\u001b[1mwandb\u001b[0m: \tepochs: 10\n",
            "\u001b[34m\u001b[1mwandb\u001b[0m: \thidden_size: 64\n",
            "\u001b[34m\u001b[1mwandb\u001b[0m: \tlearning_rate: 0.0001\n",
            "\u001b[34m\u001b[1mwandb\u001b[0m: \tnum_layers: 4\n",
            "\u001b[34m\u001b[1mwandb\u001b[0m: \toptimizer: sgd\n",
            "\u001b[34m\u001b[1mwandb\u001b[0m: \tweight_decay: 0\n",
            "\u001b[34m\u001b[1mwandb\u001b[0m: \tweight_ini_method: random\n"
          ]
        },
        {
          "output_type": "display_data",
          "data": {
            "text/plain": [
              "<IPython.core.display.HTML object>"
            ],
            "text/html": [
              "Tracking run with wandb version 0.19.8"
            ]
          },
          "metadata": {}
        },
        {
          "output_type": "display_data",
          "data": {
            "text/plain": [
              "<IPython.core.display.HTML object>"
            ],
            "text/html": [
              "Run data is saved locally in <code>/content/wandb/run-20250316_192228-e1l06kup</code>"
            ]
          },
          "metadata": {}
        },
        {
          "output_type": "display_data",
          "data": {
            "text/plain": [
              "<IPython.core.display.HTML object>"
            ],
            "text/html": [
              "Syncing run <strong><a href='https://wandb.ai/bgorai005-iit-madras/deep_learning_assignment_1/runs/e1l06kup' target=\"_blank\">deep-sweep-10</a></strong> to <a href='https://wandb.ai/bgorai005-iit-madras/deep_learning_assignment_1' target=\"_blank\">Weights & Biases</a> (<a href='https://wandb.me/developer-guide' target=\"_blank\">docs</a>)<br>Sweep page: <a href='https://wandb.ai/bgorai005-iit-madras/deep_learning_assignment_1/sweeps/4uv2tuxd' target=\"_blank\">https://wandb.ai/bgorai005-iit-madras/deep_learning_assignment_1/sweeps/4uv2tuxd</a>"
            ]
          },
          "metadata": {}
        },
        {
          "output_type": "display_data",
          "data": {
            "text/plain": [
              "<IPython.core.display.HTML object>"
            ],
            "text/html": [
              " View project at <a href='https://wandb.ai/bgorai005-iit-madras/deep_learning_assignment_1' target=\"_blank\">https://wandb.ai/bgorai005-iit-madras/deep_learning_assignment_1</a>"
            ]
          },
          "metadata": {}
        },
        {
          "output_type": "display_data",
          "data": {
            "text/plain": [
              "<IPython.core.display.HTML object>"
            ],
            "text/html": [
              " View sweep at <a href='https://wandb.ai/bgorai005-iit-madras/deep_learning_assignment_1/sweeps/4uv2tuxd' target=\"_blank\">https://wandb.ai/bgorai005-iit-madras/deep_learning_assignment_1/sweeps/4uv2tuxd</a>"
            ]
          },
          "metadata": {}
        },
        {
          "output_type": "display_data",
          "data": {
            "text/plain": [
              "<IPython.core.display.HTML object>"
            ],
            "text/html": [
              " View run at <a href='https://wandb.ai/bgorai005-iit-madras/deep_learning_assignment_1/runs/e1l06kup' target=\"_blank\">https://wandb.ai/bgorai005-iit-madras/deep_learning_assignment_1/runs/e1l06kup</a>"
            ]
          },
          "metadata": {}
        },
        {
          "output_type": "stream",
          "name": "stdout",
          "text": [
            "[784, 64, 64, 64, 64, 10]\n",
            "Epoch 1, Train Loss: 0.1549389793331553, Val Loss: 0.15475295950906795,Val Accuracy:0.10816666666666666\n",
            "Epoch 2, Train Loss: 0.14845685596988395, Val Loss: 0.14952749114391492,Val Accuracy:0.1235\n",
            "Epoch 3, Train Loss: 0.14150294253833362, Val Loss: 0.14216885602449592,Val Accuracy:0.15216666666666667\n",
            "Epoch 4, Train Loss: 0.13572104603169705, Val Loss: 0.13820759421782614,Val Accuracy:0.16133333333333333\n",
            "Epoch 5, Train Loss: 0.13147802999873828, Val Loss: 0.13390326725735763,Val Accuracy:0.1625\n",
            "Epoch 6, Train Loss: 0.12522539476670913, Val Loss: 0.1255705355718299,Val Accuracy:0.17466666666666666\n",
            "Epoch 7, Train Loss: 0.11740239355737804, Val Loss: 0.11736131993199239,Val Accuracy:0.18583333333333332\n",
            "Epoch 8, Train Loss: 0.10861119050007412, Val Loss: 0.10882711410013278,Val Accuracy:0.2005\n",
            "Epoch 9, Train Loss: 0.10064700018849786, Val Loss: 0.10128240985973355,Val Accuracy:0.20883333333333334\n",
            "Epoch 10, Train Loss: 0.09461840359478978, Val Loss: 0.0953504643300345,Val Accuracy:0.22516666666666665\n"
          ]
        },
        {
          "output_type": "display_data",
          "data": {
            "text/plain": [
              "<IPython.core.display.HTML object>"
            ],
            "text/html": []
          },
          "metadata": {}
        },
        {
          "output_type": "display_data",
          "data": {
            "text/plain": [
              "<IPython.core.display.HTML object>"
            ],
            "text/html": [
              "<br>    <style><br>        .wandb-row {<br>            display: flex;<br>            flex-direction: row;<br>            flex-wrap: wrap;<br>            justify-content: flex-start;<br>            width: 100%;<br>        }<br>        .wandb-col {<br>            display: flex;<br>            flex-direction: column;<br>            flex-basis: 100%;<br>            flex: 1;<br>            padding: 10px;<br>        }<br>    </style><br><div class=\"wandb-row\"><div class=\"wandb-col\"><h3>Run history:</h3><br/><table class=\"wandb\"><tr><td>epoch</td><td>▁▂▃▃▄▅▆▆▇█</td></tr><tr><td>train_accuracy</td><td>▁▂▄▅▅▅▆▆▇█</td></tr><tr><td>train_loss</td><td>█▇▆▆▅▅▄▃▂▁</td></tr><tr><td>val_accuracy</td><td>▁▂▄▄▄▅▆▇▇█</td></tr><tr><td>val_loss</td><td>█▇▇▆▆▅▄▃▂▁</td></tr></table><br/></div><div class=\"wandb-col\"><h3>Run summary:</h3><br/><table class=\"wandb\"><tr><td>epoch</td><td>10</td></tr><tr><td>train_accuracy</td><td>23.01852</td></tr><tr><td>train_loss</td><td>0.09462</td></tr><tr><td>val_accuracy</td><td>22.51667</td></tr><tr><td>val_loss</td><td>0.09535</td></tr></table><br/></div></div>"
            ]
          },
          "metadata": {}
        },
        {
          "output_type": "display_data",
          "data": {
            "text/plain": [
              "<IPython.core.display.HTML object>"
            ],
            "text/html": [
              " View run <strong style=\"color:#cdcd00\">ac-tanh_hs-64_epc-10_nl-4_lr0.0001_wd-0_opt-sgd_bs-64_wi-random_loss-<function mse_loss at 0x7c4fe51c8ae0></strong> at: <a href='https://wandb.ai/bgorai005-iit-madras/deep_learning_assignment_1/runs/e1l06kup' target=\"_blank\">https://wandb.ai/bgorai005-iit-madras/deep_learning_assignment_1/runs/e1l06kup</a><br> View project at: <a href='https://wandb.ai/bgorai005-iit-madras/deep_learning_assignment_1' target=\"_blank\">https://wandb.ai/bgorai005-iit-madras/deep_learning_assignment_1</a><br>Synced 5 W&B file(s), 0 media file(s), 0 artifact file(s) and 0 other file(s)"
            ]
          },
          "metadata": {}
        },
        {
          "output_type": "display_data",
          "data": {
            "text/plain": [
              "<IPython.core.display.HTML object>"
            ],
            "text/html": [
              "Find logs at: <code>./wandb/run-20250316_192228-e1l06kup/logs</code>"
            ]
          },
          "metadata": {}
        },
        {
          "output_type": "stream",
          "name": "stderr",
          "text": [
            "\u001b[34m\u001b[1mwandb\u001b[0m: Agent Starting Run: e7snd55y with config:\n",
            "\u001b[34m\u001b[1mwandb\u001b[0m: \tactivation_hidden: tanh\n",
            "\u001b[34m\u001b[1mwandb\u001b[0m: \tactivation_output: softmax\n",
            "\u001b[34m\u001b[1mwandb\u001b[0m: \tbatch_size: 32\n",
            "\u001b[34m\u001b[1mwandb\u001b[0m: \tepochs: 10\n",
            "\u001b[34m\u001b[1mwandb\u001b[0m: \thidden_size: 32\n",
            "\u001b[34m\u001b[1mwandb\u001b[0m: \tlearning_rate: 0.0001\n",
            "\u001b[34m\u001b[1mwandb\u001b[0m: \tnum_layers: 5\n",
            "\u001b[34m\u001b[1mwandb\u001b[0m: \toptimizer: nag\n",
            "\u001b[34m\u001b[1mwandb\u001b[0m: \tweight_decay: 0\n",
            "\u001b[34m\u001b[1mwandb\u001b[0m: \tweight_ini_method: random\n"
          ]
        },
        {
          "output_type": "display_data",
          "data": {
            "text/plain": [
              "<IPython.core.display.HTML object>"
            ],
            "text/html": [
              "Tracking run with wandb version 0.19.8"
            ]
          },
          "metadata": {}
        },
        {
          "output_type": "display_data",
          "data": {
            "text/plain": [
              "<IPython.core.display.HTML object>"
            ],
            "text/html": [
              "Run data is saved locally in <code>/content/wandb/run-20250316_192400-e7snd55y</code>"
            ]
          },
          "metadata": {}
        },
        {
          "output_type": "display_data",
          "data": {
            "text/plain": [
              "<IPython.core.display.HTML object>"
            ],
            "text/html": [
              "Syncing run <strong><a href='https://wandb.ai/bgorai005-iit-madras/deep_learning_assignment_1/runs/e7snd55y' target=\"_blank\">fanciful-sweep-11</a></strong> to <a href='https://wandb.ai/bgorai005-iit-madras/deep_learning_assignment_1' target=\"_blank\">Weights & Biases</a> (<a href='https://wandb.me/developer-guide' target=\"_blank\">docs</a>)<br>Sweep page: <a href='https://wandb.ai/bgorai005-iit-madras/deep_learning_assignment_1/sweeps/4uv2tuxd' target=\"_blank\">https://wandb.ai/bgorai005-iit-madras/deep_learning_assignment_1/sweeps/4uv2tuxd</a>"
            ]
          },
          "metadata": {}
        },
        {
          "output_type": "display_data",
          "data": {
            "text/plain": [
              "<IPython.core.display.HTML object>"
            ],
            "text/html": [
              " View project at <a href='https://wandb.ai/bgorai005-iit-madras/deep_learning_assignment_1' target=\"_blank\">https://wandb.ai/bgorai005-iit-madras/deep_learning_assignment_1</a>"
            ]
          },
          "metadata": {}
        },
        {
          "output_type": "display_data",
          "data": {
            "text/plain": [
              "<IPython.core.display.HTML object>"
            ],
            "text/html": [
              " View sweep at <a href='https://wandb.ai/bgorai005-iit-madras/deep_learning_assignment_1/sweeps/4uv2tuxd' target=\"_blank\">https://wandb.ai/bgorai005-iit-madras/deep_learning_assignment_1/sweeps/4uv2tuxd</a>"
            ]
          },
          "metadata": {}
        },
        {
          "output_type": "display_data",
          "data": {
            "text/plain": [
              "<IPython.core.display.HTML object>"
            ],
            "text/html": [
              " View run at <a href='https://wandb.ai/bgorai005-iit-madras/deep_learning_assignment_1/runs/e7snd55y' target=\"_blank\">https://wandb.ai/bgorai005-iit-madras/deep_learning_assignment_1/runs/e7snd55y</a>"
            ]
          },
          "metadata": {}
        },
        {
          "output_type": "stream",
          "name": "stdout",
          "text": [
            "[784, 32, 32, 32, 32, 32, 10]\n",
            "Epoch 1, Loss: 0.1386355700455411, Validation Loss: 0.13753629895168512\n",
            "Epoch 2, Loss: 0.1394216585845618, Validation Loss: 0.13982928217600835\n",
            "Epoch 3, Loss: 0.1296957070013187, Validation Loss: 0.12904432457435233\n",
            "Epoch 4, Loss: 0.12025296149509968, Validation Loss: 0.12023290932279136\n",
            "Epoch 5, Loss: 0.11263743150580748, Validation Loss: 0.112308927715579\n",
            "Epoch 6, Loss: 0.10825806544664293, Validation Loss: 0.1078263825068997\n",
            "Epoch 7, Loss: 0.10336362457546901, Validation Loss: 0.10309557747808439\n",
            "Epoch 8, Loss: 0.10186554178625054, Validation Loss: 0.10165613786670573\n",
            "Epoch 9, Loss: 0.09943215159664734, Validation Loss: 0.09922684621702046\n",
            "Epoch 10, Loss: 0.09683781699335957, Validation Loss: 0.09670031651411783\n"
          ]
        },
        {
          "output_type": "display_data",
          "data": {
            "text/plain": [
              "<IPython.core.display.HTML object>"
            ],
            "text/html": []
          },
          "metadata": {}
        },
        {
          "output_type": "display_data",
          "data": {
            "text/plain": [
              "<IPython.core.display.HTML object>"
            ],
            "text/html": [
              "<br>    <style><br>        .wandb-row {<br>            display: flex;<br>            flex-direction: row;<br>            flex-wrap: wrap;<br>            justify-content: flex-start;<br>            width: 100%;<br>        }<br>        .wandb-col {<br>            display: flex;<br>            flex-direction: column;<br>            flex-basis: 100%;<br>            flex: 1;<br>            padding: 10px;<br>        }<br>    </style><br><div class=\"wandb-row\"><div class=\"wandb-col\"><h3>Run history:</h3><br/><table class=\"wandb\"><tr><td>epoch</td><td>▁▂▃▃▄▅▆▆▇█</td></tr><tr><td>train_accuracy</td><td>█▄▁▇▆▅▄▄▄▄</td></tr><tr><td>train_loss</td><td>██▆▅▄▃▂▂▁▁</td></tr><tr><td>val_accuracy</td><td>█▃▁▆▇▅▄▄▄▄</td></tr><tr><td>val_loss</td><td>██▆▅▄▃▂▂▁▁</td></tr></table><br/></div><div class=\"wandb-col\"><h3>Run summary:</h3><br/><table class=\"wandb\"><tr><td>epoch</td><td>10</td></tr><tr><td>train_accuracy</td><td>10.0037</td></tr><tr><td>train_loss</td><td>0.09684</td></tr><tr><td>val_accuracy</td><td>10.21667</td></tr><tr><td>val_loss</td><td>0.0967</td></tr></table><br/></div></div>"
            ]
          },
          "metadata": {}
        },
        {
          "output_type": "display_data",
          "data": {
            "text/plain": [
              "<IPython.core.display.HTML object>"
            ],
            "text/html": [
              " View run <strong style=\"color:#cdcd00\">ac-tanh_hs-32_epc-10_nl-5_lr0.0001_wd-0_opt-nag_bs-32_wi-random_loss-<function mse_loss at 0x7c4fe51c8ae0></strong> at: <a href='https://wandb.ai/bgorai005-iit-madras/deep_learning_assignment_1/runs/e7snd55y' target=\"_blank\">https://wandb.ai/bgorai005-iit-madras/deep_learning_assignment_1/runs/e7snd55y</a><br> View project at: <a href='https://wandb.ai/bgorai005-iit-madras/deep_learning_assignment_1' target=\"_blank\">https://wandb.ai/bgorai005-iit-madras/deep_learning_assignment_1</a><br>Synced 5 W&B file(s), 0 media file(s), 0 artifact file(s) and 0 other file(s)"
            ]
          },
          "metadata": {}
        },
        {
          "output_type": "display_data",
          "data": {
            "text/plain": [
              "<IPython.core.display.HTML object>"
            ],
            "text/html": [
              "Find logs at: <code>./wandb/run-20250316_192400-e7snd55y/logs</code>"
            ]
          },
          "metadata": {}
        },
        {
          "output_type": "stream",
          "name": "stderr",
          "text": [
            "\u001b[34m\u001b[1mwandb\u001b[0m: Agent Starting Run: 6jh83c68 with config:\n",
            "\u001b[34m\u001b[1mwandb\u001b[0m: \tactivation_hidden: sigmoid\n",
            "\u001b[34m\u001b[1mwandb\u001b[0m: \tactivation_output: softmax\n",
            "\u001b[34m\u001b[1mwandb\u001b[0m: \tbatch_size: 64\n",
            "\u001b[34m\u001b[1mwandb\u001b[0m: \tepochs: 5\n",
            "\u001b[34m\u001b[1mwandb\u001b[0m: \thidden_size: 128\n",
            "\u001b[34m\u001b[1mwandb\u001b[0m: \tlearning_rate: 0.001\n",
            "\u001b[34m\u001b[1mwandb\u001b[0m: \tnum_layers: 3\n",
            "\u001b[34m\u001b[1mwandb\u001b[0m: \toptimizer: nadam\n",
            "\u001b[34m\u001b[1mwandb\u001b[0m: \tweight_decay: 0\n",
            "\u001b[34m\u001b[1mwandb\u001b[0m: \tweight_ini_method: random\n"
          ]
        },
        {
          "output_type": "display_data",
          "data": {
            "text/plain": [
              "<IPython.core.display.HTML object>"
            ],
            "text/html": [
              "Tracking run with wandb version 0.19.8"
            ]
          },
          "metadata": {}
        },
        {
          "output_type": "display_data",
          "data": {
            "text/plain": [
              "<IPython.core.display.HTML object>"
            ],
            "text/html": [
              "Run data is saved locally in <code>/content/wandb/run-20250316_192516-6jh83c68</code>"
            ]
          },
          "metadata": {}
        },
        {
          "output_type": "display_data",
          "data": {
            "text/plain": [
              "<IPython.core.display.HTML object>"
            ],
            "text/html": [
              "Syncing run <strong><a href='https://wandb.ai/bgorai005-iit-madras/deep_learning_assignment_1/runs/6jh83c68' target=\"_blank\">eager-sweep-12</a></strong> to <a href='https://wandb.ai/bgorai005-iit-madras/deep_learning_assignment_1' target=\"_blank\">Weights & Biases</a> (<a href='https://wandb.me/developer-guide' target=\"_blank\">docs</a>)<br>Sweep page: <a href='https://wandb.ai/bgorai005-iit-madras/deep_learning_assignment_1/sweeps/4uv2tuxd' target=\"_blank\">https://wandb.ai/bgorai005-iit-madras/deep_learning_assignment_1/sweeps/4uv2tuxd</a>"
            ]
          },
          "metadata": {}
        },
        {
          "output_type": "display_data",
          "data": {
            "text/plain": [
              "<IPython.core.display.HTML object>"
            ],
            "text/html": [
              " View project at <a href='https://wandb.ai/bgorai005-iit-madras/deep_learning_assignment_1' target=\"_blank\">https://wandb.ai/bgorai005-iit-madras/deep_learning_assignment_1</a>"
            ]
          },
          "metadata": {}
        },
        {
          "output_type": "display_data",
          "data": {
            "text/plain": [
              "<IPython.core.display.HTML object>"
            ],
            "text/html": [
              " View sweep at <a href='https://wandb.ai/bgorai005-iit-madras/deep_learning_assignment_1/sweeps/4uv2tuxd' target=\"_blank\">https://wandb.ai/bgorai005-iit-madras/deep_learning_assignment_1/sweeps/4uv2tuxd</a>"
            ]
          },
          "metadata": {}
        },
        {
          "output_type": "display_data",
          "data": {
            "text/plain": [
              "<IPython.core.display.HTML object>"
            ],
            "text/html": [
              " View run at <a href='https://wandb.ai/bgorai005-iit-madras/deep_learning_assignment_1/runs/6jh83c68' target=\"_blank\">https://wandb.ai/bgorai005-iit-madras/deep_learning_assignment_1/runs/6jh83c68</a>"
            ]
          },
          "metadata": {}
        },
        {
          "output_type": "stream",
          "name": "stdout",
          "text": [
            "[784, 128, 128, 128, 10]\n",
            "Epoch 1, Loss: 0.028359658382367387, Validation Loss: 0.029439944913000112\n",
            "Epoch 2, Loss: 0.024354764370570218, Validation Loss: 0.026540056318064862\n",
            "Epoch 3, Loss: 0.02262352366989992, Validation Loss: 0.025038262171745436\n",
            "Epoch 4, Loss: 0.021510718074722594, Validation Loss: 0.02454491830995104\n",
            "Epoch 5, Loss: 0.020157614760202017, Validation Loss: 0.02360694875433311\n"
          ]
        },
        {
          "output_type": "display_data",
          "data": {
            "text/plain": [
              "<IPython.core.display.HTML object>"
            ],
            "text/html": []
          },
          "metadata": {}
        },
        {
          "output_type": "display_data",
          "data": {
            "text/plain": [
              "<IPython.core.display.HTML object>"
            ],
            "text/html": [
              "<br>    <style><br>        .wandb-row {<br>            display: flex;<br>            flex-direction: row;<br>            flex-wrap: wrap;<br>            justify-content: flex-start;<br>            width: 100%;<br>        }<br>        .wandb-col {<br>            display: flex;<br>            flex-direction: column;<br>            flex-basis: 100%;<br>            flex: 1;<br>            padding: 10px;<br>        }<br>    </style><br><div class=\"wandb-row\"><div class=\"wandb-col\"><h3>Run history:</h3><br/><table class=\"wandb\"><tr><td>epoch</td><td>▁▃▅▆█</td></tr><tr><td>train_accuracy</td><td>▁▄▆▇█</td></tr><tr><td>train_loss</td><td>█▅▃▂▁</td></tr><tr><td>val_accuracy</td><td>▁▄▇▇█</td></tr><tr><td>val_loss</td><td>█▅▃▂▁</td></tr></table><br/></div><div class=\"wandb-col\"><h3>Run summary:</h3><br/><table class=\"wandb\"><tr><td>epoch</td><td>5</td></tr><tr><td>train_accuracy</td><td>86.23889</td></tr><tr><td>train_loss</td><td>0.02016</td></tr><tr><td>val_accuracy</td><td>83.46667</td></tr><tr><td>val_loss</td><td>0.02361</td></tr></table><br/></div></div>"
            ]
          },
          "metadata": {}
        },
        {
          "output_type": "display_data",
          "data": {
            "text/plain": [
              "<IPython.core.display.HTML object>"
            ],
            "text/html": [
              " View run <strong style=\"color:#cdcd00\">ac-sigmoid_hs-128_epc-5_nl-3_lr0.001_wd-0_opt-nadam_bs-64_wi-random_loss-<function mse_loss at 0x7c4fe51c8ae0></strong> at: <a href='https://wandb.ai/bgorai005-iit-madras/deep_learning_assignment_1/runs/6jh83c68' target=\"_blank\">https://wandb.ai/bgorai005-iit-madras/deep_learning_assignment_1/runs/6jh83c68</a><br> View project at: <a href='https://wandb.ai/bgorai005-iit-madras/deep_learning_assignment_1' target=\"_blank\">https://wandb.ai/bgorai005-iit-madras/deep_learning_assignment_1</a><br>Synced 5 W&B file(s), 0 media file(s), 0 artifact file(s) and 0 other file(s)"
            ]
          },
          "metadata": {}
        },
        {
          "output_type": "display_data",
          "data": {
            "text/plain": [
              "<IPython.core.display.HTML object>"
            ],
            "text/html": [
              "Find logs at: <code>./wandb/run-20250316_192516-6jh83c68/logs</code>"
            ]
          },
          "metadata": {}
        },
        {
          "output_type": "stream",
          "name": "stderr",
          "text": [
            "\u001b[34m\u001b[1mwandb\u001b[0m: Agent Starting Run: cvlufp6j with config:\n",
            "\u001b[34m\u001b[1mwandb\u001b[0m: \tactivation_hidden: relu\n",
            "\u001b[34m\u001b[1mwandb\u001b[0m: \tactivation_output: softmax\n",
            "\u001b[34m\u001b[1mwandb\u001b[0m: \tbatch_size: 64\n",
            "\u001b[34m\u001b[1mwandb\u001b[0m: \tepochs: 10\n",
            "\u001b[34m\u001b[1mwandb\u001b[0m: \thidden_size: 32\n",
            "\u001b[34m\u001b[1mwandb\u001b[0m: \tlearning_rate: 0.001\n",
            "\u001b[34m\u001b[1mwandb\u001b[0m: \tnum_layers: 4\n",
            "\u001b[34m\u001b[1mwandb\u001b[0m: \toptimizer: nag\n",
            "\u001b[34m\u001b[1mwandb\u001b[0m: \tweight_decay: 0\n",
            "\u001b[34m\u001b[1mwandb\u001b[0m: \tweight_ini_method: random\n"
          ]
        },
        {
          "output_type": "display_data",
          "data": {
            "text/plain": [
              "<IPython.core.display.HTML object>"
            ],
            "text/html": [
              "Tracking run with wandb version 0.19.8"
            ]
          },
          "metadata": {}
        },
        {
          "output_type": "display_data",
          "data": {
            "text/plain": [
              "<IPython.core.display.HTML object>"
            ],
            "text/html": [
              "Run data is saved locally in <code>/content/wandb/run-20250316_192627-cvlufp6j</code>"
            ]
          },
          "metadata": {}
        },
        {
          "output_type": "display_data",
          "data": {
            "text/plain": [
              "<IPython.core.display.HTML object>"
            ],
            "text/html": [
              "Syncing run <strong><a href='https://wandb.ai/bgorai005-iit-madras/deep_learning_assignment_1/runs/cvlufp6j' target=\"_blank\">expert-sweep-13</a></strong> to <a href='https://wandb.ai/bgorai005-iit-madras/deep_learning_assignment_1' target=\"_blank\">Weights & Biases</a> (<a href='https://wandb.me/developer-guide' target=\"_blank\">docs</a>)<br>Sweep page: <a href='https://wandb.ai/bgorai005-iit-madras/deep_learning_assignment_1/sweeps/4uv2tuxd' target=\"_blank\">https://wandb.ai/bgorai005-iit-madras/deep_learning_assignment_1/sweeps/4uv2tuxd</a>"
            ]
          },
          "metadata": {}
        },
        {
          "output_type": "display_data",
          "data": {
            "text/plain": [
              "<IPython.core.display.HTML object>"
            ],
            "text/html": [
              " View project at <a href='https://wandb.ai/bgorai005-iit-madras/deep_learning_assignment_1' target=\"_blank\">https://wandb.ai/bgorai005-iit-madras/deep_learning_assignment_1</a>"
            ]
          },
          "metadata": {}
        },
        {
          "output_type": "display_data",
          "data": {
            "text/plain": [
              "<IPython.core.display.HTML object>"
            ],
            "text/html": [
              " View sweep at <a href='https://wandb.ai/bgorai005-iit-madras/deep_learning_assignment_1/sweeps/4uv2tuxd' target=\"_blank\">https://wandb.ai/bgorai005-iit-madras/deep_learning_assignment_1/sweeps/4uv2tuxd</a>"
            ]
          },
          "metadata": {}
        },
        {
          "output_type": "display_data",
          "data": {
            "text/plain": [
              "<IPython.core.display.HTML object>"
            ],
            "text/html": [
              " View run at <a href='https://wandb.ai/bgorai005-iit-madras/deep_learning_assignment_1/runs/cvlufp6j' target=\"_blank\">https://wandb.ai/bgorai005-iit-madras/deep_learning_assignment_1/runs/cvlufp6j</a>"
            ]
          },
          "metadata": {}
        },
        {
          "output_type": "stream",
          "name": "stdout",
          "text": [
            "[784, 32, 32, 32, 32, 10]\n",
            "Epoch 1, Loss: 0.17996296296296296, Validation Loss: 0.18033333333333335\n",
            "Epoch 2, Loss: 0.17996296296296296, Validation Loss: 0.18033333333333335\n",
            "Epoch 3, Loss: 0.17996296296296296, Validation Loss: 0.18033333333333335\n",
            "Epoch 4, Loss: 0.17996296296296296, Validation Loss: 0.18033333333333335\n",
            "Epoch 5, Loss: 0.17996296296296296, Validation Loss: 0.18033333333333335\n",
            "Epoch 6, Loss: 0.17996296296296296, Validation Loss: 0.18033333333333335\n",
            "Epoch 7, Loss: 0.17996296296296296, Validation Loss: 0.18033333333333335\n",
            "Epoch 8, Loss: 0.17996296296296296, Validation Loss: 0.18033333333333335\n",
            "Epoch 9, Loss: 0.17996296296296296, Validation Loss: 0.18033333333333335\n",
            "Epoch 10, Loss: 0.17996296296296296, Validation Loss: 0.18033333333333335\n"
          ]
        },
        {
          "output_type": "display_data",
          "data": {
            "text/plain": [
              "<IPython.core.display.HTML object>"
            ],
            "text/html": []
          },
          "metadata": {}
        },
        {
          "output_type": "display_data",
          "data": {
            "text/plain": [
              "<IPython.core.display.HTML object>"
            ],
            "text/html": [
              "<br>    <style><br>        .wandb-row {<br>            display: flex;<br>            flex-direction: row;<br>            flex-wrap: wrap;<br>            justify-content: flex-start;<br>            width: 100%;<br>        }<br>        .wandb-col {<br>            display: flex;<br>            flex-direction: column;<br>            flex-basis: 100%;<br>            flex: 1;<br>            padding: 10px;<br>        }<br>    </style><br><div class=\"wandb-row\"><div class=\"wandb-col\"><h3>Run history:</h3><br/><table class=\"wandb\"><tr><td>epoch</td><td>▁▂▃▃▄▅▆▆▇█</td></tr><tr><td>train_accuracy</td><td>▁▁▁▁▁▁▁▁▁▁</td></tr><tr><td>train_loss</td><td>▁▁▁▁▁▁▁▁▁▁</td></tr><tr><td>val_accuracy</td><td>▁▁▁▁▁▁▁▁▁▁</td></tr><tr><td>val_loss</td><td>▁▁▁▁▁▁▁▁▁▁</td></tr></table><br/></div><div class=\"wandb-col\"><h3>Run summary:</h3><br/><table class=\"wandb\"><tr><td>epoch</td><td>10</td></tr><tr><td>train_accuracy</td><td>10.01852</td></tr><tr><td>train_loss</td><td>0.17996</td></tr><tr><td>val_accuracy</td><td>9.83333</td></tr><tr><td>val_loss</td><td>0.18033</td></tr></table><br/></div></div>"
            ]
          },
          "metadata": {}
        },
        {
          "output_type": "display_data",
          "data": {
            "text/plain": [
              "<IPython.core.display.HTML object>"
            ],
            "text/html": [
              " View run <strong style=\"color:#cdcd00\">ac-relu_hs-32_epc-10_nl-4_lr0.001_wd-0_opt-nag_bs-64_wi-random_loss-<function mse_loss at 0x7c4fe51c8ae0></strong> at: <a href='https://wandb.ai/bgorai005-iit-madras/deep_learning_assignment_1/runs/cvlufp6j' target=\"_blank\">https://wandb.ai/bgorai005-iit-madras/deep_learning_assignment_1/runs/cvlufp6j</a><br> View project at: <a href='https://wandb.ai/bgorai005-iit-madras/deep_learning_assignment_1' target=\"_blank\">https://wandb.ai/bgorai005-iit-madras/deep_learning_assignment_1</a><br>Synced 5 W&B file(s), 0 media file(s), 0 artifact file(s) and 0 other file(s)"
            ]
          },
          "metadata": {}
        },
        {
          "output_type": "display_data",
          "data": {
            "text/plain": [
              "<IPython.core.display.HTML object>"
            ],
            "text/html": [
              "Find logs at: <code>./wandb/run-20250316_192627-cvlufp6j/logs</code>"
            ]
          },
          "metadata": {}
        },
        {
          "output_type": "stream",
          "name": "stderr",
          "text": [
            "\u001b[34m\u001b[1mwandb\u001b[0m: Agent Starting Run: c9hzui9q with config:\n",
            "\u001b[34m\u001b[1mwandb\u001b[0m: \tactivation_hidden: relu\n",
            "\u001b[34m\u001b[1mwandb\u001b[0m: \tactivation_output: softmax\n",
            "\u001b[34m\u001b[1mwandb\u001b[0m: \tbatch_size: 32\n",
            "\u001b[34m\u001b[1mwandb\u001b[0m: \tepochs: 5\n",
            "\u001b[34m\u001b[1mwandb\u001b[0m: \thidden_size: 128\n",
            "\u001b[34m\u001b[1mwandb\u001b[0m: \tlearning_rate: 0.0001\n",
            "\u001b[34m\u001b[1mwandb\u001b[0m: \tnum_layers: 4\n",
            "\u001b[34m\u001b[1mwandb\u001b[0m: \toptimizer: nadam\n",
            "\u001b[34m\u001b[1mwandb\u001b[0m: \tweight_decay: 0\n",
            "\u001b[34m\u001b[1mwandb\u001b[0m: \tweight_ini_method: Xavier\n"
          ]
        },
        {
          "output_type": "display_data",
          "data": {
            "text/plain": [
              "<IPython.core.display.HTML object>"
            ],
            "text/html": [
              "Tracking run with wandb version 0.19.8"
            ]
          },
          "metadata": {}
        },
        {
          "output_type": "display_data",
          "data": {
            "text/plain": [
              "<IPython.core.display.HTML object>"
            ],
            "text/html": [
              "Run data is saved locally in <code>/content/wandb/run-20250316_192713-c9hzui9q</code>"
            ]
          },
          "metadata": {}
        },
        {
          "output_type": "display_data",
          "data": {
            "text/plain": [
              "<IPython.core.display.HTML object>"
            ],
            "text/html": [
              "Syncing run <strong><a href='https://wandb.ai/bgorai005-iit-madras/deep_learning_assignment_1/runs/c9hzui9q' target=\"_blank\">bright-sweep-14</a></strong> to <a href='https://wandb.ai/bgorai005-iit-madras/deep_learning_assignment_1' target=\"_blank\">Weights & Biases</a> (<a href='https://wandb.me/developer-guide' target=\"_blank\">docs</a>)<br>Sweep page: <a href='https://wandb.ai/bgorai005-iit-madras/deep_learning_assignment_1/sweeps/4uv2tuxd' target=\"_blank\">https://wandb.ai/bgorai005-iit-madras/deep_learning_assignment_1/sweeps/4uv2tuxd</a>"
            ]
          },
          "metadata": {}
        },
        {
          "output_type": "display_data",
          "data": {
            "text/plain": [
              "<IPython.core.display.HTML object>"
            ],
            "text/html": [
              " View project at <a href='https://wandb.ai/bgorai005-iit-madras/deep_learning_assignment_1' target=\"_blank\">https://wandb.ai/bgorai005-iit-madras/deep_learning_assignment_1</a>"
            ]
          },
          "metadata": {}
        },
        {
          "output_type": "display_data",
          "data": {
            "text/plain": [
              "<IPython.core.display.HTML object>"
            ],
            "text/html": [
              " View sweep at <a href='https://wandb.ai/bgorai005-iit-madras/deep_learning_assignment_1/sweeps/4uv2tuxd' target=\"_blank\">https://wandb.ai/bgorai005-iit-madras/deep_learning_assignment_1/sweeps/4uv2tuxd</a>"
            ]
          },
          "metadata": {}
        },
        {
          "output_type": "display_data",
          "data": {
            "text/plain": [
              "<IPython.core.display.HTML object>"
            ],
            "text/html": [
              " View run at <a href='https://wandb.ai/bgorai005-iit-madras/deep_learning_assignment_1/runs/c9hzui9q' target=\"_blank\">https://wandb.ai/bgorai005-iit-madras/deep_learning_assignment_1/runs/c9hzui9q</a>"
            ]
          },
          "metadata": {}
        },
        {
          "output_type": "stream",
          "name": "stdout",
          "text": [
            "[784, 128, 128, 128, 128, 10]\n",
            "Epoch 1, Loss: 0.022823382820478414, Validation Loss: 0.02379775582148959\n",
            "Epoch 2, Loss: 0.021288149945393128, Validation Loss: 0.02243369068552305\n",
            "Epoch 3, Loss: 0.01946569549722375, Validation Loss: 0.02063935426342262\n",
            "Epoch 4, Loss: 0.018034331657191364, Validation Loss: 0.019341970439546732\n",
            "Epoch 5, Loss: 0.0188444095903211, Validation Loss: 0.02021552629780637\n"
          ]
        },
        {
          "output_type": "display_data",
          "data": {
            "text/plain": [
              "<IPython.core.display.HTML object>"
            ],
            "text/html": []
          },
          "metadata": {}
        },
        {
          "output_type": "display_data",
          "data": {
            "text/plain": [
              "<IPython.core.display.HTML object>"
            ],
            "text/html": [
              "<br>    <style><br>        .wandb-row {<br>            display: flex;<br>            flex-direction: row;<br>            flex-wrap: wrap;<br>            justify-content: flex-start;<br>            width: 100%;<br>        }<br>        .wandb-col {<br>            display: flex;<br>            flex-direction: column;<br>            flex-basis: 100%;<br>            flex: 1;<br>            padding: 10px;<br>        }<br>    </style><br><div class=\"wandb-row\"><div class=\"wandb-col\"><h3>Run history:</h3><br/><table class=\"wandb\"><tr><td>epoch</td><td>▁▃▅▆█</td></tr><tr><td>train_accuracy</td><td>▁▃▆█▆</td></tr><tr><td>train_loss</td><td>█▆▃▁▂</td></tr><tr><td>val_accuracy</td><td>▁▃▆█▇</td></tr><tr><td>val_loss</td><td>█▆▃▁▂</td></tr></table><br/></div><div class=\"wandb-col\"><h3>Run summary:</h3><br/><table class=\"wandb\"><tr><td>epoch</td><td>5</td></tr><tr><td>train_accuracy</td><td>86.99815</td></tr><tr><td>train_loss</td><td>0.01884</td></tr><tr><td>val_accuracy</td><td>86.05</td></tr><tr><td>val_loss</td><td>0.02022</td></tr></table><br/></div></div>"
            ]
          },
          "metadata": {}
        },
        {
          "output_type": "display_data",
          "data": {
            "text/plain": [
              "<IPython.core.display.HTML object>"
            ],
            "text/html": [
              " View run <strong style=\"color:#cdcd00\">ac-relu_hs-128_epc-5_nl-4_lr0.0001_wd-0_opt-nadam_bs-32_wi-Xavier_loss-<function mse_loss at 0x7c4fe51c8ae0></strong> at: <a href='https://wandb.ai/bgorai005-iit-madras/deep_learning_assignment_1/runs/c9hzui9q' target=\"_blank\">https://wandb.ai/bgorai005-iit-madras/deep_learning_assignment_1/runs/c9hzui9q</a><br> View project at: <a href='https://wandb.ai/bgorai005-iit-madras/deep_learning_assignment_1' target=\"_blank\">https://wandb.ai/bgorai005-iit-madras/deep_learning_assignment_1</a><br>Synced 5 W&B file(s), 0 media file(s), 0 artifact file(s) and 0 other file(s)"
            ]
          },
          "metadata": {}
        },
        {
          "output_type": "display_data",
          "data": {
            "text/plain": [
              "<IPython.core.display.HTML object>"
            ],
            "text/html": [
              "Find logs at: <code>./wandb/run-20250316_192713-c9hzui9q/logs</code>"
            ]
          },
          "metadata": {}
        },
        {
          "output_type": "stream",
          "name": "stderr",
          "text": [
            "\u001b[34m\u001b[1mwandb\u001b[0m: Agent Starting Run: tqojq7iu with config:\n",
            "\u001b[34m\u001b[1mwandb\u001b[0m: \tactivation_hidden: relu\n",
            "\u001b[34m\u001b[1mwandb\u001b[0m: \tactivation_output: softmax\n",
            "\u001b[34m\u001b[1mwandb\u001b[0m: \tbatch_size: 64\n",
            "\u001b[34m\u001b[1mwandb\u001b[0m: \tepochs: 10\n",
            "\u001b[34m\u001b[1mwandb\u001b[0m: \thidden_size: 32\n",
            "\u001b[34m\u001b[1mwandb\u001b[0m: \tlearning_rate: 0.0001\n",
            "\u001b[34m\u001b[1mwandb\u001b[0m: \tnum_layers: 3\n",
            "\u001b[34m\u001b[1mwandb\u001b[0m: \toptimizer: momentum\n",
            "\u001b[34m\u001b[1mwandb\u001b[0m: \tweight_decay: 0\n",
            "\u001b[34m\u001b[1mwandb\u001b[0m: \tweight_ini_method: random\n"
          ]
        },
        {
          "output_type": "display_data",
          "data": {
            "text/plain": [
              "<IPython.core.display.HTML object>"
            ],
            "text/html": [
              "Tracking run with wandb version 0.19.8"
            ]
          },
          "metadata": {}
        },
        {
          "output_type": "display_data",
          "data": {
            "text/plain": [
              "<IPython.core.display.HTML object>"
            ],
            "text/html": [
              "Run data is saved locally in <code>/content/wandb/run-20250316_192846-tqojq7iu</code>"
            ]
          },
          "metadata": {}
        },
        {
          "output_type": "display_data",
          "data": {
            "text/plain": [
              "<IPython.core.display.HTML object>"
            ],
            "text/html": [
              "Syncing run <strong><a href='https://wandb.ai/bgorai005-iit-madras/deep_learning_assignment_1/runs/tqojq7iu' target=\"_blank\">flowing-sweep-15</a></strong> to <a href='https://wandb.ai/bgorai005-iit-madras/deep_learning_assignment_1' target=\"_blank\">Weights & Biases</a> (<a href='https://wandb.me/developer-guide' target=\"_blank\">docs</a>)<br>Sweep page: <a href='https://wandb.ai/bgorai005-iit-madras/deep_learning_assignment_1/sweeps/4uv2tuxd' target=\"_blank\">https://wandb.ai/bgorai005-iit-madras/deep_learning_assignment_1/sweeps/4uv2tuxd</a>"
            ]
          },
          "metadata": {}
        },
        {
          "output_type": "display_data",
          "data": {
            "text/plain": [
              "<IPython.core.display.HTML object>"
            ],
            "text/html": [
              " View project at <a href='https://wandb.ai/bgorai005-iit-madras/deep_learning_assignment_1' target=\"_blank\">https://wandb.ai/bgorai005-iit-madras/deep_learning_assignment_1</a>"
            ]
          },
          "metadata": {}
        },
        {
          "output_type": "display_data",
          "data": {
            "text/plain": [
              "<IPython.core.display.HTML object>"
            ],
            "text/html": [
              " View sweep at <a href='https://wandb.ai/bgorai005-iit-madras/deep_learning_assignment_1/sweeps/4uv2tuxd' target=\"_blank\">https://wandb.ai/bgorai005-iit-madras/deep_learning_assignment_1/sweeps/4uv2tuxd</a>"
            ]
          },
          "metadata": {}
        },
        {
          "output_type": "display_data",
          "data": {
            "text/plain": [
              "<IPython.core.display.HTML object>"
            ],
            "text/html": [
              " View run at <a href='https://wandb.ai/bgorai005-iit-madras/deep_learning_assignment_1/runs/tqojq7iu' target=\"_blank\">https://wandb.ai/bgorai005-iit-madras/deep_learning_assignment_1/runs/tqojq7iu</a>"
            ]
          },
          "metadata": {}
        },
        {
          "output_type": "stream",
          "name": "stdout",
          "text": [
            "[784, 32, 32, 32, 10]\n",
            "Epoch 1, Train Loss: 0.18002782394010006, Val Loss: 0.17933235785156856\n",
            "Epoch 2, Train Loss: 0.18005555239711102, Val Loss: 0.1793666666666568\n",
            "Epoch 3, Train Loss: 0.18005553995042523, Val Loss: 0.1793666666666204\n",
            "Epoch 4, Train Loss: 0.18005107538623405, Val Loss: 0.1793665336355514\n",
            "Epoch 5, Train Loss: 0.18000214400786274, Val Loss: 0.1792999369838746\n",
            "Epoch 6, Train Loss: 0.1798141235108016, Val Loss: 0.18166666666666667\n",
            "Epoch 7, Train Loss: 0.1798147912109803, Val Loss: 0.18166666666666667\n",
            "Epoch 8, Train Loss: 0.17981389623640973, Val Loss: 0.18166666666666667\n",
            "Epoch 9, Train Loss: 0.17980493393065566, Val Loss: 0.18162619275994482\n",
            "Epoch 10, Train Loss: 0.17993535434472618, Val Loss: 0.18042652797324546\n"
          ]
        },
        {
          "output_type": "display_data",
          "data": {
            "text/plain": [
              "<IPython.core.display.HTML object>"
            ],
            "text/html": []
          },
          "metadata": {}
        },
        {
          "output_type": "display_data",
          "data": {
            "text/plain": [
              "<IPython.core.display.HTML object>"
            ],
            "text/html": [
              "<br>    <style><br>        .wandb-row {<br>            display: flex;<br>            flex-direction: row;<br>            flex-wrap: wrap;<br>            justify-content: flex-start;<br>            width: 100%;<br>        }<br>        .wandb-col {<br>            display: flex;<br>            flex-direction: column;<br>            flex-basis: 100%;<br>            flex: 1;<br>            padding: 10px;<br>        }<br>    </style><br><div class=\"wandb-row\"><div class=\"wandb-col\"><h3>Run history:</h3><br/><table class=\"wandb\"><tr><td>epoch</td><td>▁▂▃▃▄▅▆▆▇█</td></tr><tr><td>train_accuracy</td><td>▂▁▁▁▂████▄</td></tr><tr><td>train_loss</td><td>▇███▇▁▁▁▁▅</td></tr><tr><td>val_accuracy</td><td>█████▁▁▁▁▅</td></tr><tr><td>val_loss</td><td>▁▁▁▁▁████▄</td></tr></table><br/></div><div class=\"wandb-col\"><h3>Run summary:</h3><br/><table class=\"wandb\"><tr><td>epoch</td><td>10</td></tr><tr><td>train_accuracy</td><td>10.02963</td></tr><tr><td>train_loss</td><td>0.17994</td></tr><tr><td>val_accuracy</td><td>9.78333</td></tr><tr><td>val_loss</td><td>0.18043</td></tr></table><br/></div></div>"
            ]
          },
          "metadata": {}
        },
        {
          "output_type": "display_data",
          "data": {
            "text/plain": [
              "<IPython.core.display.HTML object>"
            ],
            "text/html": [
              " View run <strong style=\"color:#cdcd00\">ac-relu_hs-32_epc-10_nl-3_lr0.0001_wd-0_opt-momentum_bs-64_wi-random_loss-<function mse_loss at 0x7c4fe51c8ae0></strong> at: <a href='https://wandb.ai/bgorai005-iit-madras/deep_learning_assignment_1/runs/tqojq7iu' target=\"_blank\">https://wandb.ai/bgorai005-iit-madras/deep_learning_assignment_1/runs/tqojq7iu</a><br> View project at: <a href='https://wandb.ai/bgorai005-iit-madras/deep_learning_assignment_1' target=\"_blank\">https://wandb.ai/bgorai005-iit-madras/deep_learning_assignment_1</a><br>Synced 5 W&B file(s), 0 media file(s), 0 artifact file(s) and 0 other file(s)"
            ]
          },
          "metadata": {}
        },
        {
          "output_type": "display_data",
          "data": {
            "text/plain": [
              "<IPython.core.display.HTML object>"
            ],
            "text/html": [
              "Find logs at: <code>./wandb/run-20250316_192846-tqojq7iu/logs</code>"
            ]
          },
          "metadata": {}
        },
        {
          "output_type": "stream",
          "name": "stderr",
          "text": [
            "\u001b[34m\u001b[1mwandb\u001b[0m: Agent Starting Run: gg24wdse with config:\n",
            "\u001b[34m\u001b[1mwandb\u001b[0m: \tactivation_hidden: sigmoid\n",
            "\u001b[34m\u001b[1mwandb\u001b[0m: \tactivation_output: softmax\n",
            "\u001b[34m\u001b[1mwandb\u001b[0m: \tbatch_size: 64\n",
            "\u001b[34m\u001b[1mwandb\u001b[0m: \tepochs: 10\n",
            "\u001b[34m\u001b[1mwandb\u001b[0m: \thidden_size: 32\n",
            "\u001b[34m\u001b[1mwandb\u001b[0m: \tlearning_rate: 0.0001\n",
            "\u001b[34m\u001b[1mwandb\u001b[0m: \tnum_layers: 5\n",
            "\u001b[34m\u001b[1mwandb\u001b[0m: \toptimizer: nag\n",
            "\u001b[34m\u001b[1mwandb\u001b[0m: \tweight_decay: 0\n",
            "\u001b[34m\u001b[1mwandb\u001b[0m: \tweight_ini_method: random\n"
          ]
        },
        {
          "output_type": "display_data",
          "data": {
            "text/plain": [
              "<IPython.core.display.HTML object>"
            ],
            "text/html": [
              "Tracking run with wandb version 0.19.8"
            ]
          },
          "metadata": {}
        },
        {
          "output_type": "display_data",
          "data": {
            "text/plain": [
              "<IPython.core.display.HTML object>"
            ],
            "text/html": [
              "Run data is saved locally in <code>/content/wandb/run-20250316_192922-gg24wdse</code>"
            ]
          },
          "metadata": {}
        },
        {
          "output_type": "display_data",
          "data": {
            "text/plain": [
              "<IPython.core.display.HTML object>"
            ],
            "text/html": [
              "Syncing run <strong><a href='https://wandb.ai/bgorai005-iit-madras/deep_learning_assignment_1/runs/gg24wdse' target=\"_blank\">gentle-sweep-16</a></strong> to <a href='https://wandb.ai/bgorai005-iit-madras/deep_learning_assignment_1' target=\"_blank\">Weights & Biases</a> (<a href='https://wandb.me/developer-guide' target=\"_blank\">docs</a>)<br>Sweep page: <a href='https://wandb.ai/bgorai005-iit-madras/deep_learning_assignment_1/sweeps/4uv2tuxd' target=\"_blank\">https://wandb.ai/bgorai005-iit-madras/deep_learning_assignment_1/sweeps/4uv2tuxd</a>"
            ]
          },
          "metadata": {}
        },
        {
          "output_type": "display_data",
          "data": {
            "text/plain": [
              "<IPython.core.display.HTML object>"
            ],
            "text/html": [
              " View project at <a href='https://wandb.ai/bgorai005-iit-madras/deep_learning_assignment_1' target=\"_blank\">https://wandb.ai/bgorai005-iit-madras/deep_learning_assignment_1</a>"
            ]
          },
          "metadata": {}
        },
        {
          "output_type": "display_data",
          "data": {
            "text/plain": [
              "<IPython.core.display.HTML object>"
            ],
            "text/html": [
              " View sweep at <a href='https://wandb.ai/bgorai005-iit-madras/deep_learning_assignment_1/sweeps/4uv2tuxd' target=\"_blank\">https://wandb.ai/bgorai005-iit-madras/deep_learning_assignment_1/sweeps/4uv2tuxd</a>"
            ]
          },
          "metadata": {}
        },
        {
          "output_type": "display_data",
          "data": {
            "text/plain": [
              "<IPython.core.display.HTML object>"
            ],
            "text/html": [
              " View run at <a href='https://wandb.ai/bgorai005-iit-madras/deep_learning_assignment_1/runs/gg24wdse' target=\"_blank\">https://wandb.ai/bgorai005-iit-madras/deep_learning_assignment_1/runs/gg24wdse</a>"
            ]
          },
          "metadata": {}
        },
        {
          "output_type": "stream",
          "name": "stdout",
          "text": [
            "[784, 32, 32, 32, 32, 32, 10]\n",
            "Epoch 1, Loss: 0.14835048920262864, Validation Loss: 0.14829883899402133\n",
            "Epoch 2, Loss: 0.14208987839739848, Validation Loss: 0.14210126943560206\n",
            "Epoch 3, Loss: 0.13143901020180287, Validation Loss: 0.13149174641189348\n",
            "Epoch 4, Loss: 0.12943459403431942, Validation Loss: 0.12946991916807926\n",
            "Epoch 5, Loss: 0.1261971970312304, Validation Loss: 0.1261937017648517\n",
            "Epoch 6, Loss: 0.1209677760154196, Validation Loss: 0.1209694582190701\n",
            "Epoch 7, Loss: 0.11226724059184137, Validation Loss: 0.11224848548920097\n",
            "Epoch 8, Loss: 0.11048313935783853, Validation Loss: 0.11047872791387545\n",
            "Epoch 9, Loss: 0.10781030113673902, Validation Loss: 0.10786084326719453\n",
            "Epoch 10, Loss: 0.10393205047302059, Validation Loss: 0.10399497180616149\n"
          ]
        },
        {
          "output_type": "display_data",
          "data": {
            "text/plain": [
              "<IPython.core.display.HTML object>"
            ],
            "text/html": []
          },
          "metadata": {}
        },
        {
          "output_type": "display_data",
          "data": {
            "text/plain": [
              "<IPython.core.display.HTML object>"
            ],
            "text/html": [
              "<br>    <style><br>        .wandb-row {<br>            display: flex;<br>            flex-direction: row;<br>            flex-wrap: wrap;<br>            justify-content: flex-start;<br>            width: 100%;<br>        }<br>        .wandb-col {<br>            display: flex;<br>            flex-direction: column;<br>            flex-basis: 100%;<br>            flex: 1;<br>            padding: 10px;<br>        }<br>    </style><br><div class=\"wandb-row\"><div class=\"wandb-col\"><h3>Run history:</h3><br/><table class=\"wandb\"><tr><td>epoch</td><td>▁▂▃▃▄▅▆▆▇█</td></tr><tr><td>train_accuracy</td><td>▁▁▁▁▁▁▁▁▁█</td></tr><tr><td>train_loss</td><td>█▇▅▅▅▄▂▂▂▁</td></tr><tr><td>val_accuracy</td><td>▁▁▁▁▁▁▁▁▁█</td></tr><tr><td>val_loss</td><td>█▇▅▅▅▄▂▂▂▁</td></tr></table><br/></div><div class=\"wandb-col\"><h3>Run summary:</h3><br/><table class=\"wandb\"><tr><td>epoch</td><td>10</td></tr><tr><td>train_accuracy</td><td>10.1463</td></tr><tr><td>train_loss</td><td>0.10393</td></tr><tr><td>val_accuracy</td><td>10.2</td></tr><tr><td>val_loss</td><td>0.10399</td></tr></table><br/></div></div>"
            ]
          },
          "metadata": {}
        },
        {
          "output_type": "display_data",
          "data": {
            "text/plain": [
              "<IPython.core.display.HTML object>"
            ],
            "text/html": [
              " View run <strong style=\"color:#cdcd00\">ac-sigmoid_hs-32_epc-10_nl-5_lr0.0001_wd-0_opt-nag_bs-64_wi-random_loss-<function mse_loss at 0x7c4fe51c8ae0></strong> at: <a href='https://wandb.ai/bgorai005-iit-madras/deep_learning_assignment_1/runs/gg24wdse' target=\"_blank\">https://wandb.ai/bgorai005-iit-madras/deep_learning_assignment_1/runs/gg24wdse</a><br> View project at: <a href='https://wandb.ai/bgorai005-iit-madras/deep_learning_assignment_1' target=\"_blank\">https://wandb.ai/bgorai005-iit-madras/deep_learning_assignment_1</a><br>Synced 5 W&B file(s), 0 media file(s), 0 artifact file(s) and 0 other file(s)"
            ]
          },
          "metadata": {}
        },
        {
          "output_type": "display_data",
          "data": {
            "text/plain": [
              "<IPython.core.display.HTML object>"
            ],
            "text/html": [
              "Find logs at: <code>./wandb/run-20250316_192922-gg24wdse/logs</code>"
            ]
          },
          "metadata": {}
        },
        {
          "output_type": "stream",
          "name": "stderr",
          "text": [
            "\u001b[34m\u001b[1mwandb\u001b[0m: Agent Starting Run: b56j34jo with config:\n",
            "\u001b[34m\u001b[1mwandb\u001b[0m: \tactivation_hidden: sigmoid\n",
            "\u001b[34m\u001b[1mwandb\u001b[0m: \tactivation_output: softmax\n",
            "\u001b[34m\u001b[1mwandb\u001b[0m: \tbatch_size: 16\n",
            "\u001b[34m\u001b[1mwandb\u001b[0m: \tepochs: 10\n",
            "\u001b[34m\u001b[1mwandb\u001b[0m: \thidden_size: 32\n",
            "\u001b[34m\u001b[1mwandb\u001b[0m: \tlearning_rate: 0.0001\n",
            "\u001b[34m\u001b[1mwandb\u001b[0m: \tnum_layers: 3\n",
            "\u001b[34m\u001b[1mwandb\u001b[0m: \toptimizer: adam\n",
            "\u001b[34m\u001b[1mwandb\u001b[0m: \tweight_decay: 0\n",
            "\u001b[34m\u001b[1mwandb\u001b[0m: \tweight_ini_method: random\n"
          ]
        },
        {
          "output_type": "display_data",
          "data": {
            "text/plain": [
              "<IPython.core.display.HTML object>"
            ],
            "text/html": [
              "Tracking run with wandb version 0.19.8"
            ]
          },
          "metadata": {}
        },
        {
          "output_type": "display_data",
          "data": {
            "text/plain": [
              "<IPython.core.display.HTML object>"
            ],
            "text/html": [
              "Run data is saved locally in <code>/content/wandb/run-20250316_193017-b56j34jo</code>"
            ]
          },
          "metadata": {}
        },
        {
          "output_type": "display_data",
          "data": {
            "text/plain": [
              "<IPython.core.display.HTML object>"
            ],
            "text/html": [
              "Syncing run <strong><a href='https://wandb.ai/bgorai005-iit-madras/deep_learning_assignment_1/runs/b56j34jo' target=\"_blank\">sparkling-sweep-17</a></strong> to <a href='https://wandb.ai/bgorai005-iit-madras/deep_learning_assignment_1' target=\"_blank\">Weights & Biases</a> (<a href='https://wandb.me/developer-guide' target=\"_blank\">docs</a>)<br>Sweep page: <a href='https://wandb.ai/bgorai005-iit-madras/deep_learning_assignment_1/sweeps/4uv2tuxd' target=\"_blank\">https://wandb.ai/bgorai005-iit-madras/deep_learning_assignment_1/sweeps/4uv2tuxd</a>"
            ]
          },
          "metadata": {}
        },
        {
          "output_type": "display_data",
          "data": {
            "text/plain": [
              "<IPython.core.display.HTML object>"
            ],
            "text/html": [
              " View project at <a href='https://wandb.ai/bgorai005-iit-madras/deep_learning_assignment_1' target=\"_blank\">https://wandb.ai/bgorai005-iit-madras/deep_learning_assignment_1</a>"
            ]
          },
          "metadata": {}
        },
        {
          "output_type": "display_data",
          "data": {
            "text/plain": [
              "<IPython.core.display.HTML object>"
            ],
            "text/html": [
              " View sweep at <a href='https://wandb.ai/bgorai005-iit-madras/deep_learning_assignment_1/sweeps/4uv2tuxd' target=\"_blank\">https://wandb.ai/bgorai005-iit-madras/deep_learning_assignment_1/sweeps/4uv2tuxd</a>"
            ]
          },
          "metadata": {}
        },
        {
          "output_type": "display_data",
          "data": {
            "text/plain": [
              "<IPython.core.display.HTML object>"
            ],
            "text/html": [
              " View run at <a href='https://wandb.ai/bgorai005-iit-madras/deep_learning_assignment_1/runs/b56j34jo' target=\"_blank\">https://wandb.ai/bgorai005-iit-madras/deep_learning_assignment_1/runs/b56j34jo</a>"
            ]
          },
          "metadata": {}
        },
        {
          "output_type": "stream",
          "name": "stdout",
          "text": [
            "[784, 32, 32, 32, 10]\n",
            "Epoch 1, Train Loss: 0.06314732834653322, Val Loss: 0.06400851547366347\n",
            "Epoch 2, Train Loss: 0.0508488641602388, Val Loss: 0.0519411256442769\n",
            "Epoch 3, Train Loss: 0.044781928446538236, Val Loss: 0.04600345039861774\n",
            "Epoch 4, Train Loss: 0.04133898499046869, Val Loss: 0.04266903971313061\n",
            "Epoch 5, Train Loss: 0.03895793384003937, Val Loss: 0.040379285790922335\n",
            "Epoch 6, Train Loss: 0.037204079132992604, Val Loss: 0.0386906343056146\n",
            "Epoch 7, Train Loss: 0.035908036363130696, Val Loss: 0.03739134815106774\n",
            "Epoch 8, Train Loss: 0.03486334431119213, Val Loss: 0.0363631429699717\n",
            "Epoch 9, Train Loss: 0.034004320258894, Val Loss: 0.03553009265452993\n",
            "Epoch 10, Train Loss: 0.03323659013345304, Val Loss: 0.03481810290507037\n"
          ]
        },
        {
          "output_type": "display_data",
          "data": {
            "text/plain": [
              "<IPython.core.display.HTML object>"
            ],
            "text/html": []
          },
          "metadata": {}
        },
        {
          "output_type": "display_data",
          "data": {
            "text/plain": [
              "<IPython.core.display.HTML object>"
            ],
            "text/html": [
              "<br>    <style><br>        .wandb-row {<br>            display: flex;<br>            flex-direction: row;<br>            flex-wrap: wrap;<br>            justify-content: flex-start;<br>            width: 100%;<br>        }<br>        .wandb-col {<br>            display: flex;<br>            flex-direction: column;<br>            flex-basis: 100%;<br>            flex: 1;<br>            padding: 10px;<br>        }<br>    </style><br><div class=\"wandb-row\"><div class=\"wandb-col\"><h3>Run history:</h3><br/><table class=\"wandb\"><tr><td>epoch</td><td>▁▂▃▃▄▅▆▆▇█</td></tr><tr><td>train_accuracy</td><td>▁▄▅▆▇▇▇███</td></tr><tr><td>train_loss</td><td>█▅▄▃▂▂▂▁▁▁</td></tr><tr><td>val_accuracy</td><td>▁▄▆▆▇▇▇███</td></tr><tr><td>val_loss</td><td>█▅▄▃▂▂▂▁▁▁</td></tr></table><br/></div><div class=\"wandb-col\"><h3>Run summary:</h3><br/><table class=\"wandb\"><tr><td>epoch</td><td>10</td></tr><tr><td>train_accuracy</td><td>76.79444</td></tr><tr><td>train_loss</td><td>0.03324</td></tr><tr><td>val_accuracy</td><td>74.95</td></tr><tr><td>val_loss</td><td>0.03482</td></tr></table><br/></div></div>"
            ]
          },
          "metadata": {}
        },
        {
          "output_type": "display_data",
          "data": {
            "text/plain": [
              "<IPython.core.display.HTML object>"
            ],
            "text/html": [
              " View run <strong style=\"color:#cdcd00\">ac-sigmoid_hs-32_epc-10_nl-3_lr0.0001_wd-0_opt-adam_bs-16_wi-random_loss-<function mse_loss at 0x7c4fe51c8ae0></strong> at: <a href='https://wandb.ai/bgorai005-iit-madras/deep_learning_assignment_1/runs/b56j34jo' target=\"_blank\">https://wandb.ai/bgorai005-iit-madras/deep_learning_assignment_1/runs/b56j34jo</a><br> View project at: <a href='https://wandb.ai/bgorai005-iit-madras/deep_learning_assignment_1' target=\"_blank\">https://wandb.ai/bgorai005-iit-madras/deep_learning_assignment_1</a><br>Synced 5 W&B file(s), 0 media file(s), 0 artifact file(s) and 0 other file(s)"
            ]
          },
          "metadata": {}
        },
        {
          "output_type": "display_data",
          "data": {
            "text/plain": [
              "<IPython.core.display.HTML object>"
            ],
            "text/html": [
              "Find logs at: <code>./wandb/run-20250316_193017-b56j34jo/logs</code>"
            ]
          },
          "metadata": {}
        },
        {
          "output_type": "stream",
          "name": "stderr",
          "text": [
            "\u001b[34m\u001b[1mwandb\u001b[0m: Agent Starting Run: xho6qvge with config:\n",
            "\u001b[34m\u001b[1mwandb\u001b[0m: \tactivation_hidden: sigmoid\n",
            "\u001b[34m\u001b[1mwandb\u001b[0m: \tactivation_output: softmax\n",
            "\u001b[34m\u001b[1mwandb\u001b[0m: \tbatch_size: 16\n",
            "\u001b[34m\u001b[1mwandb\u001b[0m: \tepochs: 5\n",
            "\u001b[34m\u001b[1mwandb\u001b[0m: \thidden_size: 128\n",
            "\u001b[34m\u001b[1mwandb\u001b[0m: \tlearning_rate: 0.001\n",
            "\u001b[34m\u001b[1mwandb\u001b[0m: \tnum_layers: 3\n",
            "\u001b[34m\u001b[1mwandb\u001b[0m: \toptimizer: momentum\n",
            "\u001b[34m\u001b[1mwandb\u001b[0m: \tweight_decay: 0\n",
            "\u001b[34m\u001b[1mwandb\u001b[0m: \tweight_ini_method: random\n"
          ]
        },
        {
          "output_type": "display_data",
          "data": {
            "text/plain": [
              "<IPython.core.display.HTML object>"
            ],
            "text/html": [
              "Tracking run with wandb version 0.19.8"
            ]
          },
          "metadata": {}
        },
        {
          "output_type": "display_data",
          "data": {
            "text/plain": [
              "<IPython.core.display.HTML object>"
            ],
            "text/html": [
              "Run data is saved locally in <code>/content/wandb/run-20250316_193149-xho6qvge</code>"
            ]
          },
          "metadata": {}
        },
        {
          "output_type": "display_data",
          "data": {
            "text/plain": [
              "<IPython.core.display.HTML object>"
            ],
            "text/html": [
              "Syncing run <strong><a href='https://wandb.ai/bgorai005-iit-madras/deep_learning_assignment_1/runs/xho6qvge' target=\"_blank\">trim-sweep-18</a></strong> to <a href='https://wandb.ai/bgorai005-iit-madras/deep_learning_assignment_1' target=\"_blank\">Weights & Biases</a> (<a href='https://wandb.me/developer-guide' target=\"_blank\">docs</a>)<br>Sweep page: <a href='https://wandb.ai/bgorai005-iit-madras/deep_learning_assignment_1/sweeps/4uv2tuxd' target=\"_blank\">https://wandb.ai/bgorai005-iit-madras/deep_learning_assignment_1/sweeps/4uv2tuxd</a>"
            ]
          },
          "metadata": {}
        },
        {
          "output_type": "display_data",
          "data": {
            "text/plain": [
              "<IPython.core.display.HTML object>"
            ],
            "text/html": [
              " View project at <a href='https://wandb.ai/bgorai005-iit-madras/deep_learning_assignment_1' target=\"_blank\">https://wandb.ai/bgorai005-iit-madras/deep_learning_assignment_1</a>"
            ]
          },
          "metadata": {}
        },
        {
          "output_type": "display_data",
          "data": {
            "text/plain": [
              "<IPython.core.display.HTML object>"
            ],
            "text/html": [
              " View sweep at <a href='https://wandb.ai/bgorai005-iit-madras/deep_learning_assignment_1/sweeps/4uv2tuxd' target=\"_blank\">https://wandb.ai/bgorai005-iit-madras/deep_learning_assignment_1/sweeps/4uv2tuxd</a>"
            ]
          },
          "metadata": {}
        },
        {
          "output_type": "display_data",
          "data": {
            "text/plain": [
              "<IPython.core.display.HTML object>"
            ],
            "text/html": [
              " View run at <a href='https://wandb.ai/bgorai005-iit-madras/deep_learning_assignment_1/runs/xho6qvge' target=\"_blank\">https://wandb.ai/bgorai005-iit-madras/deep_learning_assignment_1/runs/xho6qvge</a>"
            ]
          },
          "metadata": {}
        },
        {
          "output_type": "stream",
          "name": "stdout",
          "text": [
            "[784, 128, 128, 128, 10]\n",
            "Epoch 1, Train Loss: 0.040506698378752884, Val Loss: 0.04156428713937982\n",
            "Epoch 2, Train Loss: 0.03311526235862876, Val Loss: 0.03447399007989977\n",
            "Epoch 3, Train Loss: 0.030671632594714032, Val Loss: 0.0321910244699844\n",
            "Epoch 4, Train Loss: 0.029123682802050077, Val Loss: 0.03103071037112896\n",
            "Epoch 5, Train Loss: 0.02749213645392421, Val Loss: 0.02930677802044713\n"
          ]
        },
        {
          "output_type": "display_data",
          "data": {
            "text/plain": [
              "<IPython.core.display.HTML object>"
            ],
            "text/html": []
          },
          "metadata": {}
        },
        {
          "output_type": "display_data",
          "data": {
            "text/plain": [
              "<IPython.core.display.HTML object>"
            ],
            "text/html": [
              "<br>    <style><br>        .wandb-row {<br>            display: flex;<br>            flex-direction: row;<br>            flex-wrap: wrap;<br>            justify-content: flex-start;<br>            width: 100%;<br>        }<br>        .wandb-col {<br>            display: flex;<br>            flex-direction: column;<br>            flex-basis: 100%;<br>            flex: 1;<br>            padding: 10px;<br>        }<br>    </style><br><div class=\"wandb-row\"><div class=\"wandb-col\"><h3>Run history:</h3><br/><table class=\"wandb\"><tr><td>epoch</td><td>▁▃▅▆█</td></tr><tr><td>train_accuracy</td><td>▁▅▆▇█</td></tr><tr><td>train_loss</td><td>█▄▃▂▁</td></tr><tr><td>val_accuracy</td><td>▁▅▇▇█</td></tr><tr><td>val_loss</td><td>█▄▃▂▁</td></tr></table><br/></div><div class=\"wandb-col\"><h3>Run summary:</h3><br/><table class=\"wandb\"><tr><td>epoch</td><td>5</td></tr><tr><td>train_accuracy</td><td>80.47593</td></tr><tr><td>train_loss</td><td>0.02749</td></tr><tr><td>val_accuracy</td><td>78.81667</td></tr><tr><td>val_loss</td><td>0.02931</td></tr></table><br/></div></div>"
            ]
          },
          "metadata": {}
        },
        {
          "output_type": "display_data",
          "data": {
            "text/plain": [
              "<IPython.core.display.HTML object>"
            ],
            "text/html": [
              " View run <strong style=\"color:#cdcd00\">ac-sigmoid_hs-128_epc-5_nl-3_lr0.001_wd-0_opt-momentum_bs-16_wi-random_loss-<function mse_loss at 0x7c4fe51c8ae0></strong> at: <a href='https://wandb.ai/bgorai005-iit-madras/deep_learning_assignment_1/runs/xho6qvge' target=\"_blank\">https://wandb.ai/bgorai005-iit-madras/deep_learning_assignment_1/runs/xho6qvge</a><br> View project at: <a href='https://wandb.ai/bgorai005-iit-madras/deep_learning_assignment_1' target=\"_blank\">https://wandb.ai/bgorai005-iit-madras/deep_learning_assignment_1</a><br>Synced 5 W&B file(s), 0 media file(s), 0 artifact file(s) and 0 other file(s)"
            ]
          },
          "metadata": {}
        },
        {
          "output_type": "display_data",
          "data": {
            "text/plain": [
              "<IPython.core.display.HTML object>"
            ],
            "text/html": [
              "Find logs at: <code>./wandb/run-20250316_193149-xho6qvge/logs</code>"
            ]
          },
          "metadata": {}
        },
        {
          "output_type": "stream",
          "name": "stderr",
          "text": [
            "\u001b[34m\u001b[1mwandb\u001b[0m: Agent Starting Run: vbf4knmy with config:\n",
            "\u001b[34m\u001b[1mwandb\u001b[0m: \tactivation_hidden: relu\n",
            "\u001b[34m\u001b[1mwandb\u001b[0m: \tactivation_output: softmax\n",
            "\u001b[34m\u001b[1mwandb\u001b[0m: \tbatch_size: 32\n",
            "\u001b[34m\u001b[1mwandb\u001b[0m: \tepochs: 5\n",
            "\u001b[34m\u001b[1mwandb\u001b[0m: \thidden_size: 64\n",
            "\u001b[34m\u001b[1mwandb\u001b[0m: \tlearning_rate: 0.0001\n",
            "\u001b[34m\u001b[1mwandb\u001b[0m: \tnum_layers: 4\n",
            "\u001b[34m\u001b[1mwandb\u001b[0m: \toptimizer: sgd\n",
            "\u001b[34m\u001b[1mwandb\u001b[0m: \tweight_decay: 0\n",
            "\u001b[34m\u001b[1mwandb\u001b[0m: \tweight_ini_method: Xavier\n"
          ]
        },
        {
          "output_type": "display_data",
          "data": {
            "text/plain": [
              "<IPython.core.display.HTML object>"
            ],
            "text/html": [
              "Tracking run with wandb version 0.19.8"
            ]
          },
          "metadata": {}
        },
        {
          "output_type": "display_data",
          "data": {
            "text/plain": [
              "<IPython.core.display.HTML object>"
            ],
            "text/html": [
              "Run data is saved locally in <code>/content/wandb/run-20250316_193310-vbf4knmy</code>"
            ]
          },
          "metadata": {}
        },
        {
          "output_type": "display_data",
          "data": {
            "text/plain": [
              "<IPython.core.display.HTML object>"
            ],
            "text/html": [
              "Syncing run <strong><a href='https://wandb.ai/bgorai005-iit-madras/deep_learning_assignment_1/runs/vbf4knmy' target=\"_blank\">fast-sweep-19</a></strong> to <a href='https://wandb.ai/bgorai005-iit-madras/deep_learning_assignment_1' target=\"_blank\">Weights & Biases</a> (<a href='https://wandb.me/developer-guide' target=\"_blank\">docs</a>)<br>Sweep page: <a href='https://wandb.ai/bgorai005-iit-madras/deep_learning_assignment_1/sweeps/4uv2tuxd' target=\"_blank\">https://wandb.ai/bgorai005-iit-madras/deep_learning_assignment_1/sweeps/4uv2tuxd</a>"
            ]
          },
          "metadata": {}
        },
        {
          "output_type": "display_data",
          "data": {
            "text/plain": [
              "<IPython.core.display.HTML object>"
            ],
            "text/html": [
              " View project at <a href='https://wandb.ai/bgorai005-iit-madras/deep_learning_assignment_1' target=\"_blank\">https://wandb.ai/bgorai005-iit-madras/deep_learning_assignment_1</a>"
            ]
          },
          "metadata": {}
        },
        {
          "output_type": "display_data",
          "data": {
            "text/plain": [
              "<IPython.core.display.HTML object>"
            ],
            "text/html": [
              " View sweep at <a href='https://wandb.ai/bgorai005-iit-madras/deep_learning_assignment_1/sweeps/4uv2tuxd' target=\"_blank\">https://wandb.ai/bgorai005-iit-madras/deep_learning_assignment_1/sweeps/4uv2tuxd</a>"
            ]
          },
          "metadata": {}
        },
        {
          "output_type": "display_data",
          "data": {
            "text/plain": [
              "<IPython.core.display.HTML object>"
            ],
            "text/html": [
              " View run at <a href='https://wandb.ai/bgorai005-iit-madras/deep_learning_assignment_1/runs/vbf4knmy' target=\"_blank\">https://wandb.ai/bgorai005-iit-madras/deep_learning_assignment_1/runs/vbf4knmy</a>"
            ]
          },
          "metadata": {}
        },
        {
          "output_type": "stream",
          "name": "stdout",
          "text": [
            "[784, 64, 64, 64, 64, 10]\n",
            "Epoch 1, Train Loss: 0.06997723396205069, Val Loss: 0.07056065157991914,Val Accuracy:0.5218333333333334\n",
            "Epoch 2, Train Loss: 0.048474678748872096, Val Loss: 0.049312645219327114,Val Accuracy:0.6416666666666667\n",
            "Epoch 3, Train Loss: 0.04362607918305769, Val Loss: 0.044523048151203636,Val Accuracy:0.6676666666666666\n",
            "Epoch 4, Train Loss: 0.036432895611885466, Val Loss: 0.03725236614504406,Val Accuracy:0.7315\n",
            "Epoch 5, Train Loss: 0.03283343798029069, Val Loss: 0.033649501143116975,Val Accuracy:0.7693333333333333\n"
          ]
        },
        {
          "output_type": "display_data",
          "data": {
            "text/plain": [
              "<IPython.core.display.HTML object>"
            ],
            "text/html": []
          },
          "metadata": {}
        },
        {
          "output_type": "display_data",
          "data": {
            "text/plain": [
              "<IPython.core.display.HTML object>"
            ],
            "text/html": [
              "<br>    <style><br>        .wandb-row {<br>            display: flex;<br>            flex-direction: row;<br>            flex-wrap: wrap;<br>            justify-content: flex-start;<br>            width: 100%;<br>        }<br>        .wandb-col {<br>            display: flex;<br>            flex-direction: column;<br>            flex-basis: 100%;<br>            flex: 1;<br>            padding: 10px;<br>        }<br>    </style><br><div class=\"wandb-row\"><div class=\"wandb-col\"><h3>Run history:</h3><br/><table class=\"wandb\"><tr><td>epoch</td><td>▁▃▅▆█</td></tr><tr><td>train_accuracy</td><td>▁▅▅▇█</td></tr><tr><td>train_loss</td><td>█▄▃▂▁</td></tr><tr><td>val_accuracy</td><td>▁▄▅▇█</td></tr><tr><td>val_loss</td><td>█▄▃▂▁</td></tr></table><br/></div><div class=\"wandb-col\"><h3>Run summary:</h3><br/><table class=\"wandb\"><tr><td>epoch</td><td>5</td></tr><tr><td>train_accuracy</td><td>77.50926</td></tr><tr><td>train_loss</td><td>0.03283</td></tr><tr><td>val_accuracy</td><td>76.93333</td></tr><tr><td>val_loss</td><td>0.03365</td></tr></table><br/></div></div>"
            ]
          },
          "metadata": {}
        },
        {
          "output_type": "display_data",
          "data": {
            "text/plain": [
              "<IPython.core.display.HTML object>"
            ],
            "text/html": [
              " View run <strong style=\"color:#cdcd00\">ac-relu_hs-64_epc-5_nl-4_lr0.0001_wd-0_opt-sgd_bs-32_wi-Xavier_loss-<function mse_loss at 0x7c4fe51c8ae0></strong> at: <a href='https://wandb.ai/bgorai005-iit-madras/deep_learning_assignment_1/runs/vbf4knmy' target=\"_blank\">https://wandb.ai/bgorai005-iit-madras/deep_learning_assignment_1/runs/vbf4knmy</a><br> View project at: <a href='https://wandb.ai/bgorai005-iit-madras/deep_learning_assignment_1' target=\"_blank\">https://wandb.ai/bgorai005-iit-madras/deep_learning_assignment_1</a><br>Synced 5 W&B file(s), 0 media file(s), 0 artifact file(s) and 0 other file(s)"
            ]
          },
          "metadata": {}
        },
        {
          "output_type": "display_data",
          "data": {
            "text/plain": [
              "<IPython.core.display.HTML object>"
            ],
            "text/html": [
              "Find logs at: <code>./wandb/run-20250316_193310-vbf4knmy/logs</code>"
            ]
          },
          "metadata": {}
        },
        {
          "output_type": "stream",
          "name": "stderr",
          "text": [
            "\u001b[34m\u001b[1mwandb\u001b[0m: Agent Starting Run: hzor5v23 with config:\n",
            "\u001b[34m\u001b[1mwandb\u001b[0m: \tactivation_hidden: tanh\n",
            "\u001b[34m\u001b[1mwandb\u001b[0m: \tactivation_output: softmax\n",
            "\u001b[34m\u001b[1mwandb\u001b[0m: \tbatch_size: 32\n",
            "\u001b[34m\u001b[1mwandb\u001b[0m: \tepochs: 5\n",
            "\u001b[34m\u001b[1mwandb\u001b[0m: \thidden_size: 128\n",
            "\u001b[34m\u001b[1mwandb\u001b[0m: \tlearning_rate: 0.0001\n",
            "\u001b[34m\u001b[1mwandb\u001b[0m: \tnum_layers: 4\n",
            "\u001b[34m\u001b[1mwandb\u001b[0m: \toptimizer: RMSprop\n",
            "\u001b[34m\u001b[1mwandb\u001b[0m: \tweight_decay: 0\n",
            "\u001b[34m\u001b[1mwandb\u001b[0m: \tweight_ini_method: Xavier\n"
          ]
        },
        {
          "output_type": "display_data",
          "data": {
            "text/plain": [
              "<IPython.core.display.HTML object>"
            ],
            "text/html": [
              "Tracking run with wandb version 0.19.8"
            ]
          },
          "metadata": {}
        },
        {
          "output_type": "display_data",
          "data": {
            "text/plain": [
              "<IPython.core.display.HTML object>"
            ],
            "text/html": [
              "Run data is saved locally in <code>/content/wandb/run-20250316_193351-hzor5v23</code>"
            ]
          },
          "metadata": {}
        },
        {
          "output_type": "display_data",
          "data": {
            "text/plain": [
              "<IPython.core.display.HTML object>"
            ],
            "text/html": [
              "Syncing run <strong><a href='https://wandb.ai/bgorai005-iit-madras/deep_learning_assignment_1/runs/hzor5v23' target=\"_blank\">olive-sweep-20</a></strong> to <a href='https://wandb.ai/bgorai005-iit-madras/deep_learning_assignment_1' target=\"_blank\">Weights & Biases</a> (<a href='https://wandb.me/developer-guide' target=\"_blank\">docs</a>)<br>Sweep page: <a href='https://wandb.ai/bgorai005-iit-madras/deep_learning_assignment_1/sweeps/4uv2tuxd' target=\"_blank\">https://wandb.ai/bgorai005-iit-madras/deep_learning_assignment_1/sweeps/4uv2tuxd</a>"
            ]
          },
          "metadata": {}
        },
        {
          "output_type": "display_data",
          "data": {
            "text/plain": [
              "<IPython.core.display.HTML object>"
            ],
            "text/html": [
              " View project at <a href='https://wandb.ai/bgorai005-iit-madras/deep_learning_assignment_1' target=\"_blank\">https://wandb.ai/bgorai005-iit-madras/deep_learning_assignment_1</a>"
            ]
          },
          "metadata": {}
        },
        {
          "output_type": "display_data",
          "data": {
            "text/plain": [
              "<IPython.core.display.HTML object>"
            ],
            "text/html": [
              " View sweep at <a href='https://wandb.ai/bgorai005-iit-madras/deep_learning_assignment_1/sweeps/4uv2tuxd' target=\"_blank\">https://wandb.ai/bgorai005-iit-madras/deep_learning_assignment_1/sweeps/4uv2tuxd</a>"
            ]
          },
          "metadata": {}
        },
        {
          "output_type": "display_data",
          "data": {
            "text/plain": [
              "<IPython.core.display.HTML object>"
            ],
            "text/html": [
              " View run at <a href='https://wandb.ai/bgorai005-iit-madras/deep_learning_assignment_1/runs/hzor5v23' target=\"_blank\">https://wandb.ai/bgorai005-iit-madras/deep_learning_assignment_1/runs/hzor5v23</a>"
            ]
          },
          "metadata": {}
        },
        {
          "output_type": "stream",
          "name": "stdout",
          "text": [
            "[784, 128, 128, 128, 128, 10]\n",
            "Epoch 1, Loss: 0.0215, Val Loss: 0.0223, Train Acc: 85.09%, Val Acc: 84.23%\n",
            "Epoch 2, Loss: 0.0198, Val Loss: 0.0208, Train Acc: 86.27%, Val Acc: 85.55%\n",
            "Epoch 3, Loss: 0.0183, Val Loss: 0.0194, Train Acc: 87.42%, Val Acc: 86.33%\n",
            "Epoch 4, Loss: 0.0164, Val Loss: 0.0177, Train Acc: 88.85%, Val Acc: 87.63%\n",
            "Epoch 5, Loss: 0.0162, Val Loss: 0.0180, Train Acc: 88.86%, Val Acc: 87.28%\n"
          ]
        },
        {
          "output_type": "display_data",
          "data": {
            "text/plain": [
              "<IPython.core.display.HTML object>"
            ],
            "text/html": []
          },
          "metadata": {}
        },
        {
          "output_type": "display_data",
          "data": {
            "text/plain": [
              "<IPython.core.display.HTML object>"
            ],
            "text/html": [
              "<br>    <style><br>        .wandb-row {<br>            display: flex;<br>            flex-direction: row;<br>            flex-wrap: wrap;<br>            justify-content: flex-start;<br>            width: 100%;<br>        }<br>        .wandb-col {<br>            display: flex;<br>            flex-direction: column;<br>            flex-basis: 100%;<br>            flex: 1;<br>            padding: 10px;<br>        }<br>    </style><br><div class=\"wandb-row\"><div class=\"wandb-col\"><h3>Run history:</h3><br/><table class=\"wandb\"><tr><td>epoch</td><td>▁▃▅▆█</td></tr><tr><td>train_accuracy</td><td>▁▃▅██</td></tr><tr><td>train_loss</td><td>█▆▄▁▁</td></tr><tr><td>val_accuracy</td><td>▁▄▅█▇</td></tr><tr><td>val_loss</td><td>█▆▄▁▂</td></tr></table><br/></div><div class=\"wandb-col\"><h3>Run summary:</h3><br/><table class=\"wandb\"><tr><td>epoch</td><td>5</td></tr><tr><td>train_accuracy</td><td>88.86296</td></tr><tr><td>train_loss</td><td>0.01624</td></tr><tr><td>val_accuracy</td><td>87.28333</td></tr><tr><td>val_loss</td><td>0.01804</td></tr></table><br/></div></div>"
            ]
          },
          "metadata": {}
        },
        {
          "output_type": "display_data",
          "data": {
            "text/plain": [
              "<IPython.core.display.HTML object>"
            ],
            "text/html": [
              " View run <strong style=\"color:#cdcd00\">ac-tanh_hs-128_epc-5_nl-4_lr0.0001_wd-0_opt-RMSprop_bs-32_wi-Xavier_loss-<function mse_loss at 0x7c4fe51c8ae0></strong> at: <a href='https://wandb.ai/bgorai005-iit-madras/deep_learning_assignment_1/runs/hzor5v23' target=\"_blank\">https://wandb.ai/bgorai005-iit-madras/deep_learning_assignment_1/runs/hzor5v23</a><br> View project at: <a href='https://wandb.ai/bgorai005-iit-madras/deep_learning_assignment_1' target=\"_blank\">https://wandb.ai/bgorai005-iit-madras/deep_learning_assignment_1</a><br>Synced 5 W&B file(s), 0 media file(s), 0 artifact file(s) and 0 other file(s)"
            ]
          },
          "metadata": {}
        },
        {
          "output_type": "display_data",
          "data": {
            "text/plain": [
              "<IPython.core.display.HTML object>"
            ],
            "text/html": [
              "Find logs at: <code>./wandb/run-20250316_193351-hzor5v23/logs</code>"
            ]
          },
          "metadata": {}
        },
        {
          "output_type": "stream",
          "name": "stderr",
          "text": [
            "\u001b[34m\u001b[1mwandb\u001b[0m: Agent Starting Run: 940znlw9 with config:\n",
            "\u001b[34m\u001b[1mwandb\u001b[0m: \tactivation_hidden: tanh\n",
            "\u001b[34m\u001b[1mwandb\u001b[0m: \tactivation_output: softmax\n",
            "\u001b[34m\u001b[1mwandb\u001b[0m: \tbatch_size: 16\n",
            "\u001b[34m\u001b[1mwandb\u001b[0m: \tepochs: 10\n",
            "\u001b[34m\u001b[1mwandb\u001b[0m: \thidden_size: 128\n",
            "\u001b[34m\u001b[1mwandb\u001b[0m: \tlearning_rate: 0.0001\n",
            "\u001b[34m\u001b[1mwandb\u001b[0m: \tnum_layers: 5\n",
            "\u001b[34m\u001b[1mwandb\u001b[0m: \toptimizer: sgd\n",
            "\u001b[34m\u001b[1mwandb\u001b[0m: \tweight_decay: 0\n",
            "\u001b[34m\u001b[1mwandb\u001b[0m: \tweight_ini_method: Xavier\n"
          ]
        },
        {
          "output_type": "display_data",
          "data": {
            "text/plain": [
              "<IPython.core.display.HTML object>"
            ],
            "text/html": [
              "Tracking run with wandb version 0.19.8"
            ]
          },
          "metadata": {}
        },
        {
          "output_type": "display_data",
          "data": {
            "text/plain": [
              "<IPython.core.display.HTML object>"
            ],
            "text/html": [
              "Run data is saved locally in <code>/content/wandb/run-20250316_193548-940znlw9</code>"
            ]
          },
          "metadata": {}
        },
        {
          "output_type": "display_data",
          "data": {
            "text/plain": [
              "<IPython.core.display.HTML object>"
            ],
            "text/html": [
              "Syncing run <strong><a href='https://wandb.ai/bgorai005-iit-madras/deep_learning_assignment_1/runs/940znlw9' target=\"_blank\">charmed-sweep-21</a></strong> to <a href='https://wandb.ai/bgorai005-iit-madras/deep_learning_assignment_1' target=\"_blank\">Weights & Biases</a> (<a href='https://wandb.me/developer-guide' target=\"_blank\">docs</a>)<br>Sweep page: <a href='https://wandb.ai/bgorai005-iit-madras/deep_learning_assignment_1/sweeps/4uv2tuxd' target=\"_blank\">https://wandb.ai/bgorai005-iit-madras/deep_learning_assignment_1/sweeps/4uv2tuxd</a>"
            ]
          },
          "metadata": {}
        },
        {
          "output_type": "display_data",
          "data": {
            "text/plain": [
              "<IPython.core.display.HTML object>"
            ],
            "text/html": [
              " View project at <a href='https://wandb.ai/bgorai005-iit-madras/deep_learning_assignment_1' target=\"_blank\">https://wandb.ai/bgorai005-iit-madras/deep_learning_assignment_1</a>"
            ]
          },
          "metadata": {}
        },
        {
          "output_type": "display_data",
          "data": {
            "text/plain": [
              "<IPython.core.display.HTML object>"
            ],
            "text/html": [
              " View sweep at <a href='https://wandb.ai/bgorai005-iit-madras/deep_learning_assignment_1/sweeps/4uv2tuxd' target=\"_blank\">https://wandb.ai/bgorai005-iit-madras/deep_learning_assignment_1/sweeps/4uv2tuxd</a>"
            ]
          },
          "metadata": {}
        },
        {
          "output_type": "display_data",
          "data": {
            "text/plain": [
              "<IPython.core.display.HTML object>"
            ],
            "text/html": [
              " View run at <a href='https://wandb.ai/bgorai005-iit-madras/deep_learning_assignment_1/runs/940znlw9' target=\"_blank\">https://wandb.ai/bgorai005-iit-madras/deep_learning_assignment_1/runs/940znlw9</a>"
            ]
          },
          "metadata": {}
        },
        {
          "output_type": "stream",
          "name": "stdout",
          "text": [
            "[784, 128, 128, 128, 128, 128, 10]\n",
            "Epoch 1, Train Loss: 0.0431461233129638, Val Loss: 0.043587369389890274,Val Accuracy:0.7206666666666667\n",
            "Epoch 2, Train Loss: 0.034742624462900516, Val Loss: 0.03516621730510397,Val Accuracy:0.7593333333333333\n",
            "Epoch 3, Train Loss: 0.030940652721859207, Val Loss: 0.031360367576386015,Val Accuracy:0.7865\n",
            "Epoch 4, Train Loss: 0.028618290783203888, Val Loss: 0.02906065820478081,Val Accuracy:0.8008333333333333\n",
            "Epoch 5, Train Loss: 0.027092285084194947, Val Loss: 0.027578256384411116,Val Accuracy:0.8091666666666667\n",
            "Epoch 6, Train Loss: 0.025950015949020078, Val Loss: 0.026436503005906796,Val Accuracy:0.8158333333333333\n",
            "Epoch 7, Train Loss: 0.025110703330334515, Val Loss: 0.025598738378803075,Val Accuracy:0.8208333333333333\n",
            "Epoch 8, Train Loss: 0.024449829151128907, Val Loss: 0.024942247403461133,Val Accuracy:0.8281666666666667\n",
            "Epoch 9, Train Loss: 0.023843299284110622, Val Loss: 0.0243193109548102,Val Accuracy:0.8305\n",
            "Epoch 10, Train Loss: 0.023402091051786283, Val Loss: 0.023858116657210205,Val Accuracy:0.835\n"
          ]
        },
        {
          "output_type": "display_data",
          "data": {
            "text/plain": [
              "<IPython.core.display.HTML object>"
            ],
            "text/html": []
          },
          "metadata": {}
        },
        {
          "output_type": "display_data",
          "data": {
            "text/plain": [
              "<IPython.core.display.HTML object>"
            ],
            "text/html": [
              "<br>    <style><br>        .wandb-row {<br>            display: flex;<br>            flex-direction: row;<br>            flex-wrap: wrap;<br>            justify-content: flex-start;<br>            width: 100%;<br>        }<br>        .wandb-col {<br>            display: flex;<br>            flex-direction: column;<br>            flex-basis: 100%;<br>            flex: 1;<br>            padding: 10px;<br>        }<br>    </style><br><div class=\"wandb-row\"><div class=\"wandb-col\"><h3>Run history:</h3><br/><table class=\"wandb\"><tr><td>epoch</td><td>▁▂▃▃▄▅▆▆▇█</td></tr><tr><td>train_accuracy</td><td>▁▄▅▆▇▇▇███</td></tr><tr><td>train_loss</td><td>█▅▄▃▂▂▂▁▁▁</td></tr><tr><td>val_accuracy</td><td>▁▃▅▆▆▇▇███</td></tr><tr><td>val_loss</td><td>█▅▄▃▂▂▂▁▁▁</td></tr></table><br/></div><div class=\"wandb-col\"><h3>Run summary:</h3><br/><table class=\"wandb\"><tr><td>epoch</td><td>10</td></tr><tr><td>train_accuracy</td><td>83.96667</td></tr><tr><td>train_loss</td><td>0.0234</td></tr><tr><td>val_accuracy</td><td>83.5</td></tr><tr><td>val_loss</td><td>0.02386</td></tr></table><br/></div></div>"
            ]
          },
          "metadata": {}
        },
        {
          "output_type": "display_data",
          "data": {
            "text/plain": [
              "<IPython.core.display.HTML object>"
            ],
            "text/html": [
              " View run <strong style=\"color:#cdcd00\">ac-tanh_hs-128_epc-10_nl-5_lr0.0001_wd-0_opt-sgd_bs-16_wi-Xavier_loss-<function mse_loss at 0x7c4fe51c8ae0></strong> at: <a href='https://wandb.ai/bgorai005-iit-madras/deep_learning_assignment_1/runs/940znlw9' target=\"_blank\">https://wandb.ai/bgorai005-iit-madras/deep_learning_assignment_1/runs/940znlw9</a><br> View project at: <a href='https://wandb.ai/bgorai005-iit-madras/deep_learning_assignment_1' target=\"_blank\">https://wandb.ai/bgorai005-iit-madras/deep_learning_assignment_1</a><br>Synced 5 W&B file(s), 0 media file(s), 0 artifact file(s) and 0 other file(s)"
            ]
          },
          "metadata": {}
        },
        {
          "output_type": "display_data",
          "data": {
            "text/plain": [
              "<IPython.core.display.HTML object>"
            ],
            "text/html": [
              "Find logs at: <code>./wandb/run-20250316_193548-940znlw9/logs</code>"
            ]
          },
          "metadata": {}
        },
        {
          "output_type": "stream",
          "name": "stderr",
          "text": [
            "\u001b[34m\u001b[1mwandb\u001b[0m: Agent Starting Run: 9mlebbul with config:\n",
            "\u001b[34m\u001b[1mwandb\u001b[0m: \tactivation_hidden: tanh\n",
            "\u001b[34m\u001b[1mwandb\u001b[0m: \tactivation_output: softmax\n",
            "\u001b[34m\u001b[1mwandb\u001b[0m: \tbatch_size: 32\n",
            "\u001b[34m\u001b[1mwandb\u001b[0m: \tepochs: 5\n",
            "\u001b[34m\u001b[1mwandb\u001b[0m: \thidden_size: 64\n",
            "\u001b[34m\u001b[1mwandb\u001b[0m: \tlearning_rate: 0.0001\n",
            "\u001b[34m\u001b[1mwandb\u001b[0m: \tnum_layers: 3\n",
            "\u001b[34m\u001b[1mwandb\u001b[0m: \toptimizer: sgd\n",
            "\u001b[34m\u001b[1mwandb\u001b[0m: \tweight_decay: 0\n",
            "\u001b[34m\u001b[1mwandb\u001b[0m: \tweight_ini_method: random\n"
          ]
        },
        {
          "output_type": "display_data",
          "data": {
            "text/plain": [
              "<IPython.core.display.HTML object>"
            ],
            "text/html": [
              "Tracking run with wandb version 0.19.8"
            ]
          },
          "metadata": {}
        },
        {
          "output_type": "display_data",
          "data": {
            "text/plain": [
              "<IPython.core.display.HTML object>"
            ],
            "text/html": [
              "Run data is saved locally in <code>/content/wandb/run-20250316_194022-9mlebbul</code>"
            ]
          },
          "metadata": {}
        },
        {
          "output_type": "display_data",
          "data": {
            "text/plain": [
              "<IPython.core.display.HTML object>"
            ],
            "text/html": [
              "Syncing run <strong><a href='https://wandb.ai/bgorai005-iit-madras/deep_learning_assignment_1/runs/9mlebbul' target=\"_blank\">dry-sweep-22</a></strong> to <a href='https://wandb.ai/bgorai005-iit-madras/deep_learning_assignment_1' target=\"_blank\">Weights & Biases</a> (<a href='https://wandb.me/developer-guide' target=\"_blank\">docs</a>)<br>Sweep page: <a href='https://wandb.ai/bgorai005-iit-madras/deep_learning_assignment_1/sweeps/4uv2tuxd' target=\"_blank\">https://wandb.ai/bgorai005-iit-madras/deep_learning_assignment_1/sweeps/4uv2tuxd</a>"
            ]
          },
          "metadata": {}
        },
        {
          "output_type": "display_data",
          "data": {
            "text/plain": [
              "<IPython.core.display.HTML object>"
            ],
            "text/html": [
              " View project at <a href='https://wandb.ai/bgorai005-iit-madras/deep_learning_assignment_1' target=\"_blank\">https://wandb.ai/bgorai005-iit-madras/deep_learning_assignment_1</a>"
            ]
          },
          "metadata": {}
        },
        {
          "output_type": "display_data",
          "data": {
            "text/plain": [
              "<IPython.core.display.HTML object>"
            ],
            "text/html": [
              " View sweep at <a href='https://wandb.ai/bgorai005-iit-madras/deep_learning_assignment_1/sweeps/4uv2tuxd' target=\"_blank\">https://wandb.ai/bgorai005-iit-madras/deep_learning_assignment_1/sweeps/4uv2tuxd</a>"
            ]
          },
          "metadata": {}
        },
        {
          "output_type": "display_data",
          "data": {
            "text/plain": [
              "<IPython.core.display.HTML object>"
            ],
            "text/html": [
              " View run at <a href='https://wandb.ai/bgorai005-iit-madras/deep_learning_assignment_1/runs/9mlebbul' target=\"_blank\">https://wandb.ai/bgorai005-iit-madras/deep_learning_assignment_1/runs/9mlebbul</a>"
            ]
          },
          "metadata": {}
        },
        {
          "output_type": "stream",
          "name": "stdout",
          "text": [
            "[784, 64, 64, 64, 10]\n",
            "Epoch 1, Train Loss: 0.14799058128843487, Val Loss: 0.14840140888351827,Val Accuracy:0.132\n",
            "Epoch 2, Train Loss: 0.14249941376900038, Val Loss: 0.1431360775702459,Val Accuracy:0.14266666666666666\n",
            "Epoch 3, Train Loss: 0.13719411462717063, Val Loss: 0.13720438002228708,Val Accuracy:0.151\n",
            "Epoch 4, Train Loss: 0.13008875868691472, Val Loss: 0.12965197996868386,Val Accuracy:0.15883333333333333\n",
            "Epoch 5, Train Loss: 0.12116126922785068, Val Loss: 0.12075405453596523,Val Accuracy:0.17916666666666667\n"
          ]
        },
        {
          "output_type": "display_data",
          "data": {
            "text/plain": [
              "<IPython.core.display.HTML object>"
            ],
            "text/html": []
          },
          "metadata": {}
        },
        {
          "output_type": "display_data",
          "data": {
            "text/plain": [
              "<IPython.core.display.HTML object>"
            ],
            "text/html": [
              "<br>    <style><br>        .wandb-row {<br>            display: flex;<br>            flex-direction: row;<br>            flex-wrap: wrap;<br>            justify-content: flex-start;<br>            width: 100%;<br>        }<br>        .wandb-col {<br>            display: flex;<br>            flex-direction: column;<br>            flex-basis: 100%;<br>            flex: 1;<br>            padding: 10px;<br>        }<br>    </style><br><div class=\"wandb-row\"><div class=\"wandb-col\"><h3>Run history:</h3><br/><table class=\"wandb\"><tr><td>epoch</td><td>▁▃▅▆█</td></tr><tr><td>train_accuracy</td><td>▁▃▄▅█</td></tr><tr><td>train_loss</td><td>█▇▅▃▁</td></tr><tr><td>val_accuracy</td><td>▁▃▄▅█</td></tr><tr><td>val_loss</td><td>█▇▅▃▁</td></tr></table><br/></div><div class=\"wandb-col\"><h3>Run summary:</h3><br/><table class=\"wandb\"><tr><td>epoch</td><td>5</td></tr><tr><td>train_accuracy</td><td>17.45741</td></tr><tr><td>train_loss</td><td>0.12116</td></tr><tr><td>val_accuracy</td><td>17.91667</td></tr><tr><td>val_loss</td><td>0.12075</td></tr></table><br/></div></div>"
            ]
          },
          "metadata": {}
        },
        {
          "output_type": "display_data",
          "data": {
            "text/plain": [
              "<IPython.core.display.HTML object>"
            ],
            "text/html": [
              " View run <strong style=\"color:#cdcd00\">ac-tanh_hs-64_epc-5_nl-3_lr0.0001_wd-0_opt-sgd_bs-32_wi-random_loss-<function mse_loss at 0x7c4fe51c8ae0></strong> at: <a href='https://wandb.ai/bgorai005-iit-madras/deep_learning_assignment_1/runs/9mlebbul' target=\"_blank\">https://wandb.ai/bgorai005-iit-madras/deep_learning_assignment_1/runs/9mlebbul</a><br> View project at: <a href='https://wandb.ai/bgorai005-iit-madras/deep_learning_assignment_1' target=\"_blank\">https://wandb.ai/bgorai005-iit-madras/deep_learning_assignment_1</a><br>Synced 5 W&B file(s), 0 media file(s), 0 artifact file(s) and 0 other file(s)"
            ]
          },
          "metadata": {}
        },
        {
          "output_type": "display_data",
          "data": {
            "text/plain": [
              "<IPython.core.display.HTML object>"
            ],
            "text/html": [
              "Find logs at: <code>./wandb/run-20250316_194022-9mlebbul/logs</code>"
            ]
          },
          "metadata": {}
        },
        {
          "output_type": "stream",
          "name": "stderr",
          "text": [
            "\u001b[34m\u001b[1mwandb\u001b[0m: Agent Starting Run: 1xhkse4r with config:\n",
            "\u001b[34m\u001b[1mwandb\u001b[0m: \tactivation_hidden: sigmoid\n",
            "\u001b[34m\u001b[1mwandb\u001b[0m: \tactivation_output: softmax\n",
            "\u001b[34m\u001b[1mwandb\u001b[0m: \tbatch_size: 64\n",
            "\u001b[34m\u001b[1mwandb\u001b[0m: \tepochs: 5\n",
            "\u001b[34m\u001b[1mwandb\u001b[0m: \thidden_size: 32\n",
            "\u001b[34m\u001b[1mwandb\u001b[0m: \tlearning_rate: 0.001\n",
            "\u001b[34m\u001b[1mwandb\u001b[0m: \tnum_layers: 5\n",
            "\u001b[34m\u001b[1mwandb\u001b[0m: \toptimizer: adam\n",
            "\u001b[34m\u001b[1mwandb\u001b[0m: \tweight_decay: 0\n",
            "\u001b[34m\u001b[1mwandb\u001b[0m: \tweight_ini_method: Xavier\n"
          ]
        },
        {
          "output_type": "display_data",
          "data": {
            "text/plain": [
              "<IPython.core.display.HTML object>"
            ],
            "text/html": [
              "Tracking run with wandb version 0.19.8"
            ]
          },
          "metadata": {}
        },
        {
          "output_type": "display_data",
          "data": {
            "text/plain": [
              "<IPython.core.display.HTML object>"
            ],
            "text/html": [
              "Run data is saved locally in <code>/content/wandb/run-20250316_194108-1xhkse4r</code>"
            ]
          },
          "metadata": {}
        },
        {
          "output_type": "display_data",
          "data": {
            "text/plain": [
              "<IPython.core.display.HTML object>"
            ],
            "text/html": [
              "Syncing run <strong><a href='https://wandb.ai/bgorai005-iit-madras/deep_learning_assignment_1/runs/1xhkse4r' target=\"_blank\">charmed-sweep-23</a></strong> to <a href='https://wandb.ai/bgorai005-iit-madras/deep_learning_assignment_1' target=\"_blank\">Weights & Biases</a> (<a href='https://wandb.me/developer-guide' target=\"_blank\">docs</a>)<br>Sweep page: <a href='https://wandb.ai/bgorai005-iit-madras/deep_learning_assignment_1/sweeps/4uv2tuxd' target=\"_blank\">https://wandb.ai/bgorai005-iit-madras/deep_learning_assignment_1/sweeps/4uv2tuxd</a>"
            ]
          },
          "metadata": {}
        },
        {
          "output_type": "display_data",
          "data": {
            "text/plain": [
              "<IPython.core.display.HTML object>"
            ],
            "text/html": [
              " View project at <a href='https://wandb.ai/bgorai005-iit-madras/deep_learning_assignment_1' target=\"_blank\">https://wandb.ai/bgorai005-iit-madras/deep_learning_assignment_1</a>"
            ]
          },
          "metadata": {}
        },
        {
          "output_type": "display_data",
          "data": {
            "text/plain": [
              "<IPython.core.display.HTML object>"
            ],
            "text/html": [
              " View sweep at <a href='https://wandb.ai/bgorai005-iit-madras/deep_learning_assignment_1/sweeps/4uv2tuxd' target=\"_blank\">https://wandb.ai/bgorai005-iit-madras/deep_learning_assignment_1/sweeps/4uv2tuxd</a>"
            ]
          },
          "metadata": {}
        },
        {
          "output_type": "display_data",
          "data": {
            "text/plain": [
              "<IPython.core.display.HTML object>"
            ],
            "text/html": [
              " View run at <a href='https://wandb.ai/bgorai005-iit-madras/deep_learning_assignment_1/runs/1xhkse4r' target=\"_blank\">https://wandb.ai/bgorai005-iit-madras/deep_learning_assignment_1/runs/1xhkse4r</a>"
            ]
          },
          "metadata": {}
        },
        {
          "output_type": "stream",
          "name": "stdout",
          "text": [
            "[784, 32, 32, 32, 32, 32, 10]\n",
            "Epoch 1, Train Loss: 0.056536599731640436, Val Loss: 0.05699192266844229\n",
            "Epoch 2, Train Loss: 0.04764532643705845, Val Loss: 0.048370447857700366\n",
            "Epoch 3, Train Loss: 0.037684060238411594, Val Loss: 0.0388756181208518\n",
            "Epoch 4, Train Loss: 0.032058465419653945, Val Loss: 0.033441182274249553\n",
            "Epoch 5, Train Loss: 0.028702612796408827, Val Loss: 0.030001880439989484\n"
          ]
        },
        {
          "output_type": "display_data",
          "data": {
            "text/plain": [
              "<IPython.core.display.HTML object>"
            ],
            "text/html": []
          },
          "metadata": {}
        },
        {
          "output_type": "display_data",
          "data": {
            "text/plain": [
              "<IPython.core.display.HTML object>"
            ],
            "text/html": [
              "<br>    <style><br>        .wandb-row {<br>            display: flex;<br>            flex-direction: row;<br>            flex-wrap: wrap;<br>            justify-content: flex-start;<br>            width: 100%;<br>        }<br>        .wandb-col {<br>            display: flex;<br>            flex-direction: column;<br>            flex-basis: 100%;<br>            flex: 1;<br>            padding: 10px;<br>        }<br>    </style><br><div class=\"wandb-row\"><div class=\"wandb-col\"><h3>Run history:</h3><br/><table class=\"wandb\"><tr><td>epoch</td><td>▁▃▅▆█</td></tr><tr><td>train_accuracy</td><td>▁▅▇▇█</td></tr><tr><td>train_loss</td><td>█▆▃▂▁</td></tr><tr><td>val_accuracy</td><td>▁▅▇▇█</td></tr><tr><td>val_loss</td><td>█▆▃▂▁</td></tr></table><br/></div><div class=\"wandb-col\"><h3>Run summary:</h3><br/><table class=\"wandb\"><tr><td>epoch</td><td>5</td></tr><tr><td>train_accuracy</td><td>81.27778</td></tr><tr><td>train_loss</td><td>0.0287</td></tr><tr><td>val_accuracy</td><td>79.91667</td></tr><tr><td>val_loss</td><td>0.03</td></tr></table><br/></div></div>"
            ]
          },
          "metadata": {}
        },
        {
          "output_type": "display_data",
          "data": {
            "text/plain": [
              "<IPython.core.display.HTML object>"
            ],
            "text/html": [
              " View run <strong style=\"color:#cdcd00\">ac-sigmoid_hs-32_epc-5_nl-5_lr0.001_wd-0_opt-adam_bs-64_wi-Xavier_loss-<function mse_loss at 0x7c4fe51c8ae0></strong> at: <a href='https://wandb.ai/bgorai005-iit-madras/deep_learning_assignment_1/runs/1xhkse4r' target=\"_blank\">https://wandb.ai/bgorai005-iit-madras/deep_learning_assignment_1/runs/1xhkse4r</a><br> View project at: <a href='https://wandb.ai/bgorai005-iit-madras/deep_learning_assignment_1' target=\"_blank\">https://wandb.ai/bgorai005-iit-madras/deep_learning_assignment_1</a><br>Synced 5 W&B file(s), 0 media file(s), 0 artifact file(s) and 0 other file(s)"
            ]
          },
          "metadata": {}
        },
        {
          "output_type": "display_data",
          "data": {
            "text/plain": [
              "<IPython.core.display.HTML object>"
            ],
            "text/html": [
              "Find logs at: <code>./wandb/run-20250316_194108-1xhkse4r/logs</code>"
            ]
          },
          "metadata": {}
        },
        {
          "output_type": "stream",
          "name": "stderr",
          "text": [
            "\u001b[34m\u001b[1mwandb\u001b[0m: Agent Starting Run: 2tq84rix with config:\n",
            "\u001b[34m\u001b[1mwandb\u001b[0m: \tactivation_hidden: sigmoid\n",
            "\u001b[34m\u001b[1mwandb\u001b[0m: \tactivation_output: softmax\n",
            "\u001b[34m\u001b[1mwandb\u001b[0m: \tbatch_size: 16\n",
            "\u001b[34m\u001b[1mwandb\u001b[0m: \tepochs: 5\n",
            "\u001b[34m\u001b[1mwandb\u001b[0m: \thidden_size: 128\n",
            "\u001b[34m\u001b[1mwandb\u001b[0m: \tlearning_rate: 0.0001\n",
            "\u001b[34m\u001b[1mwandb\u001b[0m: \tnum_layers: 3\n",
            "\u001b[34m\u001b[1mwandb\u001b[0m: \toptimizer: nag\n",
            "\u001b[34m\u001b[1mwandb\u001b[0m: \tweight_decay: 0\n",
            "\u001b[34m\u001b[1mwandb\u001b[0m: \tweight_ini_method: random\n"
          ]
        },
        {
          "output_type": "display_data",
          "data": {
            "text/plain": [
              "<IPython.core.display.HTML object>"
            ],
            "text/html": [
              "Tracking run with wandb version 0.19.8"
            ]
          },
          "metadata": {}
        },
        {
          "output_type": "display_data",
          "data": {
            "text/plain": [
              "<IPython.core.display.HTML object>"
            ],
            "text/html": [
              "Run data is saved locally in <code>/content/wandb/run-20250316_194138-2tq84rix</code>"
            ]
          },
          "metadata": {}
        },
        {
          "output_type": "display_data",
          "data": {
            "text/plain": [
              "<IPython.core.display.HTML object>"
            ],
            "text/html": [
              "Syncing run <strong><a href='https://wandb.ai/bgorai005-iit-madras/deep_learning_assignment_1/runs/2tq84rix' target=\"_blank\">major-sweep-24</a></strong> to <a href='https://wandb.ai/bgorai005-iit-madras/deep_learning_assignment_1' target=\"_blank\">Weights & Biases</a> (<a href='https://wandb.me/developer-guide' target=\"_blank\">docs</a>)<br>Sweep page: <a href='https://wandb.ai/bgorai005-iit-madras/deep_learning_assignment_1/sweeps/4uv2tuxd' target=\"_blank\">https://wandb.ai/bgorai005-iit-madras/deep_learning_assignment_1/sweeps/4uv2tuxd</a>"
            ]
          },
          "metadata": {}
        },
        {
          "output_type": "display_data",
          "data": {
            "text/plain": [
              "<IPython.core.display.HTML object>"
            ],
            "text/html": [
              " View project at <a href='https://wandb.ai/bgorai005-iit-madras/deep_learning_assignment_1' target=\"_blank\">https://wandb.ai/bgorai005-iit-madras/deep_learning_assignment_1</a>"
            ]
          },
          "metadata": {}
        },
        {
          "output_type": "display_data",
          "data": {
            "text/plain": [
              "<IPython.core.display.HTML object>"
            ],
            "text/html": [
              " View sweep at <a href='https://wandb.ai/bgorai005-iit-madras/deep_learning_assignment_1/sweeps/4uv2tuxd' target=\"_blank\">https://wandb.ai/bgorai005-iit-madras/deep_learning_assignment_1/sweeps/4uv2tuxd</a>"
            ]
          },
          "metadata": {}
        },
        {
          "output_type": "display_data",
          "data": {
            "text/plain": [
              "<IPython.core.display.HTML object>"
            ],
            "text/html": [
              " View run at <a href='https://wandb.ai/bgorai005-iit-madras/deep_learning_assignment_1/runs/2tq84rix' target=\"_blank\">https://wandb.ai/bgorai005-iit-madras/deep_learning_assignment_1/runs/2tq84rix</a>"
            ]
          },
          "metadata": {}
        },
        {
          "output_type": "stream",
          "name": "stdout",
          "text": [
            "[784, 128, 128, 128, 10]\n",
            "Epoch 1, Loss: 0.13410359990750134, Validation Loss: 0.13374084230818056\n",
            "Epoch 2, Loss: 0.13308235049475053, Validation Loss: 0.13259237989487133\n",
            "Epoch 3, Loss: 0.12800263604705836, Validation Loss: 0.1271474885603479\n",
            "Epoch 4, Loss: 0.12355080610717827, Validation Loss: 0.12293061987400525\n",
            "Epoch 5, Loss: 0.10368242409097977, Validation Loss: 0.1032254323851341\n"
          ]
        },
        {
          "output_type": "display_data",
          "data": {
            "text/plain": [
              "<IPython.core.display.HTML object>"
            ],
            "text/html": []
          },
          "metadata": {}
        },
        {
          "output_type": "display_data",
          "data": {
            "text/plain": [
              "<IPython.core.display.HTML object>"
            ],
            "text/html": [
              "<br>    <style><br>        .wandb-row {<br>            display: flex;<br>            flex-direction: row;<br>            flex-wrap: wrap;<br>            justify-content: flex-start;<br>            width: 100%;<br>        }<br>        .wandb-col {<br>            display: flex;<br>            flex-direction: column;<br>            flex-basis: 100%;<br>            flex: 1;<br>            padding: 10px;<br>        }<br>    </style><br><div class=\"wandb-row\"><div class=\"wandb-col\"><h3>Run history:</h3><br/><table class=\"wandb\"><tr><td>epoch</td><td>▁▃▅▆█</td></tr><tr><td>train_accuracy</td><td>▇▅▄▁█</td></tr><tr><td>train_loss</td><td>██▇▆▁</td></tr><tr><td>val_accuracy</td><td>▇▅▄▁█</td></tr><tr><td>val_loss</td><td>██▆▆▁</td></tr></table><br/></div><div class=\"wandb-col\"><h3>Run summary:</h3><br/><table class=\"wandb\"><tr><td>epoch</td><td>5</td></tr><tr><td>train_accuracy</td><td>14.16667</td></tr><tr><td>train_loss</td><td>0.10368</td></tr><tr><td>val_accuracy</td><td>14.68333</td></tr><tr><td>val_loss</td><td>0.10323</td></tr></table><br/></div></div>"
            ]
          },
          "metadata": {}
        },
        {
          "output_type": "display_data",
          "data": {
            "text/plain": [
              "<IPython.core.display.HTML object>"
            ],
            "text/html": [
              " View run <strong style=\"color:#cdcd00\">ac-sigmoid_hs-128_epc-5_nl-3_lr0.0001_wd-0_opt-nag_bs-16_wi-random_loss-<function mse_loss at 0x7c4fe51c8ae0></strong> at: <a href='https://wandb.ai/bgorai005-iit-madras/deep_learning_assignment_1/runs/2tq84rix' target=\"_blank\">https://wandb.ai/bgorai005-iit-madras/deep_learning_assignment_1/runs/2tq84rix</a><br> View project at: <a href='https://wandb.ai/bgorai005-iit-madras/deep_learning_assignment_1' target=\"_blank\">https://wandb.ai/bgorai005-iit-madras/deep_learning_assignment_1</a><br>Synced 5 W&B file(s), 0 media file(s), 0 artifact file(s) and 0 other file(s)"
            ]
          },
          "metadata": {}
        },
        {
          "output_type": "display_data",
          "data": {
            "text/plain": [
              "<IPython.core.display.HTML object>"
            ],
            "text/html": [
              "Find logs at: <code>./wandb/run-20250316_194138-2tq84rix/logs</code>"
            ]
          },
          "metadata": {}
        },
        {
          "output_type": "stream",
          "name": "stderr",
          "text": [
            "\u001b[34m\u001b[1mwandb\u001b[0m: Agent Starting Run: yi13o9o6 with config:\n",
            "\u001b[34m\u001b[1mwandb\u001b[0m: \tactivation_hidden: sigmoid\n",
            "\u001b[34m\u001b[1mwandb\u001b[0m: \tactivation_output: softmax\n",
            "\u001b[34m\u001b[1mwandb\u001b[0m: \tbatch_size: 64\n",
            "\u001b[34m\u001b[1mwandb\u001b[0m: \tepochs: 5\n",
            "\u001b[34m\u001b[1mwandb\u001b[0m: \thidden_size: 128\n",
            "\u001b[34m\u001b[1mwandb\u001b[0m: \tlearning_rate: 0.001\n",
            "\u001b[34m\u001b[1mwandb\u001b[0m: \tnum_layers: 3\n",
            "\u001b[34m\u001b[1mwandb\u001b[0m: \toptimizer: adam\n",
            "\u001b[34m\u001b[1mwandb\u001b[0m: \tweight_decay: 0\n",
            "\u001b[34m\u001b[1mwandb\u001b[0m: \tweight_ini_method: Xavier\n"
          ]
        },
        {
          "output_type": "display_data",
          "data": {
            "text/plain": [
              "<IPython.core.display.HTML object>"
            ],
            "text/html": [
              "Tracking run with wandb version 0.19.8"
            ]
          },
          "metadata": {}
        },
        {
          "output_type": "display_data",
          "data": {
            "text/plain": [
              "<IPython.core.display.HTML object>"
            ],
            "text/html": [
              "Run data is saved locally in <code>/content/wandb/run-20250316_194314-yi13o9o6</code>"
            ]
          },
          "metadata": {}
        },
        {
          "output_type": "display_data",
          "data": {
            "text/plain": [
              "<IPython.core.display.HTML object>"
            ],
            "text/html": [
              "Syncing run <strong><a href='https://wandb.ai/bgorai005-iit-madras/deep_learning_assignment_1/runs/yi13o9o6' target=\"_blank\">fanciful-sweep-25</a></strong> to <a href='https://wandb.ai/bgorai005-iit-madras/deep_learning_assignment_1' target=\"_blank\">Weights & Biases</a> (<a href='https://wandb.me/developer-guide' target=\"_blank\">docs</a>)<br>Sweep page: <a href='https://wandb.ai/bgorai005-iit-madras/deep_learning_assignment_1/sweeps/4uv2tuxd' target=\"_blank\">https://wandb.ai/bgorai005-iit-madras/deep_learning_assignment_1/sweeps/4uv2tuxd</a>"
            ]
          },
          "metadata": {}
        },
        {
          "output_type": "display_data",
          "data": {
            "text/plain": [
              "<IPython.core.display.HTML object>"
            ],
            "text/html": [
              " View project at <a href='https://wandb.ai/bgorai005-iit-madras/deep_learning_assignment_1' target=\"_blank\">https://wandb.ai/bgorai005-iit-madras/deep_learning_assignment_1</a>"
            ]
          },
          "metadata": {}
        },
        {
          "output_type": "display_data",
          "data": {
            "text/plain": [
              "<IPython.core.display.HTML object>"
            ],
            "text/html": [
              " View sweep at <a href='https://wandb.ai/bgorai005-iit-madras/deep_learning_assignment_1/sweeps/4uv2tuxd' target=\"_blank\">https://wandb.ai/bgorai005-iit-madras/deep_learning_assignment_1/sweeps/4uv2tuxd</a>"
            ]
          },
          "metadata": {}
        },
        {
          "output_type": "display_data",
          "data": {
            "text/plain": [
              "<IPython.core.display.HTML object>"
            ],
            "text/html": [
              " View run at <a href='https://wandb.ai/bgorai005-iit-madras/deep_learning_assignment_1/runs/yi13o9o6' target=\"_blank\">https://wandb.ai/bgorai005-iit-madras/deep_learning_assignment_1/runs/yi13o9o6</a>"
            ]
          },
          "metadata": {}
        },
        {
          "output_type": "stream",
          "name": "stdout",
          "text": [
            "[784, 128, 128, 128, 10]\n",
            "Epoch 1, Train Loss: 0.0257892822800034, Val Loss: 0.02660385922834303\n",
            "Epoch 2, Train Loss: 0.022106517066234586, Val Loss: 0.022875800443849913\n",
            "Epoch 3, Train Loss: 0.020278971077586083, Val Loss: 0.021249519615575058\n",
            "Epoch 4, Train Loss: 0.019884395403446296, Val Loss: 0.02090677933064631\n",
            "Epoch 5, Train Loss: 0.018810582631483358, Val Loss: 0.01979223495099661\n"
          ]
        },
        {
          "output_type": "display_data",
          "data": {
            "text/plain": [
              "<IPython.core.display.HTML object>"
            ],
            "text/html": []
          },
          "metadata": {}
        },
        {
          "output_type": "display_data",
          "data": {
            "text/plain": [
              "<IPython.core.display.HTML object>"
            ],
            "text/html": [
              "<br>    <style><br>        .wandb-row {<br>            display: flex;<br>            flex-direction: row;<br>            flex-wrap: wrap;<br>            justify-content: flex-start;<br>            width: 100%;<br>        }<br>        .wandb-col {<br>            display: flex;<br>            flex-direction: column;<br>            flex-basis: 100%;<br>            flex: 1;<br>            padding: 10px;<br>        }<br>    </style><br><div class=\"wandb-row\"><div class=\"wandb-col\"><h3>Run history:</h3><br/><table class=\"wandb\"><tr><td>epoch</td><td>▁▃▅▆█</td></tr><tr><td>train_accuracy</td><td>▁▅▇▇█</td></tr><tr><td>train_loss</td><td>█▄▂▂▁</td></tr><tr><td>val_accuracy</td><td>▁▅▆▆█</td></tr><tr><td>val_loss</td><td>█▄▂▂▁</td></tr></table><br/></div><div class=\"wandb-col\"><h3>Run summary:</h3><br/><table class=\"wandb\"><tr><td>epoch</td><td>5</td></tr><tr><td>train_accuracy</td><td>87.23704</td></tr><tr><td>train_loss</td><td>0.01881</td></tr><tr><td>val_accuracy</td><td>86.43333</td></tr><tr><td>val_loss</td><td>0.01979</td></tr></table><br/></div></div>"
            ]
          },
          "metadata": {}
        },
        {
          "output_type": "display_data",
          "data": {
            "text/plain": [
              "<IPython.core.display.HTML object>"
            ],
            "text/html": [
              " View run <strong style=\"color:#cdcd00\">ac-sigmoid_hs-128_epc-5_nl-3_lr0.001_wd-0_opt-adam_bs-64_wi-Xavier_loss-<function mse_loss at 0x7c4fe51c8ae0></strong> at: <a href='https://wandb.ai/bgorai005-iit-madras/deep_learning_assignment_1/runs/yi13o9o6' target=\"_blank\">https://wandb.ai/bgorai005-iit-madras/deep_learning_assignment_1/runs/yi13o9o6</a><br> View project at: <a href='https://wandb.ai/bgorai005-iit-madras/deep_learning_assignment_1' target=\"_blank\">https://wandb.ai/bgorai005-iit-madras/deep_learning_assignment_1</a><br>Synced 5 W&B file(s), 0 media file(s), 0 artifact file(s) and 0 other file(s)"
            ]
          },
          "metadata": {}
        },
        {
          "output_type": "display_data",
          "data": {
            "text/plain": [
              "<IPython.core.display.HTML object>"
            ],
            "text/html": [
              "Find logs at: <code>./wandb/run-20250316_194314-yi13o9o6/logs</code>"
            ]
          },
          "metadata": {}
        },
        {
          "output_type": "stream",
          "name": "stderr",
          "text": [
            "\u001b[34m\u001b[1mwandb\u001b[0m: Agent Starting Run: xm2edlqc with config:\n",
            "\u001b[34m\u001b[1mwandb\u001b[0m: \tactivation_hidden: tanh\n",
            "\u001b[34m\u001b[1mwandb\u001b[0m: \tactivation_output: softmax\n",
            "\u001b[34m\u001b[1mwandb\u001b[0m: \tbatch_size: 64\n",
            "\u001b[34m\u001b[1mwandb\u001b[0m: \tepochs: 5\n",
            "\u001b[34m\u001b[1mwandb\u001b[0m: \thidden_size: 128\n",
            "\u001b[34m\u001b[1mwandb\u001b[0m: \tlearning_rate: 0.001\n",
            "\u001b[34m\u001b[1mwandb\u001b[0m: \tnum_layers: 3\n",
            "\u001b[34m\u001b[1mwandb\u001b[0m: \toptimizer: nadam\n",
            "\u001b[34m\u001b[1mwandb\u001b[0m: \tweight_decay: 0\n",
            "\u001b[34m\u001b[1mwandb\u001b[0m: \tweight_ini_method: Xavier\n"
          ]
        },
        {
          "output_type": "display_data",
          "data": {
            "text/plain": [
              "<IPython.core.display.HTML object>"
            ],
            "text/html": [
              "Tracking run with wandb version 0.19.8"
            ]
          },
          "metadata": {}
        },
        {
          "output_type": "display_data",
          "data": {
            "text/plain": [
              "<IPython.core.display.HTML object>"
            ],
            "text/html": [
              "Run data is saved locally in <code>/content/wandb/run-20250316_194421-xm2edlqc</code>"
            ]
          },
          "metadata": {}
        },
        {
          "output_type": "display_data",
          "data": {
            "text/plain": [
              "<IPython.core.display.HTML object>"
            ],
            "text/html": [
              "Syncing run <strong><a href='https://wandb.ai/bgorai005-iit-madras/deep_learning_assignment_1/runs/xm2edlqc' target=\"_blank\">scarlet-sweep-26</a></strong> to <a href='https://wandb.ai/bgorai005-iit-madras/deep_learning_assignment_1' target=\"_blank\">Weights & Biases</a> (<a href='https://wandb.me/developer-guide' target=\"_blank\">docs</a>)<br>Sweep page: <a href='https://wandb.ai/bgorai005-iit-madras/deep_learning_assignment_1/sweeps/4uv2tuxd' target=\"_blank\">https://wandb.ai/bgorai005-iit-madras/deep_learning_assignment_1/sweeps/4uv2tuxd</a>"
            ]
          },
          "metadata": {}
        },
        {
          "output_type": "display_data",
          "data": {
            "text/plain": [
              "<IPython.core.display.HTML object>"
            ],
            "text/html": [
              " View project at <a href='https://wandb.ai/bgorai005-iit-madras/deep_learning_assignment_1' target=\"_blank\">https://wandb.ai/bgorai005-iit-madras/deep_learning_assignment_1</a>"
            ]
          },
          "metadata": {}
        },
        {
          "output_type": "display_data",
          "data": {
            "text/plain": [
              "<IPython.core.display.HTML object>"
            ],
            "text/html": [
              " View sweep at <a href='https://wandb.ai/bgorai005-iit-madras/deep_learning_assignment_1/sweeps/4uv2tuxd' target=\"_blank\">https://wandb.ai/bgorai005-iit-madras/deep_learning_assignment_1/sweeps/4uv2tuxd</a>"
            ]
          },
          "metadata": {}
        },
        {
          "output_type": "display_data",
          "data": {
            "text/plain": [
              "<IPython.core.display.HTML object>"
            ],
            "text/html": [
              " View run at <a href='https://wandb.ai/bgorai005-iit-madras/deep_learning_assignment_1/runs/xm2edlqc' target=\"_blank\">https://wandb.ai/bgorai005-iit-madras/deep_learning_assignment_1/runs/xm2edlqc</a>"
            ]
          },
          "metadata": {}
        },
        {
          "output_type": "stream",
          "name": "stdout",
          "text": [
            "[784, 128, 128, 128, 10]\n",
            "Epoch 1, Loss: 0.018077134857280575, Validation Loss: 0.019164418567294856\n",
            "Epoch 2, Loss: 0.015997464777767548, Validation Loss: 0.01739419476088229\n",
            "Epoch 3, Loss: 0.015122234539229264, Validation Loss: 0.016826202133061026\n",
            "Epoch 4, Loss: 0.01396389569473681, Validation Loss: 0.01629889840832239\n",
            "Epoch 5, Loss: 0.013653820625704553, Validation Loss: 0.016388183118924926\n"
          ]
        },
        {
          "output_type": "display_data",
          "data": {
            "text/plain": [
              "<IPython.core.display.HTML object>"
            ],
            "text/html": []
          },
          "metadata": {}
        },
        {
          "output_type": "display_data",
          "data": {
            "text/plain": [
              "<IPython.core.display.HTML object>"
            ],
            "text/html": [
              "<br>    <style><br>        .wandb-row {<br>            display: flex;<br>            flex-direction: row;<br>            flex-wrap: wrap;<br>            justify-content: flex-start;<br>            width: 100%;<br>        }<br>        .wandb-col {<br>            display: flex;<br>            flex-direction: column;<br>            flex-basis: 100%;<br>            flex: 1;<br>            padding: 10px;<br>        }<br>    </style><br><div class=\"wandb-row\"><div class=\"wandb-col\"><h3>Run history:</h3><br/><table class=\"wandb\"><tr><td>epoch</td><td>▁▃▅▆█</td></tr><tr><td>train_accuracy</td><td>▁▄▆▇█</td></tr><tr><td>train_loss</td><td>█▅▃▁▁</td></tr><tr><td>val_accuracy</td><td>▁▅▆▇█</td></tr><tr><td>val_loss</td><td>█▄▂▁▁</td></tr></table><br/></div><div class=\"wandb-col\"><h3>Run summary:</h3><br/><table class=\"wandb\"><tr><td>epoch</td><td>5</td></tr><tr><td>train_accuracy</td><td>90.73889</td></tr><tr><td>train_loss</td><td>0.01365</td></tr><tr><td>val_accuracy</td><td>88.85</td></tr><tr><td>val_loss</td><td>0.01639</td></tr></table><br/></div></div>"
            ]
          },
          "metadata": {}
        },
        {
          "output_type": "display_data",
          "data": {
            "text/plain": [
              "<IPython.core.display.HTML object>"
            ],
            "text/html": [
              " View run <strong style=\"color:#cdcd00\">ac-tanh_hs-128_epc-5_nl-3_lr0.001_wd-0_opt-nadam_bs-64_wi-Xavier_loss-<function mse_loss at 0x7c4fe51c8ae0></strong> at: <a href='https://wandb.ai/bgorai005-iit-madras/deep_learning_assignment_1/runs/xm2edlqc' target=\"_blank\">https://wandb.ai/bgorai005-iit-madras/deep_learning_assignment_1/runs/xm2edlqc</a><br> View project at: <a href='https://wandb.ai/bgorai005-iit-madras/deep_learning_assignment_1' target=\"_blank\">https://wandb.ai/bgorai005-iit-madras/deep_learning_assignment_1</a><br>Synced 5 W&B file(s), 0 media file(s), 0 artifact file(s) and 0 other file(s)"
            ]
          },
          "metadata": {}
        },
        {
          "output_type": "display_data",
          "data": {
            "text/plain": [
              "<IPython.core.display.HTML object>"
            ],
            "text/html": [
              "Find logs at: <code>./wandb/run-20250316_194421-xm2edlqc/logs</code>"
            ]
          },
          "metadata": {}
        },
        {
          "output_type": "stream",
          "name": "stderr",
          "text": [
            "\u001b[34m\u001b[1mwandb\u001b[0m: Agent Starting Run: yla76wkx with config:\n",
            "\u001b[34m\u001b[1mwandb\u001b[0m: \tactivation_hidden: tanh\n",
            "\u001b[34m\u001b[1mwandb\u001b[0m: \tactivation_output: softmax\n",
            "\u001b[34m\u001b[1mwandb\u001b[0m: \tbatch_size: 16\n",
            "\u001b[34m\u001b[1mwandb\u001b[0m: \tepochs: 5\n",
            "\u001b[34m\u001b[1mwandb\u001b[0m: \thidden_size: 32\n",
            "\u001b[34m\u001b[1mwandb\u001b[0m: \tlearning_rate: 0.0001\n",
            "\u001b[34m\u001b[1mwandb\u001b[0m: \tnum_layers: 4\n",
            "\u001b[34m\u001b[1mwandb\u001b[0m: \toptimizer: nag\n",
            "\u001b[34m\u001b[1mwandb\u001b[0m: \tweight_decay: 0\n",
            "\u001b[34m\u001b[1mwandb\u001b[0m: \tweight_ini_method: Xavier\n"
          ]
        },
        {
          "output_type": "display_data",
          "data": {
            "text/plain": [
              "<IPython.core.display.HTML object>"
            ],
            "text/html": [
              "Tracking run with wandb version 0.19.8"
            ]
          },
          "metadata": {}
        },
        {
          "output_type": "display_data",
          "data": {
            "text/plain": [
              "<IPython.core.display.HTML object>"
            ],
            "text/html": [
              "Run data is saved locally in <code>/content/wandb/run-20250316_194548-yla76wkx</code>"
            ]
          },
          "metadata": {}
        },
        {
          "output_type": "display_data",
          "data": {
            "text/plain": [
              "<IPython.core.display.HTML object>"
            ],
            "text/html": [
              "Syncing run <strong><a href='https://wandb.ai/bgorai005-iit-madras/deep_learning_assignment_1/runs/yla76wkx' target=\"_blank\">robust-sweep-27</a></strong> to <a href='https://wandb.ai/bgorai005-iit-madras/deep_learning_assignment_1' target=\"_blank\">Weights & Biases</a> (<a href='https://wandb.me/developer-guide' target=\"_blank\">docs</a>)<br>Sweep page: <a href='https://wandb.ai/bgorai005-iit-madras/deep_learning_assignment_1/sweeps/4uv2tuxd' target=\"_blank\">https://wandb.ai/bgorai005-iit-madras/deep_learning_assignment_1/sweeps/4uv2tuxd</a>"
            ]
          },
          "metadata": {}
        },
        {
          "output_type": "display_data",
          "data": {
            "text/plain": [
              "<IPython.core.display.HTML object>"
            ],
            "text/html": [
              " View project at <a href='https://wandb.ai/bgorai005-iit-madras/deep_learning_assignment_1' target=\"_blank\">https://wandb.ai/bgorai005-iit-madras/deep_learning_assignment_1</a>"
            ]
          },
          "metadata": {}
        },
        {
          "output_type": "display_data",
          "data": {
            "text/plain": [
              "<IPython.core.display.HTML object>"
            ],
            "text/html": [
              " View sweep at <a href='https://wandb.ai/bgorai005-iit-madras/deep_learning_assignment_1/sweeps/4uv2tuxd' target=\"_blank\">https://wandb.ai/bgorai005-iit-madras/deep_learning_assignment_1/sweeps/4uv2tuxd</a>"
            ]
          },
          "metadata": {}
        },
        {
          "output_type": "display_data",
          "data": {
            "text/plain": [
              "<IPython.core.display.HTML object>"
            ],
            "text/html": [
              " View run at <a href='https://wandb.ai/bgorai005-iit-madras/deep_learning_assignment_1/runs/yla76wkx' target=\"_blank\">https://wandb.ai/bgorai005-iit-madras/deep_learning_assignment_1/runs/yla76wkx</a>"
            ]
          },
          "metadata": {}
        },
        {
          "output_type": "stream",
          "name": "stdout",
          "text": [
            "[784, 32, 32, 32, 32, 10]\n",
            "Epoch 1, Loss: 0.09355735690305174, Validation Loss: 0.09335744207435716\n",
            "Epoch 2, Loss: 0.09336989083839718, Validation Loss: 0.0931316207065268\n",
            "Epoch 3, Loss: 0.09225030552097245, Validation Loss: 0.09204596058976218\n",
            "Epoch 4, Loss: 0.09140822585717374, Validation Loss: 0.09123289290611529\n",
            "Epoch 5, Loss: 0.09043398619361828, Validation Loss: 0.09036350396123947\n"
          ]
        },
        {
          "output_type": "display_data",
          "data": {
            "text/plain": [
              "<IPython.core.display.HTML object>"
            ],
            "text/html": []
          },
          "metadata": {}
        },
        {
          "output_type": "display_data",
          "data": {
            "text/plain": [
              "<IPython.core.display.HTML object>"
            ],
            "text/html": [
              "<br>    <style><br>        .wandb-row {<br>            display: flex;<br>            flex-direction: row;<br>            flex-wrap: wrap;<br>            justify-content: flex-start;<br>            width: 100%;<br>        }<br>        .wandb-col {<br>            display: flex;<br>            flex-direction: column;<br>            flex-basis: 100%;<br>            flex: 1;<br>            padding: 10px;<br>        }<br>    </style><br><div class=\"wandb-row\"><div class=\"wandb-col\"><h3>Run history:</h3><br/><table class=\"wandb\"><tr><td>epoch</td><td>▁▃▅▆█</td></tr><tr><td>train_accuracy</td><td>█▁▁▂▂</td></tr><tr><td>train_loss</td><td>██▅▃▁</td></tr><tr><td>val_accuracy</td><td>█▁▂▃▂</td></tr><tr><td>val_loss</td><td>█▇▅▃▁</td></tr></table><br/></div><div class=\"wandb-col\"><h3>Run summary:</h3><br/><table class=\"wandb\"><tr><td>epoch</td><td>5</td></tr><tr><td>train_accuracy</td><td>9.96481</td></tr><tr><td>train_loss</td><td>0.09043</td></tr><tr><td>val_accuracy</td><td>10.31667</td></tr><tr><td>val_loss</td><td>0.09036</td></tr></table><br/></div></div>"
            ]
          },
          "metadata": {}
        },
        {
          "output_type": "display_data",
          "data": {
            "text/plain": [
              "<IPython.core.display.HTML object>"
            ],
            "text/html": [
              " View run <strong style=\"color:#cdcd00\">ac-tanh_hs-32_epc-5_nl-4_lr0.0001_wd-0_opt-nag_bs-16_wi-Xavier_loss-<function mse_loss at 0x7c4fe51c8ae0></strong> at: <a href='https://wandb.ai/bgorai005-iit-madras/deep_learning_assignment_1/runs/yla76wkx' target=\"_blank\">https://wandb.ai/bgorai005-iit-madras/deep_learning_assignment_1/runs/yla76wkx</a><br> View project at: <a href='https://wandb.ai/bgorai005-iit-madras/deep_learning_assignment_1' target=\"_blank\">https://wandb.ai/bgorai005-iit-madras/deep_learning_assignment_1</a><br>Synced 5 W&B file(s), 0 media file(s), 0 artifact file(s) and 0 other file(s)"
            ]
          },
          "metadata": {}
        },
        {
          "output_type": "display_data",
          "data": {
            "text/plain": [
              "<IPython.core.display.HTML object>"
            ],
            "text/html": [
              "Find logs at: <code>./wandb/run-20250316_194548-yla76wkx/logs</code>"
            ]
          },
          "metadata": {}
        },
        {
          "output_type": "stream",
          "name": "stderr",
          "text": [
            "\u001b[34m\u001b[1mwandb\u001b[0m: Agent Starting Run: s34szlk5 with config:\n",
            "\u001b[34m\u001b[1mwandb\u001b[0m: \tactivation_hidden: relu\n",
            "\u001b[34m\u001b[1mwandb\u001b[0m: \tactivation_output: softmax\n",
            "\u001b[34m\u001b[1mwandb\u001b[0m: \tbatch_size: 16\n",
            "\u001b[34m\u001b[1mwandb\u001b[0m: \tepochs: 10\n",
            "\u001b[34m\u001b[1mwandb\u001b[0m: \thidden_size: 128\n",
            "\u001b[34m\u001b[1mwandb\u001b[0m: \tlearning_rate: 0.0001\n",
            "\u001b[34m\u001b[1mwandb\u001b[0m: \tnum_layers: 3\n",
            "\u001b[34m\u001b[1mwandb\u001b[0m: \toptimizer: nadam\n",
            "\u001b[34m\u001b[1mwandb\u001b[0m: \tweight_decay: 0\n",
            "\u001b[34m\u001b[1mwandb\u001b[0m: \tweight_ini_method: Xavier\n"
          ]
        },
        {
          "output_type": "display_data",
          "data": {
            "text/plain": [
              "<IPython.core.display.HTML object>"
            ],
            "text/html": [
              "Tracking run with wandb version 0.19.8"
            ]
          },
          "metadata": {}
        },
        {
          "output_type": "display_data",
          "data": {
            "text/plain": [
              "<IPython.core.display.HTML object>"
            ],
            "text/html": [
              "Run data is saved locally in <code>/content/wandb/run-20250316_194635-s34szlk5</code>"
            ]
          },
          "metadata": {}
        },
        {
          "output_type": "display_data",
          "data": {
            "text/plain": [
              "<IPython.core.display.HTML object>"
            ],
            "text/html": [
              "Syncing run <strong><a href='https://wandb.ai/bgorai005-iit-madras/deep_learning_assignment_1/runs/s34szlk5' target=\"_blank\">glamorous-sweep-28</a></strong> to <a href='https://wandb.ai/bgorai005-iit-madras/deep_learning_assignment_1' target=\"_blank\">Weights & Biases</a> (<a href='https://wandb.me/developer-guide' target=\"_blank\">docs</a>)<br>Sweep page: <a href='https://wandb.ai/bgorai005-iit-madras/deep_learning_assignment_1/sweeps/4uv2tuxd' target=\"_blank\">https://wandb.ai/bgorai005-iit-madras/deep_learning_assignment_1/sweeps/4uv2tuxd</a>"
            ]
          },
          "metadata": {}
        },
        {
          "output_type": "display_data",
          "data": {
            "text/plain": [
              "<IPython.core.display.HTML object>"
            ],
            "text/html": [
              " View project at <a href='https://wandb.ai/bgorai005-iit-madras/deep_learning_assignment_1' target=\"_blank\">https://wandb.ai/bgorai005-iit-madras/deep_learning_assignment_1</a>"
            ]
          },
          "metadata": {}
        },
        {
          "output_type": "display_data",
          "data": {
            "text/plain": [
              "<IPython.core.display.HTML object>"
            ],
            "text/html": [
              " View sweep at <a href='https://wandb.ai/bgorai005-iit-madras/deep_learning_assignment_1/sweeps/4uv2tuxd' target=\"_blank\">https://wandb.ai/bgorai005-iit-madras/deep_learning_assignment_1/sweeps/4uv2tuxd</a>"
            ]
          },
          "metadata": {}
        },
        {
          "output_type": "display_data",
          "data": {
            "text/plain": [
              "<IPython.core.display.HTML object>"
            ],
            "text/html": [
              " View run at <a href='https://wandb.ai/bgorai005-iit-madras/deep_learning_assignment_1/runs/s34szlk5' target=\"_blank\">https://wandb.ai/bgorai005-iit-madras/deep_learning_assignment_1/runs/s34szlk5</a>"
            ]
          },
          "metadata": {}
        },
        {
          "output_type": "stream",
          "name": "stdout",
          "text": [
            "[784, 128, 128, 128, 10]\n",
            "Epoch 1, Loss: 0.02261390967918015, Validation Loss: 0.023669021062995434\n",
            "Epoch 2, Loss: 0.019953321459385984, Validation Loss: 0.02107700394165139\n",
            "Epoch 3, Loss: 0.018350849928613796, Validation Loss: 0.01971373335328409\n",
            "Epoch 4, Loss: 0.01773121924282163, Validation Loss: 0.019177472847132594\n",
            "Epoch 5, Loss: 0.01701974358442191, Validation Loss: 0.018699543104593888\n",
            "Epoch 6, Loss: 0.01715493244446116, Validation Loss: 0.018950729157673957\n",
            "Epoch 7, Loss: 0.016358784173401024, Validation Loss: 0.018490453602141358\n",
            "Epoch 8, Loss: 0.015703557991393283, Validation Loss: 0.017922908525275748\n",
            "Epoch 9, Loss: 0.01602075869759496, Validation Loss: 0.018027814625777096\n",
            "Epoch 10, Loss: 0.014776137420875031, Validation Loss: 0.017246025674760808\n"
          ]
        },
        {
          "output_type": "display_data",
          "data": {
            "text/plain": [
              "<IPython.core.display.HTML object>"
            ],
            "text/html": []
          },
          "metadata": {}
        },
        {
          "output_type": "display_data",
          "data": {
            "text/plain": [
              "<IPython.core.display.HTML object>"
            ],
            "text/html": [
              "<br>    <style><br>        .wandb-row {<br>            display: flex;<br>            flex-direction: row;<br>            flex-wrap: wrap;<br>            justify-content: flex-start;<br>            width: 100%;<br>        }<br>        .wandb-col {<br>            display: flex;<br>            flex-direction: column;<br>            flex-basis: 100%;<br>            flex: 1;<br>            padding: 10px;<br>        }<br>    </style><br><div class=\"wandb-row\"><div class=\"wandb-col\"><h3>Run history:</h3><br/><table class=\"wandb\"><tr><td>epoch</td><td>▁▂▃▃▄▅▆▆▇█</td></tr><tr><td>train_accuracy</td><td>▁▃▅▅▆▆▆▇▇█</td></tr><tr><td>train_loss</td><td>█▆▄▄▃▃▂▂▂▁</td></tr><tr><td>val_accuracy</td><td>▁▃▅▅▆▆▇▇▇█</td></tr><tr><td>val_loss</td><td>█▅▄▃▃▃▂▂▂▁</td></tr></table><br/></div><div class=\"wandb-col\"><h3>Run summary:</h3><br/><table class=\"wandb\"><tr><td>epoch</td><td>10</td></tr><tr><td>train_accuracy</td><td>90.02222</td></tr><tr><td>train_loss</td><td>0.01478</td></tr><tr><td>val_accuracy</td><td>88.28333</td></tr><tr><td>val_loss</td><td>0.01725</td></tr></table><br/></div></div>"
            ]
          },
          "metadata": {}
        },
        {
          "output_type": "display_data",
          "data": {
            "text/plain": [
              "<IPython.core.display.HTML object>"
            ],
            "text/html": [
              " View run <strong style=\"color:#cdcd00\">ac-relu_hs-128_epc-10_nl-3_lr0.0001_wd-0_opt-nadam_bs-16_wi-Xavier_loss-<function mse_loss at 0x7c4fe51c8ae0></strong> at: <a href='https://wandb.ai/bgorai005-iit-madras/deep_learning_assignment_1/runs/s34szlk5' target=\"_blank\">https://wandb.ai/bgorai005-iit-madras/deep_learning_assignment_1/runs/s34szlk5</a><br> View project at: <a href='https://wandb.ai/bgorai005-iit-madras/deep_learning_assignment_1' target=\"_blank\">https://wandb.ai/bgorai005-iit-madras/deep_learning_assignment_1</a><br>Synced 5 W&B file(s), 0 media file(s), 0 artifact file(s) and 0 other file(s)"
            ]
          },
          "metadata": {}
        },
        {
          "output_type": "display_data",
          "data": {
            "text/plain": [
              "<IPython.core.display.HTML object>"
            ],
            "text/html": [
              "Find logs at: <code>./wandb/run-20250316_194635-s34szlk5/logs</code>"
            ]
          },
          "metadata": {}
        },
        {
          "output_type": "stream",
          "name": "stderr",
          "text": [
            "\u001b[34m\u001b[1mwandb\u001b[0m: Agent Starting Run: zjp2fygn with config:\n",
            "\u001b[34m\u001b[1mwandb\u001b[0m: \tactivation_hidden: sigmoid\n",
            "\u001b[34m\u001b[1mwandb\u001b[0m: \tactivation_output: softmax\n",
            "\u001b[34m\u001b[1mwandb\u001b[0m: \tbatch_size: 64\n",
            "\u001b[34m\u001b[1mwandb\u001b[0m: \tepochs: 10\n",
            "\u001b[34m\u001b[1mwandb\u001b[0m: \thidden_size: 32\n",
            "\u001b[34m\u001b[1mwandb\u001b[0m: \tlearning_rate: 0.001\n",
            "\u001b[34m\u001b[1mwandb\u001b[0m: \tnum_layers: 5\n",
            "\u001b[34m\u001b[1mwandb\u001b[0m: \toptimizer: nadam\n",
            "\u001b[34m\u001b[1mwandb\u001b[0m: \tweight_decay: 0\n",
            "\u001b[34m\u001b[1mwandb\u001b[0m: \tweight_ini_method: Xavier\n"
          ]
        },
        {
          "output_type": "display_data",
          "data": {
            "text/plain": [
              "<IPython.core.display.HTML object>"
            ],
            "text/html": [
              "Tracking run with wandb version 0.19.8"
            ]
          },
          "metadata": {}
        },
        {
          "output_type": "display_data",
          "data": {
            "text/plain": [
              "<IPython.core.display.HTML object>"
            ],
            "text/html": [
              "Run data is saved locally in <code>/content/wandb/run-20250316_195113-zjp2fygn</code>"
            ]
          },
          "metadata": {}
        },
        {
          "output_type": "display_data",
          "data": {
            "text/plain": [
              "<IPython.core.display.HTML object>"
            ],
            "text/html": [
              "Syncing run <strong><a href='https://wandb.ai/bgorai005-iit-madras/deep_learning_assignment_1/runs/zjp2fygn' target=\"_blank\">morning-sweep-29</a></strong> to <a href='https://wandb.ai/bgorai005-iit-madras/deep_learning_assignment_1' target=\"_blank\">Weights & Biases</a> (<a href='https://wandb.me/developer-guide' target=\"_blank\">docs</a>)<br>Sweep page: <a href='https://wandb.ai/bgorai005-iit-madras/deep_learning_assignment_1/sweeps/4uv2tuxd' target=\"_blank\">https://wandb.ai/bgorai005-iit-madras/deep_learning_assignment_1/sweeps/4uv2tuxd</a>"
            ]
          },
          "metadata": {}
        },
        {
          "output_type": "display_data",
          "data": {
            "text/plain": [
              "<IPython.core.display.HTML object>"
            ],
            "text/html": [
              " View project at <a href='https://wandb.ai/bgorai005-iit-madras/deep_learning_assignment_1' target=\"_blank\">https://wandb.ai/bgorai005-iit-madras/deep_learning_assignment_1</a>"
            ]
          },
          "metadata": {}
        },
        {
          "output_type": "display_data",
          "data": {
            "text/plain": [
              "<IPython.core.display.HTML object>"
            ],
            "text/html": [
              " View sweep at <a href='https://wandb.ai/bgorai005-iit-madras/deep_learning_assignment_1/sweeps/4uv2tuxd' target=\"_blank\">https://wandb.ai/bgorai005-iit-madras/deep_learning_assignment_1/sweeps/4uv2tuxd</a>"
            ]
          },
          "metadata": {}
        },
        {
          "output_type": "display_data",
          "data": {
            "text/plain": [
              "<IPython.core.display.HTML object>"
            ],
            "text/html": [
              " View run at <a href='https://wandb.ai/bgorai005-iit-madras/deep_learning_assignment_1/runs/zjp2fygn' target=\"_blank\">https://wandb.ai/bgorai005-iit-madras/deep_learning_assignment_1/runs/zjp2fygn</a>"
            ]
          },
          "metadata": {}
        },
        {
          "output_type": "stream",
          "name": "stdout",
          "text": [
            "[784, 32, 32, 32, 32, 32, 10]\n",
            "Epoch 1, Loss: 0.05954743104570626, Validation Loss: 0.06057578733481307\n",
            "Epoch 2, Loss: 0.042388313681496766, Validation Loss: 0.04344355718743184\n",
            "Epoch 3, Loss: 0.034915308026290635, Validation Loss: 0.03622605899361251\n",
            "Epoch 4, Loss: 0.02920801163498538, Validation Loss: 0.030582506692594325\n",
            "Epoch 5, Loss: 0.02655037216761522, Validation Loss: 0.02793996016742439\n",
            "Epoch 6, Loss: 0.024666651255008127, Validation Loss: 0.026269556495080216\n",
            "Epoch 7, Loss: 0.024260301160950522, Validation Loss: 0.025978149810861204\n",
            "Epoch 8, Loss: 0.02349685898121217, Validation Loss: 0.025219501130776225\n",
            "Epoch 9, Loss: 0.023122497175879907, Validation Loss: 0.02508607420775681\n",
            "Epoch 10, Loss: 0.02413484282650408, Validation Loss: 0.02606989322652246\n"
          ]
        },
        {
          "output_type": "display_data",
          "data": {
            "text/plain": [
              "<IPython.core.display.HTML object>"
            ],
            "text/html": []
          },
          "metadata": {}
        },
        {
          "output_type": "display_data",
          "data": {
            "text/plain": [
              "<IPython.core.display.HTML object>"
            ],
            "text/html": [
              "<br>    <style><br>        .wandb-row {<br>            display: flex;<br>            flex-direction: row;<br>            flex-wrap: wrap;<br>            justify-content: flex-start;<br>            width: 100%;<br>        }<br>        .wandb-col {<br>            display: flex;<br>            flex-direction: column;<br>            flex-basis: 100%;<br>            flex: 1;<br>            padding: 10px;<br>        }<br>    </style><br><div class=\"wandb-row\"><div class=\"wandb-col\"><h3>Run history:</h3><br/><table class=\"wandb\"><tr><td>epoch</td><td>▁▂▃▃▄▅▆▆▇█</td></tr><tr><td>train_accuracy</td><td>▁▅▇▇██████</td></tr><tr><td>train_loss</td><td>█▅▃▂▂▁▁▁▁▁</td></tr><tr><td>val_accuracy</td><td>▁▄▇▇██████</td></tr><tr><td>val_loss</td><td>█▅▃▂▂▁▁▁▁▁</td></tr></table><br/></div><div class=\"wandb-col\"><h3>Run summary:</h3><br/><table class=\"wandb\"><tr><td>epoch</td><td>10</td></tr><tr><td>train_accuracy</td><td>83.87963</td></tr><tr><td>train_loss</td><td>0.02413</td></tr><tr><td>val_accuracy</td><td>82.3</td></tr><tr><td>val_loss</td><td>0.02607</td></tr></table><br/></div></div>"
            ]
          },
          "metadata": {}
        },
        {
          "output_type": "display_data",
          "data": {
            "text/plain": [
              "<IPython.core.display.HTML object>"
            ],
            "text/html": [
              " View run <strong style=\"color:#cdcd00\">ac-sigmoid_hs-32_epc-10_nl-5_lr0.001_wd-0_opt-nadam_bs-64_wi-Xavier_loss-<function mse_loss at 0x7c4fe51c8ae0></strong> at: <a href='https://wandb.ai/bgorai005-iit-madras/deep_learning_assignment_1/runs/zjp2fygn' target=\"_blank\">https://wandb.ai/bgorai005-iit-madras/deep_learning_assignment_1/runs/zjp2fygn</a><br> View project at: <a href='https://wandb.ai/bgorai005-iit-madras/deep_learning_assignment_1' target=\"_blank\">https://wandb.ai/bgorai005-iit-madras/deep_learning_assignment_1</a><br>Synced 5 W&B file(s), 0 media file(s), 0 artifact file(s) and 0 other file(s)"
            ]
          },
          "metadata": {}
        },
        {
          "output_type": "display_data",
          "data": {
            "text/plain": [
              "<IPython.core.display.HTML object>"
            ],
            "text/html": [
              "Find logs at: <code>./wandb/run-20250316_195113-zjp2fygn/logs</code>"
            ]
          },
          "metadata": {}
        },
        {
          "output_type": "stream",
          "name": "stderr",
          "text": [
            "\u001b[34m\u001b[1mwandb\u001b[0m: Sweep Agent: Waiting for job.\n",
            "\u001b[34m\u001b[1mwandb\u001b[0m: Job received.\n",
            "\u001b[34m\u001b[1mwandb\u001b[0m: Agent Starting Run: vst7vmf1 with config:\n",
            "\u001b[34m\u001b[1mwandb\u001b[0m: \tactivation_hidden: relu\n",
            "\u001b[34m\u001b[1mwandb\u001b[0m: \tactivation_output: softmax\n",
            "\u001b[34m\u001b[1mwandb\u001b[0m: \tbatch_size: 16\n",
            "\u001b[34m\u001b[1mwandb\u001b[0m: \tepochs: 5\n",
            "\u001b[34m\u001b[1mwandb\u001b[0m: \thidden_size: 128\n",
            "\u001b[34m\u001b[1mwandb\u001b[0m: \tlearning_rate: 0.0001\n",
            "\u001b[34m\u001b[1mwandb\u001b[0m: \tnum_layers: 5\n",
            "\u001b[34m\u001b[1mwandb\u001b[0m: \toptimizer: RMSprop\n",
            "\u001b[34m\u001b[1mwandb\u001b[0m: \tweight_decay: 0\n",
            "\u001b[34m\u001b[1mwandb\u001b[0m: \tweight_ini_method: Xavier\n"
          ]
        },
        {
          "output_type": "display_data",
          "data": {
            "text/plain": [
              "<IPython.core.display.HTML object>"
            ],
            "text/html": [
              "Tracking run with wandb version 0.19.8"
            ]
          },
          "metadata": {}
        },
        {
          "output_type": "display_data",
          "data": {
            "text/plain": [
              "<IPython.core.display.HTML object>"
            ],
            "text/html": [
              "Run data is saved locally in <code>/content/wandb/run-20250316_195228-vst7vmf1</code>"
            ]
          },
          "metadata": {}
        },
        {
          "output_type": "display_data",
          "data": {
            "text/plain": [
              "<IPython.core.display.HTML object>"
            ],
            "text/html": [
              "Syncing run <strong><a href='https://wandb.ai/bgorai005-iit-madras/deep_learning_assignment_1/runs/vst7vmf1' target=\"_blank\">jumping-sweep-30</a></strong> to <a href='https://wandb.ai/bgorai005-iit-madras/deep_learning_assignment_1' target=\"_blank\">Weights & Biases</a> (<a href='https://wandb.me/developer-guide' target=\"_blank\">docs</a>)<br>Sweep page: <a href='https://wandb.ai/bgorai005-iit-madras/deep_learning_assignment_1/sweeps/4uv2tuxd' target=\"_blank\">https://wandb.ai/bgorai005-iit-madras/deep_learning_assignment_1/sweeps/4uv2tuxd</a>"
            ]
          },
          "metadata": {}
        },
        {
          "output_type": "display_data",
          "data": {
            "text/plain": [
              "<IPython.core.display.HTML object>"
            ],
            "text/html": [
              " View project at <a href='https://wandb.ai/bgorai005-iit-madras/deep_learning_assignment_1' target=\"_blank\">https://wandb.ai/bgorai005-iit-madras/deep_learning_assignment_1</a>"
            ]
          },
          "metadata": {}
        },
        {
          "output_type": "display_data",
          "data": {
            "text/plain": [
              "<IPython.core.display.HTML object>"
            ],
            "text/html": [
              " View sweep at <a href='https://wandb.ai/bgorai005-iit-madras/deep_learning_assignment_1/sweeps/4uv2tuxd' target=\"_blank\">https://wandb.ai/bgorai005-iit-madras/deep_learning_assignment_1/sweeps/4uv2tuxd</a>"
            ]
          },
          "metadata": {}
        },
        {
          "output_type": "display_data",
          "data": {
            "text/plain": [
              "<IPython.core.display.HTML object>"
            ],
            "text/html": [
              " View run at <a href='https://wandb.ai/bgorai005-iit-madras/deep_learning_assignment_1/runs/vst7vmf1' target=\"_blank\">https://wandb.ai/bgorai005-iit-madras/deep_learning_assignment_1/runs/vst7vmf1</a>"
            ]
          },
          "metadata": {}
        },
        {
          "output_type": "stream",
          "name": "stdout",
          "text": [
            "[784, 128, 128, 128, 128, 128, 10]\n",
            "Epoch 1, Loss: 0.0215, Val Loss: 0.0222, Train Acc: 85.07%, Val Acc: 84.77%\n",
            "Epoch 2, Loss: 0.0201, Val Loss: 0.0210, Train Acc: 86.20%, Val Acc: 85.60%\n",
            "Epoch 3, Loss: 0.0182, Val Loss: 0.0196, Train Acc: 87.42%, Val Acc: 86.20%\n",
            "Epoch 4, Loss: 0.0164, Val Loss: 0.0182, Train Acc: 88.63%, Val Acc: 87.67%\n",
            "Epoch 5, Loss: 0.0163, Val Loss: 0.0186, Train Acc: 88.74%, Val Acc: 87.12%\n"
          ]
        },
        {
          "output_type": "display_data",
          "data": {
            "text/plain": [
              "<IPython.core.display.HTML object>"
            ],
            "text/html": []
          },
          "metadata": {}
        },
        {
          "output_type": "display_data",
          "data": {
            "text/plain": [
              "<IPython.core.display.HTML object>"
            ],
            "text/html": [
              "<br>    <style><br>        .wandb-row {<br>            display: flex;<br>            flex-direction: row;<br>            flex-wrap: wrap;<br>            justify-content: flex-start;<br>            width: 100%;<br>        }<br>        .wandb-col {<br>            display: flex;<br>            flex-direction: column;<br>            flex-basis: 100%;<br>            flex: 1;<br>            padding: 10px;<br>        }<br>    </style><br><div class=\"wandb-row\"><div class=\"wandb-col\"><h3>Run history:</h3><br/><table class=\"wandb\"><tr><td>epoch</td><td>▁▃▅▆█</td></tr><tr><td>train_accuracy</td><td>▁▃▅██</td></tr><tr><td>train_loss</td><td>█▆▄▁▁</td></tr><tr><td>val_accuracy</td><td>▁▃▄█▇</td></tr><tr><td>val_loss</td><td>█▆▄▁▂</td></tr></table><br/></div><div class=\"wandb-col\"><h3>Run summary:</h3><br/><table class=\"wandb\"><tr><td>epoch</td><td>5</td></tr><tr><td>train_accuracy</td><td>88.74444</td></tr><tr><td>train_loss</td><td>0.01634</td></tr><tr><td>val_accuracy</td><td>87.11667</td></tr><tr><td>val_loss</td><td>0.01863</td></tr></table><br/></div></div>"
            ]
          },
          "metadata": {}
        },
        {
          "output_type": "display_data",
          "data": {
            "text/plain": [
              "<IPython.core.display.HTML object>"
            ],
            "text/html": [
              " View run <strong style=\"color:#cdcd00\">ac-relu_hs-128_epc-5_nl-5_lr0.0001_wd-0_opt-RMSprop_bs-16_wi-Xavier_loss-<function mse_loss at 0x7c4fe51c8ae0></strong> at: <a href='https://wandb.ai/bgorai005-iit-madras/deep_learning_assignment_1/runs/vst7vmf1' target=\"_blank\">https://wandb.ai/bgorai005-iit-madras/deep_learning_assignment_1/runs/vst7vmf1</a><br> View project at: <a href='https://wandb.ai/bgorai005-iit-madras/deep_learning_assignment_1' target=\"_blank\">https://wandb.ai/bgorai005-iit-madras/deep_learning_assignment_1</a><br>Synced 5 W&B file(s), 0 media file(s), 0 artifact file(s) and 0 other file(s)"
            ]
          },
          "metadata": {}
        },
        {
          "output_type": "display_data",
          "data": {
            "text/plain": [
              "<IPython.core.display.HTML object>"
            ],
            "text/html": [
              "Find logs at: <code>./wandb/run-20250316_195228-vst7vmf1/logs</code>"
            ]
          },
          "metadata": {}
        },
        {
          "output_type": "stream",
          "name": "stderr",
          "text": [
            "\u001b[34m\u001b[1mwandb\u001b[0m: Sweep Agent: Waiting for job.\n",
            "\u001b[34m\u001b[1mwandb\u001b[0m: Job received.\n",
            "\u001b[34m\u001b[1mwandb\u001b[0m: Agent Starting Run: xzu1x055 with config:\n",
            "\u001b[34m\u001b[1mwandb\u001b[0m: \tactivation_hidden: sigmoid\n",
            "\u001b[34m\u001b[1mwandb\u001b[0m: \tactivation_output: softmax\n",
            "\u001b[34m\u001b[1mwandb\u001b[0m: \tbatch_size: 32\n",
            "\u001b[34m\u001b[1mwandb\u001b[0m: \tepochs: 10\n",
            "\u001b[34m\u001b[1mwandb\u001b[0m: \thidden_size: 32\n",
            "\u001b[34m\u001b[1mwandb\u001b[0m: \tlearning_rate: 0.001\n",
            "\u001b[34m\u001b[1mwandb\u001b[0m: \tnum_layers: 4\n",
            "\u001b[34m\u001b[1mwandb\u001b[0m: \toptimizer: adam\n",
            "\u001b[34m\u001b[1mwandb\u001b[0m: \tweight_decay: 0\n",
            "\u001b[34m\u001b[1mwandb\u001b[0m: \tweight_ini_method: random\n"
          ]
        },
        {
          "output_type": "display_data",
          "data": {
            "text/plain": [
              "<IPython.core.display.HTML object>"
            ],
            "text/html": [
              "Tracking run with wandb version 0.19.8"
            ]
          },
          "metadata": {}
        },
        {
          "output_type": "display_data",
          "data": {
            "text/plain": [
              "<IPython.core.display.HTML object>"
            ],
            "text/html": [
              "Run data is saved locally in <code>/content/wandb/run-20250316_195440-xzu1x055</code>"
            ]
          },
          "metadata": {}
        },
        {
          "output_type": "display_data",
          "data": {
            "text/plain": [
              "<IPython.core.display.HTML object>"
            ],
            "text/html": [
              "Syncing run <strong><a href='https://wandb.ai/bgorai005-iit-madras/deep_learning_assignment_1/runs/xzu1x055' target=\"_blank\">stellar-sweep-31</a></strong> to <a href='https://wandb.ai/bgorai005-iit-madras/deep_learning_assignment_1' target=\"_blank\">Weights & Biases</a> (<a href='https://wandb.me/developer-guide' target=\"_blank\">docs</a>)<br>Sweep page: <a href='https://wandb.ai/bgorai005-iit-madras/deep_learning_assignment_1/sweeps/4uv2tuxd' target=\"_blank\">https://wandb.ai/bgorai005-iit-madras/deep_learning_assignment_1/sweeps/4uv2tuxd</a>"
            ]
          },
          "metadata": {}
        },
        {
          "output_type": "display_data",
          "data": {
            "text/plain": [
              "<IPython.core.display.HTML object>"
            ],
            "text/html": [
              " View project at <a href='https://wandb.ai/bgorai005-iit-madras/deep_learning_assignment_1' target=\"_blank\">https://wandb.ai/bgorai005-iit-madras/deep_learning_assignment_1</a>"
            ]
          },
          "metadata": {}
        },
        {
          "output_type": "display_data",
          "data": {
            "text/plain": [
              "<IPython.core.display.HTML object>"
            ],
            "text/html": [
              " View sweep at <a href='https://wandb.ai/bgorai005-iit-madras/deep_learning_assignment_1/sweeps/4uv2tuxd' target=\"_blank\">https://wandb.ai/bgorai005-iit-madras/deep_learning_assignment_1/sweeps/4uv2tuxd</a>"
            ]
          },
          "metadata": {}
        },
        {
          "output_type": "display_data",
          "data": {
            "text/plain": [
              "<IPython.core.display.HTML object>"
            ],
            "text/html": [
              " View run at <a href='https://wandb.ai/bgorai005-iit-madras/deep_learning_assignment_1/runs/xzu1x055' target=\"_blank\">https://wandb.ai/bgorai005-iit-madras/deep_learning_assignment_1/runs/xzu1x055</a>"
            ]
          },
          "metadata": {}
        },
        {
          "output_type": "stream",
          "name": "stdout",
          "text": [
            "[784, 32, 32, 32, 32, 10]\n",
            "Epoch 1, Train Loss: 0.03110011617779107, Val Loss: 0.03200624637784508\n",
            "Epoch 2, Train Loss: 0.027606205124738725, Val Loss: 0.028571992909373133\n",
            "Epoch 3, Train Loss: 0.025543115738948165, Val Loss: 0.02665266764726232\n",
            "Epoch 4, Train Loss: 0.024580213192572472, Val Loss: 0.025963999748034993\n",
            "Epoch 5, Train Loss: 0.0237265898153536, Val Loss: 0.025366272897366815\n",
            "Epoch 6, Train Loss: 0.022910469655903785, Val Loss: 0.024850886362419555\n",
            "Epoch 7, Train Loss: 0.022269538643838856, Val Loss: 0.024415222362846104\n",
            "Epoch 8, Train Loss: 0.021851914135933386, Val Loss: 0.02395222653776138\n",
            "Epoch 9, Train Loss: 0.021270415994465938, Val Loss: 0.023643334180935404\n",
            "Epoch 10, Train Loss: 0.020828945809634448, Val Loss: 0.023258228004276654\n"
          ]
        },
        {
          "output_type": "display_data",
          "data": {
            "text/plain": [
              "<IPython.core.display.HTML object>"
            ],
            "text/html": []
          },
          "metadata": {}
        },
        {
          "output_type": "display_data",
          "data": {
            "text/plain": [
              "<IPython.core.display.HTML object>"
            ],
            "text/html": [
              "<br>    <style><br>        .wandb-row {<br>            display: flex;<br>            flex-direction: row;<br>            flex-wrap: wrap;<br>            justify-content: flex-start;<br>            width: 100%;<br>        }<br>        .wandb-col {<br>            display: flex;<br>            flex-direction: column;<br>            flex-basis: 100%;<br>            flex: 1;<br>            padding: 10px;<br>        }<br>    </style><br><div class=\"wandb-row\"><div class=\"wandb-col\"><h3>Run history:</h3><br/><table class=\"wandb\"><tr><td>epoch</td><td>▁▂▃▃▄▅▆▆▇█</td></tr><tr><td>train_accuracy</td><td>▁▃▅▅▆▇▇▇██</td></tr><tr><td>train_loss</td><td>█▆▄▄▃▂▂▂▁▁</td></tr><tr><td>val_accuracy</td><td>▁▃▅▅▆▆▇▇██</td></tr><tr><td>val_loss</td><td>█▅▄▃▃▂▂▂▁▁</td></tr></table><br/></div><div class=\"wandb-col\"><h3>Run summary:</h3><br/><table class=\"wandb\"><tr><td>epoch</td><td>10</td></tr><tr><td>train_accuracy</td><td>85.64259</td></tr><tr><td>train_loss</td><td>0.02083</td></tr><tr><td>val_accuracy</td><td>83.56667</td></tr><tr><td>val_loss</td><td>0.02326</td></tr></table><br/></div></div>"
            ]
          },
          "metadata": {}
        },
        {
          "output_type": "display_data",
          "data": {
            "text/plain": [
              "<IPython.core.display.HTML object>"
            ],
            "text/html": [
              " View run <strong style=\"color:#cdcd00\">ac-sigmoid_hs-32_epc-10_nl-4_lr0.001_wd-0_opt-adam_bs-32_wi-random_loss-<function mse_loss at 0x7c4fe51c8ae0></strong> at: <a href='https://wandb.ai/bgorai005-iit-madras/deep_learning_assignment_1/runs/xzu1x055' target=\"_blank\">https://wandb.ai/bgorai005-iit-madras/deep_learning_assignment_1/runs/xzu1x055</a><br> View project at: <a href='https://wandb.ai/bgorai005-iit-madras/deep_learning_assignment_1' target=\"_blank\">https://wandb.ai/bgorai005-iit-madras/deep_learning_assignment_1</a><br>Synced 5 W&B file(s), 0 media file(s), 0 artifact file(s) and 0 other file(s)"
            ]
          },
          "metadata": {}
        },
        {
          "output_type": "display_data",
          "data": {
            "text/plain": [
              "<IPython.core.display.HTML object>"
            ],
            "text/html": [
              "Find logs at: <code>./wandb/run-20250316_195440-xzu1x055/logs</code>"
            ]
          },
          "metadata": {}
        },
        {
          "output_type": "stream",
          "name": "stderr",
          "text": [
            "\u001b[34m\u001b[1mwandb\u001b[0m: Agent Starting Run: raaek1if with config:\n",
            "\u001b[34m\u001b[1mwandb\u001b[0m: \tactivation_hidden: relu\n",
            "\u001b[34m\u001b[1mwandb\u001b[0m: \tactivation_output: softmax\n",
            "\u001b[34m\u001b[1mwandb\u001b[0m: \tbatch_size: 64\n",
            "\u001b[34m\u001b[1mwandb\u001b[0m: \tepochs: 10\n",
            "\u001b[34m\u001b[1mwandb\u001b[0m: \thidden_size: 64\n",
            "\u001b[34m\u001b[1mwandb\u001b[0m: \tlearning_rate: 0.0001\n",
            "\u001b[34m\u001b[1mwandb\u001b[0m: \tnum_layers: 5\n",
            "\u001b[34m\u001b[1mwandb\u001b[0m: \toptimizer: nag\n",
            "\u001b[34m\u001b[1mwandb\u001b[0m: \tweight_decay: 0\n",
            "\u001b[34m\u001b[1mwandb\u001b[0m: \tweight_ini_method: Xavier\n"
          ]
        },
        {
          "output_type": "display_data",
          "data": {
            "text/plain": [
              "<IPython.core.display.HTML object>"
            ],
            "text/html": [
              "Tracking run with wandb version 0.19.8"
            ]
          },
          "metadata": {}
        },
        {
          "output_type": "display_data",
          "data": {
            "text/plain": [
              "<IPython.core.display.HTML object>"
            ],
            "text/html": [
              "Run data is saved locally in <code>/content/wandb/run-20250316_195551-raaek1if</code>"
            ]
          },
          "metadata": {}
        },
        {
          "output_type": "display_data",
          "data": {
            "text/plain": [
              "<IPython.core.display.HTML object>"
            ],
            "text/html": [
              "Syncing run <strong><a href='https://wandb.ai/bgorai005-iit-madras/deep_learning_assignment_1/runs/raaek1if' target=\"_blank\">dark-sweep-32</a></strong> to <a href='https://wandb.ai/bgorai005-iit-madras/deep_learning_assignment_1' target=\"_blank\">Weights & Biases</a> (<a href='https://wandb.me/developer-guide' target=\"_blank\">docs</a>)<br>Sweep page: <a href='https://wandb.ai/bgorai005-iit-madras/deep_learning_assignment_1/sweeps/4uv2tuxd' target=\"_blank\">https://wandb.ai/bgorai005-iit-madras/deep_learning_assignment_1/sweeps/4uv2tuxd</a>"
            ]
          },
          "metadata": {}
        },
        {
          "output_type": "display_data",
          "data": {
            "text/plain": [
              "<IPython.core.display.HTML object>"
            ],
            "text/html": [
              " View project at <a href='https://wandb.ai/bgorai005-iit-madras/deep_learning_assignment_1' target=\"_blank\">https://wandb.ai/bgorai005-iit-madras/deep_learning_assignment_1</a>"
            ]
          },
          "metadata": {}
        },
        {
          "output_type": "display_data",
          "data": {
            "text/plain": [
              "<IPython.core.display.HTML object>"
            ],
            "text/html": [
              " View sweep at <a href='https://wandb.ai/bgorai005-iit-madras/deep_learning_assignment_1/sweeps/4uv2tuxd' target=\"_blank\">https://wandb.ai/bgorai005-iit-madras/deep_learning_assignment_1/sweeps/4uv2tuxd</a>"
            ]
          },
          "metadata": {}
        },
        {
          "output_type": "display_data",
          "data": {
            "text/plain": [
              "<IPython.core.display.HTML object>"
            ],
            "text/html": [
              " View run at <a href='https://wandb.ai/bgorai005-iit-madras/deep_learning_assignment_1/runs/raaek1if' target=\"_blank\">https://wandb.ai/bgorai005-iit-madras/deep_learning_assignment_1/runs/raaek1if</a>"
            ]
          },
          "metadata": {}
        },
        {
          "output_type": "stream",
          "name": "stdout",
          "text": [
            "[784, 64, 64, 64, 64, 64, 10]\n",
            "Epoch 1, Loss: 0.17418812390939753, Validation Loss: 0.1744361786993146\n",
            "Epoch 2, Loss: 0.17981481481481482, Validation Loss: 0.18166666666666667\n",
            "Epoch 3, Loss: 0.17981481481481482, Validation Loss: 0.18166666666666667\n",
            "Epoch 4, Loss: 0.17981481481481482, Validation Loss: 0.18166666666666667\n",
            "Epoch 5, Loss: 0.17981481481481482, Validation Loss: 0.18166666666666667\n",
            "Epoch 6, Loss: 0.17981481481481482, Validation Loss: 0.18166666666666667\n",
            "Epoch 7, Loss: 0.17981481481481482, Validation Loss: 0.18166666666666667\n",
            "Epoch 8, Loss: 0.17981481481481482, Validation Loss: 0.18166666666666667\n",
            "Epoch 9, Loss: 0.17981481481481482, Validation Loss: 0.18166666666666667\n",
            "Epoch 10, Loss: 0.17981481481481482, Validation Loss: 0.18166666666666667\n"
          ]
        },
        {
          "output_type": "display_data",
          "data": {
            "text/plain": [
              "<IPython.core.display.HTML object>"
            ],
            "text/html": []
          },
          "metadata": {}
        },
        {
          "output_type": "display_data",
          "data": {
            "text/plain": [
              "<IPython.core.display.HTML object>"
            ],
            "text/html": [
              "<br>    <style><br>        .wandb-row {<br>            display: flex;<br>            flex-direction: row;<br>            flex-wrap: wrap;<br>            justify-content: flex-start;<br>            width: 100%;<br>        }<br>        .wandb-col {<br>            display: flex;<br>            flex-direction: column;<br>            flex-basis: 100%;<br>            flex: 1;<br>            padding: 10px;<br>        }<br>    </style><br><div class=\"wandb-row\"><div class=\"wandb-col\"><h3>Run history:</h3><br/><table class=\"wandb\"><tr><td>epoch</td><td>▁▂▃▃▄▅▆▆▇█</td></tr><tr><td>train_accuracy</td><td>▁█████████</td></tr><tr><td>train_loss</td><td>▁█████████</td></tr><tr><td>val_accuracy</td><td>█▁▁▁▁▁▁▁▁▁</td></tr><tr><td>val_loss</td><td>▁█████████</td></tr></table><br/></div><div class=\"wandb-col\"><h3>Run summary:</h3><br/><table class=\"wandb\"><tr><td>epoch</td><td>10</td></tr><tr><td>train_accuracy</td><td>10.09259</td></tr><tr><td>train_loss</td><td>0.17981</td></tr><tr><td>val_accuracy</td><td>9.16667</td></tr><tr><td>val_loss</td><td>0.18167</td></tr></table><br/></div></div>"
            ]
          },
          "metadata": {}
        },
        {
          "output_type": "display_data",
          "data": {
            "text/plain": [
              "<IPython.core.display.HTML object>"
            ],
            "text/html": [
              " View run <strong style=\"color:#cdcd00\">ac-relu_hs-64_epc-10_nl-5_lr0.0001_wd-0_opt-nag_bs-64_wi-Xavier_loss-<function mse_loss at 0x7c4fe51c8ae0></strong> at: <a href='https://wandb.ai/bgorai005-iit-madras/deep_learning_assignment_1/runs/raaek1if' target=\"_blank\">https://wandb.ai/bgorai005-iit-madras/deep_learning_assignment_1/runs/raaek1if</a><br> View project at: <a href='https://wandb.ai/bgorai005-iit-madras/deep_learning_assignment_1' target=\"_blank\">https://wandb.ai/bgorai005-iit-madras/deep_learning_assignment_1</a><br>Synced 5 W&B file(s), 0 media file(s), 0 artifact file(s) and 0 other file(s)"
            ]
          },
          "metadata": {}
        },
        {
          "output_type": "display_data",
          "data": {
            "text/plain": [
              "<IPython.core.display.HTML object>"
            ],
            "text/html": [
              "Find logs at: <code>./wandb/run-20250316_195551-raaek1if/logs</code>"
            ]
          },
          "metadata": {}
        },
        {
          "output_type": "stream",
          "name": "stderr",
          "text": [
            "\u001b[34m\u001b[1mwandb\u001b[0m: Agent Starting Run: 1cuztfn5 with config:\n",
            "\u001b[34m\u001b[1mwandb\u001b[0m: \tactivation_hidden: sigmoid\n",
            "\u001b[34m\u001b[1mwandb\u001b[0m: \tactivation_output: softmax\n",
            "\u001b[34m\u001b[1mwandb\u001b[0m: \tbatch_size: 32\n",
            "\u001b[34m\u001b[1mwandb\u001b[0m: \tepochs: 5\n",
            "\u001b[34m\u001b[1mwandb\u001b[0m: \thidden_size: 64\n",
            "\u001b[34m\u001b[1mwandb\u001b[0m: \tlearning_rate: 0.001\n",
            "\u001b[34m\u001b[1mwandb\u001b[0m: \tnum_layers: 5\n",
            "\u001b[34m\u001b[1mwandb\u001b[0m: \toptimizer: nadam\n",
            "\u001b[34m\u001b[1mwandb\u001b[0m: \tweight_decay: 0\n",
            "\u001b[34m\u001b[1mwandb\u001b[0m: \tweight_ini_method: random\n"
          ]
        },
        {
          "output_type": "display_data",
          "data": {
            "text/plain": [
              "<IPython.core.display.HTML object>"
            ],
            "text/html": [
              "Tracking run with wandb version 0.19.8"
            ]
          },
          "metadata": {}
        },
        {
          "output_type": "display_data",
          "data": {
            "text/plain": [
              "<IPython.core.display.HTML object>"
            ],
            "text/html": [
              "Run data is saved locally in <code>/content/wandb/run-20250316_195657-1cuztfn5</code>"
            ]
          },
          "metadata": {}
        },
        {
          "output_type": "display_data",
          "data": {
            "text/plain": [
              "<IPython.core.display.HTML object>"
            ],
            "text/html": [
              "Syncing run <strong><a href='https://wandb.ai/bgorai005-iit-madras/deep_learning_assignment_1/runs/1cuztfn5' target=\"_blank\">electric-sweep-33</a></strong> to <a href='https://wandb.ai/bgorai005-iit-madras/deep_learning_assignment_1' target=\"_blank\">Weights & Biases</a> (<a href='https://wandb.me/developer-guide' target=\"_blank\">docs</a>)<br>Sweep page: <a href='https://wandb.ai/bgorai005-iit-madras/deep_learning_assignment_1/sweeps/4uv2tuxd' target=\"_blank\">https://wandb.ai/bgorai005-iit-madras/deep_learning_assignment_1/sweeps/4uv2tuxd</a>"
            ]
          },
          "metadata": {}
        },
        {
          "output_type": "display_data",
          "data": {
            "text/plain": [
              "<IPython.core.display.HTML object>"
            ],
            "text/html": [
              " View project at <a href='https://wandb.ai/bgorai005-iit-madras/deep_learning_assignment_1' target=\"_blank\">https://wandb.ai/bgorai005-iit-madras/deep_learning_assignment_1</a>"
            ]
          },
          "metadata": {}
        },
        {
          "output_type": "display_data",
          "data": {
            "text/plain": [
              "<IPython.core.display.HTML object>"
            ],
            "text/html": [
              " View sweep at <a href='https://wandb.ai/bgorai005-iit-madras/deep_learning_assignment_1/sweeps/4uv2tuxd' target=\"_blank\">https://wandb.ai/bgorai005-iit-madras/deep_learning_assignment_1/sweeps/4uv2tuxd</a>"
            ]
          },
          "metadata": {}
        },
        {
          "output_type": "display_data",
          "data": {
            "text/plain": [
              "<IPython.core.display.HTML object>"
            ],
            "text/html": [
              " View run at <a href='https://wandb.ai/bgorai005-iit-madras/deep_learning_assignment_1/runs/1cuztfn5' target=\"_blank\">https://wandb.ai/bgorai005-iit-madras/deep_learning_assignment_1/runs/1cuztfn5</a>"
            ]
          },
          "metadata": {}
        },
        {
          "output_type": "stream",
          "name": "stdout",
          "text": [
            "[784, 64, 64, 64, 64, 64, 10]\n",
            "Epoch 1, Loss: 0.029152374137364132, Validation Loss: 0.03065409431538153\n",
            "Epoch 2, Loss: 0.025118638407262563, Validation Loss: 0.02662591755679028\n",
            "Epoch 3, Loss: 0.023850667878855796, Validation Loss: 0.025744958037881897\n",
            "Epoch 4, Loss: 0.02230232562462303, Validation Loss: 0.02408998640684703\n",
            "Epoch 5, Loss: 0.021455543526483153, Validation Loss: 0.02385407162300224\n"
          ]
        },
        {
          "output_type": "display_data",
          "data": {
            "text/plain": [
              "<IPython.core.display.HTML object>"
            ],
            "text/html": []
          },
          "metadata": {}
        },
        {
          "output_type": "display_data",
          "data": {
            "text/plain": [
              "<IPython.core.display.HTML object>"
            ],
            "text/html": [
              "<br>    <style><br>        .wandb-row {<br>            display: flex;<br>            flex-direction: row;<br>            flex-wrap: wrap;<br>            justify-content: flex-start;<br>            width: 100%;<br>        }<br>        .wandb-col {<br>            display: flex;<br>            flex-direction: column;<br>            flex-basis: 100%;<br>            flex: 1;<br>            padding: 10px;<br>        }<br>    </style><br><div class=\"wandb-row\"><div class=\"wandb-col\"><h3>Run history:</h3><br/><table class=\"wandb\"><tr><td>epoch</td><td>▁▃▅▆█</td></tr><tr><td>train_accuracy</td><td>▁▅▆▇█</td></tr><tr><td>train_loss</td><td>█▄▃▂▁</td></tr><tr><td>val_accuracy</td><td>▁▅▆██</td></tr><tr><td>val_loss</td><td>█▄▃▁▁</td></tr></table><br/></div><div class=\"wandb-col\"><h3>Run summary:</h3><br/><table class=\"wandb\"><tr><td>epoch</td><td>5</td></tr><tr><td>train_accuracy</td><td>85.10741</td></tr><tr><td>train_loss</td><td>0.02146</td></tr><tr><td>val_accuracy</td><td>82.98333</td></tr><tr><td>val_loss</td><td>0.02385</td></tr></table><br/></div></div>"
            ]
          },
          "metadata": {}
        },
        {
          "output_type": "display_data",
          "data": {
            "text/plain": [
              "<IPython.core.display.HTML object>"
            ],
            "text/html": [
              " View run <strong style=\"color:#cdcd00\">ac-sigmoid_hs-64_epc-5_nl-5_lr0.001_wd-0_opt-nadam_bs-32_wi-random_loss-<function mse_loss at 0x7c4fe51c8ae0></strong> at: <a href='https://wandb.ai/bgorai005-iit-madras/deep_learning_assignment_1/runs/1cuztfn5' target=\"_blank\">https://wandb.ai/bgorai005-iit-madras/deep_learning_assignment_1/runs/1cuztfn5</a><br> View project at: <a href='https://wandb.ai/bgorai005-iit-madras/deep_learning_assignment_1' target=\"_blank\">https://wandb.ai/bgorai005-iit-madras/deep_learning_assignment_1</a><br>Synced 5 W&B file(s), 0 media file(s), 0 artifact file(s) and 0 other file(s)"
            ]
          },
          "metadata": {}
        },
        {
          "output_type": "display_data",
          "data": {
            "text/plain": [
              "<IPython.core.display.HTML object>"
            ],
            "text/html": [
              "Find logs at: <code>./wandb/run-20250316_195657-1cuztfn5/logs</code>"
            ]
          },
          "metadata": {}
        },
        {
          "output_type": "stream",
          "name": "stderr",
          "text": [
            "\u001b[34m\u001b[1mwandb\u001b[0m: Agent Starting Run: mzdedk42 with config:\n",
            "\u001b[34m\u001b[1mwandb\u001b[0m: \tactivation_hidden: relu\n",
            "\u001b[34m\u001b[1mwandb\u001b[0m: \tactivation_output: softmax\n",
            "\u001b[34m\u001b[1mwandb\u001b[0m: \tbatch_size: 64\n",
            "\u001b[34m\u001b[1mwandb\u001b[0m: \tepochs: 5\n",
            "\u001b[34m\u001b[1mwandb\u001b[0m: \thidden_size: 64\n",
            "\u001b[34m\u001b[1mwandb\u001b[0m: \tlearning_rate: 0.0001\n",
            "\u001b[34m\u001b[1mwandb\u001b[0m: \tnum_layers: 4\n",
            "\u001b[34m\u001b[1mwandb\u001b[0m: \toptimizer: adam\n",
            "\u001b[34m\u001b[1mwandb\u001b[0m: \tweight_decay: 0\n",
            "\u001b[34m\u001b[1mwandb\u001b[0m: \tweight_ini_method: random\n"
          ]
        },
        {
          "output_type": "display_data",
          "data": {
            "text/plain": [
              "<IPython.core.display.HTML object>"
            ],
            "text/html": [
              "Tracking run with wandb version 0.19.8"
            ]
          },
          "metadata": {}
        },
        {
          "output_type": "display_data",
          "data": {
            "text/plain": [
              "<IPython.core.display.HTML object>"
            ],
            "text/html": [
              "Run data is saved locally in <code>/content/wandb/run-20250316_195803-mzdedk42</code>"
            ]
          },
          "metadata": {}
        },
        {
          "output_type": "display_data",
          "data": {
            "text/plain": [
              "<IPython.core.display.HTML object>"
            ],
            "text/html": [
              "Syncing run <strong><a href='https://wandb.ai/bgorai005-iit-madras/deep_learning_assignment_1/runs/mzdedk42' target=\"_blank\">toasty-sweep-34</a></strong> to <a href='https://wandb.ai/bgorai005-iit-madras/deep_learning_assignment_1' target=\"_blank\">Weights & Biases</a> (<a href='https://wandb.me/developer-guide' target=\"_blank\">docs</a>)<br>Sweep page: <a href='https://wandb.ai/bgorai005-iit-madras/deep_learning_assignment_1/sweeps/4uv2tuxd' target=\"_blank\">https://wandb.ai/bgorai005-iit-madras/deep_learning_assignment_1/sweeps/4uv2tuxd</a>"
            ]
          },
          "metadata": {}
        },
        {
          "output_type": "display_data",
          "data": {
            "text/plain": [
              "<IPython.core.display.HTML object>"
            ],
            "text/html": [
              " View project at <a href='https://wandb.ai/bgorai005-iit-madras/deep_learning_assignment_1' target=\"_blank\">https://wandb.ai/bgorai005-iit-madras/deep_learning_assignment_1</a>"
            ]
          },
          "metadata": {}
        },
        {
          "output_type": "display_data",
          "data": {
            "text/plain": [
              "<IPython.core.display.HTML object>"
            ],
            "text/html": [
              " View sweep at <a href='https://wandb.ai/bgorai005-iit-madras/deep_learning_assignment_1/sweeps/4uv2tuxd' target=\"_blank\">https://wandb.ai/bgorai005-iit-madras/deep_learning_assignment_1/sweeps/4uv2tuxd</a>"
            ]
          },
          "metadata": {}
        },
        {
          "output_type": "display_data",
          "data": {
            "text/plain": [
              "<IPython.core.display.HTML object>"
            ],
            "text/html": [
              " View run at <a href='https://wandb.ai/bgorai005-iit-madras/deep_learning_assignment_1/runs/mzdedk42' target=\"_blank\">https://wandb.ai/bgorai005-iit-madras/deep_learning_assignment_1/runs/mzdedk42</a>"
            ]
          },
          "metadata": {}
        },
        {
          "output_type": "stream",
          "name": "stdout",
          "text": [
            "[784, 64, 64, 64, 64, 10]\n",
            "Epoch 1, Train Loss: 0.18278991958297755, Val Loss: 0.1826746325649691\n",
            "Epoch 2, Train Loss: 0.17812787125555088, Val Loss: 0.1773611154629724\n",
            "Epoch 3, Train Loss: 0.1760423039808829, Val Loss: 0.1747577468406108\n",
            "Epoch 4, Train Loss: 0.17357299373123222, Val Loss: 0.17217368745285228\n",
            "Epoch 5, Train Loss: 0.17187822215369614, Val Loss: 0.17029188431685252\n"
          ]
        },
        {
          "output_type": "display_data",
          "data": {
            "text/plain": [
              "<IPython.core.display.HTML object>"
            ],
            "text/html": []
          },
          "metadata": {}
        },
        {
          "output_type": "display_data",
          "data": {
            "text/plain": [
              "<IPython.core.display.HTML object>"
            ],
            "text/html": [
              "<br>    <style><br>        .wandb-row {<br>            display: flex;<br>            flex-direction: row;<br>            flex-wrap: wrap;<br>            justify-content: flex-start;<br>            width: 100%;<br>        }<br>        .wandb-col {<br>            display: flex;<br>            flex-direction: column;<br>            flex-basis: 100%;<br>            flex: 1;<br>            padding: 10px;<br>        }<br>    </style><br><div class=\"wandb-row\"><div class=\"wandb-col\"><h3>Run history:</h3><br/><table class=\"wandb\"><tr><td>epoch</td><td>▁▃▅▆█</td></tr><tr><td>train_accuracy</td><td>▁▄▅▇█</td></tr><tr><td>train_loss</td><td>█▅▄▂▁</td></tr><tr><td>val_accuracy</td><td>▁▄▅▇█</td></tr><tr><td>val_loss</td><td>█▅▄▂▁</td></tr></table><br/></div><div class=\"wandb-col\"><h3>Run summary:</h3><br/><table class=\"wandb\"><tr><td>epoch</td><td>5</td></tr><tr><td>train_accuracy</td><td>14.03519</td></tr><tr><td>train_loss</td><td>0.17188</td></tr><tr><td>val_accuracy</td><td>14.83333</td></tr><tr><td>val_loss</td><td>0.17029</td></tr></table><br/></div></div>"
            ]
          },
          "metadata": {}
        },
        {
          "output_type": "display_data",
          "data": {
            "text/plain": [
              "<IPython.core.display.HTML object>"
            ],
            "text/html": [
              " View run <strong style=\"color:#cdcd00\">ac-relu_hs-64_epc-5_nl-4_lr0.0001_wd-0_opt-adam_bs-64_wi-random_loss-<function mse_loss at 0x7c4fe51c8ae0></strong> at: <a href='https://wandb.ai/bgorai005-iit-madras/deep_learning_assignment_1/runs/mzdedk42' target=\"_blank\">https://wandb.ai/bgorai005-iit-madras/deep_learning_assignment_1/runs/mzdedk42</a><br> View project at: <a href='https://wandb.ai/bgorai005-iit-madras/deep_learning_assignment_1' target=\"_blank\">https://wandb.ai/bgorai005-iit-madras/deep_learning_assignment_1</a><br>Synced 5 W&B file(s), 0 media file(s), 0 artifact file(s) and 0 other file(s)"
            ]
          },
          "metadata": {}
        },
        {
          "output_type": "display_data",
          "data": {
            "text/plain": [
              "<IPython.core.display.HTML object>"
            ],
            "text/html": [
              "Find logs at: <code>./wandb/run-20250316_195803-mzdedk42/logs</code>"
            ]
          },
          "metadata": {}
        },
        {
          "output_type": "stream",
          "name": "stderr",
          "text": [
            "\u001b[34m\u001b[1mwandb\u001b[0m: Agent Starting Run: jjeebibn with config:\n",
            "\u001b[34m\u001b[1mwandb\u001b[0m: \tactivation_hidden: tanh\n",
            "\u001b[34m\u001b[1mwandb\u001b[0m: \tactivation_output: softmax\n",
            "\u001b[34m\u001b[1mwandb\u001b[0m: \tbatch_size: 32\n",
            "\u001b[34m\u001b[1mwandb\u001b[0m: \tepochs: 5\n",
            "\u001b[34m\u001b[1mwandb\u001b[0m: \thidden_size: 64\n",
            "\u001b[34m\u001b[1mwandb\u001b[0m: \tlearning_rate: 0.0001\n",
            "\u001b[34m\u001b[1mwandb\u001b[0m: \tnum_layers: 4\n",
            "\u001b[34m\u001b[1mwandb\u001b[0m: \toptimizer: nadam\n",
            "\u001b[34m\u001b[1mwandb\u001b[0m: \tweight_decay: 0\n",
            "\u001b[34m\u001b[1mwandb\u001b[0m: \tweight_ini_method: Xavier\n"
          ]
        },
        {
          "output_type": "display_data",
          "data": {
            "text/plain": [
              "<IPython.core.display.HTML object>"
            ],
            "text/html": [
              "Tracking run with wandb version 0.19.8"
            ]
          },
          "metadata": {}
        },
        {
          "output_type": "display_data",
          "data": {
            "text/plain": [
              "<IPython.core.display.HTML object>"
            ],
            "text/html": [
              "Run data is saved locally in <code>/content/wandb/run-20250316_195840-jjeebibn</code>"
            ]
          },
          "metadata": {}
        },
        {
          "output_type": "display_data",
          "data": {
            "text/plain": [
              "<IPython.core.display.HTML object>"
            ],
            "text/html": [
              "Syncing run <strong><a href='https://wandb.ai/bgorai005-iit-madras/deep_learning_assignment_1/runs/jjeebibn' target=\"_blank\">efficient-sweep-35</a></strong> to <a href='https://wandb.ai/bgorai005-iit-madras/deep_learning_assignment_1' target=\"_blank\">Weights & Biases</a> (<a href='https://wandb.me/developer-guide' target=\"_blank\">docs</a>)<br>Sweep page: <a href='https://wandb.ai/bgorai005-iit-madras/deep_learning_assignment_1/sweeps/4uv2tuxd' target=\"_blank\">https://wandb.ai/bgorai005-iit-madras/deep_learning_assignment_1/sweeps/4uv2tuxd</a>"
            ]
          },
          "metadata": {}
        },
        {
          "output_type": "display_data",
          "data": {
            "text/plain": [
              "<IPython.core.display.HTML object>"
            ],
            "text/html": [
              " View project at <a href='https://wandb.ai/bgorai005-iit-madras/deep_learning_assignment_1' target=\"_blank\">https://wandb.ai/bgorai005-iit-madras/deep_learning_assignment_1</a>"
            ]
          },
          "metadata": {}
        },
        {
          "output_type": "display_data",
          "data": {
            "text/plain": [
              "<IPython.core.display.HTML object>"
            ],
            "text/html": [
              " View sweep at <a href='https://wandb.ai/bgorai005-iit-madras/deep_learning_assignment_1/sweeps/4uv2tuxd' target=\"_blank\">https://wandb.ai/bgorai005-iit-madras/deep_learning_assignment_1/sweeps/4uv2tuxd</a>"
            ]
          },
          "metadata": {}
        },
        {
          "output_type": "display_data",
          "data": {
            "text/plain": [
              "<IPython.core.display.HTML object>"
            ],
            "text/html": [
              " View run at <a href='https://wandb.ai/bgorai005-iit-madras/deep_learning_assignment_1/runs/jjeebibn' target=\"_blank\">https://wandb.ai/bgorai005-iit-madras/deep_learning_assignment_1/runs/jjeebibn</a>"
            ]
          },
          "metadata": {}
        },
        {
          "output_type": "stream",
          "name": "stdout",
          "text": [
            "[784, 64, 64, 64, 64, 10]\n",
            "Epoch 1, Loss: 0.023619735169834864, Validation Loss: 0.024386115828678275\n",
            "Epoch 2, Loss: 0.020943033241913475, Validation Loss: 0.02201628945196969\n",
            "Epoch 3, Loss: 0.019666774414413203, Validation Loss: 0.020929251358040874\n",
            "Epoch 4, Loss: 0.01883408637543159, Validation Loss: 0.020145471912562645\n",
            "Epoch 5, Loss: 0.018122102131878485, Validation Loss: 0.019577195236645716\n"
          ]
        },
        {
          "output_type": "display_data",
          "data": {
            "text/plain": [
              "<IPython.core.display.HTML object>"
            ],
            "text/html": []
          },
          "metadata": {}
        },
        {
          "output_type": "display_data",
          "data": {
            "text/plain": [
              "<IPython.core.display.HTML object>"
            ],
            "text/html": [
              "<br>    <style><br>        .wandb-row {<br>            display: flex;<br>            flex-direction: row;<br>            flex-wrap: wrap;<br>            justify-content: flex-start;<br>            width: 100%;<br>        }<br>        .wandb-col {<br>            display: flex;<br>            flex-direction: column;<br>            flex-basis: 100%;<br>            flex: 1;<br>            padding: 10px;<br>        }<br>    </style><br><div class=\"wandb-row\"><div class=\"wandb-col\"><h3>Run history:</h3><br/><table class=\"wandb\"><tr><td>epoch</td><td>▁▃▅▆█</td></tr><tr><td>train_accuracy</td><td>▁▄▆▇█</td></tr><tr><td>train_loss</td><td>█▅▃▂▁</td></tr><tr><td>val_accuracy</td><td>▁▅▆▇█</td></tr><tr><td>val_loss</td><td>█▅▃▂▁</td></tr></table><br/></div><div class=\"wandb-col\"><h3>Run summary:</h3><br/><table class=\"wandb\"><tr><td>epoch</td><td>5</td></tr><tr><td>train_accuracy</td><td>87.65556</td></tr><tr><td>train_loss</td><td>0.01812</td></tr><tr><td>val_accuracy</td><td>86.41667</td></tr><tr><td>val_loss</td><td>0.01958</td></tr></table><br/></div></div>"
            ]
          },
          "metadata": {}
        },
        {
          "output_type": "display_data",
          "data": {
            "text/plain": [
              "<IPython.core.display.HTML object>"
            ],
            "text/html": [
              " View run <strong style=\"color:#cdcd00\">ac-tanh_hs-64_epc-5_nl-4_lr0.0001_wd-0_opt-nadam_bs-32_wi-Xavier_loss-<function mse_loss at 0x7c4fe51c8ae0></strong> at: <a href='https://wandb.ai/bgorai005-iit-madras/deep_learning_assignment_1/runs/jjeebibn' target=\"_blank\">https://wandb.ai/bgorai005-iit-madras/deep_learning_assignment_1/runs/jjeebibn</a><br> View project at: <a href='https://wandb.ai/bgorai005-iit-madras/deep_learning_assignment_1' target=\"_blank\">https://wandb.ai/bgorai005-iit-madras/deep_learning_assignment_1</a><br>Synced 5 W&B file(s), 0 media file(s), 0 artifact file(s) and 0 other file(s)"
            ]
          },
          "metadata": {}
        },
        {
          "output_type": "display_data",
          "data": {
            "text/plain": [
              "<IPython.core.display.HTML object>"
            ],
            "text/html": [
              "Find logs at: <code>./wandb/run-20250316_195840-jjeebibn/logs</code>"
            ]
          },
          "metadata": {}
        },
        {
          "output_type": "stream",
          "name": "stderr",
          "text": [
            "\u001b[34m\u001b[1mwandb\u001b[0m: Agent Starting Run: 56k6cmqe with config:\n",
            "\u001b[34m\u001b[1mwandb\u001b[0m: \tactivation_hidden: tanh\n",
            "\u001b[34m\u001b[1mwandb\u001b[0m: \tactivation_output: softmax\n",
            "\u001b[34m\u001b[1mwandb\u001b[0m: \tbatch_size: 64\n",
            "\u001b[34m\u001b[1mwandb\u001b[0m: \tepochs: 5\n",
            "\u001b[34m\u001b[1mwandb\u001b[0m: \thidden_size: 64\n",
            "\u001b[34m\u001b[1mwandb\u001b[0m: \tlearning_rate: 0.001\n",
            "\u001b[34m\u001b[1mwandb\u001b[0m: \tnum_layers: 4\n",
            "\u001b[34m\u001b[1mwandb\u001b[0m: \toptimizer: nag\n",
            "\u001b[34m\u001b[1mwandb\u001b[0m: \tweight_decay: 0\n",
            "\u001b[34m\u001b[1mwandb\u001b[0m: \tweight_ini_method: Xavier\n"
          ]
        },
        {
          "output_type": "display_data",
          "data": {
            "text/plain": [
              "<IPython.core.display.HTML object>"
            ],
            "text/html": [
              "Tracking run with wandb version 0.19.8"
            ]
          },
          "metadata": {}
        },
        {
          "output_type": "display_data",
          "data": {
            "text/plain": [
              "<IPython.core.display.HTML object>"
            ],
            "text/html": [
              "Run data is saved locally in <code>/content/wandb/run-20250316_195951-56k6cmqe</code>"
            ]
          },
          "metadata": {}
        },
        {
          "output_type": "display_data",
          "data": {
            "text/plain": [
              "<IPython.core.display.HTML object>"
            ],
            "text/html": [
              "Syncing run <strong><a href='https://wandb.ai/bgorai005-iit-madras/deep_learning_assignment_1/runs/56k6cmqe' target=\"_blank\">eager-sweep-36</a></strong> to <a href='https://wandb.ai/bgorai005-iit-madras/deep_learning_assignment_1' target=\"_blank\">Weights & Biases</a> (<a href='https://wandb.me/developer-guide' target=\"_blank\">docs</a>)<br>Sweep page: <a href='https://wandb.ai/bgorai005-iit-madras/deep_learning_assignment_1/sweeps/4uv2tuxd' target=\"_blank\">https://wandb.ai/bgorai005-iit-madras/deep_learning_assignment_1/sweeps/4uv2tuxd</a>"
            ]
          },
          "metadata": {}
        },
        {
          "output_type": "display_data",
          "data": {
            "text/plain": [
              "<IPython.core.display.HTML object>"
            ],
            "text/html": [
              " View project at <a href='https://wandb.ai/bgorai005-iit-madras/deep_learning_assignment_1' target=\"_blank\">https://wandb.ai/bgorai005-iit-madras/deep_learning_assignment_1</a>"
            ]
          },
          "metadata": {}
        },
        {
          "output_type": "display_data",
          "data": {
            "text/plain": [
              "<IPython.core.display.HTML object>"
            ],
            "text/html": [
              " View sweep at <a href='https://wandb.ai/bgorai005-iit-madras/deep_learning_assignment_1/sweeps/4uv2tuxd' target=\"_blank\">https://wandb.ai/bgorai005-iit-madras/deep_learning_assignment_1/sweeps/4uv2tuxd</a>"
            ]
          },
          "metadata": {}
        },
        {
          "output_type": "display_data",
          "data": {
            "text/plain": [
              "<IPython.core.display.HTML object>"
            ],
            "text/html": [
              " View run at <a href='https://wandb.ai/bgorai005-iit-madras/deep_learning_assignment_1/runs/56k6cmqe' target=\"_blank\">https://wandb.ai/bgorai005-iit-madras/deep_learning_assignment_1/runs/56k6cmqe</a>"
            ]
          },
          "metadata": {}
        },
        {
          "output_type": "stream",
          "name": "stdout",
          "text": [
            "[784, 64, 64, 64, 64, 10]\n",
            "Epoch 1, Loss: 0.15867599271173113, Validation Loss: 0.15908894800784498\n",
            "Epoch 2, Loss: 0.17006909469413173, Validation Loss: 0.16987730032587461\n",
            "Epoch 3, Loss: 0.1763948011497918, Validation Loss: 0.17611296916927047\n",
            "Epoch 4, Loss: 0.12622559547186724, Validation Loss: 0.12732528718381333\n",
            "Epoch 5, Loss: 0.1768447889081428, Validation Loss: 0.1761514890120473\n"
          ]
        },
        {
          "output_type": "display_data",
          "data": {
            "text/plain": [
              "<IPython.core.display.HTML object>"
            ],
            "text/html": []
          },
          "metadata": {}
        },
        {
          "output_type": "display_data",
          "data": {
            "text/plain": [
              "<IPython.core.display.HTML object>"
            ],
            "text/html": [
              "<br>    <style><br>        .wandb-row {<br>            display: flex;<br>            flex-direction: row;<br>            flex-wrap: wrap;<br>            justify-content: flex-start;<br>            width: 100%;<br>        }<br>        .wandb-col {<br>            display: flex;<br>            flex-direction: column;<br>            flex-basis: 100%;<br>            flex: 1;<br>            padding: 10px;<br>        }<br>    </style><br><div class=\"wandb-row\"><div class=\"wandb-col\"><h3>Run history:</h3><br/><table class=\"wandb\"><tr><td>epoch</td><td>▁▃▅▆█</td></tr><tr><td>train_accuracy</td><td>▄▂▂█▁</td></tr><tr><td>train_loss</td><td>▅▇█▁█</td></tr><tr><td>val_accuracy</td><td>▅▇▇▁█</td></tr><tr><td>val_loss</td><td>▆▇█▁█</td></tr></table><br/></div><div class=\"wandb-col\"><h3>Run summary:</h3><br/><table class=\"wandb\"><tr><td>epoch</td><td>5</td></tr><tr><td>train_accuracy</td><td>9.96481</td></tr><tr><td>train_loss</td><td>0.17684</td></tr><tr><td>val_accuracy</td><td>10.31667</td></tr><tr><td>val_loss</td><td>0.17615</td></tr></table><br/></div></div>"
            ]
          },
          "metadata": {}
        },
        {
          "output_type": "display_data",
          "data": {
            "text/plain": [
              "<IPython.core.display.HTML object>"
            ],
            "text/html": [
              " View run <strong style=\"color:#cdcd00\">ac-tanh_hs-64_epc-5_nl-4_lr0.001_wd-0_opt-nag_bs-64_wi-Xavier_loss-<function mse_loss at 0x7c4fe51c8ae0></strong> at: <a href='https://wandb.ai/bgorai005-iit-madras/deep_learning_assignment_1/runs/56k6cmqe' target=\"_blank\">https://wandb.ai/bgorai005-iit-madras/deep_learning_assignment_1/runs/56k6cmqe</a><br> View project at: <a href='https://wandb.ai/bgorai005-iit-madras/deep_learning_assignment_1' target=\"_blank\">https://wandb.ai/bgorai005-iit-madras/deep_learning_assignment_1</a><br>Synced 5 W&B file(s), 0 media file(s), 0 artifact file(s) and 0 other file(s)"
            ]
          },
          "metadata": {}
        },
        {
          "output_type": "display_data",
          "data": {
            "text/plain": [
              "<IPython.core.display.HTML object>"
            ],
            "text/html": [
              "Find logs at: <code>./wandb/run-20250316_195951-56k6cmqe/logs</code>"
            ]
          },
          "metadata": {}
        },
        {
          "output_type": "stream",
          "name": "stderr",
          "text": [
            "\u001b[34m\u001b[1mwandb\u001b[0m: Agent Starting Run: pxe7pqpp with config:\n",
            "\u001b[34m\u001b[1mwandb\u001b[0m: \tactivation_hidden: tanh\n",
            "\u001b[34m\u001b[1mwandb\u001b[0m: \tactivation_output: softmax\n",
            "\u001b[34m\u001b[1mwandb\u001b[0m: \tbatch_size: 16\n",
            "\u001b[34m\u001b[1mwandb\u001b[0m: \tepochs: 10\n",
            "\u001b[34m\u001b[1mwandb\u001b[0m: \thidden_size: 32\n",
            "\u001b[34m\u001b[1mwandb\u001b[0m: \tlearning_rate: 0.0001\n",
            "\u001b[34m\u001b[1mwandb\u001b[0m: \tnum_layers: 3\n",
            "\u001b[34m\u001b[1mwandb\u001b[0m: \toptimizer: nadam\n",
            "\u001b[34m\u001b[1mwandb\u001b[0m: \tweight_decay: 0\n",
            "\u001b[34m\u001b[1mwandb\u001b[0m: \tweight_ini_method: Xavier\n"
          ]
        },
        {
          "output_type": "display_data",
          "data": {
            "text/plain": [
              "<IPython.core.display.HTML object>"
            ],
            "text/html": [
              "Tracking run with wandb version 0.19.8"
            ]
          },
          "metadata": {}
        },
        {
          "output_type": "display_data",
          "data": {
            "text/plain": [
              "<IPython.core.display.HTML object>"
            ],
            "text/html": [
              "Run data is saved locally in <code>/content/wandb/run-20250316_200047-pxe7pqpp</code>"
            ]
          },
          "metadata": {}
        },
        {
          "output_type": "display_data",
          "data": {
            "text/plain": [
              "<IPython.core.display.HTML object>"
            ],
            "text/html": [
              "Syncing run <strong><a href='https://wandb.ai/bgorai005-iit-madras/deep_learning_assignment_1/runs/pxe7pqpp' target=\"_blank\">spring-sweep-37</a></strong> to <a href='https://wandb.ai/bgorai005-iit-madras/deep_learning_assignment_1' target=\"_blank\">Weights & Biases</a> (<a href='https://wandb.me/developer-guide' target=\"_blank\">docs</a>)<br>Sweep page: <a href='https://wandb.ai/bgorai005-iit-madras/deep_learning_assignment_1/sweeps/4uv2tuxd' target=\"_blank\">https://wandb.ai/bgorai005-iit-madras/deep_learning_assignment_1/sweeps/4uv2tuxd</a>"
            ]
          },
          "metadata": {}
        },
        {
          "output_type": "display_data",
          "data": {
            "text/plain": [
              "<IPython.core.display.HTML object>"
            ],
            "text/html": [
              " View project at <a href='https://wandb.ai/bgorai005-iit-madras/deep_learning_assignment_1' target=\"_blank\">https://wandb.ai/bgorai005-iit-madras/deep_learning_assignment_1</a>"
            ]
          },
          "metadata": {}
        },
        {
          "output_type": "display_data",
          "data": {
            "text/plain": [
              "<IPython.core.display.HTML object>"
            ],
            "text/html": [
              " View sweep at <a href='https://wandb.ai/bgorai005-iit-madras/deep_learning_assignment_1/sweeps/4uv2tuxd' target=\"_blank\">https://wandb.ai/bgorai005-iit-madras/deep_learning_assignment_1/sweeps/4uv2tuxd</a>"
            ]
          },
          "metadata": {}
        },
        {
          "output_type": "display_data",
          "data": {
            "text/plain": [
              "<IPython.core.display.HTML object>"
            ],
            "text/html": [
              " View run at <a href='https://wandb.ai/bgorai005-iit-madras/deep_learning_assignment_1/runs/pxe7pqpp' target=\"_blank\">https://wandb.ai/bgorai005-iit-madras/deep_learning_assignment_1/runs/pxe7pqpp</a>"
            ]
          },
          "metadata": {}
        },
        {
          "output_type": "stream",
          "name": "stdout",
          "text": [
            "[784, 32, 32, 32, 10]\n",
            "Epoch 1, Loss: 0.025669904608289974, Validation Loss: 0.02655198573508979\n",
            "Epoch 2, Loss: 0.022299655942851, Validation Loss: 0.023115965458238907\n",
            "Epoch 3, Loss: 0.02111553577552466, Validation Loss: 0.022001413468611744\n",
            "Epoch 4, Loss: 0.020175351705180276, Validation Loss: 0.021108707727357647\n",
            "Epoch 5, Loss: 0.019640602504216825, Validation Loss: 0.02061725546845419\n",
            "Epoch 6, Loss: 0.018997495634479892, Validation Loss: 0.02002893287125685\n",
            "Epoch 7, Loss: 0.01869112451391734, Validation Loss: 0.019734811664908303\n",
            "Epoch 8, Loss: 0.01821954797835832, Validation Loss: 0.019346396923471582\n",
            "Epoch 9, Loss: 0.017935433035874082, Validation Loss: 0.019101546048494122\n",
            "Epoch 10, Loss: 0.01789321986703145, Validation Loss: 0.019214048436352715\n"
          ]
        },
        {
          "output_type": "display_data",
          "data": {
            "text/plain": [
              "<IPython.core.display.HTML object>"
            ],
            "text/html": []
          },
          "metadata": {}
        },
        {
          "output_type": "display_data",
          "data": {
            "text/plain": [
              "<IPython.core.display.HTML object>"
            ],
            "text/html": [
              "<br>    <style><br>        .wandb-row {<br>            display: flex;<br>            flex-direction: row;<br>            flex-wrap: wrap;<br>            justify-content: flex-start;<br>            width: 100%;<br>        }<br>        .wandb-col {<br>            display: flex;<br>            flex-direction: column;<br>            flex-basis: 100%;<br>            flex: 1;<br>            padding: 10px;<br>        }<br>    </style><br><div class=\"wandb-row\"><div class=\"wandb-col\"><h3>Run history:</h3><br/><table class=\"wandb\"><tr><td>epoch</td><td>▁▂▃▃▄▅▆▆▇█</td></tr><tr><td>train_accuracy</td><td>▁▄▅▆▆▇▇███</td></tr><tr><td>train_loss</td><td>█▅▄▃▃▂▂▁▁▁</td></tr><tr><td>val_accuracy</td><td>▁▄▅▆▆▇▇██▇</td></tr><tr><td>val_loss</td><td>█▅▄▃▂▂▂▁▁▁</td></tr></table><br/></div><div class=\"wandb-col\"><h3>Run summary:</h3><br/><table class=\"wandb\"><tr><td>epoch</td><td>10</td></tr><tr><td>train_accuracy</td><td>87.77593</td></tr><tr><td>train_loss</td><td>0.01789</td></tr><tr><td>val_accuracy</td><td>86.51667</td></tr><tr><td>val_loss</td><td>0.01921</td></tr></table><br/></div></div>"
            ]
          },
          "metadata": {}
        },
        {
          "output_type": "display_data",
          "data": {
            "text/plain": [
              "<IPython.core.display.HTML object>"
            ],
            "text/html": [
              " View run <strong style=\"color:#cdcd00\">ac-tanh_hs-32_epc-10_nl-3_lr0.0001_wd-0_opt-nadam_bs-16_wi-Xavier_loss-<function mse_loss at 0x7c4fe51c8ae0></strong> at: <a href='https://wandb.ai/bgorai005-iit-madras/deep_learning_assignment_1/runs/pxe7pqpp' target=\"_blank\">https://wandb.ai/bgorai005-iit-madras/deep_learning_assignment_1/runs/pxe7pqpp</a><br> View project at: <a href='https://wandb.ai/bgorai005-iit-madras/deep_learning_assignment_1' target=\"_blank\">https://wandb.ai/bgorai005-iit-madras/deep_learning_assignment_1</a><br>Synced 5 W&B file(s), 0 media file(s), 0 artifact file(s) and 0 other file(s)"
            ]
          },
          "metadata": {}
        },
        {
          "output_type": "display_data",
          "data": {
            "text/plain": [
              "<IPython.core.display.HTML object>"
            ],
            "text/html": [
              "Find logs at: <code>./wandb/run-20250316_200047-pxe7pqpp/logs</code>"
            ]
          },
          "metadata": {}
        },
        {
          "output_type": "stream",
          "name": "stderr",
          "text": [
            "\u001b[34m\u001b[1mwandb\u001b[0m: Agent Starting Run: 2mmmenhj with config:\n",
            "\u001b[34m\u001b[1mwandb\u001b[0m: \tactivation_hidden: relu\n",
            "\u001b[34m\u001b[1mwandb\u001b[0m: \tactivation_output: softmax\n",
            "\u001b[34m\u001b[1mwandb\u001b[0m: \tbatch_size: 32\n",
            "\u001b[34m\u001b[1mwandb\u001b[0m: \tepochs: 5\n",
            "\u001b[34m\u001b[1mwandb\u001b[0m: \thidden_size: 64\n",
            "\u001b[34m\u001b[1mwandb\u001b[0m: \tlearning_rate: 0.0001\n",
            "\u001b[34m\u001b[1mwandb\u001b[0m: \tnum_layers: 5\n",
            "\u001b[34m\u001b[1mwandb\u001b[0m: \toptimizer: adam\n",
            "\u001b[34m\u001b[1mwandb\u001b[0m: \tweight_decay: 0\n",
            "\u001b[34m\u001b[1mwandb\u001b[0m: \tweight_ini_method: Xavier\n"
          ]
        },
        {
          "output_type": "display_data",
          "data": {
            "text/plain": [
              "<IPython.core.display.HTML object>"
            ],
            "text/html": [
              "Tracking run with wandb version 0.19.8"
            ]
          },
          "metadata": {}
        },
        {
          "output_type": "display_data",
          "data": {
            "text/plain": [
              "<IPython.core.display.HTML object>"
            ],
            "text/html": [
              "Run data is saved locally in <code>/content/wandb/run-20250316_200229-2mmmenhj</code>"
            ]
          },
          "metadata": {}
        },
        {
          "output_type": "display_data",
          "data": {
            "text/plain": [
              "<IPython.core.display.HTML object>"
            ],
            "text/html": [
              "Syncing run <strong><a href='https://wandb.ai/bgorai005-iit-madras/deep_learning_assignment_1/runs/2mmmenhj' target=\"_blank\">lilac-sweep-38</a></strong> to <a href='https://wandb.ai/bgorai005-iit-madras/deep_learning_assignment_1' target=\"_blank\">Weights & Biases</a> (<a href='https://wandb.me/developer-guide' target=\"_blank\">docs</a>)<br>Sweep page: <a href='https://wandb.ai/bgorai005-iit-madras/deep_learning_assignment_1/sweeps/4uv2tuxd' target=\"_blank\">https://wandb.ai/bgorai005-iit-madras/deep_learning_assignment_1/sweeps/4uv2tuxd</a>"
            ]
          },
          "metadata": {}
        },
        {
          "output_type": "display_data",
          "data": {
            "text/plain": [
              "<IPython.core.display.HTML object>"
            ],
            "text/html": [
              " View project at <a href='https://wandb.ai/bgorai005-iit-madras/deep_learning_assignment_1' target=\"_blank\">https://wandb.ai/bgorai005-iit-madras/deep_learning_assignment_1</a>"
            ]
          },
          "metadata": {}
        },
        {
          "output_type": "display_data",
          "data": {
            "text/plain": [
              "<IPython.core.display.HTML object>"
            ],
            "text/html": [
              " View sweep at <a href='https://wandb.ai/bgorai005-iit-madras/deep_learning_assignment_1/sweeps/4uv2tuxd' target=\"_blank\">https://wandb.ai/bgorai005-iit-madras/deep_learning_assignment_1/sweeps/4uv2tuxd</a>"
            ]
          },
          "metadata": {}
        },
        {
          "output_type": "display_data",
          "data": {
            "text/plain": [
              "<IPython.core.display.HTML object>"
            ],
            "text/html": [
              " View run at <a href='https://wandb.ai/bgorai005-iit-madras/deep_learning_assignment_1/runs/2mmmenhj' target=\"_blank\">https://wandb.ai/bgorai005-iit-madras/deep_learning_assignment_1/runs/2mmmenhj</a>"
            ]
          },
          "metadata": {}
        },
        {
          "output_type": "stream",
          "name": "stdout",
          "text": [
            "[784, 64, 64, 64, 64, 64, 10]\n",
            "Epoch 1, Train Loss: 0.024410146962794196, Val Loss: 0.025378729741367474\n",
            "Epoch 2, Train Loss: 0.02185496111643263, Val Loss: 0.023087092654649276\n",
            "Epoch 3, Train Loss: 0.020058716603279233, Val Loss: 0.021300000901947683\n",
            "Epoch 4, Train Loss: 0.01940112542648013, Val Loss: 0.020755013127771494\n",
            "Epoch 5, Train Loss: 0.01851590509165199, Val Loss: 0.01997980422290242\n"
          ]
        },
        {
          "output_type": "display_data",
          "data": {
            "text/plain": [
              "<IPython.core.display.HTML object>"
            ],
            "text/html": []
          },
          "metadata": {}
        },
        {
          "output_type": "display_data",
          "data": {
            "text/plain": [
              "<IPython.core.display.HTML object>"
            ],
            "text/html": [
              "<br>    <style><br>        .wandb-row {<br>            display: flex;<br>            flex-direction: row;<br>            flex-wrap: wrap;<br>            justify-content: flex-start;<br>            width: 100%;<br>        }<br>        .wandb-col {<br>            display: flex;<br>            flex-direction: column;<br>            flex-basis: 100%;<br>            flex: 1;<br>            padding: 10px;<br>        }<br>    </style><br><div class=\"wandb-row\"><div class=\"wandb-col\"><h3>Run history:</h3><br/><table class=\"wandb\"><tr><td>epoch</td><td>▁▃▅▆█</td></tr><tr><td>train_accuracy</td><td>▁▄▆▇█</td></tr><tr><td>train_loss</td><td>█▅▃▂▁</td></tr><tr><td>val_accuracy</td><td>▁▄▆▇█</td></tr><tr><td>val_loss</td><td>█▅▃▂▁</td></tr></table><br/></div><div class=\"wandb-col\"><h3>Run summary:</h3><br/><table class=\"wandb\"><tr><td>epoch</td><td>5</td></tr><tr><td>train_accuracy</td><td>87.36111</td></tr><tr><td>train_loss</td><td>0.01852</td></tr><tr><td>val_accuracy</td><td>86.46667</td></tr><tr><td>val_loss</td><td>0.01998</td></tr></table><br/></div></div>"
            ]
          },
          "metadata": {}
        },
        {
          "output_type": "display_data",
          "data": {
            "text/plain": [
              "<IPython.core.display.HTML object>"
            ],
            "text/html": [
              " View run <strong style=\"color:#cdcd00\">ac-relu_hs-64_epc-5_nl-5_lr0.0001_wd-0_opt-adam_bs-32_wi-Xavier_loss-<function mse_loss at 0x7c4fe51c8ae0></strong> at: <a href='https://wandb.ai/bgorai005-iit-madras/deep_learning_assignment_1/runs/2mmmenhj' target=\"_blank\">https://wandb.ai/bgorai005-iit-madras/deep_learning_assignment_1/runs/2mmmenhj</a><br> View project at: <a href='https://wandb.ai/bgorai005-iit-madras/deep_learning_assignment_1' target=\"_blank\">https://wandb.ai/bgorai005-iit-madras/deep_learning_assignment_1</a><br>Synced 5 W&B file(s), 0 media file(s), 0 artifact file(s) and 0 other file(s)"
            ]
          },
          "metadata": {}
        },
        {
          "output_type": "display_data",
          "data": {
            "text/plain": [
              "<IPython.core.display.HTML object>"
            ],
            "text/html": [
              "Find logs at: <code>./wandb/run-20250316_200229-2mmmenhj/logs</code>"
            ]
          },
          "metadata": {}
        },
        {
          "output_type": "stream",
          "name": "stderr",
          "text": [
            "\u001b[34m\u001b[1mwandb\u001b[0m: Agent Starting Run: mupy4on7 with config:\n",
            "\u001b[34m\u001b[1mwandb\u001b[0m: \tactivation_hidden: sigmoid\n",
            "\u001b[34m\u001b[1mwandb\u001b[0m: \tactivation_output: softmax\n",
            "\u001b[34m\u001b[1mwandb\u001b[0m: \tbatch_size: 64\n",
            "\u001b[34m\u001b[1mwandb\u001b[0m: \tepochs: 5\n",
            "\u001b[34m\u001b[1mwandb\u001b[0m: \thidden_size: 64\n",
            "\u001b[34m\u001b[1mwandb\u001b[0m: \tlearning_rate: 0.0001\n",
            "\u001b[34m\u001b[1mwandb\u001b[0m: \tnum_layers: 3\n",
            "\u001b[34m\u001b[1mwandb\u001b[0m: \toptimizer: RMSprop\n",
            "\u001b[34m\u001b[1mwandb\u001b[0m: \tweight_decay: 0\n",
            "\u001b[34m\u001b[1mwandb\u001b[0m: \tweight_ini_method: Xavier\n"
          ]
        },
        {
          "output_type": "display_data",
          "data": {
            "text/plain": [
              "<IPython.core.display.HTML object>"
            ],
            "text/html": [
              "Tracking run with wandb version 0.19.8"
            ]
          },
          "metadata": {}
        },
        {
          "output_type": "display_data",
          "data": {
            "text/plain": [
              "<IPython.core.display.HTML object>"
            ],
            "text/html": [
              "Run data is saved locally in <code>/content/wandb/run-20250316_200320-mupy4on7</code>"
            ]
          },
          "metadata": {}
        },
        {
          "output_type": "display_data",
          "data": {
            "text/plain": [
              "<IPython.core.display.HTML object>"
            ],
            "text/html": [
              "Syncing run <strong><a href='https://wandb.ai/bgorai005-iit-madras/deep_learning_assignment_1/runs/mupy4on7' target=\"_blank\">effortless-sweep-39</a></strong> to <a href='https://wandb.ai/bgorai005-iit-madras/deep_learning_assignment_1' target=\"_blank\">Weights & Biases</a> (<a href='https://wandb.me/developer-guide' target=\"_blank\">docs</a>)<br>Sweep page: <a href='https://wandb.ai/bgorai005-iit-madras/deep_learning_assignment_1/sweeps/4uv2tuxd' target=\"_blank\">https://wandb.ai/bgorai005-iit-madras/deep_learning_assignment_1/sweeps/4uv2tuxd</a>"
            ]
          },
          "metadata": {}
        },
        {
          "output_type": "display_data",
          "data": {
            "text/plain": [
              "<IPython.core.display.HTML object>"
            ],
            "text/html": [
              " View project at <a href='https://wandb.ai/bgorai005-iit-madras/deep_learning_assignment_1' target=\"_blank\">https://wandb.ai/bgorai005-iit-madras/deep_learning_assignment_1</a>"
            ]
          },
          "metadata": {}
        },
        {
          "output_type": "display_data",
          "data": {
            "text/plain": [
              "<IPython.core.display.HTML object>"
            ],
            "text/html": [
              " View sweep at <a href='https://wandb.ai/bgorai005-iit-madras/deep_learning_assignment_1/sweeps/4uv2tuxd' target=\"_blank\">https://wandb.ai/bgorai005-iit-madras/deep_learning_assignment_1/sweeps/4uv2tuxd</a>"
            ]
          },
          "metadata": {}
        },
        {
          "output_type": "display_data",
          "data": {
            "text/plain": [
              "<IPython.core.display.HTML object>"
            ],
            "text/html": [
              " View run at <a href='https://wandb.ai/bgorai005-iit-madras/deep_learning_assignment_1/runs/mupy4on7' target=\"_blank\">https://wandb.ai/bgorai005-iit-madras/deep_learning_assignment_1/runs/mupy4on7</a>"
            ]
          },
          "metadata": {}
        },
        {
          "output_type": "stream",
          "name": "stdout",
          "text": [
            "[784, 64, 64, 64, 10]\n",
            "Epoch 1, Loss: 0.0752, Val Loss: 0.0756, Train Acc: 46.25%, Val Acc: 45.43%\n",
            "Epoch 2, Loss: 0.0637, Val Loss: 0.0642, Train Acc: 57.54%, Val Acc: 56.50%\n",
            "Epoch 3, Loss: 0.0558, Val Loss: 0.0564, Train Acc: 61.99%, Val Acc: 61.28%\n",
            "Epoch 4, Loss: 0.0496, Val Loss: 0.0502, Train Acc: 69.46%, Val Acc: 68.35%\n",
            "Epoch 5, Loss: 0.0452, Val Loss: 0.0459, Train Acc: 72.46%, Val Acc: 71.73%\n"
          ]
        },
        {
          "output_type": "display_data",
          "data": {
            "text/plain": [
              "<IPython.core.display.HTML object>"
            ],
            "text/html": []
          },
          "metadata": {}
        },
        {
          "output_type": "display_data",
          "data": {
            "text/plain": [
              "<IPython.core.display.HTML object>"
            ],
            "text/html": [
              "<br>    <style><br>        .wandb-row {<br>            display: flex;<br>            flex-direction: row;<br>            flex-wrap: wrap;<br>            justify-content: flex-start;<br>            width: 100%;<br>        }<br>        .wandb-col {<br>            display: flex;<br>            flex-direction: column;<br>            flex-basis: 100%;<br>            flex: 1;<br>            padding: 10px;<br>        }<br>    </style><br><div class=\"wandb-row\"><div class=\"wandb-col\"><h3>Run history:</h3><br/><table class=\"wandb\"><tr><td>epoch</td><td>▁▃▅▆█</td></tr><tr><td>train_accuracy</td><td>▁▄▅▇█</td></tr><tr><td>train_loss</td><td>█▅▃▂▁</td></tr><tr><td>val_accuracy</td><td>▁▄▅▇█</td></tr><tr><td>val_loss</td><td>█▅▃▂▁</td></tr></table><br/></div><div class=\"wandb-col\"><h3>Run summary:</h3><br/><table class=\"wandb\"><tr><td>epoch</td><td>5</td></tr><tr><td>train_accuracy</td><td>72.46481</td></tr><tr><td>train_loss</td><td>0.04523</td></tr><tr><td>val_accuracy</td><td>71.73333</td></tr><tr><td>val_loss</td><td>0.04589</td></tr></table><br/></div></div>"
            ]
          },
          "metadata": {}
        },
        {
          "output_type": "display_data",
          "data": {
            "text/plain": [
              "<IPython.core.display.HTML object>"
            ],
            "text/html": [
              " View run <strong style=\"color:#cdcd00\">ac-sigmoid_hs-64_epc-5_nl-3_lr0.0001_wd-0_opt-RMSprop_bs-64_wi-Xavier_loss-<function mse_loss at 0x7c4fe51c8ae0></strong> at: <a href='https://wandb.ai/bgorai005-iit-madras/deep_learning_assignment_1/runs/mupy4on7' target=\"_blank\">https://wandb.ai/bgorai005-iit-madras/deep_learning_assignment_1/runs/mupy4on7</a><br> View project at: <a href='https://wandb.ai/bgorai005-iit-madras/deep_learning_assignment_1' target=\"_blank\">https://wandb.ai/bgorai005-iit-madras/deep_learning_assignment_1</a><br>Synced 5 W&B file(s), 0 media file(s), 0 artifact file(s) and 0 other file(s)"
            ]
          },
          "metadata": {}
        },
        {
          "output_type": "display_data",
          "data": {
            "text/plain": [
              "<IPython.core.display.HTML object>"
            ],
            "text/html": [
              "Find logs at: <code>./wandb/run-20250316_200320-mupy4on7/logs</code>"
            ]
          },
          "metadata": {}
        },
        {
          "output_type": "stream",
          "name": "stderr",
          "text": [
            "\u001b[34m\u001b[1mwandb\u001b[0m: Agent Starting Run: t93oohf9 with config:\n",
            "\u001b[34m\u001b[1mwandb\u001b[0m: \tactivation_hidden: sigmoid\n",
            "\u001b[34m\u001b[1mwandb\u001b[0m: \tactivation_output: softmax\n",
            "\u001b[34m\u001b[1mwandb\u001b[0m: \tbatch_size: 32\n",
            "\u001b[34m\u001b[1mwandb\u001b[0m: \tepochs: 10\n",
            "\u001b[34m\u001b[1mwandb\u001b[0m: \thidden_size: 64\n",
            "\u001b[34m\u001b[1mwandb\u001b[0m: \tlearning_rate: 0.001\n",
            "\u001b[34m\u001b[1mwandb\u001b[0m: \tnum_layers: 3\n",
            "\u001b[34m\u001b[1mwandb\u001b[0m: \toptimizer: adam\n",
            "\u001b[34m\u001b[1mwandb\u001b[0m: \tweight_decay: 0\n",
            "\u001b[34m\u001b[1mwandb\u001b[0m: \tweight_ini_method: Xavier\n"
          ]
        },
        {
          "output_type": "display_data",
          "data": {
            "text/plain": [
              "<IPython.core.display.HTML object>"
            ],
            "text/html": [
              "Tracking run with wandb version 0.19.8"
            ]
          },
          "metadata": {}
        },
        {
          "output_type": "display_data",
          "data": {
            "text/plain": [
              "<IPython.core.display.HTML object>"
            ],
            "text/html": [
              "Run data is saved locally in <code>/content/wandb/run-20250316_200356-t93oohf9</code>"
            ]
          },
          "metadata": {}
        },
        {
          "output_type": "display_data",
          "data": {
            "text/plain": [
              "<IPython.core.display.HTML object>"
            ],
            "text/html": [
              "Syncing run <strong><a href='https://wandb.ai/bgorai005-iit-madras/deep_learning_assignment_1/runs/t93oohf9' target=\"_blank\">pious-sweep-40</a></strong> to <a href='https://wandb.ai/bgorai005-iit-madras/deep_learning_assignment_1' target=\"_blank\">Weights & Biases</a> (<a href='https://wandb.me/developer-guide' target=\"_blank\">docs</a>)<br>Sweep page: <a href='https://wandb.ai/bgorai005-iit-madras/deep_learning_assignment_1/sweeps/4uv2tuxd' target=\"_blank\">https://wandb.ai/bgorai005-iit-madras/deep_learning_assignment_1/sweeps/4uv2tuxd</a>"
            ]
          },
          "metadata": {}
        },
        {
          "output_type": "display_data",
          "data": {
            "text/plain": [
              "<IPython.core.display.HTML object>"
            ],
            "text/html": [
              " View project at <a href='https://wandb.ai/bgorai005-iit-madras/deep_learning_assignment_1' target=\"_blank\">https://wandb.ai/bgorai005-iit-madras/deep_learning_assignment_1</a>"
            ]
          },
          "metadata": {}
        },
        {
          "output_type": "display_data",
          "data": {
            "text/plain": [
              "<IPython.core.display.HTML object>"
            ],
            "text/html": [
              " View sweep at <a href='https://wandb.ai/bgorai005-iit-madras/deep_learning_assignment_1/sweeps/4uv2tuxd' target=\"_blank\">https://wandb.ai/bgorai005-iit-madras/deep_learning_assignment_1/sweeps/4uv2tuxd</a>"
            ]
          },
          "metadata": {}
        },
        {
          "output_type": "display_data",
          "data": {
            "text/plain": [
              "<IPython.core.display.HTML object>"
            ],
            "text/html": [
              " View run at <a href='https://wandb.ai/bgorai005-iit-madras/deep_learning_assignment_1/runs/t93oohf9' target=\"_blank\">https://wandb.ai/bgorai005-iit-madras/deep_learning_assignment_1/runs/t93oohf9</a>"
            ]
          },
          "metadata": {}
        },
        {
          "output_type": "stream",
          "name": "stdout",
          "text": [
            "[784, 64, 64, 64, 10]\n",
            "Epoch 1, Train Loss: 0.027127056724562202, Val Loss: 0.02823132107634253\n",
            "Epoch 2, Train Loss: 0.02313922924950354, Val Loss: 0.024105747761965005\n",
            "Epoch 3, Train Loss: 0.021535081317454255, Val Loss: 0.02287488396729136\n",
            "Epoch 4, Train Loss: 0.020773746470821877, Val Loss: 0.021900681373330216\n",
            "Epoch 5, Train Loss: 0.018426538692367284, Val Loss: 0.01981012247165938\n",
            "Epoch 6, Train Loss: 0.01796984745389651, Val Loss: 0.01969803576894397\n",
            "Epoch 7, Train Loss: 0.016902374158335065, Val Loss: 0.01862141361407412\n",
            "Epoch 8, Train Loss: 0.016451622641450826, Val Loss: 0.01822923462533352\n",
            "Epoch 9, Train Loss: 0.016558002760344328, Val Loss: 0.018730172510890722\n",
            "Epoch 10, Train Loss: 0.01567627294895731, Val Loss: 0.01779990309378296\n"
          ]
        },
        {
          "output_type": "display_data",
          "data": {
            "text/plain": [
              "<IPython.core.display.HTML object>"
            ],
            "text/html": []
          },
          "metadata": {}
        },
        {
          "output_type": "display_data",
          "data": {
            "text/plain": [
              "<IPython.core.display.HTML object>"
            ],
            "text/html": [
              "<br>    <style><br>        .wandb-row {<br>            display: flex;<br>            flex-direction: row;<br>            flex-wrap: wrap;<br>            justify-content: flex-start;<br>            width: 100%;<br>        }<br>        .wandb-col {<br>            display: flex;<br>            flex-direction: column;<br>            flex-basis: 100%;<br>            flex: 1;<br>            padding: 10px;<br>        }<br>    </style><br><div class=\"wandb-row\"><div class=\"wandb-col\"><h3>Run history:</h3><br/><table class=\"wandb\"><tr><td>epoch</td><td>▁▂▃▃▄▅▆▆▇█</td></tr><tr><td>train_accuracy</td><td>▁▄▅▅▆▇▇███</td></tr><tr><td>train_loss</td><td>█▆▅▄▃▂▂▁▂▁</td></tr><tr><td>val_accuracy</td><td>▁▄▅▆▇▇██▇█</td></tr><tr><td>val_loss</td><td>█▅▄▄▂▂▂▁▂▁</td></tr></table><br/></div><div class=\"wandb-col\"><h3>Run summary:</h3><br/><table class=\"wandb\"><tr><td>epoch</td><td>10</td></tr><tr><td>train_accuracy</td><td>89.4463</td></tr><tr><td>train_loss</td><td>0.01568</td></tr><tr><td>val_accuracy</td><td>87.75</td></tr><tr><td>val_loss</td><td>0.0178</td></tr></table><br/></div></div>"
            ]
          },
          "metadata": {}
        },
        {
          "output_type": "display_data",
          "data": {
            "text/plain": [
              "<IPython.core.display.HTML object>"
            ],
            "text/html": [
              " View run <strong style=\"color:#cdcd00\">ac-sigmoid_hs-64_epc-10_nl-3_lr0.001_wd-0_opt-adam_bs-32_wi-Xavier_loss-<function mse_loss at 0x7c4fe51c8ae0></strong> at: <a href='https://wandb.ai/bgorai005-iit-madras/deep_learning_assignment_1/runs/t93oohf9' target=\"_blank\">https://wandb.ai/bgorai005-iit-madras/deep_learning_assignment_1/runs/t93oohf9</a><br> View project at: <a href='https://wandb.ai/bgorai005-iit-madras/deep_learning_assignment_1' target=\"_blank\">https://wandb.ai/bgorai005-iit-madras/deep_learning_assignment_1</a><br>Synced 5 W&B file(s), 0 media file(s), 0 artifact file(s) and 0 other file(s)"
            ]
          },
          "metadata": {}
        },
        {
          "output_type": "display_data",
          "data": {
            "text/plain": [
              "<IPython.core.display.HTML object>"
            ],
            "text/html": [
              "Find logs at: <code>./wandb/run-20250316_200356-t93oohf9/logs</code>"
            ]
          },
          "metadata": {}
        },
        {
          "output_type": "stream",
          "name": "stderr",
          "text": [
            "\u001b[34m\u001b[1mwandb\u001b[0m: Agent Starting Run: qc0252ow with config:\n",
            "\u001b[34m\u001b[1mwandb\u001b[0m: \tactivation_hidden: sigmoid\n",
            "\u001b[34m\u001b[1mwandb\u001b[0m: \tactivation_output: softmax\n",
            "\u001b[34m\u001b[1mwandb\u001b[0m: \tbatch_size: 64\n",
            "\u001b[34m\u001b[1mwandb\u001b[0m: \tepochs: 5\n",
            "\u001b[34m\u001b[1mwandb\u001b[0m: \thidden_size: 64\n",
            "\u001b[34m\u001b[1mwandb\u001b[0m: \tlearning_rate: 0.0001\n",
            "\u001b[34m\u001b[1mwandb\u001b[0m: \tnum_layers: 5\n",
            "\u001b[34m\u001b[1mwandb\u001b[0m: \toptimizer: momentum\n",
            "\u001b[34m\u001b[1mwandb\u001b[0m: \tweight_decay: 0\n",
            "\u001b[34m\u001b[1mwandb\u001b[0m: \tweight_ini_method: Xavier\n"
          ]
        },
        {
          "output_type": "display_data",
          "data": {
            "text/plain": [
              "<IPython.core.display.HTML object>"
            ],
            "text/html": [
              "Tracking run with wandb version 0.19.8"
            ]
          },
          "metadata": {}
        },
        {
          "output_type": "display_data",
          "data": {
            "text/plain": [
              "<IPython.core.display.HTML object>"
            ],
            "text/html": [
              "Run data is saved locally in <code>/content/wandb/run-20250316_200533-qc0252ow</code>"
            ]
          },
          "metadata": {}
        },
        {
          "output_type": "display_data",
          "data": {
            "text/plain": [
              "<IPython.core.display.HTML object>"
            ],
            "text/html": [
              "Syncing run <strong><a href='https://wandb.ai/bgorai005-iit-madras/deep_learning_assignment_1/runs/qc0252ow' target=\"_blank\">charmed-sweep-41</a></strong> to <a href='https://wandb.ai/bgorai005-iit-madras/deep_learning_assignment_1' target=\"_blank\">Weights & Biases</a> (<a href='https://wandb.me/developer-guide' target=\"_blank\">docs</a>)<br>Sweep page: <a href='https://wandb.ai/bgorai005-iit-madras/deep_learning_assignment_1/sweeps/4uv2tuxd' target=\"_blank\">https://wandb.ai/bgorai005-iit-madras/deep_learning_assignment_1/sweeps/4uv2tuxd</a>"
            ]
          },
          "metadata": {}
        },
        {
          "output_type": "display_data",
          "data": {
            "text/plain": [
              "<IPython.core.display.HTML object>"
            ],
            "text/html": [
              " View project at <a href='https://wandb.ai/bgorai005-iit-madras/deep_learning_assignment_1' target=\"_blank\">https://wandb.ai/bgorai005-iit-madras/deep_learning_assignment_1</a>"
            ]
          },
          "metadata": {}
        },
        {
          "output_type": "display_data",
          "data": {
            "text/plain": [
              "<IPython.core.display.HTML object>"
            ],
            "text/html": [
              " View sweep at <a href='https://wandb.ai/bgorai005-iit-madras/deep_learning_assignment_1/sweeps/4uv2tuxd' target=\"_blank\">https://wandb.ai/bgorai005-iit-madras/deep_learning_assignment_1/sweeps/4uv2tuxd</a>"
            ]
          },
          "metadata": {}
        },
        {
          "output_type": "display_data",
          "data": {
            "text/plain": [
              "<IPython.core.display.HTML object>"
            ],
            "text/html": [
              " View run at <a href='https://wandb.ai/bgorai005-iit-madras/deep_learning_assignment_1/runs/qc0252ow' target=\"_blank\">https://wandb.ai/bgorai005-iit-madras/deep_learning_assignment_1/runs/qc0252ow</a>"
            ]
          },
          "metadata": {}
        },
        {
          "output_type": "stream",
          "name": "stdout",
          "text": [
            "[784, 64, 64, 64, 64, 64, 10]\n",
            "Epoch 1, Train Loss: 0.08999836998116123, Val Loss: 0.09000021052245834\n",
            "Epoch 2, Train Loss: 0.0899969735452857, Val Loss: 0.09000843382876303\n",
            "Epoch 3, Train Loss: 0.08999223717695923, Val Loss: 0.08999792382641471\n",
            "Epoch 4, Train Loss: 0.08999288748678805, Val Loss: 0.09000007800619998\n",
            "Epoch 5, Train Loss: 0.08999204961301543, Val Loss: 0.09001036743763438\n"
          ]
        },
        {
          "output_type": "display_data",
          "data": {
            "text/plain": [
              "<IPython.core.display.HTML object>"
            ],
            "text/html": []
          },
          "metadata": {}
        },
        {
          "output_type": "display_data",
          "data": {
            "text/plain": [
              "<IPython.core.display.HTML object>"
            ],
            "text/html": [
              "<br>    <style><br>        .wandb-row {<br>            display: flex;<br>            flex-direction: row;<br>            flex-wrap: wrap;<br>            justify-content: flex-start;<br>            width: 100%;<br>        }<br>        .wandb-col {<br>            display: flex;<br>            flex-direction: column;<br>            flex-basis: 100%;<br>            flex: 1;<br>            padding: 10px;<br>        }<br>    </style><br><div class=\"wandb-row\"><div class=\"wandb-col\"><h3>Run history:</h3><br/><table class=\"wandb\"><tr><td>epoch</td><td>▁▃▅▆█</td></tr><tr><td>train_accuracy</td><td>▅▁█▁▁</td></tr><tr><td>train_loss</td><td>█▆▁▂▁</td></tr><tr><td>val_accuracy</td><td>▆▂█▁▁</td></tr><tr><td>val_loss</td><td>▂▇▁▂█</td></tr></table><br/></div><div class=\"wandb-col\"><h3>Run summary:</h3><br/><table class=\"wandb\"><tr><td>epoch</td><td>5</td></tr><tr><td>train_accuracy</td><td>10.09259</td></tr><tr><td>train_loss</td><td>0.08999</td></tr><tr><td>val_accuracy</td><td>9.16667</td></tr><tr><td>val_loss</td><td>0.09001</td></tr></table><br/></div></div>"
            ]
          },
          "metadata": {}
        },
        {
          "output_type": "display_data",
          "data": {
            "text/plain": [
              "<IPython.core.display.HTML object>"
            ],
            "text/html": [
              " View run <strong style=\"color:#cdcd00\">ac-sigmoid_hs-64_epc-5_nl-5_lr0.0001_wd-0_opt-momentum_bs-64_wi-Xavier_loss-<function mse_loss at 0x7c4fe51c8ae0></strong> at: <a href='https://wandb.ai/bgorai005-iit-madras/deep_learning_assignment_1/runs/qc0252ow' target=\"_blank\">https://wandb.ai/bgorai005-iit-madras/deep_learning_assignment_1/runs/qc0252ow</a><br> View project at: <a href='https://wandb.ai/bgorai005-iit-madras/deep_learning_assignment_1' target=\"_blank\">https://wandb.ai/bgorai005-iit-madras/deep_learning_assignment_1</a><br>Synced 5 W&B file(s), 0 media file(s), 0 artifact file(s) and 0 other file(s)"
            ]
          },
          "metadata": {}
        },
        {
          "output_type": "display_data",
          "data": {
            "text/plain": [
              "<IPython.core.display.HTML object>"
            ],
            "text/html": [
              "Find logs at: <code>./wandb/run-20250316_200533-qc0252ow/logs</code>"
            ]
          },
          "metadata": {}
        },
        {
          "output_type": "stream",
          "name": "stderr",
          "text": [
            "\u001b[34m\u001b[1mwandb\u001b[0m: Agent Starting Run: xix43r3w with config:\n",
            "\u001b[34m\u001b[1mwandb\u001b[0m: \tactivation_hidden: tanh\n",
            "\u001b[34m\u001b[1mwandb\u001b[0m: \tactivation_output: softmax\n",
            "\u001b[34m\u001b[1mwandb\u001b[0m: \tbatch_size: 16\n",
            "\u001b[34m\u001b[1mwandb\u001b[0m: \tepochs: 10\n",
            "\u001b[34m\u001b[1mwandb\u001b[0m: \thidden_size: 128\n",
            "\u001b[34m\u001b[1mwandb\u001b[0m: \tlearning_rate: 0.001\n",
            "\u001b[34m\u001b[1mwandb\u001b[0m: \tnum_layers: 4\n",
            "\u001b[34m\u001b[1mwandb\u001b[0m: \toptimizer: nag\n",
            "\u001b[34m\u001b[1mwandb\u001b[0m: \tweight_decay: 0\n",
            "\u001b[34m\u001b[1mwandb\u001b[0m: \tweight_ini_method: Xavier\n"
          ]
        },
        {
          "output_type": "display_data",
          "data": {
            "text/plain": [
              "<IPython.core.display.HTML object>"
            ],
            "text/html": [
              "Tracking run with wandb version 0.19.8"
            ]
          },
          "metadata": {}
        },
        {
          "output_type": "display_data",
          "data": {
            "text/plain": [
              "<IPython.core.display.HTML object>"
            ],
            "text/html": [
              "Run data is saved locally in <code>/content/wandb/run-20250316_200619-xix43r3w</code>"
            ]
          },
          "metadata": {}
        },
        {
          "output_type": "display_data",
          "data": {
            "text/plain": [
              "<IPython.core.display.HTML object>"
            ],
            "text/html": [
              "Syncing run <strong><a href='https://wandb.ai/bgorai005-iit-madras/deep_learning_assignment_1/runs/xix43r3w' target=\"_blank\">avid-sweep-42</a></strong> to <a href='https://wandb.ai/bgorai005-iit-madras/deep_learning_assignment_1' target=\"_blank\">Weights & Biases</a> (<a href='https://wandb.me/developer-guide' target=\"_blank\">docs</a>)<br>Sweep page: <a href='https://wandb.ai/bgorai005-iit-madras/deep_learning_assignment_1/sweeps/4uv2tuxd' target=\"_blank\">https://wandb.ai/bgorai005-iit-madras/deep_learning_assignment_1/sweeps/4uv2tuxd</a>"
            ]
          },
          "metadata": {}
        },
        {
          "output_type": "display_data",
          "data": {
            "text/plain": [
              "<IPython.core.display.HTML object>"
            ],
            "text/html": [
              " View project at <a href='https://wandb.ai/bgorai005-iit-madras/deep_learning_assignment_1' target=\"_blank\">https://wandb.ai/bgorai005-iit-madras/deep_learning_assignment_1</a>"
            ]
          },
          "metadata": {}
        },
        {
          "output_type": "display_data",
          "data": {
            "text/plain": [
              "<IPython.core.display.HTML object>"
            ],
            "text/html": [
              " View sweep at <a href='https://wandb.ai/bgorai005-iit-madras/deep_learning_assignment_1/sweeps/4uv2tuxd' target=\"_blank\">https://wandb.ai/bgorai005-iit-madras/deep_learning_assignment_1/sweeps/4uv2tuxd</a>"
            ]
          },
          "metadata": {}
        },
        {
          "output_type": "display_data",
          "data": {
            "text/plain": [
              "<IPython.core.display.HTML object>"
            ],
            "text/html": [
              " View run at <a href='https://wandb.ai/bgorai005-iit-madras/deep_learning_assignment_1/runs/xix43r3w' target=\"_blank\">https://wandb.ai/bgorai005-iit-madras/deep_learning_assignment_1/runs/xix43r3w</a>"
            ]
          },
          "metadata": {}
        },
        {
          "output_type": "stream",
          "name": "stdout",
          "text": [
            "[784, 128, 128, 128, 128, 10]\n",
            "Epoch 1, Loss: 0.10184251775759466, Validation Loss: 0.10255853951468306\n",
            "Epoch 2, Loss: 0.11011092319719946, Validation Loss: 0.11000189485819628\n",
            "Epoch 3, Loss: 0.12061588203540294, Validation Loss: 0.12098474393381785\n",
            "Epoch 4, Loss: 0.10698562150559242, Validation Loss: 0.10678150663853846\n",
            "Epoch 5, Loss: 0.10500777529665631, Validation Loss: 0.10524226007093282\n",
            "Epoch 6, Loss: 0.10413310237231393, Validation Loss: 0.10442600079627846\n",
            "Epoch 7, Loss: 0.14649808749966703, Validation Loss: 0.14597641952480228\n",
            "Epoch 8, Loss: 0.11865070306883431, Validation Loss: 0.1185628501534855\n",
            "Epoch 9, Loss: 0.11916007293669649, Validation Loss: 0.11865213760036215\n",
            "Epoch 10, Loss: 0.12644204676082474, Validation Loss: 0.12604669299860052\n"
          ]
        },
        {
          "output_type": "display_data",
          "data": {
            "text/plain": [
              "<IPython.core.display.HTML object>"
            ],
            "text/html": []
          },
          "metadata": {}
        },
        {
          "output_type": "display_data",
          "data": {
            "text/plain": [
              "<IPython.core.display.HTML object>"
            ],
            "text/html": [
              "<br>    <style><br>        .wandb-row {<br>            display: flex;<br>            flex-direction: row;<br>            flex-wrap: wrap;<br>            justify-content: flex-start;<br>            width: 100%;<br>        }<br>        .wandb-col {<br>            display: flex;<br>            flex-direction: column;<br>            flex-basis: 100%;<br>            flex: 1;<br>            padding: 10px;<br>        }<br>    </style><br><div class=\"wandb-row\"><div class=\"wandb-col\"><h3>Run history:</h3><br/><table class=\"wandb\"><tr><td>epoch</td><td>▁▂▃▃▄▅▆▆▇█</td></tr><tr><td>train_accuracy</td><td>█▂▄▄▄▃▁▄▂▂</td></tr><tr><td>train_loss</td><td>▁▂▄▂▁▁█▄▄▅</td></tr><tr><td>val_accuracy</td><td>▁▇▅▅▅▆█▅▇▇</td></tr><tr><td>val_loss</td><td>▁▂▄▂▁▁█▄▄▅</td></tr></table><br/></div><div class=\"wandb-col\"><h3>Run summary:</h3><br/><table class=\"wandb\"><tr><td>epoch</td><td>10</td></tr><tr><td>train_accuracy</td><td>9.97963</td></tr><tr><td>train_loss</td><td>0.12644</td></tr><tr><td>val_accuracy</td><td>10.18333</td></tr><tr><td>val_loss</td><td>0.12605</td></tr></table><br/></div></div>"
            ]
          },
          "metadata": {}
        },
        {
          "output_type": "display_data",
          "data": {
            "text/plain": [
              "<IPython.core.display.HTML object>"
            ],
            "text/html": [
              " View run <strong style=\"color:#cdcd00\">ac-tanh_hs-128_epc-10_nl-4_lr0.001_wd-0_opt-nag_bs-16_wi-Xavier_loss-<function mse_loss at 0x7c4fe51c8ae0></strong> at: <a href='https://wandb.ai/bgorai005-iit-madras/deep_learning_assignment_1/runs/xix43r3w' target=\"_blank\">https://wandb.ai/bgorai005-iit-madras/deep_learning_assignment_1/runs/xix43r3w</a><br> View project at: <a href='https://wandb.ai/bgorai005-iit-madras/deep_learning_assignment_1' target=\"_blank\">https://wandb.ai/bgorai005-iit-madras/deep_learning_assignment_1</a><br>Synced 5 W&B file(s), 0 media file(s), 0 artifact file(s) and 0 other file(s)"
            ]
          },
          "metadata": {}
        },
        {
          "output_type": "display_data",
          "data": {
            "text/plain": [
              "<IPython.core.display.HTML object>"
            ],
            "text/html": [
              "Find logs at: <code>./wandb/run-20250316_200619-xix43r3w/logs</code>"
            ]
          },
          "metadata": {}
        },
        {
          "output_type": "stream",
          "name": "stderr",
          "text": [
            "\u001b[34m\u001b[1mwandb\u001b[0m: Agent Starting Run: z8s9n6nm with config:\n",
            "\u001b[34m\u001b[1mwandb\u001b[0m: \tactivation_hidden: relu\n",
            "\u001b[34m\u001b[1mwandb\u001b[0m: \tactivation_output: softmax\n",
            "\u001b[34m\u001b[1mwandb\u001b[0m: \tbatch_size: 32\n",
            "\u001b[34m\u001b[1mwandb\u001b[0m: \tepochs: 5\n",
            "\u001b[34m\u001b[1mwandb\u001b[0m: \thidden_size: 64\n",
            "\u001b[34m\u001b[1mwandb\u001b[0m: \tlearning_rate: 0.0001\n",
            "\u001b[34m\u001b[1mwandb\u001b[0m: \tnum_layers: 4\n",
            "\u001b[34m\u001b[1mwandb\u001b[0m: \toptimizer: sgd\n",
            "\u001b[34m\u001b[1mwandb\u001b[0m: \tweight_decay: 0\n",
            "\u001b[34m\u001b[1mwandb\u001b[0m: \tweight_ini_method: Xavier\n"
          ]
        },
        {
          "output_type": "display_data",
          "data": {
            "text/plain": [
              "<IPython.core.display.HTML object>"
            ],
            "text/html": [
              "Tracking run with wandb version 0.19.8"
            ]
          },
          "metadata": {}
        },
        {
          "output_type": "display_data",
          "data": {
            "text/plain": [
              "<IPython.core.display.HTML object>"
            ],
            "text/html": [
              "Run data is saved locally in <code>/content/wandb/run-20250316_201108-z8s9n6nm</code>"
            ]
          },
          "metadata": {}
        },
        {
          "output_type": "display_data",
          "data": {
            "text/plain": [
              "<IPython.core.display.HTML object>"
            ],
            "text/html": [
              "Syncing run <strong><a href='https://wandb.ai/bgorai005-iit-madras/deep_learning_assignment_1/runs/z8s9n6nm' target=\"_blank\">deft-sweep-43</a></strong> to <a href='https://wandb.ai/bgorai005-iit-madras/deep_learning_assignment_1' target=\"_blank\">Weights & Biases</a> (<a href='https://wandb.me/developer-guide' target=\"_blank\">docs</a>)<br>Sweep page: <a href='https://wandb.ai/bgorai005-iit-madras/deep_learning_assignment_1/sweeps/4uv2tuxd' target=\"_blank\">https://wandb.ai/bgorai005-iit-madras/deep_learning_assignment_1/sweeps/4uv2tuxd</a>"
            ]
          },
          "metadata": {}
        },
        {
          "output_type": "display_data",
          "data": {
            "text/plain": [
              "<IPython.core.display.HTML object>"
            ],
            "text/html": [
              " View project at <a href='https://wandb.ai/bgorai005-iit-madras/deep_learning_assignment_1' target=\"_blank\">https://wandb.ai/bgorai005-iit-madras/deep_learning_assignment_1</a>"
            ]
          },
          "metadata": {}
        },
        {
          "output_type": "display_data",
          "data": {
            "text/plain": [
              "<IPython.core.display.HTML object>"
            ],
            "text/html": [
              " View sweep at <a href='https://wandb.ai/bgorai005-iit-madras/deep_learning_assignment_1/sweeps/4uv2tuxd' target=\"_blank\">https://wandb.ai/bgorai005-iit-madras/deep_learning_assignment_1/sweeps/4uv2tuxd</a>"
            ]
          },
          "metadata": {}
        },
        {
          "output_type": "display_data",
          "data": {
            "text/plain": [
              "<IPython.core.display.HTML object>"
            ],
            "text/html": [
              " View run at <a href='https://wandb.ai/bgorai005-iit-madras/deep_learning_assignment_1/runs/z8s9n6nm' target=\"_blank\">https://wandb.ai/bgorai005-iit-madras/deep_learning_assignment_1/runs/z8s9n6nm</a>"
            ]
          },
          "metadata": {}
        },
        {
          "output_type": "stream",
          "name": "stdout",
          "text": [
            "[784, 64, 64, 64, 64, 10]\n",
            "Epoch 1, Train Loss: 0.058818460814951415, Val Loss: 0.05967173639803141,Val Accuracy:0.5491666666666667\n",
            "Epoch 2, Train Loss: 0.041842313087096815, Val Loss: 0.042427425070635495,Val Accuracy:0.7038333333333333\n",
            "Epoch 3, Train Loss: 0.0351534314138195, Val Loss: 0.03575383693205392,Val Accuracy:0.7478333333333333\n",
            "Epoch 4, Train Loss: 0.032066234896642745, Val Loss: 0.032640101300935025,Val Accuracy:0.7801666666666667\n",
            "Epoch 5, Train Loss: 0.030809740698633802, Val Loss: 0.031530878716948395,Val Accuracy:0.7736666666666666\n"
          ]
        },
        {
          "output_type": "display_data",
          "data": {
            "text/plain": [
              "<IPython.core.display.HTML object>"
            ],
            "text/html": []
          },
          "metadata": {}
        },
        {
          "output_type": "display_data",
          "data": {
            "text/plain": [
              "<IPython.core.display.HTML object>"
            ],
            "text/html": [
              "<br>    <style><br>        .wandb-row {<br>            display: flex;<br>            flex-direction: row;<br>            flex-wrap: wrap;<br>            justify-content: flex-start;<br>            width: 100%;<br>        }<br>        .wandb-col {<br>            display: flex;<br>            flex-direction: column;<br>            flex-basis: 100%;<br>            flex: 1;<br>            padding: 10px;<br>        }<br>    </style><br><div class=\"wandb-row\"><div class=\"wandb-col\"><h3>Run history:</h3><br/><table class=\"wandb\"><tr><td>epoch</td><td>▁▃▅▆█</td></tr><tr><td>train_accuracy</td><td>▁▆▇██</td></tr><tr><td>train_loss</td><td>█▄▂▁▁</td></tr><tr><td>val_accuracy</td><td>▁▆▇██</td></tr><tr><td>val_loss</td><td>█▄▂▁▁</td></tr></table><br/></div><div class=\"wandb-col\"><h3>Run summary:</h3><br/><table class=\"wandb\"><tr><td>epoch</td><td>5</td></tr><tr><td>train_accuracy</td><td>78.11296</td></tr><tr><td>train_loss</td><td>0.03081</td></tr><tr><td>val_accuracy</td><td>77.36667</td></tr><tr><td>val_loss</td><td>0.03153</td></tr></table><br/></div></div>"
            ]
          },
          "metadata": {}
        },
        {
          "output_type": "display_data",
          "data": {
            "text/plain": [
              "<IPython.core.display.HTML object>"
            ],
            "text/html": [
              " View run <strong style=\"color:#cdcd00\">ac-relu_hs-64_epc-5_nl-4_lr0.0001_wd-0_opt-sgd_bs-32_wi-Xavier_loss-<function mse_loss at 0x7c4fe51c8ae0></strong> at: <a href='https://wandb.ai/bgorai005-iit-madras/deep_learning_assignment_1/runs/z8s9n6nm' target=\"_blank\">https://wandb.ai/bgorai005-iit-madras/deep_learning_assignment_1/runs/z8s9n6nm</a><br> View project at: <a href='https://wandb.ai/bgorai005-iit-madras/deep_learning_assignment_1' target=\"_blank\">https://wandb.ai/bgorai005-iit-madras/deep_learning_assignment_1</a><br>Synced 5 W&B file(s), 0 media file(s), 0 artifact file(s) and 0 other file(s)"
            ]
          },
          "metadata": {}
        },
        {
          "output_type": "display_data",
          "data": {
            "text/plain": [
              "<IPython.core.display.HTML object>"
            ],
            "text/html": [
              "Find logs at: <code>./wandb/run-20250316_201108-z8s9n6nm/logs</code>"
            ]
          },
          "metadata": {}
        },
        {
          "output_type": "stream",
          "name": "stderr",
          "text": [
            "\u001b[34m\u001b[1mwandb\u001b[0m: Agent Starting Run: xc5wy42p with config:\n",
            "\u001b[34m\u001b[1mwandb\u001b[0m: \tactivation_hidden: relu\n",
            "\u001b[34m\u001b[1mwandb\u001b[0m: \tactivation_output: softmax\n",
            "\u001b[34m\u001b[1mwandb\u001b[0m: \tbatch_size: 16\n",
            "\u001b[34m\u001b[1mwandb\u001b[0m: \tepochs: 10\n",
            "\u001b[34m\u001b[1mwandb\u001b[0m: \thidden_size: 32\n",
            "\u001b[34m\u001b[1mwandb\u001b[0m: \tlearning_rate: 0.001\n",
            "\u001b[34m\u001b[1mwandb\u001b[0m: \tnum_layers: 3\n",
            "\u001b[34m\u001b[1mwandb\u001b[0m: \toptimizer: RMSprop\n",
            "\u001b[34m\u001b[1mwandb\u001b[0m: \tweight_decay: 0\n",
            "\u001b[34m\u001b[1mwandb\u001b[0m: \tweight_ini_method: Xavier\n"
          ]
        },
        {
          "output_type": "display_data",
          "data": {
            "text/plain": [
              "<IPython.core.display.HTML object>"
            ],
            "text/html": [
              "Tracking run with wandb version 0.19.8"
            ]
          },
          "metadata": {}
        },
        {
          "output_type": "display_data",
          "data": {
            "text/plain": [
              "<IPython.core.display.HTML object>"
            ],
            "text/html": [
              "Run data is saved locally in <code>/content/wandb/run-20250316_201140-xc5wy42p</code>"
            ]
          },
          "metadata": {}
        },
        {
          "output_type": "display_data",
          "data": {
            "text/plain": [
              "<IPython.core.display.HTML object>"
            ],
            "text/html": [
              "Syncing run <strong><a href='https://wandb.ai/bgorai005-iit-madras/deep_learning_assignment_1/runs/xc5wy42p' target=\"_blank\">summer-sweep-44</a></strong> to <a href='https://wandb.ai/bgorai005-iit-madras/deep_learning_assignment_1' target=\"_blank\">Weights & Biases</a> (<a href='https://wandb.me/developer-guide' target=\"_blank\">docs</a>)<br>Sweep page: <a href='https://wandb.ai/bgorai005-iit-madras/deep_learning_assignment_1/sweeps/4uv2tuxd' target=\"_blank\">https://wandb.ai/bgorai005-iit-madras/deep_learning_assignment_1/sweeps/4uv2tuxd</a>"
            ]
          },
          "metadata": {}
        },
        {
          "output_type": "display_data",
          "data": {
            "text/plain": [
              "<IPython.core.display.HTML object>"
            ],
            "text/html": [
              " View project at <a href='https://wandb.ai/bgorai005-iit-madras/deep_learning_assignment_1' target=\"_blank\">https://wandb.ai/bgorai005-iit-madras/deep_learning_assignment_1</a>"
            ]
          },
          "metadata": {}
        },
        {
          "output_type": "display_data",
          "data": {
            "text/plain": [
              "<IPython.core.display.HTML object>"
            ],
            "text/html": [
              " View sweep at <a href='https://wandb.ai/bgorai005-iit-madras/deep_learning_assignment_1/sweeps/4uv2tuxd' target=\"_blank\">https://wandb.ai/bgorai005-iit-madras/deep_learning_assignment_1/sweeps/4uv2tuxd</a>"
            ]
          },
          "metadata": {}
        },
        {
          "output_type": "display_data",
          "data": {
            "text/plain": [
              "<IPython.core.display.HTML object>"
            ],
            "text/html": [
              " View run at <a href='https://wandb.ai/bgorai005-iit-madras/deep_learning_assignment_1/runs/xc5wy42p' target=\"_blank\">https://wandb.ai/bgorai005-iit-madras/deep_learning_assignment_1/runs/xc5wy42p</a>"
            ]
          },
          "metadata": {}
        },
        {
          "output_type": "stream",
          "name": "stdout",
          "text": [
            "[784, 32, 32, 32, 10]\n",
            "Epoch 1, Loss: 0.1801, Val Loss: 0.1793, Train Acc: 9.96%, Val Acc: 10.35%\n",
            "Epoch 2, Loss: 0.1801, Val Loss: 0.1793, Train Acc: 9.96%, Val Acc: 10.35%\n",
            "Epoch 3, Loss: 0.1801, Val Loss: 0.1793, Train Acc: 9.96%, Val Acc: 10.35%\n",
            "Epoch 4, Loss: 0.1801, Val Loss: 0.1793, Train Acc: 9.96%, Val Acc: 10.35%\n",
            "Epoch 5, Loss: 0.1801, Val Loss: 0.1793, Train Acc: 9.96%, Val Acc: 10.35%\n",
            "Epoch 6, Loss: 0.1801, Val Loss: 0.1793, Train Acc: 9.96%, Val Acc: 10.35%\n",
            "Epoch 7, Loss: 0.1801, Val Loss: 0.1793, Train Acc: 9.96%, Val Acc: 10.35%\n",
            "Epoch 8, Loss: 0.1801, Val Loss: 0.1793, Train Acc: 9.96%, Val Acc: 10.35%\n",
            "Epoch 9, Loss: 0.1801, Val Loss: 0.1793, Train Acc: 9.96%, Val Acc: 10.35%\n",
            "Epoch 10, Loss: 0.1801, Val Loss: 0.1793, Train Acc: 9.96%, Val Acc: 10.35%\n"
          ]
        },
        {
          "output_type": "display_data",
          "data": {
            "text/plain": [
              "<IPython.core.display.HTML object>"
            ],
            "text/html": []
          },
          "metadata": {}
        },
        {
          "output_type": "display_data",
          "data": {
            "text/plain": [
              "<IPython.core.display.HTML object>"
            ],
            "text/html": [
              "<br>    <style><br>        .wandb-row {<br>            display: flex;<br>            flex-direction: row;<br>            flex-wrap: wrap;<br>            justify-content: flex-start;<br>            width: 100%;<br>        }<br>        .wandb-col {<br>            display: flex;<br>            flex-direction: column;<br>            flex-basis: 100%;<br>            flex: 1;<br>            padding: 10px;<br>        }<br>    </style><br><div class=\"wandb-row\"><div class=\"wandb-col\"><h3>Run history:</h3><br/><table class=\"wandb\"><tr><td>epoch</td><td>▁▂▃▃▄▅▆▆▇█</td></tr><tr><td>train_accuracy</td><td>▁▁▁▁▁▁▁▁▁▁</td></tr><tr><td>train_loss</td><td>▁▁▁▁▁▁▁▁▁▁</td></tr><tr><td>val_accuracy</td><td>▁▁▁▁▁▁▁▁▁▁</td></tr><tr><td>val_loss</td><td>▁▁▁▁▁▁▁▁▁▁</td></tr></table><br/></div><div class=\"wandb-col\"><h3>Run summary:</h3><br/><table class=\"wandb\"><tr><td>epoch</td><td>10</td></tr><tr><td>train_accuracy</td><td>9.96111</td></tr><tr><td>train_loss</td><td>0.18008</td></tr><tr><td>val_accuracy</td><td>10.35</td></tr><tr><td>val_loss</td><td>0.1793</td></tr></table><br/></div></div>"
            ]
          },
          "metadata": {}
        },
        {
          "output_type": "display_data",
          "data": {
            "text/plain": [
              "<IPython.core.display.HTML object>"
            ],
            "text/html": [
              " View run <strong style=\"color:#cdcd00\">ac-relu_hs-32_epc-10_nl-3_lr0.001_wd-0_opt-RMSprop_bs-16_wi-Xavier_loss-<function mse_loss at 0x7c4fe51c8ae0></strong> at: <a href='https://wandb.ai/bgorai005-iit-madras/deep_learning_assignment_1/runs/xc5wy42p' target=\"_blank\">https://wandb.ai/bgorai005-iit-madras/deep_learning_assignment_1/runs/xc5wy42p</a><br> View project at: <a href='https://wandb.ai/bgorai005-iit-madras/deep_learning_assignment_1' target=\"_blank\">https://wandb.ai/bgorai005-iit-madras/deep_learning_assignment_1</a><br>Synced 5 W&B file(s), 0 media file(s), 0 artifact file(s) and 0 other file(s)"
            ]
          },
          "metadata": {}
        },
        {
          "output_type": "display_data",
          "data": {
            "text/plain": [
              "<IPython.core.display.HTML object>"
            ],
            "text/html": [
              "Find logs at: <code>./wandb/run-20250316_201140-xc5wy42p/logs</code>"
            ]
          },
          "metadata": {}
        },
        {
          "output_type": "stream",
          "name": "stderr",
          "text": [
            "\u001b[34m\u001b[1mwandb\u001b[0m: Agent Starting Run: rwjtrqlp with config:\n",
            "\u001b[34m\u001b[1mwandb\u001b[0m: \tactivation_hidden: relu\n",
            "\u001b[34m\u001b[1mwandb\u001b[0m: \tactivation_output: softmax\n",
            "\u001b[34m\u001b[1mwandb\u001b[0m: \tbatch_size: 16\n",
            "\u001b[34m\u001b[1mwandb\u001b[0m: \tepochs: 5\n",
            "\u001b[34m\u001b[1mwandb\u001b[0m: \thidden_size: 32\n",
            "\u001b[34m\u001b[1mwandb\u001b[0m: \tlearning_rate: 0.0001\n",
            "\u001b[34m\u001b[1mwandb\u001b[0m: \tnum_layers: 4\n",
            "\u001b[34m\u001b[1mwandb\u001b[0m: \toptimizer: nadam\n",
            "\u001b[34m\u001b[1mwandb\u001b[0m: \tweight_decay: 0\n",
            "\u001b[34m\u001b[1mwandb\u001b[0m: \tweight_ini_method: Xavier\n"
          ]
        },
        {
          "output_type": "display_data",
          "data": {
            "text/plain": [
              "<IPython.core.display.HTML object>"
            ],
            "text/html": [
              "Tracking run with wandb version 0.19.8"
            ]
          },
          "metadata": {}
        },
        {
          "output_type": "display_data",
          "data": {
            "text/plain": [
              "<IPython.core.display.HTML object>"
            ],
            "text/html": [
              "Run data is saved locally in <code>/content/wandb/run-20250316_201306-rwjtrqlp</code>"
            ]
          },
          "metadata": {}
        },
        {
          "output_type": "display_data",
          "data": {
            "text/plain": [
              "<IPython.core.display.HTML object>"
            ],
            "text/html": [
              "Syncing run <strong><a href='https://wandb.ai/bgorai005-iit-madras/deep_learning_assignment_1/runs/rwjtrqlp' target=\"_blank\">driven-sweep-45</a></strong> to <a href='https://wandb.ai/bgorai005-iit-madras/deep_learning_assignment_1' target=\"_blank\">Weights & Biases</a> (<a href='https://wandb.me/developer-guide' target=\"_blank\">docs</a>)<br>Sweep page: <a href='https://wandb.ai/bgorai005-iit-madras/deep_learning_assignment_1/sweeps/4uv2tuxd' target=\"_blank\">https://wandb.ai/bgorai005-iit-madras/deep_learning_assignment_1/sweeps/4uv2tuxd</a>"
            ]
          },
          "metadata": {}
        },
        {
          "output_type": "display_data",
          "data": {
            "text/plain": [
              "<IPython.core.display.HTML object>"
            ],
            "text/html": [
              " View project at <a href='https://wandb.ai/bgorai005-iit-madras/deep_learning_assignment_1' target=\"_blank\">https://wandb.ai/bgorai005-iit-madras/deep_learning_assignment_1</a>"
            ]
          },
          "metadata": {}
        },
        {
          "output_type": "display_data",
          "data": {
            "text/plain": [
              "<IPython.core.display.HTML object>"
            ],
            "text/html": [
              " View sweep at <a href='https://wandb.ai/bgorai005-iit-madras/deep_learning_assignment_1/sweeps/4uv2tuxd' target=\"_blank\">https://wandb.ai/bgorai005-iit-madras/deep_learning_assignment_1/sweeps/4uv2tuxd</a>"
            ]
          },
          "metadata": {}
        },
        {
          "output_type": "display_data",
          "data": {
            "text/plain": [
              "<IPython.core.display.HTML object>"
            ],
            "text/html": [
              " View run at <a href='https://wandb.ai/bgorai005-iit-madras/deep_learning_assignment_1/runs/rwjtrqlp' target=\"_blank\">https://wandb.ai/bgorai005-iit-madras/deep_learning_assignment_1/runs/rwjtrqlp</a>"
            ]
          },
          "metadata": {}
        },
        {
          "output_type": "stream",
          "name": "stdout",
          "text": [
            "[784, 32, 32, 32, 32, 10]\n",
            "Epoch 1, Loss: 0.02660446550527497, Validation Loss: 0.02765805157322793\n",
            "Epoch 2, Loss: 0.02350625389286352, Validation Loss: 0.024487519830630796\n",
            "Epoch 3, Loss: 0.022244197756143204, Validation Loss: 0.023191354433154353\n",
            "Epoch 4, Loss: 0.021624841268734412, Validation Loss: 0.022786502380251487\n",
            "Epoch 5, Loss: 0.02033558023187193, Validation Loss: 0.02136144467691516\n"
          ]
        },
        {
          "output_type": "display_data",
          "data": {
            "text/plain": [
              "<IPython.core.display.HTML object>"
            ],
            "text/html": []
          },
          "metadata": {}
        },
        {
          "output_type": "display_data",
          "data": {
            "text/plain": [
              "<IPython.core.display.HTML object>"
            ],
            "text/html": [
              "<br>    <style><br>        .wandb-row {<br>            display: flex;<br>            flex-direction: row;<br>            flex-wrap: wrap;<br>            justify-content: flex-start;<br>            width: 100%;<br>        }<br>        .wandb-col {<br>            display: flex;<br>            flex-direction: column;<br>            flex-basis: 100%;<br>            flex: 1;<br>            padding: 10px;<br>        }<br>    </style><br><div class=\"wandb-row\"><div class=\"wandb-col\"><h3>Run history:</h3><br/><table class=\"wandb\"><tr><td>epoch</td><td>▁▃▅▆█</td></tr><tr><td>train_accuracy</td><td>▁▄▆▆█</td></tr><tr><td>train_loss</td><td>█▅▃▂▁</td></tr><tr><td>val_accuracy</td><td>▁▄▆▇█</td></tr><tr><td>val_loss</td><td>█▄▃▃▁</td></tr></table><br/></div><div class=\"wandb-col\"><h3>Run summary:</h3><br/><table class=\"wandb\"><tr><td>epoch</td><td>5</td></tr><tr><td>train_accuracy</td><td>86.01481</td></tr><tr><td>train_loss</td><td>0.02034</td></tr><tr><td>val_accuracy</td><td>85.18333</td></tr><tr><td>val_loss</td><td>0.02136</td></tr></table><br/></div></div>"
            ]
          },
          "metadata": {}
        },
        {
          "output_type": "display_data",
          "data": {
            "text/plain": [
              "<IPython.core.display.HTML object>"
            ],
            "text/html": [
              " View run <strong style=\"color:#cdcd00\">ac-relu_hs-32_epc-5_nl-4_lr0.0001_wd-0_opt-nadam_bs-16_wi-Xavier_loss-<function mse_loss at 0x7c4fe51c8ae0></strong> at: <a href='https://wandb.ai/bgorai005-iit-madras/deep_learning_assignment_1/runs/rwjtrqlp' target=\"_blank\">https://wandb.ai/bgorai005-iit-madras/deep_learning_assignment_1/runs/rwjtrqlp</a><br> View project at: <a href='https://wandb.ai/bgorai005-iit-madras/deep_learning_assignment_1' target=\"_blank\">https://wandb.ai/bgorai005-iit-madras/deep_learning_assignment_1</a><br>Synced 5 W&B file(s), 0 media file(s), 0 artifact file(s) and 0 other file(s)"
            ]
          },
          "metadata": {}
        },
        {
          "output_type": "display_data",
          "data": {
            "text/plain": [
              "<IPython.core.display.HTML object>"
            ],
            "text/html": [
              "Find logs at: <code>./wandb/run-20250316_201306-rwjtrqlp/logs</code>"
            ]
          },
          "metadata": {}
        },
        {
          "output_type": "stream",
          "name": "stderr",
          "text": [
            "\u001b[34m\u001b[1mwandb\u001b[0m: Agent Starting Run: ozani8fx with config:\n",
            "\u001b[34m\u001b[1mwandb\u001b[0m: \tactivation_hidden: tanh\n",
            "\u001b[34m\u001b[1mwandb\u001b[0m: \tactivation_output: softmax\n",
            "\u001b[34m\u001b[1mwandb\u001b[0m: \tbatch_size: 64\n",
            "\u001b[34m\u001b[1mwandb\u001b[0m: \tepochs: 10\n",
            "\u001b[34m\u001b[1mwandb\u001b[0m: \thidden_size: 64\n",
            "\u001b[34m\u001b[1mwandb\u001b[0m: \tlearning_rate: 0.0001\n",
            "\u001b[34m\u001b[1mwandb\u001b[0m: \tnum_layers: 5\n",
            "\u001b[34m\u001b[1mwandb\u001b[0m: \toptimizer: nag\n",
            "\u001b[34m\u001b[1mwandb\u001b[0m: \tweight_decay: 0\n",
            "\u001b[34m\u001b[1mwandb\u001b[0m: \tweight_ini_method: random\n"
          ]
        },
        {
          "output_type": "display_data",
          "data": {
            "text/plain": [
              "<IPython.core.display.HTML object>"
            ],
            "text/html": [
              "Tracking run with wandb version 0.19.8"
            ]
          },
          "metadata": {}
        },
        {
          "output_type": "display_data",
          "data": {
            "text/plain": [
              "<IPython.core.display.HTML object>"
            ],
            "text/html": [
              "Run data is saved locally in <code>/content/wandb/run-20250316_201402-ozani8fx</code>"
            ]
          },
          "metadata": {}
        },
        {
          "output_type": "display_data",
          "data": {
            "text/plain": [
              "<IPython.core.display.HTML object>"
            ],
            "text/html": [
              "Syncing run <strong><a href='https://wandb.ai/bgorai005-iit-madras/deep_learning_assignment_1/runs/ozani8fx' target=\"_blank\">toasty-sweep-46</a></strong> to <a href='https://wandb.ai/bgorai005-iit-madras/deep_learning_assignment_1' target=\"_blank\">Weights & Biases</a> (<a href='https://wandb.me/developer-guide' target=\"_blank\">docs</a>)<br>Sweep page: <a href='https://wandb.ai/bgorai005-iit-madras/deep_learning_assignment_1/sweeps/4uv2tuxd' target=\"_blank\">https://wandb.ai/bgorai005-iit-madras/deep_learning_assignment_1/sweeps/4uv2tuxd</a>"
            ]
          },
          "metadata": {}
        },
        {
          "output_type": "display_data",
          "data": {
            "text/plain": [
              "<IPython.core.display.HTML object>"
            ],
            "text/html": [
              " View project at <a href='https://wandb.ai/bgorai005-iit-madras/deep_learning_assignment_1' target=\"_blank\">https://wandb.ai/bgorai005-iit-madras/deep_learning_assignment_1</a>"
            ]
          },
          "metadata": {}
        },
        {
          "output_type": "display_data",
          "data": {
            "text/plain": [
              "<IPython.core.display.HTML object>"
            ],
            "text/html": [
              " View sweep at <a href='https://wandb.ai/bgorai005-iit-madras/deep_learning_assignment_1/sweeps/4uv2tuxd' target=\"_blank\">https://wandb.ai/bgorai005-iit-madras/deep_learning_assignment_1/sweeps/4uv2tuxd</a>"
            ]
          },
          "metadata": {}
        },
        {
          "output_type": "display_data",
          "data": {
            "text/plain": [
              "<IPython.core.display.HTML object>"
            ],
            "text/html": [
              " View run at <a href='https://wandb.ai/bgorai005-iit-madras/deep_learning_assignment_1/runs/ozani8fx' target=\"_blank\">https://wandb.ai/bgorai005-iit-madras/deep_learning_assignment_1/runs/ozani8fx</a>"
            ]
          },
          "metadata": {}
        },
        {
          "output_type": "stream",
          "name": "stdout",
          "text": [
            "[784, 64, 64, 64, 64, 64, 10]\n",
            "Epoch 1, Loss: 0.159026024102885, Validation Loss: 0.1586030961563543\n",
            "Epoch 2, Loss: 0.15891833184463613, Validation Loss: 0.15842597079857282\n",
            "Epoch 3, Loss: 0.1576594885688623, Validation Loss: 0.15710627988826803\n",
            "Epoch 4, Loss: 0.15657692443656154, Validation Loss: 0.15672586934739705\n",
            "Epoch 5, Loss: 0.15559198324212667, Validation Loss: 0.15477188011635468\n",
            "Epoch 6, Loss: 0.15429464753552632, Validation Loss: 0.15454716164688348\n",
            "Epoch 7, Loss: 0.15280749889376213, Validation Loss: 0.15336867600537005\n",
            "Epoch 8, Loss: 0.15142644255723334, Validation Loss: 0.15247068468464534\n",
            "Epoch 9, Loss: 0.1499596042893504, Validation Loss: 0.15067638439916403\n",
            "Epoch 10, Loss: 0.14910726010126, Validation Loss: 0.1497294877054264\n"
          ]
        },
        {
          "output_type": "display_data",
          "data": {
            "text/plain": [
              "<IPython.core.display.HTML object>"
            ],
            "text/html": []
          },
          "metadata": {}
        },
        {
          "output_type": "display_data",
          "data": {
            "text/plain": [
              "<IPython.core.display.HTML object>"
            ],
            "text/html": [
              "<br>    <style><br>        .wandb-row {<br>            display: flex;<br>            flex-direction: row;<br>            flex-wrap: wrap;<br>            justify-content: flex-start;<br>            width: 100%;<br>        }<br>        .wandb-col {<br>            display: flex;<br>            flex-direction: column;<br>            flex-basis: 100%;<br>            flex: 1;<br>            padding: 10px;<br>        }<br>    </style><br><div class=\"wandb-row\"><div class=\"wandb-col\"><h3>Run history:</h3><br/><table class=\"wandb\"><tr><td>epoch</td><td>▁▂▃▃▄▅▆▆▇█</td></tr><tr><td>train_accuracy</td><td>▃▃▅▆▇█▆▅▄▁</td></tr><tr><td>train_loss</td><td>██▇▆▆▅▄▃▂▁</td></tr><tr><td>val_accuracy</td><td>▃▅▆▆█▇▆▄▃▁</td></tr><tr><td>val_loss</td><td>██▇▇▅▅▄▃▂▁</td></tr></table><br/></div><div class=\"wandb-col\"><h3>Run summary:</h3><br/><table class=\"wandb\"><tr><td>epoch</td><td>10</td></tr><tr><td>train_accuracy</td><td>10.6037</td></tr><tr><td>train_loss</td><td>0.14911</td></tr><tr><td>val_accuracy</td><td>10.33333</td></tr><tr><td>val_loss</td><td>0.14973</td></tr></table><br/></div></div>"
            ]
          },
          "metadata": {}
        },
        {
          "output_type": "display_data",
          "data": {
            "text/plain": [
              "<IPython.core.display.HTML object>"
            ],
            "text/html": [
              " View run <strong style=\"color:#cdcd00\">ac-tanh_hs-64_epc-10_nl-5_lr0.0001_wd-0_opt-nag_bs-64_wi-random_loss-<function mse_loss at 0x7c4fe51c8ae0></strong> at: <a href='https://wandb.ai/bgorai005-iit-madras/deep_learning_assignment_1/runs/ozani8fx' target=\"_blank\">https://wandb.ai/bgorai005-iit-madras/deep_learning_assignment_1/runs/ozani8fx</a><br> View project at: <a href='https://wandb.ai/bgorai005-iit-madras/deep_learning_assignment_1' target=\"_blank\">https://wandb.ai/bgorai005-iit-madras/deep_learning_assignment_1</a><br>Synced 5 W&B file(s), 0 media file(s), 0 artifact file(s) and 0 other file(s)"
            ]
          },
          "metadata": {}
        },
        {
          "output_type": "display_data",
          "data": {
            "text/plain": [
              "<IPython.core.display.HTML object>"
            ],
            "text/html": [
              "Find logs at: <code>./wandb/run-20250316_201402-ozani8fx/logs</code>"
            ]
          },
          "metadata": {}
        },
        {
          "output_type": "stream",
          "name": "stderr",
          "text": [
            "\u001b[34m\u001b[1mwandb\u001b[0m: Agent Starting Run: jdrgmw8j with config:\n",
            "\u001b[34m\u001b[1mwandb\u001b[0m: \tactivation_hidden: tanh\n",
            "\u001b[34m\u001b[1mwandb\u001b[0m: \tactivation_output: softmax\n",
            "\u001b[34m\u001b[1mwandb\u001b[0m: \tbatch_size: 16\n",
            "\u001b[34m\u001b[1mwandb\u001b[0m: \tepochs: 10\n",
            "\u001b[34m\u001b[1mwandb\u001b[0m: \thidden_size: 32\n",
            "\u001b[34m\u001b[1mwandb\u001b[0m: \tlearning_rate: 0.001\n",
            "\u001b[34m\u001b[1mwandb\u001b[0m: \tnum_layers: 4\n",
            "\u001b[34m\u001b[1mwandb\u001b[0m: \toptimizer: momentum\n",
            "\u001b[34m\u001b[1mwandb\u001b[0m: \tweight_decay: 0\n",
            "\u001b[34m\u001b[1mwandb\u001b[0m: \tweight_ini_method: Xavier\n"
          ]
        },
        {
          "output_type": "display_data",
          "data": {
            "text/plain": [
              "<IPython.core.display.HTML object>"
            ],
            "text/html": [
              "Tracking run with wandb version 0.19.8"
            ]
          },
          "metadata": {}
        },
        {
          "output_type": "display_data",
          "data": {
            "text/plain": [
              "<IPython.core.display.HTML object>"
            ],
            "text/html": [
              "Run data is saved locally in <code>/content/wandb/run-20250316_201559-jdrgmw8j</code>"
            ]
          },
          "metadata": {}
        },
        {
          "output_type": "display_data",
          "data": {
            "text/plain": [
              "<IPython.core.display.HTML object>"
            ],
            "text/html": [
              "Syncing run <strong><a href='https://wandb.ai/bgorai005-iit-madras/deep_learning_assignment_1/runs/jdrgmw8j' target=\"_blank\">driven-sweep-47</a></strong> to <a href='https://wandb.ai/bgorai005-iit-madras/deep_learning_assignment_1' target=\"_blank\">Weights & Biases</a> (<a href='https://wandb.me/developer-guide' target=\"_blank\">docs</a>)<br>Sweep page: <a href='https://wandb.ai/bgorai005-iit-madras/deep_learning_assignment_1/sweeps/4uv2tuxd' target=\"_blank\">https://wandb.ai/bgorai005-iit-madras/deep_learning_assignment_1/sweeps/4uv2tuxd</a>"
            ]
          },
          "metadata": {}
        },
        {
          "output_type": "display_data",
          "data": {
            "text/plain": [
              "<IPython.core.display.HTML object>"
            ],
            "text/html": [
              " View project at <a href='https://wandb.ai/bgorai005-iit-madras/deep_learning_assignment_1' target=\"_blank\">https://wandb.ai/bgorai005-iit-madras/deep_learning_assignment_1</a>"
            ]
          },
          "metadata": {}
        },
        {
          "output_type": "display_data",
          "data": {
            "text/plain": [
              "<IPython.core.display.HTML object>"
            ],
            "text/html": [
              " View sweep at <a href='https://wandb.ai/bgorai005-iit-madras/deep_learning_assignment_1/sweeps/4uv2tuxd' target=\"_blank\">https://wandb.ai/bgorai005-iit-madras/deep_learning_assignment_1/sweeps/4uv2tuxd</a>"
            ]
          },
          "metadata": {}
        },
        {
          "output_type": "display_data",
          "data": {
            "text/plain": [
              "<IPython.core.display.HTML object>"
            ],
            "text/html": [
              " View run at <a href='https://wandb.ai/bgorai005-iit-madras/deep_learning_assignment_1/runs/jdrgmw8j' target=\"_blank\">https://wandb.ai/bgorai005-iit-madras/deep_learning_assignment_1/runs/jdrgmw8j</a>"
            ]
          },
          "metadata": {}
        },
        {
          "output_type": "stream",
          "name": "stdout",
          "text": [
            "[784, 32, 32, 32, 32, 10]\n",
            "Epoch 1, Train Loss: 0.02190263151260084, Val Loss: 0.022830420234497724\n",
            "Epoch 2, Train Loss: 0.019609905724893368, Val Loss: 0.020562114860500014\n",
            "Epoch 3, Train Loss: 0.018291357650389976, Val Loss: 0.019723318435563193\n",
            "Epoch 4, Train Loss: 0.018309823315674722, Val Loss: 0.020042549170235863\n",
            "Epoch 5, Train Loss: 0.016883001016979416, Val Loss: 0.018671779641376812\n",
            "Epoch 6, Train Loss: 0.017287001926623535, Val Loss: 0.019587960600353005\n",
            "Epoch 7, Train Loss: 0.015422666130953331, Val Loss: 0.01794280958774843\n",
            "Epoch 8, Train Loss: 0.016153420048671756, Val Loss: 0.01847028589431725\n",
            "Epoch 9, Train Loss: 0.015340584813932181, Val Loss: 0.0179659163356897\n",
            "Epoch 10, Train Loss: 0.014597765389822876, Val Loss: 0.01739014696806659\n"
          ]
        },
        {
          "output_type": "display_data",
          "data": {
            "text/plain": [
              "<IPython.core.display.HTML object>"
            ],
            "text/html": []
          },
          "metadata": {}
        },
        {
          "output_type": "display_data",
          "data": {
            "text/plain": [
              "<IPython.core.display.HTML object>"
            ],
            "text/html": [
              "<br>    <style><br>        .wandb-row {<br>            display: flex;<br>            flex-direction: row;<br>            flex-wrap: wrap;<br>            justify-content: flex-start;<br>            width: 100%;<br>        }<br>        .wandb-col {<br>            display: flex;<br>            flex-direction: column;<br>            flex-basis: 100%;<br>            flex: 1;<br>            padding: 10px;<br>        }<br>    </style><br><div class=\"wandb-row\"><div class=\"wandb-col\"><h3>Run history:</h3><br/><table class=\"wandb\"><tr><td>epoch</td><td>▁▂▃▃▄▅▆▆▇█</td></tr><tr><td>train_accuracy</td><td>▁▃▄▄▆▅▇▇▇█</td></tr><tr><td>train_loss</td><td>█▆▅▅▃▄▂▂▂▁</td></tr><tr><td>val_accuracy</td><td>▁▃▅▄▆▅▆▆▆█</td></tr><tr><td>val_loss</td><td>█▅▄▄▃▄▂▂▂▁</td></tr></table><br/></div><div class=\"wandb-col\"><h3>Run summary:</h3><br/><table class=\"wandb\"><tr><td>epoch</td><td>10</td></tr><tr><td>train_accuracy</td><td>90.01296</td></tr><tr><td>train_loss</td><td>0.0146</td></tr><tr><td>val_accuracy</td><td>88.13333</td></tr><tr><td>val_loss</td><td>0.01739</td></tr></table><br/></div></div>"
            ]
          },
          "metadata": {}
        },
        {
          "output_type": "display_data",
          "data": {
            "text/plain": [
              "<IPython.core.display.HTML object>"
            ],
            "text/html": [
              " View run <strong style=\"color:#cdcd00\">ac-tanh_hs-32_epc-10_nl-4_lr0.001_wd-0_opt-momentum_bs-16_wi-Xavier_loss-<function mse_loss at 0x7c4fe51c8ae0></strong> at: <a href='https://wandb.ai/bgorai005-iit-madras/deep_learning_assignment_1/runs/jdrgmw8j' target=\"_blank\">https://wandb.ai/bgorai005-iit-madras/deep_learning_assignment_1/runs/jdrgmw8j</a><br> View project at: <a href='https://wandb.ai/bgorai005-iit-madras/deep_learning_assignment_1' target=\"_blank\">https://wandb.ai/bgorai005-iit-madras/deep_learning_assignment_1</a><br>Synced 5 W&B file(s), 0 media file(s), 0 artifact file(s) and 0 other file(s)"
            ]
          },
          "metadata": {}
        },
        {
          "output_type": "display_data",
          "data": {
            "text/plain": [
              "<IPython.core.display.HTML object>"
            ],
            "text/html": [
              "Find logs at: <code>./wandb/run-20250316_201559-jdrgmw8j/logs</code>"
            ]
          },
          "metadata": {}
        },
        {
          "output_type": "stream",
          "name": "stderr",
          "text": [
            "\u001b[34m\u001b[1mwandb\u001b[0m: Agent Starting Run: ydkuk6f1 with config:\n",
            "\u001b[34m\u001b[1mwandb\u001b[0m: \tactivation_hidden: sigmoid\n",
            "\u001b[34m\u001b[1mwandb\u001b[0m: \tactivation_output: softmax\n",
            "\u001b[34m\u001b[1mwandb\u001b[0m: \tbatch_size: 32\n",
            "\u001b[34m\u001b[1mwandb\u001b[0m: \tepochs: 5\n",
            "\u001b[34m\u001b[1mwandb\u001b[0m: \thidden_size: 32\n",
            "\u001b[34m\u001b[1mwandb\u001b[0m: \tlearning_rate: 0.001\n",
            "\u001b[34m\u001b[1mwandb\u001b[0m: \tnum_layers: 4\n",
            "\u001b[34m\u001b[1mwandb\u001b[0m: \toptimizer: nadam\n",
            "\u001b[34m\u001b[1mwandb\u001b[0m: \tweight_decay: 0\n",
            "\u001b[34m\u001b[1mwandb\u001b[0m: \tweight_ini_method: Xavier\n"
          ]
        },
        {
          "output_type": "display_data",
          "data": {
            "text/plain": [
              "<IPython.core.display.HTML object>"
            ],
            "text/html": [
              "Tracking run with wandb version 0.19.8"
            ]
          },
          "metadata": {}
        },
        {
          "output_type": "display_data",
          "data": {
            "text/plain": [
              "<IPython.core.display.HTML object>"
            ],
            "text/html": [
              "Run data is saved locally in <code>/content/wandb/run-20250316_201721-ydkuk6f1</code>"
            ]
          },
          "metadata": {}
        },
        {
          "output_type": "display_data",
          "data": {
            "text/plain": [
              "<IPython.core.display.HTML object>"
            ],
            "text/html": [
              "Syncing run <strong><a href='https://wandb.ai/bgorai005-iit-madras/deep_learning_assignment_1/runs/ydkuk6f1' target=\"_blank\">playful-sweep-48</a></strong> to <a href='https://wandb.ai/bgorai005-iit-madras/deep_learning_assignment_1' target=\"_blank\">Weights & Biases</a> (<a href='https://wandb.me/developer-guide' target=\"_blank\">docs</a>)<br>Sweep page: <a href='https://wandb.ai/bgorai005-iit-madras/deep_learning_assignment_1/sweeps/4uv2tuxd' target=\"_blank\">https://wandb.ai/bgorai005-iit-madras/deep_learning_assignment_1/sweeps/4uv2tuxd</a>"
            ]
          },
          "metadata": {}
        },
        {
          "output_type": "display_data",
          "data": {
            "text/plain": [
              "<IPython.core.display.HTML object>"
            ],
            "text/html": [
              " View project at <a href='https://wandb.ai/bgorai005-iit-madras/deep_learning_assignment_1' target=\"_blank\">https://wandb.ai/bgorai005-iit-madras/deep_learning_assignment_1</a>"
            ]
          },
          "metadata": {}
        },
        {
          "output_type": "display_data",
          "data": {
            "text/plain": [
              "<IPython.core.display.HTML object>"
            ],
            "text/html": [
              " View sweep at <a href='https://wandb.ai/bgorai005-iit-madras/deep_learning_assignment_1/sweeps/4uv2tuxd' target=\"_blank\">https://wandb.ai/bgorai005-iit-madras/deep_learning_assignment_1/sweeps/4uv2tuxd</a>"
            ]
          },
          "metadata": {}
        },
        {
          "output_type": "display_data",
          "data": {
            "text/plain": [
              "<IPython.core.display.HTML object>"
            ],
            "text/html": [
              " View run at <a href='https://wandb.ai/bgorai005-iit-madras/deep_learning_assignment_1/runs/ydkuk6f1' target=\"_blank\">https://wandb.ai/bgorai005-iit-madras/deep_learning_assignment_1/runs/ydkuk6f1</a>"
            ]
          },
          "metadata": {}
        },
        {
          "output_type": "stream",
          "name": "stdout",
          "text": [
            "[784, 32, 32, 32, 32, 10]\n",
            "Epoch 1, Loss: 0.033656200203677926, Validation Loss: 0.03479229282772645\n",
            "Epoch 2, Loss: 0.027406469790127334, Validation Loss: 0.028661715891275908\n",
            "Epoch 3, Loss: 0.02471405346752415, Validation Loss: 0.02603137052066161\n",
            "Epoch 4, Loss: 0.022615876299851515, Validation Loss: 0.024209893410845045\n",
            "Epoch 5, Loss: 0.021112119657976502, Validation Loss: 0.022877218290432932\n"
          ]
        },
        {
          "output_type": "display_data",
          "data": {
            "text/plain": [
              "<IPython.core.display.HTML object>"
            ],
            "text/html": []
          },
          "metadata": {}
        },
        {
          "output_type": "display_data",
          "data": {
            "text/plain": [
              "<IPython.core.display.HTML object>"
            ],
            "text/html": [
              "<br>    <style><br>        .wandb-row {<br>            display: flex;<br>            flex-direction: row;<br>            flex-wrap: wrap;<br>            justify-content: flex-start;<br>            width: 100%;<br>        }<br>        .wandb-col {<br>            display: flex;<br>            flex-direction: column;<br>            flex-basis: 100%;<br>            flex: 1;<br>            padding: 10px;<br>        }<br>    </style><br><div class=\"wandb-row\"><div class=\"wandb-col\"><h3>Run history:</h3><br/><table class=\"wandb\"><tr><td>epoch</td><td>▁▃▅▆█</td></tr><tr><td>train_accuracy</td><td>▁▃▅▇█</td></tr><tr><td>train_loss</td><td>█▅▃▂▁</td></tr><tr><td>val_accuracy</td><td>▁▃▆▇█</td></tr><tr><td>val_loss</td><td>█▄▃▂▁</td></tr></table><br/></div><div class=\"wandb-col\"><h3>Run summary:</h3><br/><table class=\"wandb\"><tr><td>epoch</td><td>5</td></tr><tr><td>train_accuracy</td><td>86.22963</td></tr><tr><td>train_loss</td><td>0.02111</td></tr><tr><td>val_accuracy</td><td>84.63333</td></tr><tr><td>val_loss</td><td>0.02288</td></tr></table><br/></div></div>"
            ]
          },
          "metadata": {}
        },
        {
          "output_type": "display_data",
          "data": {
            "text/plain": [
              "<IPython.core.display.HTML object>"
            ],
            "text/html": [
              " View run <strong style=\"color:#cdcd00\">ac-sigmoid_hs-32_epc-5_nl-4_lr0.001_wd-0_opt-nadam_bs-32_wi-Xavier_loss-<function mse_loss at 0x7c4fe51c8ae0></strong> at: <a href='https://wandb.ai/bgorai005-iit-madras/deep_learning_assignment_1/runs/ydkuk6f1' target=\"_blank\">https://wandb.ai/bgorai005-iit-madras/deep_learning_assignment_1/runs/ydkuk6f1</a><br> View project at: <a href='https://wandb.ai/bgorai005-iit-madras/deep_learning_assignment_1' target=\"_blank\">https://wandb.ai/bgorai005-iit-madras/deep_learning_assignment_1</a><br>Synced 5 W&B file(s), 0 media file(s), 0 artifact file(s) and 0 other file(s)"
            ]
          },
          "metadata": {}
        },
        {
          "output_type": "display_data",
          "data": {
            "text/plain": [
              "<IPython.core.display.HTML object>"
            ],
            "text/html": [
              "Find logs at: <code>./wandb/run-20250316_201721-ydkuk6f1/logs</code>"
            ]
          },
          "metadata": {}
        },
        {
          "output_type": "stream",
          "name": "stderr",
          "text": [
            "\u001b[34m\u001b[1mwandb\u001b[0m: Agent Starting Run: 6gc1md8a with config:\n",
            "\u001b[34m\u001b[1mwandb\u001b[0m: \tactivation_hidden: sigmoid\n",
            "\u001b[34m\u001b[1mwandb\u001b[0m: \tactivation_output: softmax\n",
            "\u001b[34m\u001b[1mwandb\u001b[0m: \tbatch_size: 16\n",
            "\u001b[34m\u001b[1mwandb\u001b[0m: \tepochs: 5\n",
            "\u001b[34m\u001b[1mwandb\u001b[0m: \thidden_size: 128\n",
            "\u001b[34m\u001b[1mwandb\u001b[0m: \tlearning_rate: 0.0001\n",
            "\u001b[34m\u001b[1mwandb\u001b[0m: \tnum_layers: 3\n",
            "\u001b[34m\u001b[1mwandb\u001b[0m: \toptimizer: momentum\n",
            "\u001b[34m\u001b[1mwandb\u001b[0m: \tweight_decay: 0\n",
            "\u001b[34m\u001b[1mwandb\u001b[0m: \tweight_ini_method: random\n"
          ]
        },
        {
          "output_type": "display_data",
          "data": {
            "text/plain": [
              "<IPython.core.display.HTML object>"
            ],
            "text/html": [
              "Tracking run with wandb version 0.19.8"
            ]
          },
          "metadata": {}
        },
        {
          "output_type": "display_data",
          "data": {
            "text/plain": [
              "<IPython.core.display.HTML object>"
            ],
            "text/html": [
              "Run data is saved locally in <code>/content/wandb/run-20250316_201801-6gc1md8a</code>"
            ]
          },
          "metadata": {}
        },
        {
          "output_type": "display_data",
          "data": {
            "text/plain": [
              "<IPython.core.display.HTML object>"
            ],
            "text/html": [
              "Syncing run <strong><a href='https://wandb.ai/bgorai005-iit-madras/deep_learning_assignment_1/runs/6gc1md8a' target=\"_blank\">decent-sweep-49</a></strong> to <a href='https://wandb.ai/bgorai005-iit-madras/deep_learning_assignment_1' target=\"_blank\">Weights & Biases</a> (<a href='https://wandb.me/developer-guide' target=\"_blank\">docs</a>)<br>Sweep page: <a href='https://wandb.ai/bgorai005-iit-madras/deep_learning_assignment_1/sweeps/4uv2tuxd' target=\"_blank\">https://wandb.ai/bgorai005-iit-madras/deep_learning_assignment_1/sweeps/4uv2tuxd</a>"
            ]
          },
          "metadata": {}
        },
        {
          "output_type": "display_data",
          "data": {
            "text/plain": [
              "<IPython.core.display.HTML object>"
            ],
            "text/html": [
              " View project at <a href='https://wandb.ai/bgorai005-iit-madras/deep_learning_assignment_1' target=\"_blank\">https://wandb.ai/bgorai005-iit-madras/deep_learning_assignment_1</a>"
            ]
          },
          "metadata": {}
        },
        {
          "output_type": "display_data",
          "data": {
            "text/plain": [
              "<IPython.core.display.HTML object>"
            ],
            "text/html": [
              " View sweep at <a href='https://wandb.ai/bgorai005-iit-madras/deep_learning_assignment_1/sweeps/4uv2tuxd' target=\"_blank\">https://wandb.ai/bgorai005-iit-madras/deep_learning_assignment_1/sweeps/4uv2tuxd</a>"
            ]
          },
          "metadata": {}
        },
        {
          "output_type": "display_data",
          "data": {
            "text/plain": [
              "<IPython.core.display.HTML object>"
            ],
            "text/html": [
              " View run at <a href='https://wandb.ai/bgorai005-iit-madras/deep_learning_assignment_1/runs/6gc1md8a' target=\"_blank\">https://wandb.ai/bgorai005-iit-madras/deep_learning_assignment_1/runs/6gc1md8a</a>"
            ]
          },
          "metadata": {}
        },
        {
          "output_type": "stream",
          "name": "stdout",
          "text": [
            "[784, 128, 128, 128, 10]\n",
            "Epoch 1, Train Loss: 0.06964011322697068, Val Loss: 0.07019640788465793\n",
            "Epoch 2, Train Loss: 0.056056287075421055, Val Loss: 0.05675045715519394\n",
            "Epoch 3, Train Loss: 0.05006888767106987, Val Loss: 0.050769624512373095\n",
            "Epoch 4, Train Loss: 0.046328068306194625, Val Loss: 0.04689255374915714\n",
            "Epoch 5, Train Loss: 0.04362800484191598, Val Loss: 0.04416692536974487\n"
          ]
        },
        {
          "output_type": "display_data",
          "data": {
            "text/plain": [
              "<IPython.core.display.HTML object>"
            ],
            "text/html": []
          },
          "metadata": {}
        },
        {
          "output_type": "display_data",
          "data": {
            "text/plain": [
              "<IPython.core.display.HTML object>"
            ],
            "text/html": [
              "<br>    <style><br>        .wandb-row {<br>            display: flex;<br>            flex-direction: row;<br>            flex-wrap: wrap;<br>            justify-content: flex-start;<br>            width: 100%;<br>        }<br>        .wandb-col {<br>            display: flex;<br>            flex-direction: column;<br>            flex-basis: 100%;<br>            flex: 1;<br>            padding: 10px;<br>        }<br>    </style><br><div class=\"wandb-row\"><div class=\"wandb-col\"><h3>Run history:</h3><br/><table class=\"wandb\"><tr><td>epoch</td><td>▁▃▅▆█</td></tr><tr><td>train_accuracy</td><td>▁▅▆▇█</td></tr><tr><td>train_loss</td><td>█▄▃▂▁</td></tr><tr><td>val_accuracy</td><td>▁▅▆▇█</td></tr><tr><td>val_loss</td><td>█▄▃▂▁</td></tr></table><br/></div><div class=\"wandb-col\"><h3>Run summary:</h3><br/><table class=\"wandb\"><tr><td>epoch</td><td>5</td></tr><tr><td>train_accuracy</td><td>67.33889</td></tr><tr><td>train_loss</td><td>0.04363</td></tr><tr><td>val_accuracy</td><td>66.8</td></tr><tr><td>val_loss</td><td>0.04417</td></tr></table><br/></div></div>"
            ]
          },
          "metadata": {}
        },
        {
          "output_type": "display_data",
          "data": {
            "text/plain": [
              "<IPython.core.display.HTML object>"
            ],
            "text/html": [
              " View run <strong style=\"color:#cdcd00\">ac-sigmoid_hs-128_epc-5_nl-3_lr0.0001_wd-0_opt-momentum_bs-16_wi-random_loss-<function mse_loss at 0x7c4fe51c8ae0></strong> at: <a href='https://wandb.ai/bgorai005-iit-madras/deep_learning_assignment_1/runs/6gc1md8a' target=\"_blank\">https://wandb.ai/bgorai005-iit-madras/deep_learning_assignment_1/runs/6gc1md8a</a><br> View project at: <a href='https://wandb.ai/bgorai005-iit-madras/deep_learning_assignment_1' target=\"_blank\">https://wandb.ai/bgorai005-iit-madras/deep_learning_assignment_1</a><br>Synced 5 W&B file(s), 0 media file(s), 0 artifact file(s) and 0 other file(s)"
            ]
          },
          "metadata": {}
        },
        {
          "output_type": "display_data",
          "data": {
            "text/plain": [
              "<IPython.core.display.HTML object>"
            ],
            "text/html": [
              "Find logs at: <code>./wandb/run-20250316_201801-6gc1md8a/logs</code>"
            ]
          },
          "metadata": {}
        },
        {
          "output_type": "stream",
          "name": "stderr",
          "text": [
            "\u001b[34m\u001b[1mwandb\u001b[0m: Agent Starting Run: vezmh44u with config:\n",
            "\u001b[34m\u001b[1mwandb\u001b[0m: \tactivation_hidden: tanh\n",
            "\u001b[34m\u001b[1mwandb\u001b[0m: \tactivation_output: softmax\n",
            "\u001b[34m\u001b[1mwandb\u001b[0m: \tbatch_size: 16\n",
            "\u001b[34m\u001b[1mwandb\u001b[0m: \tepochs: 10\n",
            "\u001b[34m\u001b[1mwandb\u001b[0m: \thidden_size: 64\n",
            "\u001b[34m\u001b[1mwandb\u001b[0m: \tlearning_rate: 0.0001\n",
            "\u001b[34m\u001b[1mwandb\u001b[0m: \tnum_layers: 4\n",
            "\u001b[34m\u001b[1mwandb\u001b[0m: \toptimizer: nag\n",
            "\u001b[34m\u001b[1mwandb\u001b[0m: \tweight_decay: 0\n",
            "\u001b[34m\u001b[1mwandb\u001b[0m: \tweight_ini_method: random\n"
          ]
        },
        {
          "output_type": "display_data",
          "data": {
            "text/plain": [
              "<IPython.core.display.HTML object>"
            ],
            "text/html": [
              "Tracking run with wandb version 0.19.8"
            ]
          },
          "metadata": {}
        },
        {
          "output_type": "display_data",
          "data": {
            "text/plain": [
              "<IPython.core.display.HTML object>"
            ],
            "text/html": [
              "Run data is saved locally in <code>/content/wandb/run-20250316_201928-vezmh44u</code>"
            ]
          },
          "metadata": {}
        },
        {
          "output_type": "display_data",
          "data": {
            "text/plain": [
              "<IPython.core.display.HTML object>"
            ],
            "text/html": [
              "Syncing run <strong><a href='https://wandb.ai/bgorai005-iit-madras/deep_learning_assignment_1/runs/vezmh44u' target=\"_blank\">sunny-sweep-50</a></strong> to <a href='https://wandb.ai/bgorai005-iit-madras/deep_learning_assignment_1' target=\"_blank\">Weights & Biases</a> (<a href='https://wandb.me/developer-guide' target=\"_blank\">docs</a>)<br>Sweep page: <a href='https://wandb.ai/bgorai005-iit-madras/deep_learning_assignment_1/sweeps/4uv2tuxd' target=\"_blank\">https://wandb.ai/bgorai005-iit-madras/deep_learning_assignment_1/sweeps/4uv2tuxd</a>"
            ]
          },
          "metadata": {}
        },
        {
          "output_type": "display_data",
          "data": {
            "text/plain": [
              "<IPython.core.display.HTML object>"
            ],
            "text/html": [
              " View project at <a href='https://wandb.ai/bgorai005-iit-madras/deep_learning_assignment_1' target=\"_blank\">https://wandb.ai/bgorai005-iit-madras/deep_learning_assignment_1</a>"
            ]
          },
          "metadata": {}
        },
        {
          "output_type": "display_data",
          "data": {
            "text/plain": [
              "<IPython.core.display.HTML object>"
            ],
            "text/html": [
              " View sweep at <a href='https://wandb.ai/bgorai005-iit-madras/deep_learning_assignment_1/sweeps/4uv2tuxd' target=\"_blank\">https://wandb.ai/bgorai005-iit-madras/deep_learning_assignment_1/sweeps/4uv2tuxd</a>"
            ]
          },
          "metadata": {}
        },
        {
          "output_type": "display_data",
          "data": {
            "text/plain": [
              "<IPython.core.display.HTML object>"
            ],
            "text/html": [
              " View run at <a href='https://wandb.ai/bgorai005-iit-madras/deep_learning_assignment_1/runs/vezmh44u' target=\"_blank\">https://wandb.ai/bgorai005-iit-madras/deep_learning_assignment_1/runs/vezmh44u</a>"
            ]
          },
          "metadata": {}
        },
        {
          "output_type": "stream",
          "name": "stdout",
          "text": [
            "[784, 64, 64, 64, 64, 10]\n",
            "Epoch 1, Loss: 0.15628898967976104, Validation Loss: 0.1571655919258103\n",
            "Epoch 2, Loss: 0.15396974127024612, Validation Loss: 0.1541377399887102\n",
            "Epoch 3, Loss: 0.14663076271462325, Validation Loss: 0.14637874274635362\n",
            "Epoch 4, Loss: 0.13412287915915835, Validation Loss: 0.13436309916773723\n",
            "Epoch 5, Loss: 0.11239344125073748, Validation Loss: 0.11286270516410901\n",
            "Epoch 6, Loss: 0.1035541824212521, Validation Loss: 0.10403739299204932\n",
            "Epoch 7, Loss: 0.1019305001498546, Validation Loss: 0.10236694577353957\n",
            "Epoch 8, Loss: 0.09431002925253061, Validation Loss: 0.09486008578113488\n",
            "Epoch 9, Loss: 0.09260703876403455, Validation Loss: 0.09301456850403701\n",
            "Epoch 10, Loss: 0.09124506862170717, Validation Loss: 0.09133657429427348\n"
          ]
        },
        {
          "output_type": "display_data",
          "data": {
            "text/plain": [
              "<IPython.core.display.HTML object>"
            ],
            "text/html": []
          },
          "metadata": {}
        },
        {
          "output_type": "display_data",
          "data": {
            "text/plain": [
              "<IPython.core.display.HTML object>"
            ],
            "text/html": [
              "<br>    <style><br>        .wandb-row {<br>            display: flex;<br>            flex-direction: row;<br>            flex-wrap: wrap;<br>            justify-content: flex-start;<br>            width: 100%;<br>        }<br>        .wandb-col {<br>            display: flex;<br>            flex-direction: column;<br>            flex-basis: 100%;<br>            flex: 1;<br>            padding: 10px;<br>        }<br>    </style><br><div class=\"wandb-row\"><div class=\"wandb-col\"><h3>Run history:</h3><br/><table class=\"wandb\"><tr><td>epoch</td><td>▁▂▃▃▄▅▆▆▇█</td></tr><tr><td>train_accuracy</td><td>▇▅█▆▂▁▄▃▂▂</td></tr><tr><td>train_loss</td><td>██▇▆▃▂▂▁▁▁</td></tr><tr><td>val_accuracy</td><td>▅▅█▆▃▂▄▃▁▃</td></tr><tr><td>val_loss</td><td>██▇▆▃▂▂▁▁▁</td></tr></table><br/></div><div class=\"wandb-col\"><h3>Run summary:</h3><br/><table class=\"wandb\"><tr><td>epoch</td><td>10</td></tr><tr><td>train_accuracy</td><td>10.12593</td></tr><tr><td>train_loss</td><td>0.09125</td></tr><tr><td>val_accuracy</td><td>9.93333</td></tr><tr><td>val_loss</td><td>0.09134</td></tr></table><br/></div></div>"
            ]
          },
          "metadata": {}
        },
        {
          "output_type": "display_data",
          "data": {
            "text/plain": [
              "<IPython.core.display.HTML object>"
            ],
            "text/html": [
              " View run <strong style=\"color:#cdcd00\">ac-tanh_hs-64_epc-10_nl-4_lr0.0001_wd-0_opt-nag_bs-16_wi-random_loss-<function mse_loss at 0x7c4fe51c8ae0></strong> at: <a href='https://wandb.ai/bgorai005-iit-madras/deep_learning_assignment_1/runs/vezmh44u' target=\"_blank\">https://wandb.ai/bgorai005-iit-madras/deep_learning_assignment_1/runs/vezmh44u</a><br> View project at: <a href='https://wandb.ai/bgorai005-iit-madras/deep_learning_assignment_1' target=\"_blank\">https://wandb.ai/bgorai005-iit-madras/deep_learning_assignment_1</a><br>Synced 5 W&B file(s), 0 media file(s), 0 artifact file(s) and 0 other file(s)"
            ]
          },
          "metadata": {}
        },
        {
          "output_type": "display_data",
          "data": {
            "text/plain": [
              "<IPython.core.display.HTML object>"
            ],
            "text/html": [
              "Find logs at: <code>./wandb/run-20250316_201928-vezmh44u/logs</code>"
            ]
          },
          "metadata": {}
        },
        {
          "output_type": "stream",
          "name": "stderr",
          "text": [
            "\u001b[34m\u001b[1mwandb\u001b[0m: Agent Starting Run: q0z94421 with config:\n",
            "\u001b[34m\u001b[1mwandb\u001b[0m: \tactivation_hidden: tanh\n",
            "\u001b[34m\u001b[1mwandb\u001b[0m: \tactivation_output: softmax\n",
            "\u001b[34m\u001b[1mwandb\u001b[0m: \tbatch_size: 64\n",
            "\u001b[34m\u001b[1mwandb\u001b[0m: \tepochs: 5\n",
            "\u001b[34m\u001b[1mwandb\u001b[0m: \thidden_size: 128\n",
            "\u001b[34m\u001b[1mwandb\u001b[0m: \tlearning_rate: 0.001\n",
            "\u001b[34m\u001b[1mwandb\u001b[0m: \tnum_layers: 5\n",
            "\u001b[34m\u001b[1mwandb\u001b[0m: \toptimizer: adam\n",
            "\u001b[34m\u001b[1mwandb\u001b[0m: \tweight_decay: 0\n",
            "\u001b[34m\u001b[1mwandb\u001b[0m: \tweight_ini_method: Xavier\n"
          ]
        },
        {
          "output_type": "display_data",
          "data": {
            "text/plain": [
              "<IPython.core.display.HTML object>"
            ],
            "text/html": [
              "Tracking run with wandb version 0.19.8"
            ]
          },
          "metadata": {}
        },
        {
          "output_type": "display_data",
          "data": {
            "text/plain": [
              "<IPython.core.display.HTML object>"
            ],
            "text/html": [
              "Run data is saved locally in <code>/content/wandb/run-20250316_202155-q0z94421</code>"
            ]
          },
          "metadata": {}
        },
        {
          "output_type": "display_data",
          "data": {
            "text/plain": [
              "<IPython.core.display.HTML object>"
            ],
            "text/html": [
              "Syncing run <strong><a href='https://wandb.ai/bgorai005-iit-madras/deep_learning_assignment_1/runs/q0z94421' target=\"_blank\">fresh-sweep-51</a></strong> to <a href='https://wandb.ai/bgorai005-iit-madras/deep_learning_assignment_1' target=\"_blank\">Weights & Biases</a> (<a href='https://wandb.me/developer-guide' target=\"_blank\">docs</a>)<br>Sweep page: <a href='https://wandb.ai/bgorai005-iit-madras/deep_learning_assignment_1/sweeps/4uv2tuxd' target=\"_blank\">https://wandb.ai/bgorai005-iit-madras/deep_learning_assignment_1/sweeps/4uv2tuxd</a>"
            ]
          },
          "metadata": {}
        },
        {
          "output_type": "display_data",
          "data": {
            "text/plain": [
              "<IPython.core.display.HTML object>"
            ],
            "text/html": [
              " View project at <a href='https://wandb.ai/bgorai005-iit-madras/deep_learning_assignment_1' target=\"_blank\">https://wandb.ai/bgorai005-iit-madras/deep_learning_assignment_1</a>"
            ]
          },
          "metadata": {}
        },
        {
          "output_type": "display_data",
          "data": {
            "text/plain": [
              "<IPython.core.display.HTML object>"
            ],
            "text/html": [
              " View sweep at <a href='https://wandb.ai/bgorai005-iit-madras/deep_learning_assignment_1/sweeps/4uv2tuxd' target=\"_blank\">https://wandb.ai/bgorai005-iit-madras/deep_learning_assignment_1/sweeps/4uv2tuxd</a>"
            ]
          },
          "metadata": {}
        },
        {
          "output_type": "display_data",
          "data": {
            "text/plain": [
              "<IPython.core.display.HTML object>"
            ],
            "text/html": [
              " View run at <a href='https://wandb.ai/bgorai005-iit-madras/deep_learning_assignment_1/runs/q0z94421' target=\"_blank\">https://wandb.ai/bgorai005-iit-madras/deep_learning_assignment_1/runs/q0z94421</a>"
            ]
          },
          "metadata": {}
        },
        {
          "output_type": "stream",
          "name": "stdout",
          "text": [
            "[784, 128, 128, 128, 128, 128, 10]\n",
            "Epoch 1, Train Loss: 0.021381350023011173, Val Loss: 0.02206308458012879\n",
            "Epoch 2, Train Loss: 0.01838776876521322, Val Loss: 0.019555011099662026\n",
            "Epoch 3, Train Loss: 0.01773849864796209, Val Loss: 0.019403350627841\n",
            "Epoch 4, Train Loss: 0.016606346518921695, Val Loss: 0.01862908375714595\n",
            "Epoch 5, Train Loss: 0.01423901093802731, Val Loss: 0.01688063679249049\n"
          ]
        },
        {
          "output_type": "display_data",
          "data": {
            "text/plain": [
              "<IPython.core.display.HTML object>"
            ],
            "text/html": []
          },
          "metadata": {}
        },
        {
          "output_type": "display_data",
          "data": {
            "text/plain": [
              "<IPython.core.display.HTML object>"
            ],
            "text/html": [
              "<br>    <style><br>        .wandb-row {<br>            display: flex;<br>            flex-direction: row;<br>            flex-wrap: wrap;<br>            justify-content: flex-start;<br>            width: 100%;<br>        }<br>        .wandb-col {<br>            display: flex;<br>            flex-direction: column;<br>            flex-basis: 100%;<br>            flex: 1;<br>            padding: 10px;<br>        }<br>    </style><br><div class=\"wandb-row\"><div class=\"wandb-col\"><h3>Run history:</h3><br/><table class=\"wandb\"><tr><td>epoch</td><td>▁▃▅▆█</td></tr><tr><td>train_accuracy</td><td>▁▄▄▆█</td></tr><tr><td>train_loss</td><td>█▅▄▃▁</td></tr><tr><td>val_accuracy</td><td>▁▅▄▅█</td></tr><tr><td>val_loss</td><td>█▅▄▃▁</td></tr></table><br/></div><div class=\"wandb-col\"><h3>Run summary:</h3><br/><table class=\"wandb\"><tr><td>epoch</td><td>5</td></tr><tr><td>train_accuracy</td><td>90.21481</td></tr><tr><td>train_loss</td><td>0.01424</td></tr><tr><td>val_accuracy</td><td>88.08333</td></tr><tr><td>val_loss</td><td>0.01688</td></tr></table><br/></div></div>"
            ]
          },
          "metadata": {}
        },
        {
          "output_type": "display_data",
          "data": {
            "text/plain": [
              "<IPython.core.display.HTML object>"
            ],
            "text/html": [
              " View run <strong style=\"color:#cdcd00\">ac-tanh_hs-128_epc-5_nl-5_lr0.001_wd-0_opt-adam_bs-64_wi-Xavier_loss-<function mse_loss at 0x7c4fe51c8ae0></strong> at: <a href='https://wandb.ai/bgorai005-iit-madras/deep_learning_assignment_1/runs/q0z94421' target=\"_blank\">https://wandb.ai/bgorai005-iit-madras/deep_learning_assignment_1/runs/q0z94421</a><br> View project at: <a href='https://wandb.ai/bgorai005-iit-madras/deep_learning_assignment_1' target=\"_blank\">https://wandb.ai/bgorai005-iit-madras/deep_learning_assignment_1</a><br>Synced 5 W&B file(s), 0 media file(s), 0 artifact file(s) and 0 other file(s)"
            ]
          },
          "metadata": {}
        },
        {
          "output_type": "display_data",
          "data": {
            "text/plain": [
              "<IPython.core.display.HTML object>"
            ],
            "text/html": [
              "Find logs at: <code>./wandb/run-20250316_202155-q0z94421/logs</code>"
            ]
          },
          "metadata": {}
        },
        {
          "output_type": "stream",
          "name": "stderr",
          "text": [
            "\u001b[34m\u001b[1mwandb\u001b[0m: Agent Starting Run: a9s9900q with config:\n",
            "\u001b[34m\u001b[1mwandb\u001b[0m: \tactivation_hidden: sigmoid\n",
            "\u001b[34m\u001b[1mwandb\u001b[0m: \tactivation_output: softmax\n",
            "\u001b[34m\u001b[1mwandb\u001b[0m: \tbatch_size: 32\n",
            "\u001b[34m\u001b[1mwandb\u001b[0m: \tepochs: 5\n",
            "\u001b[34m\u001b[1mwandb\u001b[0m: \thidden_size: 32\n",
            "\u001b[34m\u001b[1mwandb\u001b[0m: \tlearning_rate: 0.0001\n",
            "\u001b[34m\u001b[1mwandb\u001b[0m: \tnum_layers: 3\n",
            "\u001b[34m\u001b[1mwandb\u001b[0m: \toptimizer: RMSprop\n",
            "\u001b[34m\u001b[1mwandb\u001b[0m: \tweight_decay: 0\n",
            "\u001b[34m\u001b[1mwandb\u001b[0m: \tweight_ini_method: random\n"
          ]
        },
        {
          "output_type": "display_data",
          "data": {
            "text/plain": [
              "<IPython.core.display.HTML object>"
            ],
            "text/html": [
              "Tracking run with wandb version 0.19.8"
            ]
          },
          "metadata": {}
        },
        {
          "output_type": "display_data",
          "data": {
            "text/plain": [
              "<IPython.core.display.HTML object>"
            ],
            "text/html": [
              "Run data is saved locally in <code>/content/wandb/run-20250316_202402-a9s9900q</code>"
            ]
          },
          "metadata": {}
        },
        {
          "output_type": "display_data",
          "data": {
            "text/plain": [
              "<IPython.core.display.HTML object>"
            ],
            "text/html": [
              "Syncing run <strong><a href='https://wandb.ai/bgorai005-iit-madras/deep_learning_assignment_1/runs/a9s9900q' target=\"_blank\">pleasant-sweep-52</a></strong> to <a href='https://wandb.ai/bgorai005-iit-madras/deep_learning_assignment_1' target=\"_blank\">Weights & Biases</a> (<a href='https://wandb.me/developer-guide' target=\"_blank\">docs</a>)<br>Sweep page: <a href='https://wandb.ai/bgorai005-iit-madras/deep_learning_assignment_1/sweeps/4uv2tuxd' target=\"_blank\">https://wandb.ai/bgorai005-iit-madras/deep_learning_assignment_1/sweeps/4uv2tuxd</a>"
            ]
          },
          "metadata": {}
        },
        {
          "output_type": "display_data",
          "data": {
            "text/plain": [
              "<IPython.core.display.HTML object>"
            ],
            "text/html": [
              " View project at <a href='https://wandb.ai/bgorai005-iit-madras/deep_learning_assignment_1' target=\"_blank\">https://wandb.ai/bgorai005-iit-madras/deep_learning_assignment_1</a>"
            ]
          },
          "metadata": {}
        },
        {
          "output_type": "display_data",
          "data": {
            "text/plain": [
              "<IPython.core.display.HTML object>"
            ],
            "text/html": [
              " View sweep at <a href='https://wandb.ai/bgorai005-iit-madras/deep_learning_assignment_1/sweeps/4uv2tuxd' target=\"_blank\">https://wandb.ai/bgorai005-iit-madras/deep_learning_assignment_1/sweeps/4uv2tuxd</a>"
            ]
          },
          "metadata": {}
        },
        {
          "output_type": "display_data",
          "data": {
            "text/plain": [
              "<IPython.core.display.HTML object>"
            ],
            "text/html": [
              " View run at <a href='https://wandb.ai/bgorai005-iit-madras/deep_learning_assignment_1/runs/a9s9900q' target=\"_blank\">https://wandb.ai/bgorai005-iit-madras/deep_learning_assignment_1/runs/a9s9900q</a>"
            ]
          },
          "metadata": {}
        },
        {
          "output_type": "stream",
          "name": "stdout",
          "text": [
            "[784, 32, 32, 32, 10]\n",
            "Epoch 1, Loss: 0.0695, Val Loss: 0.0697, Train Acc: 44.00%, Val Acc: 43.98%\n",
            "Epoch 2, Loss: 0.0521, Val Loss: 0.0527, Train Acc: 63.18%, Val Acc: 62.52%\n",
            "Epoch 3, Loss: 0.0443, Val Loss: 0.0449, Train Acc: 67.84%, Val Acc: 67.62%\n",
            "Epoch 4, Loss: 0.0406, Val Loss: 0.0412, Train Acc: 70.36%, Val Acc: 69.30%\n",
            "Epoch 5, Loss: 0.0383, Val Loss: 0.0389, Train Acc: 72.08%, Val Acc: 71.50%\n"
          ]
        },
        {
          "output_type": "display_data",
          "data": {
            "text/plain": [
              "<IPython.core.display.HTML object>"
            ],
            "text/html": []
          },
          "metadata": {}
        },
        {
          "output_type": "display_data",
          "data": {
            "text/plain": [
              "<IPython.core.display.HTML object>"
            ],
            "text/html": [
              "<br>    <style><br>        .wandb-row {<br>            display: flex;<br>            flex-direction: row;<br>            flex-wrap: wrap;<br>            justify-content: flex-start;<br>            width: 100%;<br>        }<br>        .wandb-col {<br>            display: flex;<br>            flex-direction: column;<br>            flex-basis: 100%;<br>            flex: 1;<br>            padding: 10px;<br>        }<br>    </style><br><div class=\"wandb-row\"><div class=\"wandb-col\"><h3>Run history:</h3><br/><table class=\"wandb\"><tr><td>epoch</td><td>▁▃▅▆█</td></tr><tr><td>train_accuracy</td><td>▁▆▇██</td></tr><tr><td>train_loss</td><td>█▄▂▂▁</td></tr><tr><td>val_accuracy</td><td>▁▆▇▇█</td></tr><tr><td>val_loss</td><td>█▄▂▂▁</td></tr></table><br/></div><div class=\"wandb-col\"><h3>Run summary:</h3><br/><table class=\"wandb\"><tr><td>epoch</td><td>5</td></tr><tr><td>train_accuracy</td><td>72.08148</td></tr><tr><td>train_loss</td><td>0.03834</td></tr><tr><td>val_accuracy</td><td>71.5</td></tr><tr><td>val_loss</td><td>0.03887</td></tr></table><br/></div></div>"
            ]
          },
          "metadata": {}
        },
        {
          "output_type": "display_data",
          "data": {
            "text/plain": [
              "<IPython.core.display.HTML object>"
            ],
            "text/html": [
              " View run <strong style=\"color:#cdcd00\">ac-sigmoid_hs-32_epc-5_nl-3_lr0.0001_wd-0_opt-RMSprop_bs-32_wi-random_loss-<function mse_loss at 0x7c4fe51c8ae0></strong> at: <a href='https://wandb.ai/bgorai005-iit-madras/deep_learning_assignment_1/runs/a9s9900q' target=\"_blank\">https://wandb.ai/bgorai005-iit-madras/deep_learning_assignment_1/runs/a9s9900q</a><br> View project at: <a href='https://wandb.ai/bgorai005-iit-madras/deep_learning_assignment_1' target=\"_blank\">https://wandb.ai/bgorai005-iit-madras/deep_learning_assignment_1</a><br>Synced 5 W&B file(s), 0 media file(s), 0 artifact file(s) and 0 other file(s)"
            ]
          },
          "metadata": {}
        },
        {
          "output_type": "display_data",
          "data": {
            "text/plain": [
              "<IPython.core.display.HTML object>"
            ],
            "text/html": [
              "Find logs at: <code>./wandb/run-20250316_202402-a9s9900q/logs</code>"
            ]
          },
          "metadata": {}
        },
        {
          "output_type": "stream",
          "name": "stderr",
          "text": [
            "\u001b[34m\u001b[1mwandb\u001b[0m: Agent Starting Run: nndqoh2a with config:\n",
            "\u001b[34m\u001b[1mwandb\u001b[0m: \tactivation_hidden: relu\n",
            "\u001b[34m\u001b[1mwandb\u001b[0m: \tactivation_output: softmax\n",
            "\u001b[34m\u001b[1mwandb\u001b[0m: \tbatch_size: 64\n",
            "\u001b[34m\u001b[1mwandb\u001b[0m: \tepochs: 10\n",
            "\u001b[34m\u001b[1mwandb\u001b[0m: \thidden_size: 32\n",
            "\u001b[34m\u001b[1mwandb\u001b[0m: \tlearning_rate: 0.0001\n",
            "\u001b[34m\u001b[1mwandb\u001b[0m: \tnum_layers: 3\n",
            "\u001b[34m\u001b[1mwandb\u001b[0m: \toptimizer: RMSprop\n",
            "\u001b[34m\u001b[1mwandb\u001b[0m: \tweight_decay: 0\n",
            "\u001b[34m\u001b[1mwandb\u001b[0m: \tweight_ini_method: Xavier\n"
          ]
        },
        {
          "output_type": "display_data",
          "data": {
            "text/plain": [
              "<IPython.core.display.HTML object>"
            ],
            "text/html": [
              "Tracking run with wandb version 0.19.8"
            ]
          },
          "metadata": {}
        },
        {
          "output_type": "display_data",
          "data": {
            "text/plain": [
              "<IPython.core.display.HTML object>"
            ],
            "text/html": [
              "Run data is saved locally in <code>/content/wandb/run-20250316_202433-nndqoh2a</code>"
            ]
          },
          "metadata": {}
        },
        {
          "output_type": "display_data",
          "data": {
            "text/plain": [
              "<IPython.core.display.HTML object>"
            ],
            "text/html": [
              "Syncing run <strong><a href='https://wandb.ai/bgorai005-iit-madras/deep_learning_assignment_1/runs/nndqoh2a' target=\"_blank\">rare-sweep-53</a></strong> to <a href='https://wandb.ai/bgorai005-iit-madras/deep_learning_assignment_1' target=\"_blank\">Weights & Biases</a> (<a href='https://wandb.me/developer-guide' target=\"_blank\">docs</a>)<br>Sweep page: <a href='https://wandb.ai/bgorai005-iit-madras/deep_learning_assignment_1/sweeps/4uv2tuxd' target=\"_blank\">https://wandb.ai/bgorai005-iit-madras/deep_learning_assignment_1/sweeps/4uv2tuxd</a>"
            ]
          },
          "metadata": {}
        },
        {
          "output_type": "display_data",
          "data": {
            "text/plain": [
              "<IPython.core.display.HTML object>"
            ],
            "text/html": [
              " View project at <a href='https://wandb.ai/bgorai005-iit-madras/deep_learning_assignment_1' target=\"_blank\">https://wandb.ai/bgorai005-iit-madras/deep_learning_assignment_1</a>"
            ]
          },
          "metadata": {}
        },
        {
          "output_type": "display_data",
          "data": {
            "text/plain": [
              "<IPython.core.display.HTML object>"
            ],
            "text/html": [
              " View sweep at <a href='https://wandb.ai/bgorai005-iit-madras/deep_learning_assignment_1/sweeps/4uv2tuxd' target=\"_blank\">https://wandb.ai/bgorai005-iit-madras/deep_learning_assignment_1/sweeps/4uv2tuxd</a>"
            ]
          },
          "metadata": {}
        },
        {
          "output_type": "display_data",
          "data": {
            "text/plain": [
              "<IPython.core.display.HTML object>"
            ],
            "text/html": [
              " View run at <a href='https://wandb.ai/bgorai005-iit-madras/deep_learning_assignment_1/runs/nndqoh2a' target=\"_blank\">https://wandb.ai/bgorai005-iit-madras/deep_learning_assignment_1/runs/nndqoh2a</a>"
            ]
          },
          "metadata": {}
        },
        {
          "output_type": "stream",
          "name": "stdout",
          "text": [
            "[784, 32, 32, 32, 10]\n",
            "Epoch 1, Loss: 0.0365, Val Loss: 0.0371, Train Acc: 75.33%, Val Acc: 74.80%\n",
            "Epoch 2, Loss: 0.0281, Val Loss: 0.0289, Train Acc: 81.01%, Val Acc: 80.42%\n",
            "Epoch 3, Loss: 0.0251, Val Loss: 0.0259, Train Acc: 82.98%, Val Acc: 82.33%\n",
            "Epoch 4, Loss: 0.0242, Val Loss: 0.0250, Train Acc: 83.41%, Val Acc: 82.92%\n",
            "Epoch 5, Loss: 0.0231, Val Loss: 0.0239, Train Acc: 84.43%, Val Acc: 83.65%\n",
            "Epoch 6, Loss: 0.0223, Val Loss: 0.0232, Train Acc: 84.91%, Val Acc: 84.20%\n",
            "Epoch 7, Loss: 0.0222, Val Loss: 0.0231, Train Acc: 84.84%, Val Acc: 84.17%\n",
            "Epoch 8, Loss: 0.0215, Val Loss: 0.0224, Train Acc: 85.38%, Val Acc: 84.50%\n",
            "Epoch 9, Loss: 0.0210, Val Loss: 0.0219, Train Acc: 85.70%, Val Acc: 85.13%\n",
            "Epoch 10, Loss: 0.0207, Val Loss: 0.0218, Train Acc: 86.03%, Val Acc: 85.25%\n"
          ]
        },
        {
          "output_type": "display_data",
          "data": {
            "text/plain": [
              "<IPython.core.display.HTML object>"
            ],
            "text/html": []
          },
          "metadata": {}
        },
        {
          "output_type": "display_data",
          "data": {
            "text/plain": [
              "<IPython.core.display.HTML object>"
            ],
            "text/html": [
              "<br>    <style><br>        .wandb-row {<br>            display: flex;<br>            flex-direction: row;<br>            flex-wrap: wrap;<br>            justify-content: flex-start;<br>            width: 100%;<br>        }<br>        .wandb-col {<br>            display: flex;<br>            flex-direction: column;<br>            flex-basis: 100%;<br>            flex: 1;<br>            padding: 10px;<br>        }<br>    </style><br><div class=\"wandb-row\"><div class=\"wandb-col\"><h3>Run history:</h3><br/><table class=\"wandb\"><tr><td>epoch</td><td>▁▂▃▃▄▅▆▆▇█</td></tr><tr><td>train_accuracy</td><td>▁▅▆▆▇▇▇███</td></tr><tr><td>train_loss</td><td>█▄▃▃▂▂▂▁▁▁</td></tr><tr><td>val_accuracy</td><td>▁▅▆▆▇▇▇▇██</td></tr><tr><td>val_loss</td><td>█▄▃▂▂▂▂▁▁▁</td></tr></table><br/></div><div class=\"wandb-col\"><h3>Run summary:</h3><br/><table class=\"wandb\"><tr><td>epoch</td><td>10</td></tr><tr><td>train_accuracy</td><td>86.02778</td></tr><tr><td>train_loss</td><td>0.02066</td></tr><tr><td>val_accuracy</td><td>85.25</td></tr><tr><td>val_loss</td><td>0.02176</td></tr></table><br/></div></div>"
            ]
          },
          "metadata": {}
        },
        {
          "output_type": "display_data",
          "data": {
            "text/plain": [
              "<IPython.core.display.HTML object>"
            ],
            "text/html": [
              " View run <strong style=\"color:#cdcd00\">ac-relu_hs-32_epc-10_nl-3_lr0.0001_wd-0_opt-RMSprop_bs-64_wi-Xavier_loss-<function mse_loss at 0x7c4fe51c8ae0></strong> at: <a href='https://wandb.ai/bgorai005-iit-madras/deep_learning_assignment_1/runs/nndqoh2a' target=\"_blank\">https://wandb.ai/bgorai005-iit-madras/deep_learning_assignment_1/runs/nndqoh2a</a><br> View project at: <a href='https://wandb.ai/bgorai005-iit-madras/deep_learning_assignment_1' target=\"_blank\">https://wandb.ai/bgorai005-iit-madras/deep_learning_assignment_1</a><br>Synced 5 W&B file(s), 0 media file(s), 0 artifact file(s) and 0 other file(s)"
            ]
          },
          "metadata": {}
        },
        {
          "output_type": "display_data",
          "data": {
            "text/plain": [
              "<IPython.core.display.HTML object>"
            ],
            "text/html": [
              "Find logs at: <code>./wandb/run-20250316_202433-nndqoh2a/logs</code>"
            ]
          },
          "metadata": {}
        },
        {
          "output_type": "stream",
          "name": "stderr",
          "text": [
            "\u001b[34m\u001b[1mwandb\u001b[0m: Agent Starting Run: 53tavfbs with config:\n",
            "\u001b[34m\u001b[1mwandb\u001b[0m: \tactivation_hidden: sigmoid\n",
            "\u001b[34m\u001b[1mwandb\u001b[0m: \tactivation_output: softmax\n",
            "\u001b[34m\u001b[1mwandb\u001b[0m: \tbatch_size: 16\n",
            "\u001b[34m\u001b[1mwandb\u001b[0m: \tepochs: 10\n",
            "\u001b[34m\u001b[1mwandb\u001b[0m: \thidden_size: 64\n",
            "\u001b[34m\u001b[1mwandb\u001b[0m: \tlearning_rate: 0.001\n",
            "\u001b[34m\u001b[1mwandb\u001b[0m: \tnum_layers: 5\n",
            "\u001b[34m\u001b[1mwandb\u001b[0m: \toptimizer: RMSprop\n",
            "\u001b[34m\u001b[1mwandb\u001b[0m: \tweight_decay: 0\n",
            "\u001b[34m\u001b[1mwandb\u001b[0m: \tweight_ini_method: random\n"
          ]
        },
        {
          "output_type": "display_data",
          "data": {
            "text/plain": [
              "<IPython.core.display.HTML object>"
            ],
            "text/html": [
              "Tracking run with wandb version 0.19.8"
            ]
          },
          "metadata": {}
        },
        {
          "output_type": "display_data",
          "data": {
            "text/plain": [
              "<IPython.core.display.HTML object>"
            ],
            "text/html": [
              "Run data is saved locally in <code>/content/wandb/run-20250316_202509-53tavfbs</code>"
            ]
          },
          "metadata": {}
        },
        {
          "output_type": "display_data",
          "data": {
            "text/plain": [
              "<IPython.core.display.HTML object>"
            ],
            "text/html": [
              "Syncing run <strong><a href='https://wandb.ai/bgorai005-iit-madras/deep_learning_assignment_1/runs/53tavfbs' target=\"_blank\">elated-sweep-54</a></strong> to <a href='https://wandb.ai/bgorai005-iit-madras/deep_learning_assignment_1' target=\"_blank\">Weights & Biases</a> (<a href='https://wandb.me/developer-guide' target=\"_blank\">docs</a>)<br>Sweep page: <a href='https://wandb.ai/bgorai005-iit-madras/deep_learning_assignment_1/sweeps/4uv2tuxd' target=\"_blank\">https://wandb.ai/bgorai005-iit-madras/deep_learning_assignment_1/sweeps/4uv2tuxd</a>"
            ]
          },
          "metadata": {}
        },
        {
          "output_type": "display_data",
          "data": {
            "text/plain": [
              "<IPython.core.display.HTML object>"
            ],
            "text/html": [
              " View project at <a href='https://wandb.ai/bgorai005-iit-madras/deep_learning_assignment_1' target=\"_blank\">https://wandb.ai/bgorai005-iit-madras/deep_learning_assignment_1</a>"
            ]
          },
          "metadata": {}
        },
        {
          "output_type": "display_data",
          "data": {
            "text/plain": [
              "<IPython.core.display.HTML object>"
            ],
            "text/html": [
              " View sweep at <a href='https://wandb.ai/bgorai005-iit-madras/deep_learning_assignment_1/sweeps/4uv2tuxd' target=\"_blank\">https://wandb.ai/bgorai005-iit-madras/deep_learning_assignment_1/sweeps/4uv2tuxd</a>"
            ]
          },
          "metadata": {}
        },
        {
          "output_type": "display_data",
          "data": {
            "text/plain": [
              "<IPython.core.display.HTML object>"
            ],
            "text/html": [
              " View run at <a href='https://wandb.ai/bgorai005-iit-madras/deep_learning_assignment_1/runs/53tavfbs' target=\"_blank\">https://wandb.ai/bgorai005-iit-madras/deep_learning_assignment_1/runs/53tavfbs</a>"
            ]
          },
          "metadata": {}
        },
        {
          "output_type": "stream",
          "name": "stdout",
          "text": [
            "[784, 64, 64, 64, 64, 64, 10]\n",
            "Epoch 1, Loss: 0.0278, Val Loss: 0.0296, Train Acc: 80.44%, Val Acc: 78.75%\n",
            "Epoch 2, Loss: 0.0248, Val Loss: 0.0272, Train Acc: 82.74%, Val Acc: 80.72%\n",
            "Epoch 3, Loss: 0.0225, Val Loss: 0.0248, Train Acc: 84.41%, Val Acc: 82.50%\n",
            "Epoch 4, Loss: 0.0209, Val Loss: 0.0234, Train Acc: 85.54%, Val Acc: 83.67%\n",
            "Epoch 5, Loss: 0.0213, Val Loss: 0.0243, Train Acc: 85.19%, Val Acc: 82.83%\n",
            "Epoch 6, Loss: 0.0199, Val Loss: 0.0225, Train Acc: 86.17%, Val Acc: 84.23%\n",
            "Epoch 7, Loss: 0.0211, Val Loss: 0.0244, Train Acc: 85.44%, Val Acc: 83.22%\n",
            "Epoch 8, Loss: 0.0187, Val Loss: 0.0221, Train Acc: 87.13%, Val Acc: 84.90%\n",
            "Epoch 9, Loss: 0.0188, Val Loss: 0.0222, Train Acc: 86.93%, Val Acc: 84.67%\n",
            "Epoch 10, Loss: 0.0179, Val Loss: 0.0216, Train Acc: 87.53%, Val Acc: 84.92%\n"
          ]
        },
        {
          "output_type": "display_data",
          "data": {
            "text/plain": [
              "<IPython.core.display.HTML object>"
            ],
            "text/html": []
          },
          "metadata": {}
        },
        {
          "output_type": "display_data",
          "data": {
            "text/plain": [
              "<IPython.core.display.HTML object>"
            ],
            "text/html": [
              "<br>    <style><br>        .wandb-row {<br>            display: flex;<br>            flex-direction: row;<br>            flex-wrap: wrap;<br>            justify-content: flex-start;<br>            width: 100%;<br>        }<br>        .wandb-col {<br>            display: flex;<br>            flex-direction: column;<br>            flex-basis: 100%;<br>            flex: 1;<br>            padding: 10px;<br>        }<br>    </style><br><div class=\"wandb-row\"><div class=\"wandb-col\"><h3>Run history:</h3><br/><table class=\"wandb\"><tr><td>epoch</td><td>▁▂▃▃▄▅▆▆▇█</td></tr><tr><td>train_accuracy</td><td>▁▃▅▆▆▇▆█▇█</td></tr><tr><td>train_loss</td><td>█▆▄▃▃▂▃▂▂▁</td></tr><tr><td>val_accuracy</td><td>▁▃▅▇▆▇▆███</td></tr><tr><td>val_loss</td><td>█▆▄▃▃▂▃▁▂▁</td></tr></table><br/></div><div class=\"wandb-col\"><h3>Run summary:</h3><br/><table class=\"wandb\"><tr><td>epoch</td><td>10</td></tr><tr><td>train_accuracy</td><td>87.53148</td></tr><tr><td>train_loss</td><td>0.01789</td></tr><tr><td>val_accuracy</td><td>84.91667</td></tr><tr><td>val_loss</td><td>0.02162</td></tr></table><br/></div></div>"
            ]
          },
          "metadata": {}
        },
        {
          "output_type": "display_data",
          "data": {
            "text/plain": [
              "<IPython.core.display.HTML object>"
            ],
            "text/html": [
              " View run <strong style=\"color:#cdcd00\">ac-sigmoid_hs-64_epc-10_nl-5_lr0.001_wd-0_opt-RMSprop_bs-16_wi-random_loss-<function mse_loss at 0x7c4fe51c8ae0></strong> at: <a href='https://wandb.ai/bgorai005-iit-madras/deep_learning_assignment_1/runs/53tavfbs' target=\"_blank\">https://wandb.ai/bgorai005-iit-madras/deep_learning_assignment_1/runs/53tavfbs</a><br> View project at: <a href='https://wandb.ai/bgorai005-iit-madras/deep_learning_assignment_1' target=\"_blank\">https://wandb.ai/bgorai005-iit-madras/deep_learning_assignment_1</a><br>Synced 5 W&B file(s), 0 media file(s), 0 artifact file(s) and 0 other file(s)"
            ]
          },
          "metadata": {}
        },
        {
          "output_type": "display_data",
          "data": {
            "text/plain": [
              "<IPython.core.display.HTML object>"
            ],
            "text/html": [
              "Find logs at: <code>./wandb/run-20250316_202509-53tavfbs/logs</code>"
            ]
          },
          "metadata": {}
        },
        {
          "output_type": "stream",
          "name": "stderr",
          "text": [
            "\u001b[34m\u001b[1mwandb\u001b[0m: Agent Starting Run: ba1hkye7 with config:\n",
            "\u001b[34m\u001b[1mwandb\u001b[0m: \tactivation_hidden: tanh\n",
            "\u001b[34m\u001b[1mwandb\u001b[0m: \tactivation_output: softmax\n",
            "\u001b[34m\u001b[1mwandb\u001b[0m: \tbatch_size: 64\n",
            "\u001b[34m\u001b[1mwandb\u001b[0m: \tepochs: 5\n",
            "\u001b[34m\u001b[1mwandb\u001b[0m: \thidden_size: 32\n",
            "\u001b[34m\u001b[1mwandb\u001b[0m: \tlearning_rate: 0.0001\n",
            "\u001b[34m\u001b[1mwandb\u001b[0m: \tnum_layers: 5\n",
            "\u001b[34m\u001b[1mwandb\u001b[0m: \toptimizer: RMSprop\n",
            "\u001b[34m\u001b[1mwandb\u001b[0m: \tweight_decay: 0\n",
            "\u001b[34m\u001b[1mwandb\u001b[0m: \tweight_ini_method: Xavier\n"
          ]
        },
        {
          "output_type": "display_data",
          "data": {
            "text/plain": [
              "<IPython.core.display.HTML object>"
            ],
            "text/html": [
              "Tracking run with wandb version 0.19.8"
            ]
          },
          "metadata": {}
        },
        {
          "output_type": "display_data",
          "data": {
            "text/plain": [
              "<IPython.core.display.HTML object>"
            ],
            "text/html": [
              "Run data is saved locally in <code>/content/wandb/run-20250316_202741-ba1hkye7</code>"
            ]
          },
          "metadata": {}
        },
        {
          "output_type": "display_data",
          "data": {
            "text/plain": [
              "<IPython.core.display.HTML object>"
            ],
            "text/html": [
              "Syncing run <strong><a href='https://wandb.ai/bgorai005-iit-madras/deep_learning_assignment_1/runs/ba1hkye7' target=\"_blank\">crisp-sweep-55</a></strong> to <a href='https://wandb.ai/bgorai005-iit-madras/deep_learning_assignment_1' target=\"_blank\">Weights & Biases</a> (<a href='https://wandb.me/developer-guide' target=\"_blank\">docs</a>)<br>Sweep page: <a href='https://wandb.ai/bgorai005-iit-madras/deep_learning_assignment_1/sweeps/4uv2tuxd' target=\"_blank\">https://wandb.ai/bgorai005-iit-madras/deep_learning_assignment_1/sweeps/4uv2tuxd</a>"
            ]
          },
          "metadata": {}
        },
        {
          "output_type": "display_data",
          "data": {
            "text/plain": [
              "<IPython.core.display.HTML object>"
            ],
            "text/html": [
              " View project at <a href='https://wandb.ai/bgorai005-iit-madras/deep_learning_assignment_1' target=\"_blank\">https://wandb.ai/bgorai005-iit-madras/deep_learning_assignment_1</a>"
            ]
          },
          "metadata": {}
        },
        {
          "output_type": "display_data",
          "data": {
            "text/plain": [
              "<IPython.core.display.HTML object>"
            ],
            "text/html": [
              " View sweep at <a href='https://wandb.ai/bgorai005-iit-madras/deep_learning_assignment_1/sweeps/4uv2tuxd' target=\"_blank\">https://wandb.ai/bgorai005-iit-madras/deep_learning_assignment_1/sweeps/4uv2tuxd</a>"
            ]
          },
          "metadata": {}
        },
        {
          "output_type": "display_data",
          "data": {
            "text/plain": [
              "<IPython.core.display.HTML object>"
            ],
            "text/html": [
              " View run at <a href='https://wandb.ai/bgorai005-iit-madras/deep_learning_assignment_1/runs/ba1hkye7' target=\"_blank\">https://wandb.ai/bgorai005-iit-madras/deep_learning_assignment_1/runs/ba1hkye7</a>"
            ]
          },
          "metadata": {}
        },
        {
          "output_type": "stream",
          "name": "stdout",
          "text": [
            "[784, 32, 32, 32, 32, 32, 10]\n",
            "Epoch 1, Loss: 0.0310, Val Loss: 0.0318, Train Acc: 80.10%, Val Acc: 79.22%\n",
            "Epoch 2, Loss: 0.0248, Val Loss: 0.0256, Train Acc: 83.07%, Val Acc: 82.15%\n",
            "Epoch 3, Loss: 0.0226, Val Loss: 0.0235, Train Acc: 84.41%, Val Acc: 83.73%\n",
            "Epoch 4, Loss: 0.0213, Val Loss: 0.0222, Train Acc: 85.38%, Val Acc: 84.48%\n",
            "Epoch 5, Loss: 0.0205, Val Loss: 0.0216, Train Acc: 85.89%, Val Acc: 84.58%\n"
          ]
        },
        {
          "output_type": "display_data",
          "data": {
            "text/plain": [
              "<IPython.core.display.HTML object>"
            ],
            "text/html": []
          },
          "metadata": {}
        },
        {
          "output_type": "display_data",
          "data": {
            "text/plain": [
              "<IPython.core.display.HTML object>"
            ],
            "text/html": [
              "<br>    <style><br>        .wandb-row {<br>            display: flex;<br>            flex-direction: row;<br>            flex-wrap: wrap;<br>            justify-content: flex-start;<br>            width: 100%;<br>        }<br>        .wandb-col {<br>            display: flex;<br>            flex-direction: column;<br>            flex-basis: 100%;<br>            flex: 1;<br>            padding: 10px;<br>        }<br>    </style><br><div class=\"wandb-row\"><div class=\"wandb-col\"><h3>Run history:</h3><br/><table class=\"wandb\"><tr><td>epoch</td><td>▁▃▅▆█</td></tr><tr><td>train_accuracy</td><td>▁▅▆▇█</td></tr><tr><td>train_loss</td><td>█▄▂▂▁</td></tr><tr><td>val_accuracy</td><td>▁▅▇██</td></tr><tr><td>val_loss</td><td>█▄▂▁▁</td></tr></table><br/></div><div class=\"wandb-col\"><h3>Run summary:</h3><br/><table class=\"wandb\"><tr><td>epoch</td><td>5</td></tr><tr><td>train_accuracy</td><td>85.88519</td></tr><tr><td>train_loss</td><td>0.0205</td></tr><tr><td>val_accuracy</td><td>84.58333</td></tr><tr><td>val_loss</td><td>0.02163</td></tr></table><br/></div></div>"
            ]
          },
          "metadata": {}
        },
        {
          "output_type": "display_data",
          "data": {
            "text/plain": [
              "<IPython.core.display.HTML object>"
            ],
            "text/html": [
              " View run <strong style=\"color:#cdcd00\">ac-tanh_hs-32_epc-5_nl-5_lr0.0001_wd-0_opt-RMSprop_bs-64_wi-Xavier_loss-<function mse_loss at 0x7c4fe51c8ae0></strong> at: <a href='https://wandb.ai/bgorai005-iit-madras/deep_learning_assignment_1/runs/ba1hkye7' target=\"_blank\">https://wandb.ai/bgorai005-iit-madras/deep_learning_assignment_1/runs/ba1hkye7</a><br> View project at: <a href='https://wandb.ai/bgorai005-iit-madras/deep_learning_assignment_1' target=\"_blank\">https://wandb.ai/bgorai005-iit-madras/deep_learning_assignment_1</a><br>Synced 5 W&B file(s), 0 media file(s), 0 artifact file(s) and 0 other file(s)"
            ]
          },
          "metadata": {}
        },
        {
          "output_type": "display_data",
          "data": {
            "text/plain": [
              "<IPython.core.display.HTML object>"
            ],
            "text/html": [
              "Find logs at: <code>./wandb/run-20250316_202741-ba1hkye7/logs</code>"
            ]
          },
          "metadata": {}
        },
        {
          "output_type": "stream",
          "name": "stderr",
          "text": [
            "\u001b[34m\u001b[1mwandb\u001b[0m: Agent Starting Run: 8gdvlgrs with config:\n",
            "\u001b[34m\u001b[1mwandb\u001b[0m: \tactivation_hidden: sigmoid\n",
            "\u001b[34m\u001b[1mwandb\u001b[0m: \tactivation_output: softmax\n",
            "\u001b[34m\u001b[1mwandb\u001b[0m: \tbatch_size: 64\n",
            "\u001b[34m\u001b[1mwandb\u001b[0m: \tepochs: 10\n",
            "\u001b[34m\u001b[1mwandb\u001b[0m: \thidden_size: 32\n",
            "\u001b[34m\u001b[1mwandb\u001b[0m: \tlearning_rate: 0.001\n",
            "\u001b[34m\u001b[1mwandb\u001b[0m: \tnum_layers: 5\n",
            "\u001b[34m\u001b[1mwandb\u001b[0m: \toptimizer: adam\n",
            "\u001b[34m\u001b[1mwandb\u001b[0m: \tweight_decay: 0\n",
            "\u001b[34m\u001b[1mwandb\u001b[0m: \tweight_ini_method: random\n"
          ]
        },
        {
          "output_type": "display_data",
          "data": {
            "text/plain": [
              "<IPython.core.display.HTML object>"
            ],
            "text/html": [
              "Tracking run with wandb version 0.19.8"
            ]
          },
          "metadata": {}
        },
        {
          "output_type": "display_data",
          "data": {
            "text/plain": [
              "<IPython.core.display.HTML object>"
            ],
            "text/html": [
              "Run data is saved locally in <code>/content/wandb/run-20250316_202823-8gdvlgrs</code>"
            ]
          },
          "metadata": {}
        },
        {
          "output_type": "display_data",
          "data": {
            "text/plain": [
              "<IPython.core.display.HTML object>"
            ],
            "text/html": [
              "Syncing run <strong><a href='https://wandb.ai/bgorai005-iit-madras/deep_learning_assignment_1/runs/8gdvlgrs' target=\"_blank\">daily-sweep-56</a></strong> to <a href='https://wandb.ai/bgorai005-iit-madras/deep_learning_assignment_1' target=\"_blank\">Weights & Biases</a> (<a href='https://wandb.me/developer-guide' target=\"_blank\">docs</a>)<br>Sweep page: <a href='https://wandb.ai/bgorai005-iit-madras/deep_learning_assignment_1/sweeps/4uv2tuxd' target=\"_blank\">https://wandb.ai/bgorai005-iit-madras/deep_learning_assignment_1/sweeps/4uv2tuxd</a>"
            ]
          },
          "metadata": {}
        },
        {
          "output_type": "display_data",
          "data": {
            "text/plain": [
              "<IPython.core.display.HTML object>"
            ],
            "text/html": [
              " View project at <a href='https://wandb.ai/bgorai005-iit-madras/deep_learning_assignment_1' target=\"_blank\">https://wandb.ai/bgorai005-iit-madras/deep_learning_assignment_1</a>"
            ]
          },
          "metadata": {}
        },
        {
          "output_type": "display_data",
          "data": {
            "text/plain": [
              "<IPython.core.display.HTML object>"
            ],
            "text/html": [
              " View sweep at <a href='https://wandb.ai/bgorai005-iit-madras/deep_learning_assignment_1/sweeps/4uv2tuxd' target=\"_blank\">https://wandb.ai/bgorai005-iit-madras/deep_learning_assignment_1/sweeps/4uv2tuxd</a>"
            ]
          },
          "metadata": {}
        },
        {
          "output_type": "display_data",
          "data": {
            "text/plain": [
              "<IPython.core.display.HTML object>"
            ],
            "text/html": [
              " View run at <a href='https://wandb.ai/bgorai005-iit-madras/deep_learning_assignment_1/runs/8gdvlgrs' target=\"_blank\">https://wandb.ai/bgorai005-iit-madras/deep_learning_assignment_1/runs/8gdvlgrs</a>"
            ]
          },
          "metadata": {}
        },
        {
          "output_type": "stream",
          "name": "stdout",
          "text": [
            "[784, 32, 32, 32, 32, 32, 10]\n",
            "Epoch 1, Train Loss: 0.0362813947081772, Val Loss: 0.03724435973501315\n",
            "Epoch 2, Train Loss: 0.03095063794721923, Val Loss: 0.03173978743266582\n",
            "Epoch 3, Train Loss: 0.028745330452337015, Val Loss: 0.029755621933275734\n",
            "Epoch 4, Train Loss: 0.027224752956627896, Val Loss: 0.028310716827069246\n",
            "Epoch 5, Train Loss: 0.026389652442944462, Val Loss: 0.027737012486116024\n",
            "Epoch 6, Train Loss: 0.02557158712636711, Val Loss: 0.027105875420483625\n",
            "Epoch 7, Train Loss: 0.025047616375199547, Val Loss: 0.026780834153346197\n",
            "Epoch 8, Train Loss: 0.024365514066914166, Val Loss: 0.02608573141661107\n",
            "Epoch 9, Train Loss: 0.023906692978275773, Val Loss: 0.025743866923536068\n",
            "Epoch 10, Train Loss: 0.023666741222840185, Val Loss: 0.02557955144937117\n"
          ]
        },
        {
          "output_type": "display_data",
          "data": {
            "text/plain": [
              "<IPython.core.display.HTML object>"
            ],
            "text/html": []
          },
          "metadata": {}
        },
        {
          "output_type": "display_data",
          "data": {
            "text/plain": [
              "<IPython.core.display.HTML object>"
            ],
            "text/html": [
              "<br>    <style><br>        .wandb-row {<br>            display: flex;<br>            flex-direction: row;<br>            flex-wrap: wrap;<br>            justify-content: flex-start;<br>            width: 100%;<br>        }<br>        .wandb-col {<br>            display: flex;<br>            flex-direction: column;<br>            flex-basis: 100%;<br>            flex: 1;<br>            padding: 10px;<br>        }<br>    </style><br><div class=\"wandb-row\"><div class=\"wandb-col\"><h3>Run history:</h3><br/><table class=\"wandb\"><tr><td>epoch</td><td>▁▂▃▃▄▅▆▆▇█</td></tr><tr><td>train_accuracy</td><td>▁▄▅▆▇▇▇███</td></tr><tr><td>train_loss</td><td>█▅▄▃▃▂▂▁▁▁</td></tr><tr><td>val_accuracy</td><td>▁▅▆▆▇▇▇▇██</td></tr><tr><td>val_loss</td><td>█▅▄▃▂▂▂▁▁▁</td></tr></table><br/></div><div class=\"wandb-col\"><h3>Run summary:</h3><br/><table class=\"wandb\"><tr><td>epoch</td><td>10</td></tr><tr><td>train_accuracy</td><td>83.4963</td></tr><tr><td>train_loss</td><td>0.02367</td></tr><tr><td>val_accuracy</td><td>82.13333</td></tr><tr><td>val_loss</td><td>0.02558</td></tr></table><br/></div></div>"
            ]
          },
          "metadata": {}
        },
        {
          "output_type": "display_data",
          "data": {
            "text/plain": [
              "<IPython.core.display.HTML object>"
            ],
            "text/html": [
              " View run <strong style=\"color:#cdcd00\">ac-sigmoid_hs-32_epc-10_nl-5_lr0.001_wd-0_opt-adam_bs-64_wi-random_loss-<function mse_loss at 0x7c4fe51c8ae0></strong> at: <a href='https://wandb.ai/bgorai005-iit-madras/deep_learning_assignment_1/runs/8gdvlgrs' target=\"_blank\">https://wandb.ai/bgorai005-iit-madras/deep_learning_assignment_1/runs/8gdvlgrs</a><br> View project at: <a href='https://wandb.ai/bgorai005-iit-madras/deep_learning_assignment_1' target=\"_blank\">https://wandb.ai/bgorai005-iit-madras/deep_learning_assignment_1</a><br>Synced 5 W&B file(s), 0 media file(s), 0 artifact file(s) and 0 other file(s)"
            ]
          },
          "metadata": {}
        },
        {
          "output_type": "display_data",
          "data": {
            "text/plain": [
              "<IPython.core.display.HTML object>"
            ],
            "text/html": [
              "Find logs at: <code>./wandb/run-20250316_202823-8gdvlgrs/logs</code>"
            ]
          },
          "metadata": {}
        },
        {
          "output_type": "stream",
          "name": "stderr",
          "text": [
            "\u001b[34m\u001b[1mwandb\u001b[0m: Agent Starting Run: y2yg77tf with config:\n",
            "\u001b[34m\u001b[1mwandb\u001b[0m: \tactivation_hidden: relu\n",
            "\u001b[34m\u001b[1mwandb\u001b[0m: \tactivation_output: softmax\n",
            "\u001b[34m\u001b[1mwandb\u001b[0m: \tbatch_size: 64\n",
            "\u001b[34m\u001b[1mwandb\u001b[0m: \tepochs: 10\n",
            "\u001b[34m\u001b[1mwandb\u001b[0m: \thidden_size: 32\n",
            "\u001b[34m\u001b[1mwandb\u001b[0m: \tlearning_rate: 0.001\n",
            "\u001b[34m\u001b[1mwandb\u001b[0m: \tnum_layers: 3\n",
            "\u001b[34m\u001b[1mwandb\u001b[0m: \toptimizer: nadam\n",
            "\u001b[34m\u001b[1mwandb\u001b[0m: \tweight_decay: 0\n",
            "\u001b[34m\u001b[1mwandb\u001b[0m: \tweight_ini_method: random\n"
          ]
        },
        {
          "output_type": "display_data",
          "data": {
            "text/plain": [
              "<IPython.core.display.HTML object>"
            ],
            "text/html": [
              "Tracking run with wandb version 0.19.8"
            ]
          },
          "metadata": {}
        },
        {
          "output_type": "display_data",
          "data": {
            "text/plain": [
              "<IPython.core.display.HTML object>"
            ],
            "text/html": [
              "Run data is saved locally in <code>/content/wandb/run-20250316_202923-y2yg77tf</code>"
            ]
          },
          "metadata": {}
        },
        {
          "output_type": "display_data",
          "data": {
            "text/plain": [
              "<IPython.core.display.HTML object>"
            ],
            "text/html": [
              "Syncing run <strong><a href='https://wandb.ai/bgorai005-iit-madras/deep_learning_assignment_1/runs/y2yg77tf' target=\"_blank\">lilac-sweep-57</a></strong> to <a href='https://wandb.ai/bgorai005-iit-madras/deep_learning_assignment_1' target=\"_blank\">Weights & Biases</a> (<a href='https://wandb.me/developer-guide' target=\"_blank\">docs</a>)<br>Sweep page: <a href='https://wandb.ai/bgorai005-iit-madras/deep_learning_assignment_1/sweeps/4uv2tuxd' target=\"_blank\">https://wandb.ai/bgorai005-iit-madras/deep_learning_assignment_1/sweeps/4uv2tuxd</a>"
            ]
          },
          "metadata": {}
        },
        {
          "output_type": "display_data",
          "data": {
            "text/plain": [
              "<IPython.core.display.HTML object>"
            ],
            "text/html": [
              " View project at <a href='https://wandb.ai/bgorai005-iit-madras/deep_learning_assignment_1' target=\"_blank\">https://wandb.ai/bgorai005-iit-madras/deep_learning_assignment_1</a>"
            ]
          },
          "metadata": {}
        },
        {
          "output_type": "display_data",
          "data": {
            "text/plain": [
              "<IPython.core.display.HTML object>"
            ],
            "text/html": [
              " View sweep at <a href='https://wandb.ai/bgorai005-iit-madras/deep_learning_assignment_1/sweeps/4uv2tuxd' target=\"_blank\">https://wandb.ai/bgorai005-iit-madras/deep_learning_assignment_1/sweeps/4uv2tuxd</a>"
            ]
          },
          "metadata": {}
        },
        {
          "output_type": "display_data",
          "data": {
            "text/plain": [
              "<IPython.core.display.HTML object>"
            ],
            "text/html": [
              " View run at <a href='https://wandb.ai/bgorai005-iit-madras/deep_learning_assignment_1/runs/y2yg77tf' target=\"_blank\">https://wandb.ai/bgorai005-iit-madras/deep_learning_assignment_1/runs/y2yg77tf</a>"
            ]
          },
          "metadata": {}
        },
        {
          "output_type": "stream",
          "name": "stdout",
          "text": [
            "[784, 32, 32, 32, 10]\n",
            "Epoch 1, Loss: 0.17265190697488247, Validation Loss: 0.17380868630172364\n",
            "Epoch 2, Loss: 0.17277583058369425, Validation Loss: 0.1730618307866902\n",
            "Epoch 3, Loss: 0.18002356002005016, Validation Loss: 0.18027917153086695\n",
            "Epoch 4, Loss: 0.1800844281263231, Validation Loss: 0.17909999999998044\n",
            "Epoch 5, Loss: 0.18008149263687342, Validation Loss: 0.1790995041880727\n",
            "Epoch 6, Loss: 0.1801, Validation Loss: 0.1791\n",
            "Epoch 7, Loss: 0.1801, Validation Loss: 0.1791\n",
            "Epoch 8, Loss: 0.1801, Validation Loss: 0.1791\n",
            "Epoch 9, Loss: 0.1801, Validation Loss: 0.1791\n",
            "Epoch 10, Loss: 0.1801, Validation Loss: 0.1791\n"
          ]
        },
        {
          "output_type": "display_data",
          "data": {
            "text/plain": [
              "<IPython.core.display.HTML object>"
            ],
            "text/html": []
          },
          "metadata": {}
        },
        {
          "output_type": "display_data",
          "data": {
            "text/plain": [
              "<IPython.core.display.HTML object>"
            ],
            "text/html": [
              "<br>    <style><br>        .wandb-row {<br>            display: flex;<br>            flex-direction: row;<br>            flex-wrap: wrap;<br>            justify-content: flex-start;<br>            width: 100%;<br>        }<br>        .wandb-col {<br>            display: flex;<br>            flex-direction: column;<br>            flex-basis: 100%;<br>            flex: 1;<br>            padding: 10px;<br>        }<br>    </style><br><div class=\"wandb-row\"><div class=\"wandb-col\"><h3>Run history:</h3><br/><table class=\"wandb\"><tr><td>epoch</td><td>▁▂▃▃▄▅▆▆▇█</td></tr><tr><td>train_accuracy</td><td>██▁▁▁▁▁▁▁▁</td></tr><tr><td>train_loss</td><td>▁▁████████</td></tr><tr><td>val_accuracy</td><td>▇█▁▂▂▂▂▂▂▂</td></tr><tr><td>val_loss</td><td>▂▁█▇▇▇▇▇▇▇</td></tr></table><br/></div><div class=\"wandb-col\"><h3>Run summary:</h3><br/><table class=\"wandb\"><tr><td>epoch</td><td>10</td></tr><tr><td>train_accuracy</td><td>9.95</td></tr><tr><td>train_loss</td><td>0.1801</td></tr><tr><td>val_accuracy</td><td>10.45</td></tr><tr><td>val_loss</td><td>0.1791</td></tr></table><br/></div></div>"
            ]
          },
          "metadata": {}
        },
        {
          "output_type": "display_data",
          "data": {
            "text/plain": [
              "<IPython.core.display.HTML object>"
            ],
            "text/html": [
              " View run <strong style=\"color:#cdcd00\">ac-relu_hs-32_epc-10_nl-3_lr0.001_wd-0_opt-nadam_bs-64_wi-random_loss-<function mse_loss at 0x7c4fe51c8ae0></strong> at: <a href='https://wandb.ai/bgorai005-iit-madras/deep_learning_assignment_1/runs/y2yg77tf' target=\"_blank\">https://wandb.ai/bgorai005-iit-madras/deep_learning_assignment_1/runs/y2yg77tf</a><br> View project at: <a href='https://wandb.ai/bgorai005-iit-madras/deep_learning_assignment_1' target=\"_blank\">https://wandb.ai/bgorai005-iit-madras/deep_learning_assignment_1</a><br>Synced 5 W&B file(s), 0 media file(s), 0 artifact file(s) and 0 other file(s)"
            ]
          },
          "metadata": {}
        },
        {
          "output_type": "display_data",
          "data": {
            "text/plain": [
              "<IPython.core.display.HTML object>"
            ],
            "text/html": [
              "Find logs at: <code>./wandb/run-20250316_202923-y2yg77tf/logs</code>"
            ]
          },
          "metadata": {}
        },
        {
          "output_type": "stream",
          "name": "stderr",
          "text": [
            "\u001b[34m\u001b[1mwandb\u001b[0m: Sweep Agent: Waiting for job.\n",
            "\u001b[34m\u001b[1mwandb\u001b[0m: Job received.\n",
            "\u001b[34m\u001b[1mwandb\u001b[0m: Agent Starting Run: 4l660k30 with config:\n",
            "\u001b[34m\u001b[1mwandb\u001b[0m: \tactivation_hidden: tanh\n",
            "\u001b[34m\u001b[1mwandb\u001b[0m: \tactivation_output: softmax\n",
            "\u001b[34m\u001b[1mwandb\u001b[0m: \tbatch_size: 64\n",
            "\u001b[34m\u001b[1mwandb\u001b[0m: \tepochs: 10\n",
            "\u001b[34m\u001b[1mwandb\u001b[0m: \thidden_size: 32\n",
            "\u001b[34m\u001b[1mwandb\u001b[0m: \tlearning_rate: 0.0001\n",
            "\u001b[34m\u001b[1mwandb\u001b[0m: \tnum_layers: 4\n",
            "\u001b[34m\u001b[1mwandb\u001b[0m: \toptimizer: sgd\n",
            "\u001b[34m\u001b[1mwandb\u001b[0m: \tweight_decay: 0\n",
            "\u001b[34m\u001b[1mwandb\u001b[0m: \tweight_ini_method: Xavier\n"
          ]
        },
        {
          "output_type": "display_data",
          "data": {
            "text/plain": [
              "<IPython.core.display.HTML object>"
            ],
            "text/html": [
              "Tracking run with wandb version 0.19.8"
            ]
          },
          "metadata": {}
        },
        {
          "output_type": "display_data",
          "data": {
            "text/plain": [
              "<IPython.core.display.HTML object>"
            ],
            "text/html": [
              "Run data is saved locally in <code>/content/wandb/run-20250316_203015-4l660k30</code>"
            ]
          },
          "metadata": {}
        },
        {
          "output_type": "display_data",
          "data": {
            "text/plain": [
              "<IPython.core.display.HTML object>"
            ],
            "text/html": [
              "Syncing run <strong><a href='https://wandb.ai/bgorai005-iit-madras/deep_learning_assignment_1/runs/4l660k30' target=\"_blank\">hearty-sweep-58</a></strong> to <a href='https://wandb.ai/bgorai005-iit-madras/deep_learning_assignment_1' target=\"_blank\">Weights & Biases</a> (<a href='https://wandb.me/developer-guide' target=\"_blank\">docs</a>)<br>Sweep page: <a href='https://wandb.ai/bgorai005-iit-madras/deep_learning_assignment_1/sweeps/4uv2tuxd' target=\"_blank\">https://wandb.ai/bgorai005-iit-madras/deep_learning_assignment_1/sweeps/4uv2tuxd</a>"
            ]
          },
          "metadata": {}
        },
        {
          "output_type": "display_data",
          "data": {
            "text/plain": [
              "<IPython.core.display.HTML object>"
            ],
            "text/html": [
              " View project at <a href='https://wandb.ai/bgorai005-iit-madras/deep_learning_assignment_1' target=\"_blank\">https://wandb.ai/bgorai005-iit-madras/deep_learning_assignment_1</a>"
            ]
          },
          "metadata": {}
        },
        {
          "output_type": "display_data",
          "data": {
            "text/plain": [
              "<IPython.core.display.HTML object>"
            ],
            "text/html": [
              " View sweep at <a href='https://wandb.ai/bgorai005-iit-madras/deep_learning_assignment_1/sweeps/4uv2tuxd' target=\"_blank\">https://wandb.ai/bgorai005-iit-madras/deep_learning_assignment_1/sweeps/4uv2tuxd</a>"
            ]
          },
          "metadata": {}
        },
        {
          "output_type": "display_data",
          "data": {
            "text/plain": [
              "<IPython.core.display.HTML object>"
            ],
            "text/html": [
              " View run at <a href='https://wandb.ai/bgorai005-iit-madras/deep_learning_assignment_1/runs/4l660k30' target=\"_blank\">https://wandb.ai/bgorai005-iit-madras/deep_learning_assignment_1/runs/4l660k30</a>"
            ]
          },
          "metadata": {}
        },
        {
          "output_type": "stream",
          "name": "stdout",
          "text": [
            "[784, 32, 32, 32, 32, 10]\n",
            "Epoch 1, Train Loss: 0.06583495545699683, Val Loss: 0.06629150528881697,Val Accuracy:0.5628333333333333\n",
            "Epoch 2, Train Loss: 0.05305750178850611, Val Loss: 0.05363942957374164,Val Accuracy:0.6483333333333333\n",
            "Epoch 3, Train Loss: 0.04423586232329145, Val Loss: 0.04492666518348671,Val Accuracy:0.7216666666666667\n",
            "Epoch 4, Train Loss: 0.038505746333053203, Val Loss: 0.039268017183401574,Val Accuracy:0.7483333333333333\n",
            "Epoch 5, Train Loss: 0.035105577046548264, Val Loss: 0.03588425593207752,Val Accuracy:0.7628333333333334\n",
            "Epoch 6, Train Loss: 0.032906925687396435, Val Loss: 0.03370675100229516,Val Accuracy:0.7761666666666667\n",
            "Epoch 7, Train Loss: 0.03128916052227269, Val Loss: 0.032109303015932164,Val Accuracy:0.7841666666666667\n",
            "Epoch 8, Train Loss: 0.030106005263780402, Val Loss: 0.030914140030119604,Val Accuracy:0.7916666666666666\n",
            "Epoch 9, Train Loss: 0.029160455263805903, Val Loss: 0.02994237608870993,Val Accuracy:0.7965\n",
            "Epoch 10, Train Loss: 0.028224305135024313, Val Loss: 0.028984200387637347,Val Accuracy:0.8055\n"
          ]
        },
        {
          "output_type": "display_data",
          "data": {
            "text/plain": [
              "<IPython.core.display.HTML object>"
            ],
            "text/html": []
          },
          "metadata": {}
        },
        {
          "output_type": "display_data",
          "data": {
            "text/plain": [
              "<IPython.core.display.HTML object>"
            ],
            "text/html": [
              "<br>    <style><br>        .wandb-row {<br>            display: flex;<br>            flex-direction: row;<br>            flex-wrap: wrap;<br>            justify-content: flex-start;<br>            width: 100%;<br>        }<br>        .wandb-col {<br>            display: flex;<br>            flex-direction: column;<br>            flex-basis: 100%;<br>            flex: 1;<br>            padding: 10px;<br>        }<br>    </style><br><div class=\"wandb-row\"><div class=\"wandb-col\"><h3>Run history:</h3><br/><table class=\"wandb\"><tr><td>epoch</td><td>▁▂▃▃▄▅▆▆▇█</td></tr><tr><td>train_accuracy</td><td>▁▄▆▆▇▇▇███</td></tr><tr><td>train_loss</td><td>█▆▄▃▂▂▂▁▁▁</td></tr><tr><td>val_accuracy</td><td>▁▃▆▆▇▇▇███</td></tr><tr><td>val_loss</td><td>█▆▄▃▂▂▂▁▁▁</td></tr></table><br/></div><div class=\"wandb-col\"><h3>Run summary:</h3><br/><table class=\"wandb\"><tr><td>epoch</td><td>10</td></tr><tr><td>train_accuracy</td><td>80.97222</td></tr><tr><td>train_loss</td><td>0.02822</td></tr><tr><td>val_accuracy</td><td>80.55</td></tr><tr><td>val_loss</td><td>0.02898</td></tr></table><br/></div></div>"
            ]
          },
          "metadata": {}
        },
        {
          "output_type": "display_data",
          "data": {
            "text/plain": [
              "<IPython.core.display.HTML object>"
            ],
            "text/html": [
              " View run <strong style=\"color:#cdcd00\">ac-tanh_hs-32_epc-10_nl-4_lr0.0001_wd-0_opt-sgd_bs-64_wi-Xavier_loss-<function mse_loss at 0x7c4fe51c8ae0></strong> at: <a href='https://wandb.ai/bgorai005-iit-madras/deep_learning_assignment_1/runs/4l660k30' target=\"_blank\">https://wandb.ai/bgorai005-iit-madras/deep_learning_assignment_1/runs/4l660k30</a><br> View project at: <a href='https://wandb.ai/bgorai005-iit-madras/deep_learning_assignment_1' target=\"_blank\">https://wandb.ai/bgorai005-iit-madras/deep_learning_assignment_1</a><br>Synced 5 W&B file(s), 0 media file(s), 0 artifact file(s) and 0 other file(s)"
            ]
          },
          "metadata": {}
        },
        {
          "output_type": "display_data",
          "data": {
            "text/plain": [
              "<IPython.core.display.HTML object>"
            ],
            "text/html": [
              "Find logs at: <code>./wandb/run-20250316_203015-4l660k30/logs</code>"
            ]
          },
          "metadata": {}
        },
        {
          "output_type": "stream",
          "name": "stderr",
          "text": [
            "\u001b[34m\u001b[1mwandb\u001b[0m: Agent Starting Run: 3k0u7kiy with config:\n",
            "\u001b[34m\u001b[1mwandb\u001b[0m: \tactivation_hidden: sigmoid\n",
            "\u001b[34m\u001b[1mwandb\u001b[0m: \tactivation_output: softmax\n",
            "\u001b[34m\u001b[1mwandb\u001b[0m: \tbatch_size: 16\n",
            "\u001b[34m\u001b[1mwandb\u001b[0m: \tepochs: 5\n",
            "\u001b[34m\u001b[1mwandb\u001b[0m: \thidden_size: 32\n",
            "\u001b[34m\u001b[1mwandb\u001b[0m: \tlearning_rate: 0.0001\n",
            "\u001b[34m\u001b[1mwandb\u001b[0m: \tnum_layers: 4\n",
            "\u001b[34m\u001b[1mwandb\u001b[0m: \toptimizer: momentum\n",
            "\u001b[34m\u001b[1mwandb\u001b[0m: \tweight_decay: 0\n",
            "\u001b[34m\u001b[1mwandb\u001b[0m: \tweight_ini_method: Xavier\n"
          ]
        },
        {
          "output_type": "display_data",
          "data": {
            "text/plain": [
              "<IPython.core.display.HTML object>"
            ],
            "text/html": [
              "Tracking run with wandb version 0.19.8"
            ]
          },
          "metadata": {}
        },
        {
          "output_type": "display_data",
          "data": {
            "text/plain": [
              "<IPython.core.display.HTML object>"
            ],
            "text/html": [
              "Run data is saved locally in <code>/content/wandb/run-20250316_203116-3k0u7kiy</code>"
            ]
          },
          "metadata": {}
        },
        {
          "output_type": "display_data",
          "data": {
            "text/plain": [
              "<IPython.core.display.HTML object>"
            ],
            "text/html": [
              "Syncing run <strong><a href='https://wandb.ai/bgorai005-iit-madras/deep_learning_assignment_1/runs/3k0u7kiy' target=\"_blank\">whole-sweep-59</a></strong> to <a href='https://wandb.ai/bgorai005-iit-madras/deep_learning_assignment_1' target=\"_blank\">Weights & Biases</a> (<a href='https://wandb.me/developer-guide' target=\"_blank\">docs</a>)<br>Sweep page: <a href='https://wandb.ai/bgorai005-iit-madras/deep_learning_assignment_1/sweeps/4uv2tuxd' target=\"_blank\">https://wandb.ai/bgorai005-iit-madras/deep_learning_assignment_1/sweeps/4uv2tuxd</a>"
            ]
          },
          "metadata": {}
        },
        {
          "output_type": "display_data",
          "data": {
            "text/plain": [
              "<IPython.core.display.HTML object>"
            ],
            "text/html": [
              " View project at <a href='https://wandb.ai/bgorai005-iit-madras/deep_learning_assignment_1' target=\"_blank\">https://wandb.ai/bgorai005-iit-madras/deep_learning_assignment_1</a>"
            ]
          },
          "metadata": {}
        },
        {
          "output_type": "display_data",
          "data": {
            "text/plain": [
              "<IPython.core.display.HTML object>"
            ],
            "text/html": [
              " View sweep at <a href='https://wandb.ai/bgorai005-iit-madras/deep_learning_assignment_1/sweeps/4uv2tuxd' target=\"_blank\">https://wandb.ai/bgorai005-iit-madras/deep_learning_assignment_1/sweeps/4uv2tuxd</a>"
            ]
          },
          "metadata": {}
        },
        {
          "output_type": "display_data",
          "data": {
            "text/plain": [
              "<IPython.core.display.HTML object>"
            ],
            "text/html": [
              " View run at <a href='https://wandb.ai/bgorai005-iit-madras/deep_learning_assignment_1/runs/3k0u7kiy' target=\"_blank\">https://wandb.ai/bgorai005-iit-madras/deep_learning_assignment_1/runs/3k0u7kiy</a>"
            ]
          },
          "metadata": {}
        },
        {
          "output_type": "stream",
          "name": "stdout",
          "text": [
            "[784, 32, 32, 32, 32, 10]\n",
            "Epoch 1, Train Loss: 0.08996546261650329, Val Loss: 0.08997177877754846\n",
            "Epoch 2, Train Loss: 0.08991302273673427, Val Loss: 0.08991872731541523\n",
            "Epoch 3, Train Loss: 0.08987336388430571, Val Loss: 0.08987882515221748\n",
            "Epoch 4, Train Loss: 0.08982556215109913, Val Loss: 0.08982772644303115\n",
            "Epoch 5, Train Loss: 0.08976703252088461, Val Loss: 0.08977120106210706\n"
          ]
        },
        {
          "output_type": "display_data",
          "data": {
            "text/plain": [
              "<IPython.core.display.HTML object>"
            ],
            "text/html": []
          },
          "metadata": {}
        },
        {
          "output_type": "display_data",
          "data": {
            "text/plain": [
              "<IPython.core.display.HTML object>"
            ],
            "text/html": [
              "<br>    <style><br>        .wandb-row {<br>            display: flex;<br>            flex-direction: row;<br>            flex-wrap: wrap;<br>            justify-content: flex-start;<br>            width: 100%;<br>        }<br>        .wandb-col {<br>            display: flex;<br>            flex-direction: column;<br>            flex-basis: 100%;<br>            flex: 1;<br>            padding: 10px;<br>        }<br>    </style><br><div class=\"wandb-row\"><div class=\"wandb-col\"><h3>Run history:</h3><br/><table class=\"wandb\"><tr><td>epoch</td><td>▁▃▅▆█</td></tr><tr><td>train_accuracy</td><td>▆█▁▄▅</td></tr><tr><td>train_loss</td><td>█▆▅▃▁</td></tr><tr><td>val_accuracy</td><td>▆█▁▅▆</td></tr><tr><td>val_loss</td><td>█▆▅▃▁</td></tr></table><br/></div><div class=\"wandb-col\"><h3>Run summary:</h3><br/><table class=\"wandb\"><tr><td>epoch</td><td>5</td></tr><tr><td>train_accuracy</td><td>19.76481</td></tr><tr><td>train_loss</td><td>0.08977</td></tr><tr><td>val_accuracy</td><td>19.8</td></tr><tr><td>val_loss</td><td>0.08977</td></tr></table><br/></div></div>"
            ]
          },
          "metadata": {}
        },
        {
          "output_type": "display_data",
          "data": {
            "text/plain": [
              "<IPython.core.display.HTML object>"
            ],
            "text/html": [
              " View run <strong style=\"color:#cdcd00\">ac-sigmoid_hs-32_epc-5_nl-4_lr0.0001_wd-0_opt-momentum_bs-16_wi-Xavier_loss-<function mse_loss at 0x7c4fe51c8ae0></strong> at: <a href='https://wandb.ai/bgorai005-iit-madras/deep_learning_assignment_1/runs/3k0u7kiy' target=\"_blank\">https://wandb.ai/bgorai005-iit-madras/deep_learning_assignment_1/runs/3k0u7kiy</a><br> View project at: <a href='https://wandb.ai/bgorai005-iit-madras/deep_learning_assignment_1' target=\"_blank\">https://wandb.ai/bgorai005-iit-madras/deep_learning_assignment_1</a><br>Synced 5 W&B file(s), 0 media file(s), 0 artifact file(s) and 0 other file(s)"
            ]
          },
          "metadata": {}
        },
        {
          "output_type": "display_data",
          "data": {
            "text/plain": [
              "<IPython.core.display.HTML object>"
            ],
            "text/html": [
              "Find logs at: <code>./wandb/run-20250316_203116-3k0u7kiy/logs</code>"
            ]
          },
          "metadata": {}
        },
        {
          "output_type": "stream",
          "name": "stderr",
          "text": [
            "\u001b[34m\u001b[1mwandb\u001b[0m: Agent Starting Run: v7d7qkqv with config:\n",
            "\u001b[34m\u001b[1mwandb\u001b[0m: \tactivation_hidden: tanh\n",
            "\u001b[34m\u001b[1mwandb\u001b[0m: \tactivation_output: softmax\n",
            "\u001b[34m\u001b[1mwandb\u001b[0m: \tbatch_size: 64\n",
            "\u001b[34m\u001b[1mwandb\u001b[0m: \tepochs: 10\n",
            "\u001b[34m\u001b[1mwandb\u001b[0m: \thidden_size: 128\n",
            "\u001b[34m\u001b[1mwandb\u001b[0m: \tlearning_rate: 0.001\n",
            "\u001b[34m\u001b[1mwandb\u001b[0m: \tnum_layers: 5\n",
            "\u001b[34m\u001b[1mwandb\u001b[0m: \toptimizer: nag\n",
            "\u001b[34m\u001b[1mwandb\u001b[0m: \tweight_decay: 0\n",
            "\u001b[34m\u001b[1mwandb\u001b[0m: \tweight_ini_method: Xavier\n"
          ]
        },
        {
          "output_type": "display_data",
          "data": {
            "text/plain": [
              "<IPython.core.display.HTML object>"
            ],
            "text/html": [
              "Tracking run with wandb version 0.19.8"
            ]
          },
          "metadata": {}
        },
        {
          "output_type": "display_data",
          "data": {
            "text/plain": [
              "<IPython.core.display.HTML object>"
            ],
            "text/html": [
              "Run data is saved locally in <code>/content/wandb/run-20250316_203157-v7d7qkqv</code>"
            ]
          },
          "metadata": {}
        },
        {
          "output_type": "display_data",
          "data": {
            "text/plain": [
              "<IPython.core.display.HTML object>"
            ],
            "text/html": [
              "Syncing run <strong><a href='https://wandb.ai/bgorai005-iit-madras/deep_learning_assignment_1/runs/v7d7qkqv' target=\"_blank\">whole-sweep-60</a></strong> to <a href='https://wandb.ai/bgorai005-iit-madras/deep_learning_assignment_1' target=\"_blank\">Weights & Biases</a> (<a href='https://wandb.me/developer-guide' target=\"_blank\">docs</a>)<br>Sweep page: <a href='https://wandb.ai/bgorai005-iit-madras/deep_learning_assignment_1/sweeps/4uv2tuxd' target=\"_blank\">https://wandb.ai/bgorai005-iit-madras/deep_learning_assignment_1/sweeps/4uv2tuxd</a>"
            ]
          },
          "metadata": {}
        },
        {
          "output_type": "display_data",
          "data": {
            "text/plain": [
              "<IPython.core.display.HTML object>"
            ],
            "text/html": [
              " View project at <a href='https://wandb.ai/bgorai005-iit-madras/deep_learning_assignment_1' target=\"_blank\">https://wandb.ai/bgorai005-iit-madras/deep_learning_assignment_1</a>"
            ]
          },
          "metadata": {}
        },
        {
          "output_type": "display_data",
          "data": {
            "text/plain": [
              "<IPython.core.display.HTML object>"
            ],
            "text/html": [
              " View sweep at <a href='https://wandb.ai/bgorai005-iit-madras/deep_learning_assignment_1/sweeps/4uv2tuxd' target=\"_blank\">https://wandb.ai/bgorai005-iit-madras/deep_learning_assignment_1/sweeps/4uv2tuxd</a>"
            ]
          },
          "metadata": {}
        },
        {
          "output_type": "display_data",
          "data": {
            "text/plain": [
              "<IPython.core.display.HTML object>"
            ],
            "text/html": [
              " View run at <a href='https://wandb.ai/bgorai005-iit-madras/deep_learning_assignment_1/runs/v7d7qkqv' target=\"_blank\">https://wandb.ai/bgorai005-iit-madras/deep_learning_assignment_1/runs/v7d7qkqv</a>"
            ]
          },
          "metadata": {}
        },
        {
          "output_type": "stream",
          "name": "stdout",
          "text": [
            "[784, 128, 128, 128, 128, 128, 10]\n",
            "Epoch 1, Loss: 0.11571638227448114, Validation Loss: 0.11536890957249687\n",
            "Epoch 2, Loss: 0.1360827213826955, Validation Loss: 0.1352858665808961\n",
            "Epoch 3, Loss: 0.17626909996492512, Validation Loss: 0.1755868495331845\n",
            "Epoch 4, Loss: 0.16146813691939818, Validation Loss: 0.16084974449598663\n",
            "Epoch 5, Loss: 0.17854293820632505, Validation Loss: 0.17865160708322553\n",
            "Epoch 6, Loss: 0.1723328141104732, Validation Loss: 0.17277329607218236\n",
            "Epoch 7, Loss: 0.1166345660925982, Validation Loss: 0.11614353758736101\n",
            "Epoch 8, Loss: 0.13373416273642455, Validation Loss: 0.1336991167023416\n",
            "Epoch 9, Loss: 0.1797593964365602, Validation Loss: 0.17935301711687793\n",
            "Epoch 10, Loss: 0.179756951249455, Validation Loss: 0.18012593417268288\n"
          ]
        },
        {
          "output_type": "display_data",
          "data": {
            "text/plain": [
              "<IPython.core.display.HTML object>"
            ],
            "text/html": []
          },
          "metadata": {}
        },
        {
          "output_type": "display_data",
          "data": {
            "text/plain": [
              "<IPython.core.display.HTML object>"
            ],
            "text/html": [
              "<br>    <style><br>        .wandb-row {<br>            display: flex;<br>            flex-direction: row;<br>            flex-wrap: wrap;<br>            justify-content: flex-start;<br>            width: 100%;<br>        }<br>        .wandb-col {<br>            display: flex;<br>            flex-direction: column;<br>            flex-basis: 100%;<br>            flex: 1;<br>            padding: 10px;<br>        }<br>    </style><br><div class=\"wandb-row\"><div class=\"wandb-col\"><h3>Run history:</h3><br/><table class=\"wandb\"><tr><td>epoch</td><td>▁▂▃▃▄▅▆▆▇█</td></tr><tr><td>train_accuracy</td><td>▁▂▂▂▆█▁▆▄▇</td></tr><tr><td>train_loss</td><td>▁▃█▆█▇▁▃██</td></tr><tr><td>val_accuracy</td><td>█▇▇▇▃▁█▃▅▂</td></tr><tr><td>val_loss</td><td>▁▃█▆█▇▁▃██</td></tr></table><br/></div><div class=\"wandb-col\"><h3>Run summary:</h3><br/><table class=\"wandb\"><tr><td>epoch</td><td>10</td></tr><tr><td>train_accuracy</td><td>10.01852</td></tr><tr><td>train_loss</td><td>0.17976</td></tr><tr><td>val_accuracy</td><td>9.83333</td></tr><tr><td>val_loss</td><td>0.18013</td></tr></table><br/></div></div>"
            ]
          },
          "metadata": {}
        },
        {
          "output_type": "display_data",
          "data": {
            "text/plain": [
              "<IPython.core.display.HTML object>"
            ],
            "text/html": [
              " View run <strong style=\"color:#cdcd00\">ac-tanh_hs-128_epc-10_nl-5_lr0.001_wd-0_opt-nag_bs-64_wi-Xavier_loss-<function mse_loss at 0x7c4fe51c8ae0></strong> at: <a href='https://wandb.ai/bgorai005-iit-madras/deep_learning_assignment_1/runs/v7d7qkqv' target=\"_blank\">https://wandb.ai/bgorai005-iit-madras/deep_learning_assignment_1/runs/v7d7qkqv</a><br> View project at: <a href='https://wandb.ai/bgorai005-iit-madras/deep_learning_assignment_1' target=\"_blank\">https://wandb.ai/bgorai005-iit-madras/deep_learning_assignment_1</a><br>Synced 5 W&B file(s), 0 media file(s), 0 artifact file(s) and 0 other file(s)"
            ]
          },
          "metadata": {}
        },
        {
          "output_type": "display_data",
          "data": {
            "text/plain": [
              "<IPython.core.display.HTML object>"
            ],
            "text/html": [
              "Find logs at: <code>./wandb/run-20250316_203157-v7d7qkqv/logs</code>"
            ]
          },
          "metadata": {}
        },
        {
          "output_type": "stream",
          "name": "stderr",
          "text": [
            "\u001b[34m\u001b[1mwandb\u001b[0m: Sweep Agent: Waiting for job.\n",
            "\u001b[34m\u001b[1mwandb\u001b[0m: Job received.\n",
            "\u001b[34m\u001b[1mwandb\u001b[0m: Agent Starting Run: gmc8nxup with config:\n",
            "\u001b[34m\u001b[1mwandb\u001b[0m: \tactivation_hidden: tanh\n",
            "\u001b[34m\u001b[1mwandb\u001b[0m: \tactivation_output: softmax\n",
            "\u001b[34m\u001b[1mwandb\u001b[0m: \tbatch_size: 64\n",
            "\u001b[34m\u001b[1mwandb\u001b[0m: \tepochs: 10\n",
            "\u001b[34m\u001b[1mwandb\u001b[0m: \thidden_size: 128\n",
            "\u001b[34m\u001b[1mwandb\u001b[0m: \tlearning_rate: 0.001\n",
            "\u001b[34m\u001b[1mwandb\u001b[0m: \tnum_layers: 3\n",
            "\u001b[34m\u001b[1mwandb\u001b[0m: \toptimizer: adam\n",
            "\u001b[34m\u001b[1mwandb\u001b[0m: \tweight_decay: 0\n",
            "\u001b[34m\u001b[1mwandb\u001b[0m: \tweight_ini_method: random\n"
          ]
        },
        {
          "output_type": "display_data",
          "data": {
            "text/plain": [
              "<IPython.core.display.HTML object>"
            ],
            "text/html": [
              "Tracking run with wandb version 0.19.8"
            ]
          },
          "metadata": {}
        },
        {
          "output_type": "display_data",
          "data": {
            "text/plain": [
              "<IPython.core.display.HTML object>"
            ],
            "text/html": [
              "Run data is saved locally in <code>/content/wandb/run-20250316_203551-gmc8nxup</code>"
            ]
          },
          "metadata": {}
        },
        {
          "output_type": "display_data",
          "data": {
            "text/plain": [
              "<IPython.core.display.HTML object>"
            ],
            "text/html": [
              "Syncing run <strong><a href='https://wandb.ai/bgorai005-iit-madras/deep_learning_assignment_1/runs/gmc8nxup' target=\"_blank\">golden-sweep-61</a></strong> to <a href='https://wandb.ai/bgorai005-iit-madras/deep_learning_assignment_1' target=\"_blank\">Weights & Biases</a> (<a href='https://wandb.me/developer-guide' target=\"_blank\">docs</a>)<br>Sweep page: <a href='https://wandb.ai/bgorai005-iit-madras/deep_learning_assignment_1/sweeps/4uv2tuxd' target=\"_blank\">https://wandb.ai/bgorai005-iit-madras/deep_learning_assignment_1/sweeps/4uv2tuxd</a>"
            ]
          },
          "metadata": {}
        },
        {
          "output_type": "display_data",
          "data": {
            "text/plain": [
              "<IPython.core.display.HTML object>"
            ],
            "text/html": [
              " View project at <a href='https://wandb.ai/bgorai005-iit-madras/deep_learning_assignment_1' target=\"_blank\">https://wandb.ai/bgorai005-iit-madras/deep_learning_assignment_1</a>"
            ]
          },
          "metadata": {}
        },
        {
          "output_type": "display_data",
          "data": {
            "text/plain": [
              "<IPython.core.display.HTML object>"
            ],
            "text/html": [
              " View sweep at <a href='https://wandb.ai/bgorai005-iit-madras/deep_learning_assignment_1/sweeps/4uv2tuxd' target=\"_blank\">https://wandb.ai/bgorai005-iit-madras/deep_learning_assignment_1/sweeps/4uv2tuxd</a>"
            ]
          },
          "metadata": {}
        },
        {
          "output_type": "display_data",
          "data": {
            "text/plain": [
              "<IPython.core.display.HTML object>"
            ],
            "text/html": [
              " View run at <a href='https://wandb.ai/bgorai005-iit-madras/deep_learning_assignment_1/runs/gmc8nxup' target=\"_blank\">https://wandb.ai/bgorai005-iit-madras/deep_learning_assignment_1/runs/gmc8nxup</a>"
            ]
          },
          "metadata": {}
        },
        {
          "output_type": "stream",
          "name": "stdout",
          "text": [
            "[784, 128, 128, 128, 10]\n",
            "Epoch 1, Train Loss: 0.06094040594919396, Val Loss: 0.06125783386446753\n",
            "Epoch 2, Train Loss: 0.04669613828314583, Val Loss: 0.04775146663954286\n",
            "Epoch 3, Train Loss: 0.041817203161002466, Val Loss: 0.04335360698828282\n",
            "Epoch 4, Train Loss: 0.03905922795248007, Val Loss: 0.04071386772626365\n",
            "Epoch 5, Train Loss: 0.036664672725411435, Val Loss: 0.03826643972794277\n"
          ]
        }
      ]
    },
    {
      "cell_type": "code",
      "source": [
        "def main():\n",
        "  with wandb.init() as run:\n",
        "    run_name=f\"ac-{wandb.config.activation_hidden}_hs-{wandb.config.hidden_size}_epc-{wandb.config.epochs}_nl-{wandb.config.num_layers}_lr{wandb.config.learning_rate}_wd-{wandb.config.weight_decay}_opt-{wandb.config.optimizer}_bs-{wandb.config.batch_size}_wi-{wandb.config.weight_ini_method}\"\n",
        "    wandb.run.name=run_name\n",
        "\n",
        "    model_training(wandb.config.learning_rate,0.9,0.9,0.99,1e-8,x_train,y_train,x_valid,y_valid,wandb.config.optimizer,wandb.config.batch_size,wandb.config.num_layers,wandb.config.hidden_size,wandb.config.activation_hidden,wandb.config.activation_output,wandb.config.weight_ini_method,wandb.config.weight_decay,wandb.config.epochs,'mse_loss')\n",
        "\n",
        "try:\n",
        "    wandb.agent(sweep_id,function=main,count=)\n",
        "    wandb.finish()\n",
        "except BrokenPipeError:\n",
        "    print(\"Encountered a BrokenPipeError. Attempting to gracefully finish the run.\")\n",
        "    # You can add additional error handling logic here, such as saving intermediate results\n",
        "    wandb.finish(quiet=True)  # Try finishing quietly to avoid further errors"
      ],
      "metadata": {
        "collapsed": true,
        "id": "vomc_XbV3bxe"
      },
      "execution_count": null,
      "outputs": []
    },
    {
      "cell_type": "code",
      "source": [
        "#Q 10 : download the mnist dataset and run this data set of three recomendation of best models obtain after hyper parameter search.\n"
      ],
      "metadata": {
        "id": "HHG6XtheBcht"
      },
      "execution_count": 1,
      "outputs": []
    },
    {
      "cell_type": "code",
      "source": [
        "from keras.datasets import mnist\n",
        "(train_x1,train_y1),(test_x1,test_y1)=mnist.load_data()\n",
        "\n",
        "x1_train,y1_train,x1_val,y1_val,x1_test,y1_test=tranform_dataset(train_x1,train_y1,test_x1,test_y1)"
      ],
      "metadata": {
        "id": "miW34T7O7aFD"
      },
      "execution_count": 54,
      "outputs": []
    },
    {
      "cell_type": "code",
      "source": [
        "#  optimizer redefined for recommendation and see the accuracy (code is almost same as before only here i remove the wandb log)\n",
        "def re_mgd(lr, momentum, x_train, y_train, x_val, y_val,x_test,y_test, batch_size, num_layers, hidden_size, active_fun_hidden, active_fun_output, weight_ini_method, weight_decay, epochs, loss_function='cross_entropy'):\n",
        "    theta = initial_weight(num_layers, hidden_size, weight_ini_method)\n",
        "    train_loss_history = []\n",
        "    val_loss_history = []\n",
        "\n",
        "    # Initialize velocity terms for weights and biases\n",
        "    velocity = {}\n",
        "    for i in range(1, num_layers + 2):\n",
        "        velocity[f'W{i}'] = np.zeros_like(theta[f'W{i}'])\n",
        "        velocity[f'b{i}'] = np.zeros_like(theta[f'b{i}'])\n",
        "\n",
        "    for epoch in range(epochs):\n",
        "        # Shuffle training data\n",
        "        indices = np.arange(x_train.shape[0])\n",
        "        np.random.shuffle(indices)\n",
        "        x_train = x_train[indices]\n",
        "        y_train = y_train[indices]\n",
        "\n",
        "        # Mini-batch training\n",
        "        for i in range(0, x_train.shape[0], batch_size):\n",
        "            x_batch = x_train[i:i + batch_size]\n",
        "            y_batch = y_train[i:i + batch_size]\n",
        "\n",
        "            # Compute gradients\n",
        "            grad = back_prop(x_batch, y_batch, theta, active_fun_hidden, active_fun_output, num_layers,loss_function)\n",
        "\n",
        "            # Update weights and biases using momentum\n",
        "            for j in range(1, num_layers + 2):\n",
        "                velocity[f'W{j}'] = momentum * velocity[f'W{j}'] + grad[f'W{j}']\n",
        "                velocity[f'b{j}'] = momentum * velocity[f'b{j}'] + grad[f'b{j}']\n",
        "\n",
        "                theta[f'W{j}'] -= lr * (velocity[f'W{j}'] + weight_decay * theta[f'W{j}'])\n",
        "                theta[f'b{j}'] -= lr * velocity[f'b{j}']\n",
        "\n",
        "        # Compute the train accuracy\n",
        "        train_accuracy = cal_accuracy(x_train, y_train, theta, active_fun_hidden, active_fun_output, num_layers)\n",
        "\n",
        "        # Compute and store training loss\n",
        "        _, _, y_train_pred = forward_prop(x_train, theta, active_fun_hidden, active_fun_output, num_layers)\n",
        "        train_loss = cross_entropy(y_train, y_train_pred) if loss_function == 'cross_entropy' else mse_loss(y_train, y_train_pred)\n",
        "        train_loss_history.append(train_loss)\n",
        "\n",
        "        # Compute the validation accuracy\n",
        "        validation_accuracy = cal_accuracy(x_val, y_val, theta, active_fun_hidden, active_fun_output, num_layers)\n",
        "\n",
        "        # Compute and store validation loss\n",
        "        _, _, y_val_pred = forward_prop(x_val, theta, active_fun_hidden, active_fun_output, num_layers)\n",
        "        val_loss = cross_entropy(y_val, y_val_pred) if loss_function == 'cross_entropy' else mse_loss(y_val, y_val_pred)\n",
        "        val_loss_history.append(val_loss)\n",
        "\n",
        "        print(f\"Epoch {epoch+1}, Train Loss: {train_loss}, Val Loss: {val_loss},Validation acuuracy:{validation_accuracy}\")\n",
        "\n",
        "\n",
        "    test_accuracy=cal_accuracy(x_test,y_test,theta,active_fun_hidden,active_fun_output,num_layers)\n",
        "    print(f'test_accuracy: {test_accuracy*100}')\n",
        "    return theta\n",
        "\n",
        "def re_adam(lr, beta1, beta2, epsilon, x_train, y_train, x_val, y_val,x_test,y_test, batch_size, num_layers, hidden_size, active_fun_hidden, active_fun_output, weight_ini_method, weight_decay, epochs, loss_function='cross_entropy'):\n",
        "    theta = initial_weight(num_layers, hidden_size, weight_ini_method)\n",
        "    train_loss_history = []\n",
        "    val_loss_history = []\n",
        "\n",
        "    # Initialize first moment (m) and second moment (v) dictionaries with zeros\n",
        "    m = {key: np.zeros_like(theta[key]) for key in theta.keys()}\n",
        "    v = {key: np.zeros_like(theta[key]) for key in theta.keys()}\n",
        "\n",
        "    for epoch in range(1, epochs + 1):\n",
        "        # Shuffle training data\n",
        "        indices = np.arange(x_train.shape[0])\n",
        "        np.random.shuffle(indices)\n",
        "        x_train = x_train[indices]\n",
        "        y_train = y_train[indices]\n",
        "\n",
        "        for i in range(0, x_train.shape[0], batch_size):\n",
        "            x_batch = x_train[i:i + batch_size]\n",
        "            y_batch = y_train[i:i + batch_size]\n",
        "\n",
        "            # Compute gradients using backpropagation\n",
        "            grad = back_prop(x_batch, y_batch, theta, active_fun_hidden, active_fun_output, num_layers,loss_function)\n",
        "\n",
        "            # Update first and second moment estimates and parameters with Adam\n",
        "            for k in range(1, num_layers + 2):\n",
        "                m[f'W{k}'] = beta1 * m[f'W{k}'] + (1 - beta1) * grad[f'W{k}']\n",
        "                m[f'b{k}'] = beta1 * m[f'b{k}'] + (1 - beta1) * grad[f'b{k}']\n",
        "\n",
        "                v[f'W{k}'] = beta2 * v[f'W{k}'] + (1 - beta2) * (grad[f'W{k}'] ** 2)\n",
        "                v[f'b{k}'] = beta2 * v[f'b{k}'] + (1 - beta2) * (grad[f'b{k}'] ** 2)\n",
        "\n",
        "                m_hat_W = m[f'W{k}'] / (1 - beta1 ** epoch)\n",
        "                m_hat_b = m[f'b{k}'] / (1 - beta1 ** epoch)\n",
        "                v_hat_W = v[f'W{k}'] / (1 - beta2 ** epoch)\n",
        "                v_hat_b = v[f'b{k}'] / (1 - beta2 ** epoch)\n",
        "\n",
        "                theta[f'W{k}'] -= lr * (m_hat_W / (np.sqrt(v_hat_W) + epsilon) + weight_decay * theta[f'W{k}'])\n",
        "                theta[f'b{k}'] -= lr * m_hat_b / (np.sqrt(v_hat_b) + epsilon)\n",
        "\n",
        "        train_accuracy = cal_accuracy(x_train, y_train, theta, active_fun_hidden, active_fun_output, num_layers)\n",
        "\n",
        "        _, _, y_train_pred = forward_prop(x_train, theta, active_fun_hidden, active_fun_output, num_layers)\n",
        "        train_loss = cross_entropy(y_train, y_train_pred) if loss_function == 'cross_entropy' else mse_loss(y_train, y_train_pred)\n",
        "        train_loss_history.append(train_loss)\n",
        "\n",
        "        validation_accuracy = cal_accuracy(x_val, y_val, theta, active_fun_hidden, active_fun_output, num_layers)\n",
        "\n",
        "        _, _, y_val_pred = forward_prop(x_val, theta, active_fun_hidden, active_fun_output, num_layers)\n",
        "        val_loss = cross_entropy(y_val, y_val_pred) if loss_function == 'cross_entropy' else mse_loss(y_val, y_val_pred)\n",
        "        val_loss_history.append(val_loss)\n",
        "\n",
        "        print(f\"Epoch {epoch}, Train Loss: {train_loss}, Val Loss: {val_loss},Validation acuuracy:{validation_accuracy}\")\n",
        "    test_accuracy=cal_accuracy(x_test,y_test,theta,active_fun_hidden,active_fun_output,num_layers)\n",
        "    print(f'test_accuracy: {test_accuracy*100}')\n",
        "    return theta\n",
        "\n",
        "\n",
        "\n",
        "def re_nadam(lr, beta1, beta2, epsilon, x_train, y_train, x_val, y_val,x_test,y_test, batch_size, num_layers, hidden_size, active_fun_hidden, active_fun_output, weight_ini_method, weight_decay,epochs,loss_function='cross_entropy'):\n",
        "    # Initialize network parameters\n",
        "    theta = initial_weight(num_layers, hidden_size, weight_ini_method)\n",
        "\n",
        "    # Initialize first moment (m) and second moment (v) dictionaries with zeros\n",
        "    m = {key: np.zeros_like(theta[key]) for key in theta.keys()}\n",
        "    v = {key: np.zeros_like(theta[key]) for key in theta.keys()}\n",
        "\n",
        "    # Lists to store loss history\n",
        "    loss_history = []\n",
        "    val_loss_history = []\n",
        "\n",
        "    # Training loop over epochs\n",
        "    for epoch in range(1, epochs + 1):\n",
        "        # Shuffle training data\n",
        "        indices = np.arange(x_train.shape[0])\n",
        "        np.random.shuffle(indices)\n",
        "        x_train= x_train[indices]\n",
        "        y_train = y_train[indices]\n",
        "\n",
        "        for i in range(0,x_train.shape[0], batch_size):\n",
        "            x_batch = x_train[i:i + batch_size]\n",
        "            y_batch = y_train[i:i + batch_size]\n",
        "\n",
        "            # Compute gradients using backpropagation\n",
        "            grad = back_prop(x_batch, y_batch, theta, active_fun_hidden, active_fun_output, num_layers,loss_function)\n",
        "\n",
        "            # Update first and second moment estimates and parameters with Nadam\n",
        "            for k in range(1, num_layers + 2):\n",
        "                # Update biased first moment estimate\n",
        "                m[f'W{k}'] = beta1 * m[f'W{k}'] + (1 - beta1) * grad[f'W{k}']\n",
        "                m[f'b{k}'] = beta1 * m[f'b{k}'] + (1 - beta1) * grad[f'b{k}']\n",
        "\n",
        "                # Update biased second moment estimate\n",
        "                v[f'W{k}'] = beta2 * v[f'W{k}'] + (1 - beta2) * (grad[f'W{k}'] ** 2)\n",
        "                v[f'b{k}'] = beta2 * v[f'b{k}'] + (1 - beta2) * (grad[f'b{k}'] ** 2)\n",
        "\n",
        "                # Compute bias-corrected first and second moment estimates with Nesterov acceleration\n",
        "                m_hat_W = (beta1 * m[f'W{k}'] + (1 - beta1) * grad[f'W{k}']) / (1 - beta1 ** epoch)\n",
        "                m_hat_b = (beta1 * m[f'b{k}'] + (1 - beta1) * grad[f'b{k}']) / (1 - beta1 ** epoch)\n",
        "                v_hat_W = v[f'W{k}'] / (1 - beta2 ** epoch)\n",
        "                v_hat_b = v[f'b{k}'] / (1 - beta2 ** epoch)\n",
        "\n",
        "                # Update weights and biases\n",
        "                theta[f'W{k}'] -= lr*(m_hat_W / (np.sqrt(v_hat_W) + epsilon) + weight_decay * theta[f'W{k}'])\n",
        "                theta[f'b{k}'] -= lr * m_hat_b / (np.sqrt(v_hat_b) + epsilon)\n",
        "\n",
        "        #compute the train accuracy\n",
        "        train_accuracy=cal_accuracy(x_train,y_train,theta,active_fun_hidden,active_fun_output,num_layers)\n",
        "\n",
        "        # Compute training loss and predictions\n",
        "        _, _, y_pred = forward_prop(x_train, theta, active_fun_hidden, active_fun_output, num_layers)\n",
        "        train_loss = cross_entropy(y_train, y_pred) if loss_function == 'cross_entropy' else mse_loss(y_train, y_pred)\n",
        "        loss_history.append(train_loss)\n",
        "\n",
        "        #compute the validation accuracy\n",
        "        validation_accuracy=cal_accuracy(x_val,y_val,theta,active_fun_hidden,active_fun_output,num_layers)\n",
        "\n",
        "\n",
        "        # Compute validation loss\n",
        "        _, _, y_val_pred = forward_prop(x_val, theta, active_fun_hidden, active_fun_output, num_layers)\n",
        "        val_loss = cross_entropy(y_val, y_val_pred)\n",
        "        val_loss_history.append(val_loss)\n",
        "\n",
        "        # Print loss for monitoring\n",
        "        print(f\"Epoch {epoch}, Loss: {train_loss}, Validation Loss: {val_loss},Validation acuuracy:{validation_accuracy}\")\n",
        "\n",
        "    test_accuracy=cal_accuracy(x_test,y_test,theta,active_fun_hidden,active_fun_output,num_layers)\n",
        "\n",
        "    print(f'test_accuracy: {test_accuracy*100}')\n",
        "\n",
        "    return theta\n",
        "\n",
        "\n"
      ],
      "metadata": {
        "id": "hzREupe06ABj"
      },
      "execution_count": 55,
      "outputs": []
    },
    {
      "cell_type": "code",
      "source": [
        "#1st recomendation\n",
        "\n",
        "theta=re_nadam(0.001,0.9,0.99,1e-8,x1_train,y1_train,x1_val,y1_val,x1_test,y1_test,64,3,128,'tanh','softmax','Xavier',0,10)"
      ],
      "metadata": {
        "id": "f5XdKr5R7xav",
        "colab": {
          "base_uri": "https://localhost:8080/"
        },
        "outputId": "2a498d12-9954-4b19-b03c-1531a9b415b9"
      },
      "execution_count": 56,
      "outputs": [
        {
          "output_type": "stream",
          "name": "stdout",
          "text": [
            "[784, 128, 128, 128, 10]\n",
            "Epoch 1, Loss: 0.11728260411500577, Validation Loss: 0.13305345833510673,Validation acuuracy:0.959\n",
            "Epoch 2, Loss: 0.0721103779827222, Validation Loss: 0.09524310931255854,Validation acuuracy:0.9703333333333334\n",
            "Epoch 3, Loss: 0.04585605948007311, Validation Loss: 0.07832825439550076,Validation acuuracy:0.9743333333333334\n",
            "Epoch 4, Loss: 0.037025614173032496, Validation Loss: 0.07318087488369246,Validation acuuracy:0.9768333333333333\n",
            "Epoch 5, Loss: 0.027178483198806138, Validation Loss: 0.07102101258291858,Validation acuuracy:0.977\n",
            "Epoch 6, Loss: 0.021244398741781814, Validation Loss: 0.07207773871063108,Validation acuuracy:0.977\n",
            "Epoch 7, Loss: 0.01373116832454399, Validation Loss: 0.06175341428661886,Validation acuuracy:0.982\n",
            "Epoch 8, Loss: 0.011432751807161325, Validation Loss: 0.070828735467981,Validation acuuracy:0.9791666666666666\n",
            "Epoch 9, Loss: 0.009750324434149252, Validation Loss: 0.0730925594513385,Validation acuuracy:0.9795\n",
            "Epoch 10, Loss: 0.009027919349136793, Validation Loss: 0.08316591028681498,Validation acuuracy:0.9783333333333334\n",
            "test_accuracy: 97.6\n"
          ]
        }
      ]
    },
    {
      "cell_type": "code",
      "source": [
        "#2nd recomendation\n",
        "\n",
        "theta=re_adam(0.001,0.9,0.99,1e-8,x1_train,y1_train,x1_val,y1_val,x1_test,y1_test,64,3,128,'relu','softmax','Xavier',0,10)"
      ],
      "metadata": {
        "id": "pQhgO0xL7kJN",
        "outputId": "1cd154a4-281f-42fc-89b1-065b34bc22a1",
        "colab": {
          "base_uri": "https://localhost:8080/"
        }
      },
      "execution_count": 57,
      "outputs": [
        {
          "output_type": "stream",
          "name": "stdout",
          "text": [
            "[784, 128, 128, 128, 10]\n",
            "Epoch 1, Train Loss: 0.11905777897398179, Val Loss: 0.14151265351225015,Validation acuuracy:0.9573333333333334\n",
            "Epoch 2, Train Loss: 0.06649282333378004, Val Loss: 0.10022311022191696,Validation acuuracy:0.9705\n",
            "Epoch 3, Train Loss: 0.04817341581751852, Val Loss: 0.08468315497652515,Validation acuuracy:0.9746666666666667\n",
            "Epoch 4, Train Loss: 0.028401937445487337, Val Loss: 0.0768330459534487,Validation acuuracy:0.98\n",
            "Epoch 5, Train Loss: 0.021865330759496003, Val Loss: 0.08012051332552124,Validation acuuracy:0.9783333333333334\n",
            "Epoch 6, Train Loss: 0.017720869020803675, Val Loss: 0.08201427443603902,Validation acuuracy:0.9788333333333333\n",
            "Epoch 7, Train Loss: 0.012414835686228799, Val Loss: 0.08000024682502577,Validation acuuracy:0.9788333333333333\n",
            "Epoch 8, Train Loss: 0.01019934674076216, Val Loss: 0.08965407331497939,Validation acuuracy:0.979\n",
            "Epoch 9, Train Loss: 0.0070612312235796065, Val Loss: 0.08930436151823389,Validation acuuracy:0.9801666666666666\n",
            "Epoch 10, Train Loss: 0.0048549888405912695, Val Loss: 0.08659425239135074,Validation acuuracy:0.9808333333333333\n",
            "test_accuracy: 97.92999999999999\n"
          ]
        }
      ]
    },
    {
      "cell_type": "code",
      "source": [
        "#3rd recomendation\n",
        "\n",
        "theta=re_mgd(0.001,0.9,x1_train,y1_train,x1_val,y1_val,x1_test,y1_test,32,4,128,'relu','softmax','Xavier',0,10)"
      ],
      "metadata": {
        "colab": {
          "base_uri": "https://localhost:8080/"
        },
        "id": "2_Ggcxie-8xv",
        "outputId": "7f3e26a0-f050-4174-d7f5-ac8883dc852a"
      },
      "execution_count": 58,
      "outputs": [
        {
          "output_type": "stream",
          "name": "stdout",
          "text": [
            "[784, 128, 128, 128, 128, 10]\n",
            "Epoch 1, Train Loss: 0.1898170621948162, Val Loss: 0.21460257081609024,Validation acuuracy:0.9351666666666667\n",
            "Epoch 2, Train Loss: 0.11092512549958619, Val Loss: 0.13347522180956625,Validation acuuracy:0.9628333333333333\n",
            "Epoch 3, Train Loss: 0.08707671475084015, Val Loss: 0.11878221916772551,Validation acuuracy:0.9685\n",
            "Epoch 4, Train Loss: 0.06039425313797049, Val Loss: 0.10188390535910766,Validation acuuracy:0.972\n",
            "Epoch 5, Train Loss: 0.06042517318003767, Val Loss: 0.11165662894139382,Validation acuuracy:0.9716666666666667\n",
            "Epoch 6, Train Loss: 0.04854787854917249, Val Loss: 0.11592174865867651,Validation acuuracy:0.9716666666666667\n",
            "Epoch 7, Train Loss: 0.04599137150876192, Val Loss: 0.10520565054233233,Validation acuuracy:0.971\n",
            "Epoch 8, Train Loss: 0.032530076336738364, Val Loss: 0.0997148651225282,Validation acuuracy:0.9756666666666667\n",
            "Epoch 9, Train Loss: 0.02565425221244124, Val Loss: 0.09500335005806157,Validation acuuracy:0.9783333333333334\n",
            "Epoch 10, Train Loss: 0.029214091724428327, Val Loss: 0.09002540345270194,Validation acuuracy:0.9788333333333333\n",
            "test_accuracy: 97.55\n"
          ]
        }
      ]
    },
    {
      "cell_type": "markdown",
      "source": [],
      "metadata": {
        "id": "YX3_HP4M860j"
      }
    }
  ]
}