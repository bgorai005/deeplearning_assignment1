{
  "nbformat": 4,
  "nbformat_minor": 0,
  "metadata": {
    "colab": {
      "provenance": [],
      "authorship_tag": "ABX9TyPXBY7Grt97D2KtjSGH/SBg",
      "include_colab_link": true
    },
    "kernelspec": {
      "name": "python3",
      "display_name": "Python 3"
    },
    "language_info": {
      "name": "python"
    }
  },
  "cells": [
    {
      "cell_type": "markdown",
      "metadata": {
        "id": "view-in-github",
        "colab_type": "text"
      },
      "source": [
        "<a href=\"https://colab.research.google.com/github/bgorai005/deeplearning_assignment1/blob/main/dl_assign1.ipynb\" target=\"_parent\"><img src=\"https://colab.research.google.com/assets/colab-badge.svg\" alt=\"Open In Colab\"/></a>"
      ]
    },
    {
      "cell_type": "code",
      "execution_count": null,
      "metadata": {
        "id": "uv1dd-oHSJQw"
      },
      "outputs": [],
      "source": [
        "# Name-Biswajit gorai ,Roll no- MA24M005"
      ]
    },
    {
      "cell_type": "code",
      "source": [
        "#"
      ],
      "metadata": {
        "id": "YrHOss06qszR"
      },
      "execution_count": null,
      "outputs": []
    },
    {
      "cell_type": "code",
      "source": [
        "import numpy as np\n",
        "import matplotlib.pyplot as plt\n",
        "from keras.datasets import fashion_mnist\n",
        "import wandb\n",
        "\n",
        "# Login to Weights & Biases\n",
        "wandb.login()\n",
        "\n",
        "# Initialize W&B project\n",
        "wandb.init(project='deep_learning_assignment_1',name='dataset_samples',mode='online')\n",
        "\n",
        "# Load the Fashion MNIST dataset\n",
        "(train_images, train_labels), (test_images, test_labels) = fashion_mnist.load_data()\n",
        "\n",
        "# Define the class labels\n",
        "class_labels = ['T-shirt/top', 'Trouser', 'Pullover', 'Dress', 'Coat', 'Sandal', 'Shirt', 'Sneaker', 'Bag', 'Ankle boot']\n",
        "wandb.log({\"examples\":[wandb.Image(train_images[i],caption=class_labels[train_labels[i]])for i in range(10)]})\n",
        "# Plot 1 sample image for each class\n",
        "plt.figure(figsize=(10, 10))\n",
        "for label in range(10):\n",
        "    sample_image = train_images[train_labels == label][0]\n",
        "    plt.subplot(5, 5, label + 1)\n",
        "    plt.xticks([])\n",
        "    plt.yticks([])\n",
        "    plt.grid(False)\n",
        "    plt.xlabel(class_labels[label])\n",
        "    plt.imshow(sample_image, cmap=plt.cm.binary)\n",
        "plt.show()\n",
        "\n",
        "# Finish the W&B run\n",
        "wandb.finish()\n",
        "#594642013968a68e466138e783dcece6765c43b9"
      ],
      "metadata": {
        "colab": {
          "base_uri": "https://localhost:8080/",
          "height": 831
        },
        "id": "odyBhgZjeOAS",
        "outputId": "c3353bfb-8496-4397-9ef5-17d64b25da19"
      },
      "execution_count": null,
      "outputs": [
        {
          "output_type": "stream",
          "name": "stderr",
          "text": [
            "\u001b[34m\u001b[1mwandb\u001b[0m: Using wandb-core as the SDK backend.  Please refer to https://wandb.me/wandb-core for more information.\n"
          ]
        },
        {
          "output_type": "display_data",
          "data": {
            "text/plain": [
              "<IPython.core.display.Javascript object>"
            ],
            "application/javascript": [
              "\n",
              "        window._wandbApiKey = new Promise((resolve, reject) => {\n",
              "            function loadScript(url) {\n",
              "            return new Promise(function(resolve, reject) {\n",
              "                let newScript = document.createElement(\"script\");\n",
              "                newScript.onerror = reject;\n",
              "                newScript.onload = resolve;\n",
              "                document.body.appendChild(newScript);\n",
              "                newScript.src = url;\n",
              "            });\n",
              "            }\n",
              "            loadScript(\"https://cdn.jsdelivr.net/npm/postmate/build/postmate.min.js\").then(() => {\n",
              "            const iframe = document.createElement('iframe')\n",
              "            iframe.style.cssText = \"width:0;height:0;border:none\"\n",
              "            document.body.appendChild(iframe)\n",
              "            const handshake = new Postmate({\n",
              "                container: iframe,\n",
              "                url: 'https://wandb.ai/authorize'\n",
              "            });\n",
              "            const timeout = setTimeout(() => reject(\"Couldn't auto authenticate\"), 5000)\n",
              "            handshake.then(function(child) {\n",
              "                child.on('authorize', data => {\n",
              "                    clearTimeout(timeout)\n",
              "                    resolve(data)\n",
              "                });\n",
              "            });\n",
              "            })\n",
              "        });\n",
              "    "
            ]
          },
          "metadata": {}
        },
        {
          "output_type": "stream",
          "name": "stderr",
          "text": [
            "\u001b[34m\u001b[1mwandb\u001b[0m: Logging into wandb.ai. (Learn how to deploy a W&B server locally: https://wandb.me/wandb-server)\n",
            "\u001b[34m\u001b[1mwandb\u001b[0m: You can find your API key in your browser here: https://wandb.ai/authorize\n",
            "wandb: Paste an API key from your profile and hit enter:"
          ]
        },
        {
          "name": "stdout",
          "output_type": "stream",
          "text": [
            " ··········\n"
          ]
        },
        {
          "output_type": "stream",
          "name": "stderr",
          "text": [
            "\u001b[34m\u001b[1mwandb\u001b[0m: \u001b[33mWARNING\u001b[0m If you're specifying your api key in code, ensure this code is not shared publicly.\n",
            "\u001b[34m\u001b[1mwandb\u001b[0m: \u001b[33mWARNING\u001b[0m Consider setting the WANDB_API_KEY environment variable, or running `wandb login` from the command line.\n",
            "\u001b[34m\u001b[1mwandb\u001b[0m: No netrc file found, creating one.\n",
            "\u001b[34m\u001b[1mwandb\u001b[0m: Appending key for api.wandb.ai to your netrc file: /root/.netrc\n",
            "\u001b[34m\u001b[1mwandb\u001b[0m: Currently logged in as: \u001b[33mbgorai005\u001b[0m (\u001b[33mbgorai005-iit-madras\u001b[0m) to \u001b[32mhttps://api.wandb.ai\u001b[0m. Use \u001b[1m`wandb login --relogin`\u001b[0m to force relogin\n"
          ]
        },
        {
          "output_type": "display_data",
          "data": {
            "text/plain": [
              "<IPython.core.display.HTML object>"
            ],
            "text/html": [
              "Tracking run with wandb version 0.19.7"
            ]
          },
          "metadata": {}
        },
        {
          "output_type": "display_data",
          "data": {
            "text/plain": [
              "<IPython.core.display.HTML object>"
            ],
            "text/html": [
              "Run data is saved locally in <code>/content/wandb/run-20250310_030258-se8vtji9</code>"
            ]
          },
          "metadata": {}
        },
        {
          "output_type": "display_data",
          "data": {
            "text/plain": [
              "<IPython.core.display.HTML object>"
            ],
            "text/html": [
              "Syncing run <strong><a href='https://wandb.ai/bgorai005-iit-madras/deep_learning_assignment_1/runs/se8vtji9' target=\"_blank\">dataset_samples</a></strong> to <a href='https://wandb.ai/bgorai005-iit-madras/deep_learning_assignment_1' target=\"_blank\">Weights & Biases</a> (<a href='https://wandb.me/developer-guide' target=\"_blank\">docs</a>)<br>"
            ]
          },
          "metadata": {}
        },
        {
          "output_type": "display_data",
          "data": {
            "text/plain": [
              "<IPython.core.display.HTML object>"
            ],
            "text/html": [
              " View project at <a href='https://wandb.ai/bgorai005-iit-madras/deep_learning_assignment_1' target=\"_blank\">https://wandb.ai/bgorai005-iit-madras/deep_learning_assignment_1</a>"
            ]
          },
          "metadata": {}
        },
        {
          "output_type": "display_data",
          "data": {
            "text/plain": [
              "<IPython.core.display.HTML object>"
            ],
            "text/html": [
              " View run at <a href='https://wandb.ai/bgorai005-iit-madras/deep_learning_assignment_1/runs/se8vtji9' target=\"_blank\">https://wandb.ai/bgorai005-iit-madras/deep_learning_assignment_1/runs/se8vtji9</a>"
            ]
          },
          "metadata": {}
        },
        {
          "output_type": "stream",
          "name": "stdout",
          "text": [
            "Downloading data from https://storage.googleapis.com/tensorflow/tf-keras-datasets/train-labels-idx1-ubyte.gz\n",
            "\u001b[1m29515/29515\u001b[0m \u001b[32m━━━━━━━━━━━━━━━━━━━━\u001b[0m\u001b[37m\u001b[0m \u001b[1m0s\u001b[0m 0us/step\n",
            "Downloading data from https://storage.googleapis.com/tensorflow/tf-keras-datasets/train-images-idx3-ubyte.gz\n",
            "\u001b[1m26421880/26421880\u001b[0m \u001b[32m━━━━━━━━━━━━━━━━━━━━\u001b[0m\u001b[37m\u001b[0m \u001b[1m2s\u001b[0m 0us/step\n",
            "Downloading data from https://storage.googleapis.com/tensorflow/tf-keras-datasets/t10k-labels-idx1-ubyte.gz\n",
            "\u001b[1m5148/5148\u001b[0m \u001b[32m━━━━━━━━━━━━━━━━━━━━\u001b[0m\u001b[37m\u001b[0m \u001b[1m0s\u001b[0m 0us/step\n",
            "Downloading data from https://storage.googleapis.com/tensorflow/tf-keras-datasets/t10k-images-idx3-ubyte.gz\n",
            "\u001b[1m4422102/4422102\u001b[0m \u001b[32m━━━━━━━━━━━━━━━━━━━━\u001b[0m\u001b[37m\u001b[0m \u001b[1m1s\u001b[0m 0us/step\n"
          ]
        },
        {
          "output_type": "display_data",
          "data": {
            "text/plain": [
              "<Figure size 1000x1000 with 10 Axes>"
            ],
            "image/png": "[encoded data removed]"
          },
          "metadata": {}
        },
        {
          "output_type": "display_data",
          "data": {
            "text/plain": [
              "<IPython.core.display.HTML object>"
            ],
            "text/html": []
          },
          "metadata": {}
        },
        {
          "output_type": "display_data",
          "data": {
            "text/plain": [
              "<IPython.core.display.HTML object>"
            ],
            "text/html": [
              " View run <strong style=\"color:#cdcd00\">dataset_samples</strong> at: <a href='https://wandb.ai/bgorai005-iit-madras/deep_learning_assignment_1/runs/se8vtji9' target=\"_blank\">https://wandb.ai/bgorai005-iit-madras/deep_learning_assignment_1/runs/se8vtji9</a><br> View project at: <a href='https://wandb.ai/bgorai005-iit-madras/deep_learning_assignment_1' target=\"_blank\">https://wandb.ai/bgorai005-iit-madras/deep_learning_assignment_1</a><br>Synced 5 W&B file(s), 10 media file(s), 0 artifact file(s) and 0 other file(s)"
            ]
          },
          "metadata": {}
        },
        {
          "output_type": "display_data",
          "data": {
            "text/plain": [
              "<IPython.core.display.HTML object>"
            ],
            "text/html": [
              "Find logs at: <code>./wandb/run-20250310_030258-se8vtji9/logs</code>"
            ]
          },
          "metadata": {}
        }
      ]
    },
    {
      "cell_type": "code",
      "source": [
        "from sklearn.model_selection import train_test_split\n",
        "\n",
        "def tranform_dataset(train_images,train_labels,test_images,test_labels):\n",
        "  #split the training dataset for traning and validation\n",
        "  x_train,x_valid,y_train,y_valid=train_test_split(train_images,train_labels,test_size=0.1,random_state=42)\n",
        "   #flattenten the image data\n",
        "  x_train = x_train.reshape(x_train.shape[0], -1)\n",
        "  x_valid = x_valid.reshape(x_valid.shape[0], -1)\n",
        "  x_test = test_images.reshape(test_images.shape[0], -1)\n",
        "  #Normalize the image data\n",
        "  x_train = x_train.astype('float32') / 255\n",
        "  x_valid = x_valid.astype('float32') / 255\n",
        "  x_test = x_test.astype('float32') / 255\n",
        "  # one hot encode for output column\n",
        "  y_train = one_hot_encode(y_train)\n",
        "  y_valid = one_hot_encode(y_valid)\n",
        "  y_test = one_hot_encode(test_labels)\n",
        "\n",
        "\n",
        "  return x_train,y_train,x_valid,y_valid,x_test,y_test\n",
        "\n",
        "\n",
        "\n",
        "#one hot encoding for output\n",
        "def one_hot_encode(labels):\n",
        "    encoded = np.zeros((len(labels), 10))\n",
        "    for i, label in enumerate(labels):\n",
        "        encoded[i, label] = 1\n",
        "    return encoded\n"
      ],
      "metadata": {
        "id": "QGtTOS2wNezJ"
      },
      "execution_count": 59,
      "outputs": []
    },
    {
      "cell_type": "code",
      "source": [
        "#transform the dataset for using the feedforward neural network models\n",
        "x_train,y_train,x_valid,y_valid,x_test,y_test=tranform_dataset(train_images,train_labels,test_images,test_labels)"
      ],
      "metadata": {
        "id": "tgYZpymnY750"
      },
      "execution_count": 60,
      "outputs": []
    },
    {
      "cell_type": "code",
      "source": [
        "#shapes of the datasets\n",
        "print(\"x_train shape:\", x_train.shape)\n",
        "print(\"y_train shape:\", y_train.shape)\n",
        "print(\"x_valid shape:\", x_valid.shape)\n",
        "print(\"y_valid shape:\", y_valid.shape)"
      ],
      "metadata": {
        "id": "LApDeYDeZGuv",
        "colab": {
          "base_uri": "https://localhost:8080/"
        },
        "outputId": "e2fbfbe6-cd93-45ad-aa83-1bf682c4b94d"
      },
      "execution_count": 61,
      "outputs": [
        {
          "output_type": "stream",
          "name": "stdout",
          "text": [
            "x_train shape: (54000, 784)\n",
            "y_train shape: (54000, 10)\n",
            "x_valid shape: (6000, 784)\n",
            "y_valid shape: (6000, 10)\n"
          ]
        }
      ]
    },
    {
      "cell_type": "markdown",
      "source": [
        "Intialize a network"
      ],
      "metadata": {
        "id": "-LNrA7j7Z1fS"
      }
    },
    {
      "cell_type": "code",
      "source": [
        "import numpy as np\n",
        "\n",
        "def initial_weight(num_layer, hidden_size, weight_ini_method):\n",
        "    # Create a list with num_layer hidden layers, each of size hidden_size\n",
        "    network_size = [hidden_size] * num_layer\n",
        "    # Prepend input size and append output size\n",
        "    network_size = [x_train.shape[1]] + network_size + [y_train.shape[1]]\n",
        "    print(network_size)  # Print the network architecture for debugging\n",
        "\n",
        "    # Initialize an empty dictionary to store weights and biases\n",
        "    theta = {}\n",
        "\n",
        "    # Random initialization\n",
        "    if weight_ini_method == \"random\":\n",
        "        for i in range(len(network_size) - 1):\n",
        "            # Weights: shape (current layer size, next layer size)\n",
        "            theta[f'W{i+1}'] = np.random.randn(network_size[i], network_size[i+1])\n",
        "            # Biases: shape (1, next layer size)\n",
        "            theta[f'b{i+1}'] = np.random.randn(1, network_size[i+1])\n",
        "\n",
        "    # Xavier (He-like) initialization\n",
        "    elif weight_ini_method == \"Xavier\":\n",
        "        for i in range(len(network_size) - 1):\n",
        "            # Scaling factor based on input size (fan-in)\n",
        "            scale = np.sqrt(2 / network_size[i])\n",
        "            # Weights: random normal scaled by sqrt(2 / fan-in)\n",
        "            theta[f'W{i+1}'] = np.random.randn(network_size[i], network_size[i+1]) * scale\n",
        "            # Biases: random normal scaled by sqrt(2 / fan-in)\n",
        "            theta[f'b{i+1}'] = np.random.randn(1, network_size[i+1]) * scale\n",
        "\n",
        "    # Return the initialized parameters\n",
        "    return theta"
      ],
      "metadata": {
        "id": "iCiSQYSkVaiv"
      },
      "execution_count": 62,
      "outputs": []
    },
    {
      "cell_type": "markdown",
      "source": [
        "*Activation functiont**"
      ],
      "metadata": {
        "id": "xl3fOo4maq91"
      }
    },
    {
      "cell_type": "code",
      "source": [
        "def sigmoid(x):\n",
        "  return 1 /(1 + np.exp(-x))\n",
        "\n",
        "def relu(x):\n",
        "  return np.maximum(0, x)\n",
        "\n",
        "def tanh(x):\n",
        "\treturn np.tanh(x)\n",
        "\n",
        "def deriv_sigmoid(x):\n",
        "  return sigmoid(x)*(1-sigmoid(x))\n",
        "\n",
        "def deriv_relu(x):\n",
        "  return np.where(x <= 0, 0, 1)\n",
        "\n",
        "def deriv_tanh(x):\n",
        "  return (1 - (tanh(x))**2)\n",
        "\n",
        "def softmax(x):\n",
        "  x = x - np.max(x,axis=1,keepdims=True)\n",
        "  return np.exp(x)/np.sum(np.exp(x),axis=1,keepdims=True)\n",
        "\n",
        "\n",
        "\n",
        "\n",
        "def activation(x, activ_fun):\n",
        "  if activ_fun == 'sigmoid':\n",
        "    return sigmoid(x)\n",
        "  elif activ_fun == 'relu':\n",
        "    return relu(x)\n",
        "  elif activ_fun=='softmax':\n",
        "    return softmax(x)\n",
        "  else:\n",
        "    return tanh(x)\n",
        "\n",
        "def deriv_activation(x, activ_fun):\n",
        "  if activ_fun == 'sigmoid':\n",
        "    return deriv_sigmoid(x)\n",
        "  elif activ_fun == 'relu':\n",
        "    return deriv_relu(x)\n",
        "  else:\n",
        "    return deriv_tanh(x)\n"
      ],
      "metadata": {
        "id": "r4rfuQJNamLG"
      },
      "execution_count": 63,
      "outputs": []
    },
    {
      "cell_type": "markdown",
      "source": [
        "Loss function"
      ],
      "metadata": {
        "id": "9ISyJWybbDbi"
      }
    },
    {
      "cell_type": "code",
      "source": [
        "def cross_entropy(y_actual, y_pred):\n",
        "   epsilon = 1e-15  # to prevent log(0) which is undefined\n",
        "   y_pred = np.clip(y_pred, epsilon, 1 - epsilon)\n",
        "   loss = -np.mean(np.sum(y_actual * np.log(y_pred), axis=1))\n",
        "   return loss\n",
        "def mse_loss(y_actual,y_pred):\n",
        "  return np.mean((y_actual-y_pred)**2)"
      ],
      "metadata": {
        "id": "PmmO0ZsGbCtI"
      },
      "execution_count": 64,
      "outputs": []
    },
    {
      "cell_type": "code",
      "source": [
        "def forward_prop(X, theta, active_fun_hidden, active_fun_output, num_layers):\n",
        "\n",
        "  a = {}\n",
        "  h = {'h0': X}\n",
        "  for i in range(1, num_layers + 1):\n",
        "    a[f'a{i}'] = np.dot(h[f'h{i-1}'], theta[f'W{i}']) + theta[f'b{i}']\n",
        "    h[f'h{i}'] = activation(a[f'a{i}'], active_fun_hidden)\n",
        "  a[f'a{num_layers+1}'] = np.dot(h[f'h{num_layers}'], theta[f'W{num_layers+1}']) + theta[f'b{num_layers+1}']\n",
        "  y_pred = activation(a[f'a{num_layers+1}'], active_fun_output)\n",
        "  return a, h, y_pred\n"
      ],
      "metadata": {
        "id": "HEQ6ssVcbKyx"
      },
      "execution_count": 65,
      "outputs": []
    },
    {
      "cell_type": "code",
      "source": [
        "# theta=initial_weight(5,[5]*5,\"random\")\n",
        "# _,_,y_pred=forward_prop(x_train,theta,\"sigmoid\",'softmax',5)\n",
        "# print(y_pred)"
      ],
      "metadata": {
        "id": "VjRZ1McJbfgL"
      },
      "execution_count": 66,
      "outputs": []
    },
    {
      "cell_type": "code",
      "source": [],
      "metadata": {
        "id": "rVjHCvqqbgVH"
      },
      "execution_count": 66,
      "outputs": []
    },
    {
      "cell_type": "markdown",
      "source": [
        "Calculate accuracy"
      ],
      "metadata": {
        "id": "MTgaZ5o2cBaT"
      }
    },
    {
      "cell_type": "code",
      "source": [
        "def cal_accuracy(x,y,theta,active_fun_hidden,active_fun_output,num_layers):\n",
        "    # Get the input size from X (number of features)\n",
        "    input_size = x.shape[0]\n",
        "\n",
        "    # Perform forward propagation to get predicted probabilities\n",
        "    # We only need y_pred, so ignore other returned values with _\n",
        "    _, _, y_pred = forward_prop(x, theta,\n",
        "                               active_fun_hidden,active_fun_output,num_layers)\n",
        "\n",
        "    # Get true class labels from one-hot encoded Y (index of 1 in each column)\n",
        "    true_classes = np.argmax(y, axis=1)\n",
        "\n",
        "    # Get predicted class labels from y_pred (index of max probability in each column)\n",
        "    predicted_classes = np.argmax(y_pred, axis=1)\n",
        "\n",
        "    # Calculate accuracy as the proportion of correct predictions\n",
        "    accuracy = np.mean(predicted_classes == true_classes)\n",
        "\n",
        "    return accuracy"
      ],
      "metadata": {
        "id": "d_YCl96OcCmm"
      },
      "execution_count": 67,
      "outputs": []
    },
    {
      "cell_type": "code",
      "source": [],
      "metadata": {
        "id": "B4Jghwh3cEK4"
      },
      "execution_count": 67,
      "outputs": []
    },
    {
      "cell_type": "markdown",
      "source": [
        "Back_prop"
      ],
      "metadata": {
        "id": "HtmOP1MBcIkN"
      }
    },
    {
      "cell_type": "code",
      "source": [
        "def back_prop(x,y,theta,active_fun_hidden,active_fun_output,num_layers):\n",
        "  m=x.shape[0]\n",
        "  a,h,y_pred=forward_prop(x,theta,active_fun_hidden,active_fun_output,num_layers)\n",
        "  grad_theta={}\n",
        "  grad_h_a={}\n",
        "  grad_h_a[f'a{num_layers+1}']=(y_pred-y)\n",
        "  for i in range(num_layers+1,0,-1):\n",
        "    grad_theta[f'W{i}']=np.dot(h[f'h{i-1}'].T,grad_h_a[f'a{i}'])\n",
        "    grad_theta[f'b{i}']=np.sum(grad_h_a[f'a{i}'],axis=0,keepdims=True)\n",
        "\n",
        "    if i>1:\n",
        "      grad_h_a[f'h{i-1}']=np.dot(grad_h_a[f'a{i}'],theta[f'W{i}'].T)\n",
        "      grad_h_a[f'a{i-1}']=grad_h_a[f'h{i-1}']*deriv_activation(a[f'a{i-1}'],active_fun_hidden)\n",
        "  return grad_theta"
      ],
      "metadata": {
        "id": "02PbU5yicGuj"
      },
      "execution_count": 68,
      "outputs": []
    },
    {
      "cell_type": "markdown",
      "source": [
        "Now we again write gradient decesent algorithm compatiable with batch size ,"
      ],
      "metadata": {
        "id": "zMsZdYfvcU78"
      }
    },
    {
      "cell_type": "code",
      "source": [
        "def sgd(lr, x_train, y_train, x_val, y_val, batch_size, num_layers, hidden_size, active_fun_hidden, active_fun_output, weight_ini_method, weight_decay, epochs, loss_function='cross_entropy'):\n",
        "    # Initialize weights\n",
        "    theta = initial_weight(num_layers, hidden_size, weight_ini_method)\n",
        "    train_loss_history = []\n",
        "    val_loss_history = []\n",
        "\n",
        "    for epoch in range(epochs):\n",
        "        # Shuffle training data\n",
        "        indices = np.arange(x_train.shape[0])\n",
        "        np.random.shuffle(indices)\n",
        "        x_train = x_train[indices]\n",
        "        y_train = y_train[indices]\n",
        "\n",
        "        # Mini-batch training\n",
        "        for i in range(0, x_train.shape[0], batch_size):\n",
        "            x_batch = x_train[i:i + batch_size]\n",
        "            y_batch = y_train[i:i + batch_size]\n",
        "\n",
        "            # Compute gradients and update weights\n",
        "            grad = back_prop(x_batch, y_batch, theta, active_fun_hidden, active_fun_output, num_layers)\n",
        "            for j in range(1, num_layers + 2):\n",
        "                theta[f'W{j}'] -= lr * (grad[f'W{j}'] + weight_decay * theta[f'W{j}'])\n",
        "                theta[f'b{j}'] -= lr * grad[f'b{j}']\n",
        "        # Compute the train accuracy\n",
        "        train_accuracy = cal_accuracy(x_train, y_train, theta, active_fun_hidden, active_fun_output, num_layers)\n",
        "\n",
        "        # Compute and store training loss\n",
        "        _, _, y_train_pred = forward_prop(x_train, theta, active_fun_hidden, active_fun_output, num_layers)\n",
        "        train_loss = cross_entropy(y_train, y_train_pred) if loss_function == 'cross_entropy' else mse_loss(y_train, y_train_pred)\n",
        "        train_loss_history.append(train_loss)\n",
        "\n",
        "        # Compute the validation accuracy\n",
        "        validation_accuracy = cal_accuracy(x_val, y_val, theta, active_fun_hidden, active_fun_output, num_layers)\n",
        "\n",
        "        # Compute and store validation loss\n",
        "        _, _, y_val_pred = forward_prop(x_val, theta, active_fun_hidden, active_fun_output, num_layers)\n",
        "        val_loss = cross_entropy(y_val, y_val_pred) if loss_function == 'cross_entropy' else mse_loss(y_val, y_val_pred)\n",
        "        val_loss_history.append(val_loss)\n",
        "\n",
        "        print(f\"Epoch {epoch+1}, Train Loss: {train_loss}, Val Loss: {val_loss}\")\n",
        "        wandb.log({\"train_loss\": train_loss, \"val_loss\": val_loss, \"train_accuracy\": train_accuracy * 100, \"val_accuracy\": validation_accuracy * 100, 'epoch': epoch + 1})\n",
        "\n",
        "\n",
        "\n",
        "    return theta, train_loss_history, val_loss_history\n"
      ],
      "metadata": {
        "id": "3avsjea6cNu0"
      },
      "execution_count": 69,
      "outputs": []
    },
    {
      "cell_type": "markdown",
      "source": [
        "Moment Gradient descent (here momentum=beta)"
      ],
      "metadata": {
        "id": "k9o-RzjFry14"
      }
    },
    {
      "cell_type": "code",
      "source": [
        "def mgd(lr, momentum, x_train, y_train, x_val, y_val, batch_size, num_layers, hidden_size, active_fun_hidden, active_fun_output, weight_ini_method, weight_decay, epochs, loss_function='cross_entropy'):\n",
        "    theta = initial_weight(num_layers, hidden_size, weight_ini_method)\n",
        "    train_loss_history = []\n",
        "    val_loss_history = []\n",
        "\n",
        "    # Initialize velocity terms for weights and biases\n",
        "    velocity = {}\n",
        "    for i in range(1, num_layers + 2):\n",
        "        velocity[f'W{i}'] = np.zeros_like(theta[f'W{i}'])\n",
        "        velocity[f'b{i}'] = np.zeros_like(theta[f'b{i}'])\n",
        "\n",
        "    for epoch in range(epochs):\n",
        "        # Shuffle training data\n",
        "        indices = np.arange(x_train.shape[0])\n",
        "        np.random.shuffle(indices)\n",
        "        x_train = x_train[indices]\n",
        "        y_train = y_train[indices]\n",
        "\n",
        "        # Mini-batch training\n",
        "        for i in range(0, x_train.shape[0], batch_size):\n",
        "            x_batch = x_train[i:i + batch_size]\n",
        "            y_batch = y_train[i:i + batch_size]\n",
        "\n",
        "            # Compute gradients\n",
        "            grad = back_prop(x_batch, y_batch, theta, active_fun_hidden, active_fun_output, num_layers)\n",
        "\n",
        "            # Update weights and biases using momentum\n",
        "            for j in range(1, num_layers + 2):\n",
        "                velocity[f'W{j}'] = momentum * velocity[f'W{j}'] + grad[f'W{j}']\n",
        "                velocity[f'b{j}'] = momentum * velocity[f'b{j}'] + grad[f'b{j}']\n",
        "\n",
        "                theta[f'W{j}'] -= lr * (velocity[f'W{j}'] + weight_decay * theta[f'W{j}'])\n",
        "                theta[f'b{j}'] -= lr * velocity[f'b{j}']\n",
        "\n",
        "        # Compute the train accuracy\n",
        "        train_accuracy = cal_accuracy(x_train, y_train, theta, active_fun_hidden, active_fun_output, num_layers)\n",
        "\n",
        "        # Compute and store training loss\n",
        "        _, _, y_train_pred = forward_prop(x_train, theta, active_fun_hidden, active_fun_output, num_layers)\n",
        "        train_loss = cross_entropy(y_train, y_train_pred) if loss_function == 'cross_entropy' else mse_loss(y_train, y_train_pred)\n",
        "        train_loss_history.append(train_loss)\n",
        "\n",
        "        # Compute the validation accuracy\n",
        "        validation_accuracy = cal_accuracy(x_val, y_val, theta, active_fun_hidden, active_fun_output, num_layers)\n",
        "\n",
        "        # Compute and store validation loss\n",
        "        _, _, y_val_pred = forward_prop(x_val, theta, active_fun_hidden, active_fun_output, num_layers)\n",
        "        val_loss = cross_entropy(y_val, y_val_pred) if loss_function == 'cross_entropy' else mse_loss(y_val, y_val_pred)\n",
        "        val_loss_history.append(val_loss)\n",
        "\n",
        "        print(f\"Epoch {epoch+1}, Train Loss: {train_loss}, Val Loss: {val_loss}\")\n",
        "        wandb.log({\"train_loss\": train_loss, \"val_loss\": val_loss, \"train_accuracy\": train_accuracy * 100, \"val_accuracy\": validation_accuracy * 100, 'epoch': epoch + 1})\n",
        "\n",
        "\n",
        "\n",
        "    return theta\n"
      ],
      "metadata": {
        "id": "6rZVfVJucfGn"
      },
      "execution_count": 70,
      "outputs": []
    },
    {
      "cell_type": "markdown",
      "source": [
        "**Nesterov accelerated gradient descent**"
      ],
      "metadata": {
        "id": "vcfR044tvXhz"
      }
    },
    {
      "cell_type": "code",
      "source": [
        "def nesterov_gd(lr, momentum, x, y, x_val, y_val, batch_size, num_layers, hidden_size, active_fun_hidden, active_fun_output, weight_ini_method, weight_decay, epochs,loss_function='cross_entorpy'):\n",
        "    # Initialize network parameters\n",
        "    theta = initial_weight(num_layers, hidden_size, weight_ini_method)\n",
        "\n",
        "    # Initialize velocity dictionary with zeros, matching the shape of each parameter\n",
        "    velocity = {key: np.zeros_like(theta[key]) for key in theta.keys()}\n",
        "\n",
        "    # List to store loss history\n",
        "    loss_history = []\n",
        "    val_loss_history = []\n",
        "\n",
        "    for epoch in range(epochs):\n",
        "        # Shuffle training data\n",
        "        indices = np.arange(x.shape[0])\n",
        "        np.random.shuffle(indices)\n",
        "        x = x[indices]\n",
        "        y = y[indices]\n",
        "\n",
        "        for i in range(0, x.shape[0], batch_size):\n",
        "            x_batch = x[i:i + batch_size]\n",
        "            y_batch = y[i:i + batch_size]\n",
        "\n",
        "            # Look ahead step for Nesterov momentum\n",
        "            lookahead_theta = {key: theta[key] - momentum * velocity[key] for key in theta.keys()}\n",
        "\n",
        "            # Compute gradients using backpropagation on the lookahead parameters\n",
        "            grad = back_prop(x_batch, y_batch, lookahead_theta, active_fun_hidden, active_fun_output, num_layers)\n",
        "\n",
        "            # Update velocities and parameters with Nesterov momentum and apply weight decay\n",
        "            for k in range(1, num_layers + 2):\n",
        "                # Update velocity for weights\n",
        "                velocity[f'W{k}'] = momentum * velocity[f'W{k}'] + grad[f'W{k}'] + weight_decay * theta[f'W{k}']\n",
        "                # Update weights using velocity\n",
        "                theta[f'W{k}'] -= lr * velocity[f'W{k}']\n",
        "\n",
        "                # Update velocity for biases\n",
        "                velocity[f'b{k}'] = momentum * velocity[f'b{k}'] + grad[f'b{k}']\n",
        "                # Update biases using velocity (no weight decay for biases)\n",
        "                theta[f'b{k}'] -= lr * velocity[f'b{k}']\n",
        "\n",
        "        # Compute the train accuracy\n",
        "        train_accuracy = cal_accuracy(x_train, y_train, theta, active_fun_hidden, active_fun_output, num_layers)\n",
        "\n",
        "        # Compute training loss and predictions\n",
        "        a, h, y_train_pred = forward_prop(x, theta, active_fun_hidden, active_fun_output, num_layers)\n",
        "        train_loss = cross_entropy(y_train, y_train_pred) if loss_function == 'cross_entropy' else mse_loss(y_train, y_train_pred)\n",
        "        loss_history.append(train_loss)\n",
        "\n",
        "        # Compute the validation accuracy\n",
        "        validation_accuracy = cal_accuracy(x_val, y_val, theta, active_fun_hidden, active_fun_output, num_layers)\n",
        "\n",
        "        # Compute validation loss\n",
        "        _, _, y_val_pred = forward_prop(x_val, theta, active_fun_hidden, active_fun_output, num_layers)\n",
        "        val_loss = cross_entropy(y_val, y_val_pred) if loss_function == 'cross_entropy' else mse_loss(y_val, y_val_pred)\n",
        "        val_loss_history.append(val_loss)\n",
        "\n",
        "        # Print loss for monitoring\n",
        "        print(f\"Epoch {epoch+1}, Loss: {train_loss}, Validation Loss: {val_loss}\")\n",
        "        wandb.log({\"train_loss\": train_loss, \"val_loss\": val_loss, \"train_accuracy\": train_accuracy * 100, \"val_accuracy\": validation_accuracy * 100,'epoch':epoch+1})\n",
        "\n",
        "    return theta, loss_history, val_loss_history"
      ],
      "metadata": {
        "id": "NqrxSWryoy54"
      },
      "execution_count": 71,
      "outputs": []
    },
    {
      "cell_type": "markdown",
      "source": [
        "**RMS Prop**"
      ],
      "metadata": {
        "id": "BbTFuJZhwaI1"
      }
    },
    {
      "cell_type": "code",
      "source": [
        "def rmsprop(lr, gamma, epsilon, x, y, x_val, y_val, batch_size, num_layers, hidden_size, active_fun_hidden, active_fun_output, weight_ini_method,weight_decay, epochs,loss_function='cross_entropy'):\n",
        "    # Initialize network parameters\n",
        "    theta = initial_weight(num_layers, hidden_size, weight_ini_method)\n",
        "\n",
        "    # Initialize squared gradient dictionary with zeros, matching the shape of each parameter\n",
        "    squared_grad = {key: np.zeros_like(theta[key]) for key in theta.keys()}\n",
        "\n",
        "    # Lists to store training and validation loss history\n",
        "    loss_history = []\n",
        "    val_loss_history = []\n",
        "\n",
        "    # Training loop over epochs\n",
        "    for epoch in range(epochs):\n",
        "        # Shuffle training data\n",
        "        indices = np.arange(x.shape[0])\n",
        "        np.random.shuffle(indices)\n",
        "        x = x[indices]\n",
        "        y = y[indices]\n",
        "\n",
        "        for i in range(0, x.shape[0], batch_size):\n",
        "            x_batch = x[i:i + batch_size]\n",
        "            y_batch = y[i:i + batch_size]\n",
        "\n",
        "            # Compute gradients using backpropagation\n",
        "            grad = back_prop(x_batch, y_batch, theta, active_fun_hidden, active_fun_output, num_layers)\n",
        "\n",
        "            # Update squared gradients and parameters with RMSprop\n",
        "            for k in range(1, num_layers + 2):\n",
        "                # Update squared gradient for weights\n",
        "                squared_grad[f'W{k}'] = gamma * squared_grad[f'W{k}'] + (1 - gamma) * (grad[f'W{k}'] ** 2)\n",
        "                # Update weights using RMSprop\n",
        "                theta[f'W{k}'] -= lr * (grad[f'W{k}'] / (np.sqrt(squared_grad[f'W{k}']) + epsilon) + weight_decay * theta[f'W{k}'])\n",
        "\n",
        "                # Update squared gradient for biases\n",
        "                squared_grad[f'b{k}'] = gamma * squared_grad[f'b{k}'] + (1 - gamma) * (grad[f'b{k}'] ** 2)\n",
        "                # Update biases using RMSprop\n",
        "                theta[f'b{k}'] -= lr * grad[f'b{k}'] / (np.sqrt(squared_grad[f'b{k}']) + epsilon)\n",
        "\n",
        "       #compute the train accuracy\n",
        "        train_accuracy=cal_accuracy(x_train,y_train,theta,active_fun_hidden,active_fun_output,num_layers)\n",
        "\n",
        "        # Compute training loss and predictions\n",
        "        _, _, y_train_pred = forward_prop(x, theta, active_fun_hidden, active_fun_output, num_layers)\n",
        "        train_loss = cross_entropy(y_train, y_train_pred) if loss_function == 'cross_entropy' else mse_loss(y_train, y_train_pred)\n",
        "        loss_history.append(train_loss)\n",
        "\n",
        "        #compute the validation accuracy\n",
        "        validation_accuracy=cal_accuracy(x_val,y_val,theta,active_fun_hidden,active_fun_output,num_layers)\n",
        "\n",
        "\n",
        "        # Compute validation loss\n",
        "        _, _, y_val_pred = forward_prop(x_val, theta, active_fun_hidden, active_fun_output, num_layers)\n",
        "        val_loss = cross_entropy(y_val, y_val_pred) if loss_function == 'cross_entropy' else mse_loss(y_val, y_val_pred)\n",
        "        val_loss_history.append(val_loss)\n",
        "\n",
        "        # Print loss for monitoring\n",
        "        print(f\"Epoch {epoch+1 }, Loss: {train_loss}, Validation Loss: {val_loss}\")\n",
        "        wandb.log({\"train_loss\": train_loss, \"val_loss\": val_loss,\"train_accuracy\":train_accuracy*100,\"val_accuracy\":validation_accuracy*100,'epoch':epoch+1})\n",
        "\n",
        "\n",
        "\n",
        "    return theta\n"
      ],
      "metadata": {
        "id": "SdNS_n2owQh1"
      },
      "execution_count": 72,
      "outputs": []
    },
    {
      "cell_type": "markdown",
      "source": [
        "**ADAM**"
      ],
      "metadata": {
        "id": "BHWZl5YvwyZB"
      }
    },
    {
      "cell_type": "code",
      "source": [
        "def adam(lr, beta1, beta2, epsilon, x_train, y_train, x_val, y_val, batch_size, num_layers, hidden_size, active_fun_hidden, active_fun_output, weight_ini_method, weight_decay, epochs, loss_function='cross_entropy'):\n",
        "    theta = initial_weight(num_layers, hidden_size, weight_ini_method)\n",
        "    train_loss_history = []\n",
        "    val_loss_history = []\n",
        "\n",
        "    # Initialize first moment (m) and second moment (v) dictionaries with zeros\n",
        "    m = {key: np.zeros_like(theta[key]) for key in theta.keys()}\n",
        "    v = {key: np.zeros_like(theta[key]) for key in theta.keys()}\n",
        "\n",
        "    for epoch in range(1, epochs + 1):\n",
        "        # Shuffle training data\n",
        "        indices = np.arange(x_train.shape[0])\n",
        "        np.random.shuffle(indices)\n",
        "        x_train = x_train[indices]\n",
        "        y_train = y_train[indices]\n",
        "\n",
        "        for i in range(0, x_train.shape[0], batch_size):\n",
        "            x_batch = x_train[i:i + batch_size]\n",
        "            y_batch = y_train[i:i + batch_size]\n",
        "\n",
        "            # Compute gradients using backpropagation\n",
        "            grad = back_prop(x_batch, y_batch, theta, active_fun_hidden, active_fun_output, num_layers)\n",
        "\n",
        "            # Update first and second moment estimates and parameters with Adam\n",
        "            for k in range(1, num_layers + 2):\n",
        "                m[f'W{k}'] = beta1 * m[f'W{k}'] + (1 - beta1) * grad[f'W{k}']\n",
        "                m[f'b{k}'] = beta1 * m[f'b{k}'] + (1 - beta1) * grad[f'b{k}']\n",
        "\n",
        "                v[f'W{k}'] = beta2 * v[f'W{k}'] + (1 - beta2) * (grad[f'W{k}'] ** 2)\n",
        "                v[f'b{k}'] = beta2 * v[f'b{k}'] + (1 - beta2) * (grad[f'b{k}'] ** 2)\n",
        "\n",
        "                m_hat_W = m[f'W{k}'] / (1 - beta1 ** epoch)\n",
        "                m_hat_b = m[f'b{k}'] / (1 - beta1 ** epoch)\n",
        "                v_hat_W = v[f'W{k}'] / (1 - beta2 ** epoch)\n",
        "                v_hat_b = v[f'b{k}'] / (1 - beta2 ** epoch)\n",
        "\n",
        "                theta[f'W{k}'] -= lr * (m_hat_W / (np.sqrt(v_hat_W) + epsilon) + weight_decay * theta[f'W{k}'])\n",
        "                theta[f'b{k}'] -= lr * m_hat_b / (np.sqrt(v_hat_b) + epsilon)\n",
        "\n",
        "        train_accuracy = cal_accuracy(x_train, y_train, theta, active_fun_hidden, active_fun_output, num_layers)\n",
        "\n",
        "        _, _, y_train_pred = forward_prop(x_train, theta, active_fun_hidden, active_fun_output, num_layers)\n",
        "        train_loss = cross_entropy(y_train, y_train_pred) if loss_function == 'cross_entropy' else mse_loss(y_train, y_train_pred)\n",
        "        train_loss_history.append(train_loss)\n",
        "\n",
        "        validation_accuracy = cal_accuracy(x_val, y_val, theta, active_fun_hidden, active_fun_output, num_layers)\n",
        "\n",
        "        _, _, y_val_pred = forward_prop(x_val, theta, active_fun_hidden, active_fun_output, num_layers)\n",
        "        val_loss = cross_entropy(y_val, y_val_pred) if loss_function == 'cross_entropy' else mse_loss(y_val, y_val_pred)\n",
        "        val_loss_history.append(val_loss)\n",
        "\n",
        "        print(f\"Epoch {epoch}, Train Loss: {train_loss}, Val Loss: {val_loss}\")\n",
        "        wandb.log({\"train_loss\": train_loss, \"val_loss\": val_loss, \"train_accuracy\": train_accuracy * 100, \"val_accuracy\": validation_accuracy * 100, 'epoch': epoch})\n",
        "\n",
        "    return theta\n"
      ],
      "metadata": {
        "id": "-Spq_7iOw1Q1"
      },
      "execution_count": 73,
      "outputs": []
    },
    {
      "cell_type": "markdown",
      "source": [
        "**NDAM**"
      ],
      "metadata": {
        "id": "eUd42_MyxMur"
      }
    },
    {
      "cell_type": "code",
      "source": [
        "import numpy as np\n",
        "import matplotlib.pyplot as plt\n",
        "\n",
        "def nadam(lr, beta1, beta2, epsilon, x, y, x_val, y_val, batch_size, num_layers, hidden_size, active_fun_hidden, active_fun_output, weight_ini_method, weight_decay,epochs,loss_function='cross_entropy'):\n",
        "    # Initialize network parameters\n",
        "    theta = initial_weight(num_layers, hidden_size, weight_ini_method)\n",
        "\n",
        "    # Initialize first moment (m) and second moment (v) dictionaries with zeros\n",
        "    m = {key: np.zeros_like(theta[key]) for key in theta.keys()}\n",
        "    v = {key: np.zeros_like(theta[key]) for key in theta.keys()}\n",
        "\n",
        "    # Lists to store loss history\n",
        "    loss_history = []\n",
        "    val_loss_history = []\n",
        "\n",
        "    # Training loop over epochs\n",
        "    for epoch in range(1, epochs + 1):\n",
        "        # Shuffle training data\n",
        "        indices = np.arange(x.shape[0])\n",
        "        np.random.shuffle(indices)\n",
        "        x = x[indices]\n",
        "        y = y[indices]\n",
        "\n",
        "        for i in range(0, x.shape[0], batch_size):\n",
        "            x_batch = x[i:i + batch_size]\n",
        "            y_batch = y[i:i + batch_size]\n",
        "\n",
        "            # Compute gradients using backpropagation\n",
        "            grad = back_prop(x_batch, y_batch, theta, active_fun_hidden, active_fun_output, num_layers)\n",
        "\n",
        "            # Update first and second moment estimates and parameters with Nadam\n",
        "            for k in range(1, num_layers + 2):\n",
        "                # Update biased first moment estimate\n",
        "                m[f'W{k}'] = beta1 * m[f'W{k}'] + (1 - beta1) * grad[f'W{k}']\n",
        "                m[f'b{k}'] = beta1 * m[f'b{k}'] + (1 - beta1) * grad[f'b{k}']\n",
        "\n",
        "                # Update biased second moment estimate\n",
        "                v[f'W{k}'] = beta2 * v[f'W{k}'] + (1 - beta2) * (grad[f'W{k}'] ** 2)\n",
        "                v[f'b{k}'] = beta2 * v[f'b{k}'] + (1 - beta2) * (grad[f'b{k}'] ** 2)\n",
        "\n",
        "                # Compute bias-corrected first and second moment estimates with Nesterov acceleration\n",
        "                m_hat_W = (beta1 * m[f'W{k}'] + (1 - beta1) * grad[f'W{k}']) / (1 - beta1 ** epoch)\n",
        "                m_hat_b = (beta1 * m[f'b{k}'] + (1 - beta1) * grad[f'b{k}']) / (1 - beta1 ** epoch)\n",
        "                v_hat_W = v[f'W{k}'] / (1 - beta2 ** epoch)\n",
        "                v_hat_b = v[f'b{k}'] / (1 - beta2 ** epoch)\n",
        "\n",
        "                # Update weights and biases\n",
        "                theta[f'W{k}'] -= lr*(m_hat_W / (np.sqrt(v_hat_W) + epsilon) + weight_decay * theta[f'W{k}'])\n",
        "                theta[f'b{k}'] -= lr * m_hat_b / (np.sqrt(v_hat_b) + epsilon)\n",
        "\n",
        "        #compute the train accuracy\n",
        "        train_accuracy=cal_accuracy(x_train,y_train,theta,active_fun_hidden,active_fun_output,num_layers)\n",
        "\n",
        "        # Compute training loss and predictions\n",
        "        _, _, y_pred = forward_prop(x, theta, active_fun_hidden, active_fun_output, num_layers)\n",
        "        train_loss = cross_entropy(y_train, y_pred) if loss_function == 'cross_entropy' else mse_loss(y_train, y_pred)\n",
        "        loss_history.append(train_loss)\n",
        "\n",
        "        #compute the validation accuracy\n",
        "        validation_accuracy=cal_accuracy(x_val,y_val,theta,active_fun_hidden,active_fun_output,num_layers)\n",
        "\n",
        "\n",
        "        # Compute validation loss\n",
        "        _, _, y_val_pred = forward_prop(x_val, theta, active_fun_hidden, active_fun_output, num_layers)\n",
        "        val_loss = cross_entropy(y_val, y_val_pred)\n",
        "        val_loss_history.append(val_loss)\n",
        "\n",
        "        # Print loss for monitoring\n",
        "        print(f\"Epoch {epoch}, Loss: {train_loss}, Validation Loss: {val_loss}\")\n",
        "        wandb.log({\"train_loss\": train_loss, \"val_loss\": val_loss,\"train_accuracy\":train_accuracy*100,\"val_accuracy\":validation_accuracy*100,'epoch':epoch})\n",
        "\n",
        "\n",
        "\n",
        "    return theta\n"
      ],
      "metadata": {
        "id": "yjMO4BhHxOxg"
      },
      "execution_count": 74,
      "outputs": []
    },
    {
      "cell_type": "markdown",
      "source": [
        "**MOdel **"
      ],
      "metadata": {
        "id": "Bjd6KTHF2Pr5"
      }
    },
    {
      "cell_type": "code",
      "source": [
        "def model_training(lr, beta, beta1, beta2, epsilon, x_train, y_train, x_valid, y_valid, optimizer, batch_size, num_layers, hidden_size, active_fun_hidden, active_fun_output, weight_ini_method, weight_decay, epochs,loss_function):\n",
        "\n",
        "    if optimizer == 'sgd':\n",
        "        theta = sgd(lr, x_train, y_train, x_valid, y_valid, batch_size, num_layers, hidden_size, active_fun_hidden, active_fun_output, weight_ini_method, weight_decay, epochs,loss_function='cross_entopy')\n",
        "    elif optimizer == 'momentum':\n",
        "        theta = mgd(lr, beta, x_train, y_train, x_valid, y_valid, batch_size, num_layers, hidden_size, active_fun_hidden, active_fun_output, weight_ini_method, weight_decay, epochs,loss_function='cross_entopy')\n",
        "    elif optimizer == 'nag':\n",
        "        theta = nesterov_gd(lr, beta, x_train, y_train, x_valid, y_valid, batch_size, num_layers, hidden_size, active_fun_hidden, active_fun_output, weight_ini_method, weight_decay, epochs,loss_function='cross_entopy')\n",
        "    elif optimizer == 'RMSprop':\n",
        "        theta = rmsprop(lr, beta, epsilon, x_train, y_train, x_valid, y_valid, batch_size, num_layers, hidden_size, active_fun_hidden, active_fun_output, weight_ini_method, weight_decay, epochs,loss_function='cross_entopy')\n",
        "    elif optimizer == 'adam':\n",
        "        theta = adam(lr, beta1, beta2, epsilon, x_train, y_train, x_valid, y_valid, batch_size, num_layers, hidden_size, active_fun_hidden, active_fun_output, weight_ini_method, weight_decay, epochs,loss_function='cross_entopy')\n",
        "    elif optimizer=='nadam':\n",
        "      theta=nadam(lr, beta1, beta2, epsilon, x_train, y_train, x_valid, y_valid, batch_size, num_layers, hidden_size, active_fun_hidden, active_fun_output, weight_ini_method, weight_decay, epochs,loss_function='cross_entopy')\n",
        "    return theta"
      ],
      "metadata": {
        "id": "Gnun3pTU2O6-"
      },
      "execution_count": null,
      "outputs": []
    },
    {
      "cell_type": "code",
      "source": [
        "#Q2 and Q3 train a neural network with given hypermaters with cross entropy loss\n",
        "#in question 2 intialize a neural network and pass a forward prop that will predict probabilities. here i run adam model , in there first it create\n",
        "#a intial network and call backprop update weights , in back prop at first it will call forward prop then update weights and it will iterate as many epochs it has\n",
        "#and give the accuracy, loss for train and valid dataset.\n",
        "#---------uncomment the below code for run----------------\n",
        "#wandb.init(project='deep_learning_assignment_1',name='adam-relu-softmax-random-layer-4-hid_size-32-epoch-5'')\n",
        "#theta=adam(0.001,0.9,0.99,1e-8,x_train, y_train, x_valid, y_valid,32,4,'relu','softmax','random',0,5)\n",
        "#wandb.finish()\n"
      ],
      "metadata": {
        "id": "gGA-4XjLIdy-"
      },
      "execution_count": null,
      "outputs": []
    },
    {
      "cell_type": "code",
      "source": [
        "sweep_config={\n",
        "    'method':'bayes',#possible search random,grid\n",
        "    'metric':{\n",
        "        'name':'Valdiation_accuracy',\n",
        "        'goal':'maximize'\n",
        "    },\n",
        "    'parameters':{\n",
        "        'epochs':{\n",
        "            'values':[5,10]\n",
        "\n",
        "        },\n",
        "      'hidden_size':{\n",
        "            'values':[32, 64, 128]\n",
        "        },\n",
        "        'activation_hidden':{\n",
        "            'values':['relu','sigmoid','tanh']\n",
        "        },\n",
        "        'activation_output':{\n",
        "            'values':['softmax']\n",
        "        },\n",
        "        'weight_ini_method':{\n",
        "            'values':['Xavier','random']\n",
        "        },\n",
        "        'batch_size':{\n",
        "            'values':[16,32,64]\n",
        "        }\n",
        "      ,'num_layers':{\n",
        "            'values':[3,4,5]\n",
        "        },\n",
        "        'weight_decay':{\n",
        "            'values':[0]#(we take l2 regulraization as zero)\n",
        "        } ,\n",
        "        'learning_rate':{\n",
        "            'values':[1e-3,1e-4]\n",
        "      }\n",
        "        ,'optimizer':{\n",
        "            'values':['sgd','momentum','nag','RMSprop','adam','nadam']\n",
        "}\n",
        "    }\n",
        "}\n",
        "sweep_id=wandb.sweep(sweep_config,project='deep_learning_assignment_1')"
      ],
      "metadata": {
        "id": "ZVGwr4h9N15y",
        "colab": {
          "base_uri": "https://localhost:8080/"
        },
        "outputId": "633bb4f0-8389-4842-9dc3-b3f134fb9dce"
      },
      "execution_count": null,
      "outputs": [
        {
          "output_type": "stream",
          "name": "stdout",
          "text": [
            "Create sweep with ID: xd33zmtu\n",
            "Sweep URL: https://wandb.ai/bgorai005-iit-madras/deep_learning_assignment_1/sweeps/xd33zmtu\n"
          ]
        }
      ]
    },
    {
      "source": [
        "def main():\n",
        "  with wandb.init() as run:\n",
        "    run_name=f\"ac-{wandb.config.activation_hidden}_hs-{wandb.config.hidden_size}_epc-{wandb.config.epochs}_nl-{wandb.config.num_layers}_lr{wandb.config.learning_rate}_wd-{wandb.config.weight_decay}_opt-{wandb.config.optimizer}_bs-{wandb.config.batch_size}_wi-{wandb.config.weight_ini_method}\"\n",
        "    wandb.run.name=run_name\n",
        "\n",
        "    model_training(wandb.config.learning_rate,0.9,0.9,0.99,1e-8,x_train,y_train,x_valid,y_valid,wandb.config.optimizer,wandb.config.batch_size,wandb.config.num_layers,wandb.config.hidden_size,wandb.config.activation_hidden,wandb.config.activation_output,wandb.config.weight_ini_method,wandb.config.weight_decay,wandb.config.epochs)\n",
        "\n",
        "try:\n",
        "    wandb.agent(sweep_id,function=main,count=40)\n",
        "    wandb.finish()\n",
        "except BrokenPipeError:\n",
        "    print(\"Encountered a BrokenPipeError. Attempting to gracefully finish the run.\")\n",
        "    # You can add additional error handling logic here, such as saving intermediate results\n",
        "    wandb.finish(quiet=True)  # Try finishing quietly to avoid further errors"
      ],
      "cell_type": "code",
      "metadata": {
        "colab": {
          "base_uri": "https://localhost:8080/",
          "height": 1000
        },
        "id": "sbOOJ3kitwYN",
        "outputId": "c2de8d28-af12-4ec8-d34c-e8bca2448e22",
        "collapsed": true
      },
      "execution_count": null,
      "outputs": [
        {
          "metadata": {
            "tags": null
          },
          "name": "stderr",
          "output_type": "stream",
          "text": [
            "\u001b[34m\u001b[1mwandb\u001b[0m: Agent Starting Run: xbn030cc with config:\n",
            "\u001b[34m\u001b[1mwandb\u001b[0m: \tactivation_hidden: relu\n",
            "\u001b[34m\u001b[1mwandb\u001b[0m: \tactivation_output: softmax\n",
            "\u001b[34m\u001b[1mwandb\u001b[0m: \tbatch_size: 64\n",
            "\u001b[34m\u001b[1mwandb\u001b[0m: \tepochs: 5\n",
            "\u001b[34m\u001b[1mwandb\u001b[0m: \thidden_size: 32\n",
            "\u001b[34m\u001b[1mwandb\u001b[0m: \tlearning_rate: 0.0001\n",
            "\u001b[34m\u001b[1mwandb\u001b[0m: \tnum_layers: 3\n",
            "\u001b[34m\u001b[1mwandb\u001b[0m: \toptimizer: momentum\n",
            "\u001b[34m\u001b[1mwandb\u001b[0m: \tweight_decay: 0\n",
            "\u001b[34m\u001b[1mwandb\u001b[0m: \tweight_ini_method: Xavier\n"
          ]
        },
        {
          "data": {
            "text/html": [
              "Tracking run with wandb version 0.19.7"
            ],
            "text/plain": [
              "<IPython.core.display.HTML object>"
            ]
          },
          "metadata": {},
          "output_type": "display_data"
        },
        {
          "data": {
            "text/html": [
              "Run data is saved locally in <code>/content/wandb/run-20250309_132733-xbn030cc</code>"
            ],
            "text/plain": [
              "<IPython.core.display.HTML object>"
            ]
          },
          "metadata": {},
          "output_type": "display_data"
        },
        {
          "data": {
            "text/html": [
              "Syncing run <strong><a href='https://wandb.ai/bgorai005-iit-madras/deep_learning_assignment_1/runs/xbn030cc' target=\"_blank\">fiery-sweep-1</a></strong> to <a href='https://wandb.ai/bgorai005-iit-madras/deep_learning_assignment_1' target=\"_blank\">Weights & Biases</a> (<a href='https://wandb.me/developer-guide' target=\"_blank\">docs</a>)<br>Sweep page: <a href='https://wandb.ai/bgorai005-iit-madras/deep_learning_assignment_1/sweeps/xd33zmtu' target=\"_blank\">https://wandb.ai/bgorai005-iit-madras/deep_learning_assignment_1/sweeps/xd33zmtu</a>"
            ],
            "text/plain": [
              "<IPython.core.display.HTML object>"
            ]
          },
          "metadata": {},
          "output_type": "display_data"
        },
        {
          "data": {
            "text/html": [
              " View project at <a href='https://wandb.ai/bgorai005-iit-madras/deep_learning_assignment_1' target=\"_blank\">https://wandb.ai/bgorai005-iit-madras/deep_learning_assignment_1</a>"
            ],
            "text/plain": [
              "<IPython.core.display.HTML object>"
            ]
          },
          "metadata": {},
          "output_type": "display_data"
        },
        {
          "data": {
            "text/html": [
              " View sweep at <a href='https://wandb.ai/bgorai005-iit-madras/deep_learning_assignment_1/sweeps/xd33zmtu' target=\"_blank\">https://wandb.ai/bgorai005-iit-madras/deep_learning_assignment_1/sweeps/xd33zmtu</a>"
            ],
            "text/plain": [
              "<IPython.core.display.HTML object>"
            ]
          },
          "metadata": {},
          "output_type": "display_data"
        },
        {
          "data": {
            "text/html": [
              " View run at <a href='https://wandb.ai/bgorai005-iit-madras/deep_learning_assignment_1/runs/xbn030cc' target=\"_blank\">https://wandb.ai/bgorai005-iit-madras/deep_learning_assignment_1/runs/xbn030cc</a>"
            ],
            "text/plain": [
              "<IPython.core.display.HTML object>"
            ]
          },
          "metadata": {},
          "output_type": "display_data"
        },
        {
          "metadata": {
            "tags": null
          },
          "name": "stdout",
          "output_type": "stream",
          "text": [
            "[784, 32, 32, 32, 10]\n",
            "Epoch 1, Train Loss: 0.4335385714741053, Val Loss: 0.4472559765764906\n",
            "Epoch 2, Train Loss: 0.4333111003661983, Val Loss: 0.4490536660993083\n",
            "Epoch 3, Train Loss: 0.37875115980568397, Val Loss: 0.3987406362118386\n",
            "Epoch 4, Train Loss: 0.35738869607959856, Val Loss: 0.3841254939456394\n",
            "Epoch 5, Train Loss: 0.34899578215711285, Val Loss: 0.37593500609748964\n",
            "Test accuracy: 0.853\n"
          ]
        },
        {
          "data": {
            "text/html": [],
            "text/plain": [
              "<IPython.core.display.HTML object>"
            ]
          },
          "metadata": {},
          "output_type": "display_data"
        },
        {
          "data": {
            "text/html": [
              "<br>    <style><br>        .wandb-row {<br>            display: flex;<br>            flex-direction: row;<br>            flex-wrap: wrap;<br>            justify-content: flex-start;<br>            width: 100%;<br>        }<br>        .wandb-col {<br>            display: flex;<br>            flex-direction: column;<br>            flex-basis: 100%;<br>            flex: 1;<br>            padding: 10px;<br>        }<br>    </style><br><div class=\"wandb-row\"><div class=\"wandb-col\"><h3>Run history:</h3><br/><table class=\"wandb\"><tr><td>epoch</td><td>▁▃▅▆█</td></tr><tr><td>train_accuracy</td><td>▃▁▆▇█</td></tr><tr><td>train_loss</td><td>██▃▂▁</td></tr><tr><td>val_accuracy</td><td>▃▁▆▆█</td></tr><tr><td>val_loss</td><td>██▃▂▁</td></tr></table><br/></div><div class=\"wandb-col\"><h3>Run summary:</h3><br/><table class=\"wandb\"><tr><td>epoch</td><td>5</td></tr><tr><td>train_accuracy</td><td>87.25741</td></tr><tr><td>train_loss</td><td>0.349</td></tr><tr><td>val_accuracy</td><td>86.68333</td></tr><tr><td>val_loss</td><td>0.37594</td></tr></table><br/></div></div>"
            ],
            "text/plain": [
              "<IPython.core.display.HTML object>"
            ]
          },
          "metadata": {},
          "output_type": "display_data"
        },
        {
          "data": {
            "text/html": [
              " View run <strong style=\"color:#cdcd00\">ac-relu_hs-32_epc-5_nl-3_lr0.0001_wd-0_opt-momentum_bs-64_wi-Xavier</strong> at: <a href='https://wandb.ai/bgorai005-iit-madras/deep_learning_assignment_1/runs/xbn030cc' target=\"_blank\">https://wandb.ai/bgorai005-iit-madras/deep_learning_assignment_1/runs/xbn030cc</a><br> View project at: <a href='https://wandb.ai/bgorai005-iit-madras/deep_learning_assignment_1' target=\"_blank\">https://wandb.ai/bgorai005-iit-madras/deep_learning_assignment_1</a><br>Synced 5 W&B file(s), 0 media file(s), 0 artifact file(s) and 0 other file(s)"
            ],
            "text/plain": [
              "<IPython.core.display.HTML object>"
            ]
          },
          "metadata": {},
          "output_type": "display_data"
        },
        {
          "data": {
            "text/html": [
              "Find logs at: <code>./wandb/run-20250309_132733-xbn030cc/logs</code>"
            ],
            "text/plain": [
              "<IPython.core.display.HTML object>"
            ]
          },
          "metadata": {},
          "output_type": "display_data"
        },
        {
          "metadata": {
            "tags": null
          },
          "name": "stderr",
          "output_type": "stream",
          "text": [
            "\u001b[34m\u001b[1mwandb\u001b[0m: Sweep Agent: Waiting for job.\n",
            "\u001b[34m\u001b[1mwandb\u001b[0m: Job received.\n",
            "\u001b[34m\u001b[1mwandb\u001b[0m: Agent Starting Run: 9r1hgq4c with config:\n",
            "\u001b[34m\u001b[1mwandb\u001b[0m: \tactivation_hidden: relu\n",
            "\u001b[34m\u001b[1mwandb\u001b[0m: \tactivation_output: softmax\n",
            "\u001b[34m\u001b[1mwandb\u001b[0m: \tbatch_size: 32\n",
            "\u001b[34m\u001b[1mwandb\u001b[0m: \tepochs: 10\n",
            "\u001b[34m\u001b[1mwandb\u001b[0m: \thidden_size: 32\n",
            "\u001b[34m\u001b[1mwandb\u001b[0m: \tlearning_rate: 0.001\n",
            "\u001b[34m\u001b[1mwandb\u001b[0m: \tnum_layers: 3\n",
            "\u001b[34m\u001b[1mwandb\u001b[0m: \toptimizer: nadam\n",
            "\u001b[34m\u001b[1mwandb\u001b[0m: \tweight_decay: 0\n",
            "\u001b[34m\u001b[1mwandb\u001b[0m: \tweight_ini_method: Xavier\n"
          ]
        },
        {
          "data": {
            "text/html": [
              "Tracking run with wandb version 0.19.7"
            ],
            "text/plain": [
              "<IPython.core.display.HTML object>"
            ]
          },
          "metadata": {},
          "output_type": "display_data"
        },
        {
          "data": {
            "text/html": [
              "Run data is saved locally in <code>/content/wandb/run-20250309_132804-9r1hgq4c</code>"
            ],
            "text/plain": [
              "<IPython.core.display.HTML object>"
            ]
          },
          "metadata": {},
          "output_type": "display_data"
        },
        {
          "data": {
            "text/html": [
              "Syncing run <strong><a href='https://wandb.ai/bgorai005-iit-madras/deep_learning_assignment_1/runs/9r1hgq4c' target=\"_blank\">lively-sweep-2</a></strong> to <a href='https://wandb.ai/bgorai005-iit-madras/deep_learning_assignment_1' target=\"_blank\">Weights & Biases</a> (<a href='https://wandb.me/developer-guide' target=\"_blank\">docs</a>)<br>Sweep page: <a href='https://wandb.ai/bgorai005-iit-madras/deep_learning_assignment_1/sweeps/xd33zmtu' target=\"_blank\">https://wandb.ai/bgorai005-iit-madras/deep_learning_assignment_1/sweeps/xd33zmtu</a>"
            ],
            "text/plain": [
              "<IPython.core.display.HTML object>"
            ]
          },
          "metadata": {},
          "output_type": "display_data"
        },
        {
          "data": {
            "text/html": [
              " View project at <a href='https://wandb.ai/bgorai005-iit-madras/deep_learning_assignment_1' target=\"_blank\">https://wandb.ai/bgorai005-iit-madras/deep_learning_assignment_1</a>"
            ],
            "text/plain": [
              "<IPython.core.display.HTML object>"
            ]
          },
          "metadata": {},
          "output_type": "display_data"
        },
        {
          "data": {
            "text/html": [
              " View sweep at <a href='https://wandb.ai/bgorai005-iit-madras/deep_learning_assignment_1/sweeps/xd33zmtu' target=\"_blank\">https://wandb.ai/bgorai005-iit-madras/deep_learning_assignment_1/sweeps/xd33zmtu</a>"
            ],
            "text/plain": [
              "<IPython.core.display.HTML object>"
            ]
          },
          "metadata": {},
          "output_type": "display_data"
        },
        {
          "data": {
            "text/html": [
              " View run at <a href='https://wandb.ai/bgorai005-iit-madras/deep_learning_assignment_1/runs/9r1hgq4c' target=\"_blank\">https://wandb.ai/bgorai005-iit-madras/deep_learning_assignment_1/runs/9r1hgq4c</a>"
            ],
            "text/plain": [
              "<IPython.core.display.HTML object>"
            ]
          },
          "metadata": {},
          "output_type": "display_data"
        },
        {
          "metadata": {
            "tags": null
          },
          "name": "stdout",
          "output_type": "stream",
          "text": [
            "[784, 32, 32, 32, 10]\n",
            "Epoch 1, Loss: 9.53329456563213, Validation Loss: 0.4238189482673716\n",
            "Epoch 2, Loss: 11.333162936737269, Validation Loss: 0.4160223926869669\n",
            "Epoch 3, Loss: 11.876498850229972, Validation Loss: 0.35825566833340783\n",
            "Epoch 4, Loss: 12.516838058668997, Validation Loss: 0.3824886145440105\n",
            "Epoch 5, Loss: 13.021505979062768, Validation Loss: 0.35996167496016157\n",
            "Epoch 6, Loss: 13.29742265380877, Validation Loss: 0.34679078612860287\n",
            "Epoch 7, Loss: 14.189812414566125, Validation Loss: 0.356150329704876\n",
            "Epoch 8, Loss: 14.89230534460388, Validation Loss: 0.367934966924619\n",
            "Epoch 9, Loss: 14.95657877339094, Validation Loss: 0.34551391530708475\n",
            "Epoch 10, Loss: 14.507271820141034, Validation Loss: 0.3433344448704371\n",
            " accuracy: 0.8664\n"
          ]
        },
        {
          "data": {
            "text/html": [],
            "text/plain": [
              "<IPython.core.display.HTML object>"
            ]
          },
          "metadata": {},
          "output_type": "display_data"
        },
        {
          "data": {
            "text/html": [
              "<br>    <style><br>        .wandb-row {<br>            display: flex;<br>            flex-direction: row;<br>            flex-wrap: wrap;<br>            justify-content: flex-start;<br>            width: 100%;<br>        }<br>        .wandb-col {<br>            display: flex;<br>            flex-direction: column;<br>            flex-basis: 100%;<br>            flex: 1;<br>            padding: 10px;<br>        }<br>    </style><br><div class=\"wandb-row\"><div class=\"wandb-col\"><h3>Run history:</h3><br/><table class=\"wandb\"><tr><td>epoch</td><td>▁▂▃▃▄▅▆▆▇█</td></tr><tr><td>train_accuracy</td><td>▁▂▅▄▆▇▇▆▇█</td></tr><tr><td>train_loss</td><td>▁▃▄▅▆▆▇██▇</td></tr><tr><td>val_accuracy</td><td>▁▁▆▅▆▇▆▅██</td></tr><tr><td>val_loss</td><td>█▇▂▄▂▁▂▃▁▁</td></tr></table><br/></div><div class=\"wandb-col\"><h3>Run summary:</h3><br/><table class=\"wandb\"><tr><td>epoch</td><td>10</td></tr><tr><td>train_accuracy</td><td>89.79444</td></tr><tr><td>train_loss</td><td>14.50727</td></tr><tr><td>val_accuracy</td><td>88.06667</td></tr><tr><td>val_loss</td><td>0.34333</td></tr></table><br/></div></div>"
            ],
            "text/plain": [
              "<IPython.core.display.HTML object>"
            ]
          },
          "metadata": {},
          "output_type": "display_data"
        },
        {
          "data": {
            "text/html": [
              " View run <strong style=\"color:#cdcd00\">ac-relu_hs-32_epc-10_nl-3_lr0.001_wd-0_opt-nadam_bs-32_wi-Xavier</strong> at: <a href='https://wandb.ai/bgorai005-iit-madras/deep_learning_assignment_1/runs/9r1hgq4c' target=\"_blank\">https://wandb.ai/bgorai005-iit-madras/deep_learning_assignment_1/runs/9r1hgq4c</a><br> View project at: <a href='https://wandb.ai/bgorai005-iit-madras/deep_learning_assignment_1' target=\"_blank\">https://wandb.ai/bgorai005-iit-madras/deep_learning_assignment_1</a><br>Synced 5 W&B file(s), 0 media file(s), 0 artifact file(s) and 0 other file(s)"
            ],
            "text/plain": [
              "<IPython.core.display.HTML object>"
            ]
          },
          "metadata": {},
          "output_type": "display_data"
        },
        {
          "data": {
            "text/html": [
              "Find logs at: <code>./wandb/run-20250309_132804-9r1hgq4c/logs</code>"
            ],
            "text/plain": [
              "<IPython.core.display.HTML object>"
            ]
          },
          "metadata": {},
          "output_type": "display_data"
        },
        {
          "metadata": {
            "tags": null
          },
          "name": "stderr",
          "output_type": "stream",
          "text": [
            "\u001b[34m\u001b[1mwandb\u001b[0m: Agent Starting Run: apzfd9ml with config:\n",
            "\u001b[34m\u001b[1mwandb\u001b[0m: \tactivation_hidden: relu\n",
            "\u001b[34m\u001b[1mwandb\u001b[0m: \tactivation_output: softmax\n",
            "\u001b[34m\u001b[1mwandb\u001b[0m: \tbatch_size: 64\n",
            "\u001b[34m\u001b[1mwandb\u001b[0m: \tepochs: 10\n",
            "\u001b[34m\u001b[1mwandb\u001b[0m: \thidden_size: 32\n",
            "\u001b[34m\u001b[1mwandb\u001b[0m: \tlearning_rate: 0.0001\n",
            "\u001b[34m\u001b[1mwandb\u001b[0m: \tnum_layers: 5\n",
            "\u001b[34m\u001b[1mwandb\u001b[0m: \toptimizer: momentum\n",
            "\u001b[34m\u001b[1mwandb\u001b[0m: \tweight_decay: 0\n",
            "\u001b[34m\u001b[1mwandb\u001b[0m: \tweight_ini_method: Xavier\n"
          ]
        },
        {
          "data": {
            "text/html": [
              "Tracking run with wandb version 0.19.7"
            ],
            "text/plain": [
              "<IPython.core.display.HTML object>"
            ]
          },
          "metadata": {},
          "output_type": "display_data"
        },
        {
          "data": {
            "text/html": [
              "Run data is saved locally in <code>/content/wandb/run-20250309_132916-apzfd9ml</code>"
            ],
            "text/plain": [
              "<IPython.core.display.HTML object>"
            ]
          },
          "metadata": {},
          "output_type": "display_data"
        },
        {
          "data": {
            "text/html": [
              "Syncing run <strong><a href='https://wandb.ai/bgorai005-iit-madras/deep_learning_assignment_1/runs/apzfd9ml' target=\"_blank\">whole-sweep-3</a></strong> to <a href='https://wandb.ai/bgorai005-iit-madras/deep_learning_assignment_1' target=\"_blank\">Weights & Biases</a> (<a href='https://wandb.me/developer-guide' target=\"_blank\">docs</a>)<br>Sweep page: <a href='https://wandb.ai/bgorai005-iit-madras/deep_learning_assignment_1/sweeps/xd33zmtu' target=\"_blank\">https://wandb.ai/bgorai005-iit-madras/deep_learning_assignment_1/sweeps/xd33zmtu</a>"
            ],
            "text/plain": [
              "<IPython.core.display.HTML object>"
            ]
          },
          "metadata": {},
          "output_type": "display_data"
        },
        {
          "data": {
            "text/html": [
              " View project at <a href='https://wandb.ai/bgorai005-iit-madras/deep_learning_assignment_1' target=\"_blank\">https://wandb.ai/bgorai005-iit-madras/deep_learning_assignment_1</a>"
            ],
            "text/plain": [
              "<IPython.core.display.HTML object>"
            ]
          },
          "metadata": {},
          "output_type": "display_data"
        },
        {
          "data": {
            "text/html": [
              " View sweep at <a href='https://wandb.ai/bgorai005-iit-madras/deep_learning_assignment_1/sweeps/xd33zmtu' target=\"_blank\">https://wandb.ai/bgorai005-iit-madras/deep_learning_assignment_1/sweeps/xd33zmtu</a>"
            ],
            "text/plain": [
              "<IPython.core.display.HTML object>"
            ]
          },
          "metadata": {},
          "output_type": "display_data"
        },
        {
          "data": {
            "text/html": [
              " View run at <a href='https://wandb.ai/bgorai005-iit-madras/deep_learning_assignment_1/runs/apzfd9ml' target=\"_blank\">https://wandb.ai/bgorai005-iit-madras/deep_learning_assignment_1/runs/apzfd9ml</a>"
            ],
            "text/plain": [
              "<IPython.core.display.HTML object>"
            ]
          },
          "metadata": {},
          "output_type": "display_data"
        },
        {
          "metadata": {
            "tags": null
          },
          "name": "stdout",
          "output_type": "stream",
          "text": [
            "[784, 32, 32, 32, 32, 32, 10]\n",
            "Epoch 1, Train Loss: 0.45202467581435835, Val Loss: 0.46452980540056116\n",
            "Epoch 2, Train Loss: 0.39978143762139823, Val Loss: 0.4189221837939364\n",
            "Epoch 3, Train Loss: 0.3993331148549371, Val Loss: 0.41932255062887996\n",
            "Epoch 4, Train Loss: 0.3490458086917652, Val Loss: 0.3746798302882706\n",
            "Epoch 5, Train Loss: 0.33586238124522005, Val Loss: 0.3663364671280317\n",
            "Epoch 6, Train Loss: 0.36755025711969397, Val Loss: 0.410911847243589\n",
            "Epoch 7, Train Loss: 0.3434591890696666, Val Loss: 0.3854415320557101\n",
            "Epoch 8, Train Loss: 0.31604710733905494, Val Loss: 0.36095119862413994\n",
            "Epoch 9, Train Loss: 0.29573050437766296, Val Loss: 0.34248008695762217\n",
            "Epoch 10, Train Loss: 0.3316017248810285, Val Loss: 0.39061802964900894\n",
            "Test accuracy: 0.8544\n"
          ]
        },
        {
          "data": {
            "text/html": [],
            "text/plain": [
              "<IPython.core.display.HTML object>"
            ]
          },
          "metadata": {},
          "output_type": "display_data"
        },
        {
          "data": {
            "text/html": [
              "<br>    <style><br>        .wandb-row {<br>            display: flex;<br>            flex-direction: row;<br>            flex-wrap: wrap;<br>            justify-content: flex-start;<br>            width: 100%;<br>        }<br>        .wandb-col {<br>            display: flex;<br>            flex-direction: column;<br>            flex-basis: 100%;<br>            flex: 1;<br>            padding: 10px;<br>        }<br>    </style><br><div class=\"wandb-row\"><div class=\"wandb-col\"><h3>Run history:</h3><br/><table class=\"wandb\"><tr><td>epoch</td><td>▁▂▃▃▄▅▆▆▇█</td></tr><tr><td>train_accuracy</td><td>▁▃▃▅▆▄▆▇█▆</td></tr><tr><td>train_loss</td><td>█▆▆▃▃▄▃▂▁▃</td></tr><tr><td>val_accuracy</td><td>▁▄▃▅▆▄▅▆█▆</td></tr><tr><td>val_loss</td><td>█▅▅▃▂▅▃▂▁▄</td></tr></table><br/></div><div class=\"wandb-col\"><h3>Run summary:</h3><br/><table class=\"wandb\"><tr><td>epoch</td><td>10</td></tr><tr><td>train_accuracy</td><td>87.8963</td></tr><tr><td>train_loss</td><td>0.3316</td></tr><tr><td>val_accuracy</td><td>86.5</td></tr><tr><td>val_loss</td><td>0.39062</td></tr></table><br/></div></div>"
            ],
            "text/plain": [
              "<IPython.core.display.HTML object>"
            ]
          },
          "metadata": {},
          "output_type": "display_data"
        },
        {
          "data": {
            "text/html": [
              " View run <strong style=\"color:#cdcd00\">ac-relu_hs-32_epc-10_nl-5_lr0.0001_wd-0_opt-momentum_bs-64_wi-Xavier</strong> at: <a href='https://wandb.ai/bgorai005-iit-madras/deep_learning_assignment_1/runs/apzfd9ml' target=\"_blank\">https://wandb.ai/bgorai005-iit-madras/deep_learning_assignment_1/runs/apzfd9ml</a><br> View project at: <a href='https://wandb.ai/bgorai005-iit-madras/deep_learning_assignment_1' target=\"_blank\">https://wandb.ai/bgorai005-iit-madras/deep_learning_assignment_1</a><br>Synced 5 W&B file(s), 0 media file(s), 0 artifact file(s) and 0 other file(s)"
            ],
            "text/plain": [
              "<IPython.core.display.HTML object>"
            ]
          },
          "metadata": {},
          "output_type": "display_data"
        },
        {
          "data": {
            "text/html": [
              "Find logs at: <code>./wandb/run-20250309_132916-apzfd9ml/logs</code>"
            ],
            "text/plain": [
              "<IPython.core.display.HTML object>"
            ]
          },
          "metadata": {},
          "output_type": "display_data"
        },
        {
          "metadata": {
            "tags": null
          },
          "name": "stderr",
          "output_type": "stream",
          "text": [
            "\u001b[34m\u001b[1mwandb\u001b[0m: Agent Starting Run: jnmfwt2e with config:\n",
            "\u001b[34m\u001b[1mwandb\u001b[0m: \tactivation_hidden: relu\n",
            "\u001b[34m\u001b[1mwandb\u001b[0m: \tactivation_output: softmax\n",
            "\u001b[34m\u001b[1mwandb\u001b[0m: \tbatch_size: 32\n",
            "\u001b[34m\u001b[1mwandb\u001b[0m: \tepochs: 5\n",
            "\u001b[34m\u001b[1mwandb\u001b[0m: \thidden_size: 64\n",
            "\u001b[34m\u001b[1mwandb\u001b[0m: \tlearning_rate: 0.0001\n",
            "\u001b[34m\u001b[1mwandb\u001b[0m: \tnum_layers: 4\n",
            "\u001b[34m\u001b[1mwandb\u001b[0m: \toptimizer: nadam\n",
            "\u001b[34m\u001b[1mwandb\u001b[0m: \tweight_decay: 0\n",
            "\u001b[34m\u001b[1mwandb\u001b[0m: \tweight_ini_method: random\n"
          ]
        },
        {
          "data": {
            "text/html": [
              "Tracking run with wandb version 0.19.7"
            ],
            "text/plain": [
              "<IPython.core.display.HTML object>"
            ]
          },
          "metadata": {},
          "output_type": "display_data"
        },
        {
          "data": {
            "text/html": [
              "Run data is saved locally in <code>/content/wandb/run-20250309_133003-jnmfwt2e</code>"
            ],
            "text/plain": [
              "<IPython.core.display.HTML object>"
            ]
          },
          "metadata": {},
          "output_type": "display_data"
        },
        {
          "data": {
            "text/html": [
              "Syncing run <strong><a href='https://wandb.ai/bgorai005-iit-madras/deep_learning_assignment_1/runs/jnmfwt2e' target=\"_blank\">wandering-sweep-4</a></strong> to <a href='https://wandb.ai/bgorai005-iit-madras/deep_learning_assignment_1' target=\"_blank\">Weights & Biases</a> (<a href='https://wandb.me/developer-guide' target=\"_blank\">docs</a>)<br>Sweep page: <a href='https://wandb.ai/bgorai005-iit-madras/deep_learning_assignment_1/sweeps/xd33zmtu' target=\"_blank\">https://wandb.ai/bgorai005-iit-madras/deep_learning_assignment_1/sweeps/xd33zmtu</a>"
            ],
            "text/plain": [
              "<IPython.core.display.HTML object>"
            ]
          },
          "metadata": {},
          "output_type": "display_data"
        },
        {
          "data": {
            "text/html": [
              " View project at <a href='https://wandb.ai/bgorai005-iit-madras/deep_learning_assignment_1' target=\"_blank\">https://wandb.ai/bgorai005-iit-madras/deep_learning_assignment_1</a>"
            ],
            "text/plain": [
              "<IPython.core.display.HTML object>"
            ]
          },
          "metadata": {},
          "output_type": "display_data"
        },
        {
          "data": {
            "text/html": [
              " View sweep at <a href='https://wandb.ai/bgorai005-iit-madras/deep_learning_assignment_1/sweeps/xd33zmtu' target=\"_blank\">https://wandb.ai/bgorai005-iit-madras/deep_learning_assignment_1/sweeps/xd33zmtu</a>"
            ],
            "text/plain": [
              "<IPython.core.display.HTML object>"
            ]
          },
          "metadata": {},
          "output_type": "display_data"
        },
        {
          "data": {
            "text/html": [
              " View run at <a href='https://wandb.ai/bgorai005-iit-madras/deep_learning_assignment_1/runs/jnmfwt2e' target=\"_blank\">https://wandb.ai/bgorai005-iit-madras/deep_learning_assignment_1/runs/jnmfwt2e</a>"
            ],
            "text/plain": [
              "<IPython.core.display.HTML object>"
            ]
          },
          "metadata": {},
          "output_type": "display_data"
        },
        {
          "metadata": {
            "tags": null
          },
          "name": "stdout",
          "output_type": "stream",
          "text": [
            "[784, 64, 64, 64, 64, 10]\n",
            "Epoch 1, Loss: 31.03316843946913, Validation Loss: 14.487500734119365\n",
            "Epoch 2, Loss: 30.983832133957495, Validation Loss: 12.88831555385545\n",
            "Epoch 3, Loss: 31.049409366668073, Validation Loss: 12.21152652730433\n",
            "Epoch 4, Loss: 31.06546014760979, Validation Loss: 11.611871177321074\n",
            "Epoch 5, Loss: 31.14247242241098, Validation Loss: 11.351139051939851\n",
            " accuracy: 0.6759\n"
          ]
        },
        {
          "data": {
            "text/html": [],
            "text/plain": [
              "<IPython.core.display.HTML object>"
            ]
          },
          "metadata": {},
          "output_type": "display_data"
        },
        {
          "data": {
            "text/html": [
              "<br>    <style><br>        .wandb-row {<br>            display: flex;<br>            flex-direction: row;<br>            flex-wrap: wrap;<br>            justify-content: flex-start;<br>            width: 100%;<br>        }<br>        .wandb-col {<br>            display: flex;<br>            flex-direction: column;<br>            flex-basis: 100%;<br>            flex: 1;<br>            padding: 10px;<br>        }<br>    </style><br><div class=\"wandb-row\"><div class=\"wandb-col\"><h3>Run history:</h3><br/><table class=\"wandb\"><tr><td>epoch</td><td>▁▃▅▆█</td></tr><tr><td>train_accuracy</td><td>▁▅▆▇█</td></tr><tr><td>train_loss</td><td>▃▁▄▅█</td></tr><tr><td>val_accuracy</td><td>▁▅▆▇█</td></tr><tr><td>val_loss</td><td>█▄▃▂▁</td></tr></table><br/></div><div class=\"wandb-col\"><h3>Run summary:</h3><br/><table class=\"wandb\"><tr><td>epoch</td><td>5</td></tr><tr><td>train_accuracy</td><td>68.51296</td></tr><tr><td>train_loss</td><td>31.14247</td></tr><tr><td>val_accuracy</td><td>66.88333</td></tr><tr><td>val_loss</td><td>11.35114</td></tr></table><br/></div></div>"
            ],
            "text/plain": [
              "<IPython.core.display.HTML object>"
            ]
          },
          "metadata": {},
          "output_type": "display_data"
        },
        {
          "data": {
            "text/html": [
              " View run <strong style=\"color:#cdcd00\">ac-relu_hs-64_epc-5_nl-4_lr0.0001_wd-0_opt-nadam_bs-32_wi-random</strong> at: <a href='https://wandb.ai/bgorai005-iit-madras/deep_learning_assignment_1/runs/jnmfwt2e' target=\"_blank\">https://wandb.ai/bgorai005-iit-madras/deep_learning_assignment_1/runs/jnmfwt2e</a><br> View project at: <a href='https://wandb.ai/bgorai005-iit-madras/deep_learning_assignment_1' target=\"_blank\">https://wandb.ai/bgorai005-iit-madras/deep_learning_assignment_1</a><br>Synced 5 W&B file(s), 0 media file(s), 0 artifact file(s) and 0 other file(s)"
            ],
            "text/plain": [
              "<IPython.core.display.HTML object>"
            ]
          },
          "metadata": {},
          "output_type": "display_data"
        },
        {
          "data": {
            "text/html": [
              "Find logs at: <code>./wandb/run-20250309_133003-jnmfwt2e/logs</code>"
            ],
            "text/plain": [
              "<IPython.core.display.HTML object>"
            ]
          },
          "metadata": {},
          "output_type": "display_data"
        },
        {
          "metadata": {
            "tags": null
          },
          "name": "stderr",
          "output_type": "stream",
          "text": [
            "\u001b[34m\u001b[1mwandb\u001b[0m: Agent Starting Run: x4lut4fi with config:\n",
            "\u001b[34m\u001b[1mwandb\u001b[0m: \tactivation_hidden: tanh\n",
            "\u001b[34m\u001b[1mwandb\u001b[0m: \tactivation_output: softmax\n",
            "\u001b[34m\u001b[1mwandb\u001b[0m: \tbatch_size: 32\n",
            "\u001b[34m\u001b[1mwandb\u001b[0m: \tepochs: 5\n",
            "\u001b[34m\u001b[1mwandb\u001b[0m: \thidden_size: 64\n",
            "\u001b[34m\u001b[1mwandb\u001b[0m: \tlearning_rate: 0.0001\n",
            "\u001b[34m\u001b[1mwandb\u001b[0m: \tnum_layers: 3\n",
            "\u001b[34m\u001b[1mwandb\u001b[0m: \toptimizer: sgd\n",
            "\u001b[34m\u001b[1mwandb\u001b[0m: \tweight_decay: 0\n",
            "\u001b[34m\u001b[1mwandb\u001b[0m: \tweight_ini_method: random\n"
          ]
        },
        {
          "data": {
            "text/html": [
              "Tracking run with wandb version 0.19.7"
            ],
            "text/plain": [
              "<IPython.core.display.HTML object>"
            ]
          },
          "metadata": {},
          "output_type": "display_data"
        },
        {
          "data": {
            "text/html": [
              "Run data is saved locally in <code>/content/wandb/run-20250309_133055-x4lut4fi</code>"
            ],
            "text/plain": [
              "<IPython.core.display.HTML object>"
            ]
          },
          "metadata": {},
          "output_type": "display_data"
        },
        {
          "data": {
            "text/html": [
              "Syncing run <strong><a href='https://wandb.ai/bgorai005-iit-madras/deep_learning_assignment_1/runs/x4lut4fi' target=\"_blank\">faithful-sweep-5</a></strong> to <a href='https://wandb.ai/bgorai005-iit-madras/deep_learning_assignment_1' target=\"_blank\">Weights & Biases</a> (<a href='https://wandb.me/developer-guide' target=\"_blank\">docs</a>)<br>Sweep page: <a href='https://wandb.ai/bgorai005-iit-madras/deep_learning_assignment_1/sweeps/xd33zmtu' target=\"_blank\">https://wandb.ai/bgorai005-iit-madras/deep_learning_assignment_1/sweeps/xd33zmtu</a>"
            ],
            "text/plain": [
              "<IPython.core.display.HTML object>"
            ]
          },
          "metadata": {},
          "output_type": "display_data"
        },
        {
          "data": {
            "text/html": [
              " View project at <a href='https://wandb.ai/bgorai005-iit-madras/deep_learning_assignment_1' target=\"_blank\">https://wandb.ai/bgorai005-iit-madras/deep_learning_assignment_1</a>"
            ],
            "text/plain": [
              "<IPython.core.display.HTML object>"
            ]
          },
          "metadata": {},
          "output_type": "display_data"
        },
        {
          "data": {
            "text/html": [
              " View sweep at <a href='https://wandb.ai/bgorai005-iit-madras/deep_learning_assignment_1/sweeps/xd33zmtu' target=\"_blank\">https://wandb.ai/bgorai005-iit-madras/deep_learning_assignment_1/sweeps/xd33zmtu</a>"
            ],
            "text/plain": [
              "<IPython.core.display.HTML object>"
            ]
          },
          "metadata": {},
          "output_type": "display_data"
        },
        {
          "data": {
            "text/html": [
              " View run at <a href='https://wandb.ai/bgorai005-iit-madras/deep_learning_assignment_1/runs/x4lut4fi' target=\"_blank\">https://wandb.ai/bgorai005-iit-madras/deep_learning_assignment_1/runs/x4lut4fi</a>"
            ],
            "text/plain": [
              "<IPython.core.display.HTML object>"
            ]
          },
          "metadata": {},
          "output_type": "display_data"
        },
        {
          "metadata": {
            "tags": null
          },
          "name": "stdout",
          "output_type": "stream",
          "text": [
            "[784, 64, 64, 64, 10]\n",
            "Epoch 1, Train Loss: 2.8509875052562896, Val Loss: 2.9087032744537367\n",
            "Epoch 2, Train Loss: 2.009556617505747, Val Loss: 2.0273369546529527\n",
            "Epoch 3, Train Loss: 1.648853335113416, Val Loss: 1.7241275021319051\n",
            "Epoch 4, Train Loss: 1.4484605138315423, Val Loss: 1.5411871849834708\n",
            "Epoch 5, Train Loss: 1.3181958943858014, Val Loss: 1.4092953613806625\n",
            "Test Accuracy: 59.53000000000001\n"
          ]
        },
        {
          "data": {
            "text/html": [],
            "text/plain": [
              "<IPython.core.display.HTML object>"
            ]
          },
          "metadata": {},
          "output_type": "display_data"
        },
        {
          "data": {
            "text/html": [
              " View run <strong style=\"color:#cdcd00\">ac-tanh_hs-64_epc-5_nl-3_lr0.0001_wd-0_opt-sgd_bs-32_wi-random</strong> at: <a href='https://wandb.ai/bgorai005-iit-madras/deep_learning_assignment_1/runs/x4lut4fi' target=\"_blank\">https://wandb.ai/bgorai005-iit-madras/deep_learning_assignment_1/runs/x4lut4fi</a><br> View project at: <a href='https://wandb.ai/bgorai005-iit-madras/deep_learning_assignment_1' target=\"_blank\">https://wandb.ai/bgorai005-iit-madras/deep_learning_assignment_1</a><br>Synced 5 W&B file(s), 0 media file(s), 0 artifact file(s) and 0 other file(s)"
            ],
            "text/plain": [
              "<IPython.core.display.HTML object>"
            ]
          },
          "metadata": {},
          "output_type": "display_data"
        },
        {
          "data": {
            "text/html": [
              "Find logs at: <code>./wandb/run-20250309_133055-x4lut4fi/logs</code>"
            ],
            "text/plain": [
              "<IPython.core.display.HTML object>"
            ]
          },
          "metadata": {},
          "output_type": "display_data"
        },
        {
          "metadata": {
            "tags": null
          },
          "name": "stderr",
          "output_type": "stream",
          "text": [
            "\u001b[34m\u001b[1mwandb\u001b[0m: Sweep Agent: Waiting for job.\n",
            "\u001b[34m\u001b[1mwandb\u001b[0m: Job received.\n",
            "\u001b[34m\u001b[1mwandb\u001b[0m: Agent Starting Run: y2jkas3h with config:\n",
            "\u001b[34m\u001b[1mwandb\u001b[0m: \tactivation_hidden: tanh\n",
            "\u001b[34m\u001b[1mwandb\u001b[0m: \tactivation_output: softmax\n",
            "\u001b[34m\u001b[1mwandb\u001b[0m: \tbatch_size: 64\n",
            "\u001b[34m\u001b[1mwandb\u001b[0m: \tepochs: 5\n",
            "\u001b[34m\u001b[1mwandb\u001b[0m: \thidden_size: 64\n",
            "\u001b[34m\u001b[1mwandb\u001b[0m: \tlearning_rate: 0.001\n",
            "\u001b[34m\u001b[1mwandb\u001b[0m: \tnum_layers: 5\n",
            "\u001b[34m\u001b[1mwandb\u001b[0m: \toptimizer: sgd\n",
            "\u001b[34m\u001b[1mwandb\u001b[0m: \tweight_decay: 0\n",
            "\u001b[34m\u001b[1mwandb\u001b[0m: \tweight_ini_method: random\n"
          ]
        },
        {
          "data": {
            "text/html": [
              "Tracking run with wandb version 0.19.7"
            ],
            "text/plain": [
              "<IPython.core.display.HTML object>"
            ]
          },
          "metadata": {},
          "output_type": "display_data"
        },
        {
          "data": {
            "text/html": [
              "Run data is saved locally in <code>/content/wandb/run-20250309_133151-y2jkas3h</code>"
            ],
            "text/plain": [
              "<IPython.core.display.HTML object>"
            ]
          },
          "metadata": {},
          "output_type": "display_data"
        },
        {
          "data": {
            "text/html": [
              "Syncing run <strong><a href='https://wandb.ai/bgorai005-iit-madras/deep_learning_assignment_1/runs/y2jkas3h' target=\"_blank\">celestial-sweep-6</a></strong> to <a href='https://wandb.ai/bgorai005-iit-madras/deep_learning_assignment_1' target=\"_blank\">Weights & Biases</a> (<a href='https://wandb.me/developer-guide' target=\"_blank\">docs</a>)<br>Sweep page: <a href='https://wandb.ai/bgorai005-iit-madras/deep_learning_assignment_1/sweeps/xd33zmtu' target=\"_blank\">https://wandb.ai/bgorai005-iit-madras/deep_learning_assignment_1/sweeps/xd33zmtu</a>"
            ],
            "text/plain": [
              "<IPython.core.display.HTML object>"
            ]
          },
          "metadata": {},
          "output_type": "display_data"
        },
        {
          "data": {
            "text/html": [
              " View project at <a href='https://wandb.ai/bgorai005-iit-madras/deep_learning_assignment_1' target=\"_blank\">https://wandb.ai/bgorai005-iit-madras/deep_learning_assignment_1</a>"
            ],
            "text/plain": [
              "<IPython.core.display.HTML object>"
            ]
          },
          "metadata": {},
          "output_type": "display_data"
        },
        {
          "data": {
            "text/html": [
              " View sweep at <a href='https://wandb.ai/bgorai005-iit-madras/deep_learning_assignment_1/sweeps/xd33zmtu' target=\"_blank\">https://wandb.ai/bgorai005-iit-madras/deep_learning_assignment_1/sweeps/xd33zmtu</a>"
            ],
            "text/plain": [
              "<IPython.core.display.HTML object>"
            ]
          },
          "metadata": {},
          "output_type": "display_data"
        },
        {
          "data": {
            "text/html": [
              " View run at <a href='https://wandb.ai/bgorai005-iit-madras/deep_learning_assignment_1/runs/y2jkas3h' target=\"_blank\">https://wandb.ai/bgorai005-iit-madras/deep_learning_assignment_1/runs/y2jkas3h</a>"
            ],
            "text/plain": [
              "<IPython.core.display.HTML object>"
            ]
          },
          "metadata": {},
          "output_type": "display_data"
        },
        {
          "metadata": {
            "tags": null
          },
          "name": "stdout",
          "output_type": "stream",
          "text": [
            "[784, 64, 64, 64, 64, 64, 10]\n",
            "Epoch 1, Train Loss: 1.3166489965973014, Val Loss: 1.3421847109797098\n",
            "Epoch 2, Train Loss: 1.1148488466890871, Val Loss: 1.1335591571234893\n",
            "Epoch 3, Train Loss: 1.0808335288340873, Val Loss: 1.0936039390834111\n",
            "Epoch 4, Train Loss: 0.9354993508572383, Val Loss: 0.9567335808359979\n",
            "Epoch 5, Train Loss: 0.9135715193244007, Val Loss: 0.9253284167661324\n",
            "Test Accuracy: 65.93\n"
          ]
        },
        {
          "data": {
            "text/html": [],
            "text/plain": [
              "<IPython.core.display.HTML object>"
            ]
          },
          "metadata": {},
          "output_type": "display_data"
        },
        {
          "data": {
            "text/html": [
              " View run <strong style=\"color:#cdcd00\">ac-tanh_hs-64_epc-5_nl-5_lr0.001_wd-0_opt-sgd_bs-64_wi-random</strong> at: <a href='https://wandb.ai/bgorai005-iit-madras/deep_learning_assignment_1/runs/y2jkas3h' target=\"_blank\">https://wandb.ai/bgorai005-iit-madras/deep_learning_assignment_1/runs/y2jkas3h</a><br> View project at: <a href='https://wandb.ai/bgorai005-iit-madras/deep_learning_assignment_1' target=\"_blank\">https://wandb.ai/bgorai005-iit-madras/deep_learning_assignment_1</a><br>Synced 5 W&B file(s), 0 media file(s), 0 artifact file(s) and 0 other file(s)"
            ],
            "text/plain": [
              "<IPython.core.display.HTML object>"
            ]
          },
          "metadata": {},
          "output_type": "display_data"
        },
        {
          "data": {
            "text/html": [
              "Find logs at: <code>./wandb/run-20250309_133151-y2jkas3h/logs</code>"
            ],
            "text/plain": [
              "<IPython.core.display.HTML object>"
            ]
          },
          "metadata": {},
          "output_type": "display_data"
        },
        {
          "metadata": {
            "tags": null
          },
          "name": "stderr",
          "output_type": "stream",
          "text": [
            "\u001b[34m\u001b[1mwandb\u001b[0m: Agent Starting Run: jynjb5a5 with config:\n",
            "\u001b[34m\u001b[1mwandb\u001b[0m: \tactivation_hidden: relu\n",
            "\u001b[34m\u001b[1mwandb\u001b[0m: \tactivation_output: softmax\n",
            "\u001b[34m\u001b[1mwandb\u001b[0m: \tbatch_size: 16\n",
            "\u001b[34m\u001b[1mwandb\u001b[0m: \tepochs: 5\n",
            "\u001b[34m\u001b[1mwandb\u001b[0m: \thidden_size: 128\n",
            "\u001b[34m\u001b[1mwandb\u001b[0m: \tlearning_rate: 0.001\n",
            "\u001b[34m\u001b[1mwandb\u001b[0m: \tnum_layers: 3\n",
            "\u001b[34m\u001b[1mwandb\u001b[0m: \toptimizer: nadam\n",
            "\u001b[34m\u001b[1mwandb\u001b[0m: \tweight_decay: 0\n",
            "\u001b[34m\u001b[1mwandb\u001b[0m: \tweight_ini_method: random\n"
          ]
        },
        {
          "data": {
            "text/html": [
              "Tracking run with wandb version 0.19.7"
            ],
            "text/plain": [
              "<IPython.core.display.HTML object>"
            ]
          },
          "metadata": {},
          "output_type": "display_data"
        },
        {
          "data": {
            "text/html": [
              "Run data is saved locally in <code>/content/wandb/run-20250309_133255-jynjb5a5</code>"
            ],
            "text/plain": [
              "<IPython.core.display.HTML object>"
            ]
          },
          "metadata": {},
          "output_type": "display_data"
        },
        {
          "data": {
            "text/html": [
              "Syncing run <strong><a href='https://wandb.ai/bgorai005-iit-madras/deep_learning_assignment_1/runs/jynjb5a5' target=\"_blank\">jolly-sweep-7</a></strong> to <a href='https://wandb.ai/bgorai005-iit-madras/deep_learning_assignment_1' target=\"_blank\">Weights & Biases</a> (<a href='https://wandb.me/developer-guide' target=\"_blank\">docs</a>)<br>Sweep page: <a href='https://wandb.ai/bgorai005-iit-madras/deep_learning_assignment_1/sweeps/xd33zmtu' target=\"_blank\">https://wandb.ai/bgorai005-iit-madras/deep_learning_assignment_1/sweeps/xd33zmtu</a>"
            ],
            "text/plain": [
              "<IPython.core.display.HTML object>"
            ]
          },
          "metadata": {},
          "output_type": "display_data"
        },
        {
          "data": {
            "text/html": [
              " View project at <a href='https://wandb.ai/bgorai005-iit-madras/deep_learning_assignment_1' target=\"_blank\">https://wandb.ai/bgorai005-iit-madras/deep_learning_assignment_1</a>"
            ],
            "text/plain": [
              "<IPython.core.display.HTML object>"
            ]
          },
          "metadata": {},
          "output_type": "display_data"
        },
        {
          "data": {
            "text/html": [
              " View sweep at <a href='https://wandb.ai/bgorai005-iit-madras/deep_learning_assignment_1/sweeps/xd33zmtu' target=\"_blank\">https://wandb.ai/bgorai005-iit-madras/deep_learning_assignment_1/sweeps/xd33zmtu</a>"
            ],
            "text/plain": [
              "<IPython.core.display.HTML object>"
            ]
          },
          "metadata": {},
          "output_type": "display_data"
        },
        {
          "data": {
            "text/html": [
              " View run at <a href='https://wandb.ai/bgorai005-iit-madras/deep_learning_assignment_1/runs/jynjb5a5' target=\"_blank\">https://wandb.ai/bgorai005-iit-madras/deep_learning_assignment_1/runs/jynjb5a5</a>"
            ],
            "text/plain": [
              "<IPython.core.display.HTML object>"
            ]
          },
          "metadata": {},
          "output_type": "display_data"
        },
        {
          "metadata": {
            "tags": null
          },
          "name": "stdout",
          "output_type": "stream",
          "text": [
            "[784, 128, 128, 128, 10]\n",
            "Epoch 1, Loss: 31.00367021650215, Validation Loss: 7.862003763293087\n",
            "Epoch 2, Loss: 30.90627383460012, Validation Loss: 7.221717985672981\n",
            "Epoch 3, Loss: 30.85638120636756, Validation Loss: 6.965105546055456\n",
            "Epoch 4, Loss: 30.825322170735834, Validation Loss: 6.712591216786604\n",
            "Epoch 5, Loss: 30.784495146259832, Validation Loss: 7.065313034761442\n",
            " accuracy: 0.7648\n"
          ]
        },
        {
          "data": {
            "text/html": [],
            "text/plain": [
              "<IPython.core.display.HTML object>"
            ]
          },
          "metadata": {},
          "output_type": "display_data"
        },
        {
          "data": {
            "text/html": [
              "<br>    <style><br>        .wandb-row {<br>            display: flex;<br>            flex-direction: row;<br>            flex-wrap: wrap;<br>            justify-content: flex-start;<br>            width: 100%;<br>        }<br>        .wandb-col {<br>            display: flex;<br>            flex-direction: column;<br>            flex-basis: 100%;<br>            flex: 1;<br>            padding: 10px;<br>        }<br>    </style><br><div class=\"wandb-row\"><div class=\"wandb-col\"><h3>Run history:</h3><br/><table class=\"wandb\"><tr><td>epoch</td><td>▁▃▅▆█</td></tr><tr><td>train_accuracy</td><td>▁▆▆█▆</td></tr><tr><td>train_loss</td><td>█▅▃▂▁</td></tr><tr><td>val_accuracy</td><td>▂█▇▇▁</td></tr><tr><td>val_loss</td><td>█▄▃▁▃</td></tr></table><br/></div><div class=\"wandb-col\"><h3>Run summary:</h3><br/><table class=\"wandb\"><tr><td>epoch</td><td>5</td></tr><tr><td>train_accuracy</td><td>79.38889</td></tr><tr><td>train_loss</td><td>30.7845</td></tr><tr><td>val_accuracy</td><td>76.08333</td></tr><tr><td>val_loss</td><td>7.06531</td></tr></table><br/></div></div>"
            ],
            "text/plain": [
              "<IPython.core.display.HTML object>"
            ]
          },
          "metadata": {},
          "output_type": "display_data"
        },
        {
          "data": {
            "text/html": [
              " View run <strong style=\"color:#cdcd00\">ac-relu_hs-128_epc-5_nl-3_lr0.001_wd-0_opt-nadam_bs-16_wi-random</strong> at: <a href='https://wandb.ai/bgorai005-iit-madras/deep_learning_assignment_1/runs/jynjb5a5' target=\"_blank\">https://wandb.ai/bgorai005-iit-madras/deep_learning_assignment_1/runs/jynjb5a5</a><br> View project at: <a href='https://wandb.ai/bgorai005-iit-madras/deep_learning_assignment_1' target=\"_blank\">https://wandb.ai/bgorai005-iit-madras/deep_learning_assignment_1</a><br>Synced 5 W&B file(s), 0 media file(s), 0 artifact file(s) and 0 other file(s)"
            ],
            "text/plain": [
              "<IPython.core.display.HTML object>"
            ]
          },
          "metadata": {},
          "output_type": "display_data"
        },
        {
          "data": {
            "text/html": [
              "Find logs at: <code>./wandb/run-20250309_133255-jynjb5a5/logs</code>"
            ],
            "text/plain": [
              "<IPython.core.display.HTML object>"
            ]
          },
          "metadata": {},
          "output_type": "display_data"
        },
        {
          "metadata": {
            "tags": null
          },
          "name": "stderr",
          "output_type": "stream",
          "text": [
            "\u001b[34m\u001b[1mwandb\u001b[0m: Agent Starting Run: 3qttgp58 with config:\n",
            "\u001b[34m\u001b[1mwandb\u001b[0m: \tactivation_hidden: sigmoid\n",
            "\u001b[34m\u001b[1mwandb\u001b[0m: \tactivation_output: softmax\n",
            "\u001b[34m\u001b[1mwandb\u001b[0m: \tbatch_size: 16\n",
            "\u001b[34m\u001b[1mwandb\u001b[0m: \tepochs: 5\n",
            "\u001b[34m\u001b[1mwandb\u001b[0m: \thidden_size: 64\n",
            "\u001b[34m\u001b[1mwandb\u001b[0m: \tlearning_rate: 0.0001\n",
            "\u001b[34m\u001b[1mwandb\u001b[0m: \tnum_layers: 5\n",
            "\u001b[34m\u001b[1mwandb\u001b[0m: \toptimizer: nadam\n",
            "\u001b[34m\u001b[1mwandb\u001b[0m: \tweight_decay: 0\n",
            "\u001b[34m\u001b[1mwandb\u001b[0m: \tweight_ini_method: Xavier\n"
          ]
        },
        {
          "data": {
            "text/html": [
              "Tracking run with wandb version 0.19.7"
            ],
            "text/plain": [
              "<IPython.core.display.HTML object>"
            ]
          },
          "metadata": {},
          "output_type": "display_data"
        },
        {
          "data": {
            "text/html": [
              "Run data is saved locally in <code>/content/wandb/run-20250309_133512-3qttgp58</code>"
            ],
            "text/plain": [
              "<IPython.core.display.HTML object>"
            ]
          },
          "metadata": {},
          "output_type": "display_data"
        },
        {
          "data": {
            "text/html": [
              "Syncing run <strong><a href='https://wandb.ai/bgorai005-iit-madras/deep_learning_assignment_1/runs/3qttgp58' target=\"_blank\">pleasant-sweep-8</a></strong> to <a href='https://wandb.ai/bgorai005-iit-madras/deep_learning_assignment_1' target=\"_blank\">Weights & Biases</a> (<a href='https://wandb.me/developer-guide' target=\"_blank\">docs</a>)<br>Sweep page: <a href='https://wandb.ai/bgorai005-iit-madras/deep_learning_assignment_1/sweeps/xd33zmtu' target=\"_blank\">https://wandb.ai/bgorai005-iit-madras/deep_learning_assignment_1/sweeps/xd33zmtu</a>"
            ],
            "text/plain": [
              "<IPython.core.display.HTML object>"
            ]
          },
          "metadata": {},
          "output_type": "display_data"
        },
        {
          "data": {
            "text/html": [
              " View project at <a href='https://wandb.ai/bgorai005-iit-madras/deep_learning_assignment_1' target=\"_blank\">https://wandb.ai/bgorai005-iit-madras/deep_learning_assignment_1</a>"
            ],
            "text/plain": [
              "<IPython.core.display.HTML object>"
            ]
          },
          "metadata": {},
          "output_type": "display_data"
        },
        {
          "data": {
            "text/html": [
              " View sweep at <a href='https://wandb.ai/bgorai005-iit-madras/deep_learning_assignment_1/sweeps/xd33zmtu' target=\"_blank\">https://wandb.ai/bgorai005-iit-madras/deep_learning_assignment_1/sweeps/xd33zmtu</a>"
            ],
            "text/plain": [
              "<IPython.core.display.HTML object>"
            ]
          },
          "metadata": {},
          "output_type": "display_data"
        },
        {
          "data": {
            "text/html": [
              " View run at <a href='https://wandb.ai/bgorai005-iit-madras/deep_learning_assignment_1/runs/3qttgp58' target=\"_blank\">https://wandb.ai/bgorai005-iit-madras/deep_learning_assignment_1/runs/3qttgp58</a>"
            ],
            "text/plain": [
              "<IPython.core.display.HTML object>"
            ]
          },
          "metadata": {},
          "output_type": "display_data"
        },
        {
          "metadata": {
            "tags": null
          },
          "name": "stdout",
          "output_type": "stream",
          "text": [
            "[784, 64, 64, 64, 64, 64, 10]\n",
            "Epoch 1, Loss: 3.30071067040283, Validation Loss: 1.3543099991698462\n",
            "Epoch 2, Loss: 4.129934269082031, Validation Loss: 1.0717493287835849\n",
            "Epoch 3, Loss: 4.5327437696229085, Validation Loss: 0.8949403209541338\n",
            "Epoch 4, Loss: 5.045800435940473, Validation Loss: 0.7932392404585051\n",
            "Epoch 5, Loss: 5.367018450610292, Validation Loss: 0.71914207395434\n",
            " accuracy: 0.7454\n"
          ]
        },
        {
          "data": {
            "text/html": [],
            "text/plain": [
              "<IPython.core.display.HTML object>"
            ]
          },
          "metadata": {},
          "output_type": "display_data"
        },
        {
          "data": {
            "text/html": [
              "<br>    <style><br>        .wandb-row {<br>            display: flex;<br>            flex-direction: row;<br>            flex-wrap: wrap;<br>            justify-content: flex-start;<br>            width: 100%;<br>        }<br>        .wandb-col {<br>            display: flex;<br>            flex-direction: column;<br>            flex-basis: 100%;<br>            flex: 1;<br>            padding: 10px;<br>        }<br>    </style><br><div class=\"wandb-row\"><div class=\"wandb-col\"><h3>Run history:</h3><br/><table class=\"wandb\"><tr><td>epoch</td><td>▁▃▅▆█</td></tr><tr><td>train_accuracy</td><td>▁▂▆▇█</td></tr><tr><td>train_loss</td><td>▁▄▅▇█</td></tr><tr><td>val_accuracy</td><td>▁▃▆▇█</td></tr><tr><td>val_loss</td><td>█▅▃▂▁</td></tr></table><br/></div><div class=\"wandb-col\"><h3>Run summary:</h3><br/><table class=\"wandb\"><tr><td>epoch</td><td>5</td></tr><tr><td>train_accuracy</td><td>75.57593</td></tr><tr><td>train_loss</td><td>5.36702</td></tr><tr><td>val_accuracy</td><td>74.78333</td></tr><tr><td>val_loss</td><td>0.71914</td></tr></table><br/></div></div>"
            ],
            "text/plain": [
              "<IPython.core.display.HTML object>"
            ]
          },
          "metadata": {},
          "output_type": "display_data"
        },
        {
          "data": {
            "text/html": [
              " View run <strong style=\"color:#cdcd00\">ac-sigmoid_hs-64_epc-5_nl-5_lr0.0001_wd-0_opt-nadam_bs-16_wi-Xavier</strong> at: <a href='https://wandb.ai/bgorai005-iit-madras/deep_learning_assignment_1/runs/3qttgp58' target=\"_blank\">https://wandb.ai/bgorai005-iit-madras/deep_learning_assignment_1/runs/3qttgp58</a><br> View project at: <a href='https://wandb.ai/bgorai005-iit-madras/deep_learning_assignment_1' target=\"_blank\">https://wandb.ai/bgorai005-iit-madras/deep_learning_assignment_1</a><br>Synced 5 W&B file(s), 0 media file(s), 0 artifact file(s) and 0 other file(s)"
            ],
            "text/plain": [
              "<IPython.core.display.HTML object>"
            ]
          },
          "metadata": {},
          "output_type": "display_data"
        },
        {
          "data": {
            "text/html": [
              "Find logs at: <code>./wandb/run-20250309_133512-3qttgp58/logs</code>"
            ],
            "text/plain": [
              "<IPython.core.display.HTML object>"
            ]
          },
          "metadata": {},
          "output_type": "display_data"
        },
        {
          "metadata": {
            "tags": null
          },
          "name": "stderr",
          "output_type": "stream",
          "text": [
            "\u001b[34m\u001b[1mwandb\u001b[0m: Agent Starting Run: idr5hty4 with config:\n",
            "\u001b[34m\u001b[1mwandb\u001b[0m: \tactivation_hidden: sigmoid\n",
            "\u001b[34m\u001b[1mwandb\u001b[0m: \tactivation_output: softmax\n",
            "\u001b[34m\u001b[1mwandb\u001b[0m: \tbatch_size: 64\n",
            "\u001b[34m\u001b[1mwandb\u001b[0m: \tepochs: 5\n",
            "\u001b[34m\u001b[1mwandb\u001b[0m: \thidden_size: 128\n",
            "\u001b[34m\u001b[1mwandb\u001b[0m: \tlearning_rate: 0.0001\n",
            "\u001b[34m\u001b[1mwandb\u001b[0m: \tnum_layers: 3\n",
            "\u001b[34m\u001b[1mwandb\u001b[0m: \toptimizer: sgd\n",
            "\u001b[34m\u001b[1mwandb\u001b[0m: \tweight_decay: 0\n",
            "\u001b[34m\u001b[1mwandb\u001b[0m: \tweight_ini_method: Xavier\n"
          ]
        },
        {
          "data": {
            "text/html": [
              "Tracking run with wandb version 0.19.7"
            ],
            "text/plain": [
              "<IPython.core.display.HTML object>"
            ]
          },
          "metadata": {},
          "output_type": "display_data"
        },
        {
          "data": {
            "text/html": [
              "Run data is saved locally in <code>/content/wandb/run-20250309_133646-idr5hty4</code>"
            ],
            "text/plain": [
              "<IPython.core.display.HTML object>"
            ]
          },
          "metadata": {},
          "output_type": "display_data"
        },
        {
          "data": {
            "text/html": [
              "Syncing run <strong><a href='https://wandb.ai/bgorai005-iit-madras/deep_learning_assignment_1/runs/idr5hty4' target=\"_blank\">spring-sweep-9</a></strong> to <a href='https://wandb.ai/bgorai005-iit-madras/deep_learning_assignment_1' target=\"_blank\">Weights & Biases</a> (<a href='https://wandb.me/developer-guide' target=\"_blank\">docs</a>)<br>Sweep page: <a href='https://wandb.ai/bgorai005-iit-madras/deep_learning_assignment_1/sweeps/xd33zmtu' target=\"_blank\">https://wandb.ai/bgorai005-iit-madras/deep_learning_assignment_1/sweeps/xd33zmtu</a>"
            ],
            "text/plain": [
              "<IPython.core.display.HTML object>"
            ]
          },
          "metadata": {},
          "output_type": "display_data"
        },
        {
          "data": {
            "text/html": [
              " View project at <a href='https://wandb.ai/bgorai005-iit-madras/deep_learning_assignment_1' target=\"_blank\">https://wandb.ai/bgorai005-iit-madras/deep_learning_assignment_1</a>"
            ],
            "text/plain": [
              "<IPython.core.display.HTML object>"
            ]
          },
          "metadata": {},
          "output_type": "display_data"
        },
        {
          "data": {
            "text/html": [
              " View sweep at <a href='https://wandb.ai/bgorai005-iit-madras/deep_learning_assignment_1/sweeps/xd33zmtu' target=\"_blank\">https://wandb.ai/bgorai005-iit-madras/deep_learning_assignment_1/sweeps/xd33zmtu</a>"
            ],
            "text/plain": [
              "<IPython.core.display.HTML object>"
            ]
          },
          "metadata": {},
          "output_type": "display_data"
        },
        {
          "data": {
            "text/html": [
              " View run at <a href='https://wandb.ai/bgorai005-iit-madras/deep_learning_assignment_1/runs/idr5hty4' target=\"_blank\">https://wandb.ai/bgorai005-iit-madras/deep_learning_assignment_1/runs/idr5hty4</a>"
            ],
            "text/plain": [
              "<IPython.core.display.HTML object>"
            ]
          },
          "metadata": {},
          "output_type": "display_data"
        },
        {
          "metadata": {
            "tags": null
          },
          "name": "stdout",
          "output_type": "stream",
          "text": [
            "[784, 128, 128, 128, 10]\n",
            "Epoch 1, Train Loss: 2.274691498269505, Val Loss: 2.2758509656374146\n",
            "Epoch 2, Train Loss: 2.238456670467317, Val Loss: 2.239069988435424\n",
            "Epoch 3, Train Loss: 2.171659458348459, Val Loss: 2.1739672284903024\n",
            "Epoch 4, Train Loss: 2.0376796984855376, Val Loss: 2.0414404364487435\n",
            "Epoch 5, Train Loss: 1.8406101899232723, Val Loss: 1.8471528354188516\n",
            "Test Accuracy: 43.169999999999995\n"
          ]
        },
        {
          "data": {
            "text/html": [],
            "text/plain": [
              "<IPython.core.display.HTML object>"
            ]
          },
          "metadata": {},
          "output_type": "display_data"
        },
        {
          "data": {
            "text/html": [
              " View run <strong style=\"color:#cdcd00\">ac-sigmoid_hs-128_epc-5_nl-3_lr0.0001_wd-0_opt-sgd_bs-64_wi-Xavier</strong> at: <a href='https://wandb.ai/bgorai005-iit-madras/deep_learning_assignment_1/runs/idr5hty4' target=\"_blank\">https://wandb.ai/bgorai005-iit-madras/deep_learning_assignment_1/runs/idr5hty4</a><br> View project at: <a href='https://wandb.ai/bgorai005-iit-madras/deep_learning_assignment_1' target=\"_blank\">https://wandb.ai/bgorai005-iit-madras/deep_learning_assignment_1</a><br>Synced 5 W&B file(s), 0 media file(s), 0 artifact file(s) and 0 other file(s)"
            ],
            "text/plain": [
              "<IPython.core.display.HTML object>"
            ]
          },
          "metadata": {},
          "output_type": "display_data"
        },
        {
          "data": {
            "text/html": [
              "Find logs at: <code>./wandb/run-20250309_133646-idr5hty4/logs</code>"
            ],
            "text/plain": [
              "<IPython.core.display.HTML object>"
            ]
          },
          "metadata": {},
          "output_type": "display_data"
        },
        {
          "metadata": {
            "tags": null
          },
          "name": "stderr",
          "output_type": "stream",
          "text": [
            "\u001b[34m\u001b[1mwandb\u001b[0m: Agent Starting Run: udu3mkf2 with config:\n",
            "\u001b[34m\u001b[1mwandb\u001b[0m: \tactivation_hidden: sigmoid\n",
            "\u001b[34m\u001b[1mwandb\u001b[0m: \tactivation_output: softmax\n",
            "\u001b[34m\u001b[1mwandb\u001b[0m: \tbatch_size: 64\n",
            "\u001b[34m\u001b[1mwandb\u001b[0m: \tepochs: 5\n",
            "\u001b[34m\u001b[1mwandb\u001b[0m: \thidden_size: 32\n",
            "\u001b[34m\u001b[1mwandb\u001b[0m: \tlearning_rate: 0.001\n",
            "\u001b[34m\u001b[1mwandb\u001b[0m: \tnum_layers: 4\n",
            "\u001b[34m\u001b[1mwandb\u001b[0m: \toptimizer: nag\n",
            "\u001b[34m\u001b[1mwandb\u001b[0m: \tweight_decay: 0\n",
            "\u001b[34m\u001b[1mwandb\u001b[0m: \tweight_ini_method: Xavier\n"
          ]
        },
        {
          "data": {
            "text/html": [
              "Tracking run with wandb version 0.19.7"
            ],
            "text/plain": [
              "<IPython.core.display.HTML object>"
            ]
          },
          "metadata": {},
          "output_type": "display_data"
        },
        {
          "data": {
            "text/html": [
              "Run data is saved locally in <code>/content/wandb/run-20250309_133742-udu3mkf2</code>"
            ],
            "text/plain": [
              "<IPython.core.display.HTML object>"
            ]
          },
          "metadata": {},
          "output_type": "display_data"
        },
        {
          "data": {
            "text/html": [
              "Syncing run <strong><a href='https://wandb.ai/bgorai005-iit-madras/deep_learning_assignment_1/runs/udu3mkf2' target=\"_blank\">spring-sweep-10</a></strong> to <a href='https://wandb.ai/bgorai005-iit-madras/deep_learning_assignment_1' target=\"_blank\">Weights & Biases</a> (<a href='https://wandb.me/developer-guide' target=\"_blank\">docs</a>)<br>Sweep page: <a href='https://wandb.ai/bgorai005-iit-madras/deep_learning_assignment_1/sweeps/xd33zmtu' target=\"_blank\">https://wandb.ai/bgorai005-iit-madras/deep_learning_assignment_1/sweeps/xd33zmtu</a>"
            ],
            "text/plain": [
              "<IPython.core.display.HTML object>"
            ]
          },
          "metadata": {},
          "output_type": "display_data"
        },
        {
          "data": {
            "text/html": [
              " View project at <a href='https://wandb.ai/bgorai005-iit-madras/deep_learning_assignment_1' target=\"_blank\">https://wandb.ai/bgorai005-iit-madras/deep_learning_assignment_1</a>"
            ],
            "text/plain": [
              "<IPython.core.display.HTML object>"
            ]
          },
          "metadata": {},
          "output_type": "display_data"
        },
        {
          "data": {
            "text/html": [
              " View sweep at <a href='https://wandb.ai/bgorai005-iit-madras/deep_learning_assignment_1/sweeps/xd33zmtu' target=\"_blank\">https://wandb.ai/bgorai005-iit-madras/deep_learning_assignment_1/sweeps/xd33zmtu</a>"
            ],
            "text/plain": [
              "<IPython.core.display.HTML object>"
            ]
          },
          "metadata": {},
          "output_type": "display_data"
        },
        {
          "data": {
            "text/html": [
              " View run at <a href='https://wandb.ai/bgorai005-iit-madras/deep_learning_assignment_1/runs/udu3mkf2' target=\"_blank\">https://wandb.ai/bgorai005-iit-madras/deep_learning_assignment_1/runs/udu3mkf2</a>"
            ],
            "text/plain": [
              "<IPython.core.display.HTML object>"
            ]
          },
          "metadata": {},
          "output_type": "display_data"
        },
        {
          "metadata": {
            "tags": null
          },
          "name": "stdout",
          "output_type": "stream",
          "text": [
            "[784, 32, 32, 32, 32, 10]\n"
          ]
        },
        {
          "metadata": {
            "tags": null
          },
          "name": "stderr",
          "output_type": "stream",
          "text": [
            "<ipython-input-8-867b69375f18>:2: RuntimeWarning: overflow encountered in exp\n",
            "  return 1 /(1 + np.exp(-x))\n"
          ]
        },
        {
          "metadata": {
            "tags": null
          },
          "name": "stdout",
          "output_type": "stream",
          "text": [
            "Epoch 1, Loss: 0.09054650146412269, Validation Loss: 0.09063952083502409\n",
            "Epoch 2, Loss: 0.09093093455390899, Validation Loss: 0.09083552660138965\n",
            "Epoch 3, Loss: 0.09112062074287987, Validation Loss: 0.09105875362737137\n",
            "Epoch 4, Loss: 0.09176632156405565, Validation Loss: 0.09154936697702133\n",
            "Epoch 5, Loss: 0.09068216539074028, Validation Loss: 0.09057870280449795\n",
            "Test accuracy: 0.1\n"
          ]
        },
        {
          "data": {
            "text/html": [],
            "text/plain": [
              "<IPython.core.display.HTML object>"
            ]
          },
          "metadata": {},
          "output_type": "display_data"
        },
        {
          "data": {
            "text/html": [
              "<br>    <style><br>        .wandb-row {<br>            display: flex;<br>            flex-direction: row;<br>            flex-wrap: wrap;<br>            justify-content: flex-start;<br>            width: 100%;<br>        }<br>        .wandb-col {<br>            display: flex;<br>            flex-direction: column;<br>            flex-basis: 100%;<br>            flex: 1;<br>            padding: 10px;<br>        }<br>    </style><br><div class=\"wandb-row\"><div class=\"wandb-col\"><h3>Run history:</h3><br/><table class=\"wandb\"><tr><td>epoch</td><td>▁▃▅▆█</td></tr><tr><td>train_accuracy</td><td>█▄▄▁▁</td></tr><tr><td>train_loss</td><td>▁▃▄█▂</td></tr><tr><td>val_accuracy</td><td>▁▅▅██</td></tr><tr><td>val_loss</td><td>▁▃▄█▁</td></tr></table><br/></div><div class=\"wandb-col\"><h3>Run summary:</h3><br/><table class=\"wandb\"><tr><td>epoch</td><td>5</td></tr><tr><td>train_accuracy</td><td>9.95</td></tr><tr><td>train_loss</td><td>0.09068</td></tr><tr><td>val_accuracy</td><td>10.45</td></tr><tr><td>val_loss</td><td>0.09058</td></tr></table><br/></div></div>"
            ],
            "text/plain": [
              "<IPython.core.display.HTML object>"
            ]
          },
          "metadata": {},
          "output_type": "display_data"
        },
        {
          "data": {
            "text/html": [
              " View run <strong style=\"color:#cdcd00\">ac-sigmoid_hs-32_epc-5_nl-4_lr0.001_wd-0_opt-nag_bs-64_wi-Xavier</strong> at: <a href='https://wandb.ai/bgorai005-iit-madras/deep_learning_assignment_1/runs/udu3mkf2' target=\"_blank\">https://wandb.ai/bgorai005-iit-madras/deep_learning_assignment_1/runs/udu3mkf2</a><br> View project at: <a href='https://wandb.ai/bgorai005-iit-madras/deep_learning_assignment_1' target=\"_blank\">https://wandb.ai/bgorai005-iit-madras/deep_learning_assignment_1</a><br>Synced 5 W&B file(s), 0 media file(s), 0 artifact file(s) and 0 other file(s)"
            ],
            "text/plain": [
              "<IPython.core.display.HTML object>"
            ]
          },
          "metadata": {},
          "output_type": "display_data"
        },
        {
          "data": {
            "text/html": [
              "Find logs at: <code>./wandb/run-20250309_133742-udu3mkf2/logs</code>"
            ],
            "text/plain": [
              "<IPython.core.display.HTML object>"
            ]
          },
          "metadata": {},
          "output_type": "display_data"
        },
        {
          "metadata": {
            "tags": null
          },
          "name": "stderr",
          "output_type": "stream",
          "text": [
            "\u001b[34m\u001b[1mwandb\u001b[0m: Agent Starting Run: x32berst with config:\n",
            "\u001b[34m\u001b[1mwandb\u001b[0m: \tactivation_hidden: tanh\n",
            "\u001b[34m\u001b[1mwandb\u001b[0m: \tactivation_output: softmax\n",
            "\u001b[34m\u001b[1mwandb\u001b[0m: \tbatch_size: 32\n",
            "\u001b[34m\u001b[1mwandb\u001b[0m: \tepochs: 5\n",
            "\u001b[34m\u001b[1mwandb\u001b[0m: \thidden_size: 32\n",
            "\u001b[34m\u001b[1mwandb\u001b[0m: \tlearning_rate: 0.001\n",
            "\u001b[34m\u001b[1mwandb\u001b[0m: \tnum_layers: 4\n",
            "\u001b[34m\u001b[1mwandb\u001b[0m: \toptimizer: sgd\n",
            "\u001b[34m\u001b[1mwandb\u001b[0m: \tweight_decay: 0\n",
            "\u001b[34m\u001b[1mwandb\u001b[0m: \tweight_ini_method: random\n"
          ]
        },
        {
          "data": {
            "text/html": [
              "Tracking run with wandb version 0.19.7"
            ],
            "text/plain": [
              "<IPython.core.display.HTML object>"
            ]
          },
          "metadata": {},
          "output_type": "display_data"
        },
        {
          "data": {
            "text/html": [
              "Run data is saved locally in <code>/content/wandb/run-20250309_133813-x32berst</code>"
            ],
            "text/plain": [
              "<IPython.core.display.HTML object>"
            ]
          },
          "metadata": {},
          "output_type": "display_data"
        },
        {
          "data": {
            "text/html": [
              "Syncing run <strong><a href='https://wandb.ai/bgorai005-iit-madras/deep_learning_assignment_1/runs/x32berst' target=\"_blank\">dauntless-sweep-11</a></strong> to <a href='https://wandb.ai/bgorai005-iit-madras/deep_learning_assignment_1' target=\"_blank\">Weights & Biases</a> (<a href='https://wandb.me/developer-guide' target=\"_blank\">docs</a>)<br>Sweep page: <a href='https://wandb.ai/bgorai005-iit-madras/deep_learning_assignment_1/sweeps/xd33zmtu' target=\"_blank\">https://wandb.ai/bgorai005-iit-madras/deep_learning_assignment_1/sweeps/xd33zmtu</a>"
            ],
            "text/plain": [
              "<IPython.core.display.HTML object>"
            ]
          },
          "metadata": {},
          "output_type": "display_data"
        },
        {
          "data": {
            "text/html": [
              " View project at <a href='https://wandb.ai/bgorai005-iit-madras/deep_learning_assignment_1' target=\"_blank\">https://wandb.ai/bgorai005-iit-madras/deep_learning_assignment_1</a>"
            ],
            "text/plain": [
              "<IPython.core.display.HTML object>"
            ]
          },
          "metadata": {},
          "output_type": "display_data"
        },
        {
          "data": {
            "text/html": [
              " View sweep at <a href='https://wandb.ai/bgorai005-iit-madras/deep_learning_assignment_1/sweeps/xd33zmtu' target=\"_blank\">https://wandb.ai/bgorai005-iit-madras/deep_learning_assignment_1/sweeps/xd33zmtu</a>"
            ],
            "text/plain": [
              "<IPython.core.display.HTML object>"
            ]
          },
          "metadata": {},
          "output_type": "display_data"
        },
        {
          "data": {
            "text/html": [
              " View run at <a href='https://wandb.ai/bgorai005-iit-madras/deep_learning_assignment_1/runs/x32berst' target=\"_blank\">https://wandb.ai/bgorai005-iit-madras/deep_learning_assignment_1/runs/x32berst</a>"
            ],
            "text/plain": [
              "<IPython.core.display.HTML object>"
            ]
          },
          "metadata": {},
          "output_type": "display_data"
        },
        {
          "metadata": {
            "tags": null
          },
          "name": "stdout",
          "output_type": "stream",
          "text": [
            "[784, 32, 32, 32, 32, 10]\n",
            "Epoch 1, Train Loss: 1.0662380432055074, Val Loss: 1.0610921009531378\n",
            "Epoch 2, Train Loss: 0.9335290972303073, Val Loss: 0.9465378574029155\n",
            "Epoch 3, Train Loss: 0.8596796427820141, Val Loss: 0.8851494663452706\n",
            "Epoch 4, Train Loss: 0.8196811827482754, Val Loss: 0.8388301586414227\n",
            "Epoch 5, Train Loss: 0.7807570267977839, Val Loss: 0.8122945183861003\n",
            "Test Accuracy: 70.55\n"
          ]
        },
        {
          "data": {
            "text/html": [],
            "text/plain": [
              "<IPython.core.display.HTML object>"
            ]
          },
          "metadata": {},
          "output_type": "display_data"
        },
        {
          "data": {
            "text/html": [
              " View run <strong style=\"color:#cdcd00\">ac-tanh_hs-32_epc-5_nl-4_lr0.001_wd-0_opt-sgd_bs-32_wi-random</strong> at: <a href='https://wandb.ai/bgorai005-iit-madras/deep_learning_assignment_1/runs/x32berst' target=\"_blank\">https://wandb.ai/bgorai005-iit-madras/deep_learning_assignment_1/runs/x32berst</a><br> View project at: <a href='https://wandb.ai/bgorai005-iit-madras/deep_learning_assignment_1' target=\"_blank\">https://wandb.ai/bgorai005-iit-madras/deep_learning_assignment_1</a><br>Synced 5 W&B file(s), 0 media file(s), 0 artifact file(s) and 0 other file(s)"
            ],
            "text/plain": [
              "<IPython.core.display.HTML object>"
            ]
          },
          "metadata": {},
          "output_type": "display_data"
        },
        {
          "data": {
            "text/html": [
              "Find logs at: <code>./wandb/run-20250309_133813-x32berst/logs</code>"
            ],
            "text/plain": [
              "<IPython.core.display.HTML object>"
            ]
          },
          "metadata": {},
          "output_type": "display_data"
        },
        {
          "metadata": {
            "tags": null
          },
          "name": "stderr",
          "output_type": "stream",
          "text": [
            "\u001b[34m\u001b[1mwandb\u001b[0m: Agent Starting Run: e1l4w2jf with config:\n",
            "\u001b[34m\u001b[1mwandb\u001b[0m: \tactivation_hidden: tanh\n",
            "\u001b[34m\u001b[1mwandb\u001b[0m: \tactivation_output: softmax\n",
            "\u001b[34m\u001b[1mwandb\u001b[0m: \tbatch_size: 16\n",
            "\u001b[34m\u001b[1mwandb\u001b[0m: \tepochs: 10\n",
            "\u001b[34m\u001b[1mwandb\u001b[0m: \thidden_size: 64\n",
            "\u001b[34m\u001b[1mwandb\u001b[0m: \tlearning_rate: 0.001\n",
            "\u001b[34m\u001b[1mwandb\u001b[0m: \tnum_layers: 4\n",
            "\u001b[34m\u001b[1mwandb\u001b[0m: \toptimizer: adam\n",
            "\u001b[34m\u001b[1mwandb\u001b[0m: \tweight_decay: 0\n",
            "\u001b[34m\u001b[1mwandb\u001b[0m: \tweight_ini_method: random\n"
          ]
        },
        {
          "data": {
            "text/html": [
              "Tracking run with wandb version 0.19.7"
            ],
            "text/plain": [
              "<IPython.core.display.HTML object>"
            ]
          },
          "metadata": {},
          "output_type": "display_data"
        },
        {
          "data": {
            "text/html": [
              "Run data is saved locally in <code>/content/wandb/run-20250309_133849-e1l4w2jf</code>"
            ],
            "text/plain": [
              "<IPython.core.display.HTML object>"
            ]
          },
          "metadata": {},
          "output_type": "display_data"
        },
        {
          "data": {
            "text/html": [
              "Syncing run <strong><a href='https://wandb.ai/bgorai005-iit-madras/deep_learning_assignment_1/runs/e1l4w2jf' target=\"_blank\">charmed-sweep-12</a></strong> to <a href='https://wandb.ai/bgorai005-iit-madras/deep_learning_assignment_1' target=\"_blank\">Weights & Biases</a> (<a href='https://wandb.me/developer-guide' target=\"_blank\">docs</a>)<br>Sweep page: <a href='https://wandb.ai/bgorai005-iit-madras/deep_learning_assignment_1/sweeps/xd33zmtu' target=\"_blank\">https://wandb.ai/bgorai005-iit-madras/deep_learning_assignment_1/sweeps/xd33zmtu</a>"
            ],
            "text/plain": [
              "<IPython.core.display.HTML object>"
            ]
          },
          "metadata": {},
          "output_type": "display_data"
        },
        {
          "data": {
            "text/html": [
              " View project at <a href='https://wandb.ai/bgorai005-iit-madras/deep_learning_assignment_1' target=\"_blank\">https://wandb.ai/bgorai005-iit-madras/deep_learning_assignment_1</a>"
            ],
            "text/plain": [
              "<IPython.core.display.HTML object>"
            ]
          },
          "metadata": {},
          "output_type": "display_data"
        },
        {
          "data": {
            "text/html": [
              " View sweep at <a href='https://wandb.ai/bgorai005-iit-madras/deep_learning_assignment_1/sweeps/xd33zmtu' target=\"_blank\">https://wandb.ai/bgorai005-iit-madras/deep_learning_assignment_1/sweeps/xd33zmtu</a>"
            ],
            "text/plain": [
              "<IPython.core.display.HTML object>"
            ]
          },
          "metadata": {},
          "output_type": "display_data"
        },
        {
          "data": {
            "text/html": [
              " View run at <a href='https://wandb.ai/bgorai005-iit-madras/deep_learning_assignment_1/runs/e1l4w2jf' target=\"_blank\">https://wandb.ai/bgorai005-iit-madras/deep_learning_assignment_1/runs/e1l4w2jf</a>"
            ],
            "text/plain": [
              "<IPython.core.display.HTML object>"
            ]
          },
          "metadata": {},
          "output_type": "display_data"
        },
        {
          "metadata": {
            "tags": null
          },
          "name": "stdout",
          "output_type": "stream",
          "text": [
            "[784, 64, 64, 64, 64, 10]\n",
            "Epoch 1, Train Loss: 1.1057291491341645, Val Loss: 1.1258496879926396\n",
            "Epoch 2, Train Loss: 0.8644305771052195, Val Loss: 0.894012293043637\n",
            "Epoch 3, Train Loss: 0.775580280401691, Val Loss: 0.8047184545264578\n",
            "Epoch 4, Train Loss: 0.7277044259314556, Val Loss: 0.7574065710688189\n",
            "Epoch 5, Train Loss: 0.6694112667737574, Val Loss: 0.6977561067599205\n",
            "Epoch 6, Train Loss: 0.6521862461942454, Val Loss: 0.6727456691291384\n",
            "Epoch 7, Train Loss: 0.625931607781181, Val Loss: 0.6721430473380073\n",
            "Epoch 8, Train Loss: 0.607056151327304, Val Loss: 0.640216904376438\n",
            "Epoch 9, Train Loss: 0.5874094447459529, Val Loss: 0.6289760279048963\n",
            "Epoch 10, Train Loss: 0.5709461527693627, Val Loss: 0.6045742904403903\n",
            "Test accuracy: 0.7798\n"
          ]
        },
        {
          "data": {
            "text/html": [],
            "text/plain": [
              "<IPython.core.display.HTML object>"
            ]
          },
          "metadata": {},
          "output_type": "display_data"
        },
        {
          "data": {
            "text/html": [
              "<br>    <style><br>        .wandb-row {<br>            display: flex;<br>            flex-direction: row;<br>            flex-wrap: wrap;<br>            justify-content: flex-start;<br>            width: 100%;<br>        }<br>        .wandb-col {<br>            display: flex;<br>            flex-direction: column;<br>            flex-basis: 100%;<br>            flex: 1;<br>            padding: 10px;<br>        }<br>    </style><br><div class=\"wandb-row\"><div class=\"wandb-col\"><h3>Run history:</h3><br/><table class=\"wandb\"><tr><td>epoch</td><td>▁▂▃▃▄▅▆▆▇█</td></tr><tr><td>train_accuracy</td><td>▁▃▅▅▆▇▇███</td></tr><tr><td>train_loss</td><td>█▅▄▃▂▂▂▁▁▁</td></tr><tr><td>val_accuracy</td><td>▁▃▅▅▆▇▇▇▇█</td></tr><tr><td>val_loss</td><td>█▅▄▃▂▂▂▁▁▁</td></tr></table><br/></div><div class=\"wandb-col\"><h3>Run summary:</h3><br/><table class=\"wandb\"><tr><td>epoch</td><td>10</td></tr><tr><td>train_accuracy</td><td>79.80741</td></tr><tr><td>train_loss</td><td>0.57095</td></tr><tr><td>val_accuracy</td><td>79.1</td></tr><tr><td>val_loss</td><td>0.60457</td></tr></table><br/></div></div>"
            ],
            "text/plain": [
              "<IPython.core.display.HTML object>"
            ]
          },
          "metadata": {},
          "output_type": "display_data"
        },
        {
          "data": {
            "text/html": [
              " View run <strong style=\"color:#cdcd00\">ac-tanh_hs-64_epc-10_nl-4_lr0.001_wd-0_opt-adam_bs-16_wi-random</strong> at: <a href='https://wandb.ai/bgorai005-iit-madras/deep_learning_assignment_1/runs/e1l4w2jf' target=\"_blank\">https://wandb.ai/bgorai005-iit-madras/deep_learning_assignment_1/runs/e1l4w2jf</a><br> View project at: <a href='https://wandb.ai/bgorai005-iit-madras/deep_learning_assignment_1' target=\"_blank\">https://wandb.ai/bgorai005-iit-madras/deep_learning_assignment_1</a><br>Synced 5 W&B file(s), 0 media file(s), 0 artifact file(s) and 0 other file(s)"
            ],
            "text/plain": [
              "<IPython.core.display.HTML object>"
            ]
          },
          "metadata": {},
          "output_type": "display_data"
        },
        {
          "data": {
            "text/html": [
              "Find logs at: <code>./wandb/run-20250309_133849-e1l4w2jf/logs</code>"
            ],
            "text/plain": [
              "<IPython.core.display.HTML object>"
            ]
          },
          "metadata": {},
          "output_type": "display_data"
        },
        {
          "metadata": {
            "tags": null
          },
          "name": "stderr",
          "output_type": "stream",
          "text": [
            "\u001b[34m\u001b[1mwandb\u001b[0m: Agent Starting Run: onlr3k70 with config:\n",
            "\u001b[34m\u001b[1mwandb\u001b[0m: \tactivation_hidden: relu\n",
            "\u001b[34m\u001b[1mwandb\u001b[0m: \tactivation_output: softmax\n",
            "\u001b[34m\u001b[1mwandb\u001b[0m: \tbatch_size: 16\n",
            "\u001b[34m\u001b[1mwandb\u001b[0m: \tepochs: 10\n",
            "\u001b[34m\u001b[1mwandb\u001b[0m: \thidden_size: 128\n",
            "\u001b[34m\u001b[1mwandb\u001b[0m: \tlearning_rate: 0.001\n",
            "\u001b[34m\u001b[1mwandb\u001b[0m: \tnum_layers: 4\n",
            "\u001b[34m\u001b[1mwandb\u001b[0m: \toptimizer: RMSprop\n",
            "\u001b[34m\u001b[1mwandb\u001b[0m: \tweight_decay: 0\n",
            "\u001b[34m\u001b[1mwandb\u001b[0m: \tweight_ini_method: Xavier\n"
          ]
        },
        {
          "data": {
            "text/html": [
              "Tracking run with wandb version 0.19.7"
            ],
            "text/plain": [
              "<IPython.core.display.HTML object>"
            ]
          },
          "metadata": {},
          "output_type": "display_data"
        },
        {
          "data": {
            "text/html": [
              "Run data is saved locally in <code>/content/wandb/run-20250309_134210-onlr3k70</code>"
            ],
            "text/plain": [
              "<IPython.core.display.HTML object>"
            ]
          },
          "metadata": {},
          "output_type": "display_data"
        },
        {
          "data": {
            "text/html": [
              "Syncing run <strong><a href='https://wandb.ai/bgorai005-iit-madras/deep_learning_assignment_1/runs/onlr3k70' target=\"_blank\">visionary-sweep-13</a></strong> to <a href='https://wandb.ai/bgorai005-iit-madras/deep_learning_assignment_1' target=\"_blank\">Weights & Biases</a> (<a href='https://wandb.me/developer-guide' target=\"_blank\">docs</a>)<br>Sweep page: <a href='https://wandb.ai/bgorai005-iit-madras/deep_learning_assignment_1/sweeps/xd33zmtu' target=\"_blank\">https://wandb.ai/bgorai005-iit-madras/deep_learning_assignment_1/sweeps/xd33zmtu</a>"
            ],
            "text/plain": [
              "<IPython.core.display.HTML object>"
            ]
          },
          "metadata": {},
          "output_type": "display_data"
        },
        {
          "data": {
            "text/html": [
              " View project at <a href='https://wandb.ai/bgorai005-iit-madras/deep_learning_assignment_1' target=\"_blank\">https://wandb.ai/bgorai005-iit-madras/deep_learning_assignment_1</a>"
            ],
            "text/plain": [
              "<IPython.core.display.HTML object>"
            ]
          },
          "metadata": {},
          "output_type": "display_data"
        },
        {
          "data": {
            "text/html": [
              " View sweep at <a href='https://wandb.ai/bgorai005-iit-madras/deep_learning_assignment_1/sweeps/xd33zmtu' target=\"_blank\">https://wandb.ai/bgorai005-iit-madras/deep_learning_assignment_1/sweeps/xd33zmtu</a>"
            ],
            "text/plain": [
              "<IPython.core.display.HTML object>"
            ]
          },
          "metadata": {},
          "output_type": "display_data"
        },
        {
          "data": {
            "text/html": [
              " View run at <a href='https://wandb.ai/bgorai005-iit-madras/deep_learning_assignment_1/runs/onlr3k70' target=\"_blank\">https://wandb.ai/bgorai005-iit-madras/deep_learning_assignment_1/runs/onlr3k70</a>"
            ],
            "text/plain": [
              "<IPython.core.display.HTML object>"
            ]
          },
          "metadata": {},
          "output_type": "display_data"
        },
        {
          "metadata": {
            "tags": null
          },
          "name": "stdout",
          "output_type": "stream",
          "text": [
            "[784, 128, 128, 128, 128, 10]\n",
            "Epoch 1, Loss: 13.684830078788252, Validation Loss: 0.4783642316457837\n",
            "Epoch 2, Loss: 14.767307087957521, Validation Loss: 0.45571140780558966\n",
            "Epoch 3, Loss: 18.955866810746738, Validation Loss: 0.4868938744924542\n",
            "Epoch 4, Loss: 19.814146642410318, Validation Loss: 0.6760861553736437\n",
            "Epoch 5, Loss: 19.423627836464195, Validation Loss: 0.6044070309589625\n",
            "Epoch 6, Loss: 21.506033865371744, Validation Loss: 0.6097773225437121\n",
            "Epoch 7, Loss: 20.940117860818244, Validation Loss: 0.5016309031038033\n",
            "Epoch 8, Loss: 19.27183457007979, Validation Loss: 0.7114184539769514\n",
            "Epoch 9, Loss: 21.343242420065422, Validation Loss: 0.7064010919251184\n",
            "Epoch 10, Loss: 19.790297183477623, Validation Loss: 0.6304972820854948\n",
            "Test accuracy: 0.7854\n"
          ]
        },
        {
          "data": {
            "text/html": [],
            "text/plain": [
              "<IPython.core.display.HTML object>"
            ]
          },
          "metadata": {},
          "output_type": "display_data"
        },
        {
          "data": {
            "text/html": [
              "<br>    <style><br>        .wandb-row {<br>            display: flex;<br>            flex-direction: row;<br>            flex-wrap: wrap;<br>            justify-content: flex-start;<br>            width: 100%;<br>        }<br>        .wandb-col {<br>            display: flex;<br>            flex-direction: column;<br>            flex-basis: 100%;<br>            flex: 1;<br>            padding: 10px;<br>        }<br>    </style><br><div class=\"wandb-row\"><div class=\"wandb-col\"><h3>Run history:</h3><br/><table class=\"wandb\"><tr><td>epoch</td><td>▁▂▃▃▄▅▆▆▇█</td></tr><tr><td>train_accuracy</td><td>▄▇█▅▃▆█▁▅▁</td></tr><tr><td>train_loss</td><td>▁▂▆▆▆█▇▆█▆</td></tr><tr><td>val_accuracy</td><td>▅▇█▆▄▅█▁▅▁</td></tr><tr><td>val_loss</td><td>▂▁▂▇▅▅▂██▆</td></tr></table><br/></div><div class=\"wandb-col\"><h3>Run summary:</h3><br/><table class=\"wandb\"><tr><td>epoch</td><td>10</td></tr><tr><td>train_accuracy</td><td>80.11667</td></tr><tr><td>train_loss</td><td>19.7903</td></tr><tr><td>val_accuracy</td><td>78.96667</td></tr><tr><td>val_loss</td><td>0.6305</td></tr></table><br/></div></div>"
            ],
            "text/plain": [
              "<IPython.core.display.HTML object>"
            ]
          },
          "metadata": {},
          "output_type": "display_data"
        },
        {
          "data": {
            "text/html": [
              " View run <strong style=\"color:#cdcd00\">ac-relu_hs-128_epc-10_nl-4_lr0.001_wd-0_opt-RMSprop_bs-16_wi-Xavier</strong> at: <a href='https://wandb.ai/bgorai005-iit-madras/deep_learning_assignment_1/runs/onlr3k70' target=\"_blank\">https://wandb.ai/bgorai005-iit-madras/deep_learning_assignment_1/runs/onlr3k70</a><br> View project at: <a href='https://wandb.ai/bgorai005-iit-madras/deep_learning_assignment_1' target=\"_blank\">https://wandb.ai/bgorai005-iit-madras/deep_learning_assignment_1</a><br>Synced 5 W&B file(s), 0 media file(s), 0 artifact file(s) and 0 other file(s)"
            ],
            "text/plain": [
              "<IPython.core.display.HTML object>"
            ]
          },
          "metadata": {},
          "output_type": "display_data"
        },
        {
          "data": {
            "text/html": [
              "Find logs at: <code>./wandb/run-20250309_134210-onlr3k70/logs</code>"
            ],
            "text/plain": [
              "<IPython.core.display.HTML object>"
            ]
          },
          "metadata": {},
          "output_type": "display_data"
        },
        {
          "metadata": {
            "tags": null
          },
          "name": "stderr",
          "output_type": "stream",
          "text": [
            "\u001b[34m\u001b[1mwandb\u001b[0m: Agent Starting Run: ks05kiz6 with config:\n",
            "\u001b[34m\u001b[1mwandb\u001b[0m: \tactivation_hidden: tanh\n",
            "\u001b[34m\u001b[1mwandb\u001b[0m: \tactivation_output: softmax\n",
            "\u001b[34m\u001b[1mwandb\u001b[0m: \tbatch_size: 32\n",
            "\u001b[34m\u001b[1mwandb\u001b[0m: \tepochs: 5\n",
            "\u001b[34m\u001b[1mwandb\u001b[0m: \thidden_size: 64\n",
            "\u001b[34m\u001b[1mwandb\u001b[0m: \tlearning_rate: 0.001\n",
            "\u001b[34m\u001b[1mwandb\u001b[0m: \tnum_layers: 4\n",
            "\u001b[34m\u001b[1mwandb\u001b[0m: \toptimizer: adam\n",
            "\u001b[34m\u001b[1mwandb\u001b[0m: \tweight_decay: 0\n",
            "\u001b[34m\u001b[1mwandb\u001b[0m: \tweight_ini_method: random\n"
          ]
        },
        {
          "data": {
            "text/html": [
              "Tracking run with wandb version 0.19.7"
            ],
            "text/plain": [
              "<IPython.core.display.HTML object>"
            ]
          },
          "metadata": {},
          "output_type": "display_data"
        },
        {
          "data": {
            "text/html": [
              "Run data is saved locally in <code>/content/wandb/run-20250309_134715-ks05kiz6</code>"
            ],
            "text/plain": [
              "<IPython.core.display.HTML object>"
            ]
          },
          "metadata": {},
          "output_type": "display_data"
        },
        {
          "data": {
            "text/html": [
              "Syncing run <strong><a href='https://wandb.ai/bgorai005-iit-madras/deep_learning_assignment_1/runs/ks05kiz6' target=\"_blank\">driven-sweep-14</a></strong> to <a href='https://wandb.ai/bgorai005-iit-madras/deep_learning_assignment_1' target=\"_blank\">Weights & Biases</a> (<a href='https://wandb.me/developer-guide' target=\"_blank\">docs</a>)<br>Sweep page: <a href='https://wandb.ai/bgorai005-iit-madras/deep_learning_assignment_1/sweeps/xd33zmtu' target=\"_blank\">https://wandb.ai/bgorai005-iit-madras/deep_learning_assignment_1/sweeps/xd33zmtu</a>"
            ],
            "text/plain": [
              "<IPython.core.display.HTML object>"
            ]
          },
          "metadata": {},
          "output_type": "display_data"
        },
        {
          "data": {
            "text/html": [
              " View project at <a href='https://wandb.ai/bgorai005-iit-madras/deep_learning_assignment_1' target=\"_blank\">https://wandb.ai/bgorai005-iit-madras/deep_learning_assignment_1</a>"
            ],
            "text/plain": [
              "<IPython.core.display.HTML object>"
            ]
          },
          "metadata": {},
          "output_type": "display_data"
        },
        {
          "data": {
            "text/html": [
              " View sweep at <a href='https://wandb.ai/bgorai005-iit-madras/deep_learning_assignment_1/sweeps/xd33zmtu' target=\"_blank\">https://wandb.ai/bgorai005-iit-madras/deep_learning_assignment_1/sweeps/xd33zmtu</a>"
            ],
            "text/plain": [
              "<IPython.core.display.HTML object>"
            ]
          },
          "metadata": {},
          "output_type": "display_data"
        },
        {
          "data": {
            "text/html": [
              " View run at <a href='https://wandb.ai/bgorai005-iit-madras/deep_learning_assignment_1/runs/ks05kiz6' target=\"_blank\">https://wandb.ai/bgorai005-iit-madras/deep_learning_assignment_1/runs/ks05kiz6</a>"
            ],
            "text/plain": [
              "<IPython.core.display.HTML object>"
            ]
          },
          "metadata": {},
          "output_type": "display_data"
        },
        {
          "metadata": {
            "tags": null
          },
          "name": "stdout",
          "output_type": "stream",
          "text": [
            "[784, 64, 64, 64, 64, 10]\n",
            "Epoch 1, Train Loss: 1.5428300629494345, Val Loss: 1.5815886297944355\n",
            "Epoch 2, Train Loss: 1.0609116849514788, Val Loss: 1.0682678657861\n",
            "Epoch 3, Train Loss: 0.9102291457522936, Val Loss: 0.9516678780278531\n",
            "Epoch 4, Train Loss: 0.8245475197854111, Val Loss: 0.8647280342064613\n",
            "Epoch 5, Train Loss: 0.7737831652937539, Val Loss: 0.8163563870919418\n",
            "Test accuracy: 0.7075\n"
          ]
        },
        {
          "data": {
            "text/html": [],
            "text/plain": [
              "<IPython.core.display.HTML object>"
            ]
          },
          "metadata": {},
          "output_type": "display_data"
        },
        {
          "data": {
            "text/html": [
              "<br>    <style><br>        .wandb-row {<br>            display: flex;<br>            flex-direction: row;<br>            flex-wrap: wrap;<br>            justify-content: flex-start;<br>            width: 100%;<br>        }<br>        .wandb-col {<br>            display: flex;<br>            flex-direction: column;<br>            flex-basis: 100%;<br>            flex: 1;<br>            padding: 10px;<br>        }<br>    </style><br><div class=\"wandb-row\"><div class=\"wandb-col\"><h3>Run history:</h3><br/><table class=\"wandb\"><tr><td>epoch</td><td>▁▃▅▆█</td></tr><tr><td>train_accuracy</td><td>▁▅▆▇█</td></tr><tr><td>train_loss</td><td>█▄▂▁▁</td></tr><tr><td>val_accuracy</td><td>▁▅▆▇█</td></tr><tr><td>val_loss</td><td>█▃▂▁▁</td></tr></table><br/></div><div class=\"wandb-col\"><h3>Run summary:</h3><br/><table class=\"wandb\"><tr><td>epoch</td><td>5</td></tr><tr><td>train_accuracy</td><td>71.72593</td></tr><tr><td>train_loss</td><td>0.77378</td></tr><tr><td>val_accuracy</td><td>71</td></tr><tr><td>val_loss</td><td>0.81636</td></tr></table><br/></div></div>"
            ],
            "text/plain": [
              "<IPython.core.display.HTML object>"
            ]
          },
          "metadata": {},
          "output_type": "display_data"
        },
        {
          "data": {
            "text/html": [
              " View run <strong style=\"color:#cdcd00\">ac-tanh_hs-64_epc-5_nl-4_lr0.001_wd-0_opt-adam_bs-32_wi-random</strong> at: <a href='https://wandb.ai/bgorai005-iit-madras/deep_learning_assignment_1/runs/ks05kiz6' target=\"_blank\">https://wandb.ai/bgorai005-iit-madras/deep_learning_assignment_1/runs/ks05kiz6</a><br> View project at: <a href='https://wandb.ai/bgorai005-iit-madras/deep_learning_assignment_1' target=\"_blank\">https://wandb.ai/bgorai005-iit-madras/deep_learning_assignment_1</a><br>Synced 5 W&B file(s), 0 media file(s), 0 artifact file(s) and 0 other file(s)"
            ],
            "text/plain": [
              "<IPython.core.display.HTML object>"
            ]
          },
          "metadata": {},
          "output_type": "display_data"
        },
        {
          "data": {
            "text/html": [
              "Find logs at: <code>./wandb/run-20250309_134715-ks05kiz6/logs</code>"
            ],
            "text/plain": [
              "<IPython.core.display.HTML object>"
            ]
          },
          "metadata": {},
          "output_type": "display_data"
        },
        {
          "metadata": {
            "tags": null
          },
          "name": "stderr",
          "output_type": "stream",
          "text": [
            "\u001b[34m\u001b[1mwandb\u001b[0m: Agent Starting Run: 04a4kdyl with config:\n",
            "\u001b[34m\u001b[1mwandb\u001b[0m: \tactivation_hidden: relu\n",
            "\u001b[34m\u001b[1mwandb\u001b[0m: \tactivation_output: softmax\n",
            "\u001b[34m\u001b[1mwandb\u001b[0m: \tbatch_size: 16\n",
            "\u001b[34m\u001b[1mwandb\u001b[0m: \tepochs: 5\n",
            "\u001b[34m\u001b[1mwandb\u001b[0m: \thidden_size: 128\n",
            "\u001b[34m\u001b[1mwandb\u001b[0m: \tlearning_rate: 0.0001\n",
            "\u001b[34m\u001b[1mwandb\u001b[0m: \tnum_layers: 5\n",
            "\u001b[34m\u001b[1mwandb\u001b[0m: \toptimizer: adam\n",
            "\u001b[34m\u001b[1mwandb\u001b[0m: \tweight_decay: 0\n",
            "\u001b[34m\u001b[1mwandb\u001b[0m: \tweight_ini_method: random\n"
          ]
        },
        {
          "data": {
            "text/html": [
              "Tracking run with wandb version 0.19.7"
            ],
            "text/plain": [
              "<IPython.core.display.HTML object>"
            ]
          },
          "metadata": {},
          "output_type": "display_data"
        },
        {
          "data": {
            "text/html": [
              "Run data is saved locally in <code>/content/wandb/run-20250309_134917-04a4kdyl</code>"
            ],
            "text/plain": [
              "<IPython.core.display.HTML object>"
            ]
          },
          "metadata": {},
          "output_type": "display_data"
        },
        {
          "data": {
            "text/html": [
              "Syncing run <strong><a href='https://wandb.ai/bgorai005-iit-madras/deep_learning_assignment_1/runs/04a4kdyl' target=\"_blank\">hardy-sweep-15</a></strong> to <a href='https://wandb.ai/bgorai005-iit-madras/deep_learning_assignment_1' target=\"_blank\">Weights & Biases</a> (<a href='https://wandb.me/developer-guide' target=\"_blank\">docs</a>)<br>Sweep page: <a href='https://wandb.ai/bgorai005-iit-madras/deep_learning_assignment_1/sweeps/xd33zmtu' target=\"_blank\">https://wandb.ai/bgorai005-iit-madras/deep_learning_assignment_1/sweeps/xd33zmtu</a>"
            ],
            "text/plain": [
              "<IPython.core.display.HTML object>"
            ]
          },
          "metadata": {},
          "output_type": "display_data"
        },
        {
          "data": {
            "text/html": [
              " View project at <a href='https://wandb.ai/bgorai005-iit-madras/deep_learning_assignment_1' target=\"_blank\">https://wandb.ai/bgorai005-iit-madras/deep_learning_assignment_1</a>"
            ],
            "text/plain": [
              "<IPython.core.display.HTML object>"
            ]
          },
          "metadata": {},
          "output_type": "display_data"
        },
        {
          "data": {
            "text/html": [
              " View sweep at <a href='https://wandb.ai/bgorai005-iit-madras/deep_learning_assignment_1/sweeps/xd33zmtu' target=\"_blank\">https://wandb.ai/bgorai005-iit-madras/deep_learning_assignment_1/sweeps/xd33zmtu</a>"
            ],
            "text/plain": [
              "<IPython.core.display.HTML object>"
            ]
          },
          "metadata": {},
          "output_type": "display_data"
        },
        {
          "data": {
            "text/html": [
              " View run at <a href='https://wandb.ai/bgorai005-iit-madras/deep_learning_assignment_1/runs/04a4kdyl' target=\"_blank\">https://wandb.ai/bgorai005-iit-madras/deep_learning_assignment_1/runs/04a4kdyl</a>"
            ],
            "text/plain": [
              "<IPython.core.display.HTML object>"
            ]
          },
          "metadata": {},
          "output_type": "display_data"
        },
        {
          "metadata": {
            "tags": null
          },
          "name": "stdout",
          "output_type": "stream",
          "text": [
            "[784, 128, 128, 128, 128, 128, 10]\n",
            "Epoch 1, Train Loss: 10.87375330841626, Val Loss: 11.274245559341296\n",
            "Epoch 2, Train Loss: 9.716286670717293, Val Loss: 10.085322707313919\n",
            "Epoch 3, Train Loss: 9.201674814149401, Val Loss: 9.667025385686973\n",
            "Epoch 4, Train Loss: 8.911416827130942, Val Loss: 9.408654188878842\n",
            "Epoch 5, Train Loss: 8.54624016946789, Val Loss: 9.064465248394301\n",
            "Test accuracy: 0.731\n"
          ]
        },
        {
          "data": {
            "text/html": [],
            "text/plain": [
              "<IPython.core.display.HTML object>"
            ]
          },
          "metadata": {},
          "output_type": "display_data"
        },
        {
          "data": {
            "text/html": [
              "<br>    <style><br>        .wandb-row {<br>            display: flex;<br>            flex-direction: row;<br>            flex-wrap: wrap;<br>            justify-content: flex-start;<br>            width: 100%;<br>        }<br>        .wandb-col {<br>            display: flex;<br>            flex-direction: column;<br>            flex-basis: 100%;<br>            flex: 1;<br>            padding: 10px;<br>        }<br>    </style><br><div class=\"wandb-row\"><div class=\"wandb-col\"><h3>Run history:</h3><br/><table class=\"wandb\"><tr><td>epoch</td><td>▁▃▅▆█</td></tr><tr><td>train_accuracy</td><td>▁▄▆▇█</td></tr><tr><td>train_loss</td><td>█▅▃▂▁</td></tr><tr><td>val_accuracy</td><td>▁▅▆▇█</td></tr><tr><td>val_loss</td><td>█▄▃▂▁</td></tr></table><br/></div><div class=\"wandb-col\"><h3>Run summary:</h3><br/><table class=\"wandb\"><tr><td>epoch</td><td>5</td></tr><tr><td>train_accuracy</td><td>75.23889</td></tr><tr><td>train_loss</td><td>8.54624</td></tr><tr><td>val_accuracy</td><td>73.73333</td></tr><tr><td>val_loss</td><td>9.06447</td></tr></table><br/></div></div>"
            ],
            "text/plain": [
              "<IPython.core.display.HTML object>"
            ]
          },
          "metadata": {},
          "output_type": "display_data"
        },
        {
          "data": {
            "text/html": [
              " View run <strong style=\"color:#cdcd00\">ac-relu_hs-128_epc-5_nl-5_lr0.0001_wd-0_opt-adam_bs-16_wi-random</strong> at: <a href='https://wandb.ai/bgorai005-iit-madras/deep_learning_assignment_1/runs/04a4kdyl' target=\"_blank\">https://wandb.ai/bgorai005-iit-madras/deep_learning_assignment_1/runs/04a4kdyl</a><br> View project at: <a href='https://wandb.ai/bgorai005-iit-madras/deep_learning_assignment_1' target=\"_blank\">https://wandb.ai/bgorai005-iit-madras/deep_learning_assignment_1</a><br>Synced 5 W&B file(s), 0 media file(s), 0 artifact file(s) and 0 other file(s)"
            ],
            "text/plain": [
              "<IPython.core.display.HTML object>"
            ]
          },
          "metadata": {},
          "output_type": "display_data"
        },
        {
          "data": {
            "text/html": [
              "Find logs at: <code>./wandb/run-20250309_134917-04a4kdyl/logs</code>"
            ],
            "text/plain": [
              "<IPython.core.display.HTML object>"
            ]
          },
          "metadata": {},
          "output_type": "display_data"
        },
        {
          "metadata": {
            "tags": null
          },
          "name": "stderr",
          "output_type": "stream",
          "text": [
            "\u001b[34m\u001b[1mwandb\u001b[0m: Agent Starting Run: xerav6vm with config:\n",
            "\u001b[34m\u001b[1mwandb\u001b[0m: \tactivation_hidden: tanh\n",
            "\u001b[34m\u001b[1mwandb\u001b[0m: \tactivation_output: softmax\n",
            "\u001b[34m\u001b[1mwandb\u001b[0m: \tbatch_size: 64\n",
            "\u001b[34m\u001b[1mwandb\u001b[0m: \tepochs: 5\n",
            "\u001b[34m\u001b[1mwandb\u001b[0m: \thidden_size: 64\n",
            "\u001b[34m\u001b[1mwandb\u001b[0m: \tlearning_rate: 0.001\n",
            "\u001b[34m\u001b[1mwandb\u001b[0m: \tnum_layers: 3\n",
            "\u001b[34m\u001b[1mwandb\u001b[0m: \toptimizer: nadam\n",
            "\u001b[34m\u001b[1mwandb\u001b[0m: \tweight_decay: 0\n",
            "\u001b[34m\u001b[1mwandb\u001b[0m: \tweight_ini_method: random\n"
          ]
        },
        {
          "data": {
            "text/html": [
              "Tracking run with wandb version 0.19.7"
            ],
            "text/plain": [
              "<IPython.core.display.HTML object>"
            ]
          },
          "metadata": {},
          "output_type": "display_data"
        },
        {
          "data": {
            "text/html": [
              "Run data is saved locally in <code>/content/wandb/run-20250309_135349-xerav6vm</code>"
            ],
            "text/plain": [
              "<IPython.core.display.HTML object>"
            ]
          },
          "metadata": {},
          "output_type": "display_data"
        },
        {
          "data": {
            "text/html": [
              "Syncing run <strong><a href='https://wandb.ai/bgorai005-iit-madras/deep_learning_assignment_1/runs/xerav6vm' target=\"_blank\">blooming-sweep-16</a></strong> to <a href='https://wandb.ai/bgorai005-iit-madras/deep_learning_assignment_1' target=\"_blank\">Weights & Biases</a> (<a href='https://wandb.me/developer-guide' target=\"_blank\">docs</a>)<br>Sweep page: <a href='https://wandb.ai/bgorai005-iit-madras/deep_learning_assignment_1/sweeps/xd33zmtu' target=\"_blank\">https://wandb.ai/bgorai005-iit-madras/deep_learning_assignment_1/sweeps/xd33zmtu</a>"
            ],
            "text/plain": [
              "<IPython.core.display.HTML object>"
            ]
          },
          "metadata": {},
          "output_type": "display_data"
        },
        {
          "data": {
            "text/html": [
              " View project at <a href='https://wandb.ai/bgorai005-iit-madras/deep_learning_assignment_1' target=\"_blank\">https://wandb.ai/bgorai005-iit-madras/deep_learning_assignment_1</a>"
            ],
            "text/plain": [
              "<IPython.core.display.HTML object>"
            ]
          },
          "metadata": {},
          "output_type": "display_data"
        },
        {
          "data": {
            "text/html": [
              " View sweep at <a href='https://wandb.ai/bgorai005-iit-madras/deep_learning_assignment_1/sweeps/xd33zmtu' target=\"_blank\">https://wandb.ai/bgorai005-iit-madras/deep_learning_assignment_1/sweeps/xd33zmtu</a>"
            ],
            "text/plain": [
              "<IPython.core.display.HTML object>"
            ]
          },
          "metadata": {},
          "output_type": "display_data"
        },
        {
          "data": {
            "text/html": [
              " View run at <a href='https://wandb.ai/bgorai005-iit-madras/deep_learning_assignment_1/runs/xerav6vm' target=\"_blank\">https://wandb.ai/bgorai005-iit-madras/deep_learning_assignment_1/runs/xerav6vm</a>"
            ],
            "text/plain": [
              "<IPython.core.display.HTML object>"
            ]
          },
          "metadata": {},
          "output_type": "display_data"
        },
        {
          "metadata": {
            "tags": null
          },
          "name": "stdout",
          "output_type": "stream",
          "text": [
            "[784, 64, 64, 64, 10]\n",
            "Epoch 1, Loss: 8.139422584573405, Validation Loss: 1.3760334746559209\n",
            "Epoch 2, Loss: 8.437806040417497, Validation Loss: 1.015753063794753\n",
            "Epoch 3, Loss: 8.565327560041938, Validation Loss: 0.8990584569256225\n",
            "Epoch 4, Loss: 8.759336102764044, Validation Loss: 0.836388945952012\n",
            "Epoch 5, Loss: 8.735937934407307, Validation Loss: 0.7987318826719229\n",
            " accuracy: 0.7237\n"
          ]
        },
        {
          "data": {
            "text/html": [],
            "text/plain": [
              "<IPython.core.display.HTML object>"
            ]
          },
          "metadata": {},
          "output_type": "display_data"
        },
        {
          "data": {
            "text/html": [
              "<br>    <style><br>        .wandb-row {<br>            display: flex;<br>            flex-direction: row;<br>            flex-wrap: wrap;<br>            justify-content: flex-start;<br>            width: 100%;<br>        }<br>        .wandb-col {<br>            display: flex;<br>            flex-direction: column;<br>            flex-basis: 100%;<br>            flex: 1;<br>            padding: 10px;<br>        }<br>    </style><br><div class=\"wandb-row\"><div class=\"wandb-col\"><h3>Run history:</h3><br/><table class=\"wandb\"><tr><td>epoch</td><td>▁▃▅▆█</td></tr><tr><td>train_accuracy</td><td>▁▅▆▇█</td></tr><tr><td>train_loss</td><td>▁▄▆██</td></tr><tr><td>val_accuracy</td><td>▁▅▆▇█</td></tr><tr><td>val_loss</td><td>█▄▂▁▁</td></tr></table><br/></div><div class=\"wandb-col\"><h3>Run summary:</h3><br/><table class=\"wandb\"><tr><td>epoch</td><td>5</td></tr><tr><td>train_accuracy</td><td>74.39444</td></tr><tr><td>train_loss</td><td>8.73594</td></tr><tr><td>val_accuracy</td><td>72.58333</td></tr><tr><td>val_loss</td><td>0.79873</td></tr></table><br/></div></div>"
            ],
            "text/plain": [
              "<IPython.core.display.HTML object>"
            ]
          },
          "metadata": {},
          "output_type": "display_data"
        },
        {
          "data": {
            "text/html": [
              " View run <strong style=\"color:#cdcd00\">ac-tanh_hs-64_epc-5_nl-3_lr0.001_wd-0_opt-nadam_bs-64_wi-random</strong> at: <a href='https://wandb.ai/bgorai005-iit-madras/deep_learning_assignment_1/runs/xerav6vm' target=\"_blank\">https://wandb.ai/bgorai005-iit-madras/deep_learning_assignment_1/runs/xerav6vm</a><br> View project at: <a href='https://wandb.ai/bgorai005-iit-madras/deep_learning_assignment_1' target=\"_blank\">https://wandb.ai/bgorai005-iit-madras/deep_learning_assignment_1</a><br>Synced 5 W&B file(s), 0 media file(s), 0 artifact file(s) and 0 other file(s)"
            ],
            "text/plain": [
              "<IPython.core.display.HTML object>"
            ]
          },
          "metadata": {},
          "output_type": "display_data"
        },
        {
          "data": {
            "text/html": [
              "Find logs at: <code>./wandb/run-20250309_135349-xerav6vm/logs</code>"
            ],
            "text/plain": [
              "<IPython.core.display.HTML object>"
            ]
          },
          "metadata": {},
          "output_type": "display_data"
        },
        {
          "metadata": {
            "tags": null
          },
          "name": "stderr",
          "output_type": "stream",
          "text": [
            "\u001b[34m\u001b[1mwandb\u001b[0m: Agent Starting Run: 0pc5pa34 with config:\n",
            "\u001b[34m\u001b[1mwandb\u001b[0m: \tactivation_hidden: tanh\n",
            "\u001b[34m\u001b[1mwandb\u001b[0m: \tactivation_output: softmax\n",
            "\u001b[34m\u001b[1mwandb\u001b[0m: \tbatch_size: 64\n",
            "\u001b[34m\u001b[1mwandb\u001b[0m: \tepochs: 5\n",
            "\u001b[34m\u001b[1mwandb\u001b[0m: \thidden_size: 128\n",
            "\u001b[34m\u001b[1mwandb\u001b[0m: \tlearning_rate: 0.001\n",
            "\u001b[34m\u001b[1mwandb\u001b[0m: \tnum_layers: 5\n",
            "\u001b[34m\u001b[1mwandb\u001b[0m: \toptimizer: RMSprop\n",
            "\u001b[34m\u001b[1mwandb\u001b[0m: \tweight_decay: 0\n",
            "\u001b[34m\u001b[1mwandb\u001b[0m: \tweight_ini_method: random\n"
          ]
        },
        {
          "data": {
            "text/html": [
              "Tracking run with wandb version 0.19.7"
            ],
            "text/plain": [
              "<IPython.core.display.HTML object>"
            ]
          },
          "metadata": {},
          "output_type": "display_data"
        },
        {
          "data": {
            "text/html": [
              "Run data is saved locally in <code>/content/wandb/run-20250309_135511-0pc5pa34</code>"
            ],
            "text/plain": [
              "<IPython.core.display.HTML object>"
            ]
          },
          "metadata": {},
          "output_type": "display_data"
        },
        {
          "data": {
            "text/html": [
              "Syncing run <strong><a href='https://wandb.ai/bgorai005-iit-madras/deep_learning_assignment_1/runs/0pc5pa34' target=\"_blank\">stoic-sweep-17</a></strong> to <a href='https://wandb.ai/bgorai005-iit-madras/deep_learning_assignment_1' target=\"_blank\">Weights & Biases</a> (<a href='https://wandb.me/developer-guide' target=\"_blank\">docs</a>)<br>Sweep page: <a href='https://wandb.ai/bgorai005-iit-madras/deep_learning_assignment_1/sweeps/xd33zmtu' target=\"_blank\">https://wandb.ai/bgorai005-iit-madras/deep_learning_assignment_1/sweeps/xd33zmtu</a>"
            ],
            "text/plain": [
              "<IPython.core.display.HTML object>"
            ]
          },
          "metadata": {},
          "output_type": "display_data"
        },
        {
          "data": {
            "text/html": [
              " View project at <a href='https://wandb.ai/bgorai005-iit-madras/deep_learning_assignment_1' target=\"_blank\">https://wandb.ai/bgorai005-iit-madras/deep_learning_assignment_1</a>"
            ],
            "text/plain": [
              "<IPython.core.display.HTML object>"
            ]
          },
          "metadata": {},
          "output_type": "display_data"
        },
        {
          "data": {
            "text/html": [
              " View sweep at <a href='https://wandb.ai/bgorai005-iit-madras/deep_learning_assignment_1/sweeps/xd33zmtu' target=\"_blank\">https://wandb.ai/bgorai005-iit-madras/deep_learning_assignment_1/sweeps/xd33zmtu</a>"
            ],
            "text/plain": [
              "<IPython.core.display.HTML object>"
            ]
          },
          "metadata": {},
          "output_type": "display_data"
        },
        {
          "data": {
            "text/html": [
              " View run at <a href='https://wandb.ai/bgorai005-iit-madras/deep_learning_assignment_1/runs/0pc5pa34' target=\"_blank\">https://wandb.ai/bgorai005-iit-madras/deep_learning_assignment_1/runs/0pc5pa34</a>"
            ],
            "text/plain": [
              "<IPython.core.display.HTML object>"
            ]
          },
          "metadata": {},
          "output_type": "display_data"
        },
        {
          "metadata": {
            "tags": null
          },
          "name": "stdout",
          "output_type": "stream",
          "text": [
            "[784, 128, 128, 128, 128, 128, 10]\n",
            "Epoch 1, Loss: 13.04758344678722, Validation Loss: 4.721349836763211\n",
            "Epoch 2, Loss: 10.945021966079409, Validation Loss: 2.7682640448710916\n",
            "Epoch 3, Loss: 9.052041454004002, Validation Loss: 1.758598147166032\n",
            "Epoch 4, Loss: 8.724381485288124, Validation Loss: 1.2933124696228244\n",
            "Epoch 5, Loss: 8.52739527364218, Validation Loss: 1.1413267119659576\n",
            "Test accuracy: 0.5881\n"
          ]
        },
        {
          "data": {
            "text/html": [],
            "text/plain": [
              "<IPython.core.display.HTML object>"
            ]
          },
          "metadata": {},
          "output_type": "display_data"
        },
        {
          "data": {
            "text/html": [
              "<br>    <style><br>        .wandb-row {<br>            display: flex;<br>            flex-direction: row;<br>            flex-wrap: wrap;<br>            justify-content: flex-start;<br>            width: 100%;<br>        }<br>        .wandb-col {<br>            display: flex;<br>            flex-direction: column;<br>            flex-basis: 100%;<br>            flex: 1;<br>            padding: 10px;<br>        }<br>    </style><br><div class=\"wandb-row\"><div class=\"wandb-col\"><h3>Run history:</h3><br/><table class=\"wandb\"><tr><td>epoch</td><td>▁▃▅▆█</td></tr><tr><td>train_accuracy</td><td>▁▃▄▆█</td></tr><tr><td>train_loss</td><td>█▅▂▁▁</td></tr><tr><td>val_accuracy</td><td>▁▃▅▇█</td></tr><tr><td>val_loss</td><td>█▄▂▁▁</td></tr></table><br/></div><div class=\"wandb-col\"><h3>Run summary:</h3><br/><table class=\"wandb\"><tr><td>epoch</td><td>5</td></tr><tr><td>train_accuracy</td><td>59.30741</td></tr><tr><td>train_loss</td><td>8.5274</td></tr><tr><td>val_accuracy</td><td>58.1</td></tr><tr><td>val_loss</td><td>1.14133</td></tr></table><br/></div></div>"
            ],
            "text/plain": [
              "<IPython.core.display.HTML object>"
            ]
          },
          "metadata": {},
          "output_type": "display_data"
        },
        {
          "data": {
            "text/html": [
              " View run <strong style=\"color:#cdcd00\">ac-tanh_hs-128_epc-5_nl-5_lr0.001_wd-0_opt-RMSprop_bs-64_wi-random</strong> at: <a href='https://wandb.ai/bgorai005-iit-madras/deep_learning_assignment_1/runs/0pc5pa34' target=\"_blank\">https://wandb.ai/bgorai005-iit-madras/deep_learning_assignment_1/runs/0pc5pa34</a><br> View project at: <a href='https://wandb.ai/bgorai005-iit-madras/deep_learning_assignment_1' target=\"_blank\">https://wandb.ai/bgorai005-iit-madras/deep_learning_assignment_1</a><br>Synced 5 W&B file(s), 0 media file(s), 0 artifact file(s) and 0 other file(s)"
            ],
            "text/plain": [
              "<IPython.core.display.HTML object>"
            ]
          },
          "metadata": {},
          "output_type": "display_data"
        },
        {
          "data": {
            "text/html": [
              "Find logs at: <code>./wandb/run-20250309_135511-0pc5pa34/logs</code>"
            ],
            "text/plain": [
              "<IPython.core.display.HTML object>"
            ]
          },
          "metadata": {},
          "output_type": "display_data"
        },
        {
          "metadata": {
            "tags": null
          },
          "name": "stderr",
          "output_type": "stream",
          "text": [
            "\u001b[34m\u001b[1mwandb\u001b[0m: Agent Starting Run: 33gf96tk with config:\n",
            "\u001b[34m\u001b[1mwandb\u001b[0m: \tactivation_hidden: tanh\n",
            "\u001b[34m\u001b[1mwandb\u001b[0m: \tactivation_output: softmax\n",
            "\u001b[34m\u001b[1mwandb\u001b[0m: \tbatch_size: 16\n",
            "\u001b[34m\u001b[1mwandb\u001b[0m: \tepochs: 5\n",
            "\u001b[34m\u001b[1mwandb\u001b[0m: \thidden_size: 32\n",
            "\u001b[34m\u001b[1mwandb\u001b[0m: \tlearning_rate: 0.001\n",
            "\u001b[34m\u001b[1mwandb\u001b[0m: \tnum_layers: 3\n",
            "\u001b[34m\u001b[1mwandb\u001b[0m: \toptimizer: nadam\n",
            "\u001b[34m\u001b[1mwandb\u001b[0m: \tweight_decay: 0\n",
            "\u001b[34m\u001b[1mwandb\u001b[0m: \tweight_ini_method: Xavier\n"
          ]
        },
        {
          "data": {
            "text/html": [
              "Tracking run with wandb version 0.19.7"
            ],
            "text/plain": [
              "<IPython.core.display.HTML object>"
            ]
          },
          "metadata": {},
          "output_type": "display_data"
        },
        {
          "data": {
            "text/html": [
              "Run data is saved locally in <code>/content/wandb/run-20250309_135751-33gf96tk</code>"
            ],
            "text/plain": [
              "<IPython.core.display.HTML object>"
            ]
          },
          "metadata": {},
          "output_type": "display_data"
        },
        {
          "data": {
            "text/html": [
              "Syncing run <strong><a href='https://wandb.ai/bgorai005-iit-madras/deep_learning_assignment_1/runs/33gf96tk' target=\"_blank\">lively-sweep-18</a></strong> to <a href='https://wandb.ai/bgorai005-iit-madras/deep_learning_assignment_1' target=\"_blank\">Weights & Biases</a> (<a href='https://wandb.me/developer-guide' target=\"_blank\">docs</a>)<br>Sweep page: <a href='https://wandb.ai/bgorai005-iit-madras/deep_learning_assignment_1/sweeps/xd33zmtu' target=\"_blank\">https://wandb.ai/bgorai005-iit-madras/deep_learning_assignment_1/sweeps/xd33zmtu</a>"
            ],
            "text/plain": [
              "<IPython.core.display.HTML object>"
            ]
          },
          "metadata": {},
          "output_type": "display_data"
        },
        {
          "data": {
            "text/html": [
              " View project at <a href='https://wandb.ai/bgorai005-iit-madras/deep_learning_assignment_1' target=\"_blank\">https://wandb.ai/bgorai005-iit-madras/deep_learning_assignment_1</a>"
            ],
            "text/plain": [
              "<IPython.core.display.HTML object>"
            ]
          },
          "metadata": {},
          "output_type": "display_data"
        },
        {
          "data": {
            "text/html": [
              " View sweep at <a href='https://wandb.ai/bgorai005-iit-madras/deep_learning_assignment_1/sweeps/xd33zmtu' target=\"_blank\">https://wandb.ai/bgorai005-iit-madras/deep_learning_assignment_1/sweeps/xd33zmtu</a>"
            ],
            "text/plain": [
              "<IPython.core.display.HTML object>"
            ]
          },
          "metadata": {},
          "output_type": "display_data"
        },
        {
          "data": {
            "text/html": [
              " View run at <a href='https://wandb.ai/bgorai005-iit-madras/deep_learning_assignment_1/runs/33gf96tk' target=\"_blank\">https://wandb.ai/bgorai005-iit-madras/deep_learning_assignment_1/runs/33gf96tk</a>"
            ],
            "text/plain": [
              "<IPython.core.display.HTML object>"
            ]
          },
          "metadata": {},
          "output_type": "display_data"
        },
        {
          "metadata": {
            "tags": null
          },
          "name": "stdout",
          "output_type": "stream",
          "text": [
            "[784, 32, 32, 32, 10]\n",
            "Epoch 1, Loss: 6.440021831823253, Validation Loss: 0.41002620860707867\n",
            "Epoch 2, Loss: 6.835927793542052, Validation Loss: 0.40119860802216334\n",
            "Epoch 3, Loss: 7.138888866253165, Validation Loss: 0.35539385444387295\n",
            "Epoch 4, Loss: 7.466147156285812, Validation Loss: 0.34036938263908184\n",
            "Epoch 5, Loss: 7.66909812928296, Validation Loss: 0.35540577348637603\n",
            " accuracy: 0.8648\n"
          ]
        },
        {
          "data": {
            "text/html": [],
            "text/plain": [
              "<IPython.core.display.HTML object>"
            ]
          },
          "metadata": {},
          "output_type": "display_data"
        },
        {
          "data": {
            "text/html": [
              "<br>    <style><br>        .wandb-row {<br>            display: flex;<br>            flex-direction: row;<br>            flex-wrap: wrap;<br>            justify-content: flex-start;<br>            width: 100%;<br>        }<br>        .wandb-col {<br>            display: flex;<br>            flex-direction: column;<br>            flex-basis: 100%;<br>            flex: 1;<br>            padding: 10px;<br>        }<br>    </style><br><div class=\"wandb-row\"><div class=\"wandb-col\"><h3>Run history:</h3><br/><table class=\"wandb\"><tr><td>epoch</td><td>▁▃▅▆█</td></tr><tr><td>train_accuracy</td><td>▁▂▅██</td></tr><tr><td>train_loss</td><td>▁▃▅▇█</td></tr><tr><td>val_accuracy</td><td>▁▁▅█▆</td></tr><tr><td>val_loss</td><td>█▇▃▁▃</td></tr></table><br/></div><div class=\"wandb-col\"><h3>Run summary:</h3><br/><table class=\"wandb\"><tr><td>epoch</td><td>5</td></tr><tr><td>train_accuracy</td><td>89.02778</td></tr><tr><td>train_loss</td><td>7.6691</td></tr><tr><td>val_accuracy</td><td>86.96667</td></tr><tr><td>val_loss</td><td>0.35541</td></tr></table><br/></div></div>"
            ],
            "text/plain": [
              "<IPython.core.display.HTML object>"
            ]
          },
          "metadata": {},
          "output_type": "display_data"
        },
        {
          "data": {
            "text/html": [
              " View run <strong style=\"color:#cdcd00\">ac-tanh_hs-32_epc-5_nl-3_lr0.001_wd-0_opt-nadam_bs-16_wi-Xavier</strong> at: <a href='https://wandb.ai/bgorai005-iit-madras/deep_learning_assignment_1/runs/33gf96tk' target=\"_blank\">https://wandb.ai/bgorai005-iit-madras/deep_learning_assignment_1/runs/33gf96tk</a><br> View project at: <a href='https://wandb.ai/bgorai005-iit-madras/deep_learning_assignment_1' target=\"_blank\">https://wandb.ai/bgorai005-iit-madras/deep_learning_assignment_1</a><br>Synced 5 W&B file(s), 0 media file(s), 0 artifact file(s) and 0 other file(s)"
            ],
            "text/plain": [
              "<IPython.core.display.HTML object>"
            ]
          },
          "metadata": {},
          "output_type": "display_data"
        },
        {
          "data": {
            "text/html": [
              "Find logs at: <code>./wandb/run-20250309_135751-33gf96tk/logs</code>"
            ],
            "text/plain": [
              "<IPython.core.display.HTML object>"
            ]
          },
          "metadata": {},
          "output_type": "display_data"
        },
        {
          "metadata": {
            "tags": null
          },
          "name": "stderr",
          "output_type": "stream",
          "text": [
            "\u001b[34m\u001b[1mwandb\u001b[0m: Agent Starting Run: 8ksswvy7 with config:\n",
            "\u001b[34m\u001b[1mwandb\u001b[0m: \tactivation_hidden: relu\n",
            "\u001b[34m\u001b[1mwandb\u001b[0m: \tactivation_output: softmax\n",
            "\u001b[34m\u001b[1mwandb\u001b[0m: \tbatch_size: 64\n",
            "\u001b[34m\u001b[1mwandb\u001b[0m: \tepochs: 10\n",
            "\u001b[34m\u001b[1mwandb\u001b[0m: \thidden_size: 64\n",
            "\u001b[34m\u001b[1mwandb\u001b[0m: \tlearning_rate: 0.0001\n",
            "\u001b[34m\u001b[1mwandb\u001b[0m: \tnum_layers: 5\n",
            "\u001b[34m\u001b[1mwandb\u001b[0m: \toptimizer: nadam\n",
            "\u001b[34m\u001b[1mwandb\u001b[0m: \tweight_decay: 0\n",
            "\u001b[34m\u001b[1mwandb\u001b[0m: \tweight_ini_method: Xavier\n"
          ]
        },
        {
          "data": {
            "text/html": [
              "Tracking run with wandb version 0.19.7"
            ],
            "text/plain": [
              "<IPython.core.display.HTML object>"
            ]
          },
          "metadata": {},
          "output_type": "display_data"
        },
        {
          "data": {
            "text/html": [
              "Run data is saved locally in <code>/content/wandb/run-20250309_135850-8ksswvy7</code>"
            ],
            "text/plain": [
              "<IPython.core.display.HTML object>"
            ]
          },
          "metadata": {},
          "output_type": "display_data"
        },
        {
          "data": {
            "text/html": [
              "Syncing run <strong><a href='https://wandb.ai/bgorai005-iit-madras/deep_learning_assignment_1/runs/8ksswvy7' target=\"_blank\">gallant-sweep-19</a></strong> to <a href='https://wandb.ai/bgorai005-iit-madras/deep_learning_assignment_1' target=\"_blank\">Weights & Biases</a> (<a href='https://wandb.me/developer-guide' target=\"_blank\">docs</a>)<br>Sweep page: <a href='https://wandb.ai/bgorai005-iit-madras/deep_learning_assignment_1/sweeps/xd33zmtu' target=\"_blank\">https://wandb.ai/bgorai005-iit-madras/deep_learning_assignment_1/sweeps/xd33zmtu</a>"
            ],
            "text/plain": [
              "<IPython.core.display.HTML object>"
            ]
          },
          "metadata": {},
          "output_type": "display_data"
        },
        {
          "data": {
            "text/html": [
              " View project at <a href='https://wandb.ai/bgorai005-iit-madras/deep_learning_assignment_1' target=\"_blank\">https://wandb.ai/bgorai005-iit-madras/deep_learning_assignment_1</a>"
            ],
            "text/plain": [
              "<IPython.core.display.HTML object>"
            ]
          },
          "metadata": {},
          "output_type": "display_data"
        },
        {
          "data": {
            "text/html": [
              " View sweep at <a href='https://wandb.ai/bgorai005-iit-madras/deep_learning_assignment_1/sweeps/xd33zmtu' target=\"_blank\">https://wandb.ai/bgorai005-iit-madras/deep_learning_assignment_1/sweeps/xd33zmtu</a>"
            ],
            "text/plain": [
              "<IPython.core.display.HTML object>"
            ]
          },
          "metadata": {},
          "output_type": "display_data"
        },
        {
          "data": {
            "text/html": [
              " View run at <a href='https://wandb.ai/bgorai005-iit-madras/deep_learning_assignment_1/runs/8ksswvy7' target=\"_blank\">https://wandb.ai/bgorai005-iit-madras/deep_learning_assignment_1/runs/8ksswvy7</a>"
            ],
            "text/plain": [
              "<IPython.core.display.HTML object>"
            ]
          },
          "metadata": {},
          "output_type": "display_data"
        },
        {
          "metadata": {
            "tags": null
          },
          "name": "stdout",
          "output_type": "stream",
          "text": [
            "[784, 64, 64, 64, 64, 64, 10]\n",
            "Epoch 1, Loss: 7.461314187365576, Validation Loss: 0.5186397261577704\n",
            "Epoch 2, Loss: 8.320487464076978, Validation Loss: 0.4608794563635472\n",
            "Epoch 3, Loss: 8.842326669263178, Validation Loss: 0.43250033177467184\n",
            "Epoch 4, Loss: 9.115862719963443, Validation Loss: 0.41399458953353935\n",
            "Epoch 5, Loss: 9.384153384541438, Validation Loss: 0.40195179126088854\n",
            "Epoch 6, Loss: 9.6379052590697, Validation Loss: 0.39703995441865353\n",
            "Epoch 7, Loss: 9.789279327061704, Validation Loss: 0.3896361599166767\n",
            "Epoch 8, Loss: 9.938226090797283, Validation Loss: 0.3786902886552193\n",
            "Epoch 9, Loss: 10.086489858547033, Validation Loss: 0.3770969169287525\n",
            "Epoch 10, Loss: 10.087555560754291, Validation Loss: 0.3719665162100958\n",
            " accuracy: 0.8604\n"
          ]
        },
        {
          "data": {
            "text/html": [],
            "text/plain": [
              "<IPython.core.display.HTML object>"
            ]
          },
          "metadata": {},
          "output_type": "display_data"
        },
        {
          "data": {
            "text/html": [
              "<br>    <style><br>        .wandb-row {<br>            display: flex;<br>            flex-direction: row;<br>            flex-wrap: wrap;<br>            justify-content: flex-start;<br>            width: 100%;<br>        }<br>        .wandb-col {<br>            display: flex;<br>            flex-direction: column;<br>            flex-basis: 100%;<br>            flex: 1;<br>            padding: 10px;<br>        }<br>    </style><br><div class=\"wandb-row\"><div class=\"wandb-col\"><h3>Run history:</h3><br/><table class=\"wandb\"><tr><td>epoch</td><td>▁▂▃▃▄▅▆▆▇█</td></tr><tr><td>train_accuracy</td><td>▁▃▅▆▆▆▇▇██</td></tr><tr><td>train_loss</td><td>▁▃▅▅▆▇▇███</td></tr><tr><td>val_accuracy</td><td>▁▃▅▆▇▇▇███</td></tr><tr><td>val_loss</td><td>█▅▄▃▂▂▂▁▁▁</td></tr></table><br/></div><div class=\"wandb-col\"><h3>Run summary:</h3><br/><table class=\"wandb\"><tr><td>epoch</td><td>10</td></tr><tr><td>train_accuracy</td><td>87.93148</td></tr><tr><td>train_loss</td><td>10.08756</td></tr><tr><td>val_accuracy</td><td>87.11667</td></tr><tr><td>val_loss</td><td>0.37197</td></tr></table><br/></div></div>"
            ],
            "text/plain": [
              "<IPython.core.display.HTML object>"
            ]
          },
          "metadata": {},
          "output_type": "display_data"
        },
        {
          "data": {
            "text/html": [
              " View run <strong style=\"color:#cdcd00\">ac-relu_hs-64_epc-10_nl-5_lr0.0001_wd-0_opt-nadam_bs-64_wi-Xavier</strong> at: <a href='https://wandb.ai/bgorai005-iit-madras/deep_learning_assignment_1/runs/8ksswvy7' target=\"_blank\">https://wandb.ai/bgorai005-iit-madras/deep_learning_assignment_1/runs/8ksswvy7</a><br> View project at: <a href='https://wandb.ai/bgorai005-iit-madras/deep_learning_assignment_1' target=\"_blank\">https://wandb.ai/bgorai005-iit-madras/deep_learning_assignment_1</a><br>Synced 5 W&B file(s), 0 media file(s), 0 artifact file(s) and 0 other file(s)"
            ],
            "text/plain": [
              "<IPython.core.display.HTML object>"
            ]
          },
          "metadata": {},
          "output_type": "display_data"
        },
        {
          "data": {
            "text/html": [
              "Find logs at: <code>./wandb/run-20250309_135850-8ksswvy7/logs</code>"
            ],
            "text/plain": [
              "<IPython.core.display.HTML object>"
            ]
          },
          "metadata": {},
          "output_type": "display_data"
        },
        {
          "metadata": {
            "tags": null
          },
          "name": "stderr",
          "output_type": "stream",
          "text": [
            "\u001b[34m\u001b[1mwandb\u001b[0m: Agent Starting Run: 9ini2zub with config:\n",
            "\u001b[34m\u001b[1mwandb\u001b[0m: \tactivation_hidden: sigmoid\n",
            "\u001b[34m\u001b[1mwandb\u001b[0m: \tactivation_output: softmax\n",
            "\u001b[34m\u001b[1mwandb\u001b[0m: \tbatch_size: 32\n",
            "\u001b[34m\u001b[1mwandb\u001b[0m: \tepochs: 5\n",
            "\u001b[34m\u001b[1mwandb\u001b[0m: \thidden_size: 64\n",
            "\u001b[34m\u001b[1mwandb\u001b[0m: \tlearning_rate: 0.0001\n",
            "\u001b[34m\u001b[1mwandb\u001b[0m: \tnum_layers: 3\n",
            "\u001b[34m\u001b[1mwandb\u001b[0m: \toptimizer: nadam\n",
            "\u001b[34m\u001b[1mwandb\u001b[0m: \tweight_decay: 0\n",
            "\u001b[34m\u001b[1mwandb\u001b[0m: \tweight_ini_method: Xavier\n"
          ]
        },
        {
          "data": {
            "text/html": [
              "Tracking run with wandb version 0.19.7"
            ],
            "text/plain": [
              "<IPython.core.display.HTML object>"
            ]
          },
          "metadata": {},
          "output_type": "display_data"
        },
        {
          "data": {
            "text/html": [
              "Run data is saved locally in <code>/content/wandb/run-20250309_140005-9ini2zub</code>"
            ],
            "text/plain": [
              "<IPython.core.display.HTML object>"
            ]
          },
          "metadata": {},
          "output_type": "display_data"
        },
        {
          "data": {
            "text/html": [
              "Syncing run <strong><a href='https://wandb.ai/bgorai005-iit-madras/deep_learning_assignment_1/runs/9ini2zub' target=\"_blank\">tough-sweep-20</a></strong> to <a href='https://wandb.ai/bgorai005-iit-madras/deep_learning_assignment_1' target=\"_blank\">Weights & Biases</a> (<a href='https://wandb.me/developer-guide' target=\"_blank\">docs</a>)<br>Sweep page: <a href='https://wandb.ai/bgorai005-iit-madras/deep_learning_assignment_1/sweeps/xd33zmtu' target=\"_blank\">https://wandb.ai/bgorai005-iit-madras/deep_learning_assignment_1/sweeps/xd33zmtu</a>"
            ],
            "text/plain": [
              "<IPython.core.display.HTML object>"
            ]
          },
          "metadata": {},
          "output_type": "display_data"
        },
        {
          "data": {
            "text/html": [
              " View project at <a href='https://wandb.ai/bgorai005-iit-madras/deep_learning_assignment_1' target=\"_blank\">https://wandb.ai/bgorai005-iit-madras/deep_learning_assignment_1</a>"
            ],
            "text/plain": [
              "<IPython.core.display.HTML object>"
            ]
          },
          "metadata": {},
          "output_type": "display_data"
        },
        {
          "data": {
            "text/html": [
              " View sweep at <a href='https://wandb.ai/bgorai005-iit-madras/deep_learning_assignment_1/sweeps/xd33zmtu' target=\"_blank\">https://wandb.ai/bgorai005-iit-madras/deep_learning_assignment_1/sweeps/xd33zmtu</a>"
            ],
            "text/plain": [
              "<IPython.core.display.HTML object>"
            ]
          },
          "metadata": {},
          "output_type": "display_data"
        },
        {
          "data": {
            "text/html": [
              " View run at <a href='https://wandb.ai/bgorai005-iit-madras/deep_learning_assignment_1/runs/9ini2zub' target=\"_blank\">https://wandb.ai/bgorai005-iit-madras/deep_learning_assignment_1/runs/9ini2zub</a>"
            ],
            "text/plain": [
              "<IPython.core.display.HTML object>"
            ]
          },
          "metadata": {},
          "output_type": "display_data"
        },
        {
          "metadata": {
            "tags": null
          },
          "name": "stdout",
          "output_type": "stream",
          "text": [
            "[784, 64, 64, 64, 10]\n",
            "Epoch 1, Loss: 2.885868395955922, Validation Loss: 1.299030296930577\n",
            "Epoch 2, Loss: 3.564465579048604, Validation Loss: 0.943726342578529\n",
            "Epoch 3, Loss: 4.033793020110647, Validation Loss: 0.7728241198635942\n",
            "Epoch 4, Loss: 4.438865324162616, Validation Loss: 0.6792847915064975\n",
            "Epoch 5, Loss: 4.711537760028959, Validation Loss: 0.6208929318211172\n",
            " accuracy: 0.7761\n"
          ]
        },
        {
          "data": {
            "text/html": [],
            "text/plain": [
              "<IPython.core.display.HTML object>"
            ]
          },
          "metadata": {},
          "output_type": "display_data"
        },
        {
          "data": {
            "text/html": [
              "<br>    <style><br>        .wandb-row {<br>            display: flex;<br>            flex-direction: row;<br>            flex-wrap: wrap;<br>            justify-content: flex-start;<br>            width: 100%;<br>        }<br>        .wandb-col {<br>            display: flex;<br>            flex-direction: column;<br>            flex-basis: 100%;<br>            flex: 1;<br>            padding: 10px;<br>        }<br>    </style><br><div class=\"wandb-row\"><div class=\"wandb-col\"><h3>Run history:</h3><br/><table class=\"wandb\"><tr><td>epoch</td><td>▁▃▅▆█</td></tr><tr><td>train_accuracy</td><td>▁▅▆▇█</td></tr><tr><td>train_loss</td><td>▁▄▅▇█</td></tr><tr><td>val_accuracy</td><td>▁▅▆▇█</td></tr><tr><td>val_loss</td><td>█▄▃▂▁</td></tr></table><br/></div><div class=\"wandb-col\"><h3>Run summary:</h3><br/><table class=\"wandb\"><tr><td>epoch</td><td>5</td></tr><tr><td>train_accuracy</td><td>78.72222</td></tr><tr><td>train_loss</td><td>4.71154</td></tr><tr><td>val_accuracy</td><td>78.01667</td></tr><tr><td>val_loss</td><td>0.62089</td></tr></table><br/></div></div>"
            ],
            "text/plain": [
              "<IPython.core.display.HTML object>"
            ]
          },
          "metadata": {},
          "output_type": "display_data"
        },
        {
          "data": {
            "text/html": [
              " View run <strong style=\"color:#cdcd00\">ac-sigmoid_hs-64_epc-5_nl-3_lr0.0001_wd-0_opt-nadam_bs-32_wi-Xavier</strong> at: <a href='https://wandb.ai/bgorai005-iit-madras/deep_learning_assignment_1/runs/9ini2zub' target=\"_blank\">https://wandb.ai/bgorai005-iit-madras/deep_learning_assignment_1/runs/9ini2zub</a><br> View project at: <a href='https://wandb.ai/bgorai005-iit-madras/deep_learning_assignment_1' target=\"_blank\">https://wandb.ai/bgorai005-iit-madras/deep_learning_assignment_1</a><br>Synced 5 W&B file(s), 0 media file(s), 0 artifact file(s) and 0 other file(s)"
            ],
            "text/plain": [
              "<IPython.core.display.HTML object>"
            ]
          },
          "metadata": {},
          "output_type": "display_data"
        },
        {
          "data": {
            "text/html": [
              "Find logs at: <code>./wandb/run-20250309_140005-9ini2zub/logs</code>"
            ],
            "text/plain": [
              "<IPython.core.display.HTML object>"
            ]
          },
          "metadata": {},
          "output_type": "display_data"
        },
        {
          "metadata": {
            "tags": null
          },
          "name": "stderr",
          "output_type": "stream",
          "text": [
            "\u001b[34m\u001b[1mwandb\u001b[0m: Agent Starting Run: exrtdzlg with config:\n",
            "\u001b[34m\u001b[1mwandb\u001b[0m: \tactivation_hidden: relu\n",
            "\u001b[34m\u001b[1mwandb\u001b[0m: \tactivation_output: softmax\n",
            "\u001b[34m\u001b[1mwandb\u001b[0m: \tbatch_size: 64\n",
            "\u001b[34m\u001b[1mwandb\u001b[0m: \tepochs: 10\n",
            "\u001b[34m\u001b[1mwandb\u001b[0m: \thidden_size: 32\n",
            "\u001b[34m\u001b[1mwandb\u001b[0m: \tlearning_rate: 0.0001\n",
            "\u001b[34m\u001b[1mwandb\u001b[0m: \tnum_layers: 5\n",
            "\u001b[34m\u001b[1mwandb\u001b[0m: \toptimizer: momentum\n",
            "\u001b[34m\u001b[1mwandb\u001b[0m: \tweight_decay: 0\n",
            "\u001b[34m\u001b[1mwandb\u001b[0m: \tweight_ini_method: Xavier\n"
          ]
        },
        {
          "data": {
            "text/html": [
              "Tracking run with wandb version 0.19.7"
            ],
            "text/plain": [
              "<IPython.core.display.HTML object>"
            ]
          },
          "metadata": {},
          "output_type": "display_data"
        },
        {
          "data": {
            "text/html": [
              "Run data is saved locally in <code>/content/wandb/run-20250309_140057-exrtdzlg</code>"
            ],
            "text/plain": [
              "<IPython.core.display.HTML object>"
            ]
          },
          "metadata": {},
          "output_type": "display_data"
        },
        {
          "data": {
            "text/html": [
              "Syncing run <strong><a href='https://wandb.ai/bgorai005-iit-madras/deep_learning_assignment_1/runs/exrtdzlg' target=\"_blank\">fluent-sweep-21</a></strong> to <a href='https://wandb.ai/bgorai005-iit-madras/deep_learning_assignment_1' target=\"_blank\">Weights & Biases</a> (<a href='https://wandb.me/developer-guide' target=\"_blank\">docs</a>)<br>Sweep page: <a href='https://wandb.ai/bgorai005-iit-madras/deep_learning_assignment_1/sweeps/xd33zmtu' target=\"_blank\">https://wandb.ai/bgorai005-iit-madras/deep_learning_assignment_1/sweeps/xd33zmtu</a>"
            ],
            "text/plain": [
              "<IPython.core.display.HTML object>"
            ]
          },
          "metadata": {},
          "output_type": "display_data"
        },
        {
          "data": {
            "text/html": [
              " View project at <a href='https://wandb.ai/bgorai005-iit-madras/deep_learning_assignment_1' target=\"_blank\">https://wandb.ai/bgorai005-iit-madras/deep_learning_assignment_1</a>"
            ],
            "text/plain": [
              "<IPython.core.display.HTML object>"
            ]
          },
          "metadata": {},
          "output_type": "display_data"
        },
        {
          "data": {
            "text/html": [
              " View sweep at <a href='https://wandb.ai/bgorai005-iit-madras/deep_learning_assignment_1/sweeps/xd33zmtu' target=\"_blank\">https://wandb.ai/bgorai005-iit-madras/deep_learning_assignment_1/sweeps/xd33zmtu</a>"
            ],
            "text/plain": [
              "<IPython.core.display.HTML object>"
            ]
          },
          "metadata": {},
          "output_type": "display_data"
        },
        {
          "data": {
            "text/html": [
              " View run at <a href='https://wandb.ai/bgorai005-iit-madras/deep_learning_assignment_1/runs/exrtdzlg' target=\"_blank\">https://wandb.ai/bgorai005-iit-madras/deep_learning_assignment_1/runs/exrtdzlg</a>"
            ],
            "text/plain": [
              "<IPython.core.display.HTML object>"
            ]
          },
          "metadata": {},
          "output_type": "display_data"
        },
        {
          "metadata": {
            "tags": null
          },
          "name": "stdout",
          "output_type": "stream",
          "text": [
            "[784, 32, 32, 32, 32, 32, 10]\n",
            "Epoch 1, Train Loss: 0.5392850477348656, Val Loss: 0.5554192487556593\n",
            "Epoch 2, Train Loss: 0.4386242293611668, Val Loss: 0.4578683658942902\n",
            "Epoch 3, Train Loss: 0.3992268544344314, Val Loss: 0.42602527886377306\n",
            "Epoch 4, Train Loss: 0.3583258715535974, Val Loss: 0.3861876621864389\n",
            "Epoch 5, Train Loss: 0.34070680874387355, Val Loss: 0.37000644974587643\n",
            "Epoch 6, Train Loss: 0.3519913769634565, Val Loss: 0.39630397908449244\n",
            "Epoch 7, Train Loss: 0.3462502747244055, Val Loss: 0.38751673921967966\n",
            "Epoch 8, Train Loss: 0.3044903470037733, Val Loss: 0.35830208708652217\n",
            "Epoch 9, Train Loss: 0.3414637141212407, Val Loss: 0.38713792956121096\n",
            "Epoch 10, Train Loss: 0.3036715974225757, Val Loss: 0.35686732958584466\n",
            "Test accuracy: 0.8628\n"
          ]
        },
        {
          "data": {
            "text/html": [],
            "text/plain": [
              "<IPython.core.display.HTML object>"
            ]
          },
          "metadata": {},
          "output_type": "display_data"
        },
        {
          "data": {
            "text/html": [
              "<br>    <style><br>        .wandb-row {<br>            display: flex;<br>            flex-direction: row;<br>            flex-wrap: wrap;<br>            justify-content: flex-start;<br>            width: 100%;<br>        }<br>        .wandb-col {<br>            display: flex;<br>            flex-direction: column;<br>            flex-basis: 100%;<br>            flex: 1;<br>            padding: 10px;<br>        }<br>    </style><br><div class=\"wandb-row\"><div class=\"wandb-col\"><h3>Run history:</h3><br/><table class=\"wandb\"><tr><td>epoch</td><td>▁▂▃▃▄▅▆▆▇█</td></tr><tr><td>train_accuracy</td><td>▁▄▅▇▇▇▇█▇█</td></tr><tr><td>train_loss</td><td>█▅▄▃▂▂▂▁▂▁</td></tr><tr><td>val_accuracy</td><td>▁▄▅▆▇▇▇█▇█</td></tr><tr><td>val_loss</td><td>█▅▃▂▁▂▂▁▂▁</td></tr></table><br/></div><div class=\"wandb-col\"><h3>Run summary:</h3><br/><table class=\"wandb\"><tr><td>epoch</td><td>10</td></tr><tr><td>train_accuracy</td><td>88.9037</td></tr><tr><td>train_loss</td><td>0.30367</td></tr><tr><td>val_accuracy</td><td>87.51667</td></tr><tr><td>val_loss</td><td>0.35687</td></tr></table><br/></div></div>"
            ],
            "text/plain": [
              "<IPython.core.display.HTML object>"
            ]
          },
          "metadata": {},
          "output_type": "display_data"
        },
        {
          "data": {
            "text/html": [
              " View run <strong style=\"color:#cdcd00\">ac-relu_hs-32_epc-10_nl-5_lr0.0001_wd-0_opt-momentum_bs-64_wi-Xavier</strong> at: <a href='https://wandb.ai/bgorai005-iit-madras/deep_learning_assignment_1/runs/exrtdzlg' target=\"_blank\">https://wandb.ai/bgorai005-iit-madras/deep_learning_assignment_1/runs/exrtdzlg</a><br> View project at: <a href='https://wandb.ai/bgorai005-iit-madras/deep_learning_assignment_1' target=\"_blank\">https://wandb.ai/bgorai005-iit-madras/deep_learning_assignment_1</a><br>Synced 5 W&B file(s), 0 media file(s), 0 artifact file(s) and 0 other file(s)"
            ],
            "text/plain": [
              "<IPython.core.display.HTML object>"
            ]
          },
          "metadata": {},
          "output_type": "display_data"
        },
        {
          "data": {
            "text/html": [
              "Find logs at: <code>./wandb/run-20250309_140057-exrtdzlg/logs</code>"
            ],
            "text/plain": [
              "<IPython.core.display.HTML object>"
            ]
          },
          "metadata": {},
          "output_type": "display_data"
        },
        {
          "metadata": {
            "tags": null
          },
          "name": "stderr",
          "output_type": "stream",
          "text": [
            "\u001b[34m\u001b[1mwandb\u001b[0m: Agent Starting Run: thfu9etc with config:\n",
            "\u001b[34m\u001b[1mwandb\u001b[0m: \tactivation_hidden: relu\n",
            "\u001b[34m\u001b[1mwandb\u001b[0m: \tactivation_output: softmax\n",
            "\u001b[34m\u001b[1mwandb\u001b[0m: \tbatch_size: 32\n",
            "\u001b[34m\u001b[1mwandb\u001b[0m: \tepochs: 5\n",
            "\u001b[34m\u001b[1mwandb\u001b[0m: \thidden_size: 128\n",
            "\u001b[34m\u001b[1mwandb\u001b[0m: \tlearning_rate: 0.001\n",
            "\u001b[34m\u001b[1mwandb\u001b[0m: \tnum_layers: 3\n",
            "\u001b[34m\u001b[1mwandb\u001b[0m: \toptimizer: sgd\n",
            "\u001b[34m\u001b[1mwandb\u001b[0m: \tweight_decay: 0\n",
            "\u001b[34m\u001b[1mwandb\u001b[0m: \tweight_ini_method: random\n"
          ]
        },
        {
          "data": {
            "text/html": [
              "Tracking run with wandb version 0.19.7"
            ],
            "text/plain": [
              "<IPython.core.display.HTML object>"
            ]
          },
          "metadata": {},
          "output_type": "display_data"
        },
        {
          "data": {
            "text/html": [
              "Run data is saved locally in <code>/content/wandb/run-20250309_140139-thfu9etc</code>"
            ],
            "text/plain": [
              "<IPython.core.display.HTML object>"
            ]
          },
          "metadata": {},
          "output_type": "display_data"
        },
        {
          "data": {
            "text/html": [
              "Syncing run <strong><a href='https://wandb.ai/bgorai005-iit-madras/deep_learning_assignment_1/runs/thfu9etc' target=\"_blank\">drawn-sweep-22</a></strong> to <a href='https://wandb.ai/bgorai005-iit-madras/deep_learning_assignment_1' target=\"_blank\">Weights & Biases</a> (<a href='https://wandb.me/developer-guide' target=\"_blank\">docs</a>)<br>Sweep page: <a href='https://wandb.ai/bgorai005-iit-madras/deep_learning_assignment_1/sweeps/xd33zmtu' target=\"_blank\">https://wandb.ai/bgorai005-iit-madras/deep_learning_assignment_1/sweeps/xd33zmtu</a>"
            ],
            "text/plain": [
              "<IPython.core.display.HTML object>"
            ]
          },
          "metadata": {},
          "output_type": "display_data"
        },
        {
          "data": {
            "text/html": [
              " View project at <a href='https://wandb.ai/bgorai005-iit-madras/deep_learning_assignment_1' target=\"_blank\">https://wandb.ai/bgorai005-iit-madras/deep_learning_assignment_1</a>"
            ],
            "text/plain": [
              "<IPython.core.display.HTML object>"
            ]
          },
          "metadata": {},
          "output_type": "display_data"
        },
        {
          "data": {
            "text/html": [
              " View sweep at <a href='https://wandb.ai/bgorai005-iit-madras/deep_learning_assignment_1/sweeps/xd33zmtu' target=\"_blank\">https://wandb.ai/bgorai005-iit-madras/deep_learning_assignment_1/sweeps/xd33zmtu</a>"
            ],
            "text/plain": [
              "<IPython.core.display.HTML object>"
            ]
          },
          "metadata": {},
          "output_type": "display_data"
        },
        {
          "data": {
            "text/html": [
              " View run at <a href='https://wandb.ai/bgorai005-iit-madras/deep_learning_assignment_1/runs/thfu9etc' target=\"_blank\">https://wandb.ai/bgorai005-iit-madras/deep_learning_assignment_1/runs/thfu9etc</a>"
            ],
            "text/plain": [
              "<IPython.core.display.HTML object>"
            ]
          },
          "metadata": {},
          "output_type": "display_data"
        },
        {
          "metadata": {
            "tags": null
          },
          "name": "stdout",
          "output_type": "stream",
          "text": [
            "[784, 128, 128, 128, 10]\n"
          ]
        },
        {
          "metadata": {
            "tags": null
          },
          "name": "stderr",
          "output_type": "stream",
          "text": [
            "<ipython-input-8-867b69375f18>:20: RuntimeWarning: invalid value encountered in subtract\n",
            "  x = x - np.max(x,axis=1,keepdims=True)\n"
          ]
        },
        {
          "metadata": {
            "tags": null
          },
          "name": "stdout",
          "output_type": "stream",
          "text": [
            "Epoch 1, Train Loss: nan, Val Loss: nan\n",
            "Epoch 2, Train Loss: nan, Val Loss: nan\n",
            "Epoch 3, Train Loss: nan, Val Loss: nan\n",
            "Epoch 4, Train Loss: nan, Val Loss: nan\n",
            "Epoch 5, Train Loss: nan, Val Loss: nan\n",
            "Test Accuracy: 10.0\n"
          ]
        },
        {
          "data": {
            "text/html": [],
            "text/plain": [
              "<IPython.core.display.HTML object>"
            ]
          },
          "metadata": {},
          "output_type": "display_data"
        },
        {
          "data": {
            "text/html": [
              " View run <strong style=\"color:#cdcd00\">ac-relu_hs-128_epc-5_nl-3_lr0.001_wd-0_opt-sgd_bs-32_wi-random</strong> at: <a href='https://wandb.ai/bgorai005-iit-madras/deep_learning_assignment_1/runs/thfu9etc' target=\"_blank\">https://wandb.ai/bgorai005-iit-madras/deep_learning_assignment_1/runs/thfu9etc</a><br> View project at: <a href='https://wandb.ai/bgorai005-iit-madras/deep_learning_assignment_1' target=\"_blank\">https://wandb.ai/bgorai005-iit-madras/deep_learning_assignment_1</a><br>Synced 5 W&B file(s), 0 media file(s), 0 artifact file(s) and 0 other file(s)"
            ],
            "text/plain": [
              "<IPython.core.display.HTML object>"
            ]
          },
          "metadata": {},
          "output_type": "display_data"
        },
        {
          "data": {
            "text/html": [
              "Find logs at: <code>./wandb/run-20250309_140139-thfu9etc/logs</code>"
            ],
            "text/plain": [
              "<IPython.core.display.HTML object>"
            ]
          },
          "metadata": {},
          "output_type": "display_data"
        },
        {
          "metadata": {
            "tags": null
          },
          "name": "stderr",
          "output_type": "stream",
          "text": [
            "\u001b[34m\u001b[1mwandb\u001b[0m: Agent Starting Run: gjkcop4u with config:\n",
            "\u001b[34m\u001b[1mwandb\u001b[0m: \tactivation_hidden: relu\n",
            "\u001b[34m\u001b[1mwandb\u001b[0m: \tactivation_output: softmax\n",
            "\u001b[34m\u001b[1mwandb\u001b[0m: \tbatch_size: 16\n",
            "\u001b[34m\u001b[1mwandb\u001b[0m: \tepochs: 5\n",
            "\u001b[34m\u001b[1mwandb\u001b[0m: \thidden_size: 64\n",
            "\u001b[34m\u001b[1mwandb\u001b[0m: \tlearning_rate: 0.001\n",
            "\u001b[34m\u001b[1mwandb\u001b[0m: \tnum_layers: 5\n",
            "\u001b[34m\u001b[1mwandb\u001b[0m: \toptimizer: momentum\n",
            "\u001b[34m\u001b[1mwandb\u001b[0m: \tweight_decay: 0\n",
            "\u001b[34m\u001b[1mwandb\u001b[0m: \tweight_ini_method: Xavier\n"
          ]
        },
        {
          "data": {
            "text/html": [
              "Tracking run with wandb version 0.19.7"
            ],
            "text/plain": [
              "<IPython.core.display.HTML object>"
            ]
          },
          "metadata": {},
          "output_type": "display_data"
        },
        {
          "data": {
            "text/html": [
              "Run data is saved locally in <code>/content/wandb/run-20250309_140225-gjkcop4u</code>"
            ],
            "text/plain": [
              "<IPython.core.display.HTML object>"
            ]
          },
          "metadata": {},
          "output_type": "display_data"
        },
        {
          "data": {
            "text/html": [
              "Syncing run <strong><a href='https://wandb.ai/bgorai005-iit-madras/deep_learning_assignment_1/runs/gjkcop4u' target=\"_blank\">divine-sweep-23</a></strong> to <a href='https://wandb.ai/bgorai005-iit-madras/deep_learning_assignment_1' target=\"_blank\">Weights & Biases</a> (<a href='https://wandb.me/developer-guide' target=\"_blank\">docs</a>)<br>Sweep page: <a href='https://wandb.ai/bgorai005-iit-madras/deep_learning_assignment_1/sweeps/xd33zmtu' target=\"_blank\">https://wandb.ai/bgorai005-iit-madras/deep_learning_assignment_1/sweeps/xd33zmtu</a>"
            ],
            "text/plain": [
              "<IPython.core.display.HTML object>"
            ]
          },
          "metadata": {},
          "output_type": "display_data"
        },
        {
          "data": {
            "text/html": [
              " View project at <a href='https://wandb.ai/bgorai005-iit-madras/deep_learning_assignment_1' target=\"_blank\">https://wandb.ai/bgorai005-iit-madras/deep_learning_assignment_1</a>"
            ],
            "text/plain": [
              "<IPython.core.display.HTML object>"
            ]
          },
          "metadata": {},
          "output_type": "display_data"
        },
        {
          "data": {
            "text/html": [
              " View sweep at <a href='https://wandb.ai/bgorai005-iit-madras/deep_learning_assignment_1/sweeps/xd33zmtu' target=\"_blank\">https://wandb.ai/bgorai005-iit-madras/deep_learning_assignment_1/sweeps/xd33zmtu</a>"
            ],
            "text/plain": [
              "<IPython.core.display.HTML object>"
            ]
          },
          "metadata": {},
          "output_type": "display_data"
        },
        {
          "data": {
            "text/html": [
              " View run at <a href='https://wandb.ai/bgorai005-iit-madras/deep_learning_assignment_1/runs/gjkcop4u' target=\"_blank\">https://wandb.ai/bgorai005-iit-madras/deep_learning_assignment_1/runs/gjkcop4u</a>"
            ],
            "text/plain": [
              "<IPython.core.display.HTML object>"
            ]
          },
          "metadata": {},
          "output_type": "display_data"
        },
        {
          "metadata": {
            "tags": null
          },
          "name": "stdout",
          "output_type": "stream",
          "text": [
            "[784, 64, 64, 64, 64, 64, 10]\n",
            "Epoch 1, Train Loss: 0.47446056268590664, Val Loss: 0.4845738483043633\n",
            "Epoch 2, Train Loss: 0.4367980162869416, Val Loss: 0.45133054109755155\n",
            "Epoch 3, Train Loss: 0.4276032577454806, Val Loss: 0.45730039314884213\n",
            "Epoch 4, Train Loss: 0.36597689634586755, Val Loss: 0.3960277099014398\n",
            "Epoch 5, Train Loss: 0.37400271657630607, Val Loss: 0.4179684783613276\n",
            "Test accuracy: 0.8485\n"
          ]
        },
        {
          "data": {
            "text/html": [],
            "text/plain": [
              "<IPython.core.display.HTML object>"
            ]
          },
          "metadata": {},
          "output_type": "display_data"
        },
        {
          "data": {
            "text/html": [
              "<br>    <style><br>        .wandb-row {<br>            display: flex;<br>            flex-direction: row;<br>            flex-wrap: wrap;<br>            justify-content: flex-start;<br>            width: 100%;<br>        }<br>        .wandb-col {<br>            display: flex;<br>            flex-direction: column;<br>            flex-basis: 100%;<br>            flex: 1;<br>            padding: 10px;<br>        }<br>    </style><br><div class=\"wandb-row\"><div class=\"wandb-col\"><h3>Run history:</h3><br/><table class=\"wandb\"><tr><td>epoch</td><td>▁▃▅▆█</td></tr><tr><td>train_accuracy</td><td>▁▃▂▇█</td></tr><tr><td>train_loss</td><td>█▆▅▁▂</td></tr><tr><td>val_accuracy</td><td>▁▂▁▇█</td></tr><tr><td>val_loss</td><td>█▅▆▁▃</td></tr></table><br/></div><div class=\"wandb-col\"><h3>Run summary:</h3><br/><table class=\"wandb\"><tr><td>epoch</td><td>5</td></tr><tr><td>train_accuracy</td><td>87.1037</td></tr><tr><td>train_loss</td><td>0.374</td></tr><tr><td>val_accuracy</td><td>86</td></tr><tr><td>val_loss</td><td>0.41797</td></tr></table><br/></div></div>"
            ],
            "text/plain": [
              "<IPython.core.display.HTML object>"
            ]
          },
          "metadata": {},
          "output_type": "display_data"
        },
        {
          "data": {
            "text/html": [
              " View run <strong style=\"color:#cdcd00\">ac-relu_hs-64_epc-5_nl-5_lr0.001_wd-0_opt-momentum_bs-16_wi-Xavier</strong> at: <a href='https://wandb.ai/bgorai005-iit-madras/deep_learning_assignment_1/runs/gjkcop4u' target=\"_blank\">https://wandb.ai/bgorai005-iit-madras/deep_learning_assignment_1/runs/gjkcop4u</a><br> View project at: <a href='https://wandb.ai/bgorai005-iit-madras/deep_learning_assignment_1' target=\"_blank\">https://wandb.ai/bgorai005-iit-madras/deep_learning_assignment_1</a><br>Synced 5 W&B file(s), 0 media file(s), 0 artifact file(s) and 0 other file(s)"
            ],
            "text/plain": [
              "<IPython.core.display.HTML object>"
            ]
          },
          "metadata": {},
          "output_type": "display_data"
        },
        {
          "data": {
            "text/html": [
              "Find logs at: <code>./wandb/run-20250309_140225-gjkcop4u/logs</code>"
            ],
            "text/plain": [
              "<IPython.core.display.HTML object>"
            ]
          },
          "metadata": {},
          "output_type": "display_data"
        },
        {
          "metadata": {
            "tags": null
          },
          "name": "stderr",
          "output_type": "stream",
          "text": [
            "\u001b[34m\u001b[1mwandb\u001b[0m: Agent Starting Run: xmljdcnc with config:\n",
            "\u001b[34m\u001b[1mwandb\u001b[0m: \tactivation_hidden: tanh\n",
            "\u001b[34m\u001b[1mwandb\u001b[0m: \tactivation_output: softmax\n",
            "\u001b[34m\u001b[1mwandb\u001b[0m: \tbatch_size: 64\n",
            "\u001b[34m\u001b[1mwandb\u001b[0m: \tepochs: 10\n",
            "\u001b[34m\u001b[1mwandb\u001b[0m: \thidden_size: 32\n",
            "\u001b[34m\u001b[1mwandb\u001b[0m: \tlearning_rate: 0.0001\n",
            "\u001b[34m\u001b[1mwandb\u001b[0m: \tnum_layers: 4\n",
            "\u001b[34m\u001b[1mwandb\u001b[0m: \toptimizer: nag\n",
            "\u001b[34m\u001b[1mwandb\u001b[0m: \tweight_decay: 0\n",
            "\u001b[34m\u001b[1mwandb\u001b[0m: \tweight_ini_method: random\n"
          ]
        },
        {
          "data": {
            "text/html": [
              "Tracking run with wandb version 0.19.7"
            ],
            "text/plain": [
              "<IPython.core.display.HTML object>"
            ]
          },
          "metadata": {},
          "output_type": "display_data"
        },
        {
          "data": {
            "text/html": [
              "Run data is saved locally in <code>/content/wandb/run-20250309_140327-xmljdcnc</code>"
            ],
            "text/plain": [
              "<IPython.core.display.HTML object>"
            ]
          },
          "metadata": {},
          "output_type": "display_data"
        },
        {
          "data": {
            "text/html": [
              "Syncing run <strong><a href='https://wandb.ai/bgorai005-iit-madras/deep_learning_assignment_1/runs/xmljdcnc' target=\"_blank\">still-sweep-24</a></strong> to <a href='https://wandb.ai/bgorai005-iit-madras/deep_learning_assignment_1' target=\"_blank\">Weights & Biases</a> (<a href='https://wandb.me/developer-guide' target=\"_blank\">docs</a>)<br>Sweep page: <a href='https://wandb.ai/bgorai005-iit-madras/deep_learning_assignment_1/sweeps/xd33zmtu' target=\"_blank\">https://wandb.ai/bgorai005-iit-madras/deep_learning_assignment_1/sweeps/xd33zmtu</a>"
            ],
            "text/plain": [
              "<IPython.core.display.HTML object>"
            ]
          },
          "metadata": {},
          "output_type": "display_data"
        },
        {
          "data": {
            "text/html": [
              " View project at <a href='https://wandb.ai/bgorai005-iit-madras/deep_learning_assignment_1' target=\"_blank\">https://wandb.ai/bgorai005-iit-madras/deep_learning_assignment_1</a>"
            ],
            "text/plain": [
              "<IPython.core.display.HTML object>"
            ]
          },
          "metadata": {},
          "output_type": "display_data"
        },
        {
          "data": {
            "text/html": [
              " View sweep at <a href='https://wandb.ai/bgorai005-iit-madras/deep_learning_assignment_1/sweeps/xd33zmtu' target=\"_blank\">https://wandb.ai/bgorai005-iit-madras/deep_learning_assignment_1/sweeps/xd33zmtu</a>"
            ],
            "text/plain": [
              "<IPython.core.display.HTML object>"
            ]
          },
          "metadata": {},
          "output_type": "display_data"
        },
        {
          "data": {
            "text/html": [
              " View run at <a href='https://wandb.ai/bgorai005-iit-madras/deep_learning_assignment_1/runs/xmljdcnc' target=\"_blank\">https://wandb.ai/bgorai005-iit-madras/deep_learning_assignment_1/runs/xmljdcnc</a>"
            ],
            "text/plain": [
              "<IPython.core.display.HTML object>"
            ]
          },
          "metadata": {},
          "output_type": "display_data"
        },
        {
          "metadata": {
            "tags": null
          },
          "name": "stdout",
          "output_type": "stream",
          "text": [
            "[784, 32, 32, 32, 32, 10]\n",
            "Epoch 1, Loss: 0.15136026113072448, Validation Loss: 0.15194865188112644\n",
            "Epoch 2, Loss: 0.13712684495035196, Validation Loss: 0.13827667463238744\n",
            "Epoch 3, Loss: 0.172162149246056, Validation Loss: 0.1682039763335212\n",
            "Epoch 4, Loss: 0.17816893928308747, Validation Loss: 0.18000756574617235\n",
            "Epoch 5, Loss: 0.1778582111851814, Validation Loss: 0.179694885118478\n",
            "Epoch 6, Loss: 0.1469104540208526, Validation Loss: 0.14844208947592177\n",
            "Epoch 7, Loss: 0.12057639194353316, Validation Loss: 0.12158853772640883\n",
            "Epoch 8, Loss: 0.1371820463950541, Validation Loss: 0.13770452137663147\n",
            "Epoch 9, Loss: 0.13652344130734054, Validation Loss: 0.1369751949853397\n",
            "Epoch 10, Loss: 0.14871049097013178, Validation Loss: 0.14918703319955307\n",
            "Test accuracy: 0.1\n"
          ]
        },
        {
          "data": {
            "text/html": [],
            "text/plain": [
              "<IPython.core.display.HTML object>"
            ]
          },
          "metadata": {},
          "output_type": "display_data"
        },
        {
          "data": {
            "text/html": [
              "<br>    <style><br>        .wandb-row {<br>            display: flex;<br>            flex-direction: row;<br>            flex-wrap: wrap;<br>            justify-content: flex-start;<br>            width: 100%;<br>        }<br>        .wandb-col {<br>            display: flex;<br>            flex-direction: column;<br>            flex-basis: 100%;<br>            flex: 1;<br>            padding: 10px;<br>        }<br>    </style><br><div class=\"wandb-row\"><div class=\"wandb-col\"><h3>Run history:</h3><br/><table class=\"wandb\"><tr><td>epoch</td><td>▁▂▃▃▄▅▆▆▇█</td></tr><tr><td>train_accuracy</td><td>▁▃█▂▂▂▂▂▂▂</td></tr><tr><td>train_loss</td><td>▅▃▇██▄▁▃▃▄</td></tr><tr><td>val_accuracy</td><td>▂▄█▁▁▁▁▃▃▃</td></tr><tr><td>val_loss</td><td>▅▃▇██▄▁▃▃▄</td></tr></table><br/></div><div class=\"wandb-col\"><h3>Run summary:</h3><br/><table class=\"wandb\"><tr><td>epoch</td><td>10</td></tr><tr><td>train_accuracy</td><td>10.02407</td></tr><tr><td>train_loss</td><td>0.14871</td></tr><tr><td>val_accuracy</td><td>9.78333</td></tr><tr><td>val_loss</td><td>0.14919</td></tr></table><br/></div></div>"
            ],
            "text/plain": [
              "<IPython.core.display.HTML object>"
            ]
          },
          "metadata": {},
          "output_type": "display_data"
        },
        {
          "data": {
            "text/html": [
              " View run <strong style=\"color:#cdcd00\">ac-tanh_hs-32_epc-10_nl-4_lr0.0001_wd-0_opt-nag_bs-64_wi-random</strong> at: <a href='https://wandb.ai/bgorai005-iit-madras/deep_learning_assignment_1/runs/xmljdcnc' target=\"_blank\">https://wandb.ai/bgorai005-iit-madras/deep_learning_assignment_1/runs/xmljdcnc</a><br> View project at: <a href='https://wandb.ai/bgorai005-iit-madras/deep_learning_assignment_1' target=\"_blank\">https://wandb.ai/bgorai005-iit-madras/deep_learning_assignment_1</a><br>Synced 5 W&B file(s), 0 media file(s), 0 artifact file(s) and 0 other file(s)"
            ],
            "text/plain": [
              "<IPython.core.display.HTML object>"
            ]
          },
          "metadata": {},
          "output_type": "display_data"
        },
        {
          "data": {
            "text/html": [
              "Find logs at: <code>./wandb/run-20250309_140327-xmljdcnc/logs</code>"
            ],
            "text/plain": [
              "<IPython.core.display.HTML object>"
            ]
          },
          "metadata": {},
          "output_type": "display_data"
        },
        {
          "metadata": {
            "tags": null
          },
          "name": "stderr",
          "output_type": "stream",
          "text": [
            "\u001b[34m\u001b[1mwandb\u001b[0m: Agent Starting Run: f5922fls with config:\n",
            "\u001b[34m\u001b[1mwandb\u001b[0m: \tactivation_hidden: tanh\n",
            "\u001b[34m\u001b[1mwandb\u001b[0m: \tactivation_output: softmax\n",
            "\u001b[34m\u001b[1mwandb\u001b[0m: \tbatch_size: 64\n",
            "\u001b[34m\u001b[1mwandb\u001b[0m: \tepochs: 5\n",
            "\u001b[34m\u001b[1mwandb\u001b[0m: \thidden_size: 64\n",
            "\u001b[34m\u001b[1mwandb\u001b[0m: \tlearning_rate: 0.001\n",
            "\u001b[34m\u001b[1mwandb\u001b[0m: \tnum_layers: 3\n",
            "\u001b[34m\u001b[1mwandb\u001b[0m: \toptimizer: momentum\n",
            "\u001b[34m\u001b[1mwandb\u001b[0m: \tweight_decay: 0\n",
            "\u001b[34m\u001b[1mwandb\u001b[0m: \tweight_ini_method: random\n"
          ]
        },
        {
          "data": {
            "text/html": [
              "Tracking run with wandb version 0.19.7"
            ],
            "text/plain": [
              "<IPython.core.display.HTML object>"
            ]
          },
          "metadata": {},
          "output_type": "display_data"
        },
        {
          "data": {
            "text/html": [
              "Run data is saved locally in <code>/content/wandb/run-20250309_140429-f5922fls</code>"
            ],
            "text/plain": [
              "<IPython.core.display.HTML object>"
            ]
          },
          "metadata": {},
          "output_type": "display_data"
        },
        {
          "data": {
            "text/html": [
              "Syncing run <strong><a href='https://wandb.ai/bgorai005-iit-madras/deep_learning_assignment_1/runs/f5922fls' target=\"_blank\">misunderstood-sweep-25</a></strong> to <a href='https://wandb.ai/bgorai005-iit-madras/deep_learning_assignment_1' target=\"_blank\">Weights & Biases</a> (<a href='https://wandb.me/developer-guide' target=\"_blank\">docs</a>)<br>Sweep page: <a href='https://wandb.ai/bgorai005-iit-madras/deep_learning_assignment_1/sweeps/xd33zmtu' target=\"_blank\">https://wandb.ai/bgorai005-iit-madras/deep_learning_assignment_1/sweeps/xd33zmtu</a>"
            ],
            "text/plain": [
              "<IPython.core.display.HTML object>"
            ]
          },
          "metadata": {},
          "output_type": "display_data"
        },
        {
          "data": {
            "text/html": [
              " View project at <a href='https://wandb.ai/bgorai005-iit-madras/deep_learning_assignment_1' target=\"_blank\">https://wandb.ai/bgorai005-iit-madras/deep_learning_assignment_1</a>"
            ],
            "text/plain": [
              "<IPython.core.display.HTML object>"
            ]
          },
          "metadata": {},
          "output_type": "display_data"
        },
        {
          "data": {
            "text/html": [
              " View sweep at <a href='https://wandb.ai/bgorai005-iit-madras/deep_learning_assignment_1/sweeps/xd33zmtu' target=\"_blank\">https://wandb.ai/bgorai005-iit-madras/deep_learning_assignment_1/sweeps/xd33zmtu</a>"
            ],
            "text/plain": [
              "<IPython.core.display.HTML object>"
            ]
          },
          "metadata": {},
          "output_type": "display_data"
        },
        {
          "data": {
            "text/html": [
              " View run at <a href='https://wandb.ai/bgorai005-iit-madras/deep_learning_assignment_1/runs/f5922fls' target=\"_blank\">https://wandb.ai/bgorai005-iit-madras/deep_learning_assignment_1/runs/f5922fls</a>"
            ],
            "text/plain": [
              "<IPython.core.display.HTML object>"
            ]
          },
          "metadata": {},
          "output_type": "display_data"
        },
        {
          "metadata": {
            "tags": null
          },
          "name": "stdout",
          "output_type": "stream",
          "text": [
            "[784, 64, 64, 64, 10]\n",
            "Epoch 1, Train Loss: 0.8503795307279051, Val Loss: 0.8590620367269612\n",
            "Epoch 2, Train Loss: 0.8966426025041343, Val Loss: 0.9262033635405275\n",
            "Epoch 3, Train Loss: 0.7571107995706324, Val Loss: 0.7652723317570963\n",
            "Epoch 4, Train Loss: 0.7957022344596407, Val Loss: 0.8076831064436456\n",
            "Epoch 5, Train Loss: 0.6821544278072976, Val Loss: 0.7069941861969207\n",
            "Test accuracy: 0.7508\n"
          ]
        },
        {
          "data": {
            "text/html": [],
            "text/plain": [
              "<IPython.core.display.HTML object>"
            ]
          },
          "metadata": {},
          "output_type": "display_data"
        },
        {
          "data": {
            "text/html": [
              "<br>    <style><br>        .wandb-row {<br>            display: flex;<br>            flex-direction: row;<br>            flex-wrap: wrap;<br>            justify-content: flex-start;<br>            width: 100%;<br>        }<br>        .wandb-col {<br>            display: flex;<br>            flex-direction: column;<br>            flex-basis: 100%;<br>            flex: 1;<br>            padding: 10px;<br>        }<br>    </style><br><div class=\"wandb-row\"><div class=\"wandb-col\"><h3>Run history:</h3><br/><table class=\"wandb\"><tr><td>epoch</td><td>▁▃▅▆█</td></tr><tr><td>train_accuracy</td><td>▂▁▇▇█</td></tr><tr><td>train_loss</td><td>▆█▃▅▁</td></tr><tr><td>val_accuracy</td><td>▃▁███</td></tr><tr><td>val_loss</td><td>▆█▃▄▁</td></tr></table><br/></div><div class=\"wandb-col\"><h3>Run summary:</h3><br/><table class=\"wandb\"><tr><td>epoch</td><td>5</td></tr><tr><td>train_accuracy</td><td>76.0537</td></tr><tr><td>train_loss</td><td>0.68215</td></tr><tr><td>val_accuracy</td><td>74.16667</td></tr><tr><td>val_loss</td><td>0.70699</td></tr></table><br/></div></div>"
            ],
            "text/plain": [
              "<IPython.core.display.HTML object>"
            ]
          },
          "metadata": {},
          "output_type": "display_data"
        },
        {
          "data": {
            "text/html": [
              " View run <strong style=\"color:#cdcd00\">ac-tanh_hs-64_epc-5_nl-3_lr0.001_wd-0_opt-momentum_bs-64_wi-random</strong> at: <a href='https://wandb.ai/bgorai005-iit-madras/deep_learning_assignment_1/runs/f5922fls' target=\"_blank\">https://wandb.ai/bgorai005-iit-madras/deep_learning_assignment_1/runs/f5922fls</a><br> View project at: <a href='https://wandb.ai/bgorai005-iit-madras/deep_learning_assignment_1' target=\"_blank\">https://wandb.ai/bgorai005-iit-madras/deep_learning_assignment_1</a><br>Synced 5 W&B file(s), 0 media file(s), 0 artifact file(s) and 0 other file(s)"
            ],
            "text/plain": [
              "<IPython.core.display.HTML object>"
            ]
          },
          "metadata": {},
          "output_type": "display_data"
        },
        {
          "data": {
            "text/html": [
              "Find logs at: <code>./wandb/run-20250309_140429-f5922fls/logs</code>"
            ],
            "text/plain": [
              "<IPython.core.display.HTML object>"
            ]
          },
          "metadata": {},
          "output_type": "display_data"
        },
        {
          "metadata": {
            "tags": null
          },
          "name": "stderr",
          "output_type": "stream",
          "text": [
            "\u001b[34m\u001b[1mwandb\u001b[0m: Agent Starting Run: helr5kub with config:\n",
            "\u001b[34m\u001b[1mwandb\u001b[0m: \tactivation_hidden: sigmoid\n",
            "\u001b[34m\u001b[1mwandb\u001b[0m: \tactivation_output: softmax\n",
            "\u001b[34m\u001b[1mwandb\u001b[0m: \tbatch_size: 16\n",
            "\u001b[34m\u001b[1mwandb\u001b[0m: \tepochs: 5\n",
            "\u001b[34m\u001b[1mwandb\u001b[0m: \thidden_size: 128\n",
            "\u001b[34m\u001b[1mwandb\u001b[0m: \tlearning_rate: 0.001\n",
            "\u001b[34m\u001b[1mwandb\u001b[0m: \tnum_layers: 3\n",
            "\u001b[34m\u001b[1mwandb\u001b[0m: \toptimizer: nadam\n",
            "\u001b[34m\u001b[1mwandb\u001b[0m: \tweight_decay: 0\n",
            "\u001b[34m\u001b[1mwandb\u001b[0m: \tweight_ini_method: Xavier\n"
          ]
        },
        {
          "data": {
            "text/html": [
              "Tracking run with wandb version 0.19.7"
            ],
            "text/plain": [
              "<IPython.core.display.HTML object>"
            ]
          },
          "metadata": {},
          "output_type": "display_data"
        },
        {
          "data": {
            "text/html": [
              "Run data is saved locally in <code>/content/wandb/run-20250309_140510-helr5kub</code>"
            ],
            "text/plain": [
              "<IPython.core.display.HTML object>"
            ]
          },
          "metadata": {},
          "output_type": "display_data"
        },
        {
          "data": {
            "text/html": [
              "Syncing run <strong><a href='https://wandb.ai/bgorai005-iit-madras/deep_learning_assignment_1/runs/helr5kub' target=\"_blank\">jumping-sweep-26</a></strong> to <a href='https://wandb.ai/bgorai005-iit-madras/deep_learning_assignment_1' target=\"_blank\">Weights & Biases</a> (<a href='https://wandb.me/developer-guide' target=\"_blank\">docs</a>)<br>Sweep page: <a href='https://wandb.ai/bgorai005-iit-madras/deep_learning_assignment_1/sweeps/xd33zmtu' target=\"_blank\">https://wandb.ai/bgorai005-iit-madras/deep_learning_assignment_1/sweeps/xd33zmtu</a>"
            ],
            "text/plain": [
              "<IPython.core.display.HTML object>"
            ]
          },
          "metadata": {},
          "output_type": "display_data"
        },
        {
          "data": {
            "text/html": [
              " View project at <a href='https://wandb.ai/bgorai005-iit-madras/deep_learning_assignment_1' target=\"_blank\">https://wandb.ai/bgorai005-iit-madras/deep_learning_assignment_1</a>"
            ],
            "text/plain": [
              "<IPython.core.display.HTML object>"
            ]
          },
          "metadata": {},
          "output_type": "display_data"
        },
        {
          "data": {
            "text/html": [
              " View sweep at <a href='https://wandb.ai/bgorai005-iit-madras/deep_learning_assignment_1/sweeps/xd33zmtu' target=\"_blank\">https://wandb.ai/bgorai005-iit-madras/deep_learning_assignment_1/sweeps/xd33zmtu</a>"
            ],
            "text/plain": [
              "<IPython.core.display.HTML object>"
            ]
          },
          "metadata": {},
          "output_type": "display_data"
        },
        {
          "data": {
            "text/html": [
              " View run at <a href='https://wandb.ai/bgorai005-iit-madras/deep_learning_assignment_1/runs/helr5kub' target=\"_blank\">https://wandb.ai/bgorai005-iit-madras/deep_learning_assignment_1/runs/helr5kub</a>"
            ],
            "text/plain": [
              "<IPython.core.display.HTML object>"
            ]
          },
          "metadata": {},
          "output_type": "display_data"
        },
        {
          "metadata": {
            "tags": null
          },
          "name": "stdout",
          "output_type": "stream",
          "text": [
            "[784, 128, 128, 128, 10]\n",
            "Epoch 1, Loss: 7.167799734773712, Validation Loss: 0.4096097933829885\n",
            "Epoch 2, Loss: 7.477181586248949, Validation Loss: 0.37450360149196066\n",
            "Epoch 3, Loss: 8.053404363310984, Validation Loss: 0.3538197410666288\n",
            "Epoch 4, Loss: 8.076853256781485, Validation Loss: 0.3260440087013798\n",
            "Epoch 5, Loss: 8.350510898588649, Validation Loss: 0.33883489777523607\n",
            " accuracy: 0.8685\n"
          ]
        },
        {
          "data": {
            "text/html": [],
            "text/plain": [
              "<IPython.core.display.HTML object>"
            ]
          },
          "metadata": {},
          "output_type": "display_data"
        },
        {
          "data": {
            "text/html": [
              "<br>    <style><br>        .wandb-row {<br>            display: flex;<br>            flex-direction: row;<br>            flex-wrap: wrap;<br>            justify-content: flex-start;<br>            width: 100%;<br>        }<br>        .wandb-col {<br>            display: flex;<br>            flex-direction: column;<br>            flex-basis: 100%;<br>            flex: 1;<br>            padding: 10px;<br>        }<br>    </style><br><div class=\"wandb-row\"><div class=\"wandb-col\"><h3>Run history:</h3><br/><table class=\"wandb\"><tr><td>epoch</td><td>▁▃▅▆█</td></tr><tr><td>train_accuracy</td><td>▁▄▆██</td></tr><tr><td>train_loss</td><td>▁▃▆▆█</td></tr><tr><td>val_accuracy</td><td>▁▃▅█▆</td></tr><tr><td>val_loss</td><td>█▅▃▁▂</td></tr></table><br/></div><div class=\"wandb-col\"><h3>Run summary:</h3><br/><table class=\"wandb\"><tr><td>epoch</td><td>5</td></tr><tr><td>train_accuracy</td><td>89.08519</td></tr><tr><td>train_loss</td><td>8.35051</td></tr><tr><td>val_accuracy</td><td>87.85</td></tr><tr><td>val_loss</td><td>0.33883</td></tr></table><br/></div></div>"
            ],
            "text/plain": [
              "<IPython.core.display.HTML object>"
            ]
          },
          "metadata": {},
          "output_type": "display_data"
        },
        {
          "data": {
            "text/html": [
              " View run <strong style=\"color:#cdcd00\">ac-sigmoid_hs-128_epc-5_nl-3_lr0.001_wd-0_opt-nadam_bs-16_wi-Xavier</strong> at: <a href='https://wandb.ai/bgorai005-iit-madras/deep_learning_assignment_1/runs/helr5kub' target=\"_blank\">https://wandb.ai/bgorai005-iit-madras/deep_learning_assignment_1/runs/helr5kub</a><br> View project at: <a href='https://wandb.ai/bgorai005-iit-madras/deep_learning_assignment_1' target=\"_blank\">https://wandb.ai/bgorai005-iit-madras/deep_learning_assignment_1</a><br>Synced 5 W&B file(s), 0 media file(s), 0 artifact file(s) and 0 other file(s)"
            ],
            "text/plain": [
              "<IPython.core.display.HTML object>"
            ]
          },
          "metadata": {},
          "output_type": "display_data"
        },
        {
          "data": {
            "text/html": [
              "Find logs at: <code>./wandb/run-20250309_140510-helr5kub/logs</code>"
            ],
            "text/plain": [
              "<IPython.core.display.HTML object>"
            ]
          },
          "metadata": {},
          "output_type": "display_data"
        },
        {
          "metadata": {
            "tags": null
          },
          "name": "stderr",
          "output_type": "stream",
          "text": [
            "\u001b[34m\u001b[1mwandb\u001b[0m: Agent Starting Run: pkuhppr9 with config:\n",
            "\u001b[34m\u001b[1mwandb\u001b[0m: \tactivation_hidden: tanh\n",
            "\u001b[34m\u001b[1mwandb\u001b[0m: \tactivation_output: softmax\n",
            "\u001b[34m\u001b[1mwandb\u001b[0m: \tbatch_size: 64\n",
            "\u001b[34m\u001b[1mwandb\u001b[0m: \tepochs: 5\n",
            "\u001b[34m\u001b[1mwandb\u001b[0m: \thidden_size: 32\n",
            "\u001b[34m\u001b[1mwandb\u001b[0m: \tlearning_rate: 0.001\n",
            "\u001b[34m\u001b[1mwandb\u001b[0m: \tnum_layers: 4\n",
            "\u001b[34m\u001b[1mwandb\u001b[0m: \toptimizer: nadam\n",
            "\u001b[34m\u001b[1mwandb\u001b[0m: \tweight_decay: 0\n",
            "\u001b[34m\u001b[1mwandb\u001b[0m: \tweight_ini_method: random\n"
          ]
        },
        {
          "data": {
            "text/html": [
              "Tracking run with wandb version 0.19.7"
            ],
            "text/plain": [
              "<IPython.core.display.HTML object>"
            ]
          },
          "metadata": {},
          "output_type": "display_data"
        },
        {
          "data": {
            "text/html": [
              "Run data is saved locally in <code>/content/wandb/run-20250309_140732-pkuhppr9</code>"
            ],
            "text/plain": [
              "<IPython.core.display.HTML object>"
            ]
          },
          "metadata": {},
          "output_type": "display_data"
        },
        {
          "data": {
            "text/html": [
              "Syncing run <strong><a href='https://wandb.ai/bgorai005-iit-madras/deep_learning_assignment_1/runs/pkuhppr9' target=\"_blank\">jumping-sweep-27</a></strong> to <a href='https://wandb.ai/bgorai005-iit-madras/deep_learning_assignment_1' target=\"_blank\">Weights & Biases</a> (<a href='https://wandb.me/developer-guide' target=\"_blank\">docs</a>)<br>Sweep page: <a href='https://wandb.ai/bgorai005-iit-madras/deep_learning_assignment_1/sweeps/xd33zmtu' target=\"_blank\">https://wandb.ai/bgorai005-iit-madras/deep_learning_assignment_1/sweeps/xd33zmtu</a>"
            ],
            "text/plain": [
              "<IPython.core.display.HTML object>"
            ]
          },
          "metadata": {},
          "output_type": "display_data"
        },
        {
          "data": {
            "text/html": [
              " View project at <a href='https://wandb.ai/bgorai005-iit-madras/deep_learning_assignment_1' target=\"_blank\">https://wandb.ai/bgorai005-iit-madras/deep_learning_assignment_1</a>"
            ],
            "text/plain": [
              "<IPython.core.display.HTML object>"
            ]
          },
          "metadata": {},
          "output_type": "display_data"
        },
        {
          "data": {
            "text/html": [
              " View sweep at <a href='https://wandb.ai/bgorai005-iit-madras/deep_learning_assignment_1/sweeps/xd33zmtu' target=\"_blank\">https://wandb.ai/bgorai005-iit-madras/deep_learning_assignment_1/sweeps/xd33zmtu</a>"
            ],
            "text/plain": [
              "<IPython.core.display.HTML object>"
            ]
          },
          "metadata": {},
          "output_type": "display_data"
        },
        {
          "data": {
            "text/html": [
              " View run at <a href='https://wandb.ai/bgorai005-iit-madras/deep_learning_assignment_1/runs/pkuhppr9' target=\"_blank\">https://wandb.ai/bgorai005-iit-madras/deep_learning_assignment_1/runs/pkuhppr9</a>"
            ],
            "text/plain": [
              "<IPython.core.display.HTML object>"
            ]
          },
          "metadata": {},
          "output_type": "display_data"
        },
        {
          "metadata": {
            "tags": null
          },
          "name": "stdout",
          "output_type": "stream",
          "text": [
            "[784, 32, 32, 32, 32, 10]\n",
            "Epoch 1, Loss: 5.213083437526773, Validation Loss: 1.2428486324991437\n",
            "Epoch 2, Loss: 5.387105512058871, Validation Loss: 0.9997093979234135\n",
            "Epoch 3, Loss: 5.556789679553177, Validation Loss: 0.9124289298970973\n",
            "Epoch 4, Loss: 5.623511550220844, Validation Loss: 0.8638130517888314\n",
            "Epoch 5, Loss: 5.706732132337128, Validation Loss: 0.8178178410762476\n",
            " accuracy: 0.6861\n"
          ]
        },
        {
          "data": {
            "text/html": [],
            "text/plain": [
              "<IPython.core.display.HTML object>"
            ]
          },
          "metadata": {},
          "output_type": "display_data"
        },
        {
          "data": {
            "text/html": [
              "<br>    <style><br>        .wandb-row {<br>            display: flex;<br>            flex-direction: row;<br>            flex-wrap: wrap;<br>            justify-content: flex-start;<br>            width: 100%;<br>        }<br>        .wandb-col {<br>            display: flex;<br>            flex-direction: column;<br>            flex-basis: 100%;<br>            flex: 1;<br>            padding: 10px;<br>        }<br>    </style><br><div class=\"wandb-row\"><div class=\"wandb-col\"><h3>Run history:</h3><br/><table class=\"wandb\"><tr><td>epoch</td><td>▁▃▅▆█</td></tr><tr><td>train_accuracy</td><td>▁▄▆▇█</td></tr><tr><td>train_loss</td><td>▁▃▆▇█</td></tr><tr><td>val_accuracy</td><td>▁▄▆▆█</td></tr><tr><td>val_loss</td><td>█▄▃▂▁</td></tr></table><br/></div><div class=\"wandb-col\"><h3>Run summary:</h3><br/><table class=\"wandb\"><tr><td>epoch</td><td>5</td></tr><tr><td>train_accuracy</td><td>69.84815</td></tr><tr><td>train_loss</td><td>5.70673</td></tr><tr><td>val_accuracy</td><td>69.66667</td></tr><tr><td>val_loss</td><td>0.81782</td></tr></table><br/></div></div>"
            ],
            "text/plain": [
              "<IPython.core.display.HTML object>"
            ]
          },
          "metadata": {},
          "output_type": "display_data"
        },
        {
          "data": {
            "text/html": [
              " View run <strong style=\"color:#cdcd00\">ac-tanh_hs-32_epc-5_nl-4_lr0.001_wd-0_opt-nadam_bs-64_wi-random</strong> at: <a href='https://wandb.ai/bgorai005-iit-madras/deep_learning_assignment_1/runs/pkuhppr9' target=\"_blank\">https://wandb.ai/bgorai005-iit-madras/deep_learning_assignment_1/runs/pkuhppr9</a><br> View project at: <a href='https://wandb.ai/bgorai005-iit-madras/deep_learning_assignment_1' target=\"_blank\">https://wandb.ai/bgorai005-iit-madras/deep_learning_assignment_1</a><br>Synced 5 W&B file(s), 0 media file(s), 0 artifact file(s) and 0 other file(s)"
            ],
            "text/plain": [
              "<IPython.core.display.HTML object>"
            ]
          },
          "metadata": {},
          "output_type": "display_data"
        },
        {
          "data": {
            "text/html": [
              "Find logs at: <code>./wandb/run-20250309_140732-pkuhppr9/logs</code>"
            ],
            "text/plain": [
              "<IPython.core.display.HTML object>"
            ]
          },
          "metadata": {},
          "output_type": "display_data"
        },
        {
          "metadata": {
            "tags": null
          },
          "name": "stderr",
          "output_type": "stream",
          "text": [
            "\u001b[34m\u001b[1mwandb\u001b[0m: Agent Starting Run: n3qxstua with config:\n",
            "\u001b[34m\u001b[1mwandb\u001b[0m: \tactivation_hidden: tanh\n",
            "\u001b[34m\u001b[1mwandb\u001b[0m: \tactivation_output: softmax\n",
            "\u001b[34m\u001b[1mwandb\u001b[0m: \tbatch_size: 64\n",
            "\u001b[34m\u001b[1mwandb\u001b[0m: \tepochs: 10\n",
            "\u001b[34m\u001b[1mwandb\u001b[0m: \thidden_size: 128\n",
            "\u001b[34m\u001b[1mwandb\u001b[0m: \tlearning_rate: 0.0001\n",
            "\u001b[34m\u001b[1mwandb\u001b[0m: \tnum_layers: 5\n",
            "\u001b[34m\u001b[1mwandb\u001b[0m: \toptimizer: nadam\n",
            "\u001b[34m\u001b[1mwandb\u001b[0m: \tweight_decay: 0\n",
            "\u001b[34m\u001b[1mwandb\u001b[0m: \tweight_ini_method: Xavier\n"
          ]
        },
        {
          "data": {
            "text/html": [
              "Tracking run with wandb version 0.19.7"
            ],
            "text/plain": [
              "<IPython.core.display.HTML object>"
            ]
          },
          "metadata": {},
          "output_type": "display_data"
        },
        {
          "data": {
            "text/html": [
              "Run data is saved locally in <code>/content/wandb/run-20250309_140811-n3qxstua</code>"
            ],
            "text/plain": [
              "<IPython.core.display.HTML object>"
            ]
          },
          "metadata": {},
          "output_type": "display_data"
        },
        {
          "data": {
            "text/html": [
              "Syncing run <strong><a href='https://wandb.ai/bgorai005-iit-madras/deep_learning_assignment_1/runs/n3qxstua' target=\"_blank\">fiery-sweep-28</a></strong> to <a href='https://wandb.ai/bgorai005-iit-madras/deep_learning_assignment_1' target=\"_blank\">Weights & Biases</a> (<a href='https://wandb.me/developer-guide' target=\"_blank\">docs</a>)<br>Sweep page: <a href='https://wandb.ai/bgorai005-iit-madras/deep_learning_assignment_1/sweeps/xd33zmtu' target=\"_blank\">https://wandb.ai/bgorai005-iit-madras/deep_learning_assignment_1/sweeps/xd33zmtu</a>"
            ],
            "text/plain": [
              "<IPython.core.display.HTML object>"
            ]
          },
          "metadata": {},
          "output_type": "display_data"
        },
        {
          "data": {
            "text/html": [
              " View project at <a href='https://wandb.ai/bgorai005-iit-madras/deep_learning_assignment_1' target=\"_blank\">https://wandb.ai/bgorai005-iit-madras/deep_learning_assignment_1</a>"
            ],
            "text/plain": [
              "<IPython.core.display.HTML object>"
            ]
          },
          "metadata": {},
          "output_type": "display_data"
        },
        {
          "data": {
            "text/html": [
              " View sweep at <a href='https://wandb.ai/bgorai005-iit-madras/deep_learning_assignment_1/sweeps/xd33zmtu' target=\"_blank\">https://wandb.ai/bgorai005-iit-madras/deep_learning_assignment_1/sweeps/xd33zmtu</a>"
            ],
            "text/plain": [
              "<IPython.core.display.HTML object>"
            ]
          },
          "metadata": {},
          "output_type": "display_data"
        },
        {
          "data": {
            "text/html": [
              " View run at <a href='https://wandb.ai/bgorai005-iit-madras/deep_learning_assignment_1/runs/n3qxstua' target=\"_blank\">https://wandb.ai/bgorai005-iit-madras/deep_learning_assignment_1/runs/n3qxstua</a>"
            ],
            "text/plain": [
              "<IPython.core.display.HTML object>"
            ]
          },
          "metadata": {},
          "output_type": "display_data"
        },
        {
          "metadata": {
            "tags": null
          },
          "name": "stdout",
          "output_type": "stream",
          "text": [
            "[784, 128, 128, 128, 128, 128, 10]\n",
            "Epoch 1, Loss: 5.725296227697104, Validation Loss: 0.432760592676646\n",
            "Epoch 2, Loss: 6.1786887754265, Validation Loss: 0.3832794156764261\n",
            "Epoch 3, Loss: 6.36194319838858, Validation Loss: 0.3787666428266193\n",
            "Epoch 4, Loss: 6.543561386565097, Validation Loss: 0.35518133275910924\n",
            "Epoch 5, Loss: 6.748981361288608, Validation Loss: 0.34921277296001735\n",
            "Epoch 6, Loss: 6.845744634999279, Validation Loss: 0.34014755992352497\n",
            "Epoch 7, Loss: 6.8785186449198585, Validation Loss: 0.33451875113612045\n",
            "Epoch 8, Loss: 6.999773129385286, Validation Loss: 0.33583553797125404\n",
            "Epoch 9, Loss: 7.1519676620451165, Validation Loss: 0.3290960884917016\n",
            "Epoch 10, Loss: 7.250020539226659, Validation Loss: 0.32634878341092916\n",
            " accuracy: 0.8691\n"
          ]
        },
        {
          "data": {
            "text/html": [],
            "text/plain": [
              "<IPython.core.display.HTML object>"
            ]
          },
          "metadata": {},
          "output_type": "display_data"
        },
        {
          "data": {
            "text/html": [
              "<br>    <style><br>        .wandb-row {<br>            display: flex;<br>            flex-direction: row;<br>            flex-wrap: wrap;<br>            justify-content: flex-start;<br>            width: 100%;<br>        }<br>        .wandb-col {<br>            display: flex;<br>            flex-direction: column;<br>            flex-basis: 100%;<br>            flex: 1;<br>            padding: 10px;<br>        }<br>    </style><br><div class=\"wandb-row\"><div class=\"wandb-col\"><h3>Run history:</h3><br/><table class=\"wandb\"><tr><td>epoch</td><td>▁▂▃▃▄▅▆▆▇█</td></tr><tr><td>train_accuracy</td><td>▁▄▄▅▆▇▇▇██</td></tr><tr><td>train_loss</td><td>▁▃▄▅▆▆▆▇██</td></tr><tr><td>val_accuracy</td><td>▁▅▅▆▆▇▇███</td></tr><tr><td>val_loss</td><td>█▅▄▃▃▂▂▂▁▁</td></tr></table><br/></div><div class=\"wandb-col\"><h3>Run summary:</h3><br/><table class=\"wandb\"><tr><td>epoch</td><td>10</td></tr><tr><td>train_accuracy</td><td>89.62778</td></tr><tr><td>train_loss</td><td>7.25002</td></tr><tr><td>val_accuracy</td><td>88.01667</td></tr><tr><td>val_loss</td><td>0.32635</td></tr></table><br/></div></div>"
            ],
            "text/plain": [
              "<IPython.core.display.HTML object>"
            ]
          },
          "metadata": {},
          "output_type": "display_data"
        },
        {
          "data": {
            "text/html": [
              " View run <strong style=\"color:#cdcd00\">ac-tanh_hs-128_epc-10_nl-5_lr0.0001_wd-0_opt-nadam_bs-64_wi-Xavier</strong> at: <a href='https://wandb.ai/bgorai005-iit-madras/deep_learning_assignment_1/runs/n3qxstua' target=\"_blank\">https://wandb.ai/bgorai005-iit-madras/deep_learning_assignment_1/runs/n3qxstua</a><br> View project at: <a href='https://wandb.ai/bgorai005-iit-madras/deep_learning_assignment_1' target=\"_blank\">https://wandb.ai/bgorai005-iit-madras/deep_learning_assignment_1</a><br>Synced 5 W&B file(s), 0 media file(s), 0 artifact file(s) and 0 other file(s)"
            ],
            "text/plain": [
              "<IPython.core.display.HTML object>"
            ]
          },
          "metadata": {},
          "output_type": "display_data"
        },
        {
          "data": {
            "text/html": [
              "Find logs at: <code>./wandb/run-20250309_140811-n3qxstua/logs</code>"
            ],
            "text/plain": [
              "<IPython.core.display.HTML object>"
            ]
          },
          "metadata": {},
          "output_type": "display_data"
        },
        {
          "metadata": {
            "tags": null
          },
          "name": "stderr",
          "output_type": "stream",
          "text": [
            "\u001b[34m\u001b[1mwandb\u001b[0m: Agent Starting Run: kqodbdlu with config:\n",
            "\u001b[34m\u001b[1mwandb\u001b[0m: \tactivation_hidden: sigmoid\n",
            "\u001b[34m\u001b[1mwandb\u001b[0m: \tactivation_output: softmax\n",
            "\u001b[34m\u001b[1mwandb\u001b[0m: \tbatch_size: 32\n",
            "\u001b[34m\u001b[1mwandb\u001b[0m: \tepochs: 10\n",
            "\u001b[34m\u001b[1mwandb\u001b[0m: \thidden_size: 32\n",
            "\u001b[34m\u001b[1mwandb\u001b[0m: \tlearning_rate: 0.0001\n",
            "\u001b[34m\u001b[1mwandb\u001b[0m: \tnum_layers: 4\n",
            "\u001b[34m\u001b[1mwandb\u001b[0m: \toptimizer: adam\n",
            "\u001b[34m\u001b[1mwandb\u001b[0m: \tweight_decay: 0\n",
            "\u001b[34m\u001b[1mwandb\u001b[0m: \tweight_ini_method: random\n"
          ]
        },
        {
          "data": {
            "text/html": [
              "Tracking run with wandb version 0.19.7"
            ],
            "text/plain": [
              "<IPython.core.display.HTML object>"
            ]
          },
          "metadata": {},
          "output_type": "display_data"
        },
        {
          "data": {
            "text/html": [
              "Run data is saved locally in <code>/content/wandb/run-20250309_141222-kqodbdlu</code>"
            ],
            "text/plain": [
              "<IPython.core.display.HTML object>"
            ]
          },
          "metadata": {},
          "output_type": "display_data"
        },
        {
          "data": {
            "text/html": [
              "Syncing run <strong><a href='https://wandb.ai/bgorai005-iit-madras/deep_learning_assignment_1/runs/kqodbdlu' target=\"_blank\">dutiful-sweep-29</a></strong> to <a href='https://wandb.ai/bgorai005-iit-madras/deep_learning_assignment_1' target=\"_blank\">Weights & Biases</a> (<a href='https://wandb.me/developer-guide' target=\"_blank\">docs</a>)<br>Sweep page: <a href='https://wandb.ai/bgorai005-iit-madras/deep_learning_assignment_1/sweeps/xd33zmtu' target=\"_blank\">https://wandb.ai/bgorai005-iit-madras/deep_learning_assignment_1/sweeps/xd33zmtu</a>"
            ],
            "text/plain": [
              "<IPython.core.display.HTML object>"
            ]
          },
          "metadata": {},
          "output_type": "display_data"
        },
        {
          "data": {
            "text/html": [
              " View project at <a href='https://wandb.ai/bgorai005-iit-madras/deep_learning_assignment_1' target=\"_blank\">https://wandb.ai/bgorai005-iit-madras/deep_learning_assignment_1</a>"
            ],
            "text/plain": [
              "<IPython.core.display.HTML object>"
            ]
          },
          "metadata": {},
          "output_type": "display_data"
        },
        {
          "data": {
            "text/html": [
              " View sweep at <a href='https://wandb.ai/bgorai005-iit-madras/deep_learning_assignment_1/sweeps/xd33zmtu' target=\"_blank\">https://wandb.ai/bgorai005-iit-madras/deep_learning_assignment_1/sweeps/xd33zmtu</a>"
            ],
            "text/plain": [
              "<IPython.core.display.HTML object>"
            ]
          },
          "metadata": {},
          "output_type": "display_data"
        },
        {
          "data": {
            "text/html": [
              " View run at <a href='https://wandb.ai/bgorai005-iit-madras/deep_learning_assignment_1/runs/kqodbdlu' target=\"_blank\">https://wandb.ai/bgorai005-iit-madras/deep_learning_assignment_1/runs/kqodbdlu</a>"
            ],
            "text/plain": [
              "<IPython.core.display.HTML object>"
            ]
          },
          "metadata": {},
          "output_type": "display_data"
        },
        {
          "metadata": {
            "tags": null
          },
          "name": "stdout",
          "output_type": "stream",
          "text": [
            "[784, 32, 32, 32, 32, 10]\n",
            "Epoch 1, Train Loss: 1.6538053911789994, Val Loss: 1.6531153728335752\n",
            "Epoch 2, Train Loss: 1.3052962492696538, Val Loss: 1.3061063814273015\n",
            "Epoch 3, Train Loss: 1.1184917364636657, Val Loss: 1.1194282665140949\n",
            "Epoch 4, Train Loss: 1.0061510204196087, Val Loss: 1.0057351609509135\n",
            "Epoch 5, Train Loss: 0.933502167366311, Val Loss: 0.9343461629610589\n",
            "Epoch 6, Train Loss: 0.8823074220322774, Val Loss: 0.8844505731017925\n",
            "Epoch 7, Train Loss: 0.8425956668939424, Val Loss: 0.8448185198294392\n",
            "Epoch 8, Train Loss: 0.810851475033908, Val Loss: 0.813771400698343\n",
            "Epoch 9, Train Loss: 0.7842414222122237, Val Loss: 0.7880081039671165\n",
            "Epoch 10, Train Loss: 0.7617194564718458, Val Loss: 0.7655671237445937\n",
            "Test accuracy: 0.7254\n"
          ]
        },
        {
          "data": {
            "text/html": [],
            "text/plain": [
              "<IPython.core.display.HTML object>"
            ]
          },
          "metadata": {},
          "output_type": "display_data"
        },
        {
          "data": {
            "text/html": [
              "<br>    <style><br>        .wandb-row {<br>            display: flex;<br>            flex-direction: row;<br>            flex-wrap: wrap;<br>            justify-content: flex-start;<br>            width: 100%;<br>        }<br>        .wandb-col {<br>            display: flex;<br>            flex-direction: column;<br>            flex-basis: 100%;<br>            flex: 1;<br>            padding: 10px;<br>        }<br>    </style><br><div class=\"wandb-row\"><div class=\"wandb-col\"><h3>Run history:</h3><br/><table class=\"wandb\"><tr><td>epoch</td><td>▁▂▃▃▄▅▆▆▇█</td></tr><tr><td>train_accuracy</td><td>▁▄▆▆▇▇▇███</td></tr><tr><td>train_loss</td><td>█▅▄▃▂▂▂▁▁▁</td></tr><tr><td>val_accuracy</td><td>▁▄▆▆▇▇▇███</td></tr><tr><td>val_loss</td><td>█▅▄▃▂▂▂▁▁▁</td></tr></table><br/></div><div class=\"wandb-col\"><h3>Run summary:</h3><br/><table class=\"wandb\"><tr><td>epoch</td><td>10</td></tr><tr><td>train_accuracy</td><td>73.37593</td></tr><tr><td>train_loss</td><td>0.76172</td></tr><tr><td>val_accuracy</td><td>72.15</td></tr><tr><td>val_loss</td><td>0.76557</td></tr></table><br/></div></div>"
            ],
            "text/plain": [
              "<IPython.core.display.HTML object>"
            ]
          },
          "metadata": {},
          "output_type": "display_data"
        },
        {
          "data": {
            "text/html": [
              " View run <strong style=\"color:#cdcd00\">ac-sigmoid_hs-32_epc-10_nl-4_lr0.0001_wd-0_opt-adam_bs-32_wi-random</strong> at: <a href='https://wandb.ai/bgorai005-iit-madras/deep_learning_assignment_1/runs/kqodbdlu' target=\"_blank\">https://wandb.ai/bgorai005-iit-madras/deep_learning_assignment_1/runs/kqodbdlu</a><br> View project at: <a href='https://wandb.ai/bgorai005-iit-madras/deep_learning_assignment_1' target=\"_blank\">https://wandb.ai/bgorai005-iit-madras/deep_learning_assignment_1</a><br>Synced 5 W&B file(s), 0 media file(s), 0 artifact file(s) and 0 other file(s)"
            ],
            "text/plain": [
              "<IPython.core.display.HTML object>"
            ]
          },
          "metadata": {},
          "output_type": "display_data"
        },
        {
          "data": {
            "text/html": [
              "Find logs at: <code>./wandb/run-20250309_141222-kqodbdlu/logs</code>"
            ],
            "text/plain": [
              "<IPython.core.display.HTML object>"
            ]
          },
          "metadata": {},
          "output_type": "display_data"
        },
        {
          "metadata": {
            "tags": null
          },
          "name": "stderr",
          "output_type": "stream",
          "text": [
            "\u001b[34m\u001b[1mwandb\u001b[0m: Agent Starting Run: rj1ieiu9 with config:\n",
            "\u001b[34m\u001b[1mwandb\u001b[0m: \tactivation_hidden: sigmoid\n",
            "\u001b[34m\u001b[1mwandb\u001b[0m: \tactivation_output: softmax\n",
            "\u001b[34m\u001b[1mwandb\u001b[0m: \tbatch_size: 16\n",
            "\u001b[34m\u001b[1mwandb\u001b[0m: \tepochs: 5\n",
            "\u001b[34m\u001b[1mwandb\u001b[0m: \thidden_size: 64\n",
            "\u001b[34m\u001b[1mwandb\u001b[0m: \tlearning_rate: 0.0001\n",
            "\u001b[34m\u001b[1mwandb\u001b[0m: \tnum_layers: 4\n",
            "\u001b[34m\u001b[1mwandb\u001b[0m: \toptimizer: RMSprop\n",
            "\u001b[34m\u001b[1mwandb\u001b[0m: \tweight_decay: 0\n",
            "\u001b[34m\u001b[1mwandb\u001b[0m: \tweight_ini_method: Xavier\n"
          ]
        },
        {
          "data": {
            "text/html": [
              "Tracking run with wandb version 0.19.7"
            ],
            "text/plain": [
              "<IPython.core.display.HTML object>"
            ]
          },
          "metadata": {},
          "output_type": "display_data"
        },
        {
          "data": {
            "text/html": [
              "Run data is saved locally in <code>/content/wandb/run-20250309_141339-rj1ieiu9</code>"
            ],
            "text/plain": [
              "<IPython.core.display.HTML object>"
            ]
          },
          "metadata": {},
          "output_type": "display_data"
        },
        {
          "data": {
            "text/html": [
              "Syncing run <strong><a href='https://wandb.ai/bgorai005-iit-madras/deep_learning_assignment_1/runs/rj1ieiu9' target=\"_blank\">lyric-sweep-30</a></strong> to <a href='https://wandb.ai/bgorai005-iit-madras/deep_learning_assignment_1' target=\"_blank\">Weights & Biases</a> (<a href='https://wandb.me/developer-guide' target=\"_blank\">docs</a>)<br>Sweep page: <a href='https://wandb.ai/bgorai005-iit-madras/deep_learning_assignment_1/sweeps/xd33zmtu' target=\"_blank\">https://wandb.ai/bgorai005-iit-madras/deep_learning_assignment_1/sweeps/xd33zmtu</a>"
            ],
            "text/plain": [
              "<IPython.core.display.HTML object>"
            ]
          },
          "metadata": {},
          "output_type": "display_data"
        },
        {
          "data": {
            "text/html": [
              " View project at <a href='https://wandb.ai/bgorai005-iit-madras/deep_learning_assignment_1' target=\"_blank\">https://wandb.ai/bgorai005-iit-madras/deep_learning_assignment_1</a>"
            ],
            "text/plain": [
              "<IPython.core.display.HTML object>"
            ]
          },
          "metadata": {},
          "output_type": "display_data"
        },
        {
          "data": {
            "text/html": [
              " View sweep at <a href='https://wandb.ai/bgorai005-iit-madras/deep_learning_assignment_1/sweeps/xd33zmtu' target=\"_blank\">https://wandb.ai/bgorai005-iit-madras/deep_learning_assignment_1/sweeps/xd33zmtu</a>"
            ],
            "text/plain": [
              "<IPython.core.display.HTML object>"
            ]
          },
          "metadata": {},
          "output_type": "display_data"
        },
        {
          "data": {
            "text/html": [
              " View run at <a href='https://wandb.ai/bgorai005-iit-madras/deep_learning_assignment_1/runs/rj1ieiu9' target=\"_blank\">https://wandb.ai/bgorai005-iit-madras/deep_learning_assignment_1/runs/rj1ieiu9</a>"
            ],
            "text/plain": [
              "<IPython.core.display.HTML object>"
            ]
          },
          "metadata": {},
          "output_type": "display_data"
        },
        {
          "metadata": {
            "tags": null
          },
          "name": "stdout",
          "output_type": "stream",
          "text": [
            "[784, 64, 64, 64, 64, 10]\n",
            "Epoch 1, Loss: 3.2027487683869054, Validation Loss: 1.3202698782023345\n",
            "Epoch 2, Loss: 4.212112261967574, Validation Loss: 0.9673439432891969\n",
            "Epoch 3, Loss: 4.95778065549623, Validation Loss: 0.7574240684061225\n",
            "Epoch 4, Loss: 5.5936323114383235, Validation Loss: 0.6367765731182549\n",
            "Epoch 5, Loss: 6.041986103275417, Validation Loss: 0.5748922950553675\n",
            "Test accuracy: 0.7838\n"
          ]
        },
        {
          "data": {
            "text/html": [],
            "text/plain": [
              "<IPython.core.display.HTML object>"
            ]
          },
          "metadata": {},
          "output_type": "display_data"
        },
        {
          "data": {
            "text/html": [
              "<br>    <style><br>        .wandb-row {<br>            display: flex;<br>            flex-direction: row;<br>            flex-wrap: wrap;<br>            justify-content: flex-start;<br>            width: 100%;<br>        }<br>        .wandb-col {<br>            display: flex;<br>            flex-direction: column;<br>            flex-basis: 100%;<br>            flex: 1;<br>            padding: 10px;<br>        }<br>    </style><br><div class=\"wandb-row\"><div class=\"wandb-col\"><h3>Run history:</h3><br/><table class=\"wandb\"><tr><td>epoch</td><td>▁▃▅▆█</td></tr><tr><td>train_accuracy</td><td>▁▅▆▇█</td></tr><tr><td>train_loss</td><td>▁▃▅▇█</td></tr><tr><td>val_accuracy</td><td>▁▅▇▇█</td></tr><tr><td>val_loss</td><td>█▅▃▂▁</td></tr></table><br/></div><div class=\"wandb-col\"><h3>Run summary:</h3><br/><table class=\"wandb\"><tr><td>epoch</td><td>5</td></tr><tr><td>train_accuracy</td><td>79.27593</td></tr><tr><td>train_loss</td><td>6.04199</td></tr><tr><td>val_accuracy</td><td>78.16667</td></tr><tr><td>val_loss</td><td>0.57489</td></tr></table><br/></div></div>"
            ],
            "text/plain": [
              "<IPython.core.display.HTML object>"
            ]
          },
          "metadata": {},
          "output_type": "display_data"
        },
        {
          "data": {
            "text/html": [
              " View run <strong style=\"color:#cdcd00\">ac-sigmoid_hs-64_epc-5_nl-4_lr0.0001_wd-0_opt-RMSprop_bs-16_wi-Xavier</strong> at: <a href='https://wandb.ai/bgorai005-iit-madras/deep_learning_assignment_1/runs/rj1ieiu9' target=\"_blank\">https://wandb.ai/bgorai005-iit-madras/deep_learning_assignment_1/runs/rj1ieiu9</a><br> View project at: <a href='https://wandb.ai/bgorai005-iit-madras/deep_learning_assignment_1' target=\"_blank\">https://wandb.ai/bgorai005-iit-madras/deep_learning_assignment_1</a><br>Synced 5 W&B file(s), 0 media file(s), 0 artifact file(s) and 0 other file(s)"
            ],
            "text/plain": [
              "<IPython.core.display.HTML object>"
            ]
          },
          "metadata": {},
          "output_type": "display_data"
        },
        {
          "data": {
            "text/html": [
              "Find logs at: <code>./wandb/run-20250309_141339-rj1ieiu9/logs</code>"
            ],
            "text/plain": [
              "<IPython.core.display.HTML object>"
            ]
          },
          "metadata": {},
          "output_type": "display_data"
        },
        {
          "metadata": {
            "tags": null
          },
          "name": "stderr",
          "output_type": "stream",
          "text": [
            "\u001b[34m\u001b[1mwandb\u001b[0m: Agent Starting Run: 8vf80vad with config:\n",
            "\u001b[34m\u001b[1mwandb\u001b[0m: \tactivation_hidden: tanh\n",
            "\u001b[34m\u001b[1mwandb\u001b[0m: \tactivation_output: softmax\n",
            "\u001b[34m\u001b[1mwandb\u001b[0m: \tbatch_size: 16\n",
            "\u001b[34m\u001b[1mwandb\u001b[0m: \tepochs: 5\n",
            "\u001b[34m\u001b[1mwandb\u001b[0m: \thidden_size: 128\n",
            "\u001b[34m\u001b[1mwandb\u001b[0m: \tlearning_rate: 0.001\n",
            "\u001b[34m\u001b[1mwandb\u001b[0m: \tnum_layers: 4\n",
            "\u001b[34m\u001b[1mwandb\u001b[0m: \toptimizer: momentum\n",
            "\u001b[34m\u001b[1mwandb\u001b[0m: \tweight_decay: 0\n",
            "\u001b[34m\u001b[1mwandb\u001b[0m: \tweight_ini_method: random\n"
          ]
        },
        {
          "data": {
            "text/html": [
              "Tracking run with wandb version 0.19.7"
            ],
            "text/plain": [
              "<IPython.core.display.HTML object>"
            ]
          },
          "metadata": {},
          "output_type": "display_data"
        },
        {
          "data": {
            "text/html": [
              "Run data is saved locally in <code>/content/wandb/run-20250309_141456-8vf80vad</code>"
            ],
            "text/plain": [
              "<IPython.core.display.HTML object>"
            ]
          },
          "metadata": {},
          "output_type": "display_data"
        },
        {
          "data": {
            "text/html": [
              "Syncing run <strong><a href='https://wandb.ai/bgorai005-iit-madras/deep_learning_assignment_1/runs/8vf80vad' target=\"_blank\">rare-sweep-31</a></strong> to <a href='https://wandb.ai/bgorai005-iit-madras/deep_learning_assignment_1' target=\"_blank\">Weights & Biases</a> (<a href='https://wandb.me/developer-guide' target=\"_blank\">docs</a>)<br>Sweep page: <a href='https://wandb.ai/bgorai005-iit-madras/deep_learning_assignment_1/sweeps/xd33zmtu' target=\"_blank\">https://wandb.ai/bgorai005-iit-madras/deep_learning_assignment_1/sweeps/xd33zmtu</a>"
            ],
            "text/plain": [
              "<IPython.core.display.HTML object>"
            ]
          },
          "metadata": {},
          "output_type": "display_data"
        },
        {
          "data": {
            "text/html": [
              " View project at <a href='https://wandb.ai/bgorai005-iit-madras/deep_learning_assignment_1' target=\"_blank\">https://wandb.ai/bgorai005-iit-madras/deep_learning_assignment_1</a>"
            ],
            "text/plain": [
              "<IPython.core.display.HTML object>"
            ]
          },
          "metadata": {},
          "output_type": "display_data"
        },
        {
          "data": {
            "text/html": [
              " View sweep at <a href='https://wandb.ai/bgorai005-iit-madras/deep_learning_assignment_1/sweeps/xd33zmtu' target=\"_blank\">https://wandb.ai/bgorai005-iit-madras/deep_learning_assignment_1/sweeps/xd33zmtu</a>"
            ],
            "text/plain": [
              "<IPython.core.display.HTML object>"
            ]
          },
          "metadata": {},
          "output_type": "display_data"
        },
        {
          "data": {
            "text/html": [
              " View run at <a href='https://wandb.ai/bgorai005-iit-madras/deep_learning_assignment_1/runs/8vf80vad' target=\"_blank\">https://wandb.ai/bgorai005-iit-madras/deep_learning_assignment_1/runs/8vf80vad</a>"
            ],
            "text/plain": [
              "<IPython.core.display.HTML object>"
            ]
          },
          "metadata": {},
          "output_type": "display_data"
        },
        {
          "metadata": {
            "tags": null
          },
          "name": "stdout",
          "output_type": "stream",
          "text": [
            "[784, 128, 128, 128, 128, 10]\n",
            "Epoch 1, Train Loss: 2.289132446834749, Val Loss: 2.2939107260860885\n",
            "Epoch 2, Train Loss: 1.7470325781373337, Val Loss: 1.746327146841346\n",
            "Epoch 3, Train Loss: 2.12826754745798, Val Loss: 2.1294452753784965\n",
            "Epoch 4, Train Loss: 1.8048962136572289, Val Loss: 1.8234040771374493\n",
            "Epoch 5, Train Loss: 2.7192911394671015, Val Loss: 2.7268936675691138\n",
            "Test accuracy: 0.1\n"
          ]
        },
        {
          "data": {
            "text/html": [],
            "text/plain": [
              "<IPython.core.display.HTML object>"
            ]
          },
          "metadata": {},
          "output_type": "display_data"
        },
        {
          "data": {
            "text/html": [
              "<br>    <style><br>        .wandb-row {<br>            display: flex;<br>            flex-direction: row;<br>            flex-wrap: wrap;<br>            justify-content: flex-start;<br>            width: 100%;<br>        }<br>        .wandb-col {<br>            display: flex;<br>            flex-direction: column;<br>            flex-basis: 100%;<br>            flex: 1;<br>            padding: 10px;<br>        }<br>    </style><br><div class=\"wandb-row\"><div class=\"wandb-col\"><h3>Run history:</h3><br/><table class=\"wandb\"><tr><td>epoch</td><td>▁▃▅▆█</td></tr><tr><td>train_accuracy</td><td>▆█▅▇▁</td></tr><tr><td>train_loss</td><td>▅▁▄▁█</td></tr><tr><td>val_accuracy</td><td>▆█▅▆▁</td></tr><tr><td>val_loss</td><td>▅▁▄▂█</td></tr></table><br/></div><div class=\"wandb-col\"><h3>Run summary:</h3><br/><table class=\"wandb\"><tr><td>epoch</td><td>5</td></tr><tr><td>train_accuracy</td><td>10.02407</td></tr><tr><td>train_loss</td><td>2.71929</td></tr><tr><td>val_accuracy</td><td>9.78333</td></tr><tr><td>val_loss</td><td>2.72689</td></tr></table><br/></div></div>"
            ],
            "text/plain": [
              "<IPython.core.display.HTML object>"
            ]
          },
          "metadata": {},
          "output_type": "display_data"
        },
        {
          "data": {
            "text/html": [
              " View run <strong style=\"color:#cdcd00\">ac-tanh_hs-128_epc-5_nl-4_lr0.001_wd-0_opt-momentum_bs-16_wi-random</strong> at: <a href='https://wandb.ai/bgorai005-iit-madras/deep_learning_assignment_1/runs/8vf80vad' target=\"_blank\">https://wandb.ai/bgorai005-iit-madras/deep_learning_assignment_1/runs/8vf80vad</a><br> View project at: <a href='https://wandb.ai/bgorai005-iit-madras/deep_learning_assignment_1' target=\"_blank\">https://wandb.ai/bgorai005-iit-madras/deep_learning_assignment_1</a><br>Synced 5 W&B file(s), 0 media file(s), 0 artifact file(s) and 0 other file(s)"
            ],
            "text/plain": [
              "<IPython.core.display.HTML object>"
            ]
          },
          "metadata": {},
          "output_type": "display_data"
        },
        {
          "data": {
            "text/html": [
              "Find logs at: <code>./wandb/run-20250309_141456-8vf80vad/logs</code>"
            ],
            "text/plain": [
              "<IPython.core.display.HTML object>"
            ]
          },
          "metadata": {},
          "output_type": "display_data"
        },
        {
          "metadata": {
            "tags": null
          },
          "name": "stderr",
          "output_type": "stream",
          "text": [
            "\u001b[34m\u001b[1mwandb\u001b[0m: Agent Starting Run: gldnk1ye with config:\n",
            "\u001b[34m\u001b[1mwandb\u001b[0m: \tactivation_hidden: tanh\n",
            "\u001b[34m\u001b[1mwandb\u001b[0m: \tactivation_output: softmax\n",
            "\u001b[34m\u001b[1mwandb\u001b[0m: \tbatch_size: 16\n",
            "\u001b[34m\u001b[1mwandb\u001b[0m: \tepochs: 10\n",
            "\u001b[34m\u001b[1mwandb\u001b[0m: \thidden_size: 32\n",
            "\u001b[34m\u001b[1mwandb\u001b[0m: \tlearning_rate: 0.001\n",
            "\u001b[34m\u001b[1mwandb\u001b[0m: \tnum_layers: 4\n",
            "\u001b[34m\u001b[1mwandb\u001b[0m: \toptimizer: adam\n",
            "\u001b[34m\u001b[1mwandb\u001b[0m: \tweight_decay: 0\n",
            "\u001b[34m\u001b[1mwandb\u001b[0m: \tweight_ini_method: Xavier\n"
          ]
        },
        {
          "data": {
            "text/html": [
              "Tracking run with wandb version 0.19.7"
            ],
            "text/plain": [
              "<IPython.core.display.HTML object>"
            ]
          },
          "metadata": {},
          "output_type": "display_data"
        },
        {
          "data": {
            "text/html": [
              "Run data is saved locally in <code>/content/wandb/run-20250309_141710-gldnk1ye</code>"
            ],
            "text/plain": [
              "<IPython.core.display.HTML object>"
            ]
          },
          "metadata": {},
          "output_type": "display_data"
        },
        {
          "data": {
            "text/html": [
              "Syncing run <strong><a href='https://wandb.ai/bgorai005-iit-madras/deep_learning_assignment_1/runs/gldnk1ye' target=\"_blank\">dandy-sweep-32</a></strong> to <a href='https://wandb.ai/bgorai005-iit-madras/deep_learning_assignment_1' target=\"_blank\">Weights & Biases</a> (<a href='https://wandb.me/developer-guide' target=\"_blank\">docs</a>)<br>Sweep page: <a href='https://wandb.ai/bgorai005-iit-madras/deep_learning_assignment_1/sweeps/xd33zmtu' target=\"_blank\">https://wandb.ai/bgorai005-iit-madras/deep_learning_assignment_1/sweeps/xd33zmtu</a>"
            ],
            "text/plain": [
              "<IPython.core.display.HTML object>"
            ]
          },
          "metadata": {},
          "output_type": "display_data"
        },
        {
          "data": {
            "text/html": [
              " View project at <a href='https://wandb.ai/bgorai005-iit-madras/deep_learning_assignment_1' target=\"_blank\">https://wandb.ai/bgorai005-iit-madras/deep_learning_assignment_1</a>"
            ],
            "text/plain": [
              "<IPython.core.display.HTML object>"
            ]
          },
          "metadata": {},
          "output_type": "display_data"
        },
        {
          "data": {
            "text/html": [
              " View sweep at <a href='https://wandb.ai/bgorai005-iit-madras/deep_learning_assignment_1/sweeps/xd33zmtu' target=\"_blank\">https://wandb.ai/bgorai005-iit-madras/deep_learning_assignment_1/sweeps/xd33zmtu</a>"
            ],
            "text/plain": [
              "<IPython.core.display.HTML object>"
            ]
          },
          "metadata": {},
          "output_type": "display_data"
        },
        {
          "data": {
            "text/html": [
              " View run at <a href='https://wandb.ai/bgorai005-iit-madras/deep_learning_assignment_1/runs/gldnk1ye' target=\"_blank\">https://wandb.ai/bgorai005-iit-madras/deep_learning_assignment_1/runs/gldnk1ye</a>"
            ],
            "text/plain": [
              "<IPython.core.display.HTML object>"
            ]
          },
          "metadata": {},
          "output_type": "display_data"
        },
        {
          "metadata": {
            "tags": null
          },
          "name": "stdout",
          "output_type": "stream",
          "text": [
            "[784, 32, 32, 32, 32, 10]\n",
            "Epoch 1, Train Loss: 0.4107978952987612, Val Loss: 0.42640898163369534\n",
            "Epoch 2, Train Loss: 0.34715221171783694, Val Loss: 0.37917583691053336\n",
            "Epoch 3, Train Loss: 0.35513022152570894, Val Loss: 0.3866672960117037\n",
            "Epoch 4, Train Loss: 0.30027634033071887, Val Loss: 0.34436215448451524\n",
            "Epoch 5, Train Loss: 0.2921127542347969, Val Loss: 0.345154327133831\n",
            "Epoch 6, Train Loss: 0.28718521087947363, Val Loss: 0.3492437490343559\n",
            "Epoch 7, Train Loss: 0.27164182329897146, Val Loss: 0.33929224562569577\n",
            "Epoch 8, Train Loss: 0.28127767535741716, Val Loss: 0.3550679536211905\n",
            "Epoch 9, Train Loss: 0.2705062646517946, Val Loss: 0.3552377557835528\n",
            "Epoch 10, Train Loss: 0.24867324031274912, Val Loss: 0.33851043411982296\n",
            "Test accuracy: 0.8764\n"
          ]
        },
        {
          "data": {
            "text/html": [],
            "text/plain": [
              "<IPython.core.display.HTML object>"
            ]
          },
          "metadata": {},
          "output_type": "display_data"
        },
        {
          "data": {
            "text/html": [
              "<br>    <style><br>        .wandb-row {<br>            display: flex;<br>            flex-direction: row;<br>            flex-wrap: wrap;<br>            justify-content: flex-start;<br>            width: 100%;<br>        }<br>        .wandb-col {<br>            display: flex;<br>            flex-direction: column;<br>            flex-basis: 100%;<br>            flex: 1;<br>            padding: 10px;<br>        }<br>    </style><br><div class=\"wandb-row\"><div class=\"wandb-col\"><h3>Run history:</h3><br/><table class=\"wandb\"><tr><td>epoch</td><td>▁▂▃▃▄▅▆▆▇█</td></tr><tr><td>train_accuracy</td><td>▁▄▃▆▆▆▇▆▇█</td></tr><tr><td>train_loss</td><td>█▅▆▃▃▃▂▂▂▁</td></tr><tr><td>val_accuracy</td><td>▁▄▃▆▇▇▇▆▆█</td></tr><tr><td>val_loss</td><td>█▄▅▁▂▂▁▂▂▁</td></tr></table><br/></div><div class=\"wandb-col\"><h3>Run summary:</h3><br/><table class=\"wandb\"><tr><td>epoch</td><td>10</td></tr><tr><td>train_accuracy</td><td>90.89444</td></tr><tr><td>train_loss</td><td>0.24867</td></tr><tr><td>val_accuracy</td><td>88.31667</td></tr><tr><td>val_loss</td><td>0.33851</td></tr></table><br/></div></div>"
            ],
            "text/plain": [
              "<IPython.core.display.HTML object>"
            ]
          },
          "metadata": {},
          "output_type": "display_data"
        },
        {
          "data": {
            "text/html": [
              " View run <strong style=\"color:#cdcd00\">ac-tanh_hs-32_epc-10_nl-4_lr0.001_wd-0_opt-adam_bs-16_wi-Xavier</strong> at: <a href='https://wandb.ai/bgorai005-iit-madras/deep_learning_assignment_1/runs/gldnk1ye' target=\"_blank\">https://wandb.ai/bgorai005-iit-madras/deep_learning_assignment_1/runs/gldnk1ye</a><br> View project at: <a href='https://wandb.ai/bgorai005-iit-madras/deep_learning_assignment_1' target=\"_blank\">https://wandb.ai/bgorai005-iit-madras/deep_learning_assignment_1</a><br>Synced 5 W&B file(s), 0 media file(s), 0 artifact file(s) and 0 other file(s)"
            ],
            "text/plain": [
              "<IPython.core.display.HTML object>"
            ]
          },
          "metadata": {},
          "output_type": "display_data"
        },
        {
          "data": {
            "text/html": [
              "Find logs at: <code>./wandb/run-20250309_141710-gldnk1ye/logs</code>"
            ],
            "text/plain": [
              "<IPython.core.display.HTML object>"
            ]
          },
          "metadata": {},
          "output_type": "display_data"
        },
        {
          "metadata": {
            "tags": null
          },
          "name": "stderr",
          "output_type": "stream",
          "text": [
            "\u001b[34m\u001b[1mwandb\u001b[0m: Agent Starting Run: fo74c9bl with config:\n",
            "\u001b[34m\u001b[1mwandb\u001b[0m: \tactivation_hidden: sigmoid\n",
            "\u001b[34m\u001b[1mwandb\u001b[0m: \tactivation_output: softmax\n",
            "\u001b[34m\u001b[1mwandb\u001b[0m: \tbatch_size: 16\n",
            "\u001b[34m\u001b[1mwandb\u001b[0m: \tepochs: 5\n",
            "\u001b[34m\u001b[1mwandb\u001b[0m: \thidden_size: 32\n",
            "\u001b[34m\u001b[1mwandb\u001b[0m: \tlearning_rate: 0.0001\n",
            "\u001b[34m\u001b[1mwandb\u001b[0m: \tnum_layers: 3\n",
            "\u001b[34m\u001b[1mwandb\u001b[0m: \toptimizer: momentum\n",
            "\u001b[34m\u001b[1mwandb\u001b[0m: \tweight_decay: 0\n",
            "\u001b[34m\u001b[1mwandb\u001b[0m: \tweight_ini_method: Xavier\n"
          ]
        },
        {
          "data": {
            "text/html": [
              "Tracking run with wandb version 0.19.7"
            ],
            "text/plain": [
              "<IPython.core.display.HTML object>"
            ]
          },
          "metadata": {},
          "output_type": "display_data"
        },
        {
          "data": {
            "text/html": [
              "Run data is saved locally in <code>/content/wandb/run-20250309_141903-fo74c9bl</code>"
            ],
            "text/plain": [
              "<IPython.core.display.HTML object>"
            ]
          },
          "metadata": {},
          "output_type": "display_data"
        },
        {
          "data": {
            "text/html": [
              "Syncing run <strong><a href='https://wandb.ai/bgorai005-iit-madras/deep_learning_assignment_1/runs/fo74c9bl' target=\"_blank\">usual-sweep-33</a></strong> to <a href='https://wandb.ai/bgorai005-iit-madras/deep_learning_assignment_1' target=\"_blank\">Weights & Biases</a> (<a href='https://wandb.me/developer-guide' target=\"_blank\">docs</a>)<br>Sweep page: <a href='https://wandb.ai/bgorai005-iit-madras/deep_learning_assignment_1/sweeps/xd33zmtu' target=\"_blank\">https://wandb.ai/bgorai005-iit-madras/deep_learning_assignment_1/sweeps/xd33zmtu</a>"
            ],
            "text/plain": [
              "<IPython.core.display.HTML object>"
            ]
          },
          "metadata": {},
          "output_type": "display_data"
        },
        {
          "data": {
            "text/html": [
              " View project at <a href='https://wandb.ai/bgorai005-iit-madras/deep_learning_assignment_1' target=\"_blank\">https://wandb.ai/bgorai005-iit-madras/deep_learning_assignment_1</a>"
            ],
            "text/plain": [
              "<IPython.core.display.HTML object>"
            ]
          },
          "metadata": {},
          "output_type": "display_data"
        },
        {
          "data": {
            "text/html": [
              " View sweep at <a href='https://wandb.ai/bgorai005-iit-madras/deep_learning_assignment_1/sweeps/xd33zmtu' target=\"_blank\">https://wandb.ai/bgorai005-iit-madras/deep_learning_assignment_1/sweeps/xd33zmtu</a>"
            ],
            "text/plain": [
              "<IPython.core.display.HTML object>"
            ]
          },
          "metadata": {},
          "output_type": "display_data"
        },
        {
          "data": {
            "text/html": [
              " View run at <a href='https://wandb.ai/bgorai005-iit-madras/deep_learning_assignment_1/runs/fo74c9bl' target=\"_blank\">https://wandb.ai/bgorai005-iit-madras/deep_learning_assignment_1/runs/fo74c9bl</a>"
            ],
            "text/plain": [
              "<IPython.core.display.HTML object>"
            ]
          },
          "metadata": {},
          "output_type": "display_data"
        },
        {
          "metadata": {
            "tags": null
          },
          "name": "stdout",
          "output_type": "stream",
          "text": [
            "[784, 32, 32, 32, 10]\n",
            "Epoch 1, Train Loss: 1.6154744400343868, Val Loss: 1.623362587740966\n",
            "Epoch 2, Train Loss: 1.1441029720123685, Val Loss: 1.1530246989254265\n",
            "Epoch 3, Train Loss: 0.9196982504677412, Val Loss: 0.9281454421711972\n",
            "Epoch 4, Train Loss: 0.7540904694979006, Val Loss: 0.7633963392881234\n",
            "Epoch 5, Train Loss: 0.6468779918687236, Val Loss: 0.655668881711867\n",
            "Test accuracy: 0.7607\n"
          ]
        },
        {
          "data": {
            "text/html": [],
            "text/plain": [
              "<IPython.core.display.HTML object>"
            ]
          },
          "metadata": {},
          "output_type": "display_data"
        },
        {
          "data": {
            "text/html": [
              "<br>    <style><br>        .wandb-row {<br>            display: flex;<br>            flex-direction: row;<br>            flex-wrap: wrap;<br>            justify-content: flex-start;<br>            width: 100%;<br>        }<br>        .wandb-col {<br>            display: flex;<br>            flex-direction: column;<br>            flex-basis: 100%;<br>            flex: 1;<br>            padding: 10px;<br>        }<br>    </style><br><div class=\"wandb-row\"><div class=\"wandb-col\"><h3>Run history:</h3><br/><table class=\"wandb\"><tr><td>epoch</td><td>▁▃▅▆█</td></tr><tr><td>train_accuracy</td><td>▁▄▆▇█</td></tr><tr><td>train_loss</td><td>█▅▃▂▁</td></tr><tr><td>val_accuracy</td><td>▁▄▆▇█</td></tr><tr><td>val_loss</td><td>█▅▃▂▁</td></tr></table><br/></div><div class=\"wandb-col\"><h3>Run summary:</h3><br/><table class=\"wandb\"><tr><td>epoch</td><td>5</td></tr><tr><td>train_accuracy</td><td>77.34074</td></tr><tr><td>train_loss</td><td>0.64688</td></tr><tr><td>val_accuracy</td><td>76.55</td></tr><tr><td>val_loss</td><td>0.65567</td></tr></table><br/></div></div>"
            ],
            "text/plain": [
              "<IPython.core.display.HTML object>"
            ]
          },
          "metadata": {},
          "output_type": "display_data"
        },
        {
          "data": {
            "text/html": [
              " View run <strong style=\"color:#cdcd00\">ac-sigmoid_hs-32_epc-5_nl-3_lr0.0001_wd-0_opt-momentum_bs-16_wi-Xavier</strong> at: <a href='https://wandb.ai/bgorai005-iit-madras/deep_learning_assignment_1/runs/fo74c9bl' target=\"_blank\">https://wandb.ai/bgorai005-iit-madras/deep_learning_assignment_1/runs/fo74c9bl</a><br> View project at: <a href='https://wandb.ai/bgorai005-iit-madras/deep_learning_assignment_1' target=\"_blank\">https://wandb.ai/bgorai005-iit-madras/deep_learning_assignment_1</a><br>Synced 5 W&B file(s), 0 media file(s), 0 artifact file(s) and 0 other file(s)"
            ],
            "text/plain": [
              "<IPython.core.display.HTML object>"
            ]
          },
          "metadata": {},
          "output_type": "display_data"
        },
        {
          "data": {
            "text/html": [
              "Find logs at: <code>./wandb/run-20250309_141903-fo74c9bl/logs</code>"
            ],
            "text/plain": [
              "<IPython.core.display.HTML object>"
            ]
          },
          "metadata": {},
          "output_type": "display_data"
        },
        {
          "metadata": {
            "tags": null
          },
          "name": "stderr",
          "output_type": "stream",
          "text": [
            "\u001b[34m\u001b[1mwandb\u001b[0m: Agent Starting Run: 6ynv43aw with config:\n",
            "\u001b[34m\u001b[1mwandb\u001b[0m: \tactivation_hidden: relu\n",
            "\u001b[34m\u001b[1mwandb\u001b[0m: \tactivation_output: softmax\n",
            "\u001b[34m\u001b[1mwandb\u001b[0m: \tbatch_size: 64\n",
            "\u001b[34m\u001b[1mwandb\u001b[0m: \tepochs: 10\n",
            "\u001b[34m\u001b[1mwandb\u001b[0m: \thidden_size: 64\n",
            "\u001b[34m\u001b[1mwandb\u001b[0m: \tlearning_rate: 0.001\n",
            "\u001b[34m\u001b[1mwandb\u001b[0m: \tnum_layers: 4\n",
            "\u001b[34m\u001b[1mwandb\u001b[0m: \toptimizer: nadam\n",
            "\u001b[34m\u001b[1mwandb\u001b[0m: \tweight_decay: 0\n",
            "\u001b[34m\u001b[1mwandb\u001b[0m: \tweight_ini_method: Xavier\n"
          ]
        },
        {
          "data": {
            "text/html": [
              "Tracking run with wandb version 0.19.7"
            ],
            "text/plain": [
              "<IPython.core.display.HTML object>"
            ]
          },
          "metadata": {},
          "output_type": "display_data"
        },
        {
          "data": {
            "text/html": [
              "Run data is saved locally in <code>/content/wandb/run-20250309_141950-6ynv43aw</code>"
            ],
            "text/plain": [
              "<IPython.core.display.HTML object>"
            ]
          },
          "metadata": {},
          "output_type": "display_data"
        },
        {
          "data": {
            "text/html": [
              "Syncing run <strong><a href='https://wandb.ai/bgorai005-iit-madras/deep_learning_assignment_1/runs/6ynv43aw' target=\"_blank\">stellar-sweep-34</a></strong> to <a href='https://wandb.ai/bgorai005-iit-madras/deep_learning_assignment_1' target=\"_blank\">Weights & Biases</a> (<a href='https://wandb.me/developer-guide' target=\"_blank\">docs</a>)<br>Sweep page: <a href='https://wandb.ai/bgorai005-iit-madras/deep_learning_assignment_1/sweeps/xd33zmtu' target=\"_blank\">https://wandb.ai/bgorai005-iit-madras/deep_learning_assignment_1/sweeps/xd33zmtu</a>"
            ],
            "text/plain": [
              "<IPython.core.display.HTML object>"
            ]
          },
          "metadata": {},
          "output_type": "display_data"
        },
        {
          "data": {
            "text/html": [
              " View project at <a href='https://wandb.ai/bgorai005-iit-madras/deep_learning_assignment_1' target=\"_blank\">https://wandb.ai/bgorai005-iit-madras/deep_learning_assignment_1</a>"
            ],
            "text/plain": [
              "<IPython.core.display.HTML object>"
            ]
          },
          "metadata": {},
          "output_type": "display_data"
        },
        {
          "data": {
            "text/html": [
              " View sweep at <a href='https://wandb.ai/bgorai005-iit-madras/deep_learning_assignment_1/sweeps/xd33zmtu' target=\"_blank\">https://wandb.ai/bgorai005-iit-madras/deep_learning_assignment_1/sweeps/xd33zmtu</a>"
            ],
            "text/plain": [
              "<IPython.core.display.HTML object>"
            ]
          },
          "metadata": {},
          "output_type": "display_data"
        },
        {
          "data": {
            "text/html": [
              " View run at <a href='https://wandb.ai/bgorai005-iit-madras/deep_learning_assignment_1/runs/6ynv43aw' target=\"_blank\">https://wandb.ai/bgorai005-iit-madras/deep_learning_assignment_1/runs/6ynv43aw</a>"
            ],
            "text/plain": [
              "<IPython.core.display.HTML object>"
            ]
          },
          "metadata": {},
          "output_type": "display_data"
        },
        {
          "metadata": {
            "tags": null
          },
          "name": "stdout",
          "output_type": "stream",
          "text": [
            "[784, 64, 64, 64, 64, 10]\n",
            "Epoch 1, Loss: 9.085875417214304, Validation Loss: 0.4118361465686155\n",
            "Epoch 2, Loss: 9.907154205553981, Validation Loss: 0.35596906113528093\n",
            "Epoch 3, Loss: 10.849941851430284, Validation Loss: 0.35866069458003424\n",
            "Epoch 4, Loss: 11.283126409525298, Validation Loss: 0.3327098855578608\n",
            "Epoch 5, Loss: 11.842539180274699, Validation Loss: 0.33893150253117504\n",
            "Epoch 6, Loss: 12.603585311147901, Validation Loss: 0.3666751388048018\n",
            "Epoch 7, Loss: 13.211001575585485, Validation Loss: 0.3436447896986659\n",
            "Epoch 8, Loss: 14.006393254871256, Validation Loss: 0.3307720400616371\n",
            "Epoch 9, Loss: 13.476307809718318, Validation Loss: 0.32089610206644803\n",
            "Epoch 10, Loss: 14.042279556871039, Validation Loss: 0.32617697822817715\n",
            " accuracy: 0.8786\n"
          ]
        },
        {
          "data": {
            "text/html": [],
            "text/plain": [
              "<IPython.core.display.HTML object>"
            ]
          },
          "metadata": {},
          "output_type": "display_data"
        },
        {
          "data": {
            "text/html": [
              "<br>    <style><br>        .wandb-row {<br>            display: flex;<br>            flex-direction: row;<br>            flex-wrap: wrap;<br>            justify-content: flex-start;<br>            width: 100%;<br>        }<br>        .wandb-col {<br>            display: flex;<br>            flex-direction: column;<br>            flex-basis: 100%;<br>            flex: 1;<br>            padding: 10px;<br>        }<br>    </style><br><div class=\"wandb-row\"><div class=\"wandb-col\"><h3>Run history:</h3><br/><table class=\"wandb\"><tr><td>epoch</td><td>▁▂▃▃▄▅▆▆▇█</td></tr><tr><td>train_accuracy</td><td>▁▄▄▆▆▅▆▇██</td></tr><tr><td>train_loss</td><td>▁▂▃▄▅▆▇█▇█</td></tr><tr><td>val_accuracy</td><td>▁▅▅▇▆▄▇▇██</td></tr><tr><td>val_loss</td><td>█▄▄▂▂▅▃▂▁▁</td></tr></table><br/></div><div class=\"wandb-col\"><h3>Run summary:</h3><br/><table class=\"wandb\"><tr><td>epoch</td><td>10</td></tr><tr><td>train_accuracy</td><td>91.21667</td></tr><tr><td>train_loss</td><td>14.04228</td></tr><tr><td>val_accuracy</td><td>88.63333</td></tr><tr><td>val_loss</td><td>0.32618</td></tr></table><br/></div></div>"
            ],
            "text/plain": [
              "<IPython.core.display.HTML object>"
            ]
          },
          "metadata": {},
          "output_type": "display_data"
        },
        {
          "data": {
            "text/html": [
              " View run <strong style=\"color:#cdcd00\">ac-relu_hs-64_epc-10_nl-4_lr0.001_wd-0_opt-nadam_bs-64_wi-Xavier</strong> at: <a href='https://wandb.ai/bgorai005-iit-madras/deep_learning_assignment_1/runs/6ynv43aw' target=\"_blank\">https://wandb.ai/bgorai005-iit-madras/deep_learning_assignment_1/runs/6ynv43aw</a><br> View project at: <a href='https://wandb.ai/bgorai005-iit-madras/deep_learning_assignment_1' target=\"_blank\">https://wandb.ai/bgorai005-iit-madras/deep_learning_assignment_1</a><br>Synced 5 W&B file(s), 0 media file(s), 0 artifact file(s) and 0 other file(s)"
            ],
            "text/plain": [
              "<IPython.core.display.HTML object>"
            ]
          },
          "metadata": {},
          "output_type": "display_data"
        },
        {
          "data": {
            "text/html": [
              "Find logs at: <code>./wandb/run-20250309_141950-6ynv43aw/logs</code>"
            ],
            "text/plain": [
              "<IPython.core.display.HTML object>"
            ]
          },
          "metadata": {},
          "output_type": "display_data"
        },
        {
          "metadata": {
            "tags": null
          },
          "name": "stderr",
          "output_type": "stream",
          "text": [
            "\u001b[34m\u001b[1mwandb\u001b[0m: Agent Starting Run: w68n1auh with config:\n",
            "\u001b[34m\u001b[1mwandb\u001b[0m: \tactivation_hidden: tanh\n",
            "\u001b[34m\u001b[1mwandb\u001b[0m: \tactivation_output: softmax\n",
            "\u001b[34m\u001b[1mwandb\u001b[0m: \tbatch_size: 32\n",
            "\u001b[34m\u001b[1mwandb\u001b[0m: \tepochs: 5\n",
            "\u001b[34m\u001b[1mwandb\u001b[0m: \thidden_size: 128\n",
            "\u001b[34m\u001b[1mwandb\u001b[0m: \tlearning_rate: 0.0001\n",
            "\u001b[34m\u001b[1mwandb\u001b[0m: \tnum_layers: 5\n",
            "\u001b[34m\u001b[1mwandb\u001b[0m: \toptimizer: nag\n",
            "\u001b[34m\u001b[1mwandb\u001b[0m: \tweight_decay: 0\n",
            "\u001b[34m\u001b[1mwandb\u001b[0m: \tweight_ini_method: random\n"
          ]
        },
        {
          "data": {
            "text/html": [
              "Tracking run with wandb version 0.19.7"
            ],
            "text/plain": [
              "<IPython.core.display.HTML object>"
            ]
          },
          "metadata": {},
          "output_type": "display_data"
        },
        {
          "data": {
            "text/html": [
              "Run data is saved locally in <code>/content/wandb/run-20250309_142107-w68n1auh</code>"
            ],
            "text/plain": [
              "<IPython.core.display.HTML object>"
            ]
          },
          "metadata": {},
          "output_type": "display_data"
        },
        {
          "data": {
            "text/html": [
              "Syncing run <strong><a href='https://wandb.ai/bgorai005-iit-madras/deep_learning_assignment_1/runs/w68n1auh' target=\"_blank\">summer-sweep-35</a></strong> to <a href='https://wandb.ai/bgorai005-iit-madras/deep_learning_assignment_1' target=\"_blank\">Weights & Biases</a> (<a href='https://wandb.me/developer-guide' target=\"_blank\">docs</a>)<br>Sweep page: <a href='https://wandb.ai/bgorai005-iit-madras/deep_learning_assignment_1/sweeps/xd33zmtu' target=\"_blank\">https://wandb.ai/bgorai005-iit-madras/deep_learning_assignment_1/sweeps/xd33zmtu</a>"
            ],
            "text/plain": [
              "<IPython.core.display.HTML object>"
            ]
          },
          "metadata": {},
          "output_type": "display_data"
        },
        {
          "data": {
            "text/html": [
              " View project at <a href='https://wandb.ai/bgorai005-iit-madras/deep_learning_assignment_1' target=\"_blank\">https://wandb.ai/bgorai005-iit-madras/deep_learning_assignment_1</a>"
            ],
            "text/plain": [
              "<IPython.core.display.HTML object>"
            ]
          },
          "metadata": {},
          "output_type": "display_data"
        },
        {
          "data": {
            "text/html": [
              " View sweep at <a href='https://wandb.ai/bgorai005-iit-madras/deep_learning_assignment_1/sweeps/xd33zmtu' target=\"_blank\">https://wandb.ai/bgorai005-iit-madras/deep_learning_assignment_1/sweeps/xd33zmtu</a>"
            ],
            "text/plain": [
              "<IPython.core.display.HTML object>"
            ]
          },
          "metadata": {},
          "output_type": "display_data"
        },
        {
          "data": {
            "text/html": [
              " View run at <a href='https://wandb.ai/bgorai005-iit-madras/deep_learning_assignment_1/runs/w68n1auh' target=\"_blank\">https://wandb.ai/bgorai005-iit-madras/deep_learning_assignment_1/runs/w68n1auh</a>"
            ],
            "text/plain": [
              "<IPython.core.display.HTML object>"
            ]
          },
          "metadata": {},
          "output_type": "display_data"
        },
        {
          "metadata": {
            "tags": null
          },
          "name": "stdout",
          "output_type": "stream",
          "text": [
            "[784, 128, 128, 128, 128, 128, 10]\n",
            "Epoch 1, Loss: 0.1684894766212841, Validation Loss: 0.16704524289293593\n",
            "Epoch 2, Loss: 0.16270635218235094, Validation Loss: 0.16125245765157378\n",
            "Epoch 3, Loss: 0.1489096683920143, Validation Loss: 0.1499360765694832\n",
            "Epoch 4, Loss: 0.1373682500610546, Validation Loss: 0.1335838790964387\n",
            "Epoch 5, Loss: 0.17018003223684977, Validation Loss: 0.17414368939228553\n",
            "Test accuracy: 0.1\n"
          ]
        },
        {
          "data": {
            "text/html": [],
            "text/plain": [
              "<IPython.core.display.HTML object>"
            ]
          },
          "metadata": {},
          "output_type": "display_data"
        },
        {
          "data": {
            "text/html": [
              "<br>    <style><br>        .wandb-row {<br>            display: flex;<br>            flex-direction: row;<br>            flex-wrap: wrap;<br>            justify-content: flex-start;<br>            width: 100%;<br>        }<br>        .wandb-col {<br>            display: flex;<br>            flex-direction: column;<br>            flex-basis: 100%;<br>            flex: 1;<br>            padding: 10px;<br>        }<br>    </style><br><div class=\"wandb-row\"><div class=\"wandb-col\"><h3>Run history:</h3><br/><table class=\"wandb\"><tr><td>epoch</td><td>▁▃▅▆█</td></tr><tr><td>train_accuracy</td><td>▄▅▁█▄</td></tr><tr><td>train_loss</td><td>█▆▃▁█</td></tr><tr><td>val_accuracy</td><td>▅▅▁█▁</td></tr><tr><td>val_loss</td><td>▇▆▄▁█</td></tr></table><br/></div><div class=\"wandb-col\"><h3>Run summary:</h3><br/><table class=\"wandb\"><tr><td>epoch</td><td>5</td></tr><tr><td>train_accuracy</td><td>10.09259</td></tr><tr><td>train_loss</td><td>0.17018</td></tr><tr><td>val_accuracy</td><td>9.16667</td></tr><tr><td>val_loss</td><td>0.17414</td></tr></table><br/></div></div>"
            ],
            "text/plain": [
              "<IPython.core.display.HTML object>"
            ]
          },
          "metadata": {},
          "output_type": "display_data"
        },
        {
          "data": {
            "text/html": [
              " View run <strong style=\"color:#cdcd00\">ac-tanh_hs-128_epc-5_nl-5_lr0.0001_wd-0_opt-nag_bs-32_wi-random</strong> at: <a href='https://wandb.ai/bgorai005-iit-madras/deep_learning_assignment_1/runs/w68n1auh' target=\"_blank\">https://wandb.ai/bgorai005-iit-madras/deep_learning_assignment_1/runs/w68n1auh</a><br> View project at: <a href='https://wandb.ai/bgorai005-iit-madras/deep_learning_assignment_1' target=\"_blank\">https://wandb.ai/bgorai005-iit-madras/deep_learning_assignment_1</a><br>Synced 5 W&B file(s), 0 media file(s), 0 artifact file(s) and 0 other file(s)"
            ],
            "text/plain": [
              "<IPython.core.display.HTML object>"
            ]
          },
          "metadata": {},
          "output_type": "display_data"
        },
        {
          "data": {
            "text/html": [
              "Find logs at: <code>./wandb/run-20250309_142107-w68n1auh/logs</code>"
            ],
            "text/plain": [
              "<IPython.core.display.HTML object>"
            ]
          },
          "metadata": {},
          "output_type": "display_data"
        },
        {
          "metadata": {
            "tags": null
          },
          "name": "stderr",
          "output_type": "stream",
          "text": [
            "\u001b[34m\u001b[1mwandb\u001b[0m: Agent Starting Run: 2i6ox6mc with config:\n",
            "\u001b[34m\u001b[1mwandb\u001b[0m: \tactivation_hidden: relu\n",
            "\u001b[34m\u001b[1mwandb\u001b[0m: \tactivation_output: softmax\n",
            "\u001b[34m\u001b[1mwandb\u001b[0m: \tbatch_size: 64\n",
            "\u001b[34m\u001b[1mwandb\u001b[0m: \tepochs: 10\n",
            "\u001b[34m\u001b[1mwandb\u001b[0m: \thidden_size: 64\n",
            "\u001b[34m\u001b[1mwandb\u001b[0m: \tlearning_rate: 0.0001\n",
            "\u001b[34m\u001b[1mwandb\u001b[0m: \tnum_layers: 5\n",
            "\u001b[34m\u001b[1mwandb\u001b[0m: \toptimizer: momentum\n",
            "\u001b[34m\u001b[1mwandb\u001b[0m: \tweight_decay: 0\n",
            "\u001b[34m\u001b[1mwandb\u001b[0m: \tweight_ini_method: random\n"
          ]
        },
        {
          "data": {
            "text/html": [
              "Tracking run with wandb version 0.19.7"
            ],
            "text/plain": [
              "<IPython.core.display.HTML object>"
            ]
          },
          "metadata": {},
          "output_type": "display_data"
        },
        {
          "data": {
            "text/html": [
              "Run data is saved locally in <code>/content/wandb/run-20250309_142326-2i6ox6mc</code>"
            ],
            "text/plain": [
              "<IPython.core.display.HTML object>"
            ]
          },
          "metadata": {},
          "output_type": "display_data"
        },
        {
          "data": {
            "text/html": [
              "Syncing run <strong><a href='https://wandb.ai/bgorai005-iit-madras/deep_learning_assignment_1/runs/2i6ox6mc' target=\"_blank\">bright-sweep-36</a></strong> to <a href='https://wandb.ai/bgorai005-iit-madras/deep_learning_assignment_1' target=\"_blank\">Weights & Biases</a> (<a href='https://wandb.me/developer-guide' target=\"_blank\">docs</a>)<br>Sweep page: <a href='https://wandb.ai/bgorai005-iit-madras/deep_learning_assignment_1/sweeps/xd33zmtu' target=\"_blank\">https://wandb.ai/bgorai005-iit-madras/deep_learning_assignment_1/sweeps/xd33zmtu</a>"
            ],
            "text/plain": [
              "<IPython.core.display.HTML object>"
            ]
          },
          "metadata": {},
          "output_type": "display_data"
        },
        {
          "data": {
            "text/html": [
              " View project at <a href='https://wandb.ai/bgorai005-iit-madras/deep_learning_assignment_1' target=\"_blank\">https://wandb.ai/bgorai005-iit-madras/deep_learning_assignment_1</a>"
            ],
            "text/plain": [
              "<IPython.core.display.HTML object>"
            ]
          },
          "metadata": {},
          "output_type": "display_data"
        },
        {
          "data": {
            "text/html": [
              " View sweep at <a href='https://wandb.ai/bgorai005-iit-madras/deep_learning_assignment_1/sweeps/xd33zmtu' target=\"_blank\">https://wandb.ai/bgorai005-iit-madras/deep_learning_assignment_1/sweeps/xd33zmtu</a>"
            ],
            "text/plain": [
              "<IPython.core.display.HTML object>"
            ]
          },
          "metadata": {},
          "output_type": "display_data"
        },
        {
          "data": {
            "text/html": [
              " View run at <a href='https://wandb.ai/bgorai005-iit-madras/deep_learning_assignment_1/runs/2i6ox6mc' target=\"_blank\">https://wandb.ai/bgorai005-iit-madras/deep_learning_assignment_1/runs/2i6ox6mc</a>"
            ],
            "text/plain": [
              "<IPython.core.display.HTML object>"
            ]
          },
          "metadata": {},
          "output_type": "display_data"
        },
        {
          "metadata": {
            "tags": null
          },
          "name": "stdout",
          "output_type": "stream",
          "text": [
            "[784, 64, 64, 64, 64, 64, 10]\n",
            "Epoch 1, Train Loss: nan, Val Loss: nan\n",
            "Epoch 2, Train Loss: nan, Val Loss: nan\n",
            "Epoch 3, Train Loss: nan, Val Loss: nan\n",
            "Epoch 4, Train Loss: nan, Val Loss: nan\n",
            "Epoch 5, Train Loss: nan, Val Loss: nan\n",
            "Epoch 6, Train Loss: nan, Val Loss: nan\n",
            "Epoch 7, Train Loss: nan, Val Loss: nan\n",
            "Epoch 8, Train Loss: nan, Val Loss: nan\n",
            "Epoch 9, Train Loss: nan, Val Loss: nan\n",
            "Epoch 10, Train Loss: nan, Val Loss: nan\n",
            "Test accuracy: 0.1\n"
          ]
        },
        {
          "data": {
            "text/html": [],
            "text/plain": [
              "<IPython.core.display.HTML object>"
            ]
          },
          "metadata": {},
          "output_type": "display_data"
        },
        {
          "data": {
            "text/html": [
              "<br>    <style><br>        .wandb-row {<br>            display: flex;<br>            flex-direction: row;<br>            flex-wrap: wrap;<br>            justify-content: flex-start;<br>            width: 100%;<br>        }<br>        .wandb-col {<br>            display: flex;<br>            flex-direction: column;<br>            flex-basis: 100%;<br>            flex: 1;<br>            padding: 10px;<br>        }<br>    </style><br><div class=\"wandb-row\"><div class=\"wandb-col\"><h3>Run history:</h3><br/><table class=\"wandb\"><tr><td>epoch</td><td>▁▂▃▃▄▅▆▆▇█</td></tr><tr><td>train_accuracy</td><td>▁▁▁▁▁▁▁▁▁▁</td></tr><tr><td>val_accuracy</td><td>▁▁▁▁▁▁▁▁▁▁</td></tr></table><br/></div><div class=\"wandb-col\"><h3>Run summary:</h3><br/><table class=\"wandb\"><tr><td>epoch</td><td>10</td></tr><tr><td>train_accuracy</td><td>10.00556</td></tr><tr><td>train_loss</td><td>nan</td></tr><tr><td>val_accuracy</td><td>9.95</td></tr><tr><td>val_loss</td><td>nan</td></tr></table><br/></div></div>"
            ],
            "text/plain": [
              "<IPython.core.display.HTML object>"
            ]
          },
          "metadata": {},
          "output_type": "display_data"
        },
        {
          "data": {
            "text/html": [
              " View run <strong style=\"color:#cdcd00\">ac-relu_hs-64_epc-10_nl-5_lr0.0001_wd-0_opt-momentum_bs-64_wi-random</strong> at: <a href='https://wandb.ai/bgorai005-iit-madras/deep_learning_assignment_1/runs/2i6ox6mc' target=\"_blank\">https://wandb.ai/bgorai005-iit-madras/deep_learning_assignment_1/runs/2i6ox6mc</a><br> View project at: <a href='https://wandb.ai/bgorai005-iit-madras/deep_learning_assignment_1' target=\"_blank\">https://wandb.ai/bgorai005-iit-madras/deep_learning_assignment_1</a><br>Synced 5 W&B file(s), 0 media file(s), 0 artifact file(s) and 0 other file(s)"
            ],
            "text/plain": [
              "<IPython.core.display.HTML object>"
            ]
          },
          "metadata": {},
          "output_type": "display_data"
        },
        {
          "data": {
            "text/html": [
              "Find logs at: <code>./wandb/run-20250309_142326-2i6ox6mc/logs</code>"
            ],
            "text/plain": [
              "<IPython.core.display.HTML object>"
            ]
          },
          "metadata": {},
          "output_type": "display_data"
        },
        {
          "metadata": {
            "tags": null
          },
          "name": "stderr",
          "output_type": "stream",
          "text": [
            "\u001b[34m\u001b[1mwandb\u001b[0m: Agent Starting Run: t4ve4t2a with config:\n",
            "\u001b[34m\u001b[1mwandb\u001b[0m: \tactivation_hidden: relu\n",
            "\u001b[34m\u001b[1mwandb\u001b[0m: \tactivation_output: softmax\n",
            "\u001b[34m\u001b[1mwandb\u001b[0m: \tbatch_size: 64\n",
            "\u001b[34m\u001b[1mwandb\u001b[0m: \tepochs: 5\n",
            "\u001b[34m\u001b[1mwandb\u001b[0m: \thidden_size: 32\n",
            "\u001b[34m\u001b[1mwandb\u001b[0m: \tlearning_rate: 0.001\n",
            "\u001b[34m\u001b[1mwandb\u001b[0m: \tnum_layers: 5\n",
            "\u001b[34m\u001b[1mwandb\u001b[0m: \toptimizer: momentum\n",
            "\u001b[34m\u001b[1mwandb\u001b[0m: \tweight_decay: 0\n",
            "\u001b[34m\u001b[1mwandb\u001b[0m: \tweight_ini_method: Xavier\n"
          ]
        },
        {
          "data": {
            "text/html": [
              "Tracking run with wandb version 0.19.7"
            ],
            "text/plain": [
              "<IPython.core.display.HTML object>"
            ]
          },
          "metadata": {},
          "output_type": "display_data"
        },
        {
          "data": {
            "text/html": [
              "Run data is saved locally in <code>/content/wandb/run-20250309_142434-t4ve4t2a</code>"
            ],
            "text/plain": [
              "<IPython.core.display.HTML object>"
            ]
          },
          "metadata": {},
          "output_type": "display_data"
        },
        {
          "data": {
            "text/html": [
              "Syncing run <strong><a href='https://wandb.ai/bgorai005-iit-madras/deep_learning_assignment_1/runs/t4ve4t2a' target=\"_blank\">wild-sweep-37</a></strong> to <a href='https://wandb.ai/bgorai005-iit-madras/deep_learning_assignment_1' target=\"_blank\">Weights & Biases</a> (<a href='https://wandb.me/developer-guide' target=\"_blank\">docs</a>)<br>Sweep page: <a href='https://wandb.ai/bgorai005-iit-madras/deep_learning_assignment_1/sweeps/xd33zmtu' target=\"_blank\">https://wandb.ai/bgorai005-iit-madras/deep_learning_assignment_1/sweeps/xd33zmtu</a>"
            ],
            "text/plain": [
              "<IPython.core.display.HTML object>"
            ]
          },
          "metadata": {},
          "output_type": "display_data"
        },
        {
          "data": {
            "text/html": [
              " View project at <a href='https://wandb.ai/bgorai005-iit-madras/deep_learning_assignment_1' target=\"_blank\">https://wandb.ai/bgorai005-iit-madras/deep_learning_assignment_1</a>"
            ],
            "text/plain": [
              "<IPython.core.display.HTML object>"
            ]
          },
          "metadata": {},
          "output_type": "display_data"
        },
        {
          "data": {
            "text/html": [
              " View sweep at <a href='https://wandb.ai/bgorai005-iit-madras/deep_learning_assignment_1/sweeps/xd33zmtu' target=\"_blank\">https://wandb.ai/bgorai005-iit-madras/deep_learning_assignment_1/sweeps/xd33zmtu</a>"
            ],
            "text/plain": [
              "<IPython.core.display.HTML object>"
            ]
          },
          "metadata": {},
          "output_type": "display_data"
        },
        {
          "data": {
            "text/html": [
              " View run at <a href='https://wandb.ai/bgorai005-iit-madras/deep_learning_assignment_1/runs/t4ve4t2a' target=\"_blank\">https://wandb.ai/bgorai005-iit-madras/deep_learning_assignment_1/runs/t4ve4t2a</a>"
            ],
            "text/plain": [
              "<IPython.core.display.HTML object>"
            ]
          },
          "metadata": {},
          "output_type": "display_data"
        },
        {
          "metadata": {
            "tags": null
          },
          "name": "stdout",
          "output_type": "stream",
          "text": [
            "[784, 32, 32, 32, 32, 32, 10]\n",
            "Epoch 1, Train Loss: 0.5710982151948595, Val Loss: 0.5794619640991191\n",
            "Epoch 2, Train Loss: 0.5471592580169856, Val Loss: 0.5681994823542829\n",
            "Epoch 3, Train Loss: 0.4887016307044027, Val Loss: 0.5180642705877285\n",
            "Epoch 4, Train Loss: 0.5156184761752522, Val Loss: 0.5482079286028724\n",
            "Epoch 5, Train Loss: 0.5210754366485859, Val Loss: 0.5500462312120152\n",
            "Test accuracy: 0.8068\n"
          ]
        },
        {
          "data": {
            "text/html": [],
            "text/plain": [
              "<IPython.core.display.HTML object>"
            ]
          },
          "metadata": {},
          "output_type": "display_data"
        },
        {
          "data": {
            "text/html": [
              "<br>    <style><br>        .wandb-row {<br>            display: flex;<br>            flex-direction: row;<br>            flex-wrap: wrap;<br>            justify-content: flex-start;<br>            width: 100%;<br>        }<br>        .wandb-col {<br>            display: flex;<br>            flex-direction: column;<br>            flex-basis: 100%;<br>            flex: 1;<br>            padding: 10px;<br>        }<br>    </style><br><div class=\"wandb-row\"><div class=\"wandb-col\"><h3>Run history:</h3><br/><table class=\"wandb\"><tr><td>epoch</td><td>▁▃▅▆█</td></tr><tr><td>train_accuracy</td><td>▁▃█▆▇</td></tr><tr><td>train_loss</td><td>█▆▁▃▄</td></tr><tr><td>val_accuracy</td><td>▁▄█▆▇</td></tr><tr><td>val_loss</td><td>█▇▁▄▅</td></tr></table><br/></div><div class=\"wandb-col\"><h3>Run summary:</h3><br/><table class=\"wandb\"><tr><td>epoch</td><td>5</td></tr><tr><td>train_accuracy</td><td>82.07037</td></tr><tr><td>train_loss</td><td>0.52108</td></tr><tr><td>val_accuracy</td><td>81.05</td></tr><tr><td>val_loss</td><td>0.55005</td></tr></table><br/></div></div>"
            ],
            "text/plain": [
              "<IPython.core.display.HTML object>"
            ]
          },
          "metadata": {},
          "output_type": "display_data"
        },
        {
          "data": {
            "text/html": [
              " View run <strong style=\"color:#cdcd00\">ac-relu_hs-32_epc-5_nl-5_lr0.001_wd-0_opt-momentum_bs-64_wi-Xavier</strong> at: <a href='https://wandb.ai/bgorai005-iit-madras/deep_learning_assignment_1/runs/t4ve4t2a' target=\"_blank\">https://wandb.ai/bgorai005-iit-madras/deep_learning_assignment_1/runs/t4ve4t2a</a><br> View project at: <a href='https://wandb.ai/bgorai005-iit-madras/deep_learning_assignment_1' target=\"_blank\">https://wandb.ai/bgorai005-iit-madras/deep_learning_assignment_1</a><br>Synced 5 W&B file(s), 0 media file(s), 0 artifact file(s) and 0 other file(s)"
            ],
            "text/plain": [
              "<IPython.core.display.HTML object>"
            ]
          },
          "metadata": {},
          "output_type": "display_data"
        },
        {
          "data": {
            "text/html": [
              "Find logs at: <code>./wandb/run-20250309_142434-t4ve4t2a/logs</code>"
            ],
            "text/plain": [
              "<IPython.core.display.HTML object>"
            ]
          },
          "metadata": {},
          "output_type": "display_data"
        },
        {
          "metadata": {
            "tags": null
          },
          "name": "stderr",
          "output_type": "stream",
          "text": [
            "\u001b[34m\u001b[1mwandb\u001b[0m: Agent Starting Run: rd22524n with config:\n",
            "\u001b[34m\u001b[1mwandb\u001b[0m: \tactivation_hidden: tanh\n",
            "\u001b[34m\u001b[1mwandb\u001b[0m: \tactivation_output: softmax\n",
            "\u001b[34m\u001b[1mwandb\u001b[0m: \tbatch_size: 64\n",
            "\u001b[34m\u001b[1mwandb\u001b[0m: \tepochs: 10\n",
            "\u001b[34m\u001b[1mwandb\u001b[0m: \thidden_size: 32\n",
            "\u001b[34m\u001b[1mwandb\u001b[0m: \tlearning_rate: 0.0001\n",
            "\u001b[34m\u001b[1mwandb\u001b[0m: \tnum_layers: 4\n",
            "\u001b[34m\u001b[1mwandb\u001b[0m: \toptimizer: RMSprop\n",
            "\u001b[34m\u001b[1mwandb\u001b[0m: \tweight_decay: 0\n",
            "\u001b[34m\u001b[1mwandb\u001b[0m: \tweight_ini_method: Xavier\n"
          ]
        },
        {
          "data": {
            "text/html": [
              "Tracking run with wandb version 0.19.7"
            ],
            "text/plain": [
              "<IPython.core.display.HTML object>"
            ]
          },
          "metadata": {},
          "output_type": "display_data"
        },
        {
          "data": {
            "text/html": [
              "Run data is saved locally in <code>/content/wandb/run-20250309_142505-rd22524n</code>"
            ],
            "text/plain": [
              "<IPython.core.display.HTML object>"
            ]
          },
          "metadata": {},
          "output_type": "display_data"
        },
        {
          "data": {
            "text/html": [
              "Syncing run <strong><a href='https://wandb.ai/bgorai005-iit-madras/deep_learning_assignment_1/runs/rd22524n' target=\"_blank\">leafy-sweep-38</a></strong> to <a href='https://wandb.ai/bgorai005-iit-madras/deep_learning_assignment_1' target=\"_blank\">Weights & Biases</a> (<a href='https://wandb.me/developer-guide' target=\"_blank\">docs</a>)<br>Sweep page: <a href='https://wandb.ai/bgorai005-iit-madras/deep_learning_assignment_1/sweeps/xd33zmtu' target=\"_blank\">https://wandb.ai/bgorai005-iit-madras/deep_learning_assignment_1/sweeps/xd33zmtu</a>"
            ],
            "text/plain": [
              "<IPython.core.display.HTML object>"
            ]
          },
          "metadata": {},
          "output_type": "display_data"
        },
        {
          "data": {
            "text/html": [
              " View project at <a href='https://wandb.ai/bgorai005-iit-madras/deep_learning_assignment_1' target=\"_blank\">https://wandb.ai/bgorai005-iit-madras/deep_learning_assignment_1</a>"
            ],
            "text/plain": [
              "<IPython.core.display.HTML object>"
            ]
          },
          "metadata": {},
          "output_type": "display_data"
        },
        {
          "data": {
            "text/html": [
              " View sweep at <a href='https://wandb.ai/bgorai005-iit-madras/deep_learning_assignment_1/sweeps/xd33zmtu' target=\"_blank\">https://wandb.ai/bgorai005-iit-madras/deep_learning_assignment_1/sweeps/xd33zmtu</a>"
            ],
            "text/plain": [
              "<IPython.core.display.HTML object>"
            ]
          },
          "metadata": {},
          "output_type": "display_data"
        },
        {
          "data": {
            "text/html": [
              " View run at <a href='https://wandb.ai/bgorai005-iit-madras/deep_learning_assignment_1/runs/rd22524n' target=\"_blank\">https://wandb.ai/bgorai005-iit-madras/deep_learning_assignment_1/runs/rd22524n</a>"
            ],
            "text/plain": [
              "<IPython.core.display.HTML object>"
            ]
          },
          "metadata": {},
          "output_type": "display_data"
        },
        {
          "metadata": {
            "tags": null
          },
          "name": "stdout",
          "output_type": "stream",
          "text": [
            "[784, 32, 32, 32, 32, 10]\n",
            "Epoch 1, Loss: 3.99229731078915, Validation Loss: 0.6213404218010298\n",
            "Epoch 2, Loss: 4.7571758943538445, Validation Loss: 0.5126051491546709\n",
            "Epoch 3, Loss: 5.126829040512893, Validation Loss: 0.45645526555498206\n",
            "Epoch 4, Loss: 5.408240009329388, Validation Loss: 0.42864045641073234\n",
            "Epoch 5, Loss: 5.632626563780442, Validation Loss: 0.4155720114102243\n",
            "Epoch 6, Loss: 5.803984531507144, Validation Loss: 0.4045153237939556\n",
            "Epoch 7, Loss: 5.936345733691575, Validation Loss: 0.3922204287656811\n",
            "Epoch 8, Loss: 6.096658854633991, Validation Loss: 0.3825003483711054\n",
            "Epoch 9, Loss: 6.209073016254744, Validation Loss: 0.37943730524324365\n",
            "Epoch 10, Loss: 6.276378703970192, Validation Loss: 0.373393275455269\n",
            "Test accuracy: 0.8547\n"
          ]
        },
        {
          "data": {
            "text/html": [],
            "text/plain": [
              "<IPython.core.display.HTML object>"
            ]
          },
          "metadata": {},
          "output_type": "display_data"
        },
        {
          "data": {
            "text/html": [
              "<br>    <style><br>        .wandb-row {<br>            display: flex;<br>            flex-direction: row;<br>            flex-wrap: wrap;<br>            justify-content: flex-start;<br>            width: 100%;<br>        }<br>        .wandb-col {<br>            display: flex;<br>            flex-direction: column;<br>            flex-basis: 100%;<br>            flex: 1;<br>            padding: 10px;<br>        }<br>    </style><br><div class=\"wandb-row\"><div class=\"wandb-col\"><h3>Run history:</h3><br/><table class=\"wandb\"><tr><td>epoch</td><td>▁▂▃▃▄▅▆▆▇█</td></tr><tr><td>train_accuracy</td><td>▁▃▅▆▆▇▇███</td></tr><tr><td>train_loss</td><td>▁▃▄▅▆▇▇▇██</td></tr><tr><td>val_accuracy</td><td>▁▄▅▆▆▆▇███</td></tr><tr><td>val_loss</td><td>█▅▃▃▂▂▂▁▁▁</td></tr></table><br/></div><div class=\"wandb-col\"><h3>Run summary:</h3><br/><table class=\"wandb\"><tr><td>epoch</td><td>10</td></tr><tr><td>train_accuracy</td><td>87.64259</td></tr><tr><td>train_loss</td><td>6.27638</td></tr><tr><td>val_accuracy</td><td>86.75</td></tr><tr><td>val_loss</td><td>0.37339</td></tr></table><br/></div></div>"
            ],
            "text/plain": [
              "<IPython.core.display.HTML object>"
            ]
          },
          "metadata": {},
          "output_type": "display_data"
        },
        {
          "data": {
            "text/html": [
              " View run <strong style=\"color:#cdcd00\">ac-tanh_hs-32_epc-10_nl-4_lr0.0001_wd-0_opt-RMSprop_bs-64_wi-Xavier</strong> at: <a href='https://wandb.ai/bgorai005-iit-madras/deep_learning_assignment_1/runs/rd22524n' target=\"_blank\">https://wandb.ai/bgorai005-iit-madras/deep_learning_assignment_1/runs/rd22524n</a><br> View project at: <a href='https://wandb.ai/bgorai005-iit-madras/deep_learning_assignment_1' target=\"_blank\">https://wandb.ai/bgorai005-iit-madras/deep_learning_assignment_1</a><br>Synced 5 W&B file(s), 0 media file(s), 0 artifact file(s) and 0 other file(s)"
            ],
            "text/plain": [
              "<IPython.core.display.HTML object>"
            ]
          },
          "metadata": {},
          "output_type": "display_data"
        },
        {
          "data": {
            "text/html": [
              "Find logs at: <code>./wandb/run-20250309_142505-rd22524n/logs</code>"
            ],
            "text/plain": [
              "<IPython.core.display.HTML object>"
            ]
          },
          "metadata": {},
          "output_type": "display_data"
        },
        {
          "metadata": {
            "tags": null
          },
          "name": "stderr",
          "output_type": "stream",
          "text": [
            "\u001b[34m\u001b[1mwandb\u001b[0m: Agent Starting Run: q4zu526m with config:\n",
            "\u001b[34m\u001b[1mwandb\u001b[0m: \tactivation_hidden: relu\n",
            "\u001b[34m\u001b[1mwandb\u001b[0m: \tactivation_output: softmax\n",
            "\u001b[34m\u001b[1mwandb\u001b[0m: \tbatch_size: 32\n",
            "\u001b[34m\u001b[1mwandb\u001b[0m: \tepochs: 10\n",
            "\u001b[34m\u001b[1mwandb\u001b[0m: \thidden_size: 128\n",
            "\u001b[34m\u001b[1mwandb\u001b[0m: \tlearning_rate: 0.0001\n",
            "\u001b[34m\u001b[1mwandb\u001b[0m: \tnum_layers: 3\n",
            "\u001b[34m\u001b[1mwandb\u001b[0m: \toptimizer: nadam\n",
            "\u001b[34m\u001b[1mwandb\u001b[0m: \tweight_decay: 0\n",
            "\u001b[34m\u001b[1mwandb\u001b[0m: \tweight_ini_method: random\n"
          ]
        },
        {
          "data": {
            "text/html": [
              "Tracking run with wandb version 0.19.7"
            ],
            "text/plain": [
              "<IPython.core.display.HTML object>"
            ]
          },
          "metadata": {},
          "output_type": "display_data"
        },
        {
          "data": {
            "text/html": [
              "Run data is saved locally in <code>/content/wandb/run-20250309_142617-q4zu526m</code>"
            ],
            "text/plain": [
              "<IPython.core.display.HTML object>"
            ]
          },
          "metadata": {},
          "output_type": "display_data"
        },
        {
          "data": {
            "text/html": [
              "Syncing run <strong><a href='https://wandb.ai/bgorai005-iit-madras/deep_learning_assignment_1/runs/q4zu526m' target=\"_blank\">smart-sweep-39</a></strong> to <a href='https://wandb.ai/bgorai005-iit-madras/deep_learning_assignment_1' target=\"_blank\">Weights & Biases</a> (<a href='https://wandb.me/developer-guide' target=\"_blank\">docs</a>)<br>Sweep page: <a href='https://wandb.ai/bgorai005-iit-madras/deep_learning_assignment_1/sweeps/xd33zmtu' target=\"_blank\">https://wandb.ai/bgorai005-iit-madras/deep_learning_assignment_1/sweeps/xd33zmtu</a>"
            ],
            "text/plain": [
              "<IPython.core.display.HTML object>"
            ]
          },
          "metadata": {},
          "output_type": "display_data"
        },
        {
          "data": {
            "text/html": [
              " View project at <a href='https://wandb.ai/bgorai005-iit-madras/deep_learning_assignment_1' target=\"_blank\">https://wandb.ai/bgorai005-iit-madras/deep_learning_assignment_1</a>"
            ],
            "text/plain": [
              "<IPython.core.display.HTML object>"
            ]
          },
          "metadata": {},
          "output_type": "display_data"
        },
        {
          "data": {
            "text/html": [
              " View sweep at <a href='https://wandb.ai/bgorai005-iit-madras/deep_learning_assignment_1/sweeps/xd33zmtu' target=\"_blank\">https://wandb.ai/bgorai005-iit-madras/deep_learning_assignment_1/sweeps/xd33zmtu</a>"
            ],
            "text/plain": [
              "<IPython.core.display.HTML object>"
            ]
          },
          "metadata": {},
          "output_type": "display_data"
        },
        {
          "data": {
            "text/html": [
              " View run at <a href='https://wandb.ai/bgorai005-iit-madras/deep_learning_assignment_1/runs/q4zu526m' target=\"_blank\">https://wandb.ai/bgorai005-iit-madras/deep_learning_assignment_1/runs/q4zu526m</a>"
            ],
            "text/plain": [
              "<IPython.core.display.HTML object>"
            ]
          },
          "metadata": {},
          "output_type": "display_data"
        },
        {
          "metadata": {
            "tags": null
          },
          "name": "stdout",
          "output_type": "stream",
          "text": [
            "[784, 128, 128, 128, 10]\n",
            "Epoch 1, Loss: 31.075665256610684, Validation Loss: 12.14655987301735\n",
            "Epoch 2, Loss: 31.04769149240508, Validation Loss: 10.673351866789314\n",
            "Epoch 3, Loss: 30.962626027363015, Validation Loss: 10.039518375363707\n",
            "Epoch 4, Loss: 30.98305713943912, Validation Loss: 9.724288837533587\n",
            "Epoch 5, Loss: 31.085779076668345, Validation Loss: 9.454116260502948\n",
            "Epoch 6, Loss: 31.048765224709904, Validation Loss: 9.140603136022639\n",
            "Epoch 7, Loss: 31.0832307240251, Validation Loss: 9.03933744773781\n",
            "Epoch 8, Loss: 31.01358768183335, Validation Loss: 8.716691250377298\n",
            "Epoch 9, Loss: 31.00120691947126, Validation Loss: 8.644159880904033\n",
            "Epoch 10, Loss: 31.056473947689913, Validation Loss: 8.482791623877146\n",
            " accuracy: 0.753\n"
          ]
        },
        {
          "data": {
            "text/html": [],
            "text/plain": [
              "<IPython.core.display.HTML object>"
            ]
          },
          "metadata": {},
          "output_type": "display_data"
        },
        {
          "data": {
            "text/html": [
              "<br>    <style><br>        .wandb-row {<br>            display: flex;<br>            flex-direction: row;<br>            flex-wrap: wrap;<br>            justify-content: flex-start;<br>            width: 100%;<br>        }<br>        .wandb-col {<br>            display: flex;<br>            flex-direction: column;<br>            flex-basis: 100%;<br>            flex: 1;<br>            padding: 10px;<br>        }<br>    </style><br><div class=\"wandb-row\"><div class=\"wandb-col\"><h3>Run history:</h3><br/><table class=\"wandb\"><tr><td>epoch</td><td>▁▂▃▃▄▅▆▆▇█</td></tr><tr><td>train_accuracy</td><td>▁▄▅▆▆▇▇███</td></tr><tr><td>train_loss</td><td>▇▆▁▂█▆█▄▃▆</td></tr><tr><td>val_accuracy</td><td>▁▄▅▆▆▇▇███</td></tr><tr><td>val_loss</td><td>█▅▄▃▃▂▂▁▁▁</td></tr></table><br/></div><div class=\"wandb-col\"><h3>Run summary:</h3><br/><table class=\"wandb\"><tr><td>epoch</td><td>10</td></tr><tr><td>train_accuracy</td><td>76.62037</td></tr><tr><td>train_loss</td><td>31.05647</td></tr><tr><td>val_accuracy</td><td>74.9</td></tr><tr><td>val_loss</td><td>8.48279</td></tr></table><br/></div></div>"
            ],
            "text/plain": [
              "<IPython.core.display.HTML object>"
            ]
          },
          "metadata": {},
          "output_type": "display_data"
        },
        {
          "data": {
            "text/html": [
              " View run <strong style=\"color:#cdcd00\">ac-relu_hs-128_epc-10_nl-3_lr0.0001_wd-0_opt-nadam_bs-32_wi-random</strong> at: <a href='https://wandb.ai/bgorai005-iit-madras/deep_learning_assignment_1/runs/q4zu526m' target=\"_blank\">https://wandb.ai/bgorai005-iit-madras/deep_learning_assignment_1/runs/q4zu526m</a><br> View project at: <a href='https://wandb.ai/bgorai005-iit-madras/deep_learning_assignment_1' target=\"_blank\">https://wandb.ai/bgorai005-iit-madras/deep_learning_assignment_1</a><br>Synced 5 W&B file(s), 0 media file(s), 0 artifact file(s) and 0 other file(s)"
            ],
            "text/plain": [
              "<IPython.core.display.HTML object>"
            ]
          },
          "metadata": {},
          "output_type": "display_data"
        },
        {
          "data": {
            "text/html": [
              "Find logs at: <code>./wandb/run-20250309_142617-q4zu526m/logs</code>"
            ],
            "text/plain": [
              "<IPython.core.display.HTML object>"
            ]
          },
          "metadata": {},
          "output_type": "display_data"
        },
        {
          "metadata": {
            "tags": null
          },
          "name": "stderr",
          "output_type": "stream",
          "text": [
            "\u001b[34m\u001b[1mwandb\u001b[0m: Agent Starting Run: c75y8vnd with config:\n",
            "\u001b[34m\u001b[1mwandb\u001b[0m: \tactivation_hidden: sigmoid\n",
            "\u001b[34m\u001b[1mwandb\u001b[0m: \tactivation_output: softmax\n",
            "\u001b[34m\u001b[1mwandb\u001b[0m: \tbatch_size: 32\n",
            "\u001b[34m\u001b[1mwandb\u001b[0m: \tepochs: 10\n",
            "\u001b[34m\u001b[1mwandb\u001b[0m: \thidden_size: 32\n",
            "\u001b[34m\u001b[1mwandb\u001b[0m: \tlearning_rate: 0.001\n",
            "\u001b[34m\u001b[1mwandb\u001b[0m: \tnum_layers: 4\n",
            "\u001b[34m\u001b[1mwandb\u001b[0m: \toptimizer: adam\n",
            "\u001b[34m\u001b[1mwandb\u001b[0m: \tweight_decay: 0\n",
            "\u001b[34m\u001b[1mwandb\u001b[0m: \tweight_ini_method: Xavier\n"
          ]
        },
        {
          "data": {
            "text/html": [
              "Tracking run with wandb version 0.19.7"
            ],
            "text/plain": [
              "<IPython.core.display.HTML object>"
            ]
          },
          "metadata": {},
          "output_type": "display_data"
        },
        {
          "data": {
            "text/html": [
              "Run data is saved locally in <code>/content/wandb/run-20250309_142907-c75y8vnd</code>"
            ],
            "text/plain": [
              "<IPython.core.display.HTML object>"
            ]
          },
          "metadata": {},
          "output_type": "display_data"
        },
        {
          "data": {
            "text/html": [
              "Syncing run <strong><a href='https://wandb.ai/bgorai005-iit-madras/deep_learning_assignment_1/runs/c75y8vnd' target=\"_blank\">super-sweep-40</a></strong> to <a href='https://wandb.ai/bgorai005-iit-madras/deep_learning_assignment_1' target=\"_blank\">Weights & Biases</a> (<a href='https://wandb.me/developer-guide' target=\"_blank\">docs</a>)<br>Sweep page: <a href='https://wandb.ai/bgorai005-iit-madras/deep_learning_assignment_1/sweeps/xd33zmtu' target=\"_blank\">https://wandb.ai/bgorai005-iit-madras/deep_learning_assignment_1/sweeps/xd33zmtu</a>"
            ],
            "text/plain": [
              "<IPython.core.display.HTML object>"
            ]
          },
          "metadata": {},
          "output_type": "display_data"
        },
        {
          "data": {
            "text/html": [
              " View project at <a href='https://wandb.ai/bgorai005-iit-madras/deep_learning_assignment_1' target=\"_blank\">https://wandb.ai/bgorai005-iit-madras/deep_learning_assignment_1</a>"
            ],
            "text/plain": [
              "<IPython.core.display.HTML object>"
            ]
          },
          "metadata": {},
          "output_type": "display_data"
        },
        {
          "data": {
            "text/html": [
              " View sweep at <a href='https://wandb.ai/bgorai005-iit-madras/deep_learning_assignment_1/sweeps/xd33zmtu' target=\"_blank\">https://wandb.ai/bgorai005-iit-madras/deep_learning_assignment_1/sweeps/xd33zmtu</a>"
            ],
            "text/plain": [
              "<IPython.core.display.HTML object>"
            ]
          },
          "metadata": {},
          "output_type": "display_data"
        },
        {
          "data": {
            "text/html": [
              " View run at <a href='https://wandb.ai/bgorai005-iit-madras/deep_learning_assignment_1/runs/c75y8vnd' target=\"_blank\">https://wandb.ai/bgorai005-iit-madras/deep_learning_assignment_1/runs/c75y8vnd</a>"
            ],
            "text/plain": [
              "<IPython.core.display.HTML object>"
            ]
          },
          "metadata": {},
          "output_type": "display_data"
        },
        {
          "metadata": {
            "tags": null
          },
          "name": "stdout",
          "output_type": "stream",
          "text": [
            "[784, 32, 32, 32, 32, 10]\n",
            "Epoch 1, Train Loss: 0.6861265816904696, Val Loss: 0.6936240349104619\n",
            "Epoch 2, Train Loss: 0.49491401619609665, Val Loss: 0.5083054255341873\n",
            "Epoch 3, Train Loss: 0.4327722299751159, Val Loss: 0.4527357450783715\n",
            "Epoch 4, Train Loss: 0.39746050605146377, Val Loss: 0.4162307389708106\n",
            "Epoch 5, Train Loss: 0.3739588638492394, Val Loss: 0.3976056628234\n",
            "Epoch 6, Train Loss: 0.3626058668425136, Val Loss: 0.3898512597751054\n",
            "Epoch 7, Train Loss: 0.35555568118059827, Val Loss: 0.38773179735189933\n",
            "Epoch 8, Train Loss: 0.33687819022232746, Val Loss: 0.37625701451474136\n",
            "Epoch 9, Train Loss: 0.33302784245695527, Val Loss: 0.37022660473912583\n",
            "Epoch 10, Train Loss: 0.32158524491918966, Val Loss: 0.3648788570087321\n",
            "Test accuracy: 0.8609\n"
          ]
        },
        {
          "data": {
            "text/html": [],
            "text/plain": [
              "<IPython.core.display.HTML object>"
            ]
          },
          "metadata": {},
          "output_type": "display_data"
        },
        {
          "data": {
            "text/html": [
              "<br>    <style><br>        .wandb-row {<br>            display: flex;<br>            flex-direction: row;<br>            flex-wrap: wrap;<br>            justify-content: flex-start;<br>            width: 100%;<br>        }<br>        .wandb-col {<br>            display: flex;<br>            flex-direction: column;<br>            flex-basis: 100%;<br>            flex: 1;<br>            padding: 10px;<br>        }<br>    </style><br><div class=\"wandb-row\"><div class=\"wandb-col\"><h3>Run history:</h3><br/><table class=\"wandb\"><tr><td>epoch</td><td>▁▂▃▃▄▅▆▆▇█</td></tr><tr><td>train_accuracy</td><td>▁▅▆▇▇▇▇███</td></tr><tr><td>train_loss</td><td>█▄▃▂▂▂▂▁▁▁</td></tr><tr><td>val_accuracy</td><td>▁▆▇▇▇█████</td></tr><tr><td>val_loss</td><td>█▄▃▂▂▂▁▁▁▁</td></tr></table><br/></div><div class=\"wandb-col\"><h3>Run summary:</h3><br/><table class=\"wandb\"><tr><td>epoch</td><td>10</td></tr><tr><td>train_accuracy</td><td>88.77407</td></tr><tr><td>train_loss</td><td>0.32159</td></tr><tr><td>val_accuracy</td><td>86.8</td></tr><tr><td>val_loss</td><td>0.36488</td></tr></table><br/></div></div>"
            ],
            "text/plain": [
              "<IPython.core.display.HTML object>"
            ]
          },
          "metadata": {},
          "output_type": "display_data"
        },
        {
          "data": {
            "text/html": [
              " View run <strong style=\"color:#cdcd00\">ac-sigmoid_hs-32_epc-10_nl-4_lr0.001_wd-0_opt-adam_bs-32_wi-Xavier</strong> at: <a href='https://wandb.ai/bgorai005-iit-madras/deep_learning_assignment_1/runs/c75y8vnd' target=\"_blank\">https://wandb.ai/bgorai005-iit-madras/deep_learning_assignment_1/runs/c75y8vnd</a><br> View project at: <a href='https://wandb.ai/bgorai005-iit-madras/deep_learning_assignment_1' target=\"_blank\">https://wandb.ai/bgorai005-iit-madras/deep_learning_assignment_1</a><br>Synced 5 W&B file(s), 0 media file(s), 0 artifact file(s) and 0 other file(s)"
            ],
            "text/plain": [
              "<IPython.core.display.HTML object>"
            ]
          },
          "metadata": {},
          "output_type": "display_data"
        },
        {
          "data": {
            "text/html": [
              "Find logs at: <code>./wandb/run-20250309_142907-c75y8vnd/logs</code>"
            ],
            "text/plain": [
              "<IPython.core.display.HTML object>"
            ]
          },
          "metadata": {},
          "output_type": "display_data"
        }
      ]
    },
    {
      "cell_type": "code",
      "source": [
        "# the recommendation for 95% accuracy\n",
        "theta2=nadam(0.001,0.9,0.99,1e-8,x_train,y_train,x_test,y_test,256,4,256,'relu','softmax','Xavier',0,20)\n",
        "theta1=adam(0.001,0.9,0.99,1e-8,x_train,y_train,x_test,y_test,256,4,256,'relu','softmax','Xavier',0,10)"
      ],
      "metadata": {
        "id": "M-5NHEOBB32c",
        "outputId": "8f5b9428-adfb-49e8-b2ce-0153c4a5382a",
        "colab": {
          "base_uri": "https://localhost:8080/"
        }
      },
      "execution_count": null,
      "outputs": [
        {
          "output_type": "stream",
          "name": "stdout",
          "text": [
            "[784, 256, 256, 256, 256, 10]\n",
            "Epoch 1, Loss: 9.380260999601411, Validation Loss: 0.3901851870139509\n",
            "Epoch 2, Loss: 10.007948062245916, Validation Loss: 0.3585477639132091\n",
            "Epoch 3, Loss: 10.519813494069238, Validation Loss: 0.36091424448649784\n",
            "Epoch 4, Loss: 10.718337987392188, Validation Loss: 0.3482872263296465\n",
            "Epoch 5, Loss: 11.374278879829154, Validation Loss: 0.3276923923101259\n",
            "Epoch 6, Loss: 12.228337955634878, Validation Loss: 0.3261957037235662\n",
            "Epoch 7, Loss: 12.865392190490358, Validation Loss: 0.3245646144394184\n",
            "Epoch 8, Loss: 14.187138101613561, Validation Loss: 0.33557247836206544\n",
            "Epoch 9, Loss: 14.903957300041263, Validation Loss: 0.3445298241991398\n",
            "Epoch 10, Loss: 15.480653364572749, Validation Loss: 0.33019761967173394\n",
            "Epoch 11, Loss: 15.99524777434555, Validation Loss: 0.3408407740583233\n",
            "Epoch 12, Loss: 15.845995341230182, Validation Loss: 0.33637949315683235\n",
            "Epoch 13, Loss: 16.769423976031018, Validation Loss: 0.34028833875537856\n",
            "Epoch 14, Loss: 17.17343172145521, Validation Loss: 0.3524407304990712\n",
            "Epoch 15, Loss: 17.276212926019774, Validation Loss: 0.34528666607727165\n",
            "Epoch 16, Loss: 17.519262914588463, Validation Loss: 0.39519716015132667\n",
            "Epoch 17, Loss: 18.413501612405774, Validation Loss: 0.3646632233043815\n",
            "Epoch 18, Loss: 19.200511938399348, Validation Loss: 0.391884703127317\n",
            "Epoch 19, Loss: 18.639360877379946, Validation Loss: 0.37901320018331114\n",
            "Epoch 20, Loss: 19.032354361181845, Validation Loss: 0.3951154257803696\n",
            " accuracy: 0.8956\n"
          ]
        }
      ]
    },
    {
      "cell_type": "code",
      "source": [
        "theta1=adam(0.001,0.9,0.99,1e-8,x_train,y_train,x_test,y_test,256,4,256,'relu','softmax','Xavier',0,30)"
      ],
      "metadata": {
        "id": "CL9jLHYHF57M",
        "outputId": "859df626-634b-4458-e85c-2ebb316c9e7a",
        "colab": {
          "base_uri": "https://localhost:8080/"
        }
      },
      "execution_count": null,
      "outputs": [
        {
          "output_type": "stream",
          "name": "stdout",
          "text": [
            "[784, 256, 256, 256, 256, 10]\n",
            "Epoch 1, Train Loss: 0.38060333644509486, Val Loss: 0.4254729797674896\n",
            "Epoch 2, Train Loss: 0.32703212901023065, Val Loss: 0.37834528186241106\n",
            "Epoch 3, Train Loss: 0.28898119103454034, Val Loss: 0.3557867126315455\n",
            "Epoch 4, Train Loss: 0.28909348940128626, Val Loss: 0.36737221899445055\n",
            "Epoch 5, Train Loss: 0.25240262726884566, Val Loss: 0.33953476343476946\n",
            "Epoch 6, Train Loss: 0.23741298843351508, Val Loss: 0.3360142352815636\n",
            "Epoch 7, Train Loss: 0.21432372506989233, Val Loss: 0.3294435034638891\n",
            "Epoch 8, Train Loss: 0.19854797390633225, Val Loss: 0.3152221600254746\n",
            "Epoch 9, Train Loss: 0.1878528379241083, Val Loss: 0.3193169596041384\n",
            "Epoch 10, Train Loss: 0.1808072652410061, Val Loss: 0.3250215395153991\n",
            "Epoch 11, Train Loss: 0.17739703751038627, Val Loss: 0.3390637039846545\n",
            "Epoch 12, Train Loss: 0.17045263104963707, Val Loss: 0.34313018060848843\n",
            "Epoch 13, Train Loss: 0.1572876343020775, Val Loss: 0.34310955932986137\n",
            "Epoch 14, Train Loss: 0.14814506695931062, Val Loss: 0.34698314292659077\n",
            "Epoch 15, Train Loss: 0.1338512780119362, Val Loss: 0.35062223422110617\n",
            "Epoch 16, Train Loss: 0.1362146204454293, Val Loss: 0.3673102527481157\n",
            "Epoch 17, Train Loss: 0.12260349293037316, Val Loss: 0.35661888666592284\n",
            "Epoch 18, Train Loss: 0.11601795081425419, Val Loss: 0.3625112129429972\n",
            "Epoch 19, Train Loss: 0.12485480922867699, Val Loss: 0.390904137008976\n",
            "Epoch 20, Train Loss: 0.11985197052496192, Val Loss: 0.4013411770769934\n",
            "Epoch 21, Train Loss: 0.09752545676418403, Val Loss: 0.39037570836737145\n",
            "Epoch 22, Train Loss: 0.10661138709662552, Val Loss: 0.4083458386538157\n",
            "Epoch 23, Train Loss: 0.09171231488209067, Val Loss: 0.4306550880511644\n",
            "Epoch 24, Train Loss: 0.08553241689146664, Val Loss: 0.44028442578731475\n",
            "Epoch 25, Train Loss: 0.11164573904676292, Val Loss: 0.47494447162189846\n",
            "Epoch 26, Train Loss: 0.08347658784562324, Val Loss: 0.4725639077895881\n",
            "Epoch 27, Train Loss: 0.08299795732584185, Val Loss: 0.44929397200795185\n",
            "Epoch 28, Train Loss: 0.07508608481666144, Val Loss: 0.47884351520750607\n",
            "Epoch 29, Train Loss: 0.07479498565866649, Val Loss: 0.4826109168250445\n",
            "Epoch 30, Train Loss: 0.06282530397173237, Val Loss: 0.4834733931271169\n",
            "Test accuracy: 0.8917\n"
          ]
        }
      ]
    },
    {
      "source": [
        "#from the above we got nadam will aceive best accuracy 88.633 for the hyperparameters activation=relu,layer=4,hidden size=64,intialization='xavier',epoch=10,batch_size=64\n",
        "\n",
        "theta1=nadam(0.001,0.9,0.99,1e-8,x_train,y_train,x_test,y_test,64,4,64,'relu','softmax','Xavier',0,10)\n",
        "\n"
      ],
      "cell_type": "code",
      "metadata": {
        "colab": {
          "base_uri": "https://localhost:8080/"
        },
        "id": "2Uia1OIq5Eie",
        "outputId": "11d5098b-5b75-4f37-a6f9-85cf3e53198e"
      },
      "execution_count": null,
      "outputs": [
        {
          "output_type": "stream",
          "name": "stdout",
          "text": [
            "[784, 64, 64, 64, 64, 10]\n",
            "Epoch 1, Loss: 8.916601873263623, Validation Loss: 0.4182762750427207\n",
            "Epoch 2, Loss: 9.825838015832478, Validation Loss: 0.3837520611432059\n",
            "Epoch 3, Loss: 10.302453550418077, Validation Loss: 0.37986443800093034\n",
            "Epoch 4, Loss: 11.00050640805865, Validation Loss: 0.35555157134317444\n",
            "Epoch 5, Loss: 11.292478625283465, Validation Loss: 0.3727555948694351\n",
            "Epoch 6, Loss: 11.440279725571031, Validation Loss: 0.35127696286202503\n",
            "Epoch 7, Loss: 11.644124693225741, Validation Loss: 0.3476787373696903\n",
            "Epoch 8, Loss: 12.64535662358091, Validation Loss: 0.3544491087080019\n",
            "Epoch 9, Loss: 13.494132596680798, Validation Loss: 0.3490355043109039\n",
            "Epoch 10, Loss: 13.863871670836446, Validation Loss: 0.36289116560730844\n",
            " accuracy: 0.8754\n"
          ]
        }
      ]
    },
    {
      "source": [
        "y_test_label=[]\n",
        "y_test_pred_label=[]\n",
        "m=x_test.shape[0]\n",
        "for i in range(m):\n",
        "  x_tes =x_test[i,:].reshape(-1,1)\n",
        "  a,h,y_test_pred=forward_prop(x_tes.T,theta1,'relu','softmax',4)\n",
        "  y1=np.argmax(y_test[i,:].reshape(-1,1),axis=0)\n",
        "  y_test_label.append(y1)\n",
        "  # Get the index of the maximum probability for the current sample\n",
        "  y2=np.argmax(y_test_pred)\n",
        "  # Append only the predicted class label (integer) to the list\n",
        "  y_test_pred_label.append(y2)\n",
        "import wandb\n",
        "from sklearn.metrics import confusion_matrix, ConfusionMatrixDisplay, classification_report\n",
        "import matplotlib.pyplot as plt\n",
        "\n",
        "# Initialize W&B run\n",
        "wandb.init(project='deep_learning_assignment_1', name='confusion_matrix_run')\n",
        "\n",
        "# Compute confusion matrix\n",
        "cm = confusion_matrix(y_test_label, y_test_pred_label)\n",
        "class_labels = [\"T-shirt/top\", \"Trouser\", \"Pullover\", \"Dress\", \"Coat\",\n",
        "                \"Sandal\", \"Shirt\", \"Sneaker\", \"Bag\", \"Ankle boot\"]\n",
        "\n",
        "# Plot confusion matrix\n",
        "fig, ax = plt.subplots(figsize=(8, 6))\n",
        "cm_display = ConfusionMatrixDisplay(confusion_matrix=cm, display_labels=class_labels)\n",
        "cm_display.plot(ax=ax, cmap=plt.cm.Blues)\n",
        "plt.title('Confusion Matrix')\n",
        "plt.xlabel('Predicted Label')\n",
        "plt.ylabel('True Label')\n",
        "\n",
        "# Log the confusion matrix plot to W&B\n",
        "wandb.log({\"Confusion Matrix\": wandb.Image(fig)})\n",
        "\n",
        "# Finish the W&B run\n",
        "wandb.finish()\n"
      ],
      "cell_type": "code",
      "metadata": {
        "colab": {
          "base_uri": "https://localhost:8080/",
          "height": 809
        },
        "collapsed": true,
        "id": "DlRHjWUV5IBp",
        "outputId": "43d9aa2f-fb09-4473-f5b8-d7efaef8fbcb"
      },
      "execution_count": null,
      "outputs": [
        {
          "output_type": "display_data",
          "data": {
            "text/plain": [
              "<IPython.core.display.HTML object>"
            ],
            "text/html": [
              "Changes to your `wandb` environment variables will be ignored because your `wandb` session has already started. For more information on how to modify your settings with `wandb.init()` arguments, please refer to <a href='https://wandb.me/wandb-init' target=\"_blank\">the W&B docs</a>."
            ]
          },
          "metadata": {}
        },
        {
          "output_type": "display_data",
          "data": {
            "text/plain": [
              "<IPython.core.display.HTML object>"
            ],
            "text/html": [
              "Ignoring project 'deep_learning_assignment_1' when running a sweep."
            ]
          },
          "metadata": {}
        },
        {
          "output_type": "display_data",
          "data": {
            "text/plain": [
              "<IPython.core.display.HTML object>"
            ],
            "text/html": [
              "Tracking run with wandb version 0.19.7"
            ]
          },
          "metadata": {}
        },
        {
          "output_type": "display_data",
          "data": {
            "text/plain": [
              "<IPython.core.display.HTML object>"
            ],
            "text/html": [
              "Run data is saved locally in <code>/content/wandb/run-20250309_193715-sok4znvh</code>"
            ]
          },
          "metadata": {}
        },
        {
          "output_type": "display_data",
          "data": {
            "text/plain": [
              "<IPython.core.display.HTML object>"
            ],
            "text/html": [
              "Syncing run <strong><a href='https://wandb.ai/bgorai005-iit-madras/deep_learning_assignment_1/runs/sok4znvh' target=\"_blank\">confusion_matrix_run</a></strong> to <a href='https://wandb.ai/bgorai005-iit-madras/deep_learning_assignment_1' target=\"_blank\">Weights & Biases</a> (<a href='https://wandb.me/developer-guide' target=\"_blank\">docs</a>)<br>Sweep page: <a href='https://wandb.ai/bgorai005-iit-madras/deep_learning_assignment_1/sweeps/xd33zmtu' target=\"_blank\">https://wandb.ai/bgorai005-iit-madras/deep_learning_assignment_1/sweeps/xd33zmtu</a>"
            ]
          },
          "metadata": {}
        },
        {
          "output_type": "display_data",
          "data": {
            "text/plain": [
              "<IPython.core.display.HTML object>"
            ],
            "text/html": [
              " View project at <a href='https://wandb.ai/bgorai005-iit-madras/deep_learning_assignment_1' target=\"_blank\">https://wandb.ai/bgorai005-iit-madras/deep_learning_assignment_1</a>"
            ]
          },
          "metadata": {}
        },
        {
          "output_type": "display_data",
          "data": {
            "text/plain": [
              "<IPython.core.display.HTML object>"
            ],
            "text/html": [
              " View sweep at <a href='https://wandb.ai/bgorai005-iit-madras/deep_learning_assignment_1/sweeps/xd33zmtu' target=\"_blank\">https://wandb.ai/bgorai005-iit-madras/deep_learning_assignment_1/sweeps/xd33zmtu</a>"
            ]
          },
          "metadata": {}
        },
        {
          "output_type": "display_data",
          "data": {
            "text/plain": [
              "<IPython.core.display.HTML object>"
            ],
            "text/html": [
              " View run at <a href='https://wandb.ai/bgorai005-iit-madras/deep_learning_assignment_1/runs/sok4znvh' target=\"_blank\">https://wandb.ai/bgorai005-iit-madras/deep_learning_assignment_1/runs/sok4znvh</a>"
            ]
          },
          "metadata": {}
        },
        {
          "output_type": "display_data",
          "data": {
            "text/plain": [
              "<IPython.core.display.HTML object>"
            ],
            "text/html": []
          },
          "metadata": {}
        },
        {
          "output_type": "display_data",
          "data": {
            "text/plain": [
              "<IPython.core.display.HTML object>"
            ],
            "text/html": [
              " View run <strong style=\"color:#cdcd00\">confusion_matrix_run</strong> at: <a href='https://wandb.ai/bgorai005-iit-madras/deep_learning_assignment_1/runs/sok4znvh' target=\"_blank\">https://wandb.ai/bgorai005-iit-madras/deep_learning_assignment_1/runs/sok4znvh</a><br> View project at: <a href='https://wandb.ai/bgorai005-iit-madras/deep_learning_assignment_1' target=\"_blank\">https://wandb.ai/bgorai005-iit-madras/deep_learning_assignment_1</a><br>Synced 5 W&B file(s), 1 media file(s), 0 artifact file(s) and 0 other file(s)"
            ]
          },
          "metadata": {}
        },
        {
          "output_type": "display_data",
          "data": {
            "text/plain": [
              "<IPython.core.display.HTML object>"
            ],
            "text/html": [
              "Find logs at: <code>./wandb/run-20250309_193715-sok4znvh/logs</code>"
            ]
          },
          "metadata": {}
        },
        {
          "output_type": "display_data",
          "data": {
            "text/plain": [
              "<Figure size 800x600 with 2 Axes>"
            ],
            "image/png": "[encoded data removed]"
          },
          "metadata": {}
        }
      ]
    },
    {
      "cell_type": "code",
      "source": [
        "# question 8 : running a all the models for squared error loss and comapre them with previous one"
      ],
      "metadata": {
        "id": "VIu_I13b9ilh"
      },
      "execution_count": null,
      "outputs": []
    },
    {
      "cell_type": "code",
      "source": [
        "def main():\n",
        "  with wandb.init() as run:\n",
        "    run_name=f\"ac-{wandb.config.activation_hidden}_hs-{wandb.config.hidden_size}_epc-{wandb.config.epochs}_nl-{wandb.config.num_layers}_lr{wandb.config.learning_rate}_wd-{wandb.config.weight_decay}_opt-{wandb.config.optimizer}_bs-{wandb.config.batch_size}_wi-{wandb.config.weight_ini_method}\"\n",
        "    wandb.run.name=run_name\n",
        "\n",
        "    model_training(wandb.config.learning_rate,0.9,0.9,0.99,1e-8,x_train,y_train,x_valid,y_valid,wandb.config.optimizer,wandb.config.batch_size,wandb.config.num_layers,wandb.config.hidden_size,wandb.config.activation_hidden,wandb.config.activation_output,wandb.config.weight_ini_method,wandb.config.weight_decay,wandb.config.epochs,'mse_loss')\n",
        "\n",
        "try:\n",
        "    wandb.agent(sweep_id,function=main,count=40)\n",
        "    wandb.finish()\n",
        "except BrokenPipeError:\n",
        "    print(\"Encountered a BrokenPipeError. Attempting to gracefully finish the run.\")\n",
        "    # You can add additional error handling logic here, such as saving intermediate results\n",
        "    wandb.finish(quiet=True)  # Try finishing quietly to avoid further errors"
      ],
      "metadata": {
        "colab": {
          "base_uri": "https://localhost:8080/",
          "height": 1000
        },
        "collapsed": true,
        "id": "vomc_XbV3bxe",
        "outputId": "8904eb4c-5ce2-402a-a0d3-43255cc90fd5"
      },
      "execution_count": null,
      "outputs": [
        {
          "metadata": {
            "tags": null
          },
          "name": "stderr",
          "output_type": "stream",
          "text": [
            "\u001b[34m\u001b[1mwandb\u001b[0m: Agent Starting Run: xbw7v2vr with config:\n",
            "\u001b[34m\u001b[1mwandb\u001b[0m: \tactivation_hidden: relu\n",
            "\u001b[34m\u001b[1mwandb\u001b[0m: \tactivation_output: softmax\n",
            "\u001b[34m\u001b[1mwandb\u001b[0m: \tbatch_size: 16\n",
            "\u001b[34m\u001b[1mwandb\u001b[0m: \tepochs: 10\n",
            "\u001b[34m\u001b[1mwandb\u001b[0m: \thidden_size: 64\n",
            "\u001b[34m\u001b[1mwandb\u001b[0m: \tlearning_rate: 0.0001\n",
            "\u001b[34m\u001b[1mwandb\u001b[0m: \tnum_layers: 3\n",
            "\u001b[34m\u001b[1mwandb\u001b[0m: \toptimizer: sgd\n",
            "\u001b[34m\u001b[1mwandb\u001b[0m: \tweight_decay: 0\n",
            "\u001b[34m\u001b[1mwandb\u001b[0m: \tweight_ini_method: random\n"
          ]
        },
        {
          "data": {
            "text/html": [
              "Tracking run with wandb version 0.19.7"
            ],
            "text/plain": [
              "<IPython.core.display.HTML object>"
            ]
          },
          "metadata": {},
          "output_type": "display_data"
        },
        {
          "data": {
            "text/html": [
              "Run data is saved locally in <code>/content/wandb/run-20250309_174123-xbw7v2vr</code>"
            ],
            "text/plain": [
              "<IPython.core.display.HTML object>"
            ]
          },
          "metadata": {},
          "output_type": "display_data"
        },
        {
          "data": {
            "text/html": [
              "Syncing run <strong><a href='https://wandb.ai/bgorai005-iit-madras/deep_learning_assignment_1/runs/xbw7v2vr' target=\"_blank\">stellar-sweep-44</a></strong> to <a href='https://wandb.ai/bgorai005-iit-madras/deep_learning_assignment_1' target=\"_blank\">Weights & Biases</a> (<a href='https://wandb.me/developer-guide' target=\"_blank\">docs</a>)<br>Sweep page: <a href='https://wandb.ai/bgorai005-iit-madras/deep_learning_assignment_1/sweeps/xd33zmtu' target=\"_blank\">https://wandb.ai/bgorai005-iit-madras/deep_learning_assignment_1/sweeps/xd33zmtu</a>"
            ],
            "text/plain": [
              "<IPython.core.display.HTML object>"
            ]
          },
          "metadata": {},
          "output_type": "display_data"
        },
        {
          "data": {
            "text/html": [
              " View project at <a href='https://wandb.ai/bgorai005-iit-madras/deep_learning_assignment_1' target=\"_blank\">https://wandb.ai/bgorai005-iit-madras/deep_learning_assignment_1</a>"
            ],
            "text/plain": [
              "<IPython.core.display.HTML object>"
            ]
          },
          "metadata": {},
          "output_type": "display_data"
        },
        {
          "data": {
            "text/html": [
              " View sweep at <a href='https://wandb.ai/bgorai005-iit-madras/deep_learning_assignment_1/sweeps/xd33zmtu' target=\"_blank\">https://wandb.ai/bgorai005-iit-madras/deep_learning_assignment_1/sweeps/xd33zmtu</a>"
            ],
            "text/plain": [
              "<IPython.core.display.HTML object>"
            ]
          },
          "metadata": {},
          "output_type": "display_data"
        },
        {
          "data": {
            "text/html": [
              " View run at <a href='https://wandb.ai/bgorai005-iit-madras/deep_learning_assignment_1/runs/xbw7v2vr' target=\"_blank\">https://wandb.ai/bgorai005-iit-madras/deep_learning_assignment_1/runs/xbw7v2vr</a>"
            ],
            "text/plain": [
              "<IPython.core.display.HTML object>"
            ]
          },
          "metadata": {},
          "output_type": "display_data"
        },
        {
          "metadata": {
            "tags": null
          },
          "name": "stdout",
          "output_type": "stream",
          "text": [
            "[784, 64, 64, 64, 10]\n",
            "Epoch 1, Train Loss: 0.0826793753722251, Val Loss: 0.0828397645585575\n",
            "Epoch 2, Train Loss: 0.07496900345762095, Val Loss: 0.07480291456366908\n",
            "Epoch 3, Train Loss: 0.07387151995515015, Val Loss: 0.07349606482578785\n",
            "Epoch 4, Train Loss: 0.06838005404065929, Val Loss: 0.06825629561269468\n",
            "Epoch 5, Train Loss: 0.06762728167201656, Val Loss: 0.06751478115874418\n",
            "Epoch 6, Train Loss: 0.06410060395608187, Val Loss: 0.0639392353467907\n",
            "Epoch 7, Train Loss: 0.061751038529186134, Val Loss: 0.06229135646260592\n",
            "Epoch 8, Train Loss: 0.061596250321579, Val Loss: 0.061926577885176325\n",
            "Epoch 9, Train Loss: 0.06047981477874228, Val Loss: 0.06093226043167146\n",
            "Epoch 10, Train Loss: 0.059264561425840925, Val Loss: 0.05993288769484555\n",
            "Test Accuracy: 44.89\n"
          ]
        },
        {
          "data": {
            "text/html": [],
            "text/plain": [
              "<IPython.core.display.HTML object>"
            ]
          },
          "metadata": {},
          "output_type": "display_data"
        },
        {
          "data": {
            "text/html": [
              " View run <strong style=\"color:#cdcd00\">ac-relu_hs-64_epc-10_nl-3_lr0.0001_wd-0_opt-sgd_bs-16_wi-random</strong> at: <a href='https://wandb.ai/bgorai005-iit-madras/deep_learning_assignment_1/runs/xbw7v2vr' target=\"_blank\">https://wandb.ai/bgorai005-iit-madras/deep_learning_assignment_1/runs/xbw7v2vr</a><br> View project at: <a href='https://wandb.ai/bgorai005-iit-madras/deep_learning_assignment_1' target=\"_blank\">https://wandb.ai/bgorai005-iit-madras/deep_learning_assignment_1</a><br>Synced 5 W&B file(s), 0 media file(s), 0 artifact file(s) and 0 other file(s)"
            ],
            "text/plain": [
              "<IPython.core.display.HTML object>"
            ]
          },
          "metadata": {},
          "output_type": "display_data"
        },
        {
          "data": {
            "text/html": [
              "Find logs at: <code>./wandb/run-20250309_174123-xbw7v2vr/logs</code>"
            ],
            "text/plain": [
              "<IPython.core.display.HTML object>"
            ]
          },
          "metadata": {},
          "output_type": "display_data"
        },
        {
          "metadata": {
            "tags": null
          },
          "name": "stderr",
          "output_type": "stream",
          "text": [
            "\u001b[34m\u001b[1mwandb\u001b[0m: Agent Starting Run: 28q02ffl with config:\n",
            "\u001b[34m\u001b[1mwandb\u001b[0m: \tactivation_hidden: relu\n",
            "\u001b[34m\u001b[1mwandb\u001b[0m: \tactivation_output: softmax\n",
            "\u001b[34m\u001b[1mwandb\u001b[0m: \tbatch_size: 64\n",
            "\u001b[34m\u001b[1mwandb\u001b[0m: \tepochs: 10\n",
            "\u001b[34m\u001b[1mwandb\u001b[0m: \thidden_size: 128\n",
            "\u001b[34m\u001b[1mwandb\u001b[0m: \tlearning_rate: 0.0001\n",
            "\u001b[34m\u001b[1mwandb\u001b[0m: \tnum_layers: 4\n",
            "\u001b[34m\u001b[1mwandb\u001b[0m: \toptimizer: RMSprop\n",
            "\u001b[34m\u001b[1mwandb\u001b[0m: \tweight_decay: 0\n",
            "\u001b[34m\u001b[1mwandb\u001b[0m: \tweight_ini_method: random\n"
          ]
        },
        {
          "data": {
            "text/html": [
              "Tracking run with wandb version 0.19.7"
            ],
            "text/plain": [
              "<IPython.core.display.HTML object>"
            ]
          },
          "metadata": {},
          "output_type": "display_data"
        },
        {
          "data": {
            "text/html": [
              "Run data is saved locally in <code>/content/wandb/run-20250309_174235-28q02ffl</code>"
            ],
            "text/plain": [
              "<IPython.core.display.HTML object>"
            ]
          },
          "metadata": {},
          "output_type": "display_data"
        },
        {
          "data": {
            "text/html": [
              "Syncing run <strong><a href='https://wandb.ai/bgorai005-iit-madras/deep_learning_assignment_1/runs/28q02ffl' target=\"_blank\">misunderstood-sweep-45</a></strong> to <a href='https://wandb.ai/bgorai005-iit-madras/deep_learning_assignment_1' target=\"_blank\">Weights & Biases</a> (<a href='https://wandb.me/developer-guide' target=\"_blank\">docs</a>)<br>Sweep page: <a href='https://wandb.ai/bgorai005-iit-madras/deep_learning_assignment_1/sweeps/xd33zmtu' target=\"_blank\">https://wandb.ai/bgorai005-iit-madras/deep_learning_assignment_1/sweeps/xd33zmtu</a>"
            ],
            "text/plain": [
              "<IPython.core.display.HTML object>"
            ]
          },
          "metadata": {},
          "output_type": "display_data"
        },
        {
          "data": {
            "text/html": [
              " View project at <a href='https://wandb.ai/bgorai005-iit-madras/deep_learning_assignment_1' target=\"_blank\">https://wandb.ai/bgorai005-iit-madras/deep_learning_assignment_1</a>"
            ],
            "text/plain": [
              "<IPython.core.display.HTML object>"
            ]
          },
          "metadata": {},
          "output_type": "display_data"
        },
        {
          "data": {
            "text/html": [
              " View sweep at <a href='https://wandb.ai/bgorai005-iit-madras/deep_learning_assignment_1/sweeps/xd33zmtu' target=\"_blank\">https://wandb.ai/bgorai005-iit-madras/deep_learning_assignment_1/sweeps/xd33zmtu</a>"
            ],
            "text/plain": [
              "<IPython.core.display.HTML object>"
            ]
          },
          "metadata": {},
          "output_type": "display_data"
        },
        {
          "data": {
            "text/html": [
              " View run at <a href='https://wandb.ai/bgorai005-iit-madras/deep_learning_assignment_1/runs/28q02ffl' target=\"_blank\">https://wandb.ai/bgorai005-iit-madras/deep_learning_assignment_1/runs/28q02ffl</a>"
            ],
            "text/plain": [
              "<IPython.core.display.HTML object>"
            ]
          },
          "metadata": {},
          "output_type": "display_data"
        },
        {
          "metadata": {
            "tags": null
          },
          "name": "stdout",
          "output_type": "stream",
          "text": [
            "[784, 128, 128, 128, 128, 10]\n",
            "Epoch 1, Loss: 0.18002321409129482, Validation Loss: 0.08671752904207276\n",
            "Epoch 2, Loss: 0.17966489712617895, Validation Loss: 0.06986406536190089\n",
            "Epoch 3, Loss: 0.17992728236774166, Validation Loss: 0.06330332912601831\n",
            "Epoch 4, Loss: 0.1800521849463024, Validation Loss: 0.05972954556769737\n",
            "Epoch 5, Loss: 0.17972188282468232, Validation Loss: 0.05665564260430892\n",
            "Epoch 6, Loss: 0.18004881025994315, Validation Loss: 0.05379948473281937\n",
            "Epoch 7, Loss: 0.17995759170254472, Validation Loss: 0.05319772078653219\n",
            "Epoch 8, Loss: 0.1799581779650492, Validation Loss: 0.05135001942268513\n",
            "Epoch 9, Loss: 0.18008725580859936, Validation Loss: 0.051424862447542546\n",
            "Epoch 10, Loss: 0.17990686187685823, Validation Loss: 0.050134322778374554\n",
            "Test accuracy: 0.7445\n"
          ]
        },
        {
          "data": {
            "text/html": [],
            "text/plain": [
              "<IPython.core.display.HTML object>"
            ]
          },
          "metadata": {},
          "output_type": "display_data"
        },
        {
          "data": {
            "text/html": [
              "<br>    <style><br>        .wandb-row {<br>            display: flex;<br>            flex-direction: row;<br>            flex-wrap: wrap;<br>            justify-content: flex-start;<br>            width: 100%;<br>        }<br>        .wandb-col {<br>            display: flex;<br>            flex-direction: column;<br>            flex-basis: 100%;<br>            flex: 1;<br>            padding: 10px;<br>        }<br>    </style><br><div class=\"wandb-row\"><div class=\"wandb-col\"><h3>Run history:</h3><br/><table class=\"wandb\"><tr><td>epoch</td><td>▁▂▃▃▄▅▆▆▇█</td></tr><tr><td>train_accuracy</td><td>▁▄▅▆▇▇▇▇██</td></tr><tr><td>train_loss</td><td>▇▁▅▇▂▇▆▆█▅</td></tr><tr><td>val_accuracy</td><td>▁▄▅▆▇▇▇███</td></tr><tr><td>val_loss</td><td>█▅▄▃▂▂▂▁▁▁</td></tr></table><br/></div><div class=\"wandb-col\"><h3>Run summary:</h3><br/><table class=\"wandb\"><tr><td>epoch</td><td>10</td></tr><tr><td>train_accuracy</td><td>77.16852</td></tr><tr><td>train_loss</td><td>0.17991</td></tr><tr><td>val_accuracy</td><td>74.91667</td></tr><tr><td>val_loss</td><td>0.05013</td></tr></table><br/></div></div>"
            ],
            "text/plain": [
              "<IPython.core.display.HTML object>"
            ]
          },
          "metadata": {},
          "output_type": "display_data"
        },
        {
          "data": {
            "text/html": [
              " View run <strong style=\"color:#cdcd00\">ac-relu_hs-128_epc-10_nl-4_lr0.0001_wd-0_opt-RMSprop_bs-64_wi-random</strong> at: <a href='https://wandb.ai/bgorai005-iit-madras/deep_learning_assignment_1/runs/28q02ffl' target=\"_blank\">https://wandb.ai/bgorai005-iit-madras/deep_learning_assignment_1/runs/28q02ffl</a><br> View project at: <a href='https://wandb.ai/bgorai005-iit-madras/deep_learning_assignment_1' target=\"_blank\">https://wandb.ai/bgorai005-iit-madras/deep_learning_assignment_1</a><br>Synced 5 W&B file(s), 0 media file(s), 0 artifact file(s) and 0 other file(s)"
            ],
            "text/plain": [
              "<IPython.core.display.HTML object>"
            ]
          },
          "metadata": {},
          "output_type": "display_data"
        },
        {
          "data": {
            "text/html": [
              "Find logs at: <code>./wandb/run-20250309_174235-28q02ffl/logs</code>"
            ],
            "text/plain": [
              "<IPython.core.display.HTML object>"
            ]
          },
          "metadata": {},
          "output_type": "display_data"
        },
        {
          "metadata": {
            "tags": null
          },
          "name": "stderr",
          "output_type": "stream",
          "text": [
            "\u001b[34m\u001b[1mwandb\u001b[0m: Agent Starting Run: hy2hgtwe with config:\n",
            "\u001b[34m\u001b[1mwandb\u001b[0m: \tactivation_hidden: sigmoid\n",
            "\u001b[34m\u001b[1mwandb\u001b[0m: \tactivation_output: softmax\n",
            "\u001b[34m\u001b[1mwandb\u001b[0m: \tbatch_size: 64\n",
            "\u001b[34m\u001b[1mwandb\u001b[0m: \tepochs: 5\n",
            "\u001b[34m\u001b[1mwandb\u001b[0m: \thidden_size: 32\n",
            "\u001b[34m\u001b[1mwandb\u001b[0m: \tlearning_rate: 0.001\n",
            "\u001b[34m\u001b[1mwandb\u001b[0m: \tnum_layers: 5\n",
            "\u001b[34m\u001b[1mwandb\u001b[0m: \toptimizer: nag\n",
            "\u001b[34m\u001b[1mwandb\u001b[0m: \tweight_decay: 0\n",
            "\u001b[34m\u001b[1mwandb\u001b[0m: \tweight_ini_method: Xavier\n"
          ]
        },
        {
          "data": {
            "text/html": [
              "Tracking run with wandb version 0.19.7"
            ],
            "text/plain": [
              "<IPython.core.display.HTML object>"
            ]
          },
          "metadata": {},
          "output_type": "display_data"
        },
        {
          "data": {
            "text/html": [
              "Run data is saved locally in <code>/content/wandb/run-20250309_174419-hy2hgtwe</code>"
            ],
            "text/plain": [
              "<IPython.core.display.HTML object>"
            ]
          },
          "metadata": {},
          "output_type": "display_data"
        },
        {
          "data": {
            "text/html": [
              "Syncing run <strong><a href='https://wandb.ai/bgorai005-iit-madras/deep_learning_assignment_1/runs/hy2hgtwe' target=\"_blank\">youthful-sweep-46</a></strong> to <a href='https://wandb.ai/bgorai005-iit-madras/deep_learning_assignment_1' target=\"_blank\">Weights & Biases</a> (<a href='https://wandb.me/developer-guide' target=\"_blank\">docs</a>)<br>Sweep page: <a href='https://wandb.ai/bgorai005-iit-madras/deep_learning_assignment_1/sweeps/xd33zmtu' target=\"_blank\">https://wandb.ai/bgorai005-iit-madras/deep_learning_assignment_1/sweeps/xd33zmtu</a>"
            ],
            "text/plain": [
              "<IPython.core.display.HTML object>"
            ]
          },
          "metadata": {},
          "output_type": "display_data"
        },
        {
          "data": {
            "text/html": [
              " View project at <a href='https://wandb.ai/bgorai005-iit-madras/deep_learning_assignment_1' target=\"_blank\">https://wandb.ai/bgorai005-iit-madras/deep_learning_assignment_1</a>"
            ],
            "text/plain": [
              "<IPython.core.display.HTML object>"
            ]
          },
          "metadata": {},
          "output_type": "display_data"
        },
        {
          "data": {
            "text/html": [
              " View sweep at <a href='https://wandb.ai/bgorai005-iit-madras/deep_learning_assignment_1/sweeps/xd33zmtu' target=\"_blank\">https://wandb.ai/bgorai005-iit-madras/deep_learning_assignment_1/sweeps/xd33zmtu</a>"
            ],
            "text/plain": [
              "<IPython.core.display.HTML object>"
            ]
          },
          "metadata": {},
          "output_type": "display_data"
        },
        {
          "data": {
            "text/html": [
              " View run at <a href='https://wandb.ai/bgorai005-iit-madras/deep_learning_assignment_1/runs/hy2hgtwe' target=\"_blank\">https://wandb.ai/bgorai005-iit-madras/deep_learning_assignment_1/runs/hy2hgtwe</a>"
            ],
            "text/plain": [
              "<IPython.core.display.HTML object>"
            ]
          },
          "metadata": {},
          "output_type": "display_data"
        },
        {
          "metadata": {
            "tags": null
          },
          "name": "stdout",
          "output_type": "stream",
          "text": [
            "[784, 32, 32, 32, 32, 32, 10]\n"
          ]
        },
        {
          "metadata": {
            "tags": null
          },
          "name": "stderr",
          "output_type": "stream",
          "text": [
            "<ipython-input-8-867b69375f18>:2: RuntimeWarning: overflow encountered in exp\n",
            "  return 1 /(1 + np.exp(-x))\n"
          ]
        },
        {
          "metadata": {
            "tags": null
          },
          "name": "stdout",
          "output_type": "stream",
          "text": [
            "Epoch 1, Loss: 0.09052478313939143, Validation Loss: 0.09042888932093614\n",
            "Epoch 2, Loss: 0.0912664738795614, Validation Loss: 0.0913561694341855\n",
            "Epoch 3, Loss: 0.09095856937893715, Validation Loss: 0.09109280170576751\n",
            "Epoch 4, Loss: 0.09088705554011528, Validation Loss: 0.09091178350656645\n",
            "Epoch 5, Loss: 0.09064604223402704, Validation Loss: 0.09063534118371425\n",
            "Test accuracy: 0.1\n"
          ]
        },
        {
          "data": {
            "text/html": [],
            "text/plain": [
              "<IPython.core.display.HTML object>"
            ]
          },
          "metadata": {},
          "output_type": "display_data"
        },
        {
          "data": {
            "text/html": [
              "<br>    <style><br>        .wandb-row {<br>            display: flex;<br>            flex-direction: row;<br>            flex-wrap: wrap;<br>            justify-content: flex-start;<br>            width: 100%;<br>        }<br>        .wandb-col {<br>            display: flex;<br>            flex-direction: column;<br>            flex-basis: 100%;<br>            flex: 1;<br>            padding: 10px;<br>        }<br>    </style><br><div class=\"wandb-row\"><div class=\"wandb-col\"><h3>Run history:</h3><br/><table class=\"wandb\"><tr><td>epoch</td><td>▁▃▅▆█</td></tr><tr><td>train_accuracy</td><td>▁▇█▁▁</td></tr><tr><td>train_loss</td><td>▁█▅▄▂</td></tr><tr><td>val_accuracy</td><td>█▂▁██</td></tr><tr><td>val_loss</td><td>▁█▆▅▃</td></tr></table><br/></div><div class=\"wandb-col\"><h3>Run summary:</h3><br/><table class=\"wandb\"><tr><td>epoch</td><td>5</td></tr><tr><td>train_accuracy</td><td>9.97963</td></tr><tr><td>train_loss</td><td>0.09065</td></tr><tr><td>val_accuracy</td><td>10.18333</td></tr><tr><td>val_loss</td><td>0.09064</td></tr></table><br/></div></div>"
            ],
            "text/plain": [
              "<IPython.core.display.HTML object>"
            ]
          },
          "metadata": {},
          "output_type": "display_data"
        },
        {
          "data": {
            "text/html": [
              " View run <strong style=\"color:#cdcd00\">ac-sigmoid_hs-32_epc-5_nl-5_lr0.001_wd-0_opt-nag_bs-64_wi-Xavier</strong> at: <a href='https://wandb.ai/bgorai005-iit-madras/deep_learning_assignment_1/runs/hy2hgtwe' target=\"_blank\">https://wandb.ai/bgorai005-iit-madras/deep_learning_assignment_1/runs/hy2hgtwe</a><br> View project at: <a href='https://wandb.ai/bgorai005-iit-madras/deep_learning_assignment_1' target=\"_blank\">https://wandb.ai/bgorai005-iit-madras/deep_learning_assignment_1</a><br>Synced 5 W&B file(s), 0 media file(s), 0 artifact file(s) and 0 other file(s)"
            ],
            "text/plain": [
              "<IPython.core.display.HTML object>"
            ]
          },
          "metadata": {},
          "output_type": "display_data"
        },
        {
          "data": {
            "text/html": [
              "Find logs at: <code>./wandb/run-20250309_174419-hy2hgtwe/logs</code>"
            ],
            "text/plain": [
              "<IPython.core.display.HTML object>"
            ]
          },
          "metadata": {},
          "output_type": "display_data"
        },
        {
          "metadata": {
            "tags": null
          },
          "name": "stderr",
          "output_type": "stream",
          "text": [
            "\u001b[34m\u001b[1mwandb\u001b[0m: Agent Starting Run: ojrxqw8o with config:\n",
            "\u001b[34m\u001b[1mwandb\u001b[0m: \tactivation_hidden: relu\n",
            "\u001b[34m\u001b[1mwandb\u001b[0m: \tactivation_output: softmax\n",
            "\u001b[34m\u001b[1mwandb\u001b[0m: \tbatch_size: 32\n",
            "\u001b[34m\u001b[1mwandb\u001b[0m: \tepochs: 10\n",
            "\u001b[34m\u001b[1mwandb\u001b[0m: \thidden_size: 128\n",
            "\u001b[34m\u001b[1mwandb\u001b[0m: \tlearning_rate: 0.001\n",
            "\u001b[34m\u001b[1mwandb\u001b[0m: \tnum_layers: 3\n",
            "\u001b[34m\u001b[1mwandb\u001b[0m: \toptimizer: sgd\n",
            "\u001b[34m\u001b[1mwandb\u001b[0m: \tweight_decay: 0\n",
            "\u001b[34m\u001b[1mwandb\u001b[0m: \tweight_ini_method: random\n"
          ]
        },
        {
          "data": {
            "text/html": [
              "Tracking run with wandb version 0.19.7"
            ],
            "text/plain": [
              "<IPython.core.display.HTML object>"
            ]
          },
          "metadata": {},
          "output_type": "display_data"
        },
        {
          "data": {
            "text/html": [
              "Run data is saved locally in <code>/content/wandb/run-20250309_174450-ojrxqw8o</code>"
            ],
            "text/plain": [
              "<IPython.core.display.HTML object>"
            ]
          },
          "metadata": {},
          "output_type": "display_data"
        },
        {
          "data": {
            "text/html": [
              "Syncing run <strong><a href='https://wandb.ai/bgorai005-iit-madras/deep_learning_assignment_1/runs/ojrxqw8o' target=\"_blank\">warm-sweep-47</a></strong> to <a href='https://wandb.ai/bgorai005-iit-madras/deep_learning_assignment_1' target=\"_blank\">Weights & Biases</a> (<a href='https://wandb.me/developer-guide' target=\"_blank\">docs</a>)<br>Sweep page: <a href='https://wandb.ai/bgorai005-iit-madras/deep_learning_assignment_1/sweeps/xd33zmtu' target=\"_blank\">https://wandb.ai/bgorai005-iit-madras/deep_learning_assignment_1/sweeps/xd33zmtu</a>"
            ],
            "text/plain": [
              "<IPython.core.display.HTML object>"
            ]
          },
          "metadata": {},
          "output_type": "display_data"
        },
        {
          "data": {
            "text/html": [
              " View project at <a href='https://wandb.ai/bgorai005-iit-madras/deep_learning_assignment_1' target=\"_blank\">https://wandb.ai/bgorai005-iit-madras/deep_learning_assignment_1</a>"
            ],
            "text/plain": [
              "<IPython.core.display.HTML object>"
            ]
          },
          "metadata": {},
          "output_type": "display_data"
        },
        {
          "data": {
            "text/html": [
              " View sweep at <a href='https://wandb.ai/bgorai005-iit-madras/deep_learning_assignment_1/sweeps/xd33zmtu' target=\"_blank\">https://wandb.ai/bgorai005-iit-madras/deep_learning_assignment_1/sweeps/xd33zmtu</a>"
            ],
            "text/plain": [
              "<IPython.core.display.HTML object>"
            ]
          },
          "metadata": {},
          "output_type": "display_data"
        },
        {
          "data": {
            "text/html": [
              " View run at <a href='https://wandb.ai/bgorai005-iit-madras/deep_learning_assignment_1/runs/ojrxqw8o' target=\"_blank\">https://wandb.ai/bgorai005-iit-madras/deep_learning_assignment_1/runs/ojrxqw8o</a>"
            ],
            "text/plain": [
              "<IPython.core.display.HTML object>"
            ]
          },
          "metadata": {},
          "output_type": "display_data"
        },
        {
          "metadata": {
            "tags": null
          },
          "name": "stdout",
          "output_type": "stream",
          "text": [
            "[784, 128, 128, 128, 10]\n",
            "Epoch 1, Train Loss: 0.09000325216477521, Val Loss: 0.090003609603209\n",
            "Epoch 2, Train Loss: 0.09001619451206118, Val Loss: 0.09000844748929449\n",
            "Epoch 3, Train Loss: 0.09000534504441114, Val Loss: 0.09000240585890297\n",
            "Epoch 4, Train Loss: 0.09000832173737999, Val Loss: 0.09000659979417648\n",
            "Epoch 5, Train Loss: 0.09000389413580262, Val Loss: 0.09001814660241973\n",
            "Epoch 6, Train Loss: 0.09003505004826902, Val Loss: 0.0900673525865465\n",
            "Epoch 7, Train Loss: 0.09001234099584994, Val Loss: 0.09002525889350298\n",
            "Epoch 8, Train Loss: 0.0900016322572873, Val Loss: 0.09000880421388845\n",
            "Epoch 9, Train Loss: 0.09003438425950469, Val Loss: 0.09001634447359891\n",
            "Epoch 10, Train Loss: 0.09000682880835725, Val Loss: 0.09000936106881549\n",
            "Test Accuracy: 10.01\n"
          ]
        },
        {
          "data": {
            "text/html": [],
            "text/plain": [
              "<IPython.core.display.HTML object>"
            ]
          },
          "metadata": {},
          "output_type": "display_data"
        },
        {
          "data": {
            "text/html": [
              " View run <strong style=\"color:#cdcd00\">ac-relu_hs-128_epc-10_nl-3_lr0.001_wd-0_opt-sgd_bs-32_wi-random</strong> at: <a href='https://wandb.ai/bgorai005-iit-madras/deep_learning_assignment_1/runs/ojrxqw8o' target=\"_blank\">https://wandb.ai/bgorai005-iit-madras/deep_learning_assignment_1/runs/ojrxqw8o</a><br> View project at: <a href='https://wandb.ai/bgorai005-iit-madras/deep_learning_assignment_1' target=\"_blank\">https://wandb.ai/bgorai005-iit-madras/deep_learning_assignment_1</a><br>Synced 5 W&B file(s), 0 media file(s), 0 artifact file(s) and 0 other file(s)"
            ],
            "text/plain": [
              "<IPython.core.display.HTML object>"
            ]
          },
          "metadata": {},
          "output_type": "display_data"
        },
        {
          "data": {
            "text/html": [
              "Find logs at: <code>./wandb/run-20250309_174450-ojrxqw8o/logs</code>"
            ],
            "text/plain": [
              "<IPython.core.display.HTML object>"
            ]
          },
          "metadata": {},
          "output_type": "display_data"
        },
        {
          "metadata": {
            "tags": null
          },
          "name": "stderr",
          "output_type": "stream",
          "text": [
            "\u001b[34m\u001b[1mwandb\u001b[0m: Agent Starting Run: iekx6zj2 with config:\n",
            "\u001b[34m\u001b[1mwandb\u001b[0m: \tactivation_hidden: relu\n",
            "\u001b[34m\u001b[1mwandb\u001b[0m: \tactivation_output: softmax\n",
            "\u001b[34m\u001b[1mwandb\u001b[0m: \tbatch_size: 32\n",
            "\u001b[34m\u001b[1mwandb\u001b[0m: \tepochs: 10\n",
            "\u001b[34m\u001b[1mwandb\u001b[0m: \thidden_size: 128\n",
            "\u001b[34m\u001b[1mwandb\u001b[0m: \tlearning_rate: 0.001\n",
            "\u001b[34m\u001b[1mwandb\u001b[0m: \tnum_layers: 5\n",
            "\u001b[34m\u001b[1mwandb\u001b[0m: \toptimizer: adam\n",
            "\u001b[34m\u001b[1mwandb\u001b[0m: \tweight_decay: 0\n",
            "\u001b[34m\u001b[1mwandb\u001b[0m: \tweight_ini_method: Xavier\n"
          ]
        },
        {
          "data": {
            "text/html": [
              "Tracking run with wandb version 0.19.7"
            ],
            "text/plain": [
              "<IPython.core.display.HTML object>"
            ]
          },
          "metadata": {},
          "output_type": "display_data"
        },
        {
          "data": {
            "text/html": [
              "Run data is saved locally in <code>/content/wandb/run-20250309_174623-iekx6zj2</code>"
            ],
            "text/plain": [
              "<IPython.core.display.HTML object>"
            ]
          },
          "metadata": {},
          "output_type": "display_data"
        },
        {
          "data": {
            "text/html": [
              "Syncing run <strong><a href='https://wandb.ai/bgorai005-iit-madras/deep_learning_assignment_1/runs/iekx6zj2' target=\"_blank\">wobbly-sweep-48</a></strong> to <a href='https://wandb.ai/bgorai005-iit-madras/deep_learning_assignment_1' target=\"_blank\">Weights & Biases</a> (<a href='https://wandb.me/developer-guide' target=\"_blank\">docs</a>)<br>Sweep page: <a href='https://wandb.ai/bgorai005-iit-madras/deep_learning_assignment_1/sweeps/xd33zmtu' target=\"_blank\">https://wandb.ai/bgorai005-iit-madras/deep_learning_assignment_1/sweeps/xd33zmtu</a>"
            ],
            "text/plain": [
              "<IPython.core.display.HTML object>"
            ]
          },
          "metadata": {},
          "output_type": "display_data"
        },
        {
          "data": {
            "text/html": [
              " View project at <a href='https://wandb.ai/bgorai005-iit-madras/deep_learning_assignment_1' target=\"_blank\">https://wandb.ai/bgorai005-iit-madras/deep_learning_assignment_1</a>"
            ],
            "text/plain": [
              "<IPython.core.display.HTML object>"
            ]
          },
          "metadata": {},
          "output_type": "display_data"
        },
        {
          "data": {
            "text/html": [
              " View sweep at <a href='https://wandb.ai/bgorai005-iit-madras/deep_learning_assignment_1/sweeps/xd33zmtu' target=\"_blank\">https://wandb.ai/bgorai005-iit-madras/deep_learning_assignment_1/sweeps/xd33zmtu</a>"
            ],
            "text/plain": [
              "<IPython.core.display.HTML object>"
            ]
          },
          "metadata": {},
          "output_type": "display_data"
        },
        {
          "data": {
            "text/html": [
              " View run at <a href='https://wandb.ai/bgorai005-iit-madras/deep_learning_assignment_1/runs/iekx6zj2' target=\"_blank\">https://wandb.ai/bgorai005-iit-madras/deep_learning_assignment_1/runs/iekx6zj2</a>"
            ],
            "text/plain": [
              "<IPython.core.display.HTML object>"
            ]
          },
          "metadata": {},
          "output_type": "display_data"
        },
        {
          "metadata": {
            "tags": null
          },
          "name": "stdout",
          "output_type": "stream",
          "text": [
            "[784, 128, 128, 128, 128, 128, 10]\n",
            "Epoch 1, Train Loss: 0.025426097947749037, Val Loss: 0.026499889783426475\n",
            "Epoch 2, Train Loss: 0.017051709385382325, Val Loss: 0.01857879257405009\n",
            "Epoch 3, Train Loss: 0.016674326406523665, Val Loss: 0.01834457701476395\n",
            "Epoch 4, Train Loss: 0.014203280298219764, Val Loss: 0.016581691697753965\n",
            "Epoch 5, Train Loss: 0.013623020821858215, Val Loss: 0.016417504397253254\n",
            "Epoch 6, Train Loss: 0.01293533127590203, Val Loss: 0.01643537077381714\n",
            "Epoch 7, Train Loss: 0.012326754130452543, Val Loss: 0.01610404177987172\n",
            "Epoch 8, Train Loss: 0.015616790658080177, Val Loss: 0.019453922638585704\n",
            "Epoch 9, Train Loss: 0.011427182304489504, Val Loss: 0.0158512712630786\n",
            "Epoch 10, Train Loss: 0.011376867794805672, Val Loss: 0.01615541210944254\n",
            "Test accuracy: 0.8818\n"
          ]
        },
        {
          "data": {
            "text/html": [],
            "text/plain": [
              "<IPython.core.display.HTML object>"
            ]
          },
          "metadata": {},
          "output_type": "display_data"
        },
        {
          "data": {
            "text/html": [
              "<br>    <style><br>        .wandb-row {<br>            display: flex;<br>            flex-direction: row;<br>            flex-wrap: wrap;<br>            justify-content: flex-start;<br>            width: 100%;<br>        }<br>        .wandb-col {<br>            display: flex;<br>            flex-direction: column;<br>            flex-basis: 100%;<br>            flex: 1;<br>            padding: 10px;<br>        }<br>    </style><br><div class=\"wandb-row\"><div class=\"wandb-col\"><h3>Run history:</h3><br/><table class=\"wandb\"><tr><td>epoch</td><td>▁▂▃▃▄▅▆▆▇█</td></tr><tr><td>train_accuracy</td><td>▁▆▆▇▇▇█▆██</td></tr><tr><td>train_loss</td><td>█▄▄▂▂▂▁▃▁▁</td></tr><tr><td>val_accuracy</td><td>▁▆▆▇█▇█▆██</td></tr><tr><td>val_loss</td><td>█▃▃▁▁▁▁▃▁▁</td></tr></table><br/></div><div class=\"wandb-col\"><h3>Run summary:</h3><br/><table class=\"wandb\"><tr><td>epoch</td><td>10</td></tr><tr><td>train_accuracy</td><td>92.04815</td></tr><tr><td>train_loss</td><td>0.01138</td></tr><tr><td>val_accuracy</td><td>88.93333</td></tr><tr><td>val_loss</td><td>0.01616</td></tr></table><br/></div></div>"
            ],
            "text/plain": [
              "<IPython.core.display.HTML object>"
            ]
          },
          "metadata": {},
          "output_type": "display_data"
        },
        {
          "data": {
            "text/html": [
              " View run <strong style=\"color:#cdcd00\">ac-relu_hs-128_epc-10_nl-5_lr0.001_wd-0_opt-adam_bs-32_wi-Xavier</strong> at: <a href='https://wandb.ai/bgorai005-iit-madras/deep_learning_assignment_1/runs/iekx6zj2' target=\"_blank\">https://wandb.ai/bgorai005-iit-madras/deep_learning_assignment_1/runs/iekx6zj2</a><br> View project at: <a href='https://wandb.ai/bgorai005-iit-madras/deep_learning_assignment_1' target=\"_blank\">https://wandb.ai/bgorai005-iit-madras/deep_learning_assignment_1</a><br>Synced 5 W&B file(s), 0 media file(s), 0 artifact file(s) and 0 other file(s)"
            ],
            "text/plain": [
              "<IPython.core.display.HTML object>"
            ]
          },
          "metadata": {},
          "output_type": "display_data"
        },
        {
          "data": {
            "text/html": [
              "Find logs at: <code>./wandb/run-20250309_174623-iekx6zj2/logs</code>"
            ],
            "text/plain": [
              "<IPython.core.display.HTML object>"
            ]
          },
          "metadata": {},
          "output_type": "display_data"
        },
        {
          "metadata": {
            "tags": null
          },
          "name": "stderr",
          "output_type": "stream",
          "text": [
            "\u001b[34m\u001b[1mwandb\u001b[0m: Agent Starting Run: g6yenfre with config:\n",
            "\u001b[34m\u001b[1mwandb\u001b[0m: \tactivation_hidden: relu\n",
            "\u001b[34m\u001b[1mwandb\u001b[0m: \tactivation_output: softmax\n",
            "\u001b[34m\u001b[1mwandb\u001b[0m: \tbatch_size: 32\n",
            "\u001b[34m\u001b[1mwandb\u001b[0m: \tepochs: 5\n",
            "\u001b[34m\u001b[1mwandb\u001b[0m: \thidden_size: 64\n",
            "\u001b[34m\u001b[1mwandb\u001b[0m: \tlearning_rate: 0.0001\n",
            "\u001b[34m\u001b[1mwandb\u001b[0m: \tnum_layers: 5\n",
            "\u001b[34m\u001b[1mwandb\u001b[0m: \toptimizer: adam\n",
            "\u001b[34m\u001b[1mwandb\u001b[0m: \tweight_decay: 0\n",
            "\u001b[34m\u001b[1mwandb\u001b[0m: \tweight_ini_method: random\n"
          ]
        },
        {
          "data": {
            "text/html": [
              "Tracking run with wandb version 0.19.7"
            ],
            "text/plain": [
              "<IPython.core.display.HTML object>"
            ]
          },
          "metadata": {},
          "output_type": "display_data"
        },
        {
          "data": {
            "text/html": [
              "Run data is saved locally in <code>/content/wandb/run-20250309_175035-g6yenfre</code>"
            ],
            "text/plain": [
              "<IPython.core.display.HTML object>"
            ]
          },
          "metadata": {},
          "output_type": "display_data"
        },
        {
          "data": {
            "text/html": [
              "Syncing run <strong><a href='https://wandb.ai/bgorai005-iit-madras/deep_learning_assignment_1/runs/g6yenfre' target=\"_blank\">gentle-sweep-49</a></strong> to <a href='https://wandb.ai/bgorai005-iit-madras/deep_learning_assignment_1' target=\"_blank\">Weights & Biases</a> (<a href='https://wandb.me/developer-guide' target=\"_blank\">docs</a>)<br>Sweep page: <a href='https://wandb.ai/bgorai005-iit-madras/deep_learning_assignment_1/sweeps/xd33zmtu' target=\"_blank\">https://wandb.ai/bgorai005-iit-madras/deep_learning_assignment_1/sweeps/xd33zmtu</a>"
            ],
            "text/plain": [
              "<IPython.core.display.HTML object>"
            ]
          },
          "metadata": {},
          "output_type": "display_data"
        },
        {
          "data": {
            "text/html": [
              " View project at <a href='https://wandb.ai/bgorai005-iit-madras/deep_learning_assignment_1' target=\"_blank\">https://wandb.ai/bgorai005-iit-madras/deep_learning_assignment_1</a>"
            ],
            "text/plain": [
              "<IPython.core.display.HTML object>"
            ]
          },
          "metadata": {},
          "output_type": "display_data"
        },
        {
          "data": {
            "text/html": [
              " View sweep at <a href='https://wandb.ai/bgorai005-iit-madras/deep_learning_assignment_1/sweeps/xd33zmtu' target=\"_blank\">https://wandb.ai/bgorai005-iit-madras/deep_learning_assignment_1/sweeps/xd33zmtu</a>"
            ],
            "text/plain": [
              "<IPython.core.display.HTML object>"
            ]
          },
          "metadata": {},
          "output_type": "display_data"
        },
        {
          "data": {
            "text/html": [
              " View run at <a href='https://wandb.ai/bgorai005-iit-madras/deep_learning_assignment_1/runs/g6yenfre' target=\"_blank\">https://wandb.ai/bgorai005-iit-madras/deep_learning_assignment_1/runs/g6yenfre</a>"
            ],
            "text/plain": [
              "<IPython.core.display.HTML object>"
            ]
          },
          "metadata": {},
          "output_type": "display_data"
        },
        {
          "metadata": {
            "tags": null
          },
          "name": "stdout",
          "output_type": "stream",
          "text": [
            "[784, 64, 64, 64, 64, 64, 10]\n",
            "Epoch 1, Train Loss: 0.0836880424439357, Val Loss: 0.08718668676893038\n",
            "Epoch 2, Train Loss: 0.07366799992988667, Val Loss: 0.07785845103964933\n",
            "Epoch 3, Train Loss: 0.06962699814179528, Val Loss: 0.07394833088190643\n",
            "Epoch 4, Train Loss: 0.0673492410003614, Val Loss: 0.07089362843472599\n",
            "Epoch 5, Train Loss: 0.06428275946754929, Val Loss: 0.06768409932291955\n",
            "Test accuracy: 0.674\n"
          ]
        },
        {
          "data": {
            "text/html": [],
            "text/plain": [
              "<IPython.core.display.HTML object>"
            ]
          },
          "metadata": {},
          "output_type": "display_data"
        },
        {
          "data": {
            "text/html": [
              "<br>    <style><br>        .wandb-row {<br>            display: flex;<br>            flex-direction: row;<br>            flex-wrap: wrap;<br>            justify-content: flex-start;<br>            width: 100%;<br>        }<br>        .wandb-col {<br>            display: flex;<br>            flex-direction: column;<br>            flex-basis: 100%;<br>            flex: 1;<br>            padding: 10px;<br>        }<br>    </style><br><div class=\"wandb-row\"><div class=\"wandb-col\"><h3>Run history:</h3><br/><table class=\"wandb\"><tr><td>epoch</td><td>▁▃▅▆█</td></tr><tr><td>train_accuracy</td><td>▁▅▆▇█</td></tr><tr><td>train_loss</td><td>█▄▃▂▁</td></tr><tr><td>val_accuracy</td><td>▁▄▆▇█</td></tr><tr><td>val_loss</td><td>█▅▃▂▁</td></tr></table><br/></div><div class=\"wandb-col\"><h3>Run summary:</h3><br/><table class=\"wandb\"><tr><td>epoch</td><td>5</td></tr><tr><td>train_accuracy</td><td>67.85</td></tr><tr><td>train_loss</td><td>0.06428</td></tr><tr><td>val_accuracy</td><td>66.15</td></tr><tr><td>val_loss</td><td>0.06768</td></tr></table><br/></div></div>"
            ],
            "text/plain": [
              "<IPython.core.display.HTML object>"
            ]
          },
          "metadata": {},
          "output_type": "display_data"
        },
        {
          "data": {
            "text/html": [
              " View run <strong style=\"color:#cdcd00\">ac-relu_hs-64_epc-5_nl-5_lr0.0001_wd-0_opt-adam_bs-32_wi-random</strong> at: <a href='https://wandb.ai/bgorai005-iit-madras/deep_learning_assignment_1/runs/g6yenfre' target=\"_blank\">https://wandb.ai/bgorai005-iit-madras/deep_learning_assignment_1/runs/g6yenfre</a><br> View project at: <a href='https://wandb.ai/bgorai005-iit-madras/deep_learning_assignment_1' target=\"_blank\">https://wandb.ai/bgorai005-iit-madras/deep_learning_assignment_1</a><br>Synced 5 W&B file(s), 0 media file(s), 0 artifact file(s) and 0 other file(s)"
            ],
            "text/plain": [
              "<IPython.core.display.HTML object>"
            ]
          },
          "metadata": {},
          "output_type": "display_data"
        },
        {
          "data": {
            "text/html": [
              "Find logs at: <code>./wandb/run-20250309_175035-g6yenfre/logs</code>"
            ],
            "text/plain": [
              "<IPython.core.display.HTML object>"
            ]
          },
          "metadata": {},
          "output_type": "display_data"
        },
        {
          "metadata": {
            "tags": null
          },
          "name": "stderr",
          "output_type": "stream",
          "text": [
            "\u001b[34m\u001b[1mwandb\u001b[0m: Agent Starting Run: ah9xjgh5 with config:\n",
            "\u001b[34m\u001b[1mwandb\u001b[0m: \tactivation_hidden: sigmoid\n",
            "\u001b[34m\u001b[1mwandb\u001b[0m: \tactivation_output: softmax\n",
            "\u001b[34m\u001b[1mwandb\u001b[0m: \tbatch_size: 64\n",
            "\u001b[34m\u001b[1mwandb\u001b[0m: \tepochs: 5\n",
            "\u001b[34m\u001b[1mwandb\u001b[0m: \thidden_size: 32\n",
            "\u001b[34m\u001b[1mwandb\u001b[0m: \tlearning_rate: 0.001\n",
            "\u001b[34m\u001b[1mwandb\u001b[0m: \tnum_layers: 3\n",
            "\u001b[34m\u001b[1mwandb\u001b[0m: \toptimizer: sgd\n",
            "\u001b[34m\u001b[1mwandb\u001b[0m: \tweight_decay: 0\n",
            "\u001b[34m\u001b[1mwandb\u001b[0m: \tweight_ini_method: random\n"
          ]
        },
        {
          "data": {
            "text/html": [
              "Tracking run with wandb version 0.19.7"
            ],
            "text/plain": [
              "<IPython.core.display.HTML object>"
            ]
          },
          "metadata": {},
          "output_type": "display_data"
        },
        {
          "data": {
            "text/html": [
              "Run data is saved locally in <code>/content/wandb/run-20250309_175132-ah9xjgh5</code>"
            ],
            "text/plain": [
              "<IPython.core.display.HTML object>"
            ]
          },
          "metadata": {},
          "output_type": "display_data"
        },
        {
          "data": {
            "text/html": [
              "Syncing run <strong><a href='https://wandb.ai/bgorai005-iit-madras/deep_learning_assignment_1/runs/ah9xjgh5' target=\"_blank\">wobbly-sweep-50</a></strong> to <a href='https://wandb.ai/bgorai005-iit-madras/deep_learning_assignment_1' target=\"_blank\">Weights & Biases</a> (<a href='https://wandb.me/developer-guide' target=\"_blank\">docs</a>)<br>Sweep page: <a href='https://wandb.ai/bgorai005-iit-madras/deep_learning_assignment_1/sweeps/xd33zmtu' target=\"_blank\">https://wandb.ai/bgorai005-iit-madras/deep_learning_assignment_1/sweeps/xd33zmtu</a>"
            ],
            "text/plain": [
              "<IPython.core.display.HTML object>"
            ]
          },
          "metadata": {},
          "output_type": "display_data"
        },
        {
          "data": {
            "text/html": [
              " View project at <a href='https://wandb.ai/bgorai005-iit-madras/deep_learning_assignment_1' target=\"_blank\">https://wandb.ai/bgorai005-iit-madras/deep_learning_assignment_1</a>"
            ],
            "text/plain": [
              "<IPython.core.display.HTML object>"
            ]
          },
          "metadata": {},
          "output_type": "display_data"
        },
        {
          "data": {
            "text/html": [
              " View sweep at <a href='https://wandb.ai/bgorai005-iit-madras/deep_learning_assignment_1/sweeps/xd33zmtu' target=\"_blank\">https://wandb.ai/bgorai005-iit-madras/deep_learning_assignment_1/sweeps/xd33zmtu</a>"
            ],
            "text/plain": [
              "<IPython.core.display.HTML object>"
            ]
          },
          "metadata": {},
          "output_type": "display_data"
        },
        {
          "data": {
            "text/html": [
              " View run at <a href='https://wandb.ai/bgorai005-iit-madras/deep_learning_assignment_1/runs/ah9xjgh5' target=\"_blank\">https://wandb.ai/bgorai005-iit-madras/deep_learning_assignment_1/runs/ah9xjgh5</a>"
            ],
            "text/plain": [
              "<IPython.core.display.HTML object>"
            ]
          },
          "metadata": {},
          "output_type": "display_data"
        },
        {
          "metadata": {
            "tags": null
          },
          "name": "stdout",
          "output_type": "stream",
          "text": [
            "[784, 32, 32, 32, 10]\n",
            "Epoch 1, Train Loss: 0.04869402997519229, Val Loss: 0.04950716994291966\n",
            "Epoch 2, Train Loss: 0.042027024913280385, Val Loss: 0.04282798715278827\n",
            "Epoch 3, Train Loss: 0.03906947472248024, Val Loss: 0.039857740108162086\n",
            "Epoch 4, Train Loss: 0.03690385677566554, Val Loss: 0.03773413252296914\n",
            "Epoch 5, Train Loss: 0.03535623272680991, Val Loss: 0.03624122613842856\n",
            "Test Accuracy: 72.96000000000001\n"
          ]
        },
        {
          "data": {
            "text/html": [],
            "text/plain": [
              "<IPython.core.display.HTML object>"
            ]
          },
          "metadata": {},
          "output_type": "display_data"
        },
        {
          "data": {
            "text/html": [
              " View run <strong style=\"color:#cdcd00\">ac-sigmoid_hs-32_epc-5_nl-3_lr0.001_wd-0_opt-sgd_bs-64_wi-random</strong> at: <a href='https://wandb.ai/bgorai005-iit-madras/deep_learning_assignment_1/runs/ah9xjgh5' target=\"_blank\">https://wandb.ai/bgorai005-iit-madras/deep_learning_assignment_1/runs/ah9xjgh5</a><br> View project at: <a href='https://wandb.ai/bgorai005-iit-madras/deep_learning_assignment_1' target=\"_blank\">https://wandb.ai/bgorai005-iit-madras/deep_learning_assignment_1</a><br>Synced 5 W&B file(s), 0 media file(s), 0 artifact file(s) and 0 other file(s)"
            ],
            "text/plain": [
              "<IPython.core.display.HTML object>"
            ]
          },
          "metadata": {},
          "output_type": "display_data"
        },
        {
          "data": {
            "text/html": [
              "Find logs at: <code>./wandb/run-20250309_175132-ah9xjgh5/logs</code>"
            ],
            "text/plain": [
              "<IPython.core.display.HTML object>"
            ]
          },
          "metadata": {},
          "output_type": "display_data"
        },
        {
          "metadata": {
            "tags": null
          },
          "name": "stderr",
          "output_type": "stream",
          "text": [
            "\u001b[34m\u001b[1mwandb\u001b[0m: Agent Starting Run: 6tvcu5y3 with config:\n",
            "\u001b[34m\u001b[1mwandb\u001b[0m: \tactivation_hidden: tanh\n",
            "\u001b[34m\u001b[1mwandb\u001b[0m: \tactivation_output: softmax\n",
            "\u001b[34m\u001b[1mwandb\u001b[0m: \tbatch_size: 32\n",
            "\u001b[34m\u001b[1mwandb\u001b[0m: \tepochs: 10\n",
            "\u001b[34m\u001b[1mwandb\u001b[0m: \thidden_size: 128\n",
            "\u001b[34m\u001b[1mwandb\u001b[0m: \tlearning_rate: 0.0001\n",
            "\u001b[34m\u001b[1mwandb\u001b[0m: \tnum_layers: 5\n",
            "\u001b[34m\u001b[1mwandb\u001b[0m: \toptimizer: nag\n",
            "\u001b[34m\u001b[1mwandb\u001b[0m: \tweight_decay: 0\n",
            "\u001b[34m\u001b[1mwandb\u001b[0m: \tweight_ini_method: Xavier\n"
          ]
        },
        {
          "data": {
            "text/html": [
              "Tracking run with wandb version 0.19.7"
            ],
            "text/plain": [
              "<IPython.core.display.HTML object>"
            ]
          },
          "metadata": {},
          "output_type": "display_data"
        },
        {
          "data": {
            "text/html": [
              "Run data is saved locally in <code>/content/wandb/run-20250309_175203-6tvcu5y3</code>"
            ],
            "text/plain": [
              "<IPython.core.display.HTML object>"
            ]
          },
          "metadata": {},
          "output_type": "display_data"
        },
        {
          "data": {
            "text/html": [
              "Syncing run <strong><a href='https://wandb.ai/bgorai005-iit-madras/deep_learning_assignment_1/runs/6tvcu5y3' target=\"_blank\">blooming-sweep-51</a></strong> to <a href='https://wandb.ai/bgorai005-iit-madras/deep_learning_assignment_1' target=\"_blank\">Weights & Biases</a> (<a href='https://wandb.me/developer-guide' target=\"_blank\">docs</a>)<br>Sweep page: <a href='https://wandb.ai/bgorai005-iit-madras/deep_learning_assignment_1/sweeps/xd33zmtu' target=\"_blank\">https://wandb.ai/bgorai005-iit-madras/deep_learning_assignment_1/sweeps/xd33zmtu</a>"
            ],
            "text/plain": [
              "<IPython.core.display.HTML object>"
            ]
          },
          "metadata": {},
          "output_type": "display_data"
        },
        {
          "data": {
            "text/html": [
              " View project at <a href='https://wandb.ai/bgorai005-iit-madras/deep_learning_assignment_1' target=\"_blank\">https://wandb.ai/bgorai005-iit-madras/deep_learning_assignment_1</a>"
            ],
            "text/plain": [
              "<IPython.core.display.HTML object>"
            ]
          },
          "metadata": {},
          "output_type": "display_data"
        },
        {
          "data": {
            "text/html": [
              " View sweep at <a href='https://wandb.ai/bgorai005-iit-madras/deep_learning_assignment_1/sweeps/xd33zmtu' target=\"_blank\">https://wandb.ai/bgorai005-iit-madras/deep_learning_assignment_1/sweeps/xd33zmtu</a>"
            ],
            "text/plain": [
              "<IPython.core.display.HTML object>"
            ]
          },
          "metadata": {},
          "output_type": "display_data"
        },
        {
          "data": {
            "text/html": [
              " View run at <a href='https://wandb.ai/bgorai005-iit-madras/deep_learning_assignment_1/runs/6tvcu5y3' target=\"_blank\">https://wandb.ai/bgorai005-iit-madras/deep_learning_assignment_1/runs/6tvcu5y3</a>"
            ],
            "text/plain": [
              "<IPython.core.display.HTML object>"
            ]
          },
          "metadata": {},
          "output_type": "display_data"
        },
        {
          "metadata": {
            "tags": null
          },
          "name": "stdout",
          "output_type": "stream",
          "text": [
            "[784, 128, 128, 128, 128, 128, 10]\n",
            "Epoch 1, Loss: 0.12535501608781327, Validation Loss: 0.12462452125437985\n",
            "Epoch 2, Loss: 0.17967580535677066, Validation Loss: 0.17867618128085608\n",
            "Epoch 3, Loss: 0.17943769545206298, Validation Loss: 0.17843845098124644\n",
            "Epoch 4, Loss: 0.18006659652238585, Validation Loss: 0.17906664495721247\n",
            "Epoch 5, Loss: 0.1756086342073978, Validation Loss: 0.17466857314690332\n",
            "Epoch 6, Loss: 0.17452994856277168, Validation Loss: 0.17355739354421051\n",
            "Epoch 7, Loss: 0.15904286095209455, Validation Loss: 0.15817646404552044\n",
            "Epoch 8, Loss: 0.17649266314928883, Validation Loss: 0.17550719950228408\n",
            "Epoch 9, Loss: 0.12963997882588946, Validation Loss: 0.13009435543984288\n",
            "Epoch 10, Loss: 0.12506032840034895, Validation Loss: 0.12587828135502926\n",
            "Test accuracy: 0.1\n"
          ]
        },
        {
          "data": {
            "text/html": [],
            "text/plain": [
              "<IPython.core.display.HTML object>"
            ]
          },
          "metadata": {},
          "output_type": "display_data"
        },
        {
          "data": {
            "text/html": [
              "<br>    <style><br>        .wandb-row {<br>            display: flex;<br>            flex-direction: row;<br>            flex-wrap: wrap;<br>            justify-content: flex-start;<br>            width: 100%;<br>        }<br>        .wandb-col {<br>            display: flex;<br>            flex-direction: column;<br>            flex-basis: 100%;<br>            flex: 1;<br>            padding: 10px;<br>        }<br>    </style><br><div class=\"wandb-row\"><div class=\"wandb-col\"><h3>Run history:</h3><br/><table class=\"wandb\"><tr><td>epoch</td><td>▁▂▃▃▄▅▆▆▇█</td></tr><tr><td>train_accuracy</td><td>▂▁▁▁▁▁▁▁█▄</td></tr><tr><td>train_loss</td><td>▁███▇▇▅█▂▁</td></tr><tr><td>val_accuracy</td><td>▇███████▁▅</td></tr><tr><td>val_loss</td><td>▁███▇▇▅█▂▁</td></tr></table><br/></div><div class=\"wandb-col\"><h3>Run summary:</h3><br/><table class=\"wandb\"><tr><td>epoch</td><td>10</td></tr><tr><td>train_accuracy</td><td>10.01852</td></tr><tr><td>train_loss</td><td>0.12506</td></tr><tr><td>val_accuracy</td><td>9.83333</td></tr><tr><td>val_loss</td><td>0.12588</td></tr></table><br/></div></div>"
            ],
            "text/plain": [
              "<IPython.core.display.HTML object>"
            ]
          },
          "metadata": {},
          "output_type": "display_data"
        },
        {
          "data": {
            "text/html": [
              " View run <strong style=\"color:#cdcd00\">ac-tanh_hs-128_epc-10_nl-5_lr0.0001_wd-0_opt-nag_bs-32_wi-Xavier</strong> at: <a href='https://wandb.ai/bgorai005-iit-madras/deep_learning_assignment_1/runs/6tvcu5y3' target=\"_blank\">https://wandb.ai/bgorai005-iit-madras/deep_learning_assignment_1/runs/6tvcu5y3</a><br> View project at: <a href='https://wandb.ai/bgorai005-iit-madras/deep_learning_assignment_1' target=\"_blank\">https://wandb.ai/bgorai005-iit-madras/deep_learning_assignment_1</a><br>Synced 5 W&B file(s), 0 media file(s), 0 artifact file(s) and 0 other file(s)"
            ],
            "text/plain": [
              "<IPython.core.display.HTML object>"
            ]
          },
          "metadata": {},
          "output_type": "display_data"
        },
        {
          "data": {
            "text/html": [
              "Find logs at: <code>./wandb/run-20250309_175203-6tvcu5y3/logs</code>"
            ],
            "text/plain": [
              "<IPython.core.display.HTML object>"
            ]
          },
          "metadata": {},
          "output_type": "display_data"
        },
        {
          "metadata": {
            "tags": null
          },
          "name": "stderr",
          "output_type": "stream",
          "text": [
            "\u001b[34m\u001b[1mwandb\u001b[0m: Agent Starting Run: ocybhfqh with config:\n",
            "\u001b[34m\u001b[1mwandb\u001b[0m: \tactivation_hidden: tanh\n",
            "\u001b[34m\u001b[1mwandb\u001b[0m: \tactivation_output: softmax\n",
            "\u001b[34m\u001b[1mwandb\u001b[0m: \tbatch_size: 64\n",
            "\u001b[34m\u001b[1mwandb\u001b[0m: \tepochs: 10\n",
            "\u001b[34m\u001b[1mwandb\u001b[0m: \thidden_size: 32\n",
            "\u001b[34m\u001b[1mwandb\u001b[0m: \tlearning_rate: 0.0001\n",
            "\u001b[34m\u001b[1mwandb\u001b[0m: \tnum_layers: 3\n",
            "\u001b[34m\u001b[1mwandb\u001b[0m: \toptimizer: RMSprop\n",
            "\u001b[34m\u001b[1mwandb\u001b[0m: \tweight_decay: 0\n",
            "\u001b[34m\u001b[1mwandb\u001b[0m: \tweight_ini_method: Xavier\n"
          ]
        },
        {
          "data": {
            "text/html": [
              "Tracking run with wandb version 0.19.7"
            ],
            "text/plain": [
              "<IPython.core.display.HTML object>"
            ]
          },
          "metadata": {},
          "output_type": "display_data"
        },
        {
          "data": {
            "text/html": [
              "Run data is saved locally in <code>/content/wandb/run-20250309_175707-ocybhfqh</code>"
            ],
            "text/plain": [
              "<IPython.core.display.HTML object>"
            ]
          },
          "metadata": {},
          "output_type": "display_data"
        },
        {
          "data": {
            "text/html": [
              "Syncing run <strong><a href='https://wandb.ai/bgorai005-iit-madras/deep_learning_assignment_1/runs/ocybhfqh' target=\"_blank\">noble-sweep-52</a></strong> to <a href='https://wandb.ai/bgorai005-iit-madras/deep_learning_assignment_1' target=\"_blank\">Weights & Biases</a> (<a href='https://wandb.me/developer-guide' target=\"_blank\">docs</a>)<br>Sweep page: <a href='https://wandb.ai/bgorai005-iit-madras/deep_learning_assignment_1/sweeps/xd33zmtu' target=\"_blank\">https://wandb.ai/bgorai005-iit-madras/deep_learning_assignment_1/sweeps/xd33zmtu</a>"
            ],
            "text/plain": [
              "<IPython.core.display.HTML object>"
            ]
          },
          "metadata": {},
          "output_type": "display_data"
        },
        {
          "data": {
            "text/html": [
              " View project at <a href='https://wandb.ai/bgorai005-iit-madras/deep_learning_assignment_1' target=\"_blank\">https://wandb.ai/bgorai005-iit-madras/deep_learning_assignment_1</a>"
            ],
            "text/plain": [
              "<IPython.core.display.HTML object>"
            ]
          },
          "metadata": {},
          "output_type": "display_data"
        },
        {
          "data": {
            "text/html": [
              " View sweep at <a href='https://wandb.ai/bgorai005-iit-madras/deep_learning_assignment_1/sweeps/xd33zmtu' target=\"_blank\">https://wandb.ai/bgorai005-iit-madras/deep_learning_assignment_1/sweeps/xd33zmtu</a>"
            ],
            "text/plain": [
              "<IPython.core.display.HTML object>"
            ]
          },
          "metadata": {},
          "output_type": "display_data"
        },
        {
          "data": {
            "text/html": [
              " View run at <a href='https://wandb.ai/bgorai005-iit-madras/deep_learning_assignment_1/runs/ocybhfqh' target=\"_blank\">https://wandb.ai/bgorai005-iit-madras/deep_learning_assignment_1/runs/ocybhfqh</a>"
            ],
            "text/plain": [
              "<IPython.core.display.HTML object>"
            ]
          },
          "metadata": {},
          "output_type": "display_data"
        },
        {
          "metadata": {
            "tags": null
          },
          "name": "stdout",
          "output_type": "stream",
          "text": [
            "[784, 32, 32, 32, 10]\n",
            "Epoch 1, Loss: 0.13197855984223678, Validation Loss: 0.03236009031419731\n",
            "Epoch 2, Loss: 0.1457310471702668, Validation Loss: 0.026147651829928377\n",
            "Epoch 3, Loss: 0.1506379400317564, Validation Loss: 0.02376545272405695\n",
            "Epoch 4, Loss: 0.1534373903355646, Validation Loss: 0.02241711010357468\n",
            "Epoch 5, Loss: 0.15573884844867228, Validation Loss: 0.021450081014755894\n",
            "Epoch 6, Loss: 0.1573809404565144, Validation Loss: 0.02135629061627474\n",
            "Epoch 7, Loss: 0.1582569237039676, Validation Loss: 0.020284663334683428\n",
            "Epoch 8, Loss: 0.15835839214475525, Validation Loss: 0.01988945936435812\n",
            "Epoch 9, Loss: 0.1586150347215018, Validation Loss: 0.01975311359216739\n",
            "Epoch 10, Loss: 0.15967613303503608, Validation Loss: 0.019376952756689207\n",
            "Test accuracy: 0.8539\n"
          ]
        },
        {
          "data": {
            "text/html": [],
            "text/plain": [
              "<IPython.core.display.HTML object>"
            ]
          },
          "metadata": {},
          "output_type": "display_data"
        },
        {
          "data": {
            "text/html": [
              "<br>    <style><br>        .wandb-row {<br>            display: flex;<br>            flex-direction: row;<br>            flex-wrap: wrap;<br>            justify-content: flex-start;<br>            width: 100%;<br>        }<br>        .wandb-col {<br>            display: flex;<br>            flex-direction: column;<br>            flex-basis: 100%;<br>            flex: 1;<br>            padding: 10px;<br>        }<br>    </style><br><div class=\"wandb-row\"><div class=\"wandb-col\"><h3>Run history:</h3><br/><table class=\"wandb\"><tr><td>epoch</td><td>▁▂▃▃▄▅▆▆▇█</td></tr><tr><td>train_accuracy</td><td>▁▄▅▆▆▇▇███</td></tr><tr><td>train_loss</td><td>▁▄▆▆▇▇████</td></tr><tr><td>val_accuracy</td><td>▁▄▆▆▇▇████</td></tr><tr><td>val_loss</td><td>█▅▃▃▂▂▁▁▁▁</td></tr></table><br/></div><div class=\"wandb-col\"><h3>Run summary:</h3><br/><table class=\"wandb\"><tr><td>epoch</td><td>10</td></tr><tr><td>train_accuracy</td><td>87.21111</td></tr><tr><td>train_loss</td><td>0.15968</td></tr><tr><td>val_accuracy</td><td>86.18333</td></tr><tr><td>val_loss</td><td>0.01938</td></tr></table><br/></div></div>"
            ],
            "text/plain": [
              "<IPython.core.display.HTML object>"
            ]
          },
          "metadata": {},
          "output_type": "display_data"
        },
        {
          "data": {
            "text/html": [
              " View run <strong style=\"color:#cdcd00\">ac-tanh_hs-32_epc-10_nl-3_lr0.0001_wd-0_opt-RMSprop_bs-64_wi-Xavier</strong> at: <a href='https://wandb.ai/bgorai005-iit-madras/deep_learning_assignment_1/runs/ocybhfqh' target=\"_blank\">https://wandb.ai/bgorai005-iit-madras/deep_learning_assignment_1/runs/ocybhfqh</a><br> View project at: <a href='https://wandb.ai/bgorai005-iit-madras/deep_learning_assignment_1' target=\"_blank\">https://wandb.ai/bgorai005-iit-madras/deep_learning_assignment_1</a><br>Synced 5 W&B file(s), 0 media file(s), 0 artifact file(s) and 0 other file(s)"
            ],
            "text/plain": [
              "<IPython.core.display.HTML object>"
            ]
          },
          "metadata": {},
          "output_type": "display_data"
        },
        {
          "data": {
            "text/html": [
              "Find logs at: <code>./wandb/run-20250309_175707-ocybhfqh/logs</code>"
            ],
            "text/plain": [
              "<IPython.core.display.HTML object>"
            ]
          },
          "metadata": {},
          "output_type": "display_data"
        },
        {
          "metadata": {
            "tags": null
          },
          "name": "stderr",
          "output_type": "stream",
          "text": [
            "\u001b[34m\u001b[1mwandb\u001b[0m: Sweep Agent: Waiting for job.\n",
            "\u001b[34m\u001b[1mwandb\u001b[0m: Job received.\n",
            "\u001b[34m\u001b[1mwandb\u001b[0m: Agent Starting Run: lifoqhku with config:\n",
            "\u001b[34m\u001b[1mwandb\u001b[0m: \tactivation_hidden: relu\n",
            "\u001b[34m\u001b[1mwandb\u001b[0m: \tactivation_output: softmax\n",
            "\u001b[34m\u001b[1mwandb\u001b[0m: \tbatch_size: 16\n",
            "\u001b[34m\u001b[1mwandb\u001b[0m: \tepochs: 10\n",
            "\u001b[34m\u001b[1mwandb\u001b[0m: \thidden_size: 128\n",
            "\u001b[34m\u001b[1mwandb\u001b[0m: \tlearning_rate: 0.0001\n",
            "\u001b[34m\u001b[1mwandb\u001b[0m: \tnum_layers: 3\n",
            "\u001b[34m\u001b[1mwandb\u001b[0m: \toptimizer: momentum\n",
            "\u001b[34m\u001b[1mwandb\u001b[0m: \tweight_decay: 0\n",
            "\u001b[34m\u001b[1mwandb\u001b[0m: \tweight_ini_method: Xavier\n"
          ]
        },
        {
          "data": {
            "text/html": [
              "Tracking run with wandb version 0.19.7"
            ],
            "text/plain": [
              "<IPython.core.display.HTML object>"
            ]
          },
          "metadata": {},
          "output_type": "display_data"
        },
        {
          "data": {
            "text/html": [
              "Run data is saved locally in <code>/content/wandb/run-20250309_175808-lifoqhku</code>"
            ],
            "text/plain": [
              "<IPython.core.display.HTML object>"
            ]
          },
          "metadata": {},
          "output_type": "display_data"
        },
        {
          "data": {
            "text/html": [
              "Syncing run <strong><a href='https://wandb.ai/bgorai005-iit-madras/deep_learning_assignment_1/runs/lifoqhku' target=\"_blank\">royal-sweep-53</a></strong> to <a href='https://wandb.ai/bgorai005-iit-madras/deep_learning_assignment_1' target=\"_blank\">Weights & Biases</a> (<a href='https://wandb.me/developer-guide' target=\"_blank\">docs</a>)<br>Sweep page: <a href='https://wandb.ai/bgorai005-iit-madras/deep_learning_assignment_1/sweeps/xd33zmtu' target=\"_blank\">https://wandb.ai/bgorai005-iit-madras/deep_learning_assignment_1/sweeps/xd33zmtu</a>"
            ],
            "text/plain": [
              "<IPython.core.display.HTML object>"
            ]
          },
          "metadata": {},
          "output_type": "display_data"
        },
        {
          "data": {
            "text/html": [
              " View project at <a href='https://wandb.ai/bgorai005-iit-madras/deep_learning_assignment_1' target=\"_blank\">https://wandb.ai/bgorai005-iit-madras/deep_learning_assignment_1</a>"
            ],
            "text/plain": [
              "<IPython.core.display.HTML object>"
            ]
          },
          "metadata": {},
          "output_type": "display_data"
        },
        {
          "data": {
            "text/html": [
              " View sweep at <a href='https://wandb.ai/bgorai005-iit-madras/deep_learning_assignment_1/sweeps/xd33zmtu' target=\"_blank\">https://wandb.ai/bgorai005-iit-madras/deep_learning_assignment_1/sweeps/xd33zmtu</a>"
            ],
            "text/plain": [
              "<IPython.core.display.HTML object>"
            ]
          },
          "metadata": {},
          "output_type": "display_data"
        },
        {
          "data": {
            "text/html": [
              " View run at <a href='https://wandb.ai/bgorai005-iit-madras/deep_learning_assignment_1/runs/lifoqhku' target=\"_blank\">https://wandb.ai/bgorai005-iit-madras/deep_learning_assignment_1/runs/lifoqhku</a>"
            ],
            "text/plain": [
              "<IPython.core.display.HTML object>"
            ]
          },
          "metadata": {},
          "output_type": "display_data"
        },
        {
          "metadata": {
            "tags": null
          },
          "name": "stdout",
          "output_type": "stream",
          "text": [
            "[784, 128, 128, 128, 10]\n",
            "Epoch 1, Train Loss: 0.02094182765654463, Val Loss: 0.021765771100858138\n",
            "Epoch 2, Train Loss: 0.018811741261716107, Val Loss: 0.019781682714973253\n",
            "Epoch 3, Train Loss: 0.01770261547552147, Val Loss: 0.01908941660936814\n",
            "Epoch 4, Train Loss: 0.017297830067714105, Val Loss: 0.01910575519769458\n",
            "Epoch 5, Train Loss: 0.016952187803319797, Val Loss: 0.018870453754110814\n",
            "Epoch 6, Train Loss: 0.015749124508548363, Val Loss: 0.018219178493155793\n",
            "Epoch 7, Train Loss: 0.014566190135681506, Val Loss: 0.01696812722177873\n",
            "Epoch 8, Train Loss: 0.013512969640828055, Val Loss: 0.016785721339266143\n",
            "Epoch 9, Train Loss: 0.013317261622389196, Val Loss: 0.01669094256742928\n",
            "Epoch 10, Train Loss: 0.012947501448679727, Val Loss: 0.01659655106119821\n",
            "Test accuracy: 0.8788\n"
          ]
        },
        {
          "data": {
            "text/html": [],
            "text/plain": [
              "<IPython.core.display.HTML object>"
            ]
          },
          "metadata": {},
          "output_type": "display_data"
        },
        {
          "data": {
            "text/html": [
              "<br>    <style><br>        .wandb-row {<br>            display: flex;<br>            flex-direction: row;<br>            flex-wrap: wrap;<br>            justify-content: flex-start;<br>            width: 100%;<br>        }<br>        .wandb-col {<br>            display: flex;<br>            flex-direction: column;<br>            flex-basis: 100%;<br>            flex: 1;<br>            padding: 10px;<br>        }<br>    </style><br><div class=\"wandb-row\"><div class=\"wandb-col\"><h3>Run history:</h3><br/><table class=\"wandb\"><tr><td>epoch</td><td>▁▂▃▃▄▅▆▆▇█</td></tr><tr><td>train_accuracy</td><td>▁▃▄▄▄▅▆▇██</td></tr><tr><td>train_loss</td><td>█▆▅▅▅▃▂▁▁▁</td></tr><tr><td>val_accuracy</td><td>▁▃▅▄▄▅▆▇██</td></tr><tr><td>val_loss</td><td>█▅▄▄▄▃▂▁▁▁</td></tr></table><br/></div><div class=\"wandb-col\"><h3>Run summary:</h3><br/><table class=\"wandb\"><tr><td>epoch</td><td>10</td></tr><tr><td>train_accuracy</td><td>91.0463</td></tr><tr><td>train_loss</td><td>0.01295</td></tr><tr><td>val_accuracy</td><td>88.61667</td></tr><tr><td>val_loss</td><td>0.0166</td></tr></table><br/></div></div>"
            ],
            "text/plain": [
              "<IPython.core.display.HTML object>"
            ]
          },
          "metadata": {},
          "output_type": "display_data"
        },
        {
          "data": {
            "text/html": [
              " View run <strong style=\"color:#cdcd00\">ac-relu_hs-128_epc-10_nl-3_lr0.0001_wd-0_opt-momentum_bs-16_wi-Xavier</strong> at: <a href='https://wandb.ai/bgorai005-iit-madras/deep_learning_assignment_1/runs/lifoqhku' target=\"_blank\">https://wandb.ai/bgorai005-iit-madras/deep_learning_assignment_1/runs/lifoqhku</a><br> View project at: <a href='https://wandb.ai/bgorai005-iit-madras/deep_learning_assignment_1' target=\"_blank\">https://wandb.ai/bgorai005-iit-madras/deep_learning_assignment_1</a><br>Synced 5 W&B file(s), 0 media file(s), 0 artifact file(s) and 0 other file(s)"
            ],
            "text/plain": [
              "<IPython.core.display.HTML object>"
            ]
          },
          "metadata": {},
          "output_type": "display_data"
        },
        {
          "data": {
            "text/html": [
              "Find logs at: <code>./wandb/run-20250309_175808-lifoqhku/logs</code>"
            ],
            "text/plain": [
              "<IPython.core.display.HTML object>"
            ]
          },
          "metadata": {},
          "output_type": "display_data"
        },
        {
          "metadata": {
            "tags": null
          },
          "name": "stderr",
          "output_type": "stream",
          "text": [
            "\u001b[34m\u001b[1mwandb\u001b[0m: Agent Starting Run: dtla3aco with config:\n",
            "\u001b[34m\u001b[1mwandb\u001b[0m: \tactivation_hidden: tanh\n",
            "\u001b[34m\u001b[1mwandb\u001b[0m: \tactivation_output: softmax\n",
            "\u001b[34m\u001b[1mwandb\u001b[0m: \tbatch_size: 16\n",
            "\u001b[34m\u001b[1mwandb\u001b[0m: \tepochs: 5\n",
            "\u001b[34m\u001b[1mwandb\u001b[0m: \thidden_size: 128\n",
            "\u001b[34m\u001b[1mwandb\u001b[0m: \tlearning_rate: 0.001\n",
            "\u001b[34m\u001b[1mwandb\u001b[0m: \tnum_layers: 3\n",
            "\u001b[34m\u001b[1mwandb\u001b[0m: \toptimizer: RMSprop\n",
            "\u001b[34m\u001b[1mwandb\u001b[0m: \tweight_decay: 0\n",
            "\u001b[34m\u001b[1mwandb\u001b[0m: \tweight_ini_method: Xavier\n"
          ]
        },
        {
          "data": {
            "text/html": [
              "Tracking run with wandb version 0.19.7"
            ],
            "text/plain": [
              "<IPython.core.display.HTML object>"
            ]
          },
          "metadata": {},
          "output_type": "display_data"
        },
        {
          "data": {
            "text/html": [
              "Run data is saved locally in <code>/content/wandb/run-20250309_180023-dtla3aco</code>"
            ],
            "text/plain": [
              "<IPython.core.display.HTML object>"
            ]
          },
          "metadata": {},
          "output_type": "display_data"
        },
        {
          "data": {
            "text/html": [
              "Syncing run <strong><a href='https://wandb.ai/bgorai005-iit-madras/deep_learning_assignment_1/runs/dtla3aco' target=\"_blank\">iconic-sweep-54</a></strong> to <a href='https://wandb.ai/bgorai005-iit-madras/deep_learning_assignment_1' target=\"_blank\">Weights & Biases</a> (<a href='https://wandb.me/developer-guide' target=\"_blank\">docs</a>)<br>Sweep page: <a href='https://wandb.ai/bgorai005-iit-madras/deep_learning_assignment_1/sweeps/xd33zmtu' target=\"_blank\">https://wandb.ai/bgorai005-iit-madras/deep_learning_assignment_1/sweeps/xd33zmtu</a>"
            ],
            "text/plain": [
              "<IPython.core.display.HTML object>"
            ]
          },
          "metadata": {},
          "output_type": "display_data"
        },
        {
          "data": {
            "text/html": [
              " View project at <a href='https://wandb.ai/bgorai005-iit-madras/deep_learning_assignment_1' target=\"_blank\">https://wandb.ai/bgorai005-iit-madras/deep_learning_assignment_1</a>"
            ],
            "text/plain": [
              "<IPython.core.display.HTML object>"
            ]
          },
          "metadata": {},
          "output_type": "display_data"
        },
        {
          "data": {
            "text/html": [
              " View sweep at <a href='https://wandb.ai/bgorai005-iit-madras/deep_learning_assignment_1/sweeps/xd33zmtu' target=\"_blank\">https://wandb.ai/bgorai005-iit-madras/deep_learning_assignment_1/sweeps/xd33zmtu</a>"
            ],
            "text/plain": [
              "<IPython.core.display.HTML object>"
            ]
          },
          "metadata": {},
          "output_type": "display_data"
        },
        {
          "data": {
            "text/html": [
              " View run at <a href='https://wandb.ai/bgorai005-iit-madras/deep_learning_assignment_1/runs/dtla3aco' target=\"_blank\">https://wandb.ai/bgorai005-iit-madras/deep_learning_assignment_1/runs/dtla3aco</a>"
            ],
            "text/plain": [
              "<IPython.core.display.HTML object>"
            ]
          },
          "metadata": {},
          "output_type": "display_data"
        },
        {
          "metadata": {
            "tags": null
          },
          "name": "stdout",
          "output_type": "stream",
          "text": [
            "[784, 128, 128, 128, 10]\n",
            "Epoch 1, Loss: 0.16252877096409524, Validation Loss: 0.02013634281603377\n",
            "Epoch 2, Loss: 0.16377761761231052, Validation Loss: 0.020012834782029282\n",
            "Epoch 3, Loss: 0.16211723923992713, Validation Loss: 0.020089958809650775\n",
            "Epoch 4, Loss: 0.16623614604847686, Validation Loss: 0.018393727860499632\n",
            "Epoch 5, Loss: 0.16506608800131822, Validation Loss: 0.017265439873486686\n",
            "Test accuracy: 0.8692\n"
          ]
        },
        {
          "data": {
            "text/html": [],
            "text/plain": [
              "<IPython.core.display.HTML object>"
            ]
          },
          "metadata": {},
          "output_type": "display_data"
        },
        {
          "data": {
            "text/html": [
              "<br>    <style><br>        .wandb-row {<br>            display: flex;<br>            flex-direction: row;<br>            flex-wrap: wrap;<br>            justify-content: flex-start;<br>            width: 100%;<br>        }<br>        .wandb-col {<br>            display: flex;<br>            flex-direction: column;<br>            flex-basis: 100%;<br>            flex: 1;<br>            padding: 10px;<br>        }<br>    </style><br><div class=\"wandb-row\"><div class=\"wandb-col\"><h3>Run history:</h3><br/><table class=\"wandb\"><tr><td>epoch</td><td>▁▃▅▆█</td></tr><tr><td>train_accuracy</td><td>▁▂▃▆█</td></tr><tr><td>train_loss</td><td>▂▄▁█▆</td></tr><tr><td>val_accuracy</td><td>▁▂▂▇█</td></tr><tr><td>val_loss</td><td>███▄▁</td></tr></table><br/></div><div class=\"wandb-col\"><h3>Run summary:</h3><br/><table class=\"wandb\"><tr><td>epoch</td><td>5</td></tr><tr><td>train_accuracy</td><td>89.42778</td></tr><tr><td>train_loss</td><td>0.16507</td></tr><tr><td>val_accuracy</td><td>87.86667</td></tr><tr><td>val_loss</td><td>0.01727</td></tr></table><br/></div></div>"
            ],
            "text/plain": [
              "<IPython.core.display.HTML object>"
            ]
          },
          "metadata": {},
          "output_type": "display_data"
        },
        {
          "data": {
            "text/html": [
              " View run <strong style=\"color:#cdcd00\">ac-tanh_hs-128_epc-5_nl-3_lr0.001_wd-0_opt-RMSprop_bs-16_wi-Xavier</strong> at: <a href='https://wandb.ai/bgorai005-iit-madras/deep_learning_assignment_1/runs/dtla3aco' target=\"_blank\">https://wandb.ai/bgorai005-iit-madras/deep_learning_assignment_1/runs/dtla3aco</a><br> View project at: <a href='https://wandb.ai/bgorai005-iit-madras/deep_learning_assignment_1' target=\"_blank\">https://wandb.ai/bgorai005-iit-madras/deep_learning_assignment_1</a><br>Synced 5 W&B file(s), 0 media file(s), 0 artifact file(s) and 0 other file(s)"
            ],
            "text/plain": [
              "<IPython.core.display.HTML object>"
            ]
          },
          "metadata": {},
          "output_type": "display_data"
        },
        {
          "data": {
            "text/html": [
              "Find logs at: <code>./wandb/run-20250309_180023-dtla3aco/logs</code>"
            ],
            "text/plain": [
              "<IPython.core.display.HTML object>"
            ]
          },
          "metadata": {},
          "output_type": "display_data"
        },
        {
          "metadata": {
            "tags": null
          },
          "name": "stderr",
          "output_type": "stream",
          "text": [
            "\u001b[34m\u001b[1mwandb\u001b[0m: Agent Starting Run: 2sn6zjdy with config:\n",
            "\u001b[34m\u001b[1mwandb\u001b[0m: \tactivation_hidden: tanh\n",
            "\u001b[34m\u001b[1mwandb\u001b[0m: \tactivation_output: softmax\n",
            "\u001b[34m\u001b[1mwandb\u001b[0m: \tbatch_size: 64\n",
            "\u001b[34m\u001b[1mwandb\u001b[0m: \tepochs: 5\n",
            "\u001b[34m\u001b[1mwandb\u001b[0m: \thidden_size: 128\n",
            "\u001b[34m\u001b[1mwandb\u001b[0m: \tlearning_rate: 0.001\n",
            "\u001b[34m\u001b[1mwandb\u001b[0m: \tnum_layers: 4\n",
            "\u001b[34m\u001b[1mwandb\u001b[0m: \toptimizer: RMSprop\n",
            "\u001b[34m\u001b[1mwandb\u001b[0m: \tweight_decay: 0\n",
            "\u001b[34m\u001b[1mwandb\u001b[0m: \tweight_ini_method: Xavier\n"
          ]
        },
        {
          "data": {
            "text/html": [
              "Tracking run with wandb version 0.19.7"
            ],
            "text/plain": [
              "<IPython.core.display.HTML object>"
            ]
          },
          "metadata": {},
          "output_type": "display_data"
        },
        {
          "data": {
            "text/html": [
              "Run data is saved locally in <code>/content/wandb/run-20250309_180226-2sn6zjdy</code>"
            ],
            "text/plain": [
              "<IPython.core.display.HTML object>"
            ]
          },
          "metadata": {},
          "output_type": "display_data"
        },
        {
          "data": {
            "text/html": [
              "Syncing run <strong><a href='https://wandb.ai/bgorai005-iit-madras/deep_learning_assignment_1/runs/2sn6zjdy' target=\"_blank\">floral-sweep-55</a></strong> to <a href='https://wandb.ai/bgorai005-iit-madras/deep_learning_assignment_1' target=\"_blank\">Weights & Biases</a> (<a href='https://wandb.me/developer-guide' target=\"_blank\">docs</a>)<br>Sweep page: <a href='https://wandb.ai/bgorai005-iit-madras/deep_learning_assignment_1/sweeps/xd33zmtu' target=\"_blank\">https://wandb.ai/bgorai005-iit-madras/deep_learning_assignment_1/sweeps/xd33zmtu</a>"
            ],
            "text/plain": [
              "<IPython.core.display.HTML object>"
            ]
          },
          "metadata": {},
          "output_type": "display_data"
        },
        {
          "data": {
            "text/html": [
              " View project at <a href='https://wandb.ai/bgorai005-iit-madras/deep_learning_assignment_1' target=\"_blank\">https://wandb.ai/bgorai005-iit-madras/deep_learning_assignment_1</a>"
            ],
            "text/plain": [
              "<IPython.core.display.HTML object>"
            ]
          },
          "metadata": {},
          "output_type": "display_data"
        },
        {
          "data": {
            "text/html": [
              " View sweep at <a href='https://wandb.ai/bgorai005-iit-madras/deep_learning_assignment_1/sweeps/xd33zmtu' target=\"_blank\">https://wandb.ai/bgorai005-iit-madras/deep_learning_assignment_1/sweeps/xd33zmtu</a>"
            ],
            "text/plain": [
              "<IPython.core.display.HTML object>"
            ]
          },
          "metadata": {},
          "output_type": "display_data"
        },
        {
          "data": {
            "text/html": [
              " View run at <a href='https://wandb.ai/bgorai005-iit-madras/deep_learning_assignment_1/runs/2sn6zjdy' target=\"_blank\">https://wandb.ai/bgorai005-iit-madras/deep_learning_assignment_1/runs/2sn6zjdy</a>"
            ],
            "text/plain": [
              "<IPython.core.display.HTML object>"
            ]
          },
          "metadata": {},
          "output_type": "display_data"
        },
        {
          "metadata": {
            "tags": null
          },
          "name": "stdout",
          "output_type": "stream",
          "text": [
            "[784, 128, 128, 128, 128, 10]\n",
            "Epoch 1, Loss: 0.15949302671509796, Validation Loss: 0.019940719503337055\n",
            "Epoch 2, Loss: 0.16206788427138963, Validation Loss: 0.02001565741967632\n",
            "Epoch 3, Loss: 0.16227671440775346, Validation Loss: 0.01966471445010446\n",
            "Epoch 4, Loss: 0.1655927413861693, Validation Loss: 0.01766197335311823\n",
            "Epoch 5, Loss: 0.16483241870941517, Validation Loss: 0.017902906276569194\n",
            "Test accuracy: 0.872\n"
          ]
        },
        {
          "data": {
            "text/html": [],
            "text/plain": [
              "<IPython.core.display.HTML object>"
            ]
          },
          "metadata": {},
          "output_type": "display_data"
        },
        {
          "data": {
            "text/html": [
              "<br>    <style><br>        .wandb-row {<br>            display: flex;<br>            flex-direction: row;<br>            flex-wrap: wrap;<br>            justify-content: flex-start;<br>            width: 100%;<br>        }<br>        .wandb-col {<br>            display: flex;<br>            flex-direction: column;<br>            flex-basis: 100%;<br>            flex: 1;<br>            padding: 10px;<br>        }<br>    </style><br><div class=\"wandb-row\"><div class=\"wandb-col\"><h3>Run history:</h3><br/><table class=\"wandb\"><tr><td>epoch</td><td>▁▃▅▆█</td></tr><tr><td>train_accuracy</td><td>▁▂▃▆█</td></tr><tr><td>train_loss</td><td>▁▄▄█▇</td></tr><tr><td>val_accuracy</td><td>▂▁▃█▇</td></tr><tr><td>val_loss</td><td>██▇▁▂</td></tr></table><br/></div><div class=\"wandb-col\"><h3>Run summary:</h3><br/><table class=\"wandb\"><tr><td>epoch</td><td>5</td></tr><tr><td>train_accuracy</td><td>89.58519</td></tr><tr><td>train_loss</td><td>0.16483</td></tr><tr><td>val_accuracy</td><td>87.6</td></tr><tr><td>val_loss</td><td>0.0179</td></tr></table><br/></div></div>"
            ],
            "text/plain": [
              "<IPython.core.display.HTML object>"
            ]
          },
          "metadata": {},
          "output_type": "display_data"
        },
        {
          "data": {
            "text/html": [
              " View run <strong style=\"color:#cdcd00\">ac-tanh_hs-128_epc-5_nl-4_lr0.001_wd-0_opt-RMSprop_bs-64_wi-Xavier</strong> at: <a href='https://wandb.ai/bgorai005-iit-madras/deep_learning_assignment_1/runs/2sn6zjdy' target=\"_blank\">https://wandb.ai/bgorai005-iit-madras/deep_learning_assignment_1/runs/2sn6zjdy</a><br> View project at: <a href='https://wandb.ai/bgorai005-iit-madras/deep_learning_assignment_1' target=\"_blank\">https://wandb.ai/bgorai005-iit-madras/deep_learning_assignment_1</a><br>Synced 5 W&B file(s), 0 media file(s), 0 artifact file(s) and 0 other file(s)"
            ],
            "text/plain": [
              "<IPython.core.display.HTML object>"
            ]
          },
          "metadata": {},
          "output_type": "display_data"
        },
        {
          "data": {
            "text/html": [
              "Find logs at: <code>./wandb/run-20250309_180226-2sn6zjdy/logs</code>"
            ],
            "text/plain": [
              "<IPython.core.display.HTML object>"
            ]
          },
          "metadata": {},
          "output_type": "display_data"
        },
        {
          "metadata": {
            "tags": null
          },
          "name": "stderr",
          "output_type": "stream",
          "text": [
            "\u001b[34m\u001b[1mwandb\u001b[0m: Agent Starting Run: e79emf75 with config:\n",
            "\u001b[34m\u001b[1mwandb\u001b[0m: \tactivation_hidden: tanh\n",
            "\u001b[34m\u001b[1mwandb\u001b[0m: \tactivation_output: softmax\n",
            "\u001b[34m\u001b[1mwandb\u001b[0m: \tbatch_size: 64\n",
            "\u001b[34m\u001b[1mwandb\u001b[0m: \tepochs: 10\n",
            "\u001b[34m\u001b[1mwandb\u001b[0m: \thidden_size: 64\n",
            "\u001b[34m\u001b[1mwandb\u001b[0m: \tlearning_rate: 0.001\n",
            "\u001b[34m\u001b[1mwandb\u001b[0m: \tnum_layers: 3\n",
            "\u001b[34m\u001b[1mwandb\u001b[0m: \toptimizer: nag\n",
            "\u001b[34m\u001b[1mwandb\u001b[0m: \tweight_decay: 0\n",
            "\u001b[34m\u001b[1mwandb\u001b[0m: \tweight_ini_method: Xavier\n"
          ]
        },
        {
          "data": {
            "text/html": [
              "Tracking run with wandb version 0.19.7"
            ],
            "text/plain": [
              "<IPython.core.display.HTML object>"
            ]
          },
          "metadata": {},
          "output_type": "display_data"
        },
        {
          "data": {
            "text/html": [
              "Run data is saved locally in <code>/content/wandb/run-20250309_180404-e79emf75</code>"
            ],
            "text/plain": [
              "<IPython.core.display.HTML object>"
            ]
          },
          "metadata": {},
          "output_type": "display_data"
        },
        {
          "data": {
            "text/html": [
              "Syncing run <strong><a href='https://wandb.ai/bgorai005-iit-madras/deep_learning_assignment_1/runs/e79emf75' target=\"_blank\">glowing-sweep-56</a></strong> to <a href='https://wandb.ai/bgorai005-iit-madras/deep_learning_assignment_1' target=\"_blank\">Weights & Biases</a> (<a href='https://wandb.me/developer-guide' target=\"_blank\">docs</a>)<br>Sweep page: <a href='https://wandb.ai/bgorai005-iit-madras/deep_learning_assignment_1/sweeps/xd33zmtu' target=\"_blank\">https://wandb.ai/bgorai005-iit-madras/deep_learning_assignment_1/sweeps/xd33zmtu</a>"
            ],
            "text/plain": [
              "<IPython.core.display.HTML object>"
            ]
          },
          "metadata": {},
          "output_type": "display_data"
        },
        {
          "data": {
            "text/html": [
              " View project at <a href='https://wandb.ai/bgorai005-iit-madras/deep_learning_assignment_1' target=\"_blank\">https://wandb.ai/bgorai005-iit-madras/deep_learning_assignment_1</a>"
            ],
            "text/plain": [
              "<IPython.core.display.HTML object>"
            ]
          },
          "metadata": {},
          "output_type": "display_data"
        },
        {
          "data": {
            "text/html": [
              " View sweep at <a href='https://wandb.ai/bgorai005-iit-madras/deep_learning_assignment_1/sweeps/xd33zmtu' target=\"_blank\">https://wandb.ai/bgorai005-iit-madras/deep_learning_assignment_1/sweeps/xd33zmtu</a>"
            ],
            "text/plain": [
              "<IPython.core.display.HTML object>"
            ]
          },
          "metadata": {},
          "output_type": "display_data"
        },
        {
          "data": {
            "text/html": [
              " View run at <a href='https://wandb.ai/bgorai005-iit-madras/deep_learning_assignment_1/runs/e79emf75' target=\"_blank\">https://wandb.ai/bgorai005-iit-madras/deep_learning_assignment_1/runs/e79emf75</a>"
            ],
            "text/plain": [
              "<IPython.core.display.HTML object>"
            ]
          },
          "metadata": {},
          "output_type": "display_data"
        },
        {
          "metadata": {
            "tags": null
          },
          "name": "stdout",
          "output_type": "stream",
          "text": [
            "[784, 64, 64, 64, 10]\n",
            "Epoch 1, Loss: 0.18003102852697134, Validation Loss: 0.17962360673091973\n",
            "Epoch 2, Loss: 0.17929067891369257, Validation Loss: 0.17888619812640238\n",
            "Epoch 3, Loss: 0.13624561198462917, Validation Loss: 0.13587418365228915\n",
            "Epoch 4, Loss: 0.17996293863368454, Validation Loss: 0.18033330892170843\n",
            "Epoch 5, Loss: 0.17695826505327283, Validation Loss: 0.1765452892265663\n",
            "Epoch 6, Loss: 0.17995185184968526, Validation Loss: 0.18043333333118158\n",
            "Epoch 7, Loss: 0.17981481481477765, Validation Loss: 0.18166666666662926\n",
            "Epoch 8, Loss: 0.113413251830141, Validation Loss: 0.11420283019699433\n",
            "Epoch 9, Loss: 0.17936334855143793, Validation Loss: 0.17858729652115032\n",
            "Epoch 10, Loss: 0.1799518072049088, Validation Loss: 0.18043328849590443\n",
            "Test accuracy: 0.1\n"
          ]
        },
        {
          "data": {
            "text/html": [],
            "text/plain": [
              "<IPython.core.display.HTML object>"
            ]
          },
          "metadata": {},
          "output_type": "display_data"
        },
        {
          "data": {
            "text/html": [
              "<br>    <style><br>        .wandb-row {<br>            display: flex;<br>            flex-direction: row;<br>            flex-wrap: wrap;<br>            justify-content: flex-start;<br>            width: 100%;<br>        }<br>        .wandb-col {<br>            display: flex;<br>            flex-direction: column;<br>            flex-basis: 100%;<br>            flex: 1;<br>            padding: 10px;<br>        }<br>    </style><br><div class=\"wandb-row\"><div class=\"wandb-col\"><h3>Run history:</h3><br/><table class=\"wandb\"><tr><td>epoch</td><td>▁▂▃▃▄▅▆▆▇█</td></tr><tr><td>train_accuracy</td><td>▂▂▂▄▂▄█▄▁▄</td></tr><tr><td>train_loss</td><td>██▃████▁██</td></tr><tr><td>val_accuracy</td><td>▇▇▇▅▇▅▁▅█▅</td></tr><tr><td>val_loss</td><td>██▃█▇██▁██</td></tr></table><br/></div><div class=\"wandb-col\"><h3>Run summary:</h3><br/><table class=\"wandb\"><tr><td>epoch</td><td>10</td></tr><tr><td>train_accuracy</td><td>10.02407</td></tr><tr><td>train_loss</td><td>0.17995</td></tr><tr><td>val_accuracy</td><td>9.78333</td></tr><tr><td>val_loss</td><td>0.18043</td></tr></table><br/></div></div>"
            ],
            "text/plain": [
              "<IPython.core.display.HTML object>"
            ]
          },
          "metadata": {},
          "output_type": "display_data"
        },
        {
          "data": {
            "text/html": [
              " View run <strong style=\"color:#cdcd00\">ac-tanh_hs-64_epc-10_nl-3_lr0.001_wd-0_opt-nag_bs-64_wi-Xavier</strong> at: <a href='https://wandb.ai/bgorai005-iit-madras/deep_learning_assignment_1/runs/e79emf75' target=\"_blank\">https://wandb.ai/bgorai005-iit-madras/deep_learning_assignment_1/runs/e79emf75</a><br> View project at: <a href='https://wandb.ai/bgorai005-iit-madras/deep_learning_assignment_1' target=\"_blank\">https://wandb.ai/bgorai005-iit-madras/deep_learning_assignment_1</a><br>Synced 5 W&B file(s), 0 media file(s), 0 artifact file(s) and 0 other file(s)"
            ],
            "text/plain": [
              "<IPython.core.display.HTML object>"
            ]
          },
          "metadata": {},
          "output_type": "display_data"
        },
        {
          "data": {
            "text/html": [
              "Find logs at: <code>./wandb/run-20250309_180404-e79emf75/logs</code>"
            ],
            "text/plain": [
              "<IPython.core.display.HTML object>"
            ]
          },
          "metadata": {},
          "output_type": "display_data"
        },
        {
          "metadata": {
            "tags": null
          },
          "name": "stderr",
          "output_type": "stream",
          "text": [
            "\u001b[34m\u001b[1mwandb\u001b[0m: Agent Starting Run: 2jkh0noa with config:\n",
            "\u001b[34m\u001b[1mwandb\u001b[0m: \tactivation_hidden: tanh\n",
            "\u001b[34m\u001b[1mwandb\u001b[0m: \tactivation_output: softmax\n",
            "\u001b[34m\u001b[1mwandb\u001b[0m: \tbatch_size: 16\n",
            "\u001b[34m\u001b[1mwandb\u001b[0m: \tepochs: 5\n",
            "\u001b[34m\u001b[1mwandb\u001b[0m: \thidden_size: 32\n",
            "\u001b[34m\u001b[1mwandb\u001b[0m: \tlearning_rate: 0.0001\n",
            "\u001b[34m\u001b[1mwandb\u001b[0m: \tnum_layers: 4\n",
            "\u001b[34m\u001b[1mwandb\u001b[0m: \toptimizer: sgd\n",
            "\u001b[34m\u001b[1mwandb\u001b[0m: \tweight_decay: 0\n",
            "\u001b[34m\u001b[1mwandb\u001b[0m: \tweight_ini_method: random\n"
          ]
        },
        {
          "data": {
            "text/html": [
              "Tracking run with wandb version 0.19.7"
            ],
            "text/plain": [
              "<IPython.core.display.HTML object>"
            ]
          },
          "metadata": {},
          "output_type": "display_data"
        },
        {
          "data": {
            "text/html": [
              "Run data is saved locally in <code>/content/wandb/run-20250309_180552-2jkh0noa</code>"
            ],
            "text/plain": [
              "<IPython.core.display.HTML object>"
            ]
          },
          "metadata": {},
          "output_type": "display_data"
        },
        {
          "data": {
            "text/html": [
              "Syncing run <strong><a href='https://wandb.ai/bgorai005-iit-madras/deep_learning_assignment_1/runs/2jkh0noa' target=\"_blank\">earthy-sweep-57</a></strong> to <a href='https://wandb.ai/bgorai005-iit-madras/deep_learning_assignment_1' target=\"_blank\">Weights & Biases</a> (<a href='https://wandb.me/developer-guide' target=\"_blank\">docs</a>)<br>Sweep page: <a href='https://wandb.ai/bgorai005-iit-madras/deep_learning_assignment_1/sweeps/xd33zmtu' target=\"_blank\">https://wandb.ai/bgorai005-iit-madras/deep_learning_assignment_1/sweeps/xd33zmtu</a>"
            ],
            "text/plain": [
              "<IPython.core.display.HTML object>"
            ]
          },
          "metadata": {},
          "output_type": "display_data"
        },
        {
          "data": {
            "text/html": [
              " View project at <a href='https://wandb.ai/bgorai005-iit-madras/deep_learning_assignment_1' target=\"_blank\">https://wandb.ai/bgorai005-iit-madras/deep_learning_assignment_1</a>"
            ],
            "text/plain": [
              "<IPython.core.display.HTML object>"
            ]
          },
          "metadata": {},
          "output_type": "display_data"
        },
        {
          "data": {
            "text/html": [
              " View sweep at <a href='https://wandb.ai/bgorai005-iit-madras/deep_learning_assignment_1/sweeps/xd33zmtu' target=\"_blank\">https://wandb.ai/bgorai005-iit-madras/deep_learning_assignment_1/sweeps/xd33zmtu</a>"
            ],
            "text/plain": [
              "<IPython.core.display.HTML object>"
            ]
          },
          "metadata": {},
          "output_type": "display_data"
        },
        {
          "data": {
            "text/html": [
              " View run at <a href='https://wandb.ai/bgorai005-iit-madras/deep_learning_assignment_1/runs/2jkh0noa' target=\"_blank\">https://wandb.ai/bgorai005-iit-madras/deep_learning_assignment_1/runs/2jkh0noa</a>"
            ],
            "text/plain": [
              "<IPython.core.display.HTML object>"
            ]
          },
          "metadata": {},
          "output_type": "display_data"
        },
        {
          "metadata": {
            "tags": null
          },
          "name": "stdout",
          "output_type": "stream",
          "text": [
            "[784, 32, 32, 32, 32, 10]\n",
            "Epoch 1, Train Loss: 0.08675888358596284, Val Loss: 0.08741961423797055\n",
            "Epoch 2, Train Loss: 0.07230161728742437, Val Loss: 0.07333667436557162\n",
            "Epoch 3, Train Loss: 0.06557340537483448, Val Loss: 0.06659979661440407\n",
            "Epoch 4, Train Loss: 0.061674885459613964, Val Loss: 0.06293839884629893\n",
            "Epoch 5, Train Loss: 0.05934852269952066, Val Loss: 0.06036651598893087\n",
            "Test Accuracy: 52.39\n"
          ]
        },
        {
          "data": {
            "text/html": [],
            "text/plain": [
              "<IPython.core.display.HTML object>"
            ]
          },
          "metadata": {},
          "output_type": "display_data"
        },
        {
          "data": {
            "text/html": [
              " View run <strong style=\"color:#cdcd00\">ac-tanh_hs-32_epc-5_nl-4_lr0.0001_wd-0_opt-sgd_bs-16_wi-random</strong> at: <a href='https://wandb.ai/bgorai005-iit-madras/deep_learning_assignment_1/runs/2jkh0noa' target=\"_blank\">https://wandb.ai/bgorai005-iit-madras/deep_learning_assignment_1/runs/2jkh0noa</a><br> View project at: <a href='https://wandb.ai/bgorai005-iit-madras/deep_learning_assignment_1' target=\"_blank\">https://wandb.ai/bgorai005-iit-madras/deep_learning_assignment_1</a><br>Synced 5 W&B file(s), 0 media file(s), 0 artifact file(s) and 0 other file(s)"
            ],
            "text/plain": [
              "<IPython.core.display.HTML object>"
            ]
          },
          "metadata": {},
          "output_type": "display_data"
        },
        {
          "data": {
            "text/html": [
              "Find logs at: <code>./wandb/run-20250309_180552-2jkh0noa/logs</code>"
            ],
            "text/plain": [
              "<IPython.core.display.HTML object>"
            ]
          },
          "metadata": {},
          "output_type": "display_data"
        },
        {
          "metadata": {
            "tags": null
          },
          "name": "stderr",
          "output_type": "stream",
          "text": [
            "\u001b[34m\u001b[1mwandb\u001b[0m: Agent Starting Run: zkprbxft with config:\n",
            "\u001b[34m\u001b[1mwandb\u001b[0m: \tactivation_hidden: relu\n",
            "\u001b[34m\u001b[1mwandb\u001b[0m: \tactivation_output: softmax\n",
            "\u001b[34m\u001b[1mwandb\u001b[0m: \tbatch_size: 16\n",
            "\u001b[34m\u001b[1mwandb\u001b[0m: \tepochs: 5\n",
            "\u001b[34m\u001b[1mwandb\u001b[0m: \thidden_size: 128\n",
            "\u001b[34m\u001b[1mwandb\u001b[0m: \tlearning_rate: 0.001\n",
            "\u001b[34m\u001b[1mwandb\u001b[0m: \tnum_layers: 3\n",
            "\u001b[34m\u001b[1mwandb\u001b[0m: \toptimizer: momentum\n",
            "\u001b[34m\u001b[1mwandb\u001b[0m: \tweight_decay: 0\n",
            "\u001b[34m\u001b[1mwandb\u001b[0m: \tweight_ini_method: Xavier\n"
          ]
        },
        {
          "data": {
            "text/html": [
              "Tracking run with wandb version 0.19.7"
            ],
            "text/plain": [
              "<IPython.core.display.HTML object>"
            ]
          },
          "metadata": {},
          "output_type": "display_data"
        },
        {
          "data": {
            "text/html": [
              "Run data is saved locally in <code>/content/wandb/run-20250309_180634-zkprbxft</code>"
            ],
            "text/plain": [
              "<IPython.core.display.HTML object>"
            ]
          },
          "metadata": {},
          "output_type": "display_data"
        },
        {
          "data": {
            "text/html": [
              "Syncing run <strong><a href='https://wandb.ai/bgorai005-iit-madras/deep_learning_assignment_1/runs/zkprbxft' target=\"_blank\">balmy-sweep-58</a></strong> to <a href='https://wandb.ai/bgorai005-iit-madras/deep_learning_assignment_1' target=\"_blank\">Weights & Biases</a> (<a href='https://wandb.me/developer-guide' target=\"_blank\">docs</a>)<br>Sweep page: <a href='https://wandb.ai/bgorai005-iit-madras/deep_learning_assignment_1/sweeps/xd33zmtu' target=\"_blank\">https://wandb.ai/bgorai005-iit-madras/deep_learning_assignment_1/sweeps/xd33zmtu</a>"
            ],
            "text/plain": [
              "<IPython.core.display.HTML object>"
            ]
          },
          "metadata": {},
          "output_type": "display_data"
        },
        {
          "data": {
            "text/html": [
              " View project at <a href='https://wandb.ai/bgorai005-iit-madras/deep_learning_assignment_1' target=\"_blank\">https://wandb.ai/bgorai005-iit-madras/deep_learning_assignment_1</a>"
            ],
            "text/plain": [
              "<IPython.core.display.HTML object>"
            ]
          },
          "metadata": {},
          "output_type": "display_data"
        },
        {
          "data": {
            "text/html": [
              " View sweep at <a href='https://wandb.ai/bgorai005-iit-madras/deep_learning_assignment_1/sweeps/xd33zmtu' target=\"_blank\">https://wandb.ai/bgorai005-iit-madras/deep_learning_assignment_1/sweeps/xd33zmtu</a>"
            ],
            "text/plain": [
              "<IPython.core.display.HTML object>"
            ]
          },
          "metadata": {},
          "output_type": "display_data"
        },
        {
          "data": {
            "text/html": [
              " View run at <a href='https://wandb.ai/bgorai005-iit-madras/deep_learning_assignment_1/runs/zkprbxft' target=\"_blank\">https://wandb.ai/bgorai005-iit-madras/deep_learning_assignment_1/runs/zkprbxft</a>"
            ],
            "text/plain": [
              "<IPython.core.display.HTML object>"
            ]
          },
          "metadata": {},
          "output_type": "display_data"
        },
        {
          "metadata": {
            "tags": null
          },
          "name": "stdout",
          "output_type": "stream",
          "text": [
            "[784, 128, 128, 128, 10]\n",
            "Epoch 1, Train Loss: 0.021924985539436195, Val Loss: 0.022752541643788985\n",
            "Epoch 2, Train Loss: 0.018968267775914698, Val Loss: 0.01991172577348237\n",
            "Epoch 3, Train Loss: 0.017272754294628462, Val Loss: 0.01867664223144114\n",
            "Epoch 4, Train Loss: 0.01722774143980869, Val Loss: 0.01915262436673792\n",
            "Epoch 5, Train Loss: 0.01567187942433088, Val Loss: 0.01765000483175821\n",
            "Test accuracy: 0.8675\n"
          ]
        },
        {
          "data": {
            "text/html": [],
            "text/plain": [
              "<IPython.core.display.HTML object>"
            ]
          },
          "metadata": {},
          "output_type": "display_data"
        },
        {
          "data": {
            "text/html": [
              "<br>    <style><br>        .wandb-row {<br>            display: flex;<br>            flex-direction: row;<br>            flex-wrap: wrap;<br>            justify-content: flex-start;<br>            width: 100%;<br>        }<br>        .wandb-col {<br>            display: flex;<br>            flex-direction: column;<br>            flex-basis: 100%;<br>            flex: 1;<br>            padding: 10px;<br>        }<br>    </style><br><div class=\"wandb-row\"><div class=\"wandb-col\"><h3>Run history:</h3><br/><table class=\"wandb\"><tr><td>epoch</td><td>▁▃▅▆█</td></tr><tr><td>train_accuracy</td><td>▁▄▆▆█</td></tr><tr><td>train_loss</td><td>█▅▃▃▁</td></tr><tr><td>val_accuracy</td><td>▁▅▇▆█</td></tr><tr><td>val_loss</td><td>█▄▂▃▁</td></tr></table><br/></div><div class=\"wandb-col\"><h3>Run summary:</h3><br/><table class=\"wandb\"><tr><td>epoch</td><td>5</td></tr><tr><td>train_accuracy</td><td>88.99815</td></tr><tr><td>train_loss</td><td>0.01567</td></tr><tr><td>val_accuracy</td><td>87.8</td></tr><tr><td>val_loss</td><td>0.01765</td></tr></table><br/></div></div>"
            ],
            "text/plain": [
              "<IPython.core.display.HTML object>"
            ]
          },
          "metadata": {},
          "output_type": "display_data"
        },
        {
          "data": {
            "text/html": [
              " View run <strong style=\"color:#cdcd00\">ac-relu_hs-128_epc-5_nl-3_lr0.001_wd-0_opt-momentum_bs-16_wi-Xavier</strong> at: <a href='https://wandb.ai/bgorai005-iit-madras/deep_learning_assignment_1/runs/zkprbxft' target=\"_blank\">https://wandb.ai/bgorai005-iit-madras/deep_learning_assignment_1/runs/zkprbxft</a><br> View project at: <a href='https://wandb.ai/bgorai005-iit-madras/deep_learning_assignment_1' target=\"_blank\">https://wandb.ai/bgorai005-iit-madras/deep_learning_assignment_1</a><br>Synced 5 W&B file(s), 0 media file(s), 0 artifact file(s) and 0 other file(s)"
            ],
            "text/plain": [
              "<IPython.core.display.HTML object>"
            ]
          },
          "metadata": {},
          "output_type": "display_data"
        },
        {
          "data": {
            "text/html": [
              "Find logs at: <code>./wandb/run-20250309_180634-zkprbxft/logs</code>"
            ],
            "text/plain": [
              "<IPython.core.display.HTML object>"
            ]
          },
          "metadata": {},
          "output_type": "display_data"
        },
        {
          "metadata": {
            "tags": null
          },
          "name": "stderr",
          "output_type": "stream",
          "text": [
            "\u001b[34m\u001b[1mwandb\u001b[0m: Agent Starting Run: 5sy1ywzc with config:\n",
            "\u001b[34m\u001b[1mwandb\u001b[0m: \tactivation_hidden: tanh\n",
            "\u001b[34m\u001b[1mwandb\u001b[0m: \tactivation_output: softmax\n",
            "\u001b[34m\u001b[1mwandb\u001b[0m: \tbatch_size: 16\n",
            "\u001b[34m\u001b[1mwandb\u001b[0m: \tepochs: 10\n",
            "\u001b[34m\u001b[1mwandb\u001b[0m: \thidden_size: 32\n",
            "\u001b[34m\u001b[1mwandb\u001b[0m: \tlearning_rate: 0.001\n",
            "\u001b[34m\u001b[1mwandb\u001b[0m: \tnum_layers: 3\n",
            "\u001b[34m\u001b[1mwandb\u001b[0m: \toptimizer: momentum\n",
            "\u001b[34m\u001b[1mwandb\u001b[0m: \tweight_decay: 0\n",
            "\u001b[34m\u001b[1mwandb\u001b[0m: \tweight_ini_method: random\n"
          ]
        },
        {
          "data": {
            "text/html": [
              "Tracking run with wandb version 0.19.7"
            ],
            "text/plain": [
              "<IPython.core.display.HTML object>"
            ]
          },
          "metadata": {},
          "output_type": "display_data"
        },
        {
          "data": {
            "text/html": [
              "Run data is saved locally in <code>/content/wandb/run-20250309_180751-5sy1ywzc</code>"
            ],
            "text/plain": [
              "<IPython.core.display.HTML object>"
            ]
          },
          "metadata": {},
          "output_type": "display_data"
        },
        {
          "data": {
            "text/html": [
              "Syncing run <strong><a href='https://wandb.ai/bgorai005-iit-madras/deep_learning_assignment_1/runs/5sy1ywzc' target=\"_blank\">blooming-sweep-59</a></strong> to <a href='https://wandb.ai/bgorai005-iit-madras/deep_learning_assignment_1' target=\"_blank\">Weights & Biases</a> (<a href='https://wandb.me/developer-guide' target=\"_blank\">docs</a>)<br>Sweep page: <a href='https://wandb.ai/bgorai005-iit-madras/deep_learning_assignment_1/sweeps/xd33zmtu' target=\"_blank\">https://wandb.ai/bgorai005-iit-madras/deep_learning_assignment_1/sweeps/xd33zmtu</a>"
            ],
            "text/plain": [
              "<IPython.core.display.HTML object>"
            ]
          },
          "metadata": {},
          "output_type": "display_data"
        },
        {
          "data": {
            "text/html": [
              " View project at <a href='https://wandb.ai/bgorai005-iit-madras/deep_learning_assignment_1' target=\"_blank\">https://wandb.ai/bgorai005-iit-madras/deep_learning_assignment_1</a>"
            ],
            "text/plain": [
              "<IPython.core.display.HTML object>"
            ]
          },
          "metadata": {},
          "output_type": "display_data"
        },
        {
          "data": {
            "text/html": [
              " View sweep at <a href='https://wandb.ai/bgorai005-iit-madras/deep_learning_assignment_1/sweeps/xd33zmtu' target=\"_blank\">https://wandb.ai/bgorai005-iit-madras/deep_learning_assignment_1/sweeps/xd33zmtu</a>"
            ],
            "text/plain": [
              "<IPython.core.display.HTML object>"
            ]
          },
          "metadata": {},
          "output_type": "display_data"
        },
        {
          "data": {
            "text/html": [
              " View run at <a href='https://wandb.ai/bgorai005-iit-madras/deep_learning_assignment_1/runs/5sy1ywzc' target=\"_blank\">https://wandb.ai/bgorai005-iit-madras/deep_learning_assignment_1/runs/5sy1ywzc</a>"
            ],
            "text/plain": [
              "<IPython.core.display.HTML object>"
            ]
          },
          "metadata": {},
          "output_type": "display_data"
        },
        {
          "metadata": {
            "tags": null
          },
          "name": "stdout",
          "output_type": "stream",
          "text": [
            "[784, 32, 32, 32, 10]\n",
            "Epoch 1, Train Loss: 0.04226862598684814, Val Loss: 0.04370125085970933\n",
            "Epoch 2, Train Loss: 0.04206794567248447, Val Loss: 0.043246230815050093\n",
            "Epoch 3, Train Loss: 0.03796700438958907, Val Loss: 0.038879404585027755\n",
            "Epoch 4, Train Loss: 0.03749054594402803, Val Loss: 0.03854097191028777\n",
            "Epoch 5, Train Loss: 0.035902480149048316, Val Loss: 0.037572229410886546\n",
            "Epoch 6, Train Loss: 0.03566922732894098, Val Loss: 0.037013001361472786\n",
            "Epoch 7, Train Loss: 0.04085643847437393, Val Loss: 0.042055717514870895\n",
            "Epoch 8, Train Loss: 0.03394943504282513, Val Loss: 0.03503490839623018\n",
            "Epoch 9, Train Loss: 0.03347909529663773, Val Loss: 0.034975829018418815\n",
            "Epoch 10, Train Loss: 0.031018153447541268, Val Loss: 0.03233067627781283\n",
            "Test accuracy: 0.7662\n"
          ]
        },
        {
          "data": {
            "text/html": [],
            "text/plain": [
              "<IPython.core.display.HTML object>"
            ]
          },
          "metadata": {},
          "output_type": "display_data"
        },
        {
          "data": {
            "text/html": [
              "<br>    <style><br>        .wandb-row {<br>            display: flex;<br>            flex-direction: row;<br>            flex-wrap: wrap;<br>            justify-content: flex-start;<br>            width: 100%;<br>        }<br>        .wandb-col {<br>            display: flex;<br>            flex-direction: column;<br>            flex-basis: 100%;<br>            flex: 1;<br>            padding: 10px;<br>        }<br>    </style><br><div class=\"wandb-row\"><div class=\"wandb-col\"><h3>Run history:</h3><br/><table class=\"wandb\"><tr><td>epoch</td><td>▁▂▃▃▄▅▆▆▇█</td></tr><tr><td>train_accuracy</td><td>▁▂▃▃▄▅▂▇▆█</td></tr><tr><td>train_loss</td><td>██▅▅▄▄▇▃▃▁</td></tr><tr><td>val_accuracy</td><td>▁▃▃▃▄▅▁▇▆█</td></tr><tr><td>val_loss</td><td>██▅▅▄▄▇▃▃▁</td></tr></table><br/></div><div class=\"wandb-col\"><h3>Run summary:</h3><br/><table class=\"wandb\"><tr><td>epoch</td><td>10</td></tr><tr><td>train_accuracy</td><td>77.68148</td></tr><tr><td>train_loss</td><td>0.03102</td></tr><tr><td>val_accuracy</td><td>76.76667</td></tr><tr><td>val_loss</td><td>0.03233</td></tr></table><br/></div></div>"
            ],
            "text/plain": [
              "<IPython.core.display.HTML object>"
            ]
          },
          "metadata": {},
          "output_type": "display_data"
        },
        {
          "data": {
            "text/html": [
              " View run <strong style=\"color:#cdcd00\">ac-tanh_hs-32_epc-10_nl-3_lr0.001_wd-0_opt-momentum_bs-16_wi-random</strong> at: <a href='https://wandb.ai/bgorai005-iit-madras/deep_learning_assignment_1/runs/5sy1ywzc' target=\"_blank\">https://wandb.ai/bgorai005-iit-madras/deep_learning_assignment_1/runs/5sy1ywzc</a><br> View project at: <a href='https://wandb.ai/bgorai005-iit-madras/deep_learning_assignment_1' target=\"_blank\">https://wandb.ai/bgorai005-iit-madras/deep_learning_assignment_1</a><br>Synced 5 W&B file(s), 0 media file(s), 0 artifact file(s) and 0 other file(s)"
            ],
            "text/plain": [
              "<IPython.core.display.HTML object>"
            ]
          },
          "metadata": {},
          "output_type": "display_data"
        },
        {
          "data": {
            "text/html": [
              "Find logs at: <code>./wandb/run-20250309_180751-5sy1ywzc/logs</code>"
            ],
            "text/plain": [
              "<IPython.core.display.HTML object>"
            ]
          },
          "metadata": {},
          "output_type": "display_data"
        },
        {
          "metadata": {
            "tags": null
          },
          "name": "stderr",
          "output_type": "stream",
          "text": [
            "\u001b[34m\u001b[1mwandb\u001b[0m: Agent Starting Run: 0e927rsp with config:\n",
            "\u001b[34m\u001b[1mwandb\u001b[0m: \tactivation_hidden: tanh\n",
            "\u001b[34m\u001b[1mwandb\u001b[0m: \tactivation_output: softmax\n",
            "\u001b[34m\u001b[1mwandb\u001b[0m: \tbatch_size: 32\n",
            "\u001b[34m\u001b[1mwandb\u001b[0m: \tepochs: 5\n",
            "\u001b[34m\u001b[1mwandb\u001b[0m: \thidden_size: 32\n",
            "\u001b[34m\u001b[1mwandb\u001b[0m: \tlearning_rate: 0.001\n",
            "\u001b[34m\u001b[1mwandb\u001b[0m: \tnum_layers: 3\n",
            "\u001b[34m\u001b[1mwandb\u001b[0m: \toptimizer: adam\n",
            "\u001b[34m\u001b[1mwandb\u001b[0m: \tweight_decay: 0\n",
            "\u001b[34m\u001b[1mwandb\u001b[0m: \tweight_ini_method: Xavier\n"
          ]
        },
        {
          "data": {
            "text/html": [
              "Tracking run with wandb version 0.19.7"
            ],
            "text/plain": [
              "<IPython.core.display.HTML object>"
            ]
          },
          "metadata": {},
          "output_type": "display_data"
        },
        {
          "data": {
            "text/html": [
              "Run data is saved locally in <code>/content/wandb/run-20250309_180904-0e927rsp</code>"
            ],
            "text/plain": [
              "<IPython.core.display.HTML object>"
            ]
          },
          "metadata": {},
          "output_type": "display_data"
        },
        {
          "data": {
            "text/html": [
              "Syncing run <strong><a href='https://wandb.ai/bgorai005-iit-madras/deep_learning_assignment_1/runs/0e927rsp' target=\"_blank\">deep-sweep-60</a></strong> to <a href='https://wandb.ai/bgorai005-iit-madras/deep_learning_assignment_1' target=\"_blank\">Weights & Biases</a> (<a href='https://wandb.me/developer-guide' target=\"_blank\">docs</a>)<br>Sweep page: <a href='https://wandb.ai/bgorai005-iit-madras/deep_learning_assignment_1/sweeps/xd33zmtu' target=\"_blank\">https://wandb.ai/bgorai005-iit-madras/deep_learning_assignment_1/sweeps/xd33zmtu</a>"
            ],
            "text/plain": [
              "<IPython.core.display.HTML object>"
            ]
          },
          "metadata": {},
          "output_type": "display_data"
        },
        {
          "data": {
            "text/html": [
              " View project at <a href='https://wandb.ai/bgorai005-iit-madras/deep_learning_assignment_1' target=\"_blank\">https://wandb.ai/bgorai005-iit-madras/deep_learning_assignment_1</a>"
            ],
            "text/plain": [
              "<IPython.core.display.HTML object>"
            ]
          },
          "metadata": {},
          "output_type": "display_data"
        },
        {
          "data": {
            "text/html": [
              " View sweep at <a href='https://wandb.ai/bgorai005-iit-madras/deep_learning_assignment_1/sweeps/xd33zmtu' target=\"_blank\">https://wandb.ai/bgorai005-iit-madras/deep_learning_assignment_1/sweeps/xd33zmtu</a>"
            ],
            "text/plain": [
              "<IPython.core.display.HTML object>"
            ]
          },
          "metadata": {},
          "output_type": "display_data"
        },
        {
          "data": {
            "text/html": [
              " View run at <a href='https://wandb.ai/bgorai005-iit-madras/deep_learning_assignment_1/runs/0e927rsp' target=\"_blank\">https://wandb.ai/bgorai005-iit-madras/deep_learning_assignment_1/runs/0e927rsp</a>"
            ],
            "text/plain": [
              "<IPython.core.display.HTML object>"
            ]
          },
          "metadata": {},
          "output_type": "display_data"
        },
        {
          "metadata": {
            "tags": null
          },
          "name": "stdout",
          "output_type": "stream",
          "text": [
            "[784, 32, 32, 32, 10]\n",
            "Epoch 1, Train Loss: 0.02153486215319355, Val Loss: 0.022435754952985453\n",
            "Epoch 2, Train Loss: 0.01774378103835502, Val Loss: 0.019232680002214238\n",
            "Epoch 3, Train Loss: 0.017510767351214793, Val Loss: 0.019177498615618998\n",
            "Epoch 4, Train Loss: 0.01563078406060108, Val Loss: 0.01790886198277359\n",
            "Epoch 5, Train Loss: 0.015397570349923555, Val Loss: 0.017830123418612672\n",
            "Test accuracy: 0.8663\n"
          ]
        },
        {
          "data": {
            "text/html": [],
            "text/plain": [
              "<IPython.core.display.HTML object>"
            ]
          },
          "metadata": {},
          "output_type": "display_data"
        },
        {
          "data": {
            "text/html": [
              "<br>    <style><br>        .wandb-row {<br>            display: flex;<br>            flex-direction: row;<br>            flex-wrap: wrap;<br>            justify-content: flex-start;<br>            width: 100%;<br>        }<br>        .wandb-col {<br>            display: flex;<br>            flex-direction: column;<br>            flex-basis: 100%;<br>            flex: 1;<br>            padding: 10px;<br>        }<br>    </style><br><div class=\"wandb-row\"><div class=\"wandb-col\"><h3>Run history:</h3><br/><table class=\"wandb\"><tr><td>epoch</td><td>▁▃▅▆█</td></tr><tr><td>train_accuracy</td><td>▁▅▆██</td></tr><tr><td>train_loss</td><td>█▄▃▁▁</td></tr><tr><td>val_accuracy</td><td>▁▆▆██</td></tr><tr><td>val_loss</td><td>█▃▃▁▁</td></tr></table><br/></div><div class=\"wandb-col\"><h3>Run summary:</h3><br/><table class=\"wandb\"><tr><td>epoch</td><td>5</td></tr><tr><td>train_accuracy</td><td>89.21481</td></tr><tr><td>train_loss</td><td>0.0154</td></tr><tr><td>val_accuracy</td><td>87.45</td></tr><tr><td>val_loss</td><td>0.01783</td></tr></table><br/></div></div>"
            ],
            "text/plain": [
              "<IPython.core.display.HTML object>"
            ]
          },
          "metadata": {},
          "output_type": "display_data"
        },
        {
          "data": {
            "text/html": [
              " View run <strong style=\"color:#cdcd00\">ac-tanh_hs-32_epc-5_nl-3_lr0.001_wd-0_opt-adam_bs-32_wi-Xavier</strong> at: <a href='https://wandb.ai/bgorai005-iit-madras/deep_learning_assignment_1/runs/0e927rsp' target=\"_blank\">https://wandb.ai/bgorai005-iit-madras/deep_learning_assignment_1/runs/0e927rsp</a><br> View project at: <a href='https://wandb.ai/bgorai005-iit-madras/deep_learning_assignment_1' target=\"_blank\">https://wandb.ai/bgorai005-iit-madras/deep_learning_assignment_1</a><br>Synced 5 W&B file(s), 0 media file(s), 0 artifact file(s) and 0 other file(s)"
            ],
            "text/plain": [
              "<IPython.core.display.HTML object>"
            ]
          },
          "metadata": {},
          "output_type": "display_data"
        },
        {
          "data": {
            "text/html": [
              "Find logs at: <code>./wandb/run-20250309_180904-0e927rsp/logs</code>"
            ],
            "text/plain": [
              "<IPython.core.display.HTML object>"
            ]
          },
          "metadata": {},
          "output_type": "display_data"
        },
        {
          "metadata": {
            "tags": null
          },
          "name": "stderr",
          "output_type": "stream",
          "text": [
            "\u001b[34m\u001b[1mwandb\u001b[0m: Agent Starting Run: 3211tbjz with config:\n",
            "\u001b[34m\u001b[1mwandb\u001b[0m: \tactivation_hidden: relu\n",
            "\u001b[34m\u001b[1mwandb\u001b[0m: \tactivation_output: softmax\n",
            "\u001b[34m\u001b[1mwandb\u001b[0m: \tbatch_size: 16\n",
            "\u001b[34m\u001b[1mwandb\u001b[0m: \tepochs: 5\n",
            "\u001b[34m\u001b[1mwandb\u001b[0m: \thidden_size: 64\n",
            "\u001b[34m\u001b[1mwandb\u001b[0m: \tlearning_rate: 0.001\n",
            "\u001b[34m\u001b[1mwandb\u001b[0m: \tnum_layers: 4\n",
            "\u001b[34m\u001b[1mwandb\u001b[0m: \toptimizer: adam\n",
            "\u001b[34m\u001b[1mwandb\u001b[0m: \tweight_decay: 0\n",
            "\u001b[34m\u001b[1mwandb\u001b[0m: \tweight_ini_method: Xavier\n"
          ]
        },
        {
          "data": {
            "text/html": [
              "Tracking run with wandb version 0.19.7"
            ],
            "text/plain": [
              "<IPython.core.display.HTML object>"
            ]
          },
          "metadata": {},
          "output_type": "display_data"
        },
        {
          "data": {
            "text/html": [
              "Run data is saved locally in <code>/content/wandb/run-20250309_180946-3211tbjz</code>"
            ],
            "text/plain": [
              "<IPython.core.display.HTML object>"
            ]
          },
          "metadata": {},
          "output_type": "display_data"
        },
        {
          "data": {
            "text/html": [
              "Syncing run <strong><a href='https://wandb.ai/bgorai005-iit-madras/deep_learning_assignment_1/runs/3211tbjz' target=\"_blank\">mild-sweep-61</a></strong> to <a href='https://wandb.ai/bgorai005-iit-madras/deep_learning_assignment_1' target=\"_blank\">Weights & Biases</a> (<a href='https://wandb.me/developer-guide' target=\"_blank\">docs</a>)<br>Sweep page: <a href='https://wandb.ai/bgorai005-iit-madras/deep_learning_assignment_1/sweeps/xd33zmtu' target=\"_blank\">https://wandb.ai/bgorai005-iit-madras/deep_learning_assignment_1/sweeps/xd33zmtu</a>"
            ],
            "text/plain": [
              "<IPython.core.display.HTML object>"
            ]
          },
          "metadata": {},
          "output_type": "display_data"
        },
        {
          "data": {
            "text/html": [
              " View project at <a href='https://wandb.ai/bgorai005-iit-madras/deep_learning_assignment_1' target=\"_blank\">https://wandb.ai/bgorai005-iit-madras/deep_learning_assignment_1</a>"
            ],
            "text/plain": [
              "<IPython.core.display.HTML object>"
            ]
          },
          "metadata": {},
          "output_type": "display_data"
        },
        {
          "data": {
            "text/html": [
              " View sweep at <a href='https://wandb.ai/bgorai005-iit-madras/deep_learning_assignment_1/sweeps/xd33zmtu' target=\"_blank\">https://wandb.ai/bgorai005-iit-madras/deep_learning_assignment_1/sweeps/xd33zmtu</a>"
            ],
            "text/plain": [
              "<IPython.core.display.HTML object>"
            ]
          },
          "metadata": {},
          "output_type": "display_data"
        },
        {
          "data": {
            "text/html": [
              " View run at <a href='https://wandb.ai/bgorai005-iit-madras/deep_learning_assignment_1/runs/3211tbjz' target=\"_blank\">https://wandb.ai/bgorai005-iit-madras/deep_learning_assignment_1/runs/3211tbjz</a>"
            ],
            "text/plain": [
              "<IPython.core.display.HTML object>"
            ]
          },
          "metadata": {},
          "output_type": "display_data"
        },
        {
          "metadata": {
            "tags": null
          },
          "name": "stdout",
          "output_type": "stream",
          "text": [
            "[784, 64, 64, 64, 64, 10]\n",
            "Epoch 1, Train Loss: 0.01921285617776834, Val Loss: 0.020262228769102993\n",
            "Epoch 2, Train Loss: 0.018343787796224288, Val Loss: 0.019637304041461925\n",
            "Epoch 3, Train Loss: 0.01759230227595161, Val Loss: 0.018959684564901002\n",
            "Epoch 4, Train Loss: 0.01615567436033847, Val Loss: 0.018279936883877555\n",
            "Epoch 5, Train Loss: 0.0144864375892241, Val Loss: 0.016867032938025737\n",
            "Test accuracy: 0.8728\n"
          ]
        },
        {
          "data": {
            "text/html": [],
            "text/plain": [
              "<IPython.core.display.HTML object>"
            ]
          },
          "metadata": {},
          "output_type": "display_data"
        },
        {
          "data": {
            "text/html": [
              "<br>    <style><br>        .wandb-row {<br>            display: flex;<br>            flex-direction: row;<br>            flex-wrap: wrap;<br>            justify-content: flex-start;<br>            width: 100%;<br>        }<br>        .wandb-col {<br>            display: flex;<br>            flex-direction: column;<br>            flex-basis: 100%;<br>            flex: 1;<br>            padding: 10px;<br>        }<br>    </style><br><div class=\"wandb-row\"><div class=\"wandb-col\"><h3>Run history:</h3><br/><table class=\"wandb\"><tr><td>epoch</td><td>▁▃▅▆█</td></tr><tr><td>train_accuracy</td><td>▁▃▄▅█</td></tr><tr><td>train_loss</td><td>█▇▆▃▁</td></tr><tr><td>val_accuracy</td><td>▁▃▃▅█</td></tr><tr><td>val_loss</td><td>█▇▅▄▁</td></tr></table><br/></div><div class=\"wandb-col\"><h3>Run summary:</h3><br/><table class=\"wandb\"><tr><td>epoch</td><td>5</td></tr><tr><td>train_accuracy</td><td>89.80556</td></tr><tr><td>train_loss</td><td>0.01449</td></tr><tr><td>val_accuracy</td><td>88.63333</td></tr><tr><td>val_loss</td><td>0.01687</td></tr></table><br/></div></div>"
            ],
            "text/plain": [
              "<IPython.core.display.HTML object>"
            ]
          },
          "metadata": {},
          "output_type": "display_data"
        },
        {
          "data": {
            "text/html": [
              " View run <strong style=\"color:#cdcd00\">ac-relu_hs-64_epc-5_nl-4_lr0.001_wd-0_opt-adam_bs-16_wi-Xavier</strong> at: <a href='https://wandb.ai/bgorai005-iit-madras/deep_learning_assignment_1/runs/3211tbjz' target=\"_blank\">https://wandb.ai/bgorai005-iit-madras/deep_learning_assignment_1/runs/3211tbjz</a><br> View project at: <a href='https://wandb.ai/bgorai005-iit-madras/deep_learning_assignment_1' target=\"_blank\">https://wandb.ai/bgorai005-iit-madras/deep_learning_assignment_1</a><br>Synced 5 W&B file(s), 0 media file(s), 0 artifact file(s) and 0 other file(s)"
            ],
            "text/plain": [
              "<IPython.core.display.HTML object>"
            ]
          },
          "metadata": {},
          "output_type": "display_data"
        },
        {
          "data": {
            "text/html": [
              "Find logs at: <code>./wandb/run-20250309_180946-3211tbjz/logs</code>"
            ],
            "text/plain": [
              "<IPython.core.display.HTML object>"
            ]
          },
          "metadata": {},
          "output_type": "display_data"
        },
        {
          "metadata": {
            "tags": null
          },
          "name": "stderr",
          "output_type": "stream",
          "text": [
            "\u001b[34m\u001b[1mwandb\u001b[0m: Agent Starting Run: yh08ystd with config:\n",
            "\u001b[34m\u001b[1mwandb\u001b[0m: \tactivation_hidden: sigmoid\n",
            "\u001b[34m\u001b[1mwandb\u001b[0m: \tactivation_output: softmax\n",
            "\u001b[34m\u001b[1mwandb\u001b[0m: \tbatch_size: 32\n",
            "\u001b[34m\u001b[1mwandb\u001b[0m: \tepochs: 10\n",
            "\u001b[34m\u001b[1mwandb\u001b[0m: \thidden_size: 32\n",
            "\u001b[34m\u001b[1mwandb\u001b[0m: \tlearning_rate: 0.001\n",
            "\u001b[34m\u001b[1mwandb\u001b[0m: \tnum_layers: 5\n",
            "\u001b[34m\u001b[1mwandb\u001b[0m: \toptimizer: nadam\n",
            "\u001b[34m\u001b[1mwandb\u001b[0m: \tweight_decay: 0\n",
            "\u001b[34m\u001b[1mwandb\u001b[0m: \tweight_ini_method: random\n"
          ]
        },
        {
          "data": {
            "text/html": [
              "Tracking run with wandb version 0.19.7"
            ],
            "text/plain": [
              "<IPython.core.display.HTML object>"
            ]
          },
          "metadata": {},
          "output_type": "display_data"
        },
        {
          "data": {
            "text/html": [
              "Run data is saved locally in <code>/content/wandb/run-20250309_181124-yh08ystd</code>"
            ],
            "text/plain": [
              "<IPython.core.display.HTML object>"
            ]
          },
          "metadata": {},
          "output_type": "display_data"
        },
        {
          "data": {
            "text/html": [
              "Syncing run <strong><a href='https://wandb.ai/bgorai005-iit-madras/deep_learning_assignment_1/runs/yh08ystd' target=\"_blank\">fragrant-sweep-62</a></strong> to <a href='https://wandb.ai/bgorai005-iit-madras/deep_learning_assignment_1' target=\"_blank\">Weights & Biases</a> (<a href='https://wandb.me/developer-guide' target=\"_blank\">docs</a>)<br>Sweep page: <a href='https://wandb.ai/bgorai005-iit-madras/deep_learning_assignment_1/sweeps/xd33zmtu' target=\"_blank\">https://wandb.ai/bgorai005-iit-madras/deep_learning_assignment_1/sweeps/xd33zmtu</a>"
            ],
            "text/plain": [
              "<IPython.core.display.HTML object>"
            ]
          },
          "metadata": {},
          "output_type": "display_data"
        },
        {
          "data": {
            "text/html": [
              " View project at <a href='https://wandb.ai/bgorai005-iit-madras/deep_learning_assignment_1' target=\"_blank\">https://wandb.ai/bgorai005-iit-madras/deep_learning_assignment_1</a>"
            ],
            "text/plain": [
              "<IPython.core.display.HTML object>"
            ]
          },
          "metadata": {},
          "output_type": "display_data"
        },
        {
          "data": {
            "text/html": [
              " View sweep at <a href='https://wandb.ai/bgorai005-iit-madras/deep_learning_assignment_1/sweeps/xd33zmtu' target=\"_blank\">https://wandb.ai/bgorai005-iit-madras/deep_learning_assignment_1/sweeps/xd33zmtu</a>"
            ],
            "text/plain": [
              "<IPython.core.display.HTML object>"
            ]
          },
          "metadata": {},
          "output_type": "display_data"
        },
        {
          "data": {
            "text/html": [
              " View run at <a href='https://wandb.ai/bgorai005-iit-madras/deep_learning_assignment_1/runs/yh08ystd' target=\"_blank\">https://wandb.ai/bgorai005-iit-madras/deep_learning_assignment_1/runs/yh08ystd</a>"
            ],
            "text/plain": [
              "<IPython.core.display.HTML object>"
            ]
          },
          "metadata": {},
          "output_type": "display_data"
        },
        {
          "metadata": {
            "tags": null
          },
          "name": "stdout",
          "output_type": "stream",
          "text": [
            "[784, 32, 32, 32, 32, 32, 10]\n",
            "Epoch 1, Loss: 0.14692734503490357, Validation Loss: 0.6411469311432916\n",
            "Epoch 2, Loss: 0.15126525168803318, Validation Loss: 0.5649969994614404\n",
            "Epoch 3, Loss: 0.15338036665484786, Validation Loss: 0.5376249421982972\n",
            "Epoch 4, Loss: 0.15484047720898408, Validation Loss: 0.5068758587199567\n",
            "Epoch 5, Loss: 0.15565284843568106, Validation Loss: 0.49127104842042363\n",
            "Epoch 6, Loss: 0.15719924215622152, Validation Loss: 0.48306518375190366\n",
            "Epoch 7, Loss: 0.15676746629037233, Validation Loss: 0.47840597653983136\n",
            "Epoch 8, Loss: 0.15772770342930223, Validation Loss: 0.4641903483311318\n",
            "Epoch 9, Loss: 0.15851894923615542, Validation Loss: 0.4546053148534458\n",
            "Epoch 10, Loss: 0.15865927133083163, Validation Loss: 0.4468421324929427\n",
            " accuracy: 0.8286\n"
          ]
        },
        {
          "data": {
            "text/html": [],
            "text/plain": [
              "<IPython.core.display.HTML object>"
            ]
          },
          "metadata": {},
          "output_type": "display_data"
        },
        {
          "data": {
            "text/html": [
              " View run <strong style=\"color:#cdcd00\">ac-sigmoid_hs-32_epc-10_nl-5_lr0.001_wd-0_opt-nadam_bs-32_wi-random</strong> at: <a href='https://wandb.ai/bgorai005-iit-madras/deep_learning_assignment_1/runs/yh08ystd' target=\"_blank\">https://wandb.ai/bgorai005-iit-madras/deep_learning_assignment_1/runs/yh08ystd</a><br> View project at: <a href='https://wandb.ai/bgorai005-iit-madras/deep_learning_assignment_1' target=\"_blank\">https://wandb.ai/bgorai005-iit-madras/deep_learning_assignment_1</a><br>Synced 5 W&B file(s), 0 media file(s), 0 artifact file(s) and 0 other file(s)"
            ],
            "text/plain": [
              "<IPython.core.display.HTML object>"
            ]
          },
          "metadata": {},
          "output_type": "display_data"
        },
        {
          "data": {
            "text/html": [
              "Find logs at: <code>./wandb/run-20250309_181124-yh08ystd/logs</code>"
            ],
            "text/plain": [
              "<IPython.core.display.HTML object>"
            ]
          },
          "metadata": {},
          "output_type": "display_data"
        },
        {
          "metadata": {
            "tags": null
          },
          "name": "stderr",
          "output_type": "stream",
          "text": [
            "\u001b[34m\u001b[1mwandb\u001b[0m: Agent Starting Run: 9dk9zvn1 with config:\n",
            "\u001b[34m\u001b[1mwandb\u001b[0m: \tactivation_hidden: tanh\n",
            "\u001b[34m\u001b[1mwandb\u001b[0m: \tactivation_output: softmax\n",
            "\u001b[34m\u001b[1mwandb\u001b[0m: \tbatch_size: 64\n",
            "\u001b[34m\u001b[1mwandb\u001b[0m: \tepochs: 5\n",
            "\u001b[34m\u001b[1mwandb\u001b[0m: \thidden_size: 128\n",
            "\u001b[34m\u001b[1mwandb\u001b[0m: \tlearning_rate: 0.001\n",
            "\u001b[34m\u001b[1mwandb\u001b[0m: \tnum_layers: 3\n",
            "\u001b[34m\u001b[1mwandb\u001b[0m: \toptimizer: momentum\n",
            "\u001b[34m\u001b[1mwandb\u001b[0m: \tweight_decay: 0\n",
            "\u001b[34m\u001b[1mwandb\u001b[0m: \tweight_ini_method: random\n"
          ]
        },
        {
          "data": {
            "text/html": [
              "Tracking run with wandb version 0.19.7"
            ],
            "text/plain": [
              "<IPython.core.display.HTML object>"
            ]
          },
          "metadata": {},
          "output_type": "display_data"
        },
        {
          "data": {
            "text/html": [
              "Run data is saved locally in <code>/content/wandb/run-20250309_181247-9dk9zvn1</code>"
            ],
            "text/plain": [
              "<IPython.core.display.HTML object>"
            ]
          },
          "metadata": {},
          "output_type": "display_data"
        },
        {
          "data": {
            "text/html": [
              "Syncing run <strong><a href='https://wandb.ai/bgorai005-iit-madras/deep_learning_assignment_1/runs/9dk9zvn1' target=\"_blank\">chocolate-sweep-63</a></strong> to <a href='https://wandb.ai/bgorai005-iit-madras/deep_learning_assignment_1' target=\"_blank\">Weights & Biases</a> (<a href='https://wandb.me/developer-guide' target=\"_blank\">docs</a>)<br>Sweep page: <a href='https://wandb.ai/bgorai005-iit-madras/deep_learning_assignment_1/sweeps/xd33zmtu' target=\"_blank\">https://wandb.ai/bgorai005-iit-madras/deep_learning_assignment_1/sweeps/xd33zmtu</a>"
            ],
            "text/plain": [
              "<IPython.core.display.HTML object>"
            ]
          },
          "metadata": {},
          "output_type": "display_data"
        },
        {
          "data": {
            "text/html": [
              " View project at <a href='https://wandb.ai/bgorai005-iit-madras/deep_learning_assignment_1' target=\"_blank\">https://wandb.ai/bgorai005-iit-madras/deep_learning_assignment_1</a>"
            ],
            "text/plain": [
              "<IPython.core.display.HTML object>"
            ]
          },
          "metadata": {},
          "output_type": "display_data"
        },
        {
          "data": {
            "text/html": [
              " View sweep at <a href='https://wandb.ai/bgorai005-iit-madras/deep_learning_assignment_1/sweeps/xd33zmtu' target=\"_blank\">https://wandb.ai/bgorai005-iit-madras/deep_learning_assignment_1/sweeps/xd33zmtu</a>"
            ],
            "text/plain": [
              "<IPython.core.display.HTML object>"
            ]
          },
          "metadata": {},
          "output_type": "display_data"
        },
        {
          "data": {
            "text/html": [
              " View run at <a href='https://wandb.ai/bgorai005-iit-madras/deep_learning_assignment_1/runs/9dk9zvn1' target=\"_blank\">https://wandb.ai/bgorai005-iit-madras/deep_learning_assignment_1/runs/9dk9zvn1</a>"
            ],
            "text/plain": [
              "<IPython.core.display.HTML object>"
            ]
          },
          "metadata": {},
          "output_type": "display_data"
        },
        {
          "metadata": {
            "tags": null
          },
          "name": "stdout",
          "output_type": "stream",
          "text": [
            "[784, 128, 128, 128, 10]\n",
            "Epoch 1, Train Loss: 0.059823075525469054, Val Loss: 0.06113025850342994\n",
            "Epoch 2, Train Loss: 0.05096868440583515, Val Loss: 0.05154238254125775\n",
            "Epoch 3, Train Loss: 0.04277028615869221, Val Loss: 0.04370807954094446\n",
            "Epoch 4, Train Loss: 0.04431570158643021, Val Loss: 0.04539186839225124\n",
            "Epoch 5, Train Loss: 0.06005798975648713, Val Loss: 0.060529092793686214\n",
            "Test accuracy: 0.5263\n"
          ]
        },
        {
          "data": {
            "text/html": [],
            "text/plain": [
              "<IPython.core.display.HTML object>"
            ]
          },
          "metadata": {},
          "output_type": "display_data"
        },
        {
          "data": {
            "text/html": [
              "<br>    <style><br>        .wandb-row {<br>            display: flex;<br>            flex-direction: row;<br>            flex-wrap: wrap;<br>            justify-content: flex-start;<br>            width: 100%;<br>        }<br>        .wandb-col {<br>            display: flex;<br>            flex-direction: column;<br>            flex-basis: 100%;<br>            flex: 1;<br>            padding: 10px;<br>        }<br>    </style><br><div class=\"wandb-row\"><div class=\"wandb-col\"><h3>Run history:</h3><br/><table class=\"wandb\"><tr><td>epoch</td><td>▁▃▅▆█</td></tr><tr><td>train_accuracy</td><td>▃▃▇█▁</td></tr><tr><td>train_loss</td><td>█▄▁▂█</td></tr><tr><td>val_accuracy</td><td>▃▄▇█▁</td></tr><tr><td>val_loss</td><td>█▄▁▂█</td></tr></table><br/></div><div class=\"wandb-col\"><h3>Run summary:</h3><br/><table class=\"wandb\"><tr><td>epoch</td><td>5</td></tr><tr><td>train_accuracy</td><td>52.78704</td></tr><tr><td>train_loss</td><td>0.06006</td></tr><tr><td>val_accuracy</td><td>52.08333</td></tr><tr><td>val_loss</td><td>0.06053</td></tr></table><br/></div></div>"
            ],
            "text/plain": [
              "<IPython.core.display.HTML object>"
            ]
          },
          "metadata": {},
          "output_type": "display_data"
        },
        {
          "data": {
            "text/html": [
              " View run <strong style=\"color:#cdcd00\">ac-tanh_hs-128_epc-5_nl-3_lr0.001_wd-0_opt-momentum_bs-64_wi-random</strong> at: <a href='https://wandb.ai/bgorai005-iit-madras/deep_learning_assignment_1/runs/9dk9zvn1' target=\"_blank\">https://wandb.ai/bgorai005-iit-madras/deep_learning_assignment_1/runs/9dk9zvn1</a><br> View project at: <a href='https://wandb.ai/bgorai005-iit-madras/deep_learning_assignment_1' target=\"_blank\">https://wandb.ai/bgorai005-iit-madras/deep_learning_assignment_1</a><br>Synced 5 W&B file(s), 0 media file(s), 0 artifact file(s) and 0 other file(s)"
            ],
            "text/plain": [
              "<IPython.core.display.HTML object>"
            ]
          },
          "metadata": {},
          "output_type": "display_data"
        },
        {
          "data": {
            "text/html": [
              "Find logs at: <code>./wandb/run-20250309_181247-9dk9zvn1/logs</code>"
            ],
            "text/plain": [
              "<IPython.core.display.HTML object>"
            ]
          },
          "metadata": {},
          "output_type": "display_data"
        },
        {
          "metadata": {
            "tags": null
          },
          "name": "stderr",
          "output_type": "stream",
          "text": [
            "\u001b[34m\u001b[1mwandb\u001b[0m: Sweep Agent: Waiting for job.\n",
            "\u001b[34m\u001b[1mwandb\u001b[0m: Job received.\n",
            "\u001b[34m\u001b[1mwandb\u001b[0m: Agent Starting Run: 9vvxwlcm with config:\n",
            "\u001b[34m\u001b[1mwandb\u001b[0m: \tactivation_hidden: sigmoid\n",
            "\u001b[34m\u001b[1mwandb\u001b[0m: \tactivation_output: softmax\n",
            "\u001b[34m\u001b[1mwandb\u001b[0m: \tbatch_size: 64\n",
            "\u001b[34m\u001b[1mwandb\u001b[0m: \tepochs: 10\n",
            "\u001b[34m\u001b[1mwandb\u001b[0m: \thidden_size: 32\n",
            "\u001b[34m\u001b[1mwandb\u001b[0m: \tlearning_rate: 0.0001\n",
            "\u001b[34m\u001b[1mwandb\u001b[0m: \tnum_layers: 3\n",
            "\u001b[34m\u001b[1mwandb\u001b[0m: \toptimizer: sgd\n",
            "\u001b[34m\u001b[1mwandb\u001b[0m: \tweight_decay: 0\n",
            "\u001b[34m\u001b[1mwandb\u001b[0m: \tweight_ini_method: Xavier\n"
          ]
        },
        {
          "data": {
            "text/html": [
              "Tracking run with wandb version 0.19.7"
            ],
            "text/plain": [
              "<IPython.core.display.HTML object>"
            ]
          },
          "metadata": {},
          "output_type": "display_data"
        },
        {
          "data": {
            "text/html": [
              "Run data is saved locally in <code>/content/wandb/run-20250309_181409-9vvxwlcm</code>"
            ],
            "text/plain": [
              "<IPython.core.display.HTML object>"
            ]
          },
          "metadata": {},
          "output_type": "display_data"
        },
        {
          "data": {
            "text/html": [
              "Syncing run <strong><a href='https://wandb.ai/bgorai005-iit-madras/deep_learning_assignment_1/runs/9vvxwlcm' target=\"_blank\">kind-sweep-64</a></strong> to <a href='https://wandb.ai/bgorai005-iit-madras/deep_learning_assignment_1' target=\"_blank\">Weights & Biases</a> (<a href='https://wandb.me/developer-guide' target=\"_blank\">docs</a>)<br>Sweep page: <a href='https://wandb.ai/bgorai005-iit-madras/deep_learning_assignment_1/sweeps/xd33zmtu' target=\"_blank\">https://wandb.ai/bgorai005-iit-madras/deep_learning_assignment_1/sweeps/xd33zmtu</a>"
            ],
            "text/plain": [
              "<IPython.core.display.HTML object>"
            ]
          },
          "metadata": {},
          "output_type": "display_data"
        },
        {
          "data": {
            "text/html": [
              " View project at <a href='https://wandb.ai/bgorai005-iit-madras/deep_learning_assignment_1' target=\"_blank\">https://wandb.ai/bgorai005-iit-madras/deep_learning_assignment_1</a>"
            ],
            "text/plain": [
              "<IPython.core.display.HTML object>"
            ]
          },
          "metadata": {},
          "output_type": "display_data"
        },
        {
          "data": {
            "text/html": [
              " View sweep at <a href='https://wandb.ai/bgorai005-iit-madras/deep_learning_assignment_1/sweeps/xd33zmtu' target=\"_blank\">https://wandb.ai/bgorai005-iit-madras/deep_learning_assignment_1/sweeps/xd33zmtu</a>"
            ],
            "text/plain": [
              "<IPython.core.display.HTML object>"
            ]
          },
          "metadata": {},
          "output_type": "display_data"
        },
        {
          "data": {
            "text/html": [
              " View run at <a href='https://wandb.ai/bgorai005-iit-madras/deep_learning_assignment_1/runs/9vvxwlcm' target=\"_blank\">https://wandb.ai/bgorai005-iit-madras/deep_learning_assignment_1/runs/9vvxwlcm</a>"
            ],
            "text/plain": [
              "<IPython.core.display.HTML object>"
            ]
          },
          "metadata": {},
          "output_type": "display_data"
        },
        {
          "metadata": {
            "tags": null
          },
          "name": "stdout",
          "output_type": "stream",
          "text": [
            "[784, 32, 32, 32, 10]\n",
            "Epoch 1, Train Loss: 0.08973580407070877, Val Loss: 0.08975045305046263\n",
            "Epoch 2, Train Loss: 0.08945094999631592, Val Loss: 0.08946852634206276\n",
            "Epoch 3, Train Loss: 0.08909106993200973, Val Loss: 0.08912023145126173\n",
            "Epoch 4, Train Loss: 0.08857213594581319, Val Loss: 0.08860017263876456\n",
            "Epoch 5, Train Loss: 0.08774778979024925, Val Loss: 0.08779435042293081\n",
            "Epoch 6, Train Loss: 0.0863970877509716, Val Loss: 0.08645842249469168\n",
            "Epoch 7, Train Loss: 0.08408602544233239, Val Loss: 0.08418075871081518\n",
            "Epoch 8, Train Loss: 0.08063073431341347, Val Loss: 0.08078311261293998\n",
            "Epoch 9, Train Loss: 0.07646156258607907, Val Loss: 0.07667994350928138\n",
            "Epoch 10, Train Loss: 0.07254283837750386, Val Loss: 0.07278065533392875\n",
            "Test Accuracy: 50.32\n"
          ]
        },
        {
          "data": {
            "text/html": [],
            "text/plain": [
              "<IPython.core.display.HTML object>"
            ]
          },
          "metadata": {},
          "output_type": "display_data"
        },
        {
          "data": {
            "text/html": [
              " View run <strong style=\"color:#cdcd00\">ac-sigmoid_hs-32_epc-10_nl-3_lr0.0001_wd-0_opt-sgd_bs-64_wi-Xavier</strong> at: <a href='https://wandb.ai/bgorai005-iit-madras/deep_learning_assignment_1/runs/9vvxwlcm' target=\"_blank\">https://wandb.ai/bgorai005-iit-madras/deep_learning_assignment_1/runs/9vvxwlcm</a><br> View project at: <a href='https://wandb.ai/bgorai005-iit-madras/deep_learning_assignment_1' target=\"_blank\">https://wandb.ai/bgorai005-iit-madras/deep_learning_assignment_1</a><br>Synced 5 W&B file(s), 0 media file(s), 0 artifact file(s) and 0 other file(s)"
            ],
            "text/plain": [
              "<IPython.core.display.HTML object>"
            ]
          },
          "metadata": {},
          "output_type": "display_data"
        },
        {
          "data": {
            "text/html": [
              "Find logs at: <code>./wandb/run-20250309_181409-9vvxwlcm/logs</code>"
            ],
            "text/plain": [
              "<IPython.core.display.HTML object>"
            ]
          },
          "metadata": {},
          "output_type": "display_data"
        },
        {
          "metadata": {
            "tags": null
          },
          "name": "stderr",
          "output_type": "stream",
          "text": [
            "\u001b[34m\u001b[1mwandb\u001b[0m: Agent Starting Run: l1dtuowf with config:\n",
            "\u001b[34m\u001b[1mwandb\u001b[0m: \tactivation_hidden: relu\n",
            "\u001b[34m\u001b[1mwandb\u001b[0m: \tactivation_output: softmax\n",
            "\u001b[34m\u001b[1mwandb\u001b[0m: \tbatch_size: 32\n",
            "\u001b[34m\u001b[1mwandb\u001b[0m: \tepochs: 10\n",
            "\u001b[34m\u001b[1mwandb\u001b[0m: \thidden_size: 128\n",
            "\u001b[34m\u001b[1mwandb\u001b[0m: \tlearning_rate: 0.001\n",
            "\u001b[34m\u001b[1mwandb\u001b[0m: \tnum_layers: 5\n",
            "\u001b[34m\u001b[1mwandb\u001b[0m: \toptimizer: adam\n",
            "\u001b[34m\u001b[1mwandb\u001b[0m: \tweight_decay: 0\n",
            "\u001b[34m\u001b[1mwandb\u001b[0m: \tweight_ini_method: Xavier\n"
          ]
        },
        {
          "data": {
            "text/html": [
              "Tracking run with wandb version 0.19.7"
            ],
            "text/plain": [
              "<IPython.core.display.HTML object>"
            ]
          },
          "metadata": {},
          "output_type": "display_data"
        },
        {
          "data": {
            "text/html": [
              "Run data is saved locally in <code>/content/wandb/run-20250309_181451-l1dtuowf</code>"
            ],
            "text/plain": [
              "<IPython.core.display.HTML object>"
            ]
          },
          "metadata": {},
          "output_type": "display_data"
        },
        {
          "data": {
            "text/html": [
              "Syncing run <strong><a href='https://wandb.ai/bgorai005-iit-madras/deep_learning_assignment_1/runs/l1dtuowf' target=\"_blank\">devoted-sweep-65</a></strong> to <a href='https://wandb.ai/bgorai005-iit-madras/deep_learning_assignment_1' target=\"_blank\">Weights & Biases</a> (<a href='https://wandb.me/developer-guide' target=\"_blank\">docs</a>)<br>Sweep page: <a href='https://wandb.ai/bgorai005-iit-madras/deep_learning_assignment_1/sweeps/xd33zmtu' target=\"_blank\">https://wandb.ai/bgorai005-iit-madras/deep_learning_assignment_1/sweeps/xd33zmtu</a>"
            ],
            "text/plain": [
              "<IPython.core.display.HTML object>"
            ]
          },
          "metadata": {},
          "output_type": "display_data"
        },
        {
          "data": {
            "text/html": [
              " View project at <a href='https://wandb.ai/bgorai005-iit-madras/deep_learning_assignment_1' target=\"_blank\">https://wandb.ai/bgorai005-iit-madras/deep_learning_assignment_1</a>"
            ],
            "text/plain": [
              "<IPython.core.display.HTML object>"
            ]
          },
          "metadata": {},
          "output_type": "display_data"
        },
        {
          "data": {
            "text/html": [
              " View sweep at <a href='https://wandb.ai/bgorai005-iit-madras/deep_learning_assignment_1/sweeps/xd33zmtu' target=\"_blank\">https://wandb.ai/bgorai005-iit-madras/deep_learning_assignment_1/sweeps/xd33zmtu</a>"
            ],
            "text/plain": [
              "<IPython.core.display.HTML object>"
            ]
          },
          "metadata": {},
          "output_type": "display_data"
        },
        {
          "data": {
            "text/html": [
              " View run at <a href='https://wandb.ai/bgorai005-iit-madras/deep_learning_assignment_1/runs/l1dtuowf' target=\"_blank\">https://wandb.ai/bgorai005-iit-madras/deep_learning_assignment_1/runs/l1dtuowf</a>"
            ],
            "text/plain": [
              "<IPython.core.display.HTML object>"
            ]
          },
          "metadata": {},
          "output_type": "display_data"
        },
        {
          "metadata": {
            "tags": null
          },
          "name": "stdout",
          "output_type": "stream",
          "text": [
            "[784, 128, 128, 128, 128, 128, 10]\n",
            "Epoch 1, Train Loss: 0.01967321160808731, Val Loss: 0.02094712028696796\n",
            "Epoch 2, Train Loss: 0.017966966994607873, Val Loss: 0.019357111907980125\n",
            "Epoch 3, Train Loss: 0.01838034750328821, Val Loss: 0.020786806356504935\n",
            "Epoch 4, Train Loss: 0.016042716054080478, Val Loss: 0.018653974515640447\n",
            "Epoch 5, Train Loss: 0.013855206615312907, Val Loss: 0.01697513379971313\n",
            "Epoch 6, Train Loss: 0.013366757606611003, Val Loss: 0.017083115109143353\n",
            "Epoch 7, Train Loss: 0.012808875856619013, Val Loss: 0.016913324941998112\n",
            "Epoch 8, Train Loss: 0.013152446956629149, Val Loss: 0.01757931641054921\n",
            "Epoch 9, Train Loss: 0.011125865237376503, Val Loss: 0.016225691812045837\n",
            "Epoch 10, Train Loss: 0.010988983500961495, Val Loss: 0.01568242976959169\n",
            "Test accuracy: 0.8846\n"
          ]
        },
        {
          "data": {
            "text/html": [],
            "text/plain": [
              "<IPython.core.display.HTML object>"
            ]
          },
          "metadata": {},
          "output_type": "display_data"
        },
        {
          "data": {
            "text/html": [
              "<br>    <style><br>        .wandb-row {<br>            display: flex;<br>            flex-direction: row;<br>            flex-wrap: wrap;<br>            justify-content: flex-start;<br>            width: 100%;<br>        }<br>        .wandb-col {<br>            display: flex;<br>            flex-direction: column;<br>            flex-basis: 100%;<br>            flex: 1;<br>            padding: 10px;<br>        }<br>    </style><br><div class=\"wandb-row\"><div class=\"wandb-col\"><h3>Run history:</h3><br/><table class=\"wandb\"><tr><td>epoch</td><td>▁▂▃▃▄▅▆▆▇█</td></tr><tr><td>train_accuracy</td><td>▁▂▂▄▆▆▇▆██</td></tr><tr><td>train_loss</td><td>█▇▇▅▃▃▂▃▁▁</td></tr><tr><td>val_accuracy</td><td>▁▃▂▅▆▆▇▅██</td></tr><tr><td>val_loss</td><td>█▆█▅▃▃▃▄▂▁</td></tr></table><br/></div><div class=\"wandb-col\"><h3>Run summary:</h3><br/><table class=\"wandb\"><tr><td>epoch</td><td>10</td></tr><tr><td>train_accuracy</td><td>92.22037</td></tr><tr><td>train_loss</td><td>0.01099</td></tr><tr><td>val_accuracy</td><td>89.25</td></tr><tr><td>val_loss</td><td>0.01568</td></tr></table><br/></div></div>"
            ],
            "text/plain": [
              "<IPython.core.display.HTML object>"
            ]
          },
          "metadata": {},
          "output_type": "display_data"
        },
        {
          "data": {
            "text/html": [
              " View run <strong style=\"color:#cdcd00\">ac-relu_hs-128_epc-10_nl-5_lr0.001_wd-0_opt-adam_bs-32_wi-Xavier</strong> at: <a href='https://wandb.ai/bgorai005-iit-madras/deep_learning_assignment_1/runs/l1dtuowf' target=\"_blank\">https://wandb.ai/bgorai005-iit-madras/deep_learning_assignment_1/runs/l1dtuowf</a><br> View project at: <a href='https://wandb.ai/bgorai005-iit-madras/deep_learning_assignment_1' target=\"_blank\">https://wandb.ai/bgorai005-iit-madras/deep_learning_assignment_1</a><br>Synced 5 W&B file(s), 0 media file(s), 0 artifact file(s) and 0 other file(s)"
            ],
            "text/plain": [
              "<IPython.core.display.HTML object>"
            ]
          },
          "metadata": {},
          "output_type": "display_data"
        },
        {
          "data": {
            "text/html": [
              "Find logs at: <code>./wandb/run-20250309_181451-l1dtuowf/logs</code>"
            ],
            "text/plain": [
              "<IPython.core.display.HTML object>"
            ]
          },
          "metadata": {},
          "output_type": "display_data"
        },
        {
          "metadata": {
            "tags": null
          },
          "name": "stderr",
          "output_type": "stream",
          "text": [
            "\u001b[34m\u001b[1mwandb\u001b[0m: Agent Starting Run: oomngglv with config:\n",
            "\u001b[34m\u001b[1mwandb\u001b[0m: \tactivation_hidden: tanh\n",
            "\u001b[34m\u001b[1mwandb\u001b[0m: \tactivation_output: softmax\n",
            "\u001b[34m\u001b[1mwandb\u001b[0m: \tbatch_size: 64\n",
            "\u001b[34m\u001b[1mwandb\u001b[0m: \tepochs: 10\n",
            "\u001b[34m\u001b[1mwandb\u001b[0m: \thidden_size: 128\n",
            "\u001b[34m\u001b[1mwandb\u001b[0m: \tlearning_rate: 0.001\n",
            "\u001b[34m\u001b[1mwandb\u001b[0m: \tnum_layers: 4\n",
            "\u001b[34m\u001b[1mwandb\u001b[0m: \toptimizer: adam\n",
            "\u001b[34m\u001b[1mwandb\u001b[0m: \tweight_decay: 0\n",
            "\u001b[34m\u001b[1mwandb\u001b[0m: \tweight_ini_method: Xavier\n"
          ]
        },
        {
          "data": {
            "text/html": [
              "Tracking run with wandb version 0.19.7"
            ],
            "text/plain": [
              "<IPython.core.display.HTML object>"
            ]
          },
          "metadata": {},
          "output_type": "display_data"
        },
        {
          "data": {
            "text/html": [
              "Run data is saved locally in <code>/content/wandb/run-20250309_181832-oomngglv</code>"
            ],
            "text/plain": [
              "<IPython.core.display.HTML object>"
            ]
          },
          "metadata": {},
          "output_type": "display_data"
        },
        {
          "data": {
            "text/html": [
              "Syncing run <strong><a href='https://wandb.ai/bgorai005-iit-madras/deep_learning_assignment_1/runs/oomngglv' target=\"_blank\">divine-sweep-66</a></strong> to <a href='https://wandb.ai/bgorai005-iit-madras/deep_learning_assignment_1' target=\"_blank\">Weights & Biases</a> (<a href='https://wandb.me/developer-guide' target=\"_blank\">docs</a>)<br>Sweep page: <a href='https://wandb.ai/bgorai005-iit-madras/deep_learning_assignment_1/sweeps/xd33zmtu' target=\"_blank\">https://wandb.ai/bgorai005-iit-madras/deep_learning_assignment_1/sweeps/xd33zmtu</a>"
            ],
            "text/plain": [
              "<IPython.core.display.HTML object>"
            ]
          },
          "metadata": {},
          "output_type": "display_data"
        },
        {
          "data": {
            "text/html": [
              " View project at <a href='https://wandb.ai/bgorai005-iit-madras/deep_learning_assignment_1' target=\"_blank\">https://wandb.ai/bgorai005-iit-madras/deep_learning_assignment_1</a>"
            ],
            "text/plain": [
              "<IPython.core.display.HTML object>"
            ]
          },
          "metadata": {},
          "output_type": "display_data"
        },
        {
          "data": {
            "text/html": [
              " View sweep at <a href='https://wandb.ai/bgorai005-iit-madras/deep_learning_assignment_1/sweeps/xd33zmtu' target=\"_blank\">https://wandb.ai/bgorai005-iit-madras/deep_learning_assignment_1/sweeps/xd33zmtu</a>"
            ],
            "text/plain": [
              "<IPython.core.display.HTML object>"
            ]
          },
          "metadata": {},
          "output_type": "display_data"
        },
        {
          "data": {
            "text/html": [
              " View run at <a href='https://wandb.ai/bgorai005-iit-madras/deep_learning_assignment_1/runs/oomngglv' target=\"_blank\">https://wandb.ai/bgorai005-iit-madras/deep_learning_assignment_1/runs/oomngglv</a>"
            ],
            "text/plain": [
              "<IPython.core.display.HTML object>"
            ]
          },
          "metadata": {},
          "output_type": "display_data"
        },
        {
          "metadata": {
            "tags": null
          },
          "name": "stdout",
          "output_type": "stream",
          "text": [
            "[784, 128, 128, 128, 128, 10]\n",
            "Epoch 1, Train Loss: 0.019400405113718953, Val Loss: 0.02048245395424866\n",
            "Epoch 2, Train Loss: 0.01713517848768843, Val Loss: 0.01857299227846812\n",
            "Epoch 3, Train Loss: 0.015911058664996564, Val Loss: 0.017811824346449054\n",
            "Epoch 4, Train Loss: 0.013993237657236477, Val Loss: 0.016452210292880694\n",
            "Epoch 5, Train Loss: 0.013643546895804772, Val Loss: 0.016150477048810064\n",
            "Epoch 6, Train Loss: 0.013513075586474986, Val Loss: 0.01671671947402096\n",
            "Epoch 7, Train Loss: 0.011843248394233813, Val Loss: 0.015651052413107536\n",
            "Epoch 8, Train Loss: 0.01155175308872502, Val Loss: 0.01615049538613931\n",
            "Epoch 9, Train Loss: 0.011480017003988608, Val Loss: 0.016240202359246787\n",
            "Epoch 10, Train Loss: 0.01075944848538, Val Loss: 0.01595115507390142\n",
            "Test accuracy: 0.8842\n"
          ]
        },
        {
          "data": {
            "text/html": [],
            "text/plain": [
              "<IPython.core.display.HTML object>"
            ]
          },
          "metadata": {},
          "output_type": "display_data"
        },
        {
          "data": {
            "text/html": [
              "<br>    <style><br>        .wandb-row {<br>            display: flex;<br>            flex-direction: row;<br>            flex-wrap: wrap;<br>            justify-content: flex-start;<br>            width: 100%;<br>        }<br>        .wandb-col {<br>            display: flex;<br>            flex-direction: column;<br>            flex-basis: 100%;<br>            flex: 1;<br>            padding: 10px;<br>        }<br>    </style><br><div class=\"wandb-row\"><div class=\"wandb-col\"><h3>Run history:</h3><br/><table class=\"wandb\"><tr><td>epoch</td><td>▁▂▃▃▄▅▆▆▇█</td></tr><tr><td>train_accuracy</td><td>▁▃▄▅▆▆▇▇▇█</td></tr><tr><td>train_loss</td><td>█▆▅▄▃▃▂▂▂▁</td></tr><tr><td>val_accuracy</td><td>▁▄▅▆▇▇█▇█▇</td></tr><tr><td>val_loss</td><td>█▅▄▂▂▃▁▂▂▁</td></tr></table><br/></div><div class=\"wandb-col\"><h3>Run summary:</h3><br/><table class=\"wandb\"><tr><td>epoch</td><td>10</td></tr><tr><td>train_accuracy</td><td>92.6</td></tr><tr><td>train_loss</td><td>0.01076</td></tr><tr><td>val_accuracy</td><td>88.76667</td></tr><tr><td>val_loss</td><td>0.01595</td></tr></table><br/></div></div>"
            ],
            "text/plain": [
              "<IPython.core.display.HTML object>"
            ]
          },
          "metadata": {},
          "output_type": "display_data"
        },
        {
          "data": {
            "text/html": [
              " View run <strong style=\"color:#cdcd00\">ac-tanh_hs-128_epc-10_nl-4_lr0.001_wd-0_opt-adam_bs-64_wi-Xavier</strong> at: <a href='https://wandb.ai/bgorai005-iit-madras/deep_learning_assignment_1/runs/oomngglv' target=\"_blank\">https://wandb.ai/bgorai005-iit-madras/deep_learning_assignment_1/runs/oomngglv</a><br> View project at: <a href='https://wandb.ai/bgorai005-iit-madras/deep_learning_assignment_1' target=\"_blank\">https://wandb.ai/bgorai005-iit-madras/deep_learning_assignment_1</a><br>Synced 5 W&B file(s), 0 media file(s), 0 artifact file(s) and 0 other file(s)"
            ],
            "text/plain": [
              "<IPython.core.display.HTML object>"
            ]
          },
          "metadata": {},
          "output_type": "display_data"
        },
        {
          "data": {
            "text/html": [
              "Find logs at: <code>./wandb/run-20250309_181832-oomngglv/logs</code>"
            ],
            "text/plain": [
              "<IPython.core.display.HTML object>"
            ]
          },
          "metadata": {},
          "output_type": "display_data"
        },
        {
          "metadata": {
            "tags": null
          },
          "name": "stderr",
          "output_type": "stream",
          "text": [
            "\u001b[34m\u001b[1mwandb\u001b[0m: Sweep Agent: Waiting for job.\n",
            "\u001b[34m\u001b[1mwandb\u001b[0m: Job received.\n",
            "\u001b[34m\u001b[1mwandb\u001b[0m: Agent Starting Run: 5kej6iyn with config:\n",
            "\u001b[34m\u001b[1mwandb\u001b[0m: \tactivation_hidden: sigmoid\n",
            "\u001b[34m\u001b[1mwandb\u001b[0m: \tactivation_output: softmax\n",
            "\u001b[34m\u001b[1mwandb\u001b[0m: \tbatch_size: 64\n",
            "\u001b[34m\u001b[1mwandb\u001b[0m: \tepochs: 5\n",
            "\u001b[34m\u001b[1mwandb\u001b[0m: \thidden_size: 32\n",
            "\u001b[34m\u001b[1mwandb\u001b[0m: \tlearning_rate: 0.001\n",
            "\u001b[34m\u001b[1mwandb\u001b[0m: \tnum_layers: 3\n",
            "\u001b[34m\u001b[1mwandb\u001b[0m: \toptimizer: RMSprop\n",
            "\u001b[34m\u001b[1mwandb\u001b[0m: \tweight_decay: 0\n",
            "\u001b[34m\u001b[1mwandb\u001b[0m: \tweight_ini_method: Xavier\n"
          ]
        },
        {
          "data": {
            "text/html": [
              "Tracking run with wandb version 0.19.7"
            ],
            "text/plain": [
              "<IPython.core.display.HTML object>"
            ]
          },
          "metadata": {},
          "output_type": "display_data"
        },
        {
          "data": {
            "text/html": [
              "Run data is saved locally in <code>/content/wandb/run-20250309_182208-5kej6iyn</code>"
            ],
            "text/plain": [
              "<IPython.core.display.HTML object>"
            ]
          },
          "metadata": {},
          "output_type": "display_data"
        },
        {
          "data": {
            "text/html": [
              "Syncing run <strong><a href='https://wandb.ai/bgorai005-iit-madras/deep_learning_assignment_1/runs/5kej6iyn' target=\"_blank\">ethereal-sweep-67</a></strong> to <a href='https://wandb.ai/bgorai005-iit-madras/deep_learning_assignment_1' target=\"_blank\">Weights & Biases</a> (<a href='https://wandb.me/developer-guide' target=\"_blank\">docs</a>)<br>Sweep page: <a href='https://wandb.ai/bgorai005-iit-madras/deep_learning_assignment_1/sweeps/xd33zmtu' target=\"_blank\">https://wandb.ai/bgorai005-iit-madras/deep_learning_assignment_1/sweeps/xd33zmtu</a>"
            ],
            "text/plain": [
              "<IPython.core.display.HTML object>"
            ]
          },
          "metadata": {},
          "output_type": "display_data"
        },
        {
          "data": {
            "text/html": [
              " View project at <a href='https://wandb.ai/bgorai005-iit-madras/deep_learning_assignment_1' target=\"_blank\">https://wandb.ai/bgorai005-iit-madras/deep_learning_assignment_1</a>"
            ],
            "text/plain": [
              "<IPython.core.display.HTML object>"
            ]
          },
          "metadata": {},
          "output_type": "display_data"
        },
        {
          "data": {
            "text/html": [
              " View sweep at <a href='https://wandb.ai/bgorai005-iit-madras/deep_learning_assignment_1/sweeps/xd33zmtu' target=\"_blank\">https://wandb.ai/bgorai005-iit-madras/deep_learning_assignment_1/sweeps/xd33zmtu</a>"
            ],
            "text/plain": [
              "<IPython.core.display.HTML object>"
            ]
          },
          "metadata": {},
          "output_type": "display_data"
        },
        {
          "data": {
            "text/html": [
              " View run at <a href='https://wandb.ai/bgorai005-iit-madras/deep_learning_assignment_1/runs/5kej6iyn' target=\"_blank\">https://wandb.ai/bgorai005-iit-madras/deep_learning_assignment_1/runs/5kej6iyn</a>"
            ],
            "text/plain": [
              "<IPython.core.display.HTML object>"
            ]
          },
          "metadata": {},
          "output_type": "display_data"
        },
        {
          "metadata": {
            "tags": null
          },
          "name": "stdout",
          "output_type": "stream",
          "text": [
            "[784, 32, 32, 32, 10]\n",
            "Epoch 1, Loss: 0.13463285088675783, Validation Loss: 0.032906886169408\n",
            "Epoch 2, Loss: 0.14931556937285725, Validation Loss: 0.026401337467223278\n",
            "Epoch 3, Loss: 0.15369129318971225, Validation Loss: 0.02311874463508396\n",
            "Epoch 4, Loss: 0.15774432608642164, Validation Loss: 0.021198479857582865\n",
            "Epoch 5, Loss: 0.16028667590260195, Validation Loss: 0.020764633165018885\n",
            "Test accuracy: 0.8493\n"
          ]
        },
        {
          "data": {
            "text/html": [],
            "text/plain": [
              "<IPython.core.display.HTML object>"
            ]
          },
          "metadata": {},
          "output_type": "display_data"
        },
        {
          "data": {
            "text/html": [
              "<br>    <style><br>        .wandb-row {<br>            display: flex;<br>            flex-direction: row;<br>            flex-wrap: wrap;<br>            justify-content: flex-start;<br>            width: 100%;<br>        }<br>        .wandb-col {<br>            display: flex;<br>            flex-direction: column;<br>            flex-basis: 100%;<br>            flex: 1;<br>            padding: 10px;<br>        }<br>    </style><br><div class=\"wandb-row\"><div class=\"wandb-col\"><h3>Run history:</h3><br/><table class=\"wandb\"><tr><td>epoch</td><td>▁▃▅▆█</td></tr><tr><td>train_accuracy</td><td>▁▄▇██</td></tr><tr><td>train_loss</td><td>▁▅▆▇█</td></tr><tr><td>val_accuracy</td><td>▁▄▇██</td></tr><tr><td>val_loss</td><td>█▄▂▁▁</td></tr></table><br/></div><div class=\"wandb-col\"><h3>Run summary:</h3><br/><table class=\"wandb\"><tr><td>epoch</td><td>5</td></tr><tr><td>train_accuracy</td><td>86.73519</td></tr><tr><td>train_loss</td><td>0.16029</td></tr><tr><td>val_accuracy</td><td>85.6</td></tr><tr><td>val_loss</td><td>0.02076</td></tr></table><br/></div></div>"
            ],
            "text/plain": [
              "<IPython.core.display.HTML object>"
            ]
          },
          "metadata": {},
          "output_type": "display_data"
        },
        {
          "data": {
            "text/html": [
              " View run <strong style=\"color:#cdcd00\">ac-sigmoid_hs-32_epc-5_nl-3_lr0.001_wd-0_opt-RMSprop_bs-64_wi-Xavier</strong> at: <a href='https://wandb.ai/bgorai005-iit-madras/deep_learning_assignment_1/runs/5kej6iyn' target=\"_blank\">https://wandb.ai/bgorai005-iit-madras/deep_learning_assignment_1/runs/5kej6iyn</a><br> View project at: <a href='https://wandb.ai/bgorai005-iit-madras/deep_learning_assignment_1' target=\"_blank\">https://wandb.ai/bgorai005-iit-madras/deep_learning_assignment_1</a><br>Synced 5 W&B file(s), 0 media file(s), 0 artifact file(s) and 0 other file(s)"
            ],
            "text/plain": [
              "<IPython.core.display.HTML object>"
            ]
          },
          "metadata": {},
          "output_type": "display_data"
        },
        {
          "data": {
            "text/html": [
              "Find logs at: <code>./wandb/run-20250309_182208-5kej6iyn/logs</code>"
            ],
            "text/plain": [
              "<IPython.core.display.HTML object>"
            ]
          },
          "metadata": {},
          "output_type": "display_data"
        },
        {
          "metadata": {
            "tags": null
          },
          "name": "stderr",
          "output_type": "stream",
          "text": [
            "\u001b[34m\u001b[1mwandb\u001b[0m: Agent Starting Run: nd4jwlw1 with config:\n",
            "\u001b[34m\u001b[1mwandb\u001b[0m: \tactivation_hidden: sigmoid\n",
            "\u001b[34m\u001b[1mwandb\u001b[0m: \tactivation_output: softmax\n",
            "\u001b[34m\u001b[1mwandb\u001b[0m: \tbatch_size: 64\n",
            "\u001b[34m\u001b[1mwandb\u001b[0m: \tepochs: 10\n",
            "\u001b[34m\u001b[1mwandb\u001b[0m: \thidden_size: 32\n",
            "\u001b[34m\u001b[1mwandb\u001b[0m: \tlearning_rate: 0.001\n",
            "\u001b[34m\u001b[1mwandb\u001b[0m: \tnum_layers: 4\n",
            "\u001b[34m\u001b[1mwandb\u001b[0m: \toptimizer: adam\n",
            "\u001b[34m\u001b[1mwandb\u001b[0m: \tweight_decay: 0\n",
            "\u001b[34m\u001b[1mwandb\u001b[0m: \tweight_ini_method: Xavier\n"
          ]
        },
        {
          "data": {
            "text/html": [
              "Tracking run with wandb version 0.19.7"
            ],
            "text/plain": [
              "<IPython.core.display.HTML object>"
            ]
          },
          "metadata": {},
          "output_type": "display_data"
        },
        {
          "data": {
            "text/html": [
              "Run data is saved locally in <code>/content/wandb/run-20250309_182234-nd4jwlw1</code>"
            ],
            "text/plain": [
              "<IPython.core.display.HTML object>"
            ]
          },
          "metadata": {},
          "output_type": "display_data"
        },
        {
          "data": {
            "text/html": [
              "Syncing run <strong><a href='https://wandb.ai/bgorai005-iit-madras/deep_learning_assignment_1/runs/nd4jwlw1' target=\"_blank\">kind-sweep-68</a></strong> to <a href='https://wandb.ai/bgorai005-iit-madras/deep_learning_assignment_1' target=\"_blank\">Weights & Biases</a> (<a href='https://wandb.me/developer-guide' target=\"_blank\">docs</a>)<br>Sweep page: <a href='https://wandb.ai/bgorai005-iit-madras/deep_learning_assignment_1/sweeps/xd33zmtu' target=\"_blank\">https://wandb.ai/bgorai005-iit-madras/deep_learning_assignment_1/sweeps/xd33zmtu</a>"
            ],
            "text/plain": [
              "<IPython.core.display.HTML object>"
            ]
          },
          "metadata": {},
          "output_type": "display_data"
        },
        {
          "data": {
            "text/html": [
              " View project at <a href='https://wandb.ai/bgorai005-iit-madras/deep_learning_assignment_1' target=\"_blank\">https://wandb.ai/bgorai005-iit-madras/deep_learning_assignment_1</a>"
            ],
            "text/plain": [
              "<IPython.core.display.HTML object>"
            ]
          },
          "metadata": {},
          "output_type": "display_data"
        },
        {
          "data": {
            "text/html": [
              " View sweep at <a href='https://wandb.ai/bgorai005-iit-madras/deep_learning_assignment_1/sweeps/xd33zmtu' target=\"_blank\">https://wandb.ai/bgorai005-iit-madras/deep_learning_assignment_1/sweeps/xd33zmtu</a>"
            ],
            "text/plain": [
              "<IPython.core.display.HTML object>"
            ]
          },
          "metadata": {},
          "output_type": "display_data"
        },
        {
          "data": {
            "text/html": [
              " View run at <a href='https://wandb.ai/bgorai005-iit-madras/deep_learning_assignment_1/runs/nd4jwlw1' target=\"_blank\">https://wandb.ai/bgorai005-iit-madras/deep_learning_assignment_1/runs/nd4jwlw1</a>"
            ],
            "text/plain": [
              "<IPython.core.display.HTML object>"
            ]
          },
          "metadata": {},
          "output_type": "display_data"
        },
        {
          "metadata": {
            "tags": null
          },
          "name": "stdout",
          "output_type": "stream",
          "text": [
            "[784, 32, 32, 32, 32, 10]\n",
            "Epoch 1, Train Loss: 0.03372452613455897, Val Loss: 0.03487913514510839\n",
            "Epoch 2, Train Loss: 0.025611358752502426, Val Loss: 0.026600490215819724\n",
            "Epoch 3, Train Loss: 0.022525484119644654, Val Loss: 0.023755194655793562\n",
            "Epoch 4, Train Loss: 0.020638492877591747, Val Loss: 0.02174399399124132\n",
            "Epoch 5, Train Loss: 0.01989008971201433, Val Loss: 0.021076976357728778\n",
            "Epoch 6, Train Loss: 0.019182059047430026, Val Loss: 0.020562172793276427\n",
            "Epoch 7, Train Loss: 0.018346921062325085, Val Loss: 0.019829167776269377\n",
            "Epoch 8, Train Loss: 0.01785818471513056, Val Loss: 0.019418881919678603\n",
            "Epoch 9, Train Loss: 0.017440282839369665, Val Loss: 0.01915852171461736\n",
            "Epoch 10, Train Loss: 0.017254718021919885, Val Loss: 0.019156209632721344\n",
            "Test accuracy: 0.8581\n"
          ]
        },
        {
          "data": {
            "text/html": [],
            "text/plain": [
              "<IPython.core.display.HTML object>"
            ]
          },
          "metadata": {},
          "output_type": "display_data"
        },
        {
          "data": {
            "text/html": [
              "<br>    <style><br>        .wandb-row {<br>            display: flex;<br>            flex-direction: row;<br>            flex-wrap: wrap;<br>            justify-content: flex-start;<br>            width: 100%;<br>        }<br>        .wandb-col {<br>            display: flex;<br>            flex-direction: column;<br>            flex-basis: 100%;<br>            flex: 1;<br>            padding: 10px;<br>        }<br>    </style><br><div class=\"wandb-row\"><div class=\"wandb-col\"><h3>Run history:</h3><br/><table class=\"wandb\"><tr><td>epoch</td><td>▁▂▃▃▄▅▆▆▇█</td></tr><tr><td>train_accuracy</td><td>▁▅▆▇▇▇████</td></tr><tr><td>train_loss</td><td>█▅▃▂▂▂▁▁▁▁</td></tr><tr><td>val_accuracy</td><td>▁▅▆▇▇▇████</td></tr><tr><td>val_loss</td><td>█▄▃▂▂▂▁▁▁▁</td></tr></table><br/></div><div class=\"wandb-col\"><h3>Run summary:</h3><br/><table class=\"wandb\"><tr><td>epoch</td><td>10</td></tr><tr><td>train_accuracy</td><td>88.07222</td></tr><tr><td>train_loss</td><td>0.01725</td></tr><tr><td>val_accuracy</td><td>86.73333</td></tr><tr><td>val_loss</td><td>0.01916</td></tr></table><br/></div></div>"
            ],
            "text/plain": [
              "<IPython.core.display.HTML object>"
            ]
          },
          "metadata": {},
          "output_type": "display_data"
        },
        {
          "data": {
            "text/html": [
              " View run <strong style=\"color:#cdcd00\">ac-sigmoid_hs-32_epc-10_nl-4_lr0.001_wd-0_opt-adam_bs-64_wi-Xavier</strong> at: <a href='https://wandb.ai/bgorai005-iit-madras/deep_learning_assignment_1/runs/nd4jwlw1' target=\"_blank\">https://wandb.ai/bgorai005-iit-madras/deep_learning_assignment_1/runs/nd4jwlw1</a><br> View project at: <a href='https://wandb.ai/bgorai005-iit-madras/deep_learning_assignment_1' target=\"_blank\">https://wandb.ai/bgorai005-iit-madras/deep_learning_assignment_1</a><br>Synced 5 W&B file(s), 0 media file(s), 0 artifact file(s) and 0 other file(s)"
            ],
            "text/plain": [
              "<IPython.core.display.HTML object>"
            ]
          },
          "metadata": {},
          "output_type": "display_data"
        },
        {
          "data": {
            "text/html": [
              "Find logs at: <code>./wandb/run-20250309_182234-nd4jwlw1/logs</code>"
            ],
            "text/plain": [
              "<IPython.core.display.HTML object>"
            ]
          },
          "metadata": {},
          "output_type": "display_data"
        },
        {
          "metadata": {
            "tags": null
          },
          "name": "stderr",
          "output_type": "stream",
          "text": [
            "\u001b[34m\u001b[1mwandb\u001b[0m: Sweep Agent: Waiting for job.\n",
            "\u001b[34m\u001b[1mwandb\u001b[0m: Job received.\n",
            "\u001b[34m\u001b[1mwandb\u001b[0m: Agent Starting Run: vsp6fnz5 with config:\n",
            "\u001b[34m\u001b[1mwandb\u001b[0m: \tactivation_hidden: tanh\n",
            "\u001b[34m\u001b[1mwandb\u001b[0m: \tactivation_output: softmax\n",
            "\u001b[34m\u001b[1mwandb\u001b[0m: \tbatch_size: 16\n",
            "\u001b[34m\u001b[1mwandb\u001b[0m: \tepochs: 10\n",
            "\u001b[34m\u001b[1mwandb\u001b[0m: \thidden_size: 64\n",
            "\u001b[34m\u001b[1mwandb\u001b[0m: \tlearning_rate: 0.001\n",
            "\u001b[34m\u001b[1mwandb\u001b[0m: \tnum_layers: 3\n",
            "\u001b[34m\u001b[1mwandb\u001b[0m: \toptimizer: nag\n",
            "\u001b[34m\u001b[1mwandb\u001b[0m: \tweight_decay: 0\n",
            "\u001b[34m\u001b[1mwandb\u001b[0m: \tweight_ini_method: random\n"
          ]
        },
        {
          "data": {
            "text/html": [
              "Tracking run with wandb version 0.19.7"
            ],
            "text/plain": [
              "<IPython.core.display.HTML object>"
            ]
          },
          "metadata": {},
          "output_type": "display_data"
        },
        {
          "data": {
            "text/html": [
              "Run data is saved locally in <code>/content/wandb/run-20250309_182335-vsp6fnz5</code>"
            ],
            "text/plain": [
              "<IPython.core.display.HTML object>"
            ]
          },
          "metadata": {},
          "output_type": "display_data"
        },
        {
          "data": {
            "text/html": [
              "Syncing run <strong><a href='https://wandb.ai/bgorai005-iit-madras/deep_learning_assignment_1/runs/vsp6fnz5' target=\"_blank\">grateful-sweep-69</a></strong> to <a href='https://wandb.ai/bgorai005-iit-madras/deep_learning_assignment_1' target=\"_blank\">Weights & Biases</a> (<a href='https://wandb.me/developer-guide' target=\"_blank\">docs</a>)<br>Sweep page: <a href='https://wandb.ai/bgorai005-iit-madras/deep_learning_assignment_1/sweeps/xd33zmtu' target=\"_blank\">https://wandb.ai/bgorai005-iit-madras/deep_learning_assignment_1/sweeps/xd33zmtu</a>"
            ],
            "text/plain": [
              "<IPython.core.display.HTML object>"
            ]
          },
          "metadata": {},
          "output_type": "display_data"
        },
        {
          "data": {
            "text/html": [
              " View project at <a href='https://wandb.ai/bgorai005-iit-madras/deep_learning_assignment_1' target=\"_blank\">https://wandb.ai/bgorai005-iit-madras/deep_learning_assignment_1</a>"
            ],
            "text/plain": [
              "<IPython.core.display.HTML object>"
            ]
          },
          "metadata": {},
          "output_type": "display_data"
        },
        {
          "data": {
            "text/html": [
              " View sweep at <a href='https://wandb.ai/bgorai005-iit-madras/deep_learning_assignment_1/sweeps/xd33zmtu' target=\"_blank\">https://wandb.ai/bgorai005-iit-madras/deep_learning_assignment_1/sweeps/xd33zmtu</a>"
            ],
            "text/plain": [
              "<IPython.core.display.HTML object>"
            ]
          },
          "metadata": {},
          "output_type": "display_data"
        },
        {
          "data": {
            "text/html": [
              " View run at <a href='https://wandb.ai/bgorai005-iit-madras/deep_learning_assignment_1/runs/vsp6fnz5' target=\"_blank\">https://wandb.ai/bgorai005-iit-madras/deep_learning_assignment_1/runs/vsp6fnz5</a>"
            ],
            "text/plain": [
              "<IPython.core.display.HTML object>"
            ]
          },
          "metadata": {},
          "output_type": "display_data"
        },
        {
          "metadata": {
            "tags": null
          },
          "name": "stdout",
          "output_type": "stream",
          "text": [
            "[784, 64, 64, 64, 10]\n",
            "Epoch 1, Loss: 0.1724855939674157, Validation Loss: 0.15906026781343657\n",
            "Epoch 2, Loss: 0.15306578859667805, Validation Loss: 0.1491262041579407\n",
            "Epoch 3, Loss: 0.17892407658870385, Validation Loss: 0.17863007456112398\n",
            "Epoch 4, Loss: 0.1797302618129361, Validation Loss: 0.1787322308055252\n",
            "Epoch 5, Loss: 0.15733038330223464, Validation Loss: 0.15692468826203104\n",
            "Epoch 6, Loss: 0.15456994281359462, Validation Loss: 0.15492169040461626\n",
            "Epoch 7, Loss: 0.17925138911429428, Validation Loss: 0.1785510841733834\n",
            "Epoch 8, Loss: 0.14116919996237598, Validation Loss: 0.1406080735469525\n",
            "Epoch 9, Loss: 0.1797519051205346, Validation Loss: 0.1816032345837134\n",
            "Epoch 10, Loss: 0.17988586054550373, Validation Loss: 0.18036730376759863\n",
            "Test accuracy: 0.1\n"
          ]
        },
        {
          "data": {
            "text/html": [],
            "text/plain": [
              "<IPython.core.display.HTML object>"
            ]
          },
          "metadata": {},
          "output_type": "display_data"
        },
        {
          "data": {
            "text/html": [
              "<br>    <style><br>        .wandb-row {<br>            display: flex;<br>            flex-direction: row;<br>            flex-wrap: wrap;<br>            justify-content: flex-start;<br>            width: 100%;<br>        }<br>        .wandb-col {<br>            display: flex;<br>            flex-direction: column;<br>            flex-basis: 100%;<br>            flex: 1;<br>            padding: 10px;<br>        }<br>    </style><br><div class=\"wandb-row\"><div class=\"wandb-col\"><h3>Run history:</h3><br/><table class=\"wandb\"><tr><td>epoch</td><td>▁▂▃▃▄▅▆▆▇█</td></tr><tr><td>train_accuracy</td><td>█▁▁▁▁▁▁▁▁▁</td></tr><tr><td>train_loss</td><td>▇▃██▄▃█▁██</td></tr><tr><td>val_accuracy</td><td>█▁▂▂▂▂▂▂▁▁</td></tr><tr><td>val_loss</td><td>▄▂▇█▄▃▇▁██</td></tr></table><br/></div><div class=\"wandb-col\"><h3>Run summary:</h3><br/><table class=\"wandb\"><tr><td>epoch</td><td>10</td></tr><tr><td>train_accuracy</td><td>10.02407</td></tr><tr><td>train_loss</td><td>0.17989</td></tr><tr><td>val_accuracy</td><td>9.78333</td></tr><tr><td>val_loss</td><td>0.18037</td></tr></table><br/></div></div>"
            ],
            "text/plain": [
              "<IPython.core.display.HTML object>"
            ]
          },
          "metadata": {},
          "output_type": "display_data"
        },
        {
          "data": {
            "text/html": [
              " View run <strong style=\"color:#cdcd00\">ac-tanh_hs-64_epc-10_nl-3_lr0.001_wd-0_opt-nag_bs-16_wi-random</strong> at: <a href='https://wandb.ai/bgorai005-iit-madras/deep_learning_assignment_1/runs/vsp6fnz5' target=\"_blank\">https://wandb.ai/bgorai005-iit-madras/deep_learning_assignment_1/runs/vsp6fnz5</a><br> View project at: <a href='https://wandb.ai/bgorai005-iit-madras/deep_learning_assignment_1' target=\"_blank\">https://wandb.ai/bgorai005-iit-madras/deep_learning_assignment_1</a><br>Synced 5 W&B file(s), 0 media file(s), 0 artifact file(s) and 0 other file(s)"
            ],
            "text/plain": [
              "<IPython.core.display.HTML object>"
            ]
          },
          "metadata": {},
          "output_type": "display_data"
        },
        {
          "data": {
            "text/html": [
              "Find logs at: <code>./wandb/run-20250309_182335-vsp6fnz5/logs</code>"
            ],
            "text/plain": [
              "<IPython.core.display.HTML object>"
            ]
          },
          "metadata": {},
          "output_type": "display_data"
        },
        {
          "metadata": {
            "tags": null
          },
          "name": "stderr",
          "output_type": "stream",
          "text": [
            "\u001b[34m\u001b[1mwandb\u001b[0m: Agent Starting Run: 65sn4v0x with config:\n",
            "\u001b[34m\u001b[1mwandb\u001b[0m: \tactivation_hidden: tanh\n",
            "\u001b[34m\u001b[1mwandb\u001b[0m: \tactivation_output: softmax\n",
            "\u001b[34m\u001b[1mwandb\u001b[0m: \tbatch_size: 32\n",
            "\u001b[34m\u001b[1mwandb\u001b[0m: \tepochs: 5\n",
            "\u001b[34m\u001b[1mwandb\u001b[0m: \thidden_size: 128\n",
            "\u001b[34m\u001b[1mwandb\u001b[0m: \tlearning_rate: 0.001\n",
            "\u001b[34m\u001b[1mwandb\u001b[0m: \tnum_layers: 5\n",
            "\u001b[34m\u001b[1mwandb\u001b[0m: \toptimizer: sgd\n",
            "\u001b[34m\u001b[1mwandb\u001b[0m: \tweight_decay: 0\n",
            "\u001b[34m\u001b[1mwandb\u001b[0m: \tweight_ini_method: Xavier\n"
          ]
        },
        {
          "data": {
            "text/html": [
              "Tracking run with wandb version 0.19.7"
            ],
            "text/plain": [
              "<IPython.core.display.HTML object>"
            ]
          },
          "metadata": {},
          "output_type": "display_data"
        },
        {
          "data": {
            "text/html": [
              "Run data is saved locally in <code>/content/wandb/run-20250309_182556-65sn4v0x</code>"
            ],
            "text/plain": [
              "<IPython.core.display.HTML object>"
            ]
          },
          "metadata": {},
          "output_type": "display_data"
        },
        {
          "data": {
            "text/html": [
              "Syncing run <strong><a href='https://wandb.ai/bgorai005-iit-madras/deep_learning_assignment_1/runs/65sn4v0x' target=\"_blank\">leafy-sweep-70</a></strong> to <a href='https://wandb.ai/bgorai005-iit-madras/deep_learning_assignment_1' target=\"_blank\">Weights & Biases</a> (<a href='https://wandb.me/developer-guide' target=\"_blank\">docs</a>)<br>Sweep page: <a href='https://wandb.ai/bgorai005-iit-madras/deep_learning_assignment_1/sweeps/xd33zmtu' target=\"_blank\">https://wandb.ai/bgorai005-iit-madras/deep_learning_assignment_1/sweeps/xd33zmtu</a>"
            ],
            "text/plain": [
              "<IPython.core.display.HTML object>"
            ]
          },
          "metadata": {},
          "output_type": "display_data"
        },
        {
          "data": {
            "text/html": [
              " View project at <a href='https://wandb.ai/bgorai005-iit-madras/deep_learning_assignment_1' target=\"_blank\">https://wandb.ai/bgorai005-iit-madras/deep_learning_assignment_1</a>"
            ],
            "text/plain": [
              "<IPython.core.display.HTML object>"
            ]
          },
          "metadata": {},
          "output_type": "display_data"
        },
        {
          "data": {
            "text/html": [
              " View sweep at <a href='https://wandb.ai/bgorai005-iit-madras/deep_learning_assignment_1/sweeps/xd33zmtu' target=\"_blank\">https://wandb.ai/bgorai005-iit-madras/deep_learning_assignment_1/sweeps/xd33zmtu</a>"
            ],
            "text/plain": [
              "<IPython.core.display.HTML object>"
            ]
          },
          "metadata": {},
          "output_type": "display_data"
        },
        {
          "data": {
            "text/html": [
              " View run at <a href='https://wandb.ai/bgorai005-iit-madras/deep_learning_assignment_1/runs/65sn4v0x' target=\"_blank\">https://wandb.ai/bgorai005-iit-madras/deep_learning_assignment_1/runs/65sn4v0x</a>"
            ],
            "text/plain": [
              "<IPython.core.display.HTML object>"
            ]
          },
          "metadata": {},
          "output_type": "display_data"
        },
        {
          "metadata": {
            "tags": null
          },
          "name": "stdout",
          "output_type": "stream",
          "text": [
            "[784, 128, 128, 128, 128, 128, 10]\n",
            "Epoch 1, Train Loss: 0.020363742012777065, Val Loss: 0.021237285206216545\n",
            "Epoch 2, Train Loss: 0.01879422408276671, Val Loss: 0.020351431876248202\n",
            "Epoch 3, Train Loss: 0.016853377119216556, Val Loss: 0.0188117711752366\n",
            "Epoch 4, Train Loss: 0.015702323929295704, Val Loss: 0.017967475962497634\n",
            "Epoch 5, Train Loss: 0.01592200574143795, Val Loss: 0.018543038158248\n",
            "Test Accuracy: 86.00999999999999\n"
          ]
        },
        {
          "data": {
            "text/html": [],
            "text/plain": [
              "<IPython.core.display.HTML object>"
            ]
          },
          "metadata": {},
          "output_type": "display_data"
        },
        {
          "data": {
            "text/html": [
              " View run <strong style=\"color:#cdcd00\">ac-tanh_hs-128_epc-5_nl-5_lr0.001_wd-0_opt-sgd_bs-32_wi-Xavier</strong> at: <a href='https://wandb.ai/bgorai005-iit-madras/deep_learning_assignment_1/runs/65sn4v0x' target=\"_blank\">https://wandb.ai/bgorai005-iit-madras/deep_learning_assignment_1/runs/65sn4v0x</a><br> View project at: <a href='https://wandb.ai/bgorai005-iit-madras/deep_learning_assignment_1' target=\"_blank\">https://wandb.ai/bgorai005-iit-madras/deep_learning_assignment_1</a><br>Synced 5 W&B file(s), 0 media file(s), 0 artifact file(s) and 0 other file(s)"
            ],
            "text/plain": [
              "<IPython.core.display.HTML object>"
            ]
          },
          "metadata": {},
          "output_type": "display_data"
        },
        {
          "data": {
            "text/html": [
              "Find logs at: <code>./wandb/run-20250309_182556-65sn4v0x/logs</code>"
            ],
            "text/plain": [
              "<IPython.core.display.HTML object>"
            ]
          },
          "metadata": {},
          "output_type": "display_data"
        },
        {
          "metadata": {
            "tags": null
          },
          "name": "stderr",
          "output_type": "stream",
          "text": [
            "\u001b[34m\u001b[1mwandb\u001b[0m: Sweep Agent: Waiting for job.\n",
            "\u001b[34m\u001b[1mwandb\u001b[0m: Job received.\n",
            "\u001b[34m\u001b[1mwandb\u001b[0m: Agent Starting Run: 6lsbrbuk with config:\n",
            "\u001b[34m\u001b[1mwandb\u001b[0m: \tactivation_hidden: tanh\n",
            "\u001b[34m\u001b[1mwandb\u001b[0m: \tactivation_output: softmax\n",
            "\u001b[34m\u001b[1mwandb\u001b[0m: \tbatch_size: 32\n",
            "\u001b[34m\u001b[1mwandb\u001b[0m: \tepochs: 5\n",
            "\u001b[34m\u001b[1mwandb\u001b[0m: \thidden_size: 128\n",
            "\u001b[34m\u001b[1mwandb\u001b[0m: \tlearning_rate: 0.0001\n",
            "\u001b[34m\u001b[1mwandb\u001b[0m: \tnum_layers: 3\n",
            "\u001b[34m\u001b[1mwandb\u001b[0m: \toptimizer: sgd\n",
            "\u001b[34m\u001b[1mwandb\u001b[0m: \tweight_decay: 0\n",
            "\u001b[34m\u001b[1mwandb\u001b[0m: \tweight_ini_method: Xavier\n"
          ]
        },
        {
          "data": {
            "text/html": [
              "Tracking run with wandb version 0.19.7"
            ],
            "text/plain": [
              "<IPython.core.display.HTML object>"
            ]
          },
          "metadata": {},
          "output_type": "display_data"
        },
        {
          "data": {
            "text/html": [
              "Run data is saved locally in <code>/content/wandb/run-20250309_182804-6lsbrbuk</code>"
            ],
            "text/plain": [
              "<IPython.core.display.HTML object>"
            ]
          },
          "metadata": {},
          "output_type": "display_data"
        },
        {
          "data": {
            "text/html": [
              "Syncing run <strong><a href='https://wandb.ai/bgorai005-iit-madras/deep_learning_assignment_1/runs/6lsbrbuk' target=\"_blank\">sweepy-sweep-71</a></strong> to <a href='https://wandb.ai/bgorai005-iit-madras/deep_learning_assignment_1' target=\"_blank\">Weights & Biases</a> (<a href='https://wandb.me/developer-guide' target=\"_blank\">docs</a>)<br>Sweep page: <a href='https://wandb.ai/bgorai005-iit-madras/deep_learning_assignment_1/sweeps/xd33zmtu' target=\"_blank\">https://wandb.ai/bgorai005-iit-madras/deep_learning_assignment_1/sweeps/xd33zmtu</a>"
            ],
            "text/plain": [
              "<IPython.core.display.HTML object>"
            ]
          },
          "metadata": {},
          "output_type": "display_data"
        },
        {
          "data": {
            "text/html": [
              " View project at <a href='https://wandb.ai/bgorai005-iit-madras/deep_learning_assignment_1' target=\"_blank\">https://wandb.ai/bgorai005-iit-madras/deep_learning_assignment_1</a>"
            ],
            "text/plain": [
              "<IPython.core.display.HTML object>"
            ]
          },
          "metadata": {},
          "output_type": "display_data"
        },
        {
          "data": {
            "text/html": [
              " View sweep at <a href='https://wandb.ai/bgorai005-iit-madras/deep_learning_assignment_1/sweeps/xd33zmtu' target=\"_blank\">https://wandb.ai/bgorai005-iit-madras/deep_learning_assignment_1/sweeps/xd33zmtu</a>"
            ],
            "text/plain": [
              "<IPython.core.display.HTML object>"
            ]
          },
          "metadata": {},
          "output_type": "display_data"
        },
        {
          "data": {
            "text/html": [
              " View run at <a href='https://wandb.ai/bgorai005-iit-madras/deep_learning_assignment_1/runs/6lsbrbuk' target=\"_blank\">https://wandb.ai/bgorai005-iit-madras/deep_learning_assignment_1/runs/6lsbrbuk</a>"
            ],
            "text/plain": [
              "<IPython.core.display.HTML object>"
            ]
          },
          "metadata": {},
          "output_type": "display_data"
        },
        {
          "metadata": {
            "tags": null
          },
          "name": "stdout",
          "output_type": "stream",
          "text": [
            "[784, 128, 128, 128, 10]\n",
            "Epoch 1, Train Loss: 0.028280062832082106, Val Loss: 0.028993683756821022\n",
            "Epoch 2, Train Loss: 0.024535018874534582, Val Loss: 0.02512791942912942\n",
            "Epoch 3, Train Loss: 0.022861820818019695, Val Loss: 0.02343637692750013\n",
            "Epoch 4, Train Loss: 0.021905741935964687, Val Loss: 0.02255520358600386\n",
            "Epoch 5, Train Loss: 0.021287632588634267, Val Loss: 0.021856514838251677\n",
            "Test Accuracy: 83.65\n"
          ]
        },
        {
          "data": {
            "text/html": [],
            "text/plain": [
              "<IPython.core.display.HTML object>"
            ]
          },
          "metadata": {},
          "output_type": "display_data"
        },
        {
          "data": {
            "text/html": [
              " View run <strong style=\"color:#cdcd00\">ac-tanh_hs-128_epc-5_nl-3_lr0.0001_wd-0_opt-sgd_bs-32_wi-Xavier</strong> at: <a href='https://wandb.ai/bgorai005-iit-madras/deep_learning_assignment_1/runs/6lsbrbuk' target=\"_blank\">https://wandb.ai/bgorai005-iit-madras/deep_learning_assignment_1/runs/6lsbrbuk</a><br> View project at: <a href='https://wandb.ai/bgorai005-iit-madras/deep_learning_assignment_1' target=\"_blank\">https://wandb.ai/bgorai005-iit-madras/deep_learning_assignment_1</a><br>Synced 5 W&B file(s), 0 media file(s), 0 artifact file(s) and 0 other file(s)"
            ],
            "text/plain": [
              "<IPython.core.display.HTML object>"
            ]
          },
          "metadata": {},
          "output_type": "display_data"
        },
        {
          "data": {
            "text/html": [
              "Find logs at: <code>./wandb/run-20250309_182804-6lsbrbuk/logs</code>"
            ],
            "text/plain": [
              "<IPython.core.display.HTML object>"
            ]
          },
          "metadata": {},
          "output_type": "display_data"
        },
        {
          "metadata": {
            "tags": null
          },
          "name": "stderr",
          "output_type": "stream",
          "text": [
            "\u001b[34m\u001b[1mwandb\u001b[0m: Agent Starting Run: 6wj6zva5 with config:\n",
            "\u001b[34m\u001b[1mwandb\u001b[0m: \tactivation_hidden: sigmoid\n",
            "\u001b[34m\u001b[1mwandb\u001b[0m: \tactivation_output: softmax\n",
            "\u001b[34m\u001b[1mwandb\u001b[0m: \tbatch_size: 16\n",
            "\u001b[34m\u001b[1mwandb\u001b[0m: \tepochs: 10\n",
            "\u001b[34m\u001b[1mwandb\u001b[0m: \thidden_size: 32\n",
            "\u001b[34m\u001b[1mwandb\u001b[0m: \tlearning_rate: 0.001\n",
            "\u001b[34m\u001b[1mwandb\u001b[0m: \tnum_layers: 3\n",
            "\u001b[34m\u001b[1mwandb\u001b[0m: \toptimizer: momentum\n",
            "\u001b[34m\u001b[1mwandb\u001b[0m: \tweight_decay: 0\n",
            "\u001b[34m\u001b[1mwandb\u001b[0m: \tweight_ini_method: Xavier\n"
          ]
        },
        {
          "data": {
            "text/html": [
              "Tracking run with wandb version 0.19.7"
            ],
            "text/plain": [
              "<IPython.core.display.HTML object>"
            ]
          },
          "metadata": {},
          "output_type": "display_data"
        },
        {
          "data": {
            "text/html": [
              "Run data is saved locally in <code>/content/wandb/run-20250309_182932-6wj6zva5</code>"
            ],
            "text/plain": [
              "<IPython.core.display.HTML object>"
            ]
          },
          "metadata": {},
          "output_type": "display_data"
        },
        {
          "data": {
            "text/html": [
              "Syncing run <strong><a href='https://wandb.ai/bgorai005-iit-madras/deep_learning_assignment_1/runs/6wj6zva5' target=\"_blank\">misunderstood-sweep-72</a></strong> to <a href='https://wandb.ai/bgorai005-iit-madras/deep_learning_assignment_1' target=\"_blank\">Weights & Biases</a> (<a href='https://wandb.me/developer-guide' target=\"_blank\">docs</a>)<br>Sweep page: <a href='https://wandb.ai/bgorai005-iit-madras/deep_learning_assignment_1/sweeps/xd33zmtu' target=\"_blank\">https://wandb.ai/bgorai005-iit-madras/deep_learning_assignment_1/sweeps/xd33zmtu</a>"
            ],
            "text/plain": [
              "<IPython.core.display.HTML object>"
            ]
          },
          "metadata": {},
          "output_type": "display_data"
        },
        {
          "data": {
            "text/html": [
              " View project at <a href='https://wandb.ai/bgorai005-iit-madras/deep_learning_assignment_1' target=\"_blank\">https://wandb.ai/bgorai005-iit-madras/deep_learning_assignment_1</a>"
            ],
            "text/plain": [
              "<IPython.core.display.HTML object>"
            ]
          },
          "metadata": {},
          "output_type": "display_data"
        },
        {
          "data": {
            "text/html": [
              " View sweep at <a href='https://wandb.ai/bgorai005-iit-madras/deep_learning_assignment_1/sweeps/xd33zmtu' target=\"_blank\">https://wandb.ai/bgorai005-iit-madras/deep_learning_assignment_1/sweeps/xd33zmtu</a>"
            ],
            "text/plain": [
              "<IPython.core.display.HTML object>"
            ]
          },
          "metadata": {},
          "output_type": "display_data"
        },
        {
          "data": {
            "text/html": [
              " View run at <a href='https://wandb.ai/bgorai005-iit-madras/deep_learning_assignment_1/runs/6wj6zva5' target=\"_blank\">https://wandb.ai/bgorai005-iit-madras/deep_learning_assignment_1/runs/6wj6zva5</a>"
            ],
            "text/plain": [
              "<IPython.core.display.HTML object>"
            ]
          },
          "metadata": {},
          "output_type": "display_data"
        },
        {
          "metadata": {
            "tags": null
          },
          "name": "stdout",
          "output_type": "stream",
          "text": [
            "[784, 32, 32, 32, 10]\n",
            "Epoch 1, Train Loss: 0.025498796498607253, Val Loss: 0.02620404337507596\n",
            "Epoch 2, Train Loss: 0.020762994293273676, Val Loss: 0.021623591931874533\n",
            "Epoch 3, Train Loss: 0.01933541340549939, Val Loss: 0.020383478648079427\n",
            "Epoch 4, Train Loss: 0.017677567740419002, Val Loss: 0.018861586900679822\n",
            "Epoch 5, Train Loss: 0.017909636566724396, Val Loss: 0.01924830072988588\n",
            "Epoch 6, Train Loss: 0.01794838462528112, Val Loss: 0.019254205815772862\n",
            "Epoch 7, Train Loss: 0.017442943288216783, Val Loss: 0.01930311258890196\n",
            "Epoch 8, Train Loss: 0.015873240233682386, Val Loss: 0.017721372269653445\n",
            "Epoch 9, Train Loss: 0.017092392578783165, Val Loss: 0.019379705259337014\n",
            "Epoch 10, Train Loss: 0.016001437198976648, Val Loss: 0.018498373609720717\n",
            "Test accuracy: 0.8622\n"
          ]
        },
        {
          "data": {
            "text/html": [],
            "text/plain": [
              "<IPython.core.display.HTML object>"
            ]
          },
          "metadata": {},
          "output_type": "display_data"
        },
        {
          "data": {
            "text/html": [
              "<br>    <style><br>        .wandb-row {<br>            display: flex;<br>            flex-direction: row;<br>            flex-wrap: wrap;<br>            justify-content: flex-start;<br>            width: 100%;<br>        }<br>        .wandb-col {<br>            display: flex;<br>            flex-direction: column;<br>            flex-basis: 100%;<br>            flex: 1;<br>            padding: 10px;<br>        }<br>    </style><br><div class=\"wandb-row\"><div class=\"wandb-col\"><h3>Run history:</h3><br/><table class=\"wandb\"><tr><td>epoch</td><td>▁▂▃▃▄▅▆▆▇█</td></tr><tr><td>train_accuracy</td><td>▁▅▅▇▇▇▇█▇█</td></tr><tr><td>train_loss</td><td>█▅▄▂▂▃▂▁▂▁</td></tr><tr><td>val_accuracy</td><td>▁▅▅▇▆▆▆█▆▇</td></tr><tr><td>val_loss</td><td>█▄▃▂▂▂▂▁▂▂</td></tr></table><br/></div><div class=\"wandb-col\"><h3>Run summary:</h3><br/><table class=\"wandb\"><tr><td>epoch</td><td>10</td></tr><tr><td>train_accuracy</td><td>88.70556</td></tr><tr><td>train_loss</td><td>0.016</td></tr><tr><td>val_accuracy</td><td>87.16667</td></tr><tr><td>val_loss</td><td>0.0185</td></tr></table><br/></div></div>"
            ],
            "text/plain": [
              "<IPython.core.display.HTML object>"
            ]
          },
          "metadata": {},
          "output_type": "display_data"
        },
        {
          "data": {
            "text/html": [
              " View run <strong style=\"color:#cdcd00\">ac-sigmoid_hs-32_epc-10_nl-3_lr0.001_wd-0_opt-momentum_bs-16_wi-Xavier</strong> at: <a href='https://wandb.ai/bgorai005-iit-madras/deep_learning_assignment_1/runs/6wj6zva5' target=\"_blank\">https://wandb.ai/bgorai005-iit-madras/deep_learning_assignment_1/runs/6wj6zva5</a><br> View project at: <a href='https://wandb.ai/bgorai005-iit-madras/deep_learning_assignment_1' target=\"_blank\">https://wandb.ai/bgorai005-iit-madras/deep_learning_assignment_1</a><br>Synced 5 W&B file(s), 0 media file(s), 0 artifact file(s) and 0 other file(s)"
            ],
            "text/plain": [
              "<IPython.core.display.HTML object>"
            ]
          },
          "metadata": {},
          "output_type": "display_data"
        },
        {
          "data": {
            "text/html": [
              "Find logs at: <code>./wandb/run-20250309_182932-6wj6zva5/logs</code>"
            ],
            "text/plain": [
              "<IPython.core.display.HTML object>"
            ]
          },
          "metadata": {},
          "output_type": "display_data"
        },
        {
          "metadata": {
            "tags": null
          },
          "name": "stderr",
          "output_type": "stream",
          "text": [
            "\u001b[34m\u001b[1mwandb\u001b[0m: Agent Starting Run: 2e7s1jd6 with config:\n",
            "\u001b[34m\u001b[1mwandb\u001b[0m: \tactivation_hidden: sigmoid\n",
            "\u001b[34m\u001b[1mwandb\u001b[0m: \tactivation_output: softmax\n",
            "\u001b[34m\u001b[1mwandb\u001b[0m: \tbatch_size: 16\n",
            "\u001b[34m\u001b[1mwandb\u001b[0m: \tepochs: 10\n",
            "\u001b[34m\u001b[1mwandb\u001b[0m: \thidden_size: 32\n",
            "\u001b[34m\u001b[1mwandb\u001b[0m: \tlearning_rate: 0.001\n",
            "\u001b[34m\u001b[1mwandb\u001b[0m: \tnum_layers: 5\n",
            "\u001b[34m\u001b[1mwandb\u001b[0m: \toptimizer: adam\n",
            "\u001b[34m\u001b[1mwandb\u001b[0m: \tweight_decay: 0\n",
            "\u001b[34m\u001b[1mwandb\u001b[0m: \tweight_ini_method: random\n"
          ]
        },
        {
          "data": {
            "text/html": [
              "Tracking run with wandb version 0.19.7"
            ],
            "text/plain": [
              "<IPython.core.display.HTML object>"
            ]
          },
          "metadata": {},
          "output_type": "display_data"
        },
        {
          "data": {
            "text/html": [
              "Run data is saved locally in <code>/content/wandb/run-20250309_183039-2e7s1jd6</code>"
            ],
            "text/plain": [
              "<IPython.core.display.HTML object>"
            ]
          },
          "metadata": {},
          "output_type": "display_data"
        },
        {
          "data": {
            "text/html": [
              "Syncing run <strong><a href='https://wandb.ai/bgorai005-iit-madras/deep_learning_assignment_1/runs/2e7s1jd6' target=\"_blank\">vague-sweep-73</a></strong> to <a href='https://wandb.ai/bgorai005-iit-madras/deep_learning_assignment_1' target=\"_blank\">Weights & Biases</a> (<a href='https://wandb.me/developer-guide' target=\"_blank\">docs</a>)<br>Sweep page: <a href='https://wandb.ai/bgorai005-iit-madras/deep_learning_assignment_1/sweeps/xd33zmtu' target=\"_blank\">https://wandb.ai/bgorai005-iit-madras/deep_learning_assignment_1/sweeps/xd33zmtu</a>"
            ],
            "text/plain": [
              "<IPython.core.display.HTML object>"
            ]
          },
          "metadata": {},
          "output_type": "display_data"
        },
        {
          "data": {
            "text/html": [
              " View project at <a href='https://wandb.ai/bgorai005-iit-madras/deep_learning_assignment_1' target=\"_blank\">https://wandb.ai/bgorai005-iit-madras/deep_learning_assignment_1</a>"
            ],
            "text/plain": [
              "<IPython.core.display.HTML object>"
            ]
          },
          "metadata": {},
          "output_type": "display_data"
        },
        {
          "data": {
            "text/html": [
              " View sweep at <a href='https://wandb.ai/bgorai005-iit-madras/deep_learning_assignment_1/sweeps/xd33zmtu' target=\"_blank\">https://wandb.ai/bgorai005-iit-madras/deep_learning_assignment_1/sweeps/xd33zmtu</a>"
            ],
            "text/plain": [
              "<IPython.core.display.HTML object>"
            ]
          },
          "metadata": {},
          "output_type": "display_data"
        },
        {
          "data": {
            "text/html": [
              " View run at <a href='https://wandb.ai/bgorai005-iit-madras/deep_learning_assignment_1/runs/2e7s1jd6' target=\"_blank\">https://wandb.ai/bgorai005-iit-madras/deep_learning_assignment_1/runs/2e7s1jd6</a>"
            ],
            "text/plain": [
              "<IPython.core.display.HTML object>"
            ]
          },
          "metadata": {},
          "output_type": "display_data"
        },
        {
          "metadata": {
            "tags": null
          },
          "name": "stdout",
          "output_type": "stream",
          "text": [
            "[784, 32, 32, 32, 32, 32, 10]\n",
            "Epoch 1, Train Loss: 0.030703827930308507, Val Loss: 0.031786654559186854\n",
            "Epoch 2, Train Loss: 0.02637733720867672, Val Loss: 0.027470010074178645\n",
            "Epoch 3, Train Loss: 0.02462483033665985, Val Loss: 0.025841459921202455\n",
            "Epoch 4, Train Loss: 0.023530235909412226, Val Loss: 0.024782945733767804\n",
            "Epoch 5, Train Loss: 0.022440233348477185, Val Loss: 0.02426978898231028\n",
            "Epoch 6, Train Loss: 0.021778977054862814, Val Loss: 0.023566063420547522\n",
            "Epoch 7, Train Loss: 0.021108817527060095, Val Loss: 0.02313322895909753\n",
            "Epoch 8, Train Loss: 0.02099667577081971, Val Loss: 0.022861714266964348\n",
            "Epoch 9, Train Loss: 0.02014999696723962, Val Loss: 0.022467129046877705\n",
            "Epoch 10, Train Loss: 0.019619717786032092, Val Loss: 0.022193397251629405\n",
            "Test accuracy: 0.8335\n"
          ]
        },
        {
          "data": {
            "text/html": [],
            "text/plain": [
              "<IPython.core.display.HTML object>"
            ]
          },
          "metadata": {},
          "output_type": "display_data"
        },
        {
          "data": {
            "text/html": [
              "<br>    <style><br>        .wandb-row {<br>            display: flex;<br>            flex-direction: row;<br>            flex-wrap: wrap;<br>            justify-content: flex-start;<br>            width: 100%;<br>        }<br>        .wandb-col {<br>            display: flex;<br>            flex-direction: column;<br>            flex-basis: 100%;<br>            flex: 1;<br>            padding: 10px;<br>        }<br>    </style><br><div class=\"wandb-row\"><div class=\"wandb-col\"><h3>Run history:</h3><br/><table class=\"wandb\"><tr><td>epoch</td><td>▁▂▃▃▄▅▆▆▇█</td></tr><tr><td>train_accuracy</td><td>▁▄▅▆▆▇▇▇██</td></tr><tr><td>train_loss</td><td>█▅▄▃▃▂▂▂▁▁</td></tr><tr><td>val_accuracy</td><td>▁▄▅▆▆▇▇▇██</td></tr><tr><td>val_loss</td><td>█▅▄▃▃▂▂▁▁▁</td></tr></table><br/></div><div class=\"wandb-col\"><h3>Run summary:</h3><br/><table class=\"wandb\"><tr><td>epoch</td><td>10</td></tr><tr><td>train_accuracy</td><td>86.22778</td></tr><tr><td>train_loss</td><td>0.01962</td></tr><tr><td>val_accuracy</td><td>84.5</td></tr><tr><td>val_loss</td><td>0.02219</td></tr></table><br/></div></div>"
            ],
            "text/plain": [
              "<IPython.core.display.HTML object>"
            ]
          },
          "metadata": {},
          "output_type": "display_data"
        },
        {
          "data": {
            "text/html": [
              " View run <strong style=\"color:#cdcd00\">ac-sigmoid_hs-32_epc-10_nl-5_lr0.001_wd-0_opt-adam_bs-16_wi-random</strong> at: <a href='https://wandb.ai/bgorai005-iit-madras/deep_learning_assignment_1/runs/2e7s1jd6' target=\"_blank\">https://wandb.ai/bgorai005-iit-madras/deep_learning_assignment_1/runs/2e7s1jd6</a><br> View project at: <a href='https://wandb.ai/bgorai005-iit-madras/deep_learning_assignment_1' target=\"_blank\">https://wandb.ai/bgorai005-iit-madras/deep_learning_assignment_1</a><br>Synced 5 W&B file(s), 0 media file(s), 0 artifact file(s) and 0 other file(s)"
            ],
            "text/plain": [
              "<IPython.core.display.HTML object>"
            ]
          },
          "metadata": {},
          "output_type": "display_data"
        },
        {
          "data": {
            "text/html": [
              "Find logs at: <code>./wandb/run-20250309_183039-2e7s1jd6/logs</code>"
            ],
            "text/plain": [
              "<IPython.core.display.HTML object>"
            ]
          },
          "metadata": {},
          "output_type": "display_data"
        },
        {
          "metadata": {
            "tags": null
          },
          "name": "stderr",
          "output_type": "stream",
          "text": [
            "\u001b[34m\u001b[1mwandb\u001b[0m: Agent Starting Run: jb6scypn with config:\n",
            "\u001b[34m\u001b[1mwandb\u001b[0m: \tactivation_hidden: sigmoid\n",
            "\u001b[34m\u001b[1mwandb\u001b[0m: \tactivation_output: softmax\n",
            "\u001b[34m\u001b[1mwandb\u001b[0m: \tbatch_size: 64\n",
            "\u001b[34m\u001b[1mwandb\u001b[0m: \tepochs: 10\n",
            "\u001b[34m\u001b[1mwandb\u001b[0m: \thidden_size: 128\n",
            "\u001b[34m\u001b[1mwandb\u001b[0m: \tlearning_rate: 0.001\n",
            "\u001b[34m\u001b[1mwandb\u001b[0m: \tnum_layers: 3\n",
            "\u001b[34m\u001b[1mwandb\u001b[0m: \toptimizer: adam\n",
            "\u001b[34m\u001b[1mwandb\u001b[0m: \tweight_decay: 0\n",
            "\u001b[34m\u001b[1mwandb\u001b[0m: \tweight_ini_method: random\n"
          ]
        },
        {
          "data": {
            "text/html": [
              "Tracking run with wandb version 0.19.7"
            ],
            "text/plain": [
              "<IPython.core.display.HTML object>"
            ]
          },
          "metadata": {},
          "output_type": "display_data"
        },
        {
          "data": {
            "text/html": [
              "Run data is saved locally in <code>/content/wandb/run-20250309_183233-jb6scypn</code>"
            ],
            "text/plain": [
              "<IPython.core.display.HTML object>"
            ]
          },
          "metadata": {},
          "output_type": "display_data"
        },
        {
          "data": {
            "text/html": [
              "Syncing run <strong><a href='https://wandb.ai/bgorai005-iit-madras/deep_learning_assignment_1/runs/jb6scypn' target=\"_blank\">deep-sweep-74</a></strong> to <a href='https://wandb.ai/bgorai005-iit-madras/deep_learning_assignment_1' target=\"_blank\">Weights & Biases</a> (<a href='https://wandb.me/developer-guide' target=\"_blank\">docs</a>)<br>Sweep page: <a href='https://wandb.ai/bgorai005-iit-madras/deep_learning_assignment_1/sweeps/xd33zmtu' target=\"_blank\">https://wandb.ai/bgorai005-iit-madras/deep_learning_assignment_1/sweeps/xd33zmtu</a>"
            ],
            "text/plain": [
              "<IPython.core.display.HTML object>"
            ]
          },
          "metadata": {},
          "output_type": "display_data"
        },
        {
          "data": {
            "text/html": [
              " View project at <a href='https://wandb.ai/bgorai005-iit-madras/deep_learning_assignment_1' target=\"_blank\">https://wandb.ai/bgorai005-iit-madras/deep_learning_assignment_1</a>"
            ],
            "text/plain": [
              "<IPython.core.display.HTML object>"
            ]
          },
          "metadata": {},
          "output_type": "display_data"
        },
        {
          "data": {
            "text/html": [
              " View sweep at <a href='https://wandb.ai/bgorai005-iit-madras/deep_learning_assignment_1/sweeps/xd33zmtu' target=\"_blank\">https://wandb.ai/bgorai005-iit-madras/deep_learning_assignment_1/sweeps/xd33zmtu</a>"
            ],
            "text/plain": [
              "<IPython.core.display.HTML object>"
            ]
          },
          "metadata": {},
          "output_type": "display_data"
        },
        {
          "data": {
            "text/html": [
              " View run at <a href='https://wandb.ai/bgorai005-iit-madras/deep_learning_assignment_1/runs/jb6scypn' target=\"_blank\">https://wandb.ai/bgorai005-iit-madras/deep_learning_assignment_1/runs/jb6scypn</a>"
            ],
            "text/plain": [
              "<IPython.core.display.HTML object>"
            ]
          },
          "metadata": {},
          "output_type": "display_data"
        },
        {
          "metadata": {
            "tags": null
          },
          "name": "stdout",
          "output_type": "stream",
          "text": [
            "[784, 128, 128, 128, 10]\n",
            "Epoch 1, Train Loss: 0.02814843187583602, Val Loss: 0.029382047132523386\n",
            "Epoch 2, Train Loss: 0.024060378327072068, Val Loss: 0.025731441332781393\n",
            "Epoch 3, Train Loss: 0.02193885981830049, Val Loss: 0.024167819626830015\n",
            "Epoch 4, Train Loss: 0.020853342521889487, Val Loss: 0.02383715347738418\n",
            "Epoch 5, Train Loss: 0.020119238735589486, Val Loss: 0.02315102427888552\n",
            "Epoch 6, Train Loss: 0.0190636908065289, Val Loss: 0.02260465361038498\n",
            "Epoch 7, Train Loss: 0.01809298254438605, Val Loss: 0.022192552533622078\n",
            "Epoch 8, Train Loss: 0.0176181077251856, Val Loss: 0.021911567240724128\n",
            "Epoch 9, Train Loss: 0.01719180444587475, Val Loss: 0.0217634082279412\n",
            "Epoch 10, Train Loss: 0.016485754508658915, Val Loss: 0.021282533370537864\n",
            "Test accuracy: 0.8445\n"
          ]
        },
        {
          "data": {
            "text/html": [],
            "text/plain": [
              "<IPython.core.display.HTML object>"
            ]
          },
          "metadata": {},
          "output_type": "display_data"
        },
        {
          "data": {
            "text/html": [
              "<br>    <style><br>        .wandb-row {<br>            display: flex;<br>            flex-direction: row;<br>            flex-wrap: wrap;<br>            justify-content: flex-start;<br>            width: 100%;<br>        }<br>        .wandb-col {<br>            display: flex;<br>            flex-direction: column;<br>            flex-basis: 100%;<br>            flex: 1;<br>            padding: 10px;<br>        }<br>    </style><br><div class=\"wandb-row\"><div class=\"wandb-col\"><h3>Run history:</h3><br/><table class=\"wandb\"><tr><td>epoch</td><td>▁▂▃▃▄▅▆▆▇█</td></tr><tr><td>train_accuracy</td><td>▁▃▅▅▆▆▇▇██</td></tr><tr><td>train_loss</td><td>█▆▄▄▃▃▂▂▁▁</td></tr><tr><td>val_accuracy</td><td>▁▅▅▆▆▇▇███</td></tr><tr><td>val_loss</td><td>█▅▃▃▃▂▂▂▁▁</td></tr></table><br/></div><div class=\"wandb-col\"><h3>Run summary:</h3><br/><table class=\"wandb\"><tr><td>epoch</td><td>10</td></tr><tr><td>train_accuracy</td><td>88.36667</td></tr><tr><td>train_loss</td><td>0.01649</td></tr><tr><td>val_accuracy</td><td>84.96667</td></tr><tr><td>val_loss</td><td>0.02128</td></tr></table><br/></div></div>"
            ],
            "text/plain": [
              "<IPython.core.display.HTML object>"
            ]
          },
          "metadata": {},
          "output_type": "display_data"
        },
        {
          "data": {
            "text/html": [
              " View run <strong style=\"color:#cdcd00\">ac-sigmoid_hs-128_epc-10_nl-3_lr0.001_wd-0_opt-adam_bs-64_wi-random</strong> at: <a href='https://wandb.ai/bgorai005-iit-madras/deep_learning_assignment_1/runs/jb6scypn' target=\"_blank\">https://wandb.ai/bgorai005-iit-madras/deep_learning_assignment_1/runs/jb6scypn</a><br> View project at: <a href='https://wandb.ai/bgorai005-iit-madras/deep_learning_assignment_1' target=\"_blank\">https://wandb.ai/bgorai005-iit-madras/deep_learning_assignment_1</a><br>Synced 5 W&B file(s), 0 media file(s), 0 artifact file(s) and 0 other file(s)"
            ],
            "text/plain": [
              "<IPython.core.display.HTML object>"
            ]
          },
          "metadata": {},
          "output_type": "display_data"
        },
        {
          "data": {
            "text/html": [
              "Find logs at: <code>./wandb/run-20250309_183233-jb6scypn/logs</code>"
            ],
            "text/plain": [
              "<IPython.core.display.HTML object>"
            ]
          },
          "metadata": {},
          "output_type": "display_data"
        },
        {
          "metadata": {
            "tags": null
          },
          "name": "stderr",
          "output_type": "stream",
          "text": [
            "\u001b[34m\u001b[1mwandb\u001b[0m: Agent Starting Run: at4m2ldy with config:\n",
            "\u001b[34m\u001b[1mwandb\u001b[0m: \tactivation_hidden: sigmoid\n",
            "\u001b[34m\u001b[1mwandb\u001b[0m: \tactivation_output: softmax\n",
            "\u001b[34m\u001b[1mwandb\u001b[0m: \tbatch_size: 16\n",
            "\u001b[34m\u001b[1mwandb\u001b[0m: \tepochs: 5\n",
            "\u001b[34m\u001b[1mwandb\u001b[0m: \thidden_size: 32\n",
            "\u001b[34m\u001b[1mwandb\u001b[0m: \tlearning_rate: 0.001\n",
            "\u001b[34m\u001b[1mwandb\u001b[0m: \tnum_layers: 4\n",
            "\u001b[34m\u001b[1mwandb\u001b[0m: \toptimizer: RMSprop\n",
            "\u001b[34m\u001b[1mwandb\u001b[0m: \tweight_decay: 0\n",
            "\u001b[34m\u001b[1mwandb\u001b[0m: \tweight_ini_method: random\n"
          ]
        },
        {
          "data": {
            "text/html": [
              "Tracking run with wandb version 0.19.7"
            ],
            "text/plain": [
              "<IPython.core.display.HTML object>"
            ]
          },
          "metadata": {},
          "output_type": "display_data"
        },
        {
          "data": {
            "text/html": [
              "Run data is saved locally in <code>/content/wandb/run-20250309_183441-at4m2ldy</code>"
            ],
            "text/plain": [
              "<IPython.core.display.HTML object>"
            ]
          },
          "metadata": {},
          "output_type": "display_data"
        },
        {
          "data": {
            "text/html": [
              "Syncing run <strong><a href='https://wandb.ai/bgorai005-iit-madras/deep_learning_assignment_1/runs/at4m2ldy' target=\"_blank\">effortless-sweep-75</a></strong> to <a href='https://wandb.ai/bgorai005-iit-madras/deep_learning_assignment_1' target=\"_blank\">Weights & Biases</a> (<a href='https://wandb.me/developer-guide' target=\"_blank\">docs</a>)<br>Sweep page: <a href='https://wandb.ai/bgorai005-iit-madras/deep_learning_assignment_1/sweeps/xd33zmtu' target=\"_blank\">https://wandb.ai/bgorai005-iit-madras/deep_learning_assignment_1/sweeps/xd33zmtu</a>"
            ],
            "text/plain": [
              "<IPython.core.display.HTML object>"
            ]
          },
          "metadata": {},
          "output_type": "display_data"
        },
        {
          "data": {
            "text/html": [
              " View project at <a href='https://wandb.ai/bgorai005-iit-madras/deep_learning_assignment_1' target=\"_blank\">https://wandb.ai/bgorai005-iit-madras/deep_learning_assignment_1</a>"
            ],
            "text/plain": [
              "<IPython.core.display.HTML object>"
            ]
          },
          "metadata": {},
          "output_type": "display_data"
        },
        {
          "data": {
            "text/html": [
              " View sweep at <a href='https://wandb.ai/bgorai005-iit-madras/deep_learning_assignment_1/sweeps/xd33zmtu' target=\"_blank\">https://wandb.ai/bgorai005-iit-madras/deep_learning_assignment_1/sweeps/xd33zmtu</a>"
            ],
            "text/plain": [
              "<IPython.core.display.HTML object>"
            ]
          },
          "metadata": {},
          "output_type": "display_data"
        },
        {
          "data": {
            "text/html": [
              " View run at <a href='https://wandb.ai/bgorai005-iit-madras/deep_learning_assignment_1/runs/at4m2ldy' target=\"_blank\">https://wandb.ai/bgorai005-iit-madras/deep_learning_assignment_1/runs/at4m2ldy</a>"
            ],
            "text/plain": [
              "<IPython.core.display.HTML object>"
            ]
          },
          "metadata": {},
          "output_type": "display_data"
        },
        {
          "metadata": {
            "tags": null
          },
          "name": "stdout",
          "output_type": "stream",
          "text": [
            "[784, 32, 32, 32, 32, 10]\n",
            "Epoch 1, Loss: 0.14934817025416003, Validation Loss: 0.03033444805637599\n",
            "Epoch 2, Loss: 0.15505691197991658, Validation Loss: 0.02667703250571897\n",
            "Epoch 3, Loss: 0.15794307339765065, Validation Loss: 0.02447305706392511\n",
            "Epoch 4, Loss: 0.15910144093783357, Validation Loss: 0.023981767368092086\n",
            "Epoch 5, Loss: 0.160369078589808, Validation Loss: 0.02276390232436238\n",
            "Test accuracy: 0.8343\n"
          ]
        },
        {
          "data": {
            "text/html": [],
            "text/plain": [
              "<IPython.core.display.HTML object>"
            ]
          },
          "metadata": {},
          "output_type": "display_data"
        },
        {
          "data": {
            "text/html": [
              "<br>    <style><br>        .wandb-row {<br>            display: flex;<br>            flex-direction: row;<br>            flex-wrap: wrap;<br>            justify-content: flex-start;<br>            width: 100%;<br>        }<br>        .wandb-col {<br>            display: flex;<br>            flex-direction: column;<br>            flex-basis: 100%;<br>            flex: 1;<br>            padding: 10px;<br>        }<br>    </style><br><div class=\"wandb-row\"><div class=\"wandb-col\"><h3>Run history:</h3><br/><table class=\"wandb\"><tr><td>epoch</td><td>▁▃▅▆█</td></tr><tr><td>train_accuracy</td><td>▁▄▆▇█</td></tr><tr><td>train_loss</td><td>▁▅▆▇█</td></tr><tr><td>val_accuracy</td><td>▁▄▆▇█</td></tr><tr><td>val_loss</td><td>█▅▃▂▁</td></tr></table><br/></div><div class=\"wandb-col\"><h3>Run summary:</h3><br/><table class=\"wandb\"><tr><td>epoch</td><td>5</td></tr><tr><td>train_accuracy</td><td>85.2463</td></tr><tr><td>train_loss</td><td>0.16037</td></tr><tr><td>val_accuracy</td><td>84.21667</td></tr><tr><td>val_loss</td><td>0.02276</td></tr></table><br/></div></div>"
            ],
            "text/plain": [
              "<IPython.core.display.HTML object>"
            ]
          },
          "metadata": {},
          "output_type": "display_data"
        },
        {
          "data": {
            "text/html": [
              " View run <strong style=\"color:#cdcd00\">ac-sigmoid_hs-32_epc-5_nl-4_lr0.001_wd-0_opt-RMSprop_bs-16_wi-random</strong> at: <a href='https://wandb.ai/bgorai005-iit-madras/deep_learning_assignment_1/runs/at4m2ldy' target=\"_blank\">https://wandb.ai/bgorai005-iit-madras/deep_learning_assignment_1/runs/at4m2ldy</a><br> View project at: <a href='https://wandb.ai/bgorai005-iit-madras/deep_learning_assignment_1' target=\"_blank\">https://wandb.ai/bgorai005-iit-madras/deep_learning_assignment_1</a><br>Synced 5 W&B file(s), 0 media file(s), 0 artifact file(s) and 0 other file(s)"
            ],
            "text/plain": [
              "<IPython.core.display.HTML object>"
            ]
          },
          "metadata": {},
          "output_type": "display_data"
        },
        {
          "data": {
            "text/html": [
              "Find logs at: <code>./wandb/run-20250309_183441-at4m2ldy/logs</code>"
            ],
            "text/plain": [
              "<IPython.core.display.HTML object>"
            ]
          },
          "metadata": {},
          "output_type": "display_data"
        },
        {
          "metadata": {
            "tags": null
          },
          "name": "stderr",
          "output_type": "stream",
          "text": [
            "\u001b[34m\u001b[1mwandb\u001b[0m: Sweep Agent: Waiting for job.\n",
            "\u001b[34m\u001b[1mwandb\u001b[0m: Job received.\n",
            "\u001b[34m\u001b[1mwandb\u001b[0m: Agent Starting Run: tv17ddsu with config:\n",
            "\u001b[34m\u001b[1mwandb\u001b[0m: \tactivation_hidden: relu\n",
            "\u001b[34m\u001b[1mwandb\u001b[0m: \tactivation_output: softmax\n",
            "\u001b[34m\u001b[1mwandb\u001b[0m: \tbatch_size: 32\n",
            "\u001b[34m\u001b[1mwandb\u001b[0m: \tepochs: 10\n",
            "\u001b[34m\u001b[1mwandb\u001b[0m: \thidden_size: 32\n",
            "\u001b[34m\u001b[1mwandb\u001b[0m: \tlearning_rate: 0.001\n",
            "\u001b[34m\u001b[1mwandb\u001b[0m: \tnum_layers: 3\n",
            "\u001b[34m\u001b[1mwandb\u001b[0m: \toptimizer: nag\n",
            "\u001b[34m\u001b[1mwandb\u001b[0m: \tweight_decay: 0\n",
            "\u001b[34m\u001b[1mwandb\u001b[0m: \tweight_ini_method: Xavier\n"
          ]
        },
        {
          "data": {
            "text/html": [
              "Tracking run with wandb version 0.19.7"
            ],
            "text/plain": [
              "<IPython.core.display.HTML object>"
            ]
          },
          "metadata": {},
          "output_type": "display_data"
        },
        {
          "data": {
            "text/html": [
              "Run data is saved locally in <code>/content/wandb/run-20250309_183538-tv17ddsu</code>"
            ],
            "text/plain": [
              "<IPython.core.display.HTML object>"
            ]
          },
          "metadata": {},
          "output_type": "display_data"
        },
        {
          "data": {
            "text/html": [
              "Syncing run <strong><a href='https://wandb.ai/bgorai005-iit-madras/deep_learning_assignment_1/runs/tv17ddsu' target=\"_blank\">frosty-sweep-76</a></strong> to <a href='https://wandb.ai/bgorai005-iit-madras/deep_learning_assignment_1' target=\"_blank\">Weights & Biases</a> (<a href='https://wandb.me/developer-guide' target=\"_blank\">docs</a>)<br>Sweep page: <a href='https://wandb.ai/bgorai005-iit-madras/deep_learning_assignment_1/sweeps/xd33zmtu' target=\"_blank\">https://wandb.ai/bgorai005-iit-madras/deep_learning_assignment_1/sweeps/xd33zmtu</a>"
            ],
            "text/plain": [
              "<IPython.core.display.HTML object>"
            ]
          },
          "metadata": {},
          "output_type": "display_data"
        },
        {
          "data": {
            "text/html": [
              " View project at <a href='https://wandb.ai/bgorai005-iit-madras/deep_learning_assignment_1' target=\"_blank\">https://wandb.ai/bgorai005-iit-madras/deep_learning_assignment_1</a>"
            ],
            "text/plain": [
              "<IPython.core.display.HTML object>"
            ]
          },
          "metadata": {},
          "output_type": "display_data"
        },
        {
          "data": {
            "text/html": [
              " View sweep at <a href='https://wandb.ai/bgorai005-iit-madras/deep_learning_assignment_1/sweeps/xd33zmtu' target=\"_blank\">https://wandb.ai/bgorai005-iit-madras/deep_learning_assignment_1/sweeps/xd33zmtu</a>"
            ],
            "text/plain": [
              "<IPython.core.display.HTML object>"
            ]
          },
          "metadata": {},
          "output_type": "display_data"
        },
        {
          "data": {
            "text/html": [
              " View run at <a href='https://wandb.ai/bgorai005-iit-madras/deep_learning_assignment_1/runs/tv17ddsu' target=\"_blank\">https://wandb.ai/bgorai005-iit-madras/deep_learning_assignment_1/runs/tv17ddsu</a>"
            ],
            "text/plain": [
              "<IPython.core.display.HTML object>"
            ]
          },
          "metadata": {},
          "output_type": "display_data"
        },
        {
          "metadata": {
            "tags": null
          },
          "name": "stdout",
          "output_type": "stream",
          "text": [
            "[784, 32, 32, 32, 10]\n",
            "Epoch 1, Loss: 0.09038892142750193, Validation Loss: 0.0903444903196418\n",
            "Epoch 2, Loss: 0.09020239918755736, Validation Loss: 0.09014408391282791\n",
            "Epoch 3, Loss: 0.09043814648134016, Validation Loss: 0.09056525640084342\n",
            "Epoch 4, Loss: 0.0902762453374786, Validation Loss: 0.09025016679072308\n",
            "Epoch 5, Loss: 0.0903436486243412, Validation Loss: 0.0902250869459035\n",
            "Epoch 6, Loss: 0.09012606555694905, Validation Loss: 0.09008727029191098\n",
            "Epoch 7, Loss: 0.0902188083506106, Validation Loss: 0.09020041832776668\n",
            "Epoch 8, Loss: 0.09037316030541487, Validation Loss: 0.09032688092923767\n",
            "Epoch 9, Loss: 0.09017243547481034, Validation Loss: 0.09011920664667156\n",
            "Epoch 10, Loss: 0.09012341280554123, Validation Loss: 0.0900771528839132\n",
            "Test accuracy: 0.1\n"
          ]
        },
        {
          "data": {
            "text/html": [],
            "text/plain": [
              "<IPython.core.display.HTML object>"
            ]
          },
          "metadata": {},
          "output_type": "display_data"
        },
        {
          "data": {
            "text/html": [
              "<br>    <style><br>        .wandb-row {<br>            display: flex;<br>            flex-direction: row;<br>            flex-wrap: wrap;<br>            justify-content: flex-start;<br>            width: 100%;<br>        }<br>        .wandb-col {<br>            display: flex;<br>            flex-direction: column;<br>            flex-basis: 100%;<br>            flex: 1;<br>            padding: 10px;<br>        }<br>    </style><br><div class=\"wandb-row\"><div class=\"wandb-col\"><h3>Run history:</h3><br/><table class=\"wandb\"><tr><td>epoch</td><td>▁▂▃▃▄▅▆▆▇█</td></tr><tr><td>train_accuracy</td><td>▃▃█▁▂▂▂▄▁▄</td></tr><tr><td>train_loss</td><td>▇▃█▄▆▁▃▇▂▁</td></tr><tr><td>val_accuracy</td><td>▆▆▁█▇▇▇▅█▅</td></tr><tr><td>val_loss</td><td>▅▂█▃▃▁▃▅▂▁</td></tr></table><br/></div><div class=\"wandb-col\"><h3>Run summary:</h3><br/><table class=\"wandb\"><tr><td>epoch</td><td>10</td></tr><tr><td>train_accuracy</td><td>10.01852</td></tr><tr><td>train_loss</td><td>0.09012</td></tr><tr><td>val_accuracy</td><td>9.83333</td></tr><tr><td>val_loss</td><td>0.09008</td></tr></table><br/></div></div>"
            ],
            "text/plain": [
              "<IPython.core.display.HTML object>"
            ]
          },
          "metadata": {},
          "output_type": "display_data"
        },
        {
          "data": {
            "text/html": [
              " View run <strong style=\"color:#cdcd00\">ac-relu_hs-32_epc-10_nl-3_lr0.001_wd-0_opt-nag_bs-32_wi-Xavier</strong> at: <a href='https://wandb.ai/bgorai005-iit-madras/deep_learning_assignment_1/runs/tv17ddsu' target=\"_blank\">https://wandb.ai/bgorai005-iit-madras/deep_learning_assignment_1/runs/tv17ddsu</a><br> View project at: <a href='https://wandb.ai/bgorai005-iit-madras/deep_learning_assignment_1' target=\"_blank\">https://wandb.ai/bgorai005-iit-madras/deep_learning_assignment_1</a><br>Synced 5 W&B file(s), 0 media file(s), 0 artifact file(s) and 0 other file(s)"
            ],
            "text/plain": [
              "<IPython.core.display.HTML object>"
            ]
          },
          "metadata": {},
          "output_type": "display_data"
        },
        {
          "data": {
            "text/html": [
              "Find logs at: <code>./wandb/run-20250309_183538-tv17ddsu/logs</code>"
            ],
            "text/plain": [
              "<IPython.core.display.HTML object>"
            ]
          },
          "metadata": {},
          "output_type": "display_data"
        },
        {
          "metadata": {
            "tags": null
          },
          "name": "stderr",
          "output_type": "stream",
          "text": [
            "\u001b[34m\u001b[1mwandb\u001b[0m: Agent Starting Run: yp3ut563 with config:\n",
            "\u001b[34m\u001b[1mwandb\u001b[0m: \tactivation_hidden: relu\n",
            "\u001b[34m\u001b[1mwandb\u001b[0m: \tactivation_output: softmax\n",
            "\u001b[34m\u001b[1mwandb\u001b[0m: \tbatch_size: 16\n",
            "\u001b[34m\u001b[1mwandb\u001b[0m: \tepochs: 10\n",
            "\u001b[34m\u001b[1mwandb\u001b[0m: \thidden_size: 64\n",
            "\u001b[34m\u001b[1mwandb\u001b[0m: \tlearning_rate: 0.0001\n",
            "\u001b[34m\u001b[1mwandb\u001b[0m: \tnum_layers: 3\n",
            "\u001b[34m\u001b[1mwandb\u001b[0m: \toptimizer: RMSprop\n",
            "\u001b[34m\u001b[1mwandb\u001b[0m: \tweight_decay: 0\n",
            "\u001b[34m\u001b[1mwandb\u001b[0m: \tweight_ini_method: Xavier\n"
          ]
        },
        {
          "data": {
            "text/html": [
              "Tracking run with wandb version 0.19.7"
            ],
            "text/plain": [
              "<IPython.core.display.HTML object>"
            ]
          },
          "metadata": {},
          "output_type": "display_data"
        },
        {
          "data": {
            "text/html": [
              "Run data is saved locally in <code>/content/wandb/run-20250309_183645-yp3ut563</code>"
            ],
            "text/plain": [
              "<IPython.core.display.HTML object>"
            ]
          },
          "metadata": {},
          "output_type": "display_data"
        },
        {
          "data": {
            "text/html": [
              "Syncing run <strong><a href='https://wandb.ai/bgorai005-iit-madras/deep_learning_assignment_1/runs/yp3ut563' target=\"_blank\">icy-sweep-77</a></strong> to <a href='https://wandb.ai/bgorai005-iit-madras/deep_learning_assignment_1' target=\"_blank\">Weights & Biases</a> (<a href='https://wandb.me/developer-guide' target=\"_blank\">docs</a>)<br>Sweep page: <a href='https://wandb.ai/bgorai005-iit-madras/deep_learning_assignment_1/sweeps/xd33zmtu' target=\"_blank\">https://wandb.ai/bgorai005-iit-madras/deep_learning_assignment_1/sweeps/xd33zmtu</a>"
            ],
            "text/plain": [
              "<IPython.core.display.HTML object>"
            ]
          },
          "metadata": {},
          "output_type": "display_data"
        },
        {
          "data": {
            "text/html": [
              " View project at <a href='https://wandb.ai/bgorai005-iit-madras/deep_learning_assignment_1' target=\"_blank\">https://wandb.ai/bgorai005-iit-madras/deep_learning_assignment_1</a>"
            ],
            "text/plain": [
              "<IPython.core.display.HTML object>"
            ]
          },
          "metadata": {},
          "output_type": "display_data"
        },
        {
          "data": {
            "text/html": [
              " View sweep at <a href='https://wandb.ai/bgorai005-iit-madras/deep_learning_assignment_1/sweeps/xd33zmtu' target=\"_blank\">https://wandb.ai/bgorai005-iit-madras/deep_learning_assignment_1/sweeps/xd33zmtu</a>"
            ],
            "text/plain": [
              "<IPython.core.display.HTML object>"
            ]
          },
          "metadata": {},
          "output_type": "display_data"
        },
        {
          "data": {
            "text/html": [
              " View run at <a href='https://wandb.ai/bgorai005-iit-madras/deep_learning_assignment_1/runs/yp3ut563' target=\"_blank\">https://wandb.ai/bgorai005-iit-madras/deep_learning_assignment_1/runs/yp3ut563</a>"
            ],
            "text/plain": [
              "<IPython.core.display.HTML object>"
            ]
          },
          "metadata": {},
          "output_type": "display_data"
        },
        {
          "metadata": {
            "tags": null
          },
          "name": "stdout",
          "output_type": "stream",
          "text": [
            "[784, 64, 64, 64, 10]\n",
            "Epoch 1, Loss: 0.15535173885977527, Validation Loss: 0.025557933335534095\n",
            "Epoch 2, Loss: 0.15672318739770422, Validation Loss: 0.022398006943027685\n",
            "Epoch 3, Loss: 0.1588526212826964, Validation Loss: 0.02080227662625705\n",
            "Epoch 4, Loss: 0.16112924540792498, Validation Loss: 0.020170234576765204\n",
            "Epoch 5, Loss: 0.1610469078534225, Validation Loss: 0.019261451660167638\n",
            "Epoch 6, Loss: 0.16320910764973598, Validation Loss: 0.01877100250241228\n",
            "Epoch 7, Loss: 0.16371028276344568, Validation Loss: 0.01816949092702936\n",
            "Epoch 8, Loss: 0.16299000684856357, Validation Loss: 0.018346775059281617\n",
            "Epoch 9, Loss: 0.163748043024429, Validation Loss: 0.01816989703460286\n",
            "Epoch 10, Loss: 0.16371415406860285, Validation Loss: 0.018382180048433883\n",
            "Test accuracy: 0.8608\n"
          ]
        },
        {
          "data": {
            "text/html": [],
            "text/plain": [
              "<IPython.core.display.HTML object>"
            ]
          },
          "metadata": {},
          "output_type": "display_data"
        },
        {
          "data": {
            "text/html": [
              "<br>    <style><br>        .wandb-row {<br>            display: flex;<br>            flex-direction: row;<br>            flex-wrap: wrap;<br>            justify-content: flex-start;<br>            width: 100%;<br>        }<br>        .wandb-col {<br>            display: flex;<br>            flex-direction: column;<br>            flex-basis: 100%;<br>            flex: 1;<br>            padding: 10px;<br>        }<br>    </style><br><div class=\"wandb-row\"><div class=\"wandb-col\"><h3>Run history:</h3><br/><table class=\"wandb\"><tr><td>epoch</td><td>▁▂▃▃▄▅▆▆▇█</td></tr><tr><td>train_accuracy</td><td>▁▄▅▆▆▇████</td></tr><tr><td>train_loss</td><td>▁▂▄▆▆██▇██</td></tr><tr><td>val_accuracy</td><td>▁▃▅▆▇▇████</td></tr><tr><td>val_loss</td><td>█▅▃▃▂▂▁▁▁▁</td></tr></table><br/></div><div class=\"wandb-col\"><h3>Run summary:</h3><br/><table class=\"wandb\"><tr><td>epoch</td><td>10</td></tr><tr><td>train_accuracy</td><td>88.38333</td></tr><tr><td>train_loss</td><td>0.16371</td></tr><tr><td>val_accuracy</td><td>87.45</td></tr><tr><td>val_loss</td><td>0.01838</td></tr></table><br/></div></div>"
            ],
            "text/plain": [
              "<IPython.core.display.HTML object>"
            ]
          },
          "metadata": {},
          "output_type": "display_data"
        },
        {
          "data": {
            "text/html": [
              " View run <strong style=\"color:#cdcd00\">ac-relu_hs-64_epc-10_nl-3_lr0.0001_wd-0_opt-RMSprop_bs-16_wi-Xavier</strong> at: <a href='https://wandb.ai/bgorai005-iit-madras/deep_learning_assignment_1/runs/yp3ut563' target=\"_blank\">https://wandb.ai/bgorai005-iit-madras/deep_learning_assignment_1/runs/yp3ut563</a><br> View project at: <a href='https://wandb.ai/bgorai005-iit-madras/deep_learning_assignment_1' target=\"_blank\">https://wandb.ai/bgorai005-iit-madras/deep_learning_assignment_1</a><br>Synced 5 W&B file(s), 0 media file(s), 0 artifact file(s) and 0 other file(s)"
            ],
            "text/plain": [
              "<IPython.core.display.HTML object>"
            ]
          },
          "metadata": {},
          "output_type": "display_data"
        },
        {
          "data": {
            "text/html": [
              "Find logs at: <code>./wandb/run-20250309_183645-yp3ut563/logs</code>"
            ],
            "text/plain": [
              "<IPython.core.display.HTML object>"
            ]
          },
          "metadata": {},
          "output_type": "display_data"
        },
        {
          "metadata": {
            "tags": null
          },
          "name": "stderr",
          "output_type": "stream",
          "text": [
            "\u001b[34m\u001b[1mwandb\u001b[0m: Agent Starting Run: a0waanyh with config:\n",
            "\u001b[34m\u001b[1mwandb\u001b[0m: \tactivation_hidden: tanh\n",
            "\u001b[34m\u001b[1mwandb\u001b[0m: \tactivation_output: softmax\n",
            "\u001b[34m\u001b[1mwandb\u001b[0m: \tbatch_size: 64\n",
            "\u001b[34m\u001b[1mwandb\u001b[0m: \tepochs: 10\n",
            "\u001b[34m\u001b[1mwandb\u001b[0m: \thidden_size: 32\n",
            "\u001b[34m\u001b[1mwandb\u001b[0m: \tlearning_rate: 0.001\n",
            "\u001b[34m\u001b[1mwandb\u001b[0m: \tnum_layers: 3\n",
            "\u001b[34m\u001b[1mwandb\u001b[0m: \toptimizer: adam\n",
            "\u001b[34m\u001b[1mwandb\u001b[0m: \tweight_decay: 0\n",
            "\u001b[34m\u001b[1mwandb\u001b[0m: \tweight_ini_method: random\n"
          ]
        },
        {
          "data": {
            "text/html": [
              "Tracking run with wandb version 0.19.7"
            ],
            "text/plain": [
              "<IPython.core.display.HTML object>"
            ]
          },
          "metadata": {},
          "output_type": "display_data"
        },
        {
          "data": {
            "text/html": [
              "Run data is saved locally in <code>/content/wandb/run-20250309_183829-a0waanyh</code>"
            ],
            "text/plain": [
              "<IPython.core.display.HTML object>"
            ]
          },
          "metadata": {},
          "output_type": "display_data"
        },
        {
          "data": {
            "text/html": [
              "Syncing run <strong><a href='https://wandb.ai/bgorai005-iit-madras/deep_learning_assignment_1/runs/a0waanyh' target=\"_blank\">earthy-sweep-78</a></strong> to <a href='https://wandb.ai/bgorai005-iit-madras/deep_learning_assignment_1' target=\"_blank\">Weights & Biases</a> (<a href='https://wandb.me/developer-guide' target=\"_blank\">docs</a>)<br>Sweep page: <a href='https://wandb.ai/bgorai005-iit-madras/deep_learning_assignment_1/sweeps/xd33zmtu' target=\"_blank\">https://wandb.ai/bgorai005-iit-madras/deep_learning_assignment_1/sweeps/xd33zmtu</a>"
            ],
            "text/plain": [
              "<IPython.core.display.HTML object>"
            ]
          },
          "metadata": {},
          "output_type": "display_data"
        },
        {
          "data": {
            "text/html": [
              " View project at <a href='https://wandb.ai/bgorai005-iit-madras/deep_learning_assignment_1' target=\"_blank\">https://wandb.ai/bgorai005-iit-madras/deep_learning_assignment_1</a>"
            ],
            "text/plain": [
              "<IPython.core.display.HTML object>"
            ]
          },
          "metadata": {},
          "output_type": "display_data"
        },
        {
          "data": {
            "text/html": [
              " View sweep at <a href='https://wandb.ai/bgorai005-iit-madras/deep_learning_assignment_1/sweeps/xd33zmtu' target=\"_blank\">https://wandb.ai/bgorai005-iit-madras/deep_learning_assignment_1/sweeps/xd33zmtu</a>"
            ],
            "text/plain": [
              "<IPython.core.display.HTML object>"
            ]
          },
          "metadata": {},
          "output_type": "display_data"
        },
        {
          "data": {
            "text/html": [
              " View run at <a href='https://wandb.ai/bgorai005-iit-madras/deep_learning_assignment_1/runs/a0waanyh' target=\"_blank\">https://wandb.ai/bgorai005-iit-madras/deep_learning_assignment_1/runs/a0waanyh</a>"
            ],
            "text/plain": [
              "<IPython.core.display.HTML object>"
            ]
          },
          "metadata": {},
          "output_type": "display_data"
        },
        {
          "metadata": {
            "tags": null
          },
          "name": "stdout",
          "output_type": "stream",
          "text": [
            "[784, 32, 32, 32, 10]\n",
            "Epoch 1, Train Loss: 0.05305794752959299, Val Loss: 0.0547055421432119\n",
            "Epoch 2, Train Loss: 0.04467219932713539, Val Loss: 0.04609151346799834\n",
            "Epoch 3, Train Loss: 0.04078690694856481, Val Loss: 0.04208422446496078\n",
            "Epoch 4, Train Loss: 0.03813949813553586, Val Loss: 0.03961930510429734\n",
            "Epoch 5, Train Loss: 0.03663800521914711, Val Loss: 0.03803282740562549\n",
            "Epoch 6, Train Loss: 0.03516267847529188, Val Loss: 0.03693161390079052\n",
            "Epoch 7, Train Loss: 0.03384884612468231, Val Loss: 0.03584333853911485\n",
            "Epoch 8, Train Loss: 0.033109969272709705, Val Loss: 0.03515002140058142\n",
            "Epoch 9, Train Loss: 0.032174697068478184, Val Loss: 0.03410533200772146\n",
            "Epoch 10, Train Loss: 0.031617655243515196, Val Loss: 0.03389261380116153\n",
            "Test accuracy: 0.7522\n"
          ]
        },
        {
          "data": {
            "text/html": [],
            "text/plain": [
              "<IPython.core.display.HTML object>"
            ]
          },
          "metadata": {},
          "output_type": "display_data"
        },
        {
          "data": {
            "text/html": [
              "<br>    <style><br>        .wandb-row {<br>            display: flex;<br>            flex-direction: row;<br>            flex-wrap: wrap;<br>            justify-content: flex-start;<br>            width: 100%;<br>        }<br>        .wandb-col {<br>            display: flex;<br>            flex-direction: column;<br>            flex-basis: 100%;<br>            flex: 1;<br>            padding: 10px;<br>        }<br>    </style><br><div class=\"wandb-row\"><div class=\"wandb-col\"><h3>Run history:</h3><br/><table class=\"wandb\"><tr><td>epoch</td><td>▁▂▃▃▄▅▆▆▇█</td></tr><tr><td>train_accuracy</td><td>▁▄▅▅▆▇▇▇██</td></tr><tr><td>train_loss</td><td>█▅▄▃▃▂▂▁▁▁</td></tr><tr><td>val_accuracy</td><td>▁▄▅▆▆▇▇▇██</td></tr><tr><td>val_loss</td><td>█▅▄▃▂▂▂▁▁▁</td></tr></table><br/></div><div class=\"wandb-col\"><h3>Run summary:</h3><br/><table class=\"wandb\"><tr><td>epoch</td><td>10</td></tr><tr><td>train_accuracy</td><td>77.36481</td></tr><tr><td>train_loss</td><td>0.03162</td></tr><tr><td>val_accuracy</td><td>75.66667</td></tr><tr><td>val_loss</td><td>0.03389</td></tr></table><br/></div></div>"
            ],
            "text/plain": [
              "<IPython.core.display.HTML object>"
            ]
          },
          "metadata": {},
          "output_type": "display_data"
        },
        {
          "data": {
            "text/html": [
              " View run <strong style=\"color:#cdcd00\">ac-tanh_hs-32_epc-10_nl-3_lr0.001_wd-0_opt-adam_bs-64_wi-random</strong> at: <a href='https://wandb.ai/bgorai005-iit-madras/deep_learning_assignment_1/runs/a0waanyh' target=\"_blank\">https://wandb.ai/bgorai005-iit-madras/deep_learning_assignment_1/runs/a0waanyh</a><br> View project at: <a href='https://wandb.ai/bgorai005-iit-madras/deep_learning_assignment_1' target=\"_blank\">https://wandb.ai/bgorai005-iit-madras/deep_learning_assignment_1</a><br>Synced 5 W&B file(s), 0 media file(s), 0 artifact file(s) and 0 other file(s)"
            ],
            "text/plain": [
              "<IPython.core.display.HTML object>"
            ]
          },
          "metadata": {},
          "output_type": "display_data"
        },
        {
          "data": {
            "text/html": [
              "Find logs at: <code>./wandb/run-20250309_183829-a0waanyh/logs</code>"
            ],
            "text/plain": [
              "<IPython.core.display.HTML object>"
            ]
          },
          "metadata": {},
          "output_type": "display_data"
        },
        {
          "metadata": {
            "tags": null
          },
          "name": "stderr",
          "output_type": "stream",
          "text": [
            "\u001b[34m\u001b[1mwandb\u001b[0m: Agent Starting Run: 7ir2j816 with config:\n",
            "\u001b[34m\u001b[1mwandb\u001b[0m: \tactivation_hidden: tanh\n",
            "\u001b[34m\u001b[1mwandb\u001b[0m: \tactivation_output: softmax\n",
            "\u001b[34m\u001b[1mwandb\u001b[0m: \tbatch_size: 32\n",
            "\u001b[34m\u001b[1mwandb\u001b[0m: \tepochs: 10\n",
            "\u001b[34m\u001b[1mwandb\u001b[0m: \thidden_size: 32\n",
            "\u001b[34m\u001b[1mwandb\u001b[0m: \tlearning_rate: 0.001\n",
            "\u001b[34m\u001b[1mwandb\u001b[0m: \tnum_layers: 3\n",
            "\u001b[34m\u001b[1mwandb\u001b[0m: \toptimizer: nag\n",
            "\u001b[34m\u001b[1mwandb\u001b[0m: \tweight_decay: 0\n",
            "\u001b[34m\u001b[1mwandb\u001b[0m: \tweight_ini_method: random\n"
          ]
        },
        {
          "data": {
            "text/html": [
              "Tracking run with wandb version 0.19.7"
            ],
            "text/plain": [
              "<IPython.core.display.HTML object>"
            ]
          },
          "metadata": {},
          "output_type": "display_data"
        },
        {
          "data": {
            "text/html": [
              "Run data is saved locally in <code>/content/wandb/run-20250309_183926-7ir2j816</code>"
            ],
            "text/plain": [
              "<IPython.core.display.HTML object>"
            ]
          },
          "metadata": {},
          "output_type": "display_data"
        },
        {
          "data": {
            "text/html": [
              "Syncing run <strong><a href='https://wandb.ai/bgorai005-iit-madras/deep_learning_assignment_1/runs/7ir2j816' target=\"_blank\">misty-sweep-79</a></strong> to <a href='https://wandb.ai/bgorai005-iit-madras/deep_learning_assignment_1' target=\"_blank\">Weights & Biases</a> (<a href='https://wandb.me/developer-guide' target=\"_blank\">docs</a>)<br>Sweep page: <a href='https://wandb.ai/bgorai005-iit-madras/deep_learning_assignment_1/sweeps/xd33zmtu' target=\"_blank\">https://wandb.ai/bgorai005-iit-madras/deep_learning_assignment_1/sweeps/xd33zmtu</a>"
            ],
            "text/plain": [
              "<IPython.core.display.HTML object>"
            ]
          },
          "metadata": {},
          "output_type": "display_data"
        },
        {
          "data": {
            "text/html": [
              " View project at <a href='https://wandb.ai/bgorai005-iit-madras/deep_learning_assignment_1' target=\"_blank\">https://wandb.ai/bgorai005-iit-madras/deep_learning_assignment_1</a>"
            ],
            "text/plain": [
              "<IPython.core.display.HTML object>"
            ]
          },
          "metadata": {},
          "output_type": "display_data"
        },
        {
          "data": {
            "text/html": [
              " View sweep at <a href='https://wandb.ai/bgorai005-iit-madras/deep_learning_assignment_1/sweeps/xd33zmtu' target=\"_blank\">https://wandb.ai/bgorai005-iit-madras/deep_learning_assignment_1/sweeps/xd33zmtu</a>"
            ],
            "text/plain": [
              "<IPython.core.display.HTML object>"
            ]
          },
          "metadata": {},
          "output_type": "display_data"
        },
        {
          "data": {
            "text/html": [
              " View run at <a href='https://wandb.ai/bgorai005-iit-madras/deep_learning_assignment_1/runs/7ir2j816' target=\"_blank\">https://wandb.ai/bgorai005-iit-madras/deep_learning_assignment_1/runs/7ir2j816</a>"
            ],
            "text/plain": [
              "<IPython.core.display.HTML object>"
            ]
          },
          "metadata": {},
          "output_type": "display_data"
        },
        {
          "metadata": {
            "tags": null
          },
          "name": "stdout",
          "output_type": "stream",
          "text": [
            "[784, 32, 32, 32, 10]\n",
            "Epoch 1, Loss: 0.13839949892023873, Validation Loss: 0.13850685263737103\n",
            "Epoch 2, Loss: 0.17301978951148647, Validation Loss: 0.17278858078980872\n",
            "Epoch 3, Loss: 0.179407342299911, Validation Loss: 0.1791159257118939\n",
            "Epoch 4, Loss: 0.17262057504059022, Validation Loss: 0.1729847783777505\n",
            "Epoch 5, Loss: 0.12613345616807242, Validation Loss: 0.12598973918917342\n",
            "Epoch 6, Loss: 0.1498961641278722, Validation Loss: 0.1492650269278199\n",
            "Epoch 7, Loss: 0.17905995570703748, Validation Loss: 0.178761453331121\n",
            "Epoch 8, Loss: 0.148765808236469, Validation Loss: 0.1485464845423385\n",
            "Epoch 9, Loss: 0.12420299077126075, Validation Loss: 0.12452376564002769\n",
            "Epoch 10, Loss: 0.11748205805325711, Validation Loss: 0.11776312650818457\n",
            "Test accuracy: 0.1\n"
          ]
        },
        {
          "data": {
            "text/html": [],
            "text/plain": [
              "<IPython.core.display.HTML object>"
            ]
          },
          "metadata": {},
          "output_type": "display_data"
        },
        {
          "data": {
            "text/html": [
              "<br>    <style><br>        .wandb-row {<br>            display: flex;<br>            flex-direction: row;<br>            flex-wrap: wrap;<br>            justify-content: flex-start;<br>            width: 100%;<br>        }<br>        .wandb-col {<br>            display: flex;<br>            flex-direction: column;<br>            flex-basis: 100%;<br>            flex: 1;<br>            padding: 10px;<br>        }<br>    </style><br><div class=\"wandb-row\"><div class=\"wandb-col\"><h3>Run history:</h3><br/><table class=\"wandb\"><tr><td>epoch</td><td>▁▂▃▃▄▅▆▆▇█</td></tr><tr><td>train_accuracy</td><td>▁███▇▇████</td></tr><tr><td>train_loss</td><td>▃▇█▇▂▅█▅▂▁</td></tr><tr><td>val_accuracy</td><td>▁▅▅▁▆█▅▅▃▅</td></tr><tr><td>val_loss</td><td>▃▇█▇▂▅█▅▂▁</td></tr></table><br/></div><div class=\"wandb-col\"><h3>Run summary:</h3><br/><table class=\"wandb\"><tr><td>epoch</td><td>10</td></tr><tr><td>train_accuracy</td><td>9.98519</td></tr><tr><td>train_loss</td><td>0.11748</td></tr><tr><td>val_accuracy</td><td>10.13333</td></tr><tr><td>val_loss</td><td>0.11776</td></tr></table><br/></div></div>"
            ],
            "text/plain": [
              "<IPython.core.display.HTML object>"
            ]
          },
          "metadata": {},
          "output_type": "display_data"
        },
        {
          "data": {
            "text/html": [
              " View run <strong style=\"color:#cdcd00\">ac-tanh_hs-32_epc-10_nl-3_lr0.001_wd-0_opt-nag_bs-32_wi-random</strong> at: <a href='https://wandb.ai/bgorai005-iit-madras/deep_learning_assignment_1/runs/7ir2j816' target=\"_blank\">https://wandb.ai/bgorai005-iit-madras/deep_learning_assignment_1/runs/7ir2j816</a><br> View project at: <a href='https://wandb.ai/bgorai005-iit-madras/deep_learning_assignment_1' target=\"_blank\">https://wandb.ai/bgorai005-iit-madras/deep_learning_assignment_1</a><br>Synced 5 W&B file(s), 0 media file(s), 0 artifact file(s) and 0 other file(s)"
            ],
            "text/plain": [
              "<IPython.core.display.HTML object>"
            ]
          },
          "metadata": {},
          "output_type": "display_data"
        },
        {
          "data": {
            "text/html": [
              "Find logs at: <code>./wandb/run-20250309_183926-7ir2j816/logs</code>"
            ],
            "text/plain": [
              "<IPython.core.display.HTML object>"
            ]
          },
          "metadata": {},
          "output_type": "display_data"
        },
        {
          "metadata": {
            "tags": null
          },
          "name": "stderr",
          "output_type": "stream",
          "text": [
            "\u001b[34m\u001b[1mwandb\u001b[0m: Agent Starting Run: zpxpwj12 with config:\n",
            "\u001b[34m\u001b[1mwandb\u001b[0m: \tactivation_hidden: relu\n",
            "\u001b[34m\u001b[1mwandb\u001b[0m: \tactivation_output: softmax\n",
            "\u001b[34m\u001b[1mwandb\u001b[0m: \tbatch_size: 32\n",
            "\u001b[34m\u001b[1mwandb\u001b[0m: \tepochs: 10\n",
            "\u001b[34m\u001b[1mwandb\u001b[0m: \thidden_size: 32\n",
            "\u001b[34m\u001b[1mwandb\u001b[0m: \tlearning_rate: 0.001\n",
            "\u001b[34m\u001b[1mwandb\u001b[0m: \tnum_layers: 5\n",
            "\u001b[34m\u001b[1mwandb\u001b[0m: \toptimizer: nag\n",
            "\u001b[34m\u001b[1mwandb\u001b[0m: \tweight_decay: 0\n",
            "\u001b[34m\u001b[1mwandb\u001b[0m: \tweight_ini_method: random\n"
          ]
        },
        {
          "data": {
            "text/html": [
              "Tracking run with wandb version 0.19.7"
            ],
            "text/plain": [
              "<IPython.core.display.HTML object>"
            ]
          },
          "metadata": {},
          "output_type": "display_data"
        },
        {
          "data": {
            "text/html": [
              "Run data is saved locally in <code>/content/wandb/run-20250309_184037-zpxpwj12</code>"
            ],
            "text/plain": [
              "<IPython.core.display.HTML object>"
            ]
          },
          "metadata": {},
          "output_type": "display_data"
        },
        {
          "data": {
            "text/html": [
              "Syncing run <strong><a href='https://wandb.ai/bgorai005-iit-madras/deep_learning_assignment_1/runs/zpxpwj12' target=\"_blank\">cool-sweep-80</a></strong> to <a href='https://wandb.ai/bgorai005-iit-madras/deep_learning_assignment_1' target=\"_blank\">Weights & Biases</a> (<a href='https://wandb.me/developer-guide' target=\"_blank\">docs</a>)<br>Sweep page: <a href='https://wandb.ai/bgorai005-iit-madras/deep_learning_assignment_1/sweeps/xd33zmtu' target=\"_blank\">https://wandb.ai/bgorai005-iit-madras/deep_learning_assignment_1/sweeps/xd33zmtu</a>"
            ],
            "text/plain": [
              "<IPython.core.display.HTML object>"
            ]
          },
          "metadata": {},
          "output_type": "display_data"
        },
        {
          "data": {
            "text/html": [
              " View project at <a href='https://wandb.ai/bgorai005-iit-madras/deep_learning_assignment_1' target=\"_blank\">https://wandb.ai/bgorai005-iit-madras/deep_learning_assignment_1</a>"
            ],
            "text/plain": [
              "<IPython.core.display.HTML object>"
            ]
          },
          "metadata": {},
          "output_type": "display_data"
        },
        {
          "data": {
            "text/html": [
              " View sweep at <a href='https://wandb.ai/bgorai005-iit-madras/deep_learning_assignment_1/sweeps/xd33zmtu' target=\"_blank\">https://wandb.ai/bgorai005-iit-madras/deep_learning_assignment_1/sweeps/xd33zmtu</a>"
            ],
            "text/plain": [
              "<IPython.core.display.HTML object>"
            ]
          },
          "metadata": {},
          "output_type": "display_data"
        },
        {
          "data": {
            "text/html": [
              " View run at <a href='https://wandb.ai/bgorai005-iit-madras/deep_learning_assignment_1/runs/zpxpwj12' target=\"_blank\">https://wandb.ai/bgorai005-iit-madras/deep_learning_assignment_1/runs/zpxpwj12</a>"
            ],
            "text/plain": [
              "<IPython.core.display.HTML object>"
            ]
          },
          "metadata": {},
          "output_type": "display_data"
        },
        {
          "metadata": {
            "tags": null
          },
          "name": "stdout",
          "output_type": "stream",
          "text": [
            "[784, 32, 32, 32, 32, 32, 10]\n"
          ]
        },
        {
          "metadata": {
            "tags": null
          },
          "name": "stderr",
          "output_type": "stream",
          "text": [
            "<ipython-input-8-867b69375f18>:20: RuntimeWarning: invalid value encountered in subtract\n",
            "  x = x - np.max(x,axis=1,keepdims=True)\n"
          ]
        },
        {
          "metadata": {
            "tags": null
          },
          "name": "stdout",
          "output_type": "stream",
          "text": [
            "Epoch 1, Loss: nan, Validation Loss: nan\n",
            "Epoch 2, Loss: nan, Validation Loss: nan\n",
            "Epoch 3, Loss: nan, Validation Loss: nan\n",
            "Epoch 4, Loss: nan, Validation Loss: nan\n",
            "Epoch 5, Loss: nan, Validation Loss: nan\n",
            "Epoch 6, Loss: nan, Validation Loss: nan\n",
            "Epoch 7, Loss: nan, Validation Loss: nan\n",
            "Epoch 8, Loss: nan, Validation Loss: nan\n",
            "Epoch 9, Loss: nan, Validation Loss: nan\n",
            "Epoch 10, Loss: nan, Validation Loss: nan\n",
            "Test accuracy: 0.1\n"
          ]
        },
        {
          "data": {
            "text/html": [],
            "text/plain": [
              "<IPython.core.display.HTML object>"
            ]
          },
          "metadata": {},
          "output_type": "display_data"
        },
        {
          "data": {
            "text/html": [
              "<br>    <style><br>        .wandb-row {<br>            display: flex;<br>            flex-direction: row;<br>            flex-wrap: wrap;<br>            justify-content: flex-start;<br>            width: 100%;<br>        }<br>        .wandb-col {<br>            display: flex;<br>            flex-direction: column;<br>            flex-basis: 100%;<br>            flex: 1;<br>            padding: 10px;<br>        }<br>    </style><br><div class=\"wandb-row\"><div class=\"wandb-col\"><h3>Run history:</h3><br/><table class=\"wandb\"><tr><td>epoch</td><td>▁▂▃▃▄▅▆▆▇█</td></tr><tr><td>train_accuracy</td><td>▁▁▁▁▁▁▁▁▁▁</td></tr><tr><td>val_accuracy</td><td>▁▁▁▁▁▁▁▁▁▁</td></tr></table><br/></div><div class=\"wandb-col\"><h3>Run summary:</h3><br/><table class=\"wandb\"><tr><td>epoch</td><td>10</td></tr><tr><td>train_accuracy</td><td>10.00556</td></tr><tr><td>train_loss</td><td>nan</td></tr><tr><td>val_accuracy</td><td>9.95</td></tr><tr><td>val_loss</td><td>nan</td></tr></table><br/></div></div>"
            ],
            "text/plain": [
              "<IPython.core.display.HTML object>"
            ]
          },
          "metadata": {},
          "output_type": "display_data"
        },
        {
          "data": {
            "text/html": [
              " View run <strong style=\"color:#cdcd00\">ac-relu_hs-32_epc-10_nl-5_lr0.001_wd-0_opt-nag_bs-32_wi-random</strong> at: <a href='https://wandb.ai/bgorai005-iit-madras/deep_learning_assignment_1/runs/zpxpwj12' target=\"_blank\">https://wandb.ai/bgorai005-iit-madras/deep_learning_assignment_1/runs/zpxpwj12</a><br> View project at: <a href='https://wandb.ai/bgorai005-iit-madras/deep_learning_assignment_1' target=\"_blank\">https://wandb.ai/bgorai005-iit-madras/deep_learning_assignment_1</a><br>Synced 5 W&B file(s), 0 media file(s), 0 artifact file(s) and 0 other file(s)"
            ],
            "text/plain": [
              "<IPython.core.display.HTML object>"
            ]
          },
          "metadata": {},
          "output_type": "display_data"
        },
        {
          "data": {
            "text/html": [
              "Find logs at: <code>./wandb/run-20250309_184037-zpxpwj12/logs</code>"
            ],
            "text/plain": [
              "<IPython.core.display.HTML object>"
            ]
          },
          "metadata": {},
          "output_type": "display_data"
        },
        {
          "metadata": {
            "tags": null
          },
          "name": "stderr",
          "output_type": "stream",
          "text": [
            "\u001b[34m\u001b[1mwandb\u001b[0m: Agent Starting Run: 9qy5zzua with config:\n",
            "\u001b[34m\u001b[1mwandb\u001b[0m: \tactivation_hidden: tanh\n",
            "\u001b[34m\u001b[1mwandb\u001b[0m: \tactivation_output: softmax\n",
            "\u001b[34m\u001b[1mwandb\u001b[0m: \tbatch_size: 32\n",
            "\u001b[34m\u001b[1mwandb\u001b[0m: \tepochs: 5\n",
            "\u001b[34m\u001b[1mwandb\u001b[0m: \thidden_size: 32\n",
            "\u001b[34m\u001b[1mwandb\u001b[0m: \tlearning_rate: 0.0001\n",
            "\u001b[34m\u001b[1mwandb\u001b[0m: \tnum_layers: 5\n",
            "\u001b[34m\u001b[1mwandb\u001b[0m: \toptimizer: momentum\n",
            "\u001b[34m\u001b[1mwandb\u001b[0m: \tweight_decay: 0\n",
            "\u001b[34m\u001b[1mwandb\u001b[0m: \tweight_ini_method: Xavier\n"
          ]
        },
        {
          "data": {
            "text/html": [
              "Tracking run with wandb version 0.19.7"
            ],
            "text/plain": [
              "<IPython.core.display.HTML object>"
            ]
          },
          "metadata": {},
          "output_type": "display_data"
        },
        {
          "data": {
            "text/html": [
              "Run data is saved locally in <code>/content/wandb/run-20250309_184139-9qy5zzua</code>"
            ],
            "text/plain": [
              "<IPython.core.display.HTML object>"
            ]
          },
          "metadata": {},
          "output_type": "display_data"
        },
        {
          "data": {
            "text/html": [
              "Syncing run <strong><a href='https://wandb.ai/bgorai005-iit-madras/deep_learning_assignment_1/runs/9qy5zzua' target=\"_blank\">stellar-sweep-81</a></strong> to <a href='https://wandb.ai/bgorai005-iit-madras/deep_learning_assignment_1' target=\"_blank\">Weights & Biases</a> (<a href='https://wandb.me/developer-guide' target=\"_blank\">docs</a>)<br>Sweep page: <a href='https://wandb.ai/bgorai005-iit-madras/deep_learning_assignment_1/sweeps/xd33zmtu' target=\"_blank\">https://wandb.ai/bgorai005-iit-madras/deep_learning_assignment_1/sweeps/xd33zmtu</a>"
            ],
            "text/plain": [
              "<IPython.core.display.HTML object>"
            ]
          },
          "metadata": {},
          "output_type": "display_data"
        },
        {
          "data": {
            "text/html": [
              " View project at <a href='https://wandb.ai/bgorai005-iit-madras/deep_learning_assignment_1' target=\"_blank\">https://wandb.ai/bgorai005-iit-madras/deep_learning_assignment_1</a>"
            ],
            "text/plain": [
              "<IPython.core.display.HTML object>"
            ]
          },
          "metadata": {},
          "output_type": "display_data"
        },
        {
          "data": {
            "text/html": [
              " View sweep at <a href='https://wandb.ai/bgorai005-iit-madras/deep_learning_assignment_1/sweeps/xd33zmtu' target=\"_blank\">https://wandb.ai/bgorai005-iit-madras/deep_learning_assignment_1/sweeps/xd33zmtu</a>"
            ],
            "text/plain": [
              "<IPython.core.display.HTML object>"
            ]
          },
          "metadata": {},
          "output_type": "display_data"
        },
        {
          "data": {
            "text/html": [
              " View run at <a href='https://wandb.ai/bgorai005-iit-madras/deep_learning_assignment_1/runs/9qy5zzua' target=\"_blank\">https://wandb.ai/bgorai005-iit-madras/deep_learning_assignment_1/runs/9qy5zzua</a>"
            ],
            "text/plain": [
              "<IPython.core.display.HTML object>"
            ]
          },
          "metadata": {},
          "output_type": "display_data"
        },
        {
          "metadata": {
            "tags": null
          },
          "name": "stdout",
          "output_type": "stream",
          "text": [
            "[784, 32, 32, 32, 32, 32, 10]\n",
            "Epoch 1, Train Loss: 0.023402130635453666, Val Loss: 0.024311250978709616\n",
            "Epoch 2, Train Loss: 0.019367591084905864, Val Loss: 0.02033448946067587\n",
            "Epoch 3, Train Loss: 0.01850376414114034, Val Loss: 0.01975258638269242\n",
            "Epoch 4, Train Loss: 0.01752157922956936, Val Loss: 0.01937060598017987\n",
            "Epoch 5, Train Loss: 0.0162542151113874, Val Loss: 0.0183001566685873\n",
            "Test accuracy: 0.8635\n"
          ]
        },
        {
          "data": {
            "text/html": [],
            "text/plain": [
              "<IPython.core.display.HTML object>"
            ]
          },
          "metadata": {},
          "output_type": "display_data"
        },
        {
          "data": {
            "text/html": [
              "<br>    <style><br>        .wandb-row {<br>            display: flex;<br>            flex-direction: row;<br>            flex-wrap: wrap;<br>            justify-content: flex-start;<br>            width: 100%;<br>        }<br>        .wandb-col {<br>            display: flex;<br>            flex-direction: column;<br>            flex-basis: 100%;<br>            flex: 1;<br>            padding: 10px;<br>        }<br>    </style><br><div class=\"wandb-row\"><div class=\"wandb-col\"><h3>Run history:</h3><br/><table class=\"wandb\"><tr><td>epoch</td><td>▁▃▅▆█</td></tr><tr><td>train_accuracy</td><td>▁▅▆▇█</td></tr><tr><td>train_loss</td><td>█▄▃▂▁</td></tr><tr><td>val_accuracy</td><td>▁▆▆▇█</td></tr><tr><td>val_loss</td><td>█▃▃▂▁</td></tr></table><br/></div><div class=\"wandb-col\"><h3>Run summary:</h3><br/><table class=\"wandb\"><tr><td>epoch</td><td>5</td></tr><tr><td>train_accuracy</td><td>88.67037</td></tr><tr><td>train_loss</td><td>0.01625</td></tr><tr><td>val_accuracy</td><td>87.36667</td></tr><tr><td>val_loss</td><td>0.0183</td></tr></table><br/></div></div>"
            ],
            "text/plain": [
              "<IPython.core.display.HTML object>"
            ]
          },
          "metadata": {},
          "output_type": "display_data"
        },
        {
          "data": {
            "text/html": [
              " View run <strong style=\"color:#cdcd00\">ac-tanh_hs-32_epc-5_nl-5_lr0.0001_wd-0_opt-momentum_bs-32_wi-Xavier</strong> at: <a href='https://wandb.ai/bgorai005-iit-madras/deep_learning_assignment_1/runs/9qy5zzua' target=\"_blank\">https://wandb.ai/bgorai005-iit-madras/deep_learning_assignment_1/runs/9qy5zzua</a><br> View project at: <a href='https://wandb.ai/bgorai005-iit-madras/deep_learning_assignment_1' target=\"_blank\">https://wandb.ai/bgorai005-iit-madras/deep_learning_assignment_1</a><br>Synced 5 W&B file(s), 0 media file(s), 0 artifact file(s) and 0 other file(s)"
            ],
            "text/plain": [
              "<IPython.core.display.HTML object>"
            ]
          },
          "metadata": {},
          "output_type": "display_data"
        },
        {
          "data": {
            "text/html": [
              "Find logs at: <code>./wandb/run-20250309_184139-9qy5zzua/logs</code>"
            ],
            "text/plain": [
              "<IPython.core.display.HTML object>"
            ]
          },
          "metadata": {},
          "output_type": "display_data"
        },
        {
          "metadata": {
            "tags": null
          },
          "name": "stderr",
          "output_type": "stream",
          "text": [
            "\u001b[34m\u001b[1mwandb\u001b[0m: Agent Starting Run: nzabznsc with config:\n",
            "\u001b[34m\u001b[1mwandb\u001b[0m: \tactivation_hidden: sigmoid\n",
            "\u001b[34m\u001b[1mwandb\u001b[0m: \tactivation_output: softmax\n",
            "\u001b[34m\u001b[1mwandb\u001b[0m: \tbatch_size: 32\n",
            "\u001b[34m\u001b[1mwandb\u001b[0m: \tepochs: 10\n",
            "\u001b[34m\u001b[1mwandb\u001b[0m: \thidden_size: 32\n",
            "\u001b[34m\u001b[1mwandb\u001b[0m: \tlearning_rate: 0.001\n",
            "\u001b[34m\u001b[1mwandb\u001b[0m: \tnum_layers: 5\n",
            "\u001b[34m\u001b[1mwandb\u001b[0m: \toptimizer: adam\n",
            "\u001b[34m\u001b[1mwandb\u001b[0m: \tweight_decay: 0\n",
            "\u001b[34m\u001b[1mwandb\u001b[0m: \tweight_ini_method: random\n"
          ]
        },
        {
          "data": {
            "text/html": [
              "Tracking run with wandb version 0.19.7"
            ],
            "text/plain": [
              "<IPython.core.display.HTML object>"
            ]
          },
          "metadata": {},
          "output_type": "display_data"
        },
        {
          "data": {
            "text/html": [
              "Run data is saved locally in <code>/content/wandb/run-20250309_184231-nzabznsc</code>"
            ],
            "text/plain": [
              "<IPython.core.display.HTML object>"
            ]
          },
          "metadata": {},
          "output_type": "display_data"
        },
        {
          "data": {
            "text/html": [
              "Syncing run <strong><a href='https://wandb.ai/bgorai005-iit-madras/deep_learning_assignment_1/runs/nzabznsc' target=\"_blank\">young-sweep-82</a></strong> to <a href='https://wandb.ai/bgorai005-iit-madras/deep_learning_assignment_1' target=\"_blank\">Weights & Biases</a> (<a href='https://wandb.me/developer-guide' target=\"_blank\">docs</a>)<br>Sweep page: <a href='https://wandb.ai/bgorai005-iit-madras/deep_learning_assignment_1/sweeps/xd33zmtu' target=\"_blank\">https://wandb.ai/bgorai005-iit-madras/deep_learning_assignment_1/sweeps/xd33zmtu</a>"
            ],
            "text/plain": [
              "<IPython.core.display.HTML object>"
            ]
          },
          "metadata": {},
          "output_type": "display_data"
        },
        {
          "data": {
            "text/html": [
              " View project at <a href='https://wandb.ai/bgorai005-iit-madras/deep_learning_assignment_1' target=\"_blank\">https://wandb.ai/bgorai005-iit-madras/deep_learning_assignment_1</a>"
            ],
            "text/plain": [
              "<IPython.core.display.HTML object>"
            ]
          },
          "metadata": {},
          "output_type": "display_data"
        },
        {
          "data": {
            "text/html": [
              " View sweep at <a href='https://wandb.ai/bgorai005-iit-madras/deep_learning_assignment_1/sweeps/xd33zmtu' target=\"_blank\">https://wandb.ai/bgorai005-iit-madras/deep_learning_assignment_1/sweeps/xd33zmtu</a>"
            ],
            "text/plain": [
              "<IPython.core.display.HTML object>"
            ]
          },
          "metadata": {},
          "output_type": "display_data"
        },
        {
          "data": {
            "text/html": [
              " View run at <a href='https://wandb.ai/bgorai005-iit-madras/deep_learning_assignment_1/runs/nzabznsc' target=\"_blank\">https://wandb.ai/bgorai005-iit-madras/deep_learning_assignment_1/runs/nzabznsc</a>"
            ],
            "text/plain": [
              "<IPython.core.display.HTML object>"
            ]
          },
          "metadata": {},
          "output_type": "display_data"
        },
        {
          "metadata": {
            "tags": null
          },
          "name": "stdout",
          "output_type": "stream",
          "text": [
            "[784, 32, 32, 32, 32, 32, 10]\n",
            "Epoch 1, Train Loss: 0.03153371378769183, Val Loss: 0.03232628952685628\n",
            "Epoch 2, Train Loss: 0.027623224974935887, Val Loss: 0.02838053815375849\n",
            "Epoch 3, Train Loss: 0.025538083684963676, Val Loss: 0.026922720660781628\n",
            "Epoch 4, Train Loss: 0.024418083938117775, Val Loss: 0.025999338489116557\n",
            "Epoch 5, Train Loss: 0.023685929419030652, Val Loss: 0.025412236601029297\n",
            "Epoch 6, Train Loss: 0.02288049201540435, Val Loss: 0.024828397066276174\n",
            "Epoch 7, Train Loss: 0.022285739398344044, Val Loss: 0.02425477320132096\n",
            "Epoch 8, Train Loss: 0.021625764767441387, Val Loss: 0.023754696799432748\n",
            "Epoch 9, Train Loss: 0.021334646623412824, Val Loss: 0.02350316100020739\n",
            "Epoch 10, Train Loss: 0.021015176657537726, Val Loss: 0.022974497485068315\n",
            "Test accuracy: 0.8281\n"
          ]
        },
        {
          "data": {
            "text/html": [],
            "text/plain": [
              "<IPython.core.display.HTML object>"
            ]
          },
          "metadata": {},
          "output_type": "display_data"
        },
        {
          "data": {
            "text/html": [
              "<br>    <style><br>        .wandb-row {<br>            display: flex;<br>            flex-direction: row;<br>            flex-wrap: wrap;<br>            justify-content: flex-start;<br>            width: 100%;<br>        }<br>        .wandb-col {<br>            display: flex;<br>            flex-direction: column;<br>            flex-basis: 100%;<br>            flex: 1;<br>            padding: 10px;<br>        }<br>    </style><br><div class=\"wandb-row\"><div class=\"wandb-col\"><h3>Run history:</h3><br/><table class=\"wandb\"><tr><td>epoch</td><td>▁▂▃▃▄▅▆▆▇█</td></tr><tr><td>train_accuracy</td><td>▁▄▅▆▆▇▇███</td></tr><tr><td>train_loss</td><td>█▅▄▃▃▂▂▁▁▁</td></tr><tr><td>val_accuracy</td><td>▁▄▅▆▆▇▇███</td></tr><tr><td>val_loss</td><td>█▅▄▃▃▂▂▂▁▁</td></tr></table><br/></div><div class=\"wandb-col\"><h3>Run summary:</h3><br/><table class=\"wandb\"><tr><td>epoch</td><td>10</td></tr><tr><td>train_accuracy</td><td>85.15556</td></tr><tr><td>train_loss</td><td>0.02102</td></tr><tr><td>val_accuracy</td><td>83.78333</td></tr><tr><td>val_loss</td><td>0.02297</td></tr></table><br/></div></div>"
            ],
            "text/plain": [
              "<IPython.core.display.HTML object>"
            ]
          },
          "metadata": {},
          "output_type": "display_data"
        },
        {
          "data": {
            "text/html": [
              " View run <strong style=\"color:#cdcd00\">ac-sigmoid_hs-32_epc-10_nl-5_lr0.001_wd-0_opt-adam_bs-32_wi-random</strong> at: <a href='https://wandb.ai/bgorai005-iit-madras/deep_learning_assignment_1/runs/nzabznsc' target=\"_blank\">https://wandb.ai/bgorai005-iit-madras/deep_learning_assignment_1/runs/nzabznsc</a><br> View project at: <a href='https://wandb.ai/bgorai005-iit-madras/deep_learning_assignment_1' target=\"_blank\">https://wandb.ai/bgorai005-iit-madras/deep_learning_assignment_1</a><br>Synced 5 W&B file(s), 0 media file(s), 0 artifact file(s) and 0 other file(s)"
            ],
            "text/plain": [
              "<IPython.core.display.HTML object>"
            ]
          },
          "metadata": {},
          "output_type": "display_data"
        },
        {
          "data": {
            "text/html": [
              "Find logs at: <code>./wandb/run-20250309_184231-nzabznsc/logs</code>"
            ],
            "text/plain": [
              "<IPython.core.display.HTML object>"
            ]
          },
          "metadata": {},
          "output_type": "display_data"
        },
        {
          "metadata": {
            "tags": null
          },
          "name": "stderr",
          "output_type": "stream",
          "text": [
            "\u001b[34m\u001b[1mwandb\u001b[0m: Agent Starting Run: sok4znvh with config:\n",
            "\u001b[34m\u001b[1mwandb\u001b[0m: \tactivation_hidden: sigmoid\n",
            "\u001b[34m\u001b[1mwandb\u001b[0m: \tactivation_output: softmax\n",
            "\u001b[34m\u001b[1mwandb\u001b[0m: \tbatch_size: 32\n",
            "\u001b[34m\u001b[1mwandb\u001b[0m: \tepochs: 10\n",
            "\u001b[34m\u001b[1mwandb\u001b[0m: \thidden_size: 32\n",
            "\u001b[34m\u001b[1mwandb\u001b[0m: \tlearning_rate: 0.001\n",
            "\u001b[34m\u001b[1mwandb\u001b[0m: \tnum_layers: 5\n",
            "\u001b[34m\u001b[1mwandb\u001b[0m: \toptimizer: nadam\n",
            "\u001b[34m\u001b[1mwandb\u001b[0m: \tweight_decay: 0\n",
            "\u001b[34m\u001b[1mwandb\u001b[0m: \tweight_ini_method: Xavier\n"
          ]
        },
        {
          "data": {
            "text/html": [
              "Tracking run with wandb version 0.19.7"
            ],
            "text/plain": [
              "<IPython.core.display.HTML object>"
            ]
          },
          "metadata": {},
          "output_type": "display_data"
        },
        {
          "data": {
            "text/html": [
              "Run data is saved locally in <code>/content/wandb/run-20250309_184353-sok4znvh</code>"
            ],
            "text/plain": [
              "<IPython.core.display.HTML object>"
            ]
          },
          "metadata": {},
          "output_type": "display_data"
        },
        {
          "data": {
            "text/html": [
              "Syncing run <strong><a href='https://wandb.ai/bgorai005-iit-madras/deep_learning_assignment_1/runs/sok4znvh' target=\"_blank\">proud-sweep-83</a></strong> to <a href='https://wandb.ai/bgorai005-iit-madras/deep_learning_assignment_1' target=\"_blank\">Weights & Biases</a> (<a href='https://wandb.me/developer-guide' target=\"_blank\">docs</a>)<br>Sweep page: <a href='https://wandb.ai/bgorai005-iit-madras/deep_learning_assignment_1/sweeps/xd33zmtu' target=\"_blank\">https://wandb.ai/bgorai005-iit-madras/deep_learning_assignment_1/sweeps/xd33zmtu</a>"
            ],
            "text/plain": [
              "<IPython.core.display.HTML object>"
            ]
          },
          "metadata": {},
          "output_type": "display_data"
        },
        {
          "data": {
            "text/html": [
              " View project at <a href='https://wandb.ai/bgorai005-iit-madras/deep_learning_assignment_1' target=\"_blank\">https://wandb.ai/bgorai005-iit-madras/deep_learning_assignment_1</a>"
            ],
            "text/plain": [
              "<IPython.core.display.HTML object>"
            ]
          },
          "metadata": {},
          "output_type": "display_data"
        },
        {
          "data": {
            "text/html": [
              " View sweep at <a href='https://wandb.ai/bgorai005-iit-madras/deep_learning_assignment_1/sweeps/xd33zmtu' target=\"_blank\">https://wandb.ai/bgorai005-iit-madras/deep_learning_assignment_1/sweeps/xd33zmtu</a>"
            ],
            "text/plain": [
              "<IPython.core.display.HTML object>"
            ]
          },
          "metadata": {},
          "output_type": "display_data"
        },
        {
          "data": {
            "text/html": [
              " View run at <a href='https://wandb.ai/bgorai005-iit-madras/deep_learning_assignment_1/runs/sok4znvh' target=\"_blank\">https://wandb.ai/bgorai005-iit-madras/deep_learning_assignment_1/runs/sok4znvh</a>"
            ],
            "text/plain": [
              "<IPython.core.display.HTML object>"
            ]
          },
          "metadata": {},
          "output_type": "display_data"
        },
        {
          "metadata": {
            "tags": null
          },
          "name": "stdout",
          "output_type": "stream",
          "text": [
            "[784, 32, 32, 32, 32, 32, 10]\n",
            "Epoch 1, Loss: 0.12496333735049983, Validation Loss: 0.91768380945845\n",
            "Epoch 2, Loss: 0.13652955215540094, Validation Loss: 0.7005063410632925\n",
            "Epoch 3, Loss: 0.14865221676925458, Validation Loss: 0.5189934410091203\n",
            "Epoch 4, Loss: 0.15511243515238576, Validation Loss: 0.4558383029617519\n",
            "Epoch 5, Loss: 0.15622939042610665, Validation Loss: 0.4293738441698732\n",
            "Epoch 6, Loss: 0.15780663306761541, Validation Loss: 0.4056539057177651\n",
            "Epoch 7, Loss: 0.15978209124026563, Validation Loss: 0.4283074478111444\n",
            "Epoch 8, Loss: 0.1605777948930568, Validation Loss: 0.4054496005621632\n",
            "Epoch 9, Loss: 0.16142938055545672, Validation Loss: 0.3873139468634437\n",
            "Epoch 10, Loss: 0.16132195482723394, Validation Loss: 0.37938014327349945\n",
            " accuracy: 0.8616\n"
          ]
        },
        {
          "data": {
            "text/html": [],
            "text/plain": [
              "<IPython.core.display.HTML object>"
            ]
          },
          "metadata": {},
          "output_type": "display_data"
        },
        {
          "data": {
            "text/html": [
              " View run <strong style=\"color:#cdcd00\">ac-sigmoid_hs-32_epc-10_nl-5_lr0.001_wd-0_opt-nadam_bs-32_wi-Xavier</strong> at: <a href='https://wandb.ai/bgorai005-iit-madras/deep_learning_assignment_1/runs/sok4znvh' target=\"_blank\">https://wandb.ai/bgorai005-iit-madras/deep_learning_assignment_1/runs/sok4znvh</a><br> View project at: <a href='https://wandb.ai/bgorai005-iit-madras/deep_learning_assignment_1' target=\"_blank\">https://wandb.ai/bgorai005-iit-madras/deep_learning_assignment_1</a><br>Synced 5 W&B file(s), 0 media file(s), 0 artifact file(s) and 0 other file(s)"
            ],
            "text/plain": [
              "<IPython.core.display.HTML object>"
            ]
          },
          "metadata": {},
          "output_type": "display_data"
        },
        {
          "data": {
            "text/html": [
              "Find logs at: <code>./wandb/run-20250309_184353-sok4znvh/logs</code>"
            ],
            "text/plain": [
              "<IPython.core.display.HTML object>"
            ]
          },
          "metadata": {},
          "output_type": "display_data"
        }
      ]
    },
    {
      "cell_type": "code",
      "source": [
        "#Q 10 : download the mnist dataset and run this data set of three recomendation of best models obtain after hyper parameter search.\n"
      ],
      "metadata": {
        "id": "HHG6XtheBcht"
      },
      "execution_count": null,
      "outputs": []
    },
    {
      "cell_type": "code",
      "source": [
        "from keras.datasets import mnist\n",
        "(train_x1,train_y1),(test_x1,test_y1)=mnist.load_data()\n",
        "\n",
        "x1_train,y1_train,x1_val,y1_val,x1_test,y_test=tranform_dataset(train_x1,train_y1,test_x1,test_y1)"
      ],
      "metadata": {
        "id": "miW34T7O7aFD"
      },
      "execution_count": 75,
      "outputs": []
    },
    {
      "cell_type": "code",
      "source": [
        "#  optimizer redefined for recommendation and see the accuracy (code is almost same as before only here i remove the wandb log)\n",
        "def re_mgd(lr, momentum, x_train, y_train, x_val, y_val, batch_size, num_layers, hidden_size, active_fun_hidden, active_fun_output, weight_ini_method, weight_decay, epochs, loss_function='cross_entropy'):\n",
        "    theta = initial_weight(num_layers, hidden_size, weight_ini_method)\n",
        "    train_loss_history = []\n",
        "    val_loss_history = []\n",
        "\n",
        "    # Initialize velocity terms for weights and biases\n",
        "    velocity = {}\n",
        "    for i in range(1, num_layers + 2):\n",
        "        velocity[f'W{i}'] = np.zeros_like(theta[f'W{i}'])\n",
        "        velocity[f'b{i}'] = np.zeros_like(theta[f'b{i}'])\n",
        "\n",
        "    for epoch in range(epochs):\n",
        "        # Shuffle training data\n",
        "        indices = np.arange(x_train.shape[0])\n",
        "        np.random.shuffle(indices)\n",
        "        x_train = x_train[indices]\n",
        "        y_train = y_train[indices]\n",
        "\n",
        "        # Mini-batch training\n",
        "        for i in range(0, x_train.shape[0], batch_size):\n",
        "            x_batch = x_train[i:i + batch_size]\n",
        "            y_batch = y_train[i:i + batch_size]\n",
        "\n",
        "            # Compute gradients\n",
        "            grad = back_prop(x_batch, y_batch, theta, active_fun_hidden, active_fun_output, num_layers)\n",
        "\n",
        "            # Update weights and biases using momentum\n",
        "            for j in range(1, num_layers + 2):\n",
        "                velocity[f'W{j}'] = momentum * velocity[f'W{j}'] + grad[f'W{j}']\n",
        "                velocity[f'b{j}'] = momentum * velocity[f'b{j}'] + grad[f'b{j}']\n",
        "\n",
        "                theta[f'W{j}'] -= lr * (velocity[f'W{j}'] + weight_decay * theta[f'W{j}'])\n",
        "                theta[f'b{j}'] -= lr * velocity[f'b{j}']\n",
        "\n",
        "        # Compute the train accuracy\n",
        "        train_accuracy = cal_accuracy(x_train, y_train, theta, active_fun_hidden, active_fun_output, num_layers)\n",
        "\n",
        "        # Compute and store training loss\n",
        "        _, _, y_train_pred = forward_prop(x_train, theta, active_fun_hidden, active_fun_output, num_layers)\n",
        "        train_loss = cross_entropy(y_train, y_train_pred) if loss_function == 'cross_entropy' else mse_loss(y_train, y_train_pred)\n",
        "        train_loss_history.append(train_loss)\n",
        "\n",
        "        # Compute the validation accuracy\n",
        "        validation_accuracy = cal_accuracy(x_val, y_val, theta, active_fun_hidden, active_fun_output, num_layers)\n",
        "\n",
        "        # Compute and store validation loss\n",
        "        _, _, y_val_pred = forward_prop(x_val, theta, active_fun_hidden, active_fun_output, num_layers)\n",
        "        val_loss = cross_entropy(y_val, y_val_pred) if loss_function == 'cross_entropy' else mse_loss(y_val, y_val_pred)\n",
        "        val_loss_history.append(val_loss)\n",
        "\n",
        "        print(f\"Epoch {epoch+1}, Train Loss: {train_loss}, Val Loss: {val_loss},Validation acuuracy:{validation_accuracy}\")\n",
        "\n",
        "\n",
        "\n",
        "    print(f'Validation accuracy: {validation_accuracy*100}')\n",
        "    return theta\n",
        "\n",
        "def re_adam(lr, beta1, beta2, epsilon, x_train, y_train, x_val, y_val, batch_size, num_layers, hidden_size, active_fun_hidden, active_fun_output, weight_ini_method, weight_decay, epochs, loss_function='cross_entropy'):\n",
        "    theta = initial_weight(num_layers, hidden_size, weight_ini_method)\n",
        "    train_loss_history = []\n",
        "    val_loss_history = []\n",
        "\n",
        "    # Initialize first moment (m) and second moment (v) dictionaries with zeros\n",
        "    m = {key: np.zeros_like(theta[key]) for key in theta.keys()}\n",
        "    v = {key: np.zeros_like(theta[key]) for key in theta.keys()}\n",
        "\n",
        "    for epoch in range(1, epochs + 1):\n",
        "        # Shuffle training data\n",
        "        indices = np.arange(x_train.shape[0])\n",
        "        np.random.shuffle(indices)\n",
        "        x_train = x_train[indices]\n",
        "        y_train = y_train[indices]\n",
        "\n",
        "        for i in range(0, x_train.shape[0], batch_size):\n",
        "            x_batch = x_train[i:i + batch_size]\n",
        "            y_batch = y_train[i:i + batch_size]\n",
        "\n",
        "            # Compute gradients using backpropagation\n",
        "            grad = back_prop(x_batch, y_batch, theta, active_fun_hidden, active_fun_output, num_layers)\n",
        "\n",
        "            # Update first and second moment estimates and parameters with Adam\n",
        "            for k in range(1, num_layers + 2):\n",
        "                m[f'W{k}'] = beta1 * m[f'W{k}'] + (1 - beta1) * grad[f'W{k}']\n",
        "                m[f'b{k}'] = beta1 * m[f'b{k}'] + (1 - beta1) * grad[f'b{k}']\n",
        "\n",
        "                v[f'W{k}'] = beta2 * v[f'W{k}'] + (1 - beta2) * (grad[f'W{k}'] ** 2)\n",
        "                v[f'b{k}'] = beta2 * v[f'b{k}'] + (1 - beta2) * (grad[f'b{k}'] ** 2)\n",
        "\n",
        "                m_hat_W = m[f'W{k}'] / (1 - beta1 ** epoch)\n",
        "                m_hat_b = m[f'b{k}'] / (1 - beta1 ** epoch)\n",
        "                v_hat_W = v[f'W{k}'] / (1 - beta2 ** epoch)\n",
        "                v_hat_b = v[f'b{k}'] / (1 - beta2 ** epoch)\n",
        "\n",
        "                theta[f'W{k}'] -= lr * (m_hat_W / (np.sqrt(v_hat_W) + epsilon) + weight_decay * theta[f'W{k}'])\n",
        "                theta[f'b{k}'] -= lr * m_hat_b / (np.sqrt(v_hat_b) + epsilon)\n",
        "\n",
        "        train_accuracy = cal_accuracy(x_train, y_train, theta, active_fun_hidden, active_fun_output, num_layers)\n",
        "\n",
        "        _, _, y_train_pred = forward_prop(x_train, theta, active_fun_hidden, active_fun_output, num_layers)\n",
        "        train_loss = cross_entropy(y_train, y_train_pred) if loss_function == 'cross_entropy' else mse_loss(y_train, y_train_pred)\n",
        "        train_loss_history.append(train_loss)\n",
        "\n",
        "        validation_accuracy = cal_accuracy(x_val, y_val, theta, active_fun_hidden, active_fun_output, num_layers)\n",
        "\n",
        "        _, _, y_val_pred = forward_prop(x_val, theta, active_fun_hidden, active_fun_output, num_layers)\n",
        "        val_loss = cross_entropy(y_val, y_val_pred) if loss_function == 'cross_entropy' else mse_loss(y_val, y_val_pred)\n",
        "        val_loss_history.append(val_loss)\n",
        "\n",
        "        print(f\"Epoch {epoch}, Train Loss: {train_loss}, Val Loss: {val_loss},Validation acuuracy:{validation_accuracy}\")\n",
        "\n",
        "    print(f'Validation accuracy: {validation_accuracy*100}')\n",
        "    return theta\n",
        "\n",
        "\n",
        "\n",
        "def re_nadam(lr, beta1, beta2, epsilon, x, y, x_val, y_val, batch_size, num_layers, hidden_size, active_fun_hidden, active_fun_output, weight_ini_method, weight_decay,epochs,loss_function='cross_entropy'):\n",
        "    # Initialize network parameters\n",
        "    theta = initial_weight(num_layers, hidden_size, weight_ini_method)\n",
        "\n",
        "    # Initialize first moment (m) and second moment (v) dictionaries with zeros\n",
        "    m = {key: np.zeros_like(theta[key]) for key in theta.keys()}\n",
        "    v = {key: np.zeros_like(theta[key]) for key in theta.keys()}\n",
        "\n",
        "    # Lists to store loss history\n",
        "    loss_history = []\n",
        "    val_loss_history = []\n",
        "\n",
        "    # Training loop over epochs\n",
        "    for epoch in range(1, epochs + 1):\n",
        "        # Shuffle training data\n",
        "        indices = np.arange(x.shape[0])\n",
        "        np.random.shuffle(indices)\n",
        "        x = x[indices]\n",
        "        y = y[indices]\n",
        "\n",
        "        for i in range(0, x.shape[0], batch_size):\n",
        "            x_batch = x[i:i + batch_size]\n",
        "            y_batch = y[i:i + batch_size]\n",
        "\n",
        "            # Compute gradients using backpropagation\n",
        "            grad = back_prop(x_batch, y_batch, theta, active_fun_hidden, active_fun_output, num_layers)\n",
        "\n",
        "            # Update first and second moment estimates and parameters with Nadam\n",
        "            for k in range(1, num_layers + 2):\n",
        "                # Update biased first moment estimate\n",
        "                m[f'W{k}'] = beta1 * m[f'W{k}'] + (1 - beta1) * grad[f'W{k}']\n",
        "                m[f'b{k}'] = beta1 * m[f'b{k}'] + (1 - beta1) * grad[f'b{k}']\n",
        "\n",
        "                # Update biased second moment estimate\n",
        "                v[f'W{k}'] = beta2 * v[f'W{k}'] + (1 - beta2) * (grad[f'W{k}'] ** 2)\n",
        "                v[f'b{k}'] = beta2 * v[f'b{k}'] + (1 - beta2) * (grad[f'b{k}'] ** 2)\n",
        "\n",
        "                # Compute bias-corrected first and second moment estimates with Nesterov acceleration\n",
        "                m_hat_W = (beta1 * m[f'W{k}'] + (1 - beta1) * grad[f'W{k}']) / (1 - beta1 ** epoch)\n",
        "                m_hat_b = (beta1 * m[f'b{k}'] + (1 - beta1) * grad[f'b{k}']) / (1 - beta1 ** epoch)\n",
        "                v_hat_W = v[f'W{k}'] / (1 - beta2 ** epoch)\n",
        "                v_hat_b = v[f'b{k}'] / (1 - beta2 ** epoch)\n",
        "\n",
        "                # Update weights and biases\n",
        "                theta[f'W{k}'] -= lr*(m_hat_W / (np.sqrt(v_hat_W) + epsilon) + weight_decay * theta[f'W{k}'])\n",
        "                theta[f'b{k}'] -= lr * m_hat_b / (np.sqrt(v_hat_b) + epsilon)\n",
        "\n",
        "        #compute the train accuracy\n",
        "        train_accuracy=cal_accuracy(x_train,y_train,theta,active_fun_hidden,active_fun_output,num_layers)\n",
        "\n",
        "        # Compute training loss and predictions\n",
        "        _, _, y_pred = forward_prop(x, theta, active_fun_hidden, active_fun_output, num_layers)\n",
        "        train_loss = cross_entropy(y_train, y_pred) if loss_function == 'cross_entropy' else mse_loss(y_train, y_pred)\n",
        "        loss_history.append(train_loss)\n",
        "\n",
        "        #compute the validation accuracy\n",
        "        validation_accuracy=cal_accuracy(x_val,y_val,theta,active_fun_hidden,active_fun_output,num_layers)\n",
        "\n",
        "\n",
        "        # Compute validation loss\n",
        "        _, _, y_val_pred = forward_prop(x_val, theta, active_fun_hidden, active_fun_output, num_layers)\n",
        "        val_loss = cross_entropy(y_val, y_val_pred)\n",
        "        val_loss_history.append(val_loss)\n",
        "\n",
        "        # Print loss for monitoring\n",
        "        print(f\"Epoch {epoch}, Loss: {train_loss}, Validation Loss: {val_loss},Validation acuuracy:{validation_accuracy}\")\n",
        "\n",
        "\n",
        "    print(f'Training accuracy: {train_accuracy*100}')\n",
        "    print(f'Validation accuracy: {validation_accuracy*100}')\n",
        "\n",
        "    return theta\n",
        "\n",
        "\n"
      ],
      "metadata": {
        "id": "hzREupe06ABj"
      },
      "execution_count": 87,
      "outputs": []
    },
    {
      "cell_type": "code",
      "source": [
        "#1st recomendation\n",
        "\n",
        "theta=re_nadam(0.001,0.9,0.99,1e-8,x1_train,y1_train,x1_val,y1_val,64,5,64,'relu','softmax','Xavier',0,10)"
      ],
      "metadata": {
        "id": "f5XdKr5R7xav",
        "outputId": "2a8ab232-6d02-4287-93f7-8c69a2daac01",
        "colab": {
          "base_uri": "https://localhost:8080/"
        }
      },
      "execution_count": 89,
      "outputs": [
        {
          "output_type": "stream",
          "name": "stdout",
          "text": [
            "[784, 64, 64, 64, 64, 64, 10]\n",
            "Epoch 1, Loss: 8.976133395654726, Validation Loss: 0.1511022798055648,Validation acuuracy:0.9558333333333333\n",
            "Epoch 2, Loss: 10.641843708560577, Validation Loss: 0.1054675573068786,Validation acuuracy:0.9678333333333333\n",
            "Epoch 3, Loss: 11.612914306729044, Validation Loss: 0.11063386202052453,Validation acuuracy:0.9651666666666666\n",
            "Epoch 4, Loss: 12.07860528743294, Validation Loss: 0.08969206395331672,Validation acuuracy:0.975\n",
            "Epoch 5, Loss: 13.668289047061473, Validation Loss: 0.09347032927661313,Validation acuuracy:0.973\n",
            "Epoch 6, Loss: 14.64050957065347, Validation Loss: 0.09285336203942426,Validation acuuracy:0.9745\n",
            "Epoch 7, Loss: 15.046985384588792, Validation Loss: 0.0971923258737286,Validation acuuracy:0.974\n",
            "Epoch 8, Loss: 16.201484170310092, Validation Loss: 0.10434700643875086,Validation acuuracy:0.9733333333333334\n",
            "Epoch 9, Loss: 16.658498151544794, Validation Loss: 0.10002283921119488,Validation acuuracy:0.9741666666666666\n",
            "Epoch 10, Loss: 18.29547292652723, Validation Loss: 0.10718613637700918,Validation acuuracy:0.9755\n",
            "Training accuracy: 5.655555555555555\n",
            "Validation accuracy: 97.55\n"
          ]
        }
      ]
    },
    {
      "cell_type": "code",
      "source": [
        "#2nd recomendation\n",
        "\n",
        "theta=re_adam(0.001,0.9,0.99,1e-8,x1_train,y1_train,x1_val,y1_val,64,5,64,'relu','softmax','Xavier',0,10)"
      ],
      "metadata": {
        "id": "pQhgO0xL7kJN",
        "outputId": "c240b85b-95ff-4a3f-ac08-8af5143ab498",
        "colab": {
          "base_uri": "https://localhost:8080/"
        }
      },
      "execution_count": 85,
      "outputs": [
        {
          "output_type": "stream",
          "name": "stdout",
          "text": [
            "[784, 64, 64, 64, 64, 64, 10]\n",
            "Epoch 1, Train Loss: 0.1293963317743927, Val Loss: 0.14559807296171165,Validation acuuracy:0.9575\n",
            "Epoch 2, Train Loss: 0.08594499051578319, Val Loss: 0.11275851221430186,Validation acuuracy:0.9636666666666667\n",
            "Epoch 3, Train Loss: 0.07821153001438139, Val Loss: 0.11336739258249706,Validation acuuracy:0.9655\n",
            "Epoch 4, Train Loss: 0.05094498462011537, Val Loss: 0.09568946625128905,Validation acuuracy:0.9725\n",
            "Epoch 5, Train Loss: 0.04582583829057265, Val Loss: 0.09241338048542128,Validation acuuracy:0.9738333333333333\n",
            "Epoch 6, Train Loss: 0.041696247234120624, Val Loss: 0.09840150260994136,Validation acuuracy:0.9706666666666667\n",
            "Epoch 7, Train Loss: 0.02585241605081825, Val Loss: 0.08652995392276348,Validation acuuracy:0.9755\n",
            "Epoch 8, Train Loss: 0.022948746316367414, Val Loss: 0.09531410693932017,Validation acuuracy:0.9748333333333333\n",
            "Epoch 9, Train Loss: 0.023371997564286984, Val Loss: 0.09924389480317719,Validation acuuracy:0.9743333333333334\n",
            "Epoch 10, Train Loss: 0.020575373309635173, Val Loss: 0.10005075741956224,Validation acuuracy:0.9755\n",
            "Validation accuracy: 97.55\n"
          ]
        }
      ]
    },
    {
      "cell_type": "code",
      "source": [
        "#3rd recomendation\n",
        "\n",
        "theta=re_mgd(0.001,0.9,x1_train,y1_train,x1_val,y1_val,32,5,32,'relu','softmax','Xavier',0,10)"
      ],
      "metadata": {
        "colab": {
          "base_uri": "https://localhost:8080/"
        },
        "id": "2_Ggcxie-8xv",
        "outputId": "82531e03-f7af-411f-cbf8-8dd3a6e3d1aa"
      },
      "execution_count": 86,
      "outputs": [
        {
          "output_type": "stream",
          "name": "stdout",
          "text": [
            "[784, 32, 32, 32, 32, 32, 10]\n",
            "Epoch 1, Train Loss: 0.25193830441955956, Val Loss: 0.2628768819530346,Validation acuuracy:0.9298333333333333\n",
            "Epoch 2, Train Loss: 0.18896075955956018, Val Loss: 0.21421743302177948,Validation acuuracy:0.943\n",
            "Epoch 3, Train Loss: 0.16750097690447072, Val Loss: 0.18984333279095486,Validation acuuracy:0.9485\n",
            "Epoch 4, Train Loss: 0.13857200435470787, Val Loss: 0.16109399679612568,Validation acuuracy:0.9558333333333333\n",
            "Epoch 5, Train Loss: 0.11976370778902135, Val Loss: 0.15592522664790662,Validation acuuracy:0.9593333333333334\n",
            "Epoch 6, Train Loss: 0.12388340639031327, Val Loss: 0.16729131457503313,Validation acuuracy:0.9565\n",
            "Epoch 7, Train Loss: 0.11329036697525828, Val Loss: 0.14602631484105363,Validation acuuracy:0.9588333333333333\n",
            "Epoch 8, Train Loss: 0.12388561520271561, Val Loss: 0.15866931001404638,Validation acuuracy:0.96\n",
            "Epoch 9, Train Loss: 0.12066509480264347, Val Loss: 0.17031282761583386,Validation acuuracy:0.9561666666666667\n",
            "Epoch 10, Train Loss: 0.09615611901284922, Val Loss: 0.13816977326988478,Validation acuuracy:0.9656666666666667\n",
            "Training accuracy: 0.9734074074074074\n",
            "Validation accuracy: 0.9656666666666667\n"
          ]
        }
      ]
    },
    {
      "cell_type": "code",
      "source": [],
      "metadata": {
        "colab": {
          "base_uri": "https://localhost:8080/",
          "height": 327
        },
        "id": "2wB5tQHELPzF",
        "outputId": "40fc2da8-ac6d-413e-a308-6542b7ab2f05"
      },
      "execution_count": null,
      "outputs": [
        {
          "output_type": "error",
          "ename": "IndexError",
          "evalue": "arrays used as indices must be of integer (or boolean) type",
          "traceback": [
            "\u001b[0;31m---------------------------------------------------------------------------\u001b[0m",
            "\u001b[0;31mIndexError\u001b[0m                                Traceback (most recent call last)",
            "\u001b[0;32m<ipython-input-49-ac4086df25a3>\u001b[0m in \u001b[0;36m<cell line: 0>\u001b[0;34m()\u001b[0m\n\u001b[1;32m      1\u001b[0m \u001b[0;31m#one hot encoder\u001b[0m\u001b[0;34m\u001b[0m\u001b[0;34m\u001b[0m\u001b[0m\n\u001b[0;32m----> 2\u001b[0;31m \u001b[0my_train\u001b[0m\u001b[0;34m=\u001b[0m\u001b[0mone_hot_encode\u001b[0m\u001b[0;34m(\u001b[0m\u001b[0my_train\u001b[0m\u001b[0;34m)\u001b[0m\u001b[0;34m\u001b[0m\u001b[0;34m\u001b[0m\u001b[0m\n\u001b[0m\u001b[1;32m      3\u001b[0m \u001b[0my_test\u001b[0m\u001b[0;34m=\u001b[0m\u001b[0mone_hot_encode\u001b[0m\u001b[0;34m(\u001b[0m\u001b[0my_test\u001b[0m\u001b[0;34m)\u001b[0m\u001b[0;34m\u001b[0m\u001b[0;34m\u001b[0m\u001b[0m\n\u001b[1;32m      4\u001b[0m \u001b[0mtest_y1\u001b[0m\u001b[0;34m=\u001b[0m\u001b[0mone_hot_encode\u001b[0m\u001b[0;34m(\u001b[0m\u001b[0mtest_y1\u001b[0m\u001b[0;34m)\u001b[0m\u001b[0;34m\u001b[0m\u001b[0;34m\u001b[0m\u001b[0m\n",
            "\u001b[0;32m<ipython-input-6-751f197b9670>\u001b[0m in \u001b[0;36mone_hot_encode\u001b[0;34m(labels)\u001b[0m\n\u001b[1;32m      3\u001b[0m     \u001b[0mencoded\u001b[0m \u001b[0;34m=\u001b[0m \u001b[0mnp\u001b[0m\u001b[0;34m.\u001b[0m\u001b[0mzeros\u001b[0m\u001b[0;34m(\u001b[0m\u001b[0;34m(\u001b[0m\u001b[0mlen\u001b[0m\u001b[0;34m(\u001b[0m\u001b[0mlabels\u001b[0m\u001b[0;34m)\u001b[0m\u001b[0;34m,\u001b[0m \u001b[0;36m10\u001b[0m\u001b[0;34m)\u001b[0m\u001b[0;34m)\u001b[0m\u001b[0;34m\u001b[0m\u001b[0;34m\u001b[0m\u001b[0m\n\u001b[1;32m      4\u001b[0m     \u001b[0;32mfor\u001b[0m \u001b[0mi\u001b[0m\u001b[0;34m,\u001b[0m \u001b[0mlabel\u001b[0m \u001b[0;32min\u001b[0m \u001b[0menumerate\u001b[0m\u001b[0;34m(\u001b[0m\u001b[0mlabels\u001b[0m\u001b[0;34m)\u001b[0m\u001b[0;34m:\u001b[0m\u001b[0;34m\u001b[0m\u001b[0;34m\u001b[0m\u001b[0m\n\u001b[0;32m----> 5\u001b[0;31m         \u001b[0mencoded\u001b[0m\u001b[0;34m[\u001b[0m\u001b[0mi\u001b[0m\u001b[0;34m,\u001b[0m \u001b[0mlabel\u001b[0m\u001b[0;34m]\u001b[0m \u001b[0;34m=\u001b[0m \u001b[0;36m1\u001b[0m\u001b[0;34m\u001b[0m\u001b[0;34m\u001b[0m\u001b[0m\n\u001b[0m\u001b[1;32m      6\u001b[0m     \u001b[0;32mreturn\u001b[0m \u001b[0mencoded\u001b[0m\u001b[0;34m\u001b[0m\u001b[0;34m\u001b[0m\u001b[0m\n\u001b[1;32m      7\u001b[0m \u001b[0;34m\u001b[0m\u001b[0m\n",
            "\u001b[0;31mIndexError\u001b[0m: arrays used as indices must be of integer (or boolean) type"
          ]
        }
      ]
    }
  ]
}